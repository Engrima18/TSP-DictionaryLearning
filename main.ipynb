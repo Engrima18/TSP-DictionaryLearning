{
 "cells": [
  {
   "cell_type": "markdown",
   "metadata": {},
   "source": [
    "# b2__generation.py"
   ]
  },
  {
   "cell_type": "code",
   "execution_count": 185,
   "metadata": {},
   "outputs": [],
   "source": [
    "import networkx as nx\n",
    "import numpy as np \n",
    "import random\n",
    "import math \n",
    "from numpy.linalg import matrix_rank\n",
    "from scipy.linalg import qr"
   ]
  },
  {
   "cell_type": "markdown",
   "metadata": {},
   "source": [
    "# My implementation"
   ]
  },
  {
   "cell_type": "code",
   "execution_count": 190,
   "metadata": {},
   "outputs": [],
   "source": [
    "import math\n",
    "from numpy.linalg import qr, matrix_rank\n",
    "\n",
    "def get_adj_en(g):\n",
    "    return nx.adjacency_matrix(g).todense()\n",
    "\n",
    "def get_b1(g):\n",
    "    # g = nx.Graph(a)\n",
    "    return (-1)*nx.incidence_matrix(g, oriented=True).todense()\n",
    "\n",
    "def getCycles(A, max_len=math.inf):\n",
    "    G = nx.DiGraph(A)\n",
    "    cycles = nx.simple_cycles(G)\n",
    "    \n",
    "    seen = set()\n",
    "    final = []\n",
    "    \n",
    "    for cycle in cycles:\n",
    "        # Create a unique identifier for the cycle by sorting and converting to a tuple\n",
    "        cycle_tuple = tuple(sorted(cycle))\n",
    "        if cycle_tuple not in seen and 3 <= len(cycle) <= max_len:\n",
    "            seen.add(cycle_tuple)\n",
    "            final.append(cycle)\n",
    "    \n",
    "    final.sort(key=len)\n",
    "    return final\n",
    "\n",
    "def get_b2(a, p_max_len=math.inf):\n",
    "    G = nx.Graph(a)\n",
    "    E_list = list(G.edges)\n",
    "    All_P = getCycles(a, p_max_len)\n",
    "    cycles = [cycle + [cycle[0]] for cycle in All_P]  # Closing the cycles\n",
    "\n",
    "    # Precompute edge indices for faster lookup\n",
    "    edge_index_map = {edge: i for i, edge in enumerate(E_list)}\n",
    "    \n",
    "    # Initialize the matrix B2\n",
    "    B2 = np.zeros((len(E_list), len(cycles)))\n",
    "    \n",
    "    # Populate B2\n",
    "    for cycle_index, cycle in enumerate(cycles):\n",
    "        for i in range(len(cycle) - 1):\n",
    "            edge = (cycle[i], cycle[i + 1])\n",
    "            edge_reversed = (cycle[i + 1], cycle[i])\n",
    "\n",
    "            # Use edge indices from the map to avoid repeated searches\n",
    "            if edge in edge_index_map:\n",
    "                B2[edge_index_map[edge], cycle_index] = 1\n",
    "            elif edge_reversed in edge_index_map:\n",
    "                B2[edge_index_map[edge_reversed], cycle_index] = -1\n",
    "                \n",
    "    QR = qr(B2, pivoting=True)\n",
    "    rank = matrix_rank(B2)\n",
    "    B2 = B2[:, sorted(QR[2]):rank]\n",
    "    \n",
    "    return B2"
   ]
  },
  {
   "cell_type": "markdown",
   "metadata": {},
   "source": [
    "# Claudio's implementation"
   ]
  }
 ],
 "metadata": {
  "kernelspec": {
   "display_name": "base",
   "language": "python",
   "name": "base"
  },
  "language_info": {
   "codemirror_mode": {
    "name": "ipython",
    "version": 3
   },
   "file_extension": ".py",
   "mimetype": "text/x-python",
   "name": "python",
   "nbconvert_exporter": "python",
   "pygments_lexer": "ipython3",
   "version": "3.9.17"
  }
 },
 "nbformat": 4,
 "nbformat_minor": 2
}
