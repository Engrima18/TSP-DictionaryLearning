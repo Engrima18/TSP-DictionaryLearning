{
 "cells": [
  {
   "cell_type": "markdown",
   "metadata": {},
   "source": [
    "### Init"
   ]
  },
  {
   "cell_type": "code",
   "execution_count": 2,
   "metadata": {},
   "outputs": [],
   "source": [
    "from tsplearn import *\n",
    "import numpy as np \n",
    "import pandas as pd\n",
    "\n",
    "prob_T=0.5\n",
    "\n",
    "# Load the graph\n",
    "G = EnhancedGraph(n=40, p_edges=0.162, p_triangles=prob_T, seed=0)\n",
    "B1 = G.get_b1()\n",
    "B2 = G.get_b2()\n",
    "\n",
    "# Sub-sampling if needed to decrease complexity\n",
    "sub_size = 100\n",
    "B1 = B1[:, :sub_size]\n",
    "B2 = B2[:sub_size, :]\n",
    "B2 = B2[:,np.sum(np.abs(B2), 0) == 3]\n",
    "nu = B2.shape[1] # N2\n",
    "nd = B1.shape[1] # N1\n",
    "T = int(np.ceil(nu*(1-prob_T)))\n",
    "\n",
    "# Laplacians\n",
    "Lu, Ld, L = G.get_laplacians(sub_size=100)\n",
    "Lu_full = G.get_laplacians(sub_size=100, full=True)\n",
    "B2_true = B2@G.mask\n",
    "M =  L.shape[0]\n",
    "\n",
    "\n",
    "# Problem and Dictionary Dimensionalities\n",
    "dictionary_type=\"separated\"\n",
    "m_train = 150 # Number of Train Signals\n",
    "m_test = 80 # Number of Test Signal\n",
    "P = 3 # Number of Kernels (Sub-dictionaries)\n",
    "J = 2 # Polynomial order\n",
    "sparsity = .1 # Sparsity percentage\n",
    "K0_max = 20 #floor(M*sparsity) # Sparsity\n",
    "sparsity_mode = \"max\"\n",
    "n_search = 3000\n",
    "n_sim = 10\n",
    "\n",
    "# Data-Independent Problem Hyperparameters\n",
    "K0_coll = np.arange(5, 26, 4) \n",
    "max_iter = 100 \n",
    "patience = 5 \n",
    "tol = 1e-7 # tolerance for Patience\n",
    "lambda_ = 1e-7 # l2 multiplier\n",
    "verbose = True"
   ]
  },
  {
   "cell_type": "code",
   "execution_count": 3,
   "metadata": {},
   "outputs": [],
   "source": [
    "gen_params={'dictionary_type':dictionary_type,\n",
    "        'm_train':m_train,\n",
    "        'm_test':m_test,\n",
    "        'P':P,\n",
    "        'M':M,\n",
    "        'J':J,\n",
    "        'sparsity':sparsity,\n",
    "        'K0_max':K0_max,\n",
    "        'sparsity_mode':sparsity_mode,\n",
    "        'n_search':n_search,\n",
    "        'n_sim':n_sim,\n",
    "        'prob_T':prob_T}"
   ]
  },
  {
   "cell_type": "code",
   "execution_count": 4,
   "metadata": {},
   "outputs": [],
   "source": [
    "load_data = generate_data(Lu, Ld, **gen_params)\n",
    "\n",
    "D_true = load_data['D_true']\n",
    "Y_train = load_data['Y_train']\n",
    "Y_test = load_data['Y_test']\n",
    "X_train = load_data['X_train']\n",
    "X_test = load_data['X_test']\n",
    "epsilon_true =  load_data['epsilon_true']\n",
    "c_true = load_data['c_true']"
   ]
  },
  {
   "cell_type": "markdown",
   "metadata": {},
   "source": [
    "# Class"
   ]
  },
  {
   "cell_type": "code",
   "execution_count": 5,
   "metadata": {},
   "outputs": [],
   "source": [
    "import scipy.linalg as sla\n",
    "import numpy as np\n",
    "import numpy.linalg as la\n",
    "import cvxpy as cp\n",
    "from tsplearn.tsp_generation import *\n",
    "from typing import Tuple, List, Union, Dict\n",
    "import pickle\n",
    "from functools import wraps\n",
    "from einops import rearrange\n",
    "\n",
    "from lib import * # SeparateHodgelet, SimplicianSlepians\n",
    "\n",
    "\n",
    "def _indicator_matrix(row):\n",
    "    tmp = row.sigma.copy()\n",
    "    tmp[row.idx] = 0\n",
    "    return np.diag(tmp)\n",
    "\n",
    "def _indicator_matrix_rev(row):\n",
    "    tmp = row.sigma.copy()\n",
    "    tmp[row.idx] = 1\n",
    "    return np.diag(tmp)\n",
    "\n",
    "def _compute_Luj(row, b2, J):\n",
    "    Lu = b2 @ row.sigma @ b2.T\n",
    "    Luj = np.array([la.matrix_power(Lu, i) for i in range(1, J + 1)])\n",
    "    return Luj\n",
    "\n",
    "def _split_coeffs(h ,s ,k, sep=False):\n",
    "    h_tmp = h.value.flatten()\n",
    "    # hH = h_tmp[:s,].reshape((s,1))\n",
    "    # hS = h_tmp[s:s*(k+1),].reshape((s,k))\n",
    "    # hI = h_tmp[s*(k+1):,].reshape((s,k))\n",
    "    if sep:\n",
    "        hH = h_tmp[np.arange(0, (s*(2*k+1)), (2*k+1))].reshape((s,1))\n",
    "        hS = h_tmp[np.hstack([[i,i+1] for i in range(1, (s*(2*k+1)), (2*k+1))])].reshape((s,k))\n",
    "        hI = h_tmp[np.hstack([[i,i+1] for i in range((k+1), (s*(2*k+1)), (2*k+1))])].reshape((s,k))\n",
    "        return [hH, hS, hI]\n",
    "    hi = h_tmp[np.arange(0, (s*(k+1)), (k+1))].reshape((s,1))\n",
    "    h = h_tmp[np.hstack([[i,i+1] for i in range(1, (s*(k+1)), (k+1))])].reshape((s,k))\n",
    "    return np.hstack([h, hi])\n",
    "    \n",
    "def sparse_transform(D, K0, Y_te, Y_tr=None):\n",
    "\n",
    "    ep = np.finfo(float).eps # to avoid some underflow problems\n",
    "    dd = la.norm(D, axis=0) + ep\n",
    "    W = np.diag(1. / dd)\n",
    "    Domp = D @ W\n",
    "    X_te = np.apply_along_axis(lambda x: get_omp_coeff(K0, Domp=Domp, col=x), axis=0, arr=Y_te)\n",
    "    # Normalization\n",
    "    X_te = W @ X_te\n",
    "\n",
    "    if np.all(Y_tr == None):\n",
    "\n",
    "        return X_te\n",
    "    \n",
    "    # Same for the training set\n",
    "    X_tr = np.apply_along_axis(lambda x: get_omp_coeff(K0, Domp=Domp, col=x), axis=0, arr=Y_tr)\n",
    "    X_tr = W @ X_tr\n",
    "    \n",
    "    return X_te, X_tr\n",
    "\n",
    "\n",
    "def compute_vandermonde(L, k):\n",
    "    \n",
    "    def polynomial_exp(x, k):\n",
    "        x = x** np.arange(0, k + 1)\n",
    "        return x\n",
    "\n",
    "    eigenvalues, _ = sla.eig(L)\n",
    "    idx = eigenvalues.argsort()\n",
    "    tmp_df = pd.DataFrame({'Eigs': eigenvalues[idx]})\n",
    "    tmp_df['Poly'] = tmp_df['Eigs'].apply(lambda x:  polynomial_exp(x,k))\n",
    "    B = np.vstack(tmp_df['Poly'].to_numpy())\n",
    "\n",
    "    return B\n",
    "\n",
    "\n",
    "def nmse(D, X, Y, m):\n",
    "    return (1/m)* np.sum(la.norm(Y - (D @ X), axis=0)**2 /la.norm(Y, axis=0)**2)\n",
    "\n",
    "class TspSolver:\n",
    "\n",
    "    def __init__(self, X_train, X_test, Y_train, Y_test, *args, **kwargs):\n",
    "\n",
    "        params = {\n",
    "                'P': None,      # Number of Kernels (Sub-dictionaries)\n",
    "                'J': None,      # Polynomial order\n",
    "                'K0': None,     # Sparsity level\n",
    "                'dictionary_type': None,\n",
    "                'c': None,      # spectral control parameter \n",
    "                'epsilon': None,# spectral control parameter\n",
    "                'n': 10,        # number of nodes\n",
    "                'sub_size': None,   # Number of sub-sampled nodes\n",
    "                'prob_T': 1.,   # Ratio of colored triangles\n",
    "                'true_prob_T': 1.,   # True ratio of colored triangles\n",
    "                'p_edges': 1.,  # Probability of edge existence\n",
    "                'seed': None,       ####\n",
    "                'option' : \"One-shot-diffusion\",        ####\n",
    "                'diff_order_sol' : 1,       ####\n",
    "                'diff_order_irr' : 1,       ####\n",
    "                'step_prog' : 1,        ####\n",
    "                'top_k_slepians' : 2        ####\n",
    "                }\n",
    "        \n",
    "        if args:\n",
    "            if len(args) != 1 or not isinstance(args[0], dict):\n",
    "                raise ValueError(\"When using positional arguments, must provide a single dictionary\")\n",
    "            params.update(args[0])\n",
    "\n",
    "        params.update(kwargs)\n",
    "\n",
    "        # Data\n",
    "        self.X_train: np.ndarray = X_train\n",
    "        self.X_test: np.ndarray = X_test\n",
    "        self.Y_train: np.ndarray = Y_train\n",
    "        self.Y_test: np.ndarray = Y_test\n",
    "        self.m_train: int = Y_train.shape[1]\n",
    "        self.m_test: int = Y_test.shape[1]\n",
    "\n",
    "        # Topology and geometry behind data\n",
    "        self.G = EnhancedGraph(n=params['n'],\n",
    "                               p_edges=params['p_edges'], \n",
    "                               p_triangles=params['prob_T'], \n",
    "                               seed=params['seed']) \n",
    "        # Incidence matrices\n",
    "        self.B1: np.ndarray = self.G.get_b1()\n",
    "        self.B2: np.ndarray = self.G.get_b2()\n",
    "\n",
    "        # Sub-sampling if needed to decrease complexity\n",
    "        if params['sub_size'] != None:\n",
    "            self.B1 = self.B1[:, :params['sub_size']]\n",
    "            self.B2 = self.B2[:params['sub_size'], :]\n",
    "            self.B2 = self.B2[:,np.sum(np.abs(self.B2), 0) == 3]\n",
    "        \n",
    "        # Topology dimensions and hyperparameters\n",
    "        self.nu: int = self.B2.shape[1]\n",
    "        self.nd: int = self.B1.shape[1]\n",
    "        self.true_prob_T = params['true_prob_T']\n",
    "        self.T: int = int(np.ceil(self.nu*(1-params['prob_T'])))\n",
    "        self.num_tri = 0\n",
    "\n",
    "        # Laplacians according to the Hodge Theory for cell complexes\n",
    "        Lu, Ld, L = self.G.get_laplacians(sub_size=params['sub_size'])\n",
    "        self.Lu: np.ndarray = Lu                             # Ground-truth upper Laplacian\n",
    "        self.Ld: np.ndarray = Ld                             # Ground-truth lower Laplacian\n",
    "        self.L: np.ndarray = L                               # Ground-truth sum Laplacian\n",
    "        self.Lu_full: np.ndarray = self.G.get_laplacians(sub_size=params['sub_size'], \n",
    "                                                    full=True)\n",
    "        self.M =  L.shape[0]\n",
    "        \n",
    "\n",
    "        # Dictionary hyperparameters\n",
    "        self.P = params['P']                                 # Number of sub-dicts\n",
    "        self.J = params['J']                                 # Polynomial order for the Hodge Laplacian\n",
    "        self.c = params['c']                                 # Hyperparameter for stability in frequency domain\n",
    "        self.epsilon = params['epsilon']                     # Hyperparameter for stability in frequency domain\n",
    "        self.K0 = params['K0']                               # Assumed sparsity level\n",
    "        self.dictionary_type = params['dictionary_type']\n",
    "        # Init optimal values for sparse representations and overcomplete dictionary\n",
    "        self.D_opt: np.ndarray = np.zeros((self.M, self.M*self.P))\n",
    "        self.X_opt_train: np.ndarray = np.zeros(self.X_train.shape)\n",
    "        self.X_opt_test: np.ndarray = np.zeros(self.X_test.shape)\n",
    "        # Init the learning errors and error curve (history)\n",
    "        self.min_error_train = 1e20\n",
    "        self.min_error_test = 1e20\n",
    "        self.history: List[np.ndarray] = []\n",
    "\n",
    "        ############################################################################################################\n",
    "        ##                                                                                                        ##\n",
    "        ##               This section is only for learnable (data-driven) dictionaries                            ##\n",
    "        ##                                                                                                        ##\n",
    "        ############################################################################################################\n",
    "\n",
    "        # Init the dictionary parameters according to the specific parameterization setup\n",
    "        if self.dictionary_type==\"separated\":\n",
    "            hs = np.zeros((self.P,self.J))\n",
    "            hi = np.zeros((self.P,self.J))\n",
    "            hh = np.zeros((self.P,1))\n",
    "            self.h_opt: List[np.ndarray] = [hh,hs,hi]\n",
    "        else:\n",
    "            h = np.zeros((self.P, self.J))\n",
    "            hi = np.zeros((self.P, 1))\n",
    "            self.h_opt: List[np.ndarray] = [hi, h]\n",
    "\n",
    "        # Compute the polynomial extension for the Laplacians and the auxiliary \n",
    "        # \"pseudo-vandermonde\" matrix for the constraints in the quadratic form\n",
    "        if self.dictionary_type == \"joint\":\n",
    "            self.Lj, self.lambda_max_j, self.lambda_min_j = compute_Lj_and_lambdaj(self.L, self.J)\n",
    "            self.B = compute_vandermonde(self.L, self.J).real\n",
    "        elif self.dictionary_type == \"edge_laplacian\":\n",
    "            self.Lj, self.lambda_max_j, self.lambda_min_j = compute_Lj_and_lambdaj(self.Ld, self.J)\n",
    "            self.B = compute_vandermonde(self.Ld, self.J).real\n",
    "        elif  self.dictionary_type == 'separated':\n",
    "            self.Luj, self.lambda_max_u_j, self.lambda_min_u_j = compute_Lj_and_lambdaj(self.Lu, self.J, separated=True)\n",
    "            self.Ldj, self.lambda_max_d_j, self.lambda_min_d_j = compute_Lj_and_lambdaj(self.Ld, self.J, separated=True)\n",
    "            self.Bu = compute_vandermonde(self.Lu, self.J).real\n",
    "            self.Bd = compute_vandermonde(self.Ld, self.J)[:, 1:].real\n",
    "            self.B = np.hstack([self.Bu, self.Bd])\n",
    "\n",
    "        # Auxiliary matrix to define quadratic form dor the dictionary learning step\n",
    "        self.P_aux: np.ndarray = None\n",
    "        # Flag variable: the dictionary is learnable or analytic\n",
    "        self.dict_is_learnable = self.dictionary_type in [\"separated\", \"joint\", \"edge_laplacian\"]\n",
    "\n",
    "        # Auxiliary tools for the Slepians-based dictionary setup\n",
    "        if self.dictionary_type == 'slepians':\n",
    "            self.option = params['option']\n",
    "            self.diff_order_sol = params['diff_order_sol']\n",
    "            self.step_prog = params['step_prog']\n",
    "            self.diff_order_irr = params['diff_order_irr']\n",
    "            self.source_sol = np.ones((self.nd,))\n",
    "            self.source_irr = np.ones((self.nd,))\n",
    "            self.top_K_slepians = params['top_k_slepians']\n",
    "            self.spars_level = list(range(10,80,10))\n",
    "            # Remember that this part should be updated if B2 or Lu are updated!\n",
    "            self.F_sol,self.F_irr = get_frequency_mask(self.B1,self.B2) # Get frequency bands\n",
    "            self.S_neigh, self.complete_coverage = cluster_on_neigh(self.B1,\n",
    "                                                                    self.B2,\n",
    "                                                                    self.diff_order_sol,\n",
    "                                                                    self.diff_order_irr,\n",
    "                                                                    self.source_sol,\n",
    "                                                                    self.source_irr,\n",
    "                                                                    self.option,\n",
    "                                                                    self.step_prog)\n",
    "            self.R = [self.F_sol, self.F_irr]\n",
    "            self.S = self.S_neigh\n",
    "\n",
    "        # Auxiliary tools for the Wavelet-based dictionary setup\n",
    "        elif self.dictionary_type == 'wavelet':\n",
    "            # Remember that this part should be updated if B2 or Lu are updated!\n",
    "            self.w1 = np.linalg.eigvalsh(self.Lu)\n",
    "            self.w2 = np.linalg.eigvalsh(self.Ld)\n",
    "            \n",
    "\n",
    "    # def fit(self) -> Tuple[float, List[np.ndarray], np.ndarray, np.ndarray, np.ndarray, np.ndarray]:\n",
    "    #     min_error_test, _, _, h_opt, X_opt_test, D_opt = self.learn_upper_laplacian()\n",
    "    #     return min_error_test, self.history, params['Lu'], h_opt, X_opt_test, D_opt\n",
    "\n",
    "    def update_Lu(self, Lu_new):\n",
    "        self.Lu = Lu_new\n",
    "        self.Luj, self.lambda_max_u_j, self.lambda_min_u_j = compute_Lj_and_lambdaj(self.Lu, \n",
    "                                                                                    self.J, \n",
    "                                                                                    separated=True)\n",
    "        self.Bu = compute_vandermonde(self.Lu, self.J).real\n",
    "        self.B = np.hstack([self.Bu, self.Bd])\n",
    "\n",
    "    @staticmethod\n",
    "    def _multiplier_search(*arrays, P, c, epsilon):\n",
    "        is_okay = 0\n",
    "        mult = 100\n",
    "        tries = 0\n",
    "        while is_okay==0:\n",
    "            is_okay = 1\n",
    "            h, c_try, _, tmp_sum_min, tmp_sum_max = generate_coeffs(arrays, P=P, mult=mult)\n",
    "            if c_try <= c:\n",
    "                is_okay *= 1\n",
    "            if tmp_sum_min > c-epsilon:\n",
    "                is_okay *= 1\n",
    "                incr_mult = 0\n",
    "            else:\n",
    "                is_okay = is_okay*0\n",
    "                incr_mult = 1\n",
    "            if tmp_sum_max < c+epsilon:\n",
    "                is_okay *= 1\n",
    "                decr_mult = 0\n",
    "            else:\n",
    "                is_okay *= 0\n",
    "                decr_mult = 1\n",
    "            if is_okay == 0:\n",
    "                tries += 1\n",
    "            if tries >3:\n",
    "                discard = 1\n",
    "                break\n",
    "            if incr_mult == 1:\n",
    "                mult *= 2\n",
    "            if decr_mult == 1:\n",
    "                mult /= 2\n",
    "        return h, discard\n",
    "\n",
    "    def init_dict(self,\n",
    "                  h_prior: np.ndarray = None, \n",
    "                  mode: str = \"only_X\") -> Tuple[np.ndarray, np.ndarray]:\n",
    "        \"\"\"\n",
    "        Initialize the dictionary and the signal sparse representation for the alternating\n",
    "        optimization algorithm.\n",
    "\n",
    "        Args:\n",
    "            Lu (np.ndarray): Upper Laplacian matrix\n",
    "            Ld (np.ndarray): Lower Laplacian matrix\n",
    "            P (int): Number of kernels (sub-dictionaries).\n",
    "            J (int): Max order of the polynomial for the single sub-dictionary.\n",
    "            Y_train (np.ndarray): Training data.\n",
    "            K0 (int): Sparsity of the signal representation.\n",
    "            dictionary_type (str): Type of dictionary.\n",
    "            c (float): Boundary constant from the synthetic data generation process.\n",
    "            epsilon (float): Boundary constant from the synthetic data generation process.\n",
    "            only (str): Type of initialization. Can be one of: \"only_X\", \"all\", \"only_D\".\n",
    "\n",
    "        Returns:\n",
    "            Tuple[np.ndarray, np.ndarray, bool]: Initialized dictionary, initialized sparse representation, and discard flag value.\n",
    "        \"\"\"\n",
    "        \n",
    "        # If no prior info on the dictionary\n",
    "        if np.all(h_prior == None):\n",
    "\n",
    "            # Init Dictionary\n",
    "            if (mode in [\"all\",\"only_D\"]):\n",
    "\n",
    "                discard = 1\n",
    "                while discard==1:\n",
    "\n",
    "                    if self.dictionary_type != \"separated\":\n",
    "                        h_prior, discard = self._multiplier_search(self.lambda_max_j, \n",
    "                                                              self.lambda_min_j, \n",
    "                                                              P=self.P, \n",
    "                                                              c=self.c, \n",
    "                                                              epsilon=self.epsilon)\n",
    "                        self.D_opt = generate_dictionary(h_prior, \n",
    "                                                         self.P, \n",
    "                                                         self.Lj)\n",
    "\n",
    "                    else:\n",
    "                        h_prior, discard = self._multiplier_search(self.lambda_max_d_j, \n",
    "                                                              self.lambda_min_d_j, \n",
    "                                                              self.lambda_max_u_j, \n",
    "                                                              self.lambda_min_u_j,\n",
    "                                                              P=self.P, \n",
    "                                                              c=self.c, \n",
    "                                                              epsilon=self.epsilon)\n",
    "                        self.D_opt = generate_dictionary(h_prior, \n",
    "                                                         self.P, \n",
    "                                                         self.Luj, \n",
    "                                                         self.Ldj)\n",
    "\n",
    "            # Init Sparse Representations\n",
    "            if (mode in [\"all\",\"only_X\"]):\n",
    "                \n",
    "                L = self.Ld if self.dictionary_type == \"edge_laplacian\" else self.L\n",
    "                _, Dx = sla.eig(L)\n",
    "                dd = la.norm(Dx, axis=0)\n",
    "                W = np.diag(1./dd)\n",
    "                Dx = Dx / la.norm(Dx)  \n",
    "                Domp = Dx@W\n",
    "                X = np.apply_along_axis(lambda x: get_omp_coeff(self.K0, Domp.real, x), axis=0, arr=self.Y_train)\n",
    "                X = np.tile(X, (self.P,1))\n",
    "                self.X_opt_train = X\n",
    "\n",
    "        # Otherwise use prior info about the dictionary to initialize both the dictionary and the sparse representation\n",
    "        else:\n",
    "            \n",
    "            self.h_opt = h_prior\n",
    "\n",
    "            if self.dictionary_type == \"separated\":\n",
    "                self.D_opt = generate_dictionary(h_prior, \n",
    "                                                 self.P, \n",
    "                                                 self.Luj, \n",
    "                                                 self.Ldj)\n",
    "                self.X_opt_train = sparse_transform(self.D_opt, \n",
    "                                                    self.K0, \n",
    "                                                    self.Y_train)\n",
    "            else: \n",
    "                self.D_opt = generate_dictionary(h_prior, \n",
    "                                                 self.P, \n",
    "                                                 self.Lj)\n",
    "                self.X_opt_train = sparse_transform(self.D_opt, \n",
    "                                                    self.K0, \n",
    "                                                    self.Y_train)             \n",
    "\n",
    "   \n",
    "    def save_results(func):\n",
    "        @wraps(func)\n",
    "        def wrapper(self, *args, **kwargs):\n",
    "\n",
    "            outputs = func(self, *args, **kwargs)\n",
    "            func_name = func.__name__\n",
    "\n",
    "            if func_name == \"topological_dictionary_learn\":\n",
    "\n",
    "                path = os.getcwd()\n",
    "                dir_path = os.path.join(path, \n",
    "                                        'results', \n",
    "                                        'dictionary_learning',\n",
    "                                        f'{self.dictionary_type}')\n",
    "                name = f'learn_D_{self.dictionary_type}'\n",
    "                filename = os.path.join(dir_path, f'{name}.pkl')\n",
    "                save_var = {\"min_error_test\": self.min_error_test,\n",
    "                            \"min_error_train\": self.min_error_train,\n",
    "                            \"history\": outputs[2],\n",
    "                            \"h_opt\": self.h_opt,\n",
    "                            \"X_opt_test\": self.X_opt_test,\n",
    "                            \"X_opt_train\": self.X_opt_train,\n",
    "                            \"D_opt\": self.D_opt}\n",
    "                \n",
    "            elif func_name == \"learn_upper_laplacian\":\n",
    "\n",
    "                path = os.getcwd()\n",
    "                dir_path = os.path.join(path, 'results', 'topology_learning')\n",
    "                name = f'learn_T{int(self.true_prob_T*100)}'\n",
    "                filename = os.path.join(dir_path, f'{name}.pkl')\n",
    "                save_var = {\"min_error_test\": self.min_error_test,\n",
    "                            \"min_error_train\": self.min_error_train,\n",
    "                            \"history\": self.history,\n",
    "                            \"Lu_opt\": self.Lu,\n",
    "                            \"h_opt\": self.h_opt,\n",
    "                            \"X_opt_test\": self.X_opt_test,\n",
    "                            \"X_opt_train\": self.X_opt_train,\n",
    "                            \"D_opt\": self.D_opt}\n",
    "\n",
    "            if not os.path.exists(dir_path):\n",
    "                os.makedirs(dir_path)\n",
    "\n",
    "            try:\n",
    "                with open(filename, 'wb') as file:\n",
    "                    pickle.dump(save_var, file)\n",
    "            except IOError as e:\n",
    "                print(f\"An error occurred while writing the file: {e}\")\n",
    "            except Exception as e:\n",
    "                print(f\"An unexpected error occurred: {e}\")\n",
    "\n",
    "            return outputs  \n",
    "        return wrapper\n",
    "\n",
    "    def topological_dictionary_learn(self,\n",
    "                                     lambda_: float = 1e-3, \n",
    "                                     max_iter: int = 10, \n",
    "                                     patience: int = 10,\n",
    "                                     tol: float = 1e-7,\n",
    "                                     step_h: float = 1.,\n",
    "                                     step_x: float = 1.,\n",
    "                                     solver: str =\"MOSEK\", \n",
    "                                     verbose: bool = False) -> Tuple[np.ndarray, np.ndarray, List[float]]:\n",
    "        \"\"\"\n",
    "        Dictionary learning algorithm implementation for sparse representations of a signal on complex regular cellular.\n",
    "        The algorithm consists of an iterative alternating optimization procedure defined in two steps: the positive semi-definite programming step\n",
    "        for obtaining the coefficients and dictionary based on Hodge theory, and the Orthogonal Matching Pursuit step for constructing \n",
    "        the K0-sparse solution from the dictionary found in the previous step, which best approximates the original signal.\n",
    "        Args:\n",
    "            Y_train (np.ndarray): Training data.\n",
    "            Y_test (np.ndarray): Testing data.\n",
    "            J (int): Max order of the polynomial for the single sub-dictionary.\n",
    "            M (int): Number of data points (number of nodes in the data graph).\n",
    "            P (int): Number of kernels (sub-dictionaries).\n",
    "            D0 (np.ndarray): Initial dictionary.\n",
    "            X0 (np.ndarray): Initial sparse representation.\n",
    "            Lu (np.ndarray): Upper Laplacian matrix\n",
    "            Ld (np.ndarray): Lower Laplacian matrix\n",
    "            dictionary_type (str): Type of dictionary.\n",
    "            c (float): Boundary constant from the synthetic data generation process.\n",
    "            epsilon (float): Boundary constant from the synthetic data generation process.\n",
    "            K0 (int): Sparsity of the signal representation.\n",
    "            lambda_ (float, optional): Regularization parameter. Defaults to 1e-3.\n",
    "            max_iter (int, optional): Maximum number of iterations. Defaults to 10.\n",
    "            patience (int, optional): Patience for early stopping. Defaults to 10.\n",
    "            tol (float, optional): Tolerance value. Defaults to 1e-s.\n",
    "            verbose (int, optional): Verbosity level. Defaults to 0.\n",
    "\n",
    "        Returns:\n",
    "            Tuple[np.ndarray, np.ndarray, np.ndarray, np.ndarray, np.ndarray]:\n",
    "            minimum training error, minimum testing error, optimal coefficients, optimal testing sparse representation, and optimal training sparse representation.\n",
    "        \"\"\"\n",
    "\n",
    "        # Define hyperparameters\n",
    "        iter_, pat_iter = 1, 0\n",
    "        hist = []\n",
    "\n",
    "        if self.dict_is_learnalbe:\n",
    "\n",
    "            # Init the dictionary and the sparse representation \n",
    "            D_coll = [cp.Constant(self.D_opt[:,(self.M*i):(self.M*(i+1))]) for i in range(self.P)]\n",
    "            Dsum = cp.Constant(np.zeros((self.M, self.M)))\n",
    "            h_opt = self.h_opt\n",
    "            Y = cp.Constant(self.Y_train)\n",
    "            X_tr = self.X_opt_train\n",
    "            X_te = self.X_opt_test\n",
    "            I = cp.Constant(np.eye(self.M))\n",
    "            \n",
    "            while pat_iter < patience and iter_ <= max_iter:\n",
    "                \n",
    "                # SDP Step\n",
    "                X = cp.Constant(X_tr)\n",
    "                if iter_ != 1:\n",
    "                    D_coll = [cp.Constant(D[:,(self.M*i):(self.M*(i+1))]) for i in range(self.P)]\n",
    "                    Dsum = cp.Constant(np.zeros((self.M, self.M)))\n",
    "                \n",
    "                # Define the objective function\n",
    "                if self.dictionary_type in [\"joint\", \"edge_laplacian\"]:\n",
    "                    # Init the variables\n",
    "                    h = cp.Variable((self.P, self.J))\n",
    "                    hI = cp.Variable((self.P, 1))\n",
    "                    h.value, hI.value = h_opt\n",
    "                    for i in range(0,self.P):\n",
    "                        tmp =  cp.Constant(np.zeros((self.M, self.M)))\n",
    "                        for j in range(0,self.J):\n",
    "                            tmp += (cp.Constant(self.Lj[j, :, :]) * h[i,j])\n",
    "                        tmp += (I*hI[i])\n",
    "                        D_coll[i] = tmp\n",
    "                        Dsum += tmp\n",
    "                    D = cp.hstack([D_coll[i]for i in range(self.P)])\n",
    "                    term1 = cp.square(cp.norm((Y - D @ X), 'fro'))\n",
    "                    term2 = cp.square(cp.norm(h, 'fro')*lambda_)\n",
    "                    term3 = cp.square(cp.norm(hI, 'fro')*lambda_)\n",
    "                    obj = cp.Minimize(term1 + term2 + term3)\n",
    "\n",
    "                else:\n",
    "                    # Init the variables\n",
    "                    hI = cp.Variable((self.P, self.J))\n",
    "                    hS = cp.Variable((self.P, self.J))\n",
    "                    hH = cp.Variable((self.P, 1))\n",
    "                    hH.value, hS.value, hI.value = h_opt ##################### OCCHIO\n",
    "                    for i in range(0,self.P):\n",
    "                        tmp =  cp.Constant(np.zeros((self.M, self.M)))\n",
    "                        for j in range(0,self.J):\n",
    "                            tmp += ((cp.Constant(self.Luj[j, :, :])*hS[i,j]) + (cp.Constant(self.Ldj[j, :, :])*hI[i,j]))\n",
    "                        tmp += (I*hH[i])\n",
    "                        D_coll[i] = tmp\n",
    "                        Dsum += tmp\n",
    "                    D = cp.hstack([D_coll[i] for i in range(self.P)])\n",
    "        \n",
    "                    term1 = cp.square(cp.norm((Y - D @ X), 'fro'))\n",
    "                    term2 = cp.square(cp.norm(hI, 'fro')*lambda_)\n",
    "                    term3 = cp.square(cp.norm(hS, 'fro')*lambda_)\n",
    "                    term4 = cp.square(cp.norm(hH, 'fro')*lambda_)\n",
    "                    obj = cp.Minimize(term1 + term2 + term3 + term4)\n",
    "\n",
    "                # Define the constraints\n",
    "                constraints = [D_coll[i] >> 0 for i in range(self.P)] + \\\n",
    "                                [(cp.multiply(self.c, I) - D_coll[i]) >> 0 for i in range(self.P)] + \\\n",
    "                                [(Dsum - cp.multiply((self.c - self.epsilon), I)) >> 0, (cp.multiply((self.c + self.epsilon), I) - Dsum) >> 0]\n",
    "\n",
    "                prob = cp.Problem(obj, constraints)\n",
    "                prob.solve(solver=eval(f'cp.{solver}'), verbose=False)\n",
    "\n",
    "                # Dictionary Update\n",
    "                D = D.value\n",
    "                if self.dictionary_type in [\"joint\", \"edge_laplacian\"]:\n",
    "                    h_opt = [h_opt[0] + step_h*(h.value - h_opt[0]),\n",
    "                             h_opt[1] + step_h*(hI.value - h_opt[1])]\n",
    "                else:\n",
    "                    h_opt = [h_opt[0] + step_h*(hH.value-h_opt[0]),\n",
    "                             h_opt[1] + step_h*(hS.value-h_opt[1]), \n",
    "                             h_opt[2] + step_h*(hI.value-h_opt[2])]\n",
    "\n",
    "                # OMP Step\n",
    "                X_te_tmp, X_tr_tmp = sparse_transform(D, self.K0, self.Y_test, self.Y_train)\n",
    "                # Sparse Representation Update\n",
    "                X_tr = X_tr + step_x*(X_tr_tmp - X_tr)\n",
    "                X_te = X_te + step_x*(X_te_tmp - X_te)\n",
    "\n",
    "                # Error Update\n",
    "                error_train = nmse(D, X_tr, self.Y_train, self.m_train)\n",
    "                error_test = nmse(D, X_te, self.Y_test, self.m_test)\n",
    "\n",
    "                hist.append(error_test)\n",
    "                \n",
    "                # Error Storing\n",
    "                if (error_train < self.min_error_train) and (abs(error_train) > np.finfo(float).eps) and (abs(error_train - self.min_error_train) > tol):\n",
    "                    self.X_opt_train = X_tr\n",
    "                    self.min_error_train = error_train\n",
    "\n",
    "                if (error_test < self.min_error_test) and (abs(error_test) > np.finfo(float).eps) and (abs(error_test - self.min_error_test) > tol):\n",
    "                    self.h_opt = h_opt\n",
    "                    self.D_opt = D\n",
    "                    self.X_opt_test = X_te\n",
    "                    self.min_error_test = error_test\n",
    "                    pat_iter = 0\n",
    "\n",
    "                    if verbose == 1:\n",
    "                        print(\"New Best Test Error:\", self.min_error_test)\n",
    "                else:\n",
    "                    pat_iter += 1\n",
    "\n",
    "                iter_ += 1\n",
    "        \n",
    "        else:\n",
    "\n",
    "            # Fourier Dictionary Benchmark\n",
    "            _, self.D_opt = sla.eigh(self.L)\n",
    "            self.X_opt_test, self.X_opt_train = sparse_transform(self.D_opt, self.K0, self.Y_test, self.Y_train)\n",
    "\n",
    "            # Error Updating\n",
    "            self.min_error_train = nmse(self.D_opt, self.X_opt_train, self.Y_train, self.m_train)\n",
    "            self.min_error_test= nmse(self.D_opt, self.X_opt_test, self.Y_test, self.m_test)\n",
    "            \n",
    "        return self.min_error_test, self.min_error_train, hist\n",
    "    \n",
    "\n",
    "    def _aux_matrix_update(self, X):\n",
    "\n",
    "        I = [np.eye(self.M)]\n",
    "        if self.dictionary_type==\"separated\":\n",
    "            LLu = [lu for lu in self.Luj]\n",
    "            LLd = [ld for ld in self.Ldj]\n",
    "            LL = np.array(I+LLu+LLd)\n",
    "        else:\n",
    "            LL = [l for l in self.Lj]\n",
    "            LL = np.array(I + LL)\n",
    "\n",
    "        P_aux = np.array([LL@X[(i*self.M): ((i+1)*self.M), :] for i in range(self.P)])\n",
    "        self.P_aux = rearrange(P_aux, 'b h w c -> (b h) w c')\n",
    "    \n",
    "    def topological_dictionary_learn_qp(self,\n",
    "                                        lambda_: float = 1e-3, \n",
    "                                        max_iter: int = 10, \n",
    "                                        patience: int = 10,\n",
    "                                        tol: float = 1e-7,\n",
    "                                        solver: str = 'GUROBI',\n",
    "                                        step_h: float = 1.,\n",
    "                                        step_x: float = 1.,\n",
    "                                        verbose: bool = False) -> Tuple[np.ndarray, np.ndarray, List[float]]:\n",
    "        \n",
    "        # Define hyperparameters\n",
    "        iter_, pat_iter = 1, 0\n",
    "        hist = []\n",
    "\n",
    "        # Learnable Dictionary -> ADMM optimization algorithm\n",
    "        if self.dict_is_learnable:\n",
    "            \n",
    "            # Init the the sparse representation\n",
    "            h_opt = np.hstack([h.flatten() for h in self.h_opt]).reshape(-1,1)\n",
    "            X_tr = self.X_opt_train\n",
    "            X_te = self.X_opt_test\n",
    "            f = 2 if self.dictionary_type == \"separated\" else 1\n",
    "            reg = lambda_ * np.eye(self.P*(f*self.J+1))\n",
    "            I_s = cp.Constant(np.eye(self.P))\n",
    "            i_s = cp.Constant(np.ones((self.P,1)))\n",
    "            B = cp.Constant(self.B)\n",
    "\n",
    "            while pat_iter < patience and iter_ <= max_iter:\n",
    "\n",
    "                # Init variables and parameters\n",
    "                h = cp.Variable((self.P*(f*self.J+1), 1)) \n",
    "                self._aux_matrix_update(X_tr)\n",
    "                h.value = h_opt\n",
    "\n",
    "                Q = cp.Constant(np.einsum('imn, lmn -> il', self.P_aux, self.P_aux) + reg)\n",
    "                l = cp.Constant(np.einsum('mn, imn -> i', self.Y_train, self.P_aux))\n",
    "\n",
    "                # Quadratic term\n",
    "                term2 = cp.quad_form(h, Q, assume_PSD = True)\n",
    "                # Linear term\n",
    "                term1 = l@h\n",
    "                term1 = cp.multiply(-2, term1)[0]\n",
    "                \n",
    "                obj = cp.Minimize(term2+term1)\n",
    "\n",
    "                # Define the constraints\n",
    "                cons1 = cp.kron(I_s, B)@h\n",
    "                cons2 = cp.kron(i_s.T, B)@h\n",
    "                constraints = [cons1 >= 0] + \\\n",
    "                                [cons1 <= self.c] + \\\n",
    "                                [cons2 >= (self.c - self.epsilon)] + \\\n",
    "                                [cons2 <= (self.c + self.epsilon)]\n",
    "\n",
    "                prob = cp.Problem(obj, constraints)\n",
    "                prob.solve(solver=eval(f'cp.{solver}'), verbose=False)\n",
    "\n",
    "                # Update the dictionary\n",
    "\n",
    "                if self.dictionary_type in [\"joint\", \"edge_laplacian\"]:\n",
    "                    h_tmp = _split_coeffs(h, self.P, self.J)\n",
    "                    # print(h_tmp.shape)\n",
    "                    # h_tmp = h.value.reshape(self.P, self.J+1)\n",
    "                    D = generate_dictionary(h_tmp, self.P, self.Lj)                      \n",
    "                    h_opt = h_opt + step_h*(h.value - h_opt)\n",
    "                else:\n",
    "\n",
    "                    h_list = _split_coeffs(h, self.P, self.J, sep=True)\n",
    "                    D = generate_dictionary(h_list, self.P, self.Luj, self.Ldj)                                \n",
    "                    h_opt = h_opt + step_h*(h.value - h_opt)\n",
    "\n",
    "\n",
    "                # OMP Step\n",
    "                X_te_tmp, X_tr_tmp = sparse_transform(D, self.K0, self.Y_test, self.Y_train)\n",
    "                # Sparse Representation Update\n",
    "                X_tr = X_tr + step_x*(X_tr_tmp - X_tr)\n",
    "                X_te = X_te + step_x*(X_te_tmp - X_te)\n",
    "\n",
    "                # Error Update\n",
    "                error_train = nmse(D, X_tr, self.Y_train, self.m_train)\n",
    "                error_test = nmse(D, X_te, self.Y_test, self.m_test)\n",
    "\n",
    "                hist.append(error_test)\n",
    "                \n",
    "                # Error Storing\n",
    "                if (error_train < self.min_error_train) and (abs(error_train) > np.finfo(float).eps) and (abs(error_train - self.min_error_train) > tol):\n",
    "                    self.X_opt_train = X_tr\n",
    "                    self.min_error_train = error_train\n",
    "\n",
    "                if (error_test < self.min_error_test) and (abs(error_test) > np.finfo(float).eps) and (abs(error_test - self.min_error_test) > tol):\n",
    "                    self.h_opt = h_list if self.dictionary_type == 'separated' else h_opt\n",
    "                    self.D_opt = D\n",
    "                    self.X_opt_test = X_te\n",
    "                    self.min_error_test = error_test\n",
    "                    pat_iter = 0\n",
    "\n",
    "                    if verbose == 1:\n",
    "                        print(\"New Best Test Error:\", self.min_error_test)\n",
    "                else:\n",
    "                    pat_iter += 1\n",
    "\n",
    "                iter_ += 1\n",
    "        \n",
    "        # Analytic Dictionary -> directly go to OMP step\n",
    "        else:\n",
    "            \n",
    "            if self.dictionary_type == \"fourier\":\n",
    "                # Fourier Dictionary Benchmark\n",
    "                _, self.D_opt = sla.eigh(self.L)\n",
    "\n",
    "            elif self.dictionary_type == \"slepians\":\n",
    "                SS = SimplicianSlepians(self.B1, \n",
    "                                        self.B2, \n",
    "                                        self.S, \n",
    "                                        self.R,\n",
    "                                        verbose=False, \n",
    "                                        top_K = self.top_K_slepians)\n",
    "                self.D_opt = SS.atoms_flat\n",
    "                \n",
    "\n",
    "            elif self.dictionary_type == \"wavelet\":\n",
    "                SH = SeparateHodgelet(self.B1, \n",
    "                                      self.B2,\n",
    "                                      *log_wavelet_kernels_gen(3, 4, np.log(np.max(self.w1))),\n",
    "                                      *log_wavelet_kernels_gen(3, 4, np.log(np.max(self.w2))))\n",
    "                self.D_opt = SH.atoms_flat\n",
    "                # print(self.D_opt.shape)\n",
    "            \n",
    "            # OMP\n",
    "            self.X_opt_test, self.X_opt_train = sparse_transform(self.D_opt, self.K0, self.Y_test, self.Y_train)\n",
    "            # Error Updating\n",
    "            self.min_error_train = nmse(self.D_opt, self.X_opt_train, self.Y_train, self.m_train)\n",
    "            self.min_error_test= nmse(self.D_opt, self.X_opt_test, self.Y_test, self.m_test)\n",
    "\n",
    "        return self.min_error_test, self.min_error_train, hist\n",
    "    \n",
    "    @save_results\n",
    "    def learn_upper_laplacian(self,\n",
    "                              Lu_new: np.ndarray = None,\n",
    "                              filter: np.ndarray = 1,\n",
    "                              h_prior: np.ndarray = None,\n",
    "                              lambda_: float = 1e-3, \n",
    "                              max_iter: int = 10, \n",
    "                              patience: int = 10,\n",
    "                              tol: float = 1e-7,\n",
    "                              step_h: float = 1.,\n",
    "                              step_x: float = 1.,\n",
    "                              mode: str = \"optimistic\",\n",
    "                              verbose: bool = False,\n",
    "                              warmup: int = 0,\n",
    "                              QP=False,\n",
    "                              cont=False):\n",
    "    \n",
    "        assert step_h<1 or step_h>0, \"You must provide a step-size between 0 and 1.\"\n",
    "        assert step_x<1 or step_x>0, \"You must provide a step-size between 0 and 1.\"\n",
    "        assert (mode==\"optimistic\") or (mode==\"pessimistic\"), f'{mode} is not a legal mode: \\\"optimistic\\\" or \\\"pessimistic\\\" are the only ones allowed.'\n",
    "        \n",
    "        # Check if we are executing the first recursive iteration\n",
    "        if np.all(Lu_new == None):\n",
    "            T = self.B2.shape[1]\n",
    "            if mode==\"optimistic\":\n",
    "                filter = np.ones(T)\n",
    "                self.warmup=0  \n",
    "            else:\n",
    "                filter = np.zeros(T)\n",
    "                self.update_Lu(np.zeros(self.Lu.shape)) # start with an \"empty\" upper Laplacian\n",
    "                self.warmup = warmup\n",
    "        else:\n",
    "            self.update_Lu(Lu_new)\n",
    "\n",
    "        self.init_dict(h_prior=h_prior,\n",
    "                       mode=\"only_X\")\n",
    "\n",
    "        if QP:\n",
    "            _, _, hist = self.topological_dictionary_learn_qp(lambda_=lambda_,\n",
    "                                                            max_iter=max_iter,\n",
    "                                                            patience=patience,\n",
    "                                                            tol=tol,\n",
    "                                                            step_h=step_h,\n",
    "                                                            step_x=step_x,\n",
    "                                                            solver='GUROBI')\n",
    "        else:\n",
    "            _, _, hist = self.topological_dictionary_learn(lambda_=lambda_,\n",
    "                                                            max_iter=max_iter,\n",
    "                                                            patience=patience,\n",
    "                                                            tol=tol,\n",
    "                                                            step_h=step_h,\n",
    "                                                            step_x=step_x)\n",
    "                        \n",
    "        self.history.append(hist)\n",
    "        search_space = np.where(filter == 1) if mode==\"optimistic\" else np.where(filter == 0)   \n",
    "        sigmas = pd.DataFrame({\"idx\": search_space[0]})\n",
    "\n",
    "        sigmas[\"sigma\"] = sigmas.idx.apply(lambda _: filter)\n",
    "        if mode==\"optimistic\":\n",
    "            sigmas[\"sigma\"] = sigmas.apply(lambda x: _indicator_matrix(x), axis=1)\n",
    "        else:\n",
    "            sigmas[\"sigma\"] = sigmas.apply(lambda x: _indicator_matrix_rev(x), axis=1)\n",
    "        sigmas[\"Luj\"] = sigmas.apply(lambda x: _compute_Luj(x, self.B2, self.J), axis=1)\n",
    "        sigmas[\"D\"] = sigmas.apply(lambda x: generate_dictionary(self.h_opt, self.P, x.Luj, self.Ldj), axis=1)\n",
    "        sigmas[\"X\"] = sigmas.D.apply(lambda x: sparse_transform(x, self.K0, self.Y_test))\n",
    "        sigmas[\"NMSE\"] = sigmas.apply(lambda x: nmse(x.D, x.X, self.Y_test, self.m_test), axis=1)\n",
    "        \n",
    "        if self.warmup>0:\n",
    "            candidate_error = sigmas.NMSE.min() - np.finfo(float).eps\n",
    "            self.warmup-=1\n",
    "        else:\n",
    "            candidate_error = sigmas.NMSE.min()\n",
    "        idx_min = sigmas.NMSE.idxmin()\n",
    "\n",
    "        \n",
    "        if candidate_error < self.min_error_test:\n",
    "            S = sigmas.sigma[idx_min]\n",
    "            Lu_new = self.B2 @ S @ self.B2.T\n",
    "            filter = np.diagonal(S)\n",
    "            self.num_tri += 1\n",
    "            if verbose:\n",
    "                if mode==\"optimistic\":\n",
    "                    print(f'Number of removed triangles: {self.num_tri} \\n ... New min test error: {candidate_error} !')\n",
    "                else:\n",
    "                    print(f'Number of added triangles: {self.num_tri} \\n ... New min test error: {candidate_error} !')\n",
    "\n",
    "            return self.learn_upper_laplacian(h_prior=self.h_opt,\n",
    "                                              Lu_new=Lu_new,\n",
    "                                              filter=filter,\n",
    "                                              lambda_=lambda_,\n",
    "                                              max_iter=max_iter,\n",
    "                                              patience=patience,\n",
    "                                              tol=tol,\n",
    "                                              step_h=step_h,\n",
    "                                              step_x=step_x,\n",
    "                                              mode=mode,\n",
    "                                              verbose=verbose,\n",
    "                                              QP=QP,\n",
    "                                              cont=cont)\n",
    "        \n",
    "        # For the last recursions of \"pessimistic\" mode try some recursion of the \"optimistic\"\n",
    "        # to remove the warm-up randomly-added triangles\n",
    "        if mode == \"pessimistic\" and not cont:\n",
    "            return  self.learn_upper_laplacian(h_prior=self.h_opt,\n",
    "                                              Lu_new=Lu_new,\n",
    "                                              filter=filter,\n",
    "                                              lambda_=lambda_,\n",
    "                                              max_iter=max_iter,\n",
    "                                              patience=patience,\n",
    "                                              tol=tol,\n",
    "                                              step_h=step_h,\n",
    "                                              step_x=step_x,\n",
    "                                              mode=\"optimistic\",\n",
    "                                              verbose=verbose,\n",
    "                                              QP=QP,\n",
    "                                              cont=True)\n",
    "        \n",
    "        # Then after we added triangles and removed the randomly added ones, continue adding!\n",
    "        elif mode != \"pessimistic\" and cont:\n",
    "\n",
    "            print(\"Ce provo!\")\n",
    "            return  self.learn_upper_laplacian(h_prior=self.h_opt,\n",
    "                                              Lu_new=Lu_new,\n",
    "                                              filter=filter,\n",
    "                                              lambda_=lambda_,\n",
    "                                              max_iter=max_iter,\n",
    "                                              patience=patience,\n",
    "                                              tol=tol,\n",
    "                                              step_h=step_h,\n",
    "                                              step_x=step_x,\n",
    "                                              mode=\"pessimistic\",\n",
    "                                              verbose=verbose,\n",
    "                                              QP=QP,\n",
    "                                              cont=cont,\n",
    "                                              warmup=warmup)  \n",
    "                  \n",
    "        self.B2 = self.B2@np.diag(filter)\n",
    "        return self.min_error_test, self.history, self.Lu, self.B2"
   ]
  },
  {
   "cell_type": "markdown",
   "metadata": {},
   "source": [
    "# T80"
   ]
  },
  {
   "cell_type": "code",
   "execution_count": 9,
   "metadata": {},
   "outputs": [],
   "source": [
    "import scipy.linalg as sla\n",
    "import numpy as np\n",
    "import numpy.linalg as la\n",
    "import cvxpy as cp\n",
    "from tsplearn.tsp_generation import *\n",
    "from typing import Tuple, List, Union, Dict\n",
    "import pickle\n",
    "from functools import wraps\n",
    "from einops import rearrange\n",
    "\n",
    "from lib import * # SeparateHodgelet, SimplicianSlepians\n",
    "\n",
    "\n",
    "def _indicator_matrix(row):\n",
    "    tmp = row.sigma.copy()\n",
    "    tmp[row.idx] = 0\n",
    "    return np.diag(tmp)\n",
    "\n",
    "def _indicator_matrix_rev(row):\n",
    "    tmp = row.sigma.copy()\n",
    "    tmp[row.idx] = 1\n",
    "    return np.diag(tmp)\n",
    "\n",
    "def _compute_Luj(row, b2, J):\n",
    "    Lu = b2 @ row.sigma @ b2.T\n",
    "    Luj = np.array([la.matrix_power(Lu, i) for i in range(1, J + 1)])\n",
    "    return Luj\n",
    "\n",
    "def _split_coeffs(h ,s ,k, sep=False):\n",
    "    h_tmp = h.value.flatten()\n",
    "    # hH = h_tmp[:s,].reshape((s,1))\n",
    "    # hS = h_tmp[s:s*(k+1),].reshape((s,k))\n",
    "    # hI = h_tmp[s*(k+1):,].reshape((s,k))\n",
    "    if sep:\n",
    "        hH = h_tmp[np.arange(0, (s*(2*k+1)), (2*k+1))].reshape((s,1))\n",
    "        hS = h_tmp[np.hstack([[i,i+1] for i in range(1, (s*(2*k+1)), (2*k+1))])].reshape((s,k))\n",
    "        hI = h_tmp[np.hstack([[i,i+1] for i in range((k+1), (s*(2*k+1)), (2*k+1))])].reshape((s,k))\n",
    "        return [hH, hS, hI]\n",
    "    hi = h_tmp[np.arange(0, (s*(k+1)), (k+1))].reshape((s,1))\n",
    "    h = h_tmp[np.hstack([[i,i+1] for i in range(1, (s*(k+1)), (k+1))])].reshape((s,k))\n",
    "    return np.hstack([h, hi])\n",
    "    \n",
    "def sparse_transform(D, K0, Y_te, Y_tr=None):\n",
    "\n",
    "    ep = np.finfo(float).eps # to avoid some underflow problems\n",
    "    dd = la.norm(D, axis=0) + ep\n",
    "    W = np.diag(1. / dd)\n",
    "    Domp = D @ W\n",
    "    X_te = np.apply_along_axis(lambda x: get_omp_coeff(K0, Domp=Domp, col=x), axis=0, arr=Y_te)\n",
    "    # Normalization\n",
    "    X_te = W @ X_te\n",
    "\n",
    "    if np.all(Y_tr == None):\n",
    "\n",
    "        return X_te\n",
    "    \n",
    "    # Same for the training set\n",
    "    X_tr = np.apply_along_axis(lambda x: get_omp_coeff(K0, Domp=Domp, col=x), axis=0, arr=Y_tr)\n",
    "    X_tr = W @ X_tr\n",
    "    \n",
    "    return X_te, X_tr\n",
    "\n",
    "\n",
    "def compute_vandermonde(L, k):\n",
    "    \n",
    "    def polynomial_exp(x, k):\n",
    "        x = x** np.arange(0, k + 1)\n",
    "        return x\n",
    "\n",
    "    eigenvalues, _ = sla.eig(L)\n",
    "    idx = eigenvalues.argsort()\n",
    "    tmp_df = pd.DataFrame({'Eigs': eigenvalues[idx]})\n",
    "    tmp_df['Poly'] = tmp_df['Eigs'].apply(lambda x:  polynomial_exp(x,k))\n",
    "    B = np.vstack(tmp_df['Poly'].to_numpy())\n",
    "\n",
    "    return B\n",
    "\n",
    "\n",
    "def nmse(D, X, Y, m):\n",
    "    return (1/m)* np.sum(la.norm(Y - (D @ X), axis=0)**2 /la.norm(Y, axis=0)**2)\n",
    "\n",
    "\n",
    "class TspSolver:\n",
    "\n",
    "    def __init__(self, X_train, X_test, Y_train, Y_test, *args, **kwargs):\n",
    "\n",
    "        params = {\n",
    "                'P': None,      # Number of Kernels (Sub-dictionaries)\n",
    "                'J': None,      # Polynomial order\n",
    "                'K0': None,     # Sparsity level\n",
    "                'dictionary_type': None,\n",
    "                'c': None,      # spectral control parameter \n",
    "                'epsilon': None,# spectral control parameter\n",
    "                'n': 10,        # number of nodes\n",
    "                'sub_size': None,   # Number of sub-sampled nodes\n",
    "                'prob_T': 1.,   # Ratio of colored triangles\n",
    "                'true_prob_T': 1.,   # True ratio of colored triangles\n",
    "                'p_edges': 1.,  # Probability of edge existence\n",
    "                'seed': None,       ####\n",
    "                'option' : \"One-shot-diffusion\",        ####\n",
    "                'diff_order_sol' : 1,       ####\n",
    "                'diff_order_irr' : 1,       ####\n",
    "                'step_prog' : 1,        ####\n",
    "                'top_k_slepians' : 2        ####\n",
    "                }\n",
    "        \n",
    "        if args:\n",
    "            if len(args) != 1 or not isinstance(args[0], dict):\n",
    "                raise ValueError(\"When using positional arguments, must provide a single dictionary\")\n",
    "            params.update(args[0])\n",
    "\n",
    "        params.update(kwargs)\n",
    "\n",
    "        # Data\n",
    "        self.X_train: np.ndarray = X_train\n",
    "        self.X_test: np.ndarray = X_test\n",
    "        self.Y_train: np.ndarray = Y_train\n",
    "        self.Y_test: np.ndarray = Y_test\n",
    "        self.m_train: int = Y_train.shape[1]\n",
    "        self.m_test: int = Y_test.shape[1]\n",
    "\n",
    "        # Topology and geometry behind data\n",
    "        self.G = EnhancedGraph(n=params['n'],\n",
    "                               p_edges=params['p_edges'], \n",
    "                               p_triangles=params['prob_T'], \n",
    "                               seed=params['seed']) \n",
    "        # Incidence matrices\n",
    "        self.B1: np.ndarray = self.G.get_b1()\n",
    "        self.B2: np.ndarray = self.G.get_b2()\n",
    "\n",
    "        # Sub-sampling if needed to decrease complexity\n",
    "        if params['sub_size'] != None:\n",
    "            self.B1 = self.B1[:, :params['sub_size']]\n",
    "            self.B2 = self.B2[:params['sub_size'], :]\n",
    "            self.B2 = self.B2[:,np.sum(np.abs(self.B2), 0) == 3]\n",
    "        \n",
    "        # Topology dimensions and hyperparameters\n",
    "        self.nu: int = self.B2.shape[1]\n",
    "        self.nd: int = self.B1.shape[1]\n",
    "        self.true_prob_T = params['true_prob_T']\n",
    "        self.T: int = int(np.ceil(self.nu*(1-params['prob_T'])))\n",
    "\n",
    "        # Laplacians according to the Hodge Theory for cell complexes\n",
    "        Lu, Ld, L = self.G.get_laplacians(sub_size=params['sub_size'])\n",
    "        self.Lu: np.ndarray = Lu                             # Ground-truth upper Laplacian\n",
    "        self.Ld: np.ndarray = Ld                             # Ground-truth lower Laplacian\n",
    "        self.L: np.ndarray = L                               # Ground-truth sum Laplacian\n",
    "        self.Lu_full: np.ndarray = G.get_laplacians(sub_size=params['sub_size'], \n",
    "                                                    full=True)\n",
    "        self.M =  L.shape[0]\n",
    "        \n",
    "\n",
    "        # Dictionary hyperparameters\n",
    "        self.P = params['P']                                 # Number of sub-dicts\n",
    "        self.J = params['J']                                 # Polynomial order for the Hodge Laplacian\n",
    "        self.c = params['c']                                 # Hyperparameter for stability in frequency domain\n",
    "        self.epsilon = params['epsilon']                     # Hyperparameter for stability in frequency domain\n",
    "        self.K0 = params['K0']                               # Assumed sparsity level\n",
    "        self.dictionary_type = params['dictionary_type']\n",
    "        # Init optimal values for sparse representations and overcomplete dictionary\n",
    "        self.D_opt: np.ndarray = np.zeros((self.M, self.M*self.P))\n",
    "        self.X_opt_train: np.ndarray = np.zeros(self.X_train.shape)\n",
    "        self.X_opt_test: np.ndarray = np.zeros(self.X_test.shape)\n",
    "        # Init the learning errors and error curve (history)\n",
    "        self.min_error_train = 1e20\n",
    "        self.min_error_test = 1e20\n",
    "        self.history: List[np.ndarray] = []\n",
    "\n",
    "        ############################################################################################################\n",
    "        ##                                                                                                        ##\n",
    "        ##               This section is only for learnable (data-driven) dictionaries                            ##\n",
    "        ##                                                                                                        ##\n",
    "        ############################################################################################################\n",
    "\n",
    "        # Init the dictionary parameters according to the specific parameterization setup\n",
    "        if self.dictionary_type==\"separated\":\n",
    "            hs = np.zeros((self.P,self.J))\n",
    "            hi = np.zeros((self.P,self.J))\n",
    "            hh = np.zeros((self.P,1))\n",
    "            self.h_opt: List[np.ndarray] = [hh,hs,hi]\n",
    "        else:\n",
    "            h = np.zeros((self.P, self.J))\n",
    "            hi = np.zeros((self.P, 1))\n",
    "            self.h_opt: List[np.ndarray] = [hi, h]\n",
    "\n",
    "        # Compute the polynomial extension for the Laplacians and the auxiliary \n",
    "        # \"pseudo-vandermonde\" matrix for the constraints in the quadratic form\n",
    "        if self.dictionary_type == \"joint\":\n",
    "            self.Lj, self.lambda_max_j, self.lambda_min_j = compute_Lj_and_lambdaj(self.L, self.J)\n",
    "            self.B = compute_vandermonde(self.L, self.J).real\n",
    "        elif self.dictionary_type == \"edge_laplacian\":\n",
    "            self.Lj, self.lambda_max_j, self.lambda_min_j = compute_Lj_and_lambdaj(self.Ld, self.J)\n",
    "            self.B = compute_vandermonde(self.Ld, self.J).real\n",
    "        elif  self.dictionary_type == 'separated':\n",
    "            self.Luj, self.lambda_max_u_j, self.lambda_min_u_j = compute_Lj_and_lambdaj(self.Lu, self.J, separated=True)\n",
    "            self.Ldj, self.lambda_max_d_j, self.lambda_min_d_j = compute_Lj_and_lambdaj(self.Ld, self.J, separated=True)\n",
    "            self.Bu = compute_vandermonde(self.Lu, self.J).real\n",
    "            self.Bd = compute_vandermonde(self.Ld, self.J)[:, 1:].real\n",
    "            self.B = np.hstack([self.Bu, self.Bd])\n",
    "\n",
    "        # Auxiliary matrix to define quadratic form dor the dictionary learning step\n",
    "        self.P_aux: np.ndarray = None\n",
    "        # Flag variable: the dictionary is learnable or analytic\n",
    "        self.dict_is_learnable = self.dictionary_type in [\"separated\", \"joint\", \"edge_laplacian\"]\n",
    "\n",
    "        # Auxiliary tools for the Slepians-based dictionary setup\n",
    "        if self.dictionary_type == 'slepians':\n",
    "            self.option = params['option']\n",
    "            self.diff_order_sol = params['diff_order_sol']\n",
    "            self.step_prog = params['step_prog']\n",
    "            self.diff_order_irr = params['diff_order_irr']\n",
    "            self.source_sol = np.ones((self.nd,))\n",
    "            self.source_irr = np.ones((self.nd,))\n",
    "            self.top_K_slepians = params['top_k_slepians']\n",
    "            self.spars_level = list(range(10,80,10))\n",
    "            # Remember that this part should be updated if B2 or Lu are updated!\n",
    "            self.F_sol,self.F_irr = get_frequency_mask(self.B1,self.B2) # Get frequency bands\n",
    "            self.S_neigh, self.complete_coverage = cluster_on_neigh(self.B1,\n",
    "                                                                    self.B2,\n",
    "                                                                    self.diff_order_sol,\n",
    "                                                                    self.diff_order_irr,\n",
    "                                                                    self.source_sol,\n",
    "                                                                    self.source_irr,\n",
    "                                                                    self.option,\n",
    "                                                                    self.step_prog)\n",
    "            self.R = [self.F_sol, self.F_irr]\n",
    "            self.S = self.S_neigh\n",
    "\n",
    "        # Auxiliary tools for the Wavelet-based dictionary setup\n",
    "        elif self.dictionary_type == 'wavelet':\n",
    "            # Remember that this part should be updated if B2 or Lu are updated!\n",
    "            self.w1 = np.linalg.eigvalsh(self.Lu)\n",
    "            self.w2 = np.linalg.eigvalsh(self.Ld)\n",
    "            \n",
    "\n",
    "    # def fit(self) -> Tuple[float, List[np.ndarray], np.ndarray, np.ndarray, np.ndarray, np.ndarray]:\n",
    "    #     min_error_test, _, _, h_opt, X_opt_test, D_opt = self.learn_upper_laplacian()\n",
    "    #     return min_error_test, self.history, params['Lu'], h_opt, X_opt_test, D_opt\n",
    "\n",
    "    def update_Lu(self, Lu_new):\n",
    "        self.Lu = Lu_new\n",
    "        self.Luj, self.lambda_max_u_j, self.lambda_min_u_j = compute_Lj_and_lambdaj(self.Lu, \n",
    "                                                                                    self.J, \n",
    "                                                                                    separated=True)\n",
    "        self.Bu = compute_vandermonde(self.Lu, self.J).real\n",
    "        self.B = np.hstack([self.Bu, self.Bd])\n",
    "\n",
    "    @staticmethod\n",
    "    def _multiplier_search(*arrays, P, c, epsilon):\n",
    "        is_okay = 0\n",
    "        mult = 100\n",
    "        tries = 0\n",
    "        while is_okay==0:\n",
    "            is_okay = 1\n",
    "            h, c_try, _, tmp_sum_min, tmp_sum_max = generate_coeffs(arrays, P=P, mult=mult)\n",
    "            if c_try <= c:\n",
    "                is_okay *= 1\n",
    "            if tmp_sum_min > c-epsilon:\n",
    "                is_okay *= 1\n",
    "                incr_mult = 0\n",
    "            else:\n",
    "                is_okay = is_okay*0\n",
    "                incr_mult = 1\n",
    "            if tmp_sum_max < c+epsilon:\n",
    "                is_okay *= 1\n",
    "                decr_mult = 0\n",
    "            else:\n",
    "                is_okay *= 0\n",
    "                decr_mult = 1\n",
    "            if is_okay == 0:\n",
    "                tries += 1\n",
    "            if tries >3:\n",
    "                discard = 1\n",
    "                break\n",
    "            if incr_mult == 1:\n",
    "                mult *= 2\n",
    "            if decr_mult == 1:\n",
    "                mult /= 2\n",
    "        return h, discard\n",
    "\n",
    "    def init_dict(self,\n",
    "                  h_prior: np.ndarray = None, \n",
    "                  mode: str = \"only_X\") -> Tuple[np.ndarray, np.ndarray]:\n",
    "        \"\"\"\n",
    "        Initialize the dictionary and the signal sparse representation for the alternating\n",
    "        optimization algorithm.\n",
    "\n",
    "        Args:\n",
    "            Lu (np.ndarray): Upper Laplacian matrix\n",
    "            Ld (np.ndarray): Lower Laplacian matrix\n",
    "            P (int): Number of kernels (sub-dictionaries).\n",
    "            J (int): Max order of the polynomial for the single sub-dictionary.\n",
    "            Y_train (np.ndarray): Training data.\n",
    "            K0 (int): Sparsity of the signal representation.\n",
    "            dictionary_type (str): Type of dictionary.\n",
    "            c (float): Boundary constant from the synthetic data generation process.\n",
    "            epsilon (float): Boundary constant from the synthetic data generation process.\n",
    "            only (str): Type of initialization. Can be one of: \"only_X\", \"all\", \"only_D\".\n",
    "\n",
    "        Returns:\n",
    "            Tuple[np.ndarray, np.ndarray, bool]: Initialized dictionary, initialized sparse representation, and discard flag value.\n",
    "        \"\"\"\n",
    "        \n",
    "        # If no prior info on the dictionary\n",
    "        if np.all(h_prior == None):\n",
    "\n",
    "            # Init Dictionary\n",
    "            if (mode in [\"all\",\"only_D\"]):\n",
    "\n",
    "                discard = 1\n",
    "                while discard==1:\n",
    "\n",
    "                    if self.dictionary_type != \"separated\":\n",
    "                        h_prior, discard = self._multiplier_search(self.lambda_max_j, \n",
    "                                                              self.lambda_min_j, \n",
    "                                                              P=self.P, \n",
    "                                                              c=self.c, \n",
    "                                                              epsilon=self.epsilon)\n",
    "                        self.D_opt = generate_dictionary(h_prior, \n",
    "                                                         self.P, \n",
    "                                                         self.Lj)\n",
    "\n",
    "                    else:\n",
    "                        h_prior, discard = self._multiplier_search(self.lambda_max_d_j, \n",
    "                                                              self.lambda_min_d_j, \n",
    "                                                              self.lambda_max_u_j, \n",
    "                                                              self.lambda_min_u_j,\n",
    "                                                              P=self.P, \n",
    "                                                              c=self.c, \n",
    "                                                              epsilon=self.epsilon)\n",
    "                        self.D_opt = generate_dictionary(h_prior, \n",
    "                                                         self.P, \n",
    "                                                         self.Luj, \n",
    "                                                         self.Ldj)\n",
    "\n",
    "            # Init Sparse Representations\n",
    "            if (mode in [\"all\",\"only_X\"]):\n",
    "                \n",
    "                L = self.Ld if self.dictionary_type == \"edge_laplacian\" else self.L\n",
    "                _, Dx = sla.eig(L)\n",
    "                dd = la.norm(Dx, axis=0)\n",
    "                W = np.diag(1./dd)\n",
    "                Dx = Dx / la.norm(Dx)  \n",
    "                Domp = Dx@W\n",
    "                X = np.apply_along_axis(lambda x: get_omp_coeff(self.K0, Domp.real, x), axis=0, arr=self.Y_train)\n",
    "                X = np.tile(X, (self.P,1))\n",
    "                self.X_opt_train = X\n",
    "\n",
    "        # Otherwise use prior info about the dictionary to initialize both the dictionary and the sparse representation\n",
    "        else:\n",
    "            \n",
    "            self.h_opt = h_prior\n",
    "\n",
    "            if self.dictionary_type == \"separated\":\n",
    "                self.D_opt = generate_dictionary(h_prior, \n",
    "                                                 self.P, \n",
    "                                                 self.Luj, \n",
    "                                                 self.Ldj)\n",
    "                self.X_opt_train = sparse_transform(self.D_opt, \n",
    "                                                    self.K0, \n",
    "                                                    self.Y_train)\n",
    "            else: \n",
    "                self.D_opt = generate_dictionary(h_prior, \n",
    "                                                 self.P, \n",
    "                                                 self.Lj)\n",
    "                self.X_opt_train = sparse_transform(self.D_opt, \n",
    "                                                    self.K0, \n",
    "                                                    self.Y_train)             \n",
    "\n",
    "   \n",
    "    def save_results(func):\n",
    "        @wraps(func)\n",
    "        def wrapper(self, *args, **kwargs):\n",
    "\n",
    "            outputs = func(self, *args, **kwargs)\n",
    "            func_name = func.__name__\n",
    "\n",
    "            if func_name == \"topological_dictionary_learn\":\n",
    "\n",
    "                path = os.getcwd()\n",
    "                dir_path = os.path.join(path, \n",
    "                                        'results', \n",
    "                                        'dictionary_learning',\n",
    "                                        f'{self.dictionary_type}')\n",
    "                name = f'learn_D_{self.dictionary_type}'\n",
    "                filename = os.path.join(dir_path, f'{name}.pkl')\n",
    "                save_var = {\"min_error_test\": self.min_error_test,\n",
    "                            \"min_error_train\": self.min_error_train,\n",
    "                            \"history\": outputs[2],\n",
    "                            \"h_opt\": self.h_opt,\n",
    "                            \"X_opt_test\": self.X_opt_test,\n",
    "                            \"X_opt_train\": self.X_opt_train,\n",
    "                            \"D_opt\": self.D_opt}\n",
    "                \n",
    "            elif func_name == \"learn_upper_laplacian\":\n",
    "\n",
    "                path = os.getcwd()\n",
    "                dir_path = os.path.join(path, 'results', 'topology_learning')\n",
    "                name = f'learn_T{int(self.true_prob_T*100)}'\n",
    "                filename = os.path.join(dir_path, f'{name}.pkl')\n",
    "                save_var = {\"min_error_test\": self.min_error_test,\n",
    "                            \"min_error_train\": self.min_error_train,\n",
    "                            \"history\": self.history,\n",
    "                            \"Lu_opt\": self.Lu,\n",
    "                            \"h_opt\": self.h_opt,\n",
    "                            \"X_opt_test\": self.X_opt_test,\n",
    "                            \"X_opt_train\": self.X_opt_train,\n",
    "                            \"D_opt\": self.D_opt}\n",
    "\n",
    "            if not os.path.exists(dir_path):\n",
    "                os.makedirs(dir_path)\n",
    "\n",
    "            try:\n",
    "                with open(filename, 'wb') as file:\n",
    "                    pickle.dump(save_var, file)\n",
    "            except IOError as e:\n",
    "                print(f\"An error occurred while writing the file: {e}\")\n",
    "            except Exception as e:\n",
    "                print(f\"An unexpected error occurred: {e}\")\n",
    "\n",
    "            return outputs  \n",
    "        return wrapper\n",
    "\n",
    "    def topological_dictionary_learn(self,\n",
    "                                     lambda_: float = 1e-3, \n",
    "                                     max_iter: int = 10, \n",
    "                                     patience: int = 10,\n",
    "                                     tol: float = 1e-7,\n",
    "                                     step_h: float = 1.,\n",
    "                                     step_x: float = 1.,\n",
    "                                     solver: str =\"MOSEK\", \n",
    "                                     verbose: bool = False) -> Tuple[np.ndarray, np.ndarray, List[float]]:\n",
    "        \"\"\"\n",
    "        Dictionary learning algorithm implementation for sparse representations of a signal on complex regular cellular.\n",
    "        The algorithm consists of an iterative alternating optimization procedure defined in two steps: the positive semi-definite programming step\n",
    "        for obtaining the coefficients and dictionary based on Hodge theory, and the Orthogonal Matching Pursuit step for constructing \n",
    "        the K0-sparse solution from the dictionary found in the previous step, which best approximates the original signal.\n",
    "        Args:\n",
    "            Y_train (np.ndarray): Training data.\n",
    "            Y_test (np.ndarray): Testing data.\n",
    "            J (int): Max order of the polynomial for the single sub-dictionary.\n",
    "            M (int): Number of data points (number of nodes in the data graph).\n",
    "            P (int): Number of kernels (sub-dictionaries).\n",
    "            D0 (np.ndarray): Initial dictionary.\n",
    "            X0 (np.ndarray): Initial sparse representation.\n",
    "            Lu (np.ndarray): Upper Laplacian matrix\n",
    "            Ld (np.ndarray): Lower Laplacian matrix\n",
    "            dictionary_type (str): Type of dictionary.\n",
    "            c (float): Boundary constant from the synthetic data generation process.\n",
    "            epsilon (float): Boundary constant from the synthetic data generation process.\n",
    "            K0 (int): Sparsity of the signal representation.\n",
    "            lambda_ (float, optional): Regularization parameter. Defaults to 1e-3.\n",
    "            max_iter (int, optional): Maximum number of iterations. Defaults to 10.\n",
    "            patience (int, optional): Patience for early stopping. Defaults to 10.\n",
    "            tol (float, optional): Tolerance value. Defaults to 1e-s.\n",
    "            verbose (int, optional): Verbosity level. Defaults to 0.\n",
    "\n",
    "        Returns:\n",
    "            Tuple[np.ndarray, np.ndarray, np.ndarray, np.ndarray, np.ndarray]:\n",
    "            minimum training error, minimum testing error, optimal coefficients, optimal testing sparse representation, and optimal training sparse representation.\n",
    "        \"\"\"\n",
    "\n",
    "        # Define hyperparameters\n",
    "        iter_, pat_iter = 1, 0\n",
    "        hist = []\n",
    "\n",
    "        if self.dict_is_learnalbe:\n",
    "\n",
    "            # Init the dictionary and the sparse representation \n",
    "            D_coll = [cp.Constant(self.D_opt[:,(self.M*i):(self.M*(i+1))]) for i in range(self.P)]\n",
    "            Dsum = cp.Constant(np.zeros((self.M, self.M)))\n",
    "            h_opt = self.h_opt\n",
    "            Y = cp.Constant(self.Y_train)\n",
    "            X_tr = self.X_opt_train\n",
    "            X_te = self.X_opt_test\n",
    "            I = cp.Constant(np.eye(self.M))\n",
    "            \n",
    "            while pat_iter < patience and iter_ <= max_iter:\n",
    "                \n",
    "                # SDP Step\n",
    "                X = cp.Constant(X_tr)\n",
    "                if iter_ != 1:\n",
    "                    D_coll = [cp.Constant(D[:,(self.M*i):(self.M*(i+1))]) for i in range(self.P)]\n",
    "                    Dsum = cp.Constant(np.zeros((self.M, self.M)))\n",
    "                \n",
    "                # Define the objective function\n",
    "                if self.dictionary_type in [\"joint\", \"edge_laplacian\"]:\n",
    "                    # Init the variables\n",
    "                    h = cp.Variable((self.P, self.J))\n",
    "                    hI = cp.Variable((self.P, 1))\n",
    "                    h.value, hI.value = h_opt\n",
    "                    for i in range(0,self.P):\n",
    "                        tmp =  cp.Constant(np.zeros((self.M, self.M)))\n",
    "                        for j in range(0,self.J):\n",
    "                            tmp += (cp.Constant(self.Lj[j, :, :]) * h[i,j])\n",
    "                        tmp += (I*hI[i])\n",
    "                        D_coll[i] = tmp\n",
    "                        Dsum += tmp\n",
    "                    D = cp.hstack([D_coll[i]for i in range(self.P)])\n",
    "                    term1 = cp.square(cp.norm((Y - D @ X), 'fro'))\n",
    "                    term2 = cp.square(cp.norm(h, 'fro')*lambda_)\n",
    "                    term3 = cp.square(cp.norm(hI, 'fro')*lambda_)\n",
    "                    obj = cp.Minimize(term1 + term2 + term3)\n",
    "\n",
    "                else:\n",
    "                    # Init the variables\n",
    "                    hI = cp.Variable((self.P, self.J))\n",
    "                    hS = cp.Variable((self.P, self.J))\n",
    "                    hH = cp.Variable((self.P, 1))\n",
    "                    hH.value, hS.value, hI.value = h_opt ##################### OCCHIO\n",
    "                    for i in range(0,self.P):\n",
    "                        tmp =  cp.Constant(np.zeros((self.M, self.M)))\n",
    "                        for j in range(0,self.J):\n",
    "                            tmp += ((cp.Constant(self.Luj[j, :, :])*hS[i,j]) + (cp.Constant(self.Ldj[j, :, :])*hI[i,j]))\n",
    "                        tmp += (I*hH[i])\n",
    "                        D_coll[i] = tmp\n",
    "                        Dsum += tmp\n",
    "                    D = cp.hstack([D_coll[i] for i in range(self.P)])\n",
    "        \n",
    "                    term1 = cp.square(cp.norm((Y - D @ X), 'fro'))\n",
    "                    term2 = cp.square(cp.norm(hI, 'fro')*lambda_)\n",
    "                    term3 = cp.square(cp.norm(hS, 'fro')*lambda_)\n",
    "                    term4 = cp.square(cp.norm(hH, 'fro')*lambda_)\n",
    "                    obj = cp.Minimize(term1 + term2 + term3 + term4)\n",
    "\n",
    "                # Define the constraints\n",
    "                constraints = [D_coll[i] >> 0 for i in range(self.P)] + \\\n",
    "                                [(cp.multiply(self.c, I) - D_coll[i]) >> 0 for i in range(self.P)] + \\\n",
    "                                [(Dsum - cp.multiply((self.c - self.epsilon), I)) >> 0, (cp.multiply((self.c + self.epsilon), I) - Dsum) >> 0]\n",
    "\n",
    "                prob = cp.Problem(obj, constraints)\n",
    "                prob.solve(solver=eval(f'cp.{solver}'), verbose=False)\n",
    "\n",
    "                # Dictionary Update\n",
    "                D = D.value\n",
    "                if self.dictionary_type in [\"joint\", \"edge_laplacian\"]:\n",
    "                    h_opt = [h_opt[0] + step_h*(h.value - h_opt[0]),\n",
    "                             h_opt[1] + step_h*(hI.value - h_opt[1])]\n",
    "                else:\n",
    "                    h_opt = [h_opt[0] + step_h*(hH.value-h_opt[0]),\n",
    "                             h_opt[1] + step_h*(hS.value-h_opt[1]), \n",
    "                             h_opt[2] + step_h*(hI.value-h_opt[2])]\n",
    "\n",
    "                # OMP Step\n",
    "                X_te_tmp, X_tr_tmp = sparse_transform(D, self.K0, self.Y_test, self.Y_train)\n",
    "                # Sparse Representation Update\n",
    "                X_tr = X_tr + step_x*(X_tr_tmp - X_tr)\n",
    "                X_te = X_te + step_x*(X_te_tmp - X_te)\n",
    "\n",
    "                # Error Update\n",
    "                error_train = nmse(D, X_tr, self.Y_train, self.m_train)\n",
    "                error_test = nmse(D, X_te, self.Y_test, self.m_test)\n",
    "\n",
    "                hist.append(error_test)\n",
    "                \n",
    "                # Error Storing\n",
    "                if (error_train < self.min_error_train) and (abs(error_train) > np.finfo(float).eps) and (abs(error_train - self.min_error_train) > tol):\n",
    "                    self.X_opt_train = X_tr\n",
    "                    self.min_error_train = error_train\n",
    "\n",
    "                if (error_test < self.min_error_test) and (abs(error_test) > np.finfo(float).eps) and (abs(error_test - self.min_error_test) > tol):\n",
    "                    self.h_opt = h_opt\n",
    "                    self.D_opt = D\n",
    "                    self.X_opt_test = X_te\n",
    "                    self.min_error_test = error_test\n",
    "                    pat_iter = 0\n",
    "\n",
    "                    if verbose == 1:\n",
    "                        print(\"New Best Test Error:\", self.min_error_test)\n",
    "                else:\n",
    "                    pat_iter += 1\n",
    "\n",
    "                iter_ += 1\n",
    "        \n",
    "        else:\n",
    "\n",
    "            # Fourier Dictionary Benchmark\n",
    "            _, self.D_opt = sla.eigh(self.L)\n",
    "            self.X_opt_test, self.X_opt_train = sparse_transform(self.D_opt, self.K0, self.Y_test, self.Y_train)\n",
    "\n",
    "            # Error Updating\n",
    "            self.min_error_train = nmse(self.D_opt, self.X_opt_train, self.Y_train, self.m_train)\n",
    "            self.min_error_test= nmse(self.D_opt, self.X_opt_test, self.Y_test, self.m_test)\n",
    "            \n",
    "        return self.min_error_test, self.min_error_train, hist\n",
    "    \n",
    "\n",
    "    def _aux_matrix_update(self, X):\n",
    "\n",
    "        I = [np.eye(self.M)]\n",
    "        if self.dictionary_type==\"separated\":\n",
    "            LLu = [lu for lu in self.Luj]\n",
    "            LLd = [ld for ld in self.Ldj]\n",
    "            LL = np.array(I+LLu+LLd)\n",
    "        else:\n",
    "            LL = [l for l in self.Lj]\n",
    "            LL = np.array(I + LL)\n",
    "\n",
    "        P_aux = np.array([LL@X[(i*self.M): ((i+1)*self.M), :] for i in range(self.P)])\n",
    "        self.P_aux = rearrange(P_aux, 'b h w c -> (b h) w c')\n",
    "    \n",
    "    def topological_dictionary_learn_qp(self,\n",
    "                                        lambda_: float = 1e-3, \n",
    "                                        max_iter: int = 10, \n",
    "                                        patience: int = 10,\n",
    "                                        tol: float = 1e-7,\n",
    "                                        solver: str = 'GUROBI',\n",
    "                                        step_h: float = 1.,\n",
    "                                        step_x: float = 1.,\n",
    "                                        verbose: bool = False) -> Tuple[np.ndarray, np.ndarray, List[float]]:\n",
    "        \n",
    "        # Define hyperparameters\n",
    "        iter_, pat_iter = 1, 0\n",
    "        hist = []\n",
    "\n",
    "        # Learnable Dictionary -> ADMM optimization algorithm\n",
    "        if self.dict_is_learnable:\n",
    "            \n",
    "            # Init the the sparse representation\n",
    "            h_opt = np.hstack([h.flatten() for h in self.h_opt]).reshape(-1,1)\n",
    "            X_tr = self.X_opt_train\n",
    "            X_te = self.X_opt_test\n",
    "            f = 2 if self.dictionary_type == \"separated\" else 1\n",
    "            reg = lambda_ * np.eye(self.P*(f*self.J+1))\n",
    "            I_s = cp.Constant(np.eye(self.P))\n",
    "            i_s = cp.Constant(np.ones((self.P,1)))\n",
    "            B = cp.Constant(self.B)\n",
    "\n",
    "            while pat_iter < patience and iter_ <= max_iter:\n",
    "\n",
    "                # Init variables and parameters\n",
    "                h = cp.Variable((self.P*(f*self.J+1), 1)) \n",
    "                self._aux_matrix_update(X_tr)\n",
    "                h.value = h_opt\n",
    "\n",
    "                Q = cp.Constant(np.einsum('imn, lmn -> il', self.P_aux, self.P_aux) + reg)\n",
    "                l = cp.Constant(np.einsum('mn, imn -> i', self.Y_train, self.P_aux))\n",
    "\n",
    "                # Quadratic term\n",
    "                term2 = cp.quad_form(h, Q, assume_PSD = True)\n",
    "                # Linear term\n",
    "                term1 = l@h\n",
    "                term1 = cp.multiply(-2, term1)[0]\n",
    "                \n",
    "                obj = cp.Minimize(term2+term1)\n",
    "\n",
    "                # Define the constraints\n",
    "                cons1 = cp.kron(I_s, B)@h\n",
    "                cons2 = cp.kron(i_s.T, B)@h\n",
    "                constraints = [cons1 >= 0] + \\\n",
    "                                [cons1 <= self.c] + \\\n",
    "                                [cons2 >= (self.c - self.epsilon)] + \\\n",
    "                                [cons2 <= (self.c + self.epsilon)]\n",
    "\n",
    "                prob = cp.Problem(obj, constraints)\n",
    "                prob.solve(solver=eval(f'cp.{solver}'), verbose=False)\n",
    "\n",
    "                # Update the dictionary\n",
    "\n",
    "                if self.dictionary_type in [\"joint\", \"edge_laplacian\"]:\n",
    "                    h_tmp = _split_coeffs(h, self.P, self.J)\n",
    "                    # print(h_tmp.shape)\n",
    "                    # h_tmp = h.value.reshape(self.P, self.J+1)\n",
    "                    D = generate_dictionary(h_tmp, self.P, self.Lj)                      \n",
    "                    h_opt = h_opt + step_h*(h.value - h_opt)\n",
    "                else:\n",
    "\n",
    "                    h_list = _split_coeffs(h, self.P, self.J, sep=True)\n",
    "                    D = generate_dictionary(h_list, self.P, self.Luj, self.Ldj)                                \n",
    "                    h_opt = h_opt + step_h*(h.value - h_opt)\n",
    "\n",
    "\n",
    "                # OMP Step\n",
    "                X_te_tmp, X_tr_tmp = sparse_transform(D, self.K0, self.Y_test, self.Y_train)\n",
    "                # Sparse Representation Update\n",
    "                X_tr = X_tr + step_x*(X_tr_tmp - X_tr)\n",
    "                X_te = X_te + step_x*(X_te_tmp - X_te)\n",
    "\n",
    "                # Error Update\n",
    "                error_train = nmse(D, X_tr, self.Y_train, self.m_train)\n",
    "                error_test = nmse(D, X_te, self.Y_test, self.m_test)\n",
    "\n",
    "                hist.append(error_test)\n",
    "                \n",
    "                # Error Storing\n",
    "                if (error_train < self.min_error_train) and (abs(error_train) > np.finfo(float).eps) and (abs(error_train - self.min_error_train) > tol):\n",
    "                    self.X_opt_train = X_tr\n",
    "                    self.min_error_train = error_train\n",
    "\n",
    "                if (error_test < self.min_error_test) and (abs(error_test) > np.finfo(float).eps) and (abs(error_test - self.min_error_test) > tol):\n",
    "                    self.h_opt = h_list if self.dictionary_type == 'separated' else h_opt\n",
    "                    self.D_opt = D\n",
    "                    self.X_opt_test = X_te\n",
    "                    self.min_error_test = error_test\n",
    "                    pat_iter = 0\n",
    "\n",
    "                    if verbose == 1:\n",
    "                        print(\"New Best Test Error:\", self.min_error_test)\n",
    "                else:\n",
    "                    pat_iter += 1\n",
    "\n",
    "                iter_ += 1\n",
    "        \n",
    "        # Analytic Dictionary -> directly go to OMP step\n",
    "        else:\n",
    "            \n",
    "            if self.dictionary_type == \"fourier\":\n",
    "                # Fourier Dictionary Benchmark\n",
    "                _, self.D_opt = sla.eigh(self.L)\n",
    "\n",
    "            elif self.dictionary_type == \"slepians\":\n",
    "                SS = SimplicianSlepians(self.B1, \n",
    "                                        self.B2, \n",
    "                                        self.S, \n",
    "                                        self.R,\n",
    "                                        verbose=False, \n",
    "                                        top_K = self.top_K_slepians)\n",
    "                self.D_opt = SS.atoms_flat\n",
    "                \n",
    "\n",
    "            elif self.dictionary_type == \"wavelet\":\n",
    "                SH = SeparateHodgelet(self.B1, \n",
    "                                      self.B2,\n",
    "                                      *log_wavelet_kernels_gen(3, 4, np.log(np.max(self.w1))),\n",
    "                                      *log_wavelet_kernels_gen(3, 4, np.log(np.max(self.w2))))\n",
    "                self.D_opt = SH.atoms_flat\n",
    "                # print(self.D_opt.shape)\n",
    "            \n",
    "            # OMP\n",
    "            self.X_opt_test, self.X_opt_train = sparse_transform(self.D_opt, self.K0, self.Y_test, self.Y_train)\n",
    "            # Error Updating\n",
    "            self.min_error_train = nmse(self.D_opt, self.X_opt_train, self.Y_train, self.m_train)\n",
    "            self.min_error_test= nmse(self.D_opt, self.X_opt_test, self.Y_test, self.m_test)\n",
    "\n",
    "        return self.min_error_test, self.min_error_train, hist\n",
    "    \n",
    "    @save_results\n",
    "    def learn_upper_laplacian(self,\n",
    "                              Lu_new: np.ndarray = None,\n",
    "                              filter: np.ndarray = 1,\n",
    "                              h_prior: np.ndarray = None,\n",
    "                              lambda_: float = 1e-3, \n",
    "                              max_iter: int = 10, \n",
    "                              patience: int = 10,\n",
    "                              tol: float = 1e-7,\n",
    "                              step_h: float = 1.,\n",
    "                              step_x: float = 1.,\n",
    "                              mode: str = \"optimistic\",\n",
    "                              verbose: bool = False,\n",
    "                              warmup: int = 0,\n",
    "                              QP=False,\n",
    "                              cont=False):\n",
    "    \n",
    "        assert step_h<1 or step_h>0, \"You must provide a step-size between 0 and 1.\"\n",
    "        assert step_x<1 or step_x>0, \"You must provide a step-size between 0 and 1.\"\n",
    "        assert (mode==\"optimistic\") or (mode==\"pessimistic\"), f'{mode} is not a legal mode: \\\"optimistic\\\" or \\\"pessimistic\\\" are the only ones allowed.'\n",
    "        \n",
    "        # Check if we are executing the first recursive iteration\n",
    "        if np.all(Lu_new == None):\n",
    "            T = self.B2.shape[1]\n",
    "            if mode==\"optimistic\":\n",
    "                filter = np.ones(T)\n",
    "                self.warmup=0  \n",
    "            else:\n",
    "                filter = np.zeros(T)\n",
    "                self.update_Lu(np.zeros(self.Lu.shape)) # start with an \"empty\" upper Laplacian\n",
    "                self.warmup = warmup\n",
    "        else:\n",
    "            self.update_Lu(Lu_new)\n",
    "\n",
    "        self.init_dict(h_prior=h_prior,\n",
    "                       mode=\"only_X\")\n",
    "\n",
    "        if QP:\n",
    "            _, _, hist = self.topological_dictionary_learn_qp(lambda_=lambda_,\n",
    "                                                            max_iter=max_iter,\n",
    "                                                            patience=patience,\n",
    "                                                            tol=tol,\n",
    "                                                            step_h=step_h,\n",
    "                                                            step_x=step_x,\n",
    "                                                            solver='GUROBI')\n",
    "        else:\n",
    "            _, _, hist = self.topological_dictionary_learn(lambda_=lambda_,\n",
    "                                                            max_iter=max_iter,\n",
    "                                                            patience=patience,\n",
    "                                                            tol=tol,\n",
    "                                                            step_h=step_h,\n",
    "                                                            step_x=step_x)\n",
    "                        \n",
    "        self.history.append(hist)\n",
    "        search_space = np.where(filter == 1) if mode==\"optimistic\" else np.where(filter == 0)   \n",
    "        sigmas = pd.DataFrame({\"idx\": search_space[0]})\n",
    "\n",
    "        sigmas[\"sigma\"] = sigmas.idx.apply(lambda _: filter)\n",
    "        if mode==\"optimistic\":\n",
    "            sigmas[\"sigma\"] = sigmas.apply(lambda x: _indicator_matrix(x), axis=1)\n",
    "        else:\n",
    "            sigmas[\"sigma\"] = sigmas.apply(lambda x: _indicator_matrix_rev(x), axis=1)\n",
    "        sigmas[\"Luj\"] = sigmas.apply(lambda x: _compute_Luj(x, self.B2, self.J), axis=1)\n",
    "        sigmas[\"D\"] = sigmas.apply(lambda x: generate_dictionary(self.h_opt, self.P, x.Luj, self.Ldj), axis=1)\n",
    "        sigmas[\"X\"] = sigmas.D.apply(lambda x: sparse_transform(x, self.K0, self.Y_test))\n",
    "        sigmas[\"NMSE\"] = sigmas.apply(lambda x: nmse(x.D, x.X, self.Y_test, self.m_test), axis=1)\n",
    "        \n",
    "        if self.warmup>0:\n",
    "            candidate_error = sigmas.NMSE.min() - np.finfo(float).eps\n",
    "            self.warmup-=1\n",
    "        else:\n",
    "            candidate_error = sigmas.NMSE.min()\n",
    "        idx_min = sigmas.NMSE.idxmin()\n",
    "\n",
    "        \n",
    "        if candidate_error < self.min_error_test:\n",
    "            S = sigmas.sigma[idx_min]\n",
    "            Lu_new = self.B2 @ S @ self.B2.T\n",
    "            filter = np.diagonal(S)\n",
    "\n",
    "            if verbose:\n",
    "                if mode==\"optimistic\":\n",
    "                    print(f'Removing 1 triangle from topology... \\n ... New min test error: {candidate_error} !')\n",
    "                else:\n",
    "                    print(f'Adding 1 triangle to topology... \\n ... New min test error: {candidate_error} !')\n",
    "\n",
    "            return self.learn_upper_laplacian(h_prior=self.h_opt,\n",
    "                                              Lu_new=Lu_new,\n",
    "                                              filter=filter,\n",
    "                                              lambda_=lambda_,\n",
    "                                              max_iter=max_iter,\n",
    "                                              patience=patience,\n",
    "                                              tol=tol,\n",
    "                                              step_h=step_h,\n",
    "                                              step_x=step_x,\n",
    "                                              mode=mode,\n",
    "                                              verbose=verbose,\n",
    "                                              QP=QP,\n",
    "                                              cont=cont)\n",
    "        \n",
    "        # For the last recursions of \"pessimistic\" mode try some recursion of the \"optimistic\"\n",
    "        # to remove the warm-up randomly-added triangles\n",
    "        if mode == \"pessimistic\" and not cont:\n",
    "            return  self.learn_upper_laplacian(h_prior=self.h_opt,\n",
    "                                              Lu_new=Lu_new,\n",
    "                                              filter=filter,\n",
    "                                              lambda_=lambda_,\n",
    "                                              max_iter=max_iter,\n",
    "                                              patience=patience,\n",
    "                                              tol=tol,\n",
    "                                              step_h=step_h,\n",
    "                                              step_x=step_x,\n",
    "                                              mode=\"optimistic\",\n",
    "                                              verbose=verbose,\n",
    "                                              QP=QP,\n",
    "                                              cont=True)\n",
    "        \n",
    "        # Then after we added triangles and removed the randomly added ones, continue adding!\n",
    "        elif mode != \"pessimistic\" and cont:\n",
    "\n",
    "            print(\"Ce provo!\")\n",
    "            return  self.learn_upper_laplacian(h_prior=self.h_opt,\n",
    "                                              Lu_new=Lu_new,\n",
    "                                              filter=filter,\n",
    "                                              lambda_=lambda_,\n",
    "                                              max_iter=max_iter,\n",
    "                                              patience=patience,\n",
    "                                              tol=tol,\n",
    "                                              step_h=step_h,\n",
    "                                              step_x=step_x,\n",
    "                                              mode=\"pessimistic\",\n",
    "                                              verbose=verbose,\n",
    "                                              QP=QP,\n",
    "                                              cont=cont,\n",
    "                                              warmup=warmup)  \n",
    "                  \n",
    "        self.B2 = self.B2@np.diag(filter)\n",
    "        return self.min_error_test, self.history, self.Lu, self.B2\n",
    "\n",
    "\n"
   ]
  },
  {
   "cell_type": "code",
   "execution_count": 207,
   "metadata": {},
   "outputs": [],
   "source": [
    "topoX2 = TspSolver(X_train=X_train[:, :, s], \n",
    "                X_test=X_test[:, :, s], \n",
    "                Y_train=Y_train[:, :, s], \n",
    "                Y_test=Y_test[:, :, s],\n",
    "                **topo_params)"
   ]
  },
  {
   "cell_type": "code",
   "execution_count": 144,
   "metadata": {},
   "outputs": [],
   "source": [
    "step_x = 1.\n",
    "step_h = 1."
   ]
  },
  {
   "cell_type": "code",
   "execution_count": 208,
   "metadata": {},
   "outputs": [],
   "source": [
    "e1, e2, hist = topoX2.topological_dictionary_learn_qp(lambda_=lambda_,\n",
    "                                        max_iter=max_iter,\n",
    "                                        patience=patience,\n",
    "                                        tol=tol,\n",
    "                                        step_h=step_h,\n",
    "                                        step_x=step_x,\n",
    "                                        solver='GUROBI')"
   ]
  },
  {
   "cell_type": "code",
   "execution_count": 209,
   "metadata": {},
   "outputs": [
    {
     "data": {
      "text/plain": [
       "0.023291742771661517"
      ]
     },
     "execution_count": 209,
     "metadata": {},
     "output_type": "execute_result"
    }
   ],
   "source": [
    "e1"
   ]
  },
  {
   "cell_type": "code",
   "execution_count": 153,
   "metadata": {},
   "outputs": [
    {
     "data": {
      "text/plain": [
       "9"
      ]
     },
     "execution_count": 153,
     "metadata": {},
     "output_type": "execute_result"
    }
   ],
   "source": [
    "P*(J+1)"
   ]
  },
  {
   "cell_type": "code",
   "execution_count": 36,
   "metadata": {},
   "outputs": [
    {
     "data": {
      "text/plain": [
       "0.020213589758395246"
      ]
     },
     "execution_count": 36,
     "metadata": {},
     "output_type": "execute_result"
    }
   ],
   "source": [
    "def simulate_top_learning(X_train, \n",
    "                            X_test,\n",
    "                            Y_train,\n",
    "                            Y_test, \n",
    "                            c_true, \n",
    "                            epsilon_true, \n",
    "                            n_sim, \n",
    "                            topo_params, \n",
    "                            K0_coll,\n",
    "                            max_iter,\n",
    "                            patience,\n",
    "                            tol,\n",
    "                            step_h: int = 1,\n",
    "                            step_x: int = 1,\n",
    "                            verbose: bool = True,\n",
    "                            include_sdp: bool = True):\n",
    "\n",
    "\n",
    "    min_error_qp_test = np.zeros((n_sim, len(K0_coll)))\n",
    "    min_error_qp_comp_test = np.zeros((n_sim, len(K0_coll)))\n",
    "\n",
    "    algo_errors = {\n",
    "        \"qp\": min_error_qp_test,\n",
    "        \"qp_comp\": min_error_qp_comp_test,\n",
    "        }\n",
    "    \n",
    "    algo_types = {\n",
    "        \"qp\": (\"QP\",True,False),\n",
    "        \"qp_comp\": (\"QP complete\",True,True)\n",
    "        }\n",
    "\n",
    "    if include_sdp:\n",
    "        min_error_sdp_test = np.zeros((n_sim, len(K0_coll)))\n",
    "        algo_errors[\"sdp\"] = min_error_sdp_test\n",
    "        algo_types[\"sdp\"] = (\"SDP\",False,False)\n",
    "        # min_error_sdp_comp_test = np.zeros((n_sim, len(K0_coll)))\n",
    "        # algo_errors[\"sdp_comp\"] = min_error_sdp_comp_test\n",
    "        # algo_types[\"sdp_comp\"] = (\"SDP complete\",False,True)\n",
    "\n",
    "    for sim in range(n_sim):\n",
    "\n",
    "        for k0_index, k0 in tqdm(enumerate(K0_coll)):\n",
    "\n",
    "            for a in algo_types.items():\n",
    "\n",
    "                model = TspSolver(X_train=X_train[:, :, sim], \n",
    "                                    X_test=X_test[:, :, sim], \n",
    "                                    Y_train=Y_train[:, :, sim], \n",
    "                                    Y_test=Y_test[:, :, sim],\n",
    "                                    c=c_true[sim],\n",
    "                                    epsilon=epsilon_true[sim],\n",
    "                                    K0=k0,\n",
    "                                    dictionary_type=\"separated\",\n",
    "                                    **topo_params)\n",
    "\n",
    "                try:\n",
    "                    # Complete learning\n",
    "                    if a[1][2]:\n",
    "                        algo_errors[a[0]][sim,k0_index],  _, _, _ = model.learn_upper_laplacian(lambda_=lambda_, \n",
    "                                                                                                max_iter=max_iter,\n",
    "                                                                                                patience=patience, \n",
    "                                                                                                tol=tol,\n",
    "                                                                                                verbose=False,\n",
    "                                                                                                step_h=step_h,\n",
    "                                                                                                step_x=step_x,\n",
    "                                                                                                QP=a[1][1])\n",
    "                    # Learn only the dictionary (no topology)\n",
    "                    else:\n",
    "                        if a[1][1]:\n",
    "                            algo_errors[a[0]][sim,k0_index], _, _ = model.topological_dictionary_learn(lambda_=lambda_, \n",
    "                                                                                                        max_iter=max_iter,\n",
    "                                                                                                        patience=patience, \n",
    "                                                                                                        tol=tol,\n",
    "                                                                                                        step_h=step_h,\n",
    "                                                                                                        step_x=step_x)\n",
    "                        else:\n",
    "                            algo_errors[a[0]][sim,k0_index], _, _ = model.topological_dictionary_learn_qp(lambda_=lambda_, \n",
    "                                                                                                        max_iter=max_iter,\n",
    "                                                                                                        patience=patience, \n",
    "                                                                                                        tol=tol,\n",
    "                                                                                                        step_h=step_h,\n",
    "                                                                                                        step_x=step_x)\n",
    "\n",
    "                    if verbose:\n",
    "                        print(f\"Simulation: {sim+1}/{n_sim} Sparsity: {k0} learning with {a[1][0]}... Done! Test Error: {algo_errors[a[0]][sim,k0_index]}\")\n",
    "                except:\n",
    "                    print(f'Simulation: {sim+1}/{n_sim} Sparsity: {k0} Testing {a[1][0]}... Diverged!')\n",
    "                    # If diverged, simply interpolate\n",
    "                    try:\n",
    "                        algo_errors[a[0]][sim,k0_index] = algo_errors[a[0]][sim-1,k0_index]\n",
    "                    except:\n",
    "                        algo_errors[a[0]][sim,k0_index] = algo_errors[a[0]][sim-1,k0_index]\n",
    "\n",
    "    return algo_errors"
   ]
  },
  {
   "cell_type": "markdown",
   "metadata": {},
   "source": [
    "### Slepians + Wave + Fourier + Edege Laplacian + Separated QP + Separated QP complete"
   ]
  },
  {
   "cell_type": "code",
   "execution_count": 6,
   "metadata": {},
   "outputs": [],
   "source": [
    "topo_params2 = {\"J\":J,\n",
    "                \"P\":P,\n",
    "                \"true_prob_T\":prob_T,\n",
    "                \"sub_size\":100,\n",
    "                \"seed\":0,\n",
    "                \"n\":40,\n",
    "                \"p_edges\":0.162\n",
    "                }"
   ]
  },
  {
   "cell_type": "code",
   "execution_count": 12,
   "metadata": {},
   "outputs": [
    {
     "name": "stderr",
     "output_type": "stream",
     "text": [
      "0it [00:00, ?it/s]"
     ]
    },
    {
     "name": "stdout",
     "output_type": "stream",
     "text": [
      "Simulation: 1/10 Sparsity: 5 learning with Slepians... Done! Test Error: 0.1675376933923439\n",
      "Simulation: 1/10 Sparsity: 5 learning with Wavelets... Done! Test Error: 0.1069475075823744\n",
      "Simulation: 1/10 Sparsity: 5 learning with Fourier... Done! Test Error: 0.28708937627490827\n"
     ]
    },
    {
     "name": "stderr",
     "output_type": "stream",
     "text": [
      "1it [00:11, 11.98s/it]"
     ]
    },
    {
     "name": "stdout",
     "output_type": "stream",
     "text": [
      "Simulation: 1/10 Sparsity: 5 learning with Edge Laplacian... Done! Test Error: 0.1411408187294678\n",
      "Simulation: 1/10 Sparsity: 9 learning with Slepians... Done! Test Error: 0.08019637904172106\n",
      "Simulation: 1/10 Sparsity: 9 learning with Wavelets... Done! Test Error: 0.04666810427310101\n",
      "Simulation: 1/10 Sparsity: 9 learning with Fourier... Done! Test Error: 0.16622603274100556\n"
     ]
    },
    {
     "name": "stderr",
     "output_type": "stream",
     "text": [
      "2it [00:47, 25.71s/it]"
     ]
    },
    {
     "name": "stdout",
     "output_type": "stream",
     "text": [
      "Simulation: 1/10 Sparsity: 9 learning with Edge Laplacian... Done! Test Error: 0.06600870944813829\n",
      "Simulation: 1/10 Sparsity: 13 learning with Slepians... Done! Test Error: 0.047451161633115205\n",
      "Simulation: 1/10 Sparsity: 13 learning with Wavelets... Done! Test Error: 0.0242150515148052\n",
      "Simulation: 1/10 Sparsity: 13 learning with Fourier... Done! Test Error: 0.10528722958128323\n"
     ]
    },
    {
     "name": "stderr",
     "output_type": "stream",
     "text": [
      "3it [01:39, 37.67s/it]"
     ]
    },
    {
     "name": "stdout",
     "output_type": "stream",
     "text": [
      "Simulation: 1/10 Sparsity: 13 learning with Edge Laplacian... Done! Test Error: 0.040515810999913617\n",
      "Simulation: 1/10 Sparsity: 17 learning with Slepians... Done! Test Error: 0.030103481571398895\n",
      "Simulation: 1/10 Sparsity: 17 learning with Wavelets... Done! Test Error: 0.014401794758336346\n",
      "Simulation: 1/10 Sparsity: 17 learning with Fourier... Done! Test Error: 0.06929246186461695\n"
     ]
    },
    {
     "name": "stderr",
     "output_type": "stream",
     "text": [
      "4it [02:24, 40.67s/it]"
     ]
    },
    {
     "name": "stdout",
     "output_type": "stream",
     "text": [
      "Simulation: 1/10 Sparsity: 17 learning with Edge Laplacian... Done! Test Error: 0.02789526126460969\n",
      "Simulation: 1/10 Sparsity: 21 learning with Slepians... Done! Test Error: 0.019926506227145892\n",
      "Simulation: 1/10 Sparsity: 21 learning with Wavelets... Done! Test Error: 0.009631193319034776\n",
      "Simulation: 1/10 Sparsity: 21 learning with Fourier... Done! Test Error: 0.04780386541584564\n"
     ]
    },
    {
     "name": "stderr",
     "output_type": "stream",
     "text": [
      "5it [03:45, 55.13s/it]"
     ]
    },
    {
     "name": "stdout",
     "output_type": "stream",
     "text": [
      "Simulation: 1/10 Sparsity: 21 learning with Edge Laplacian... Done! Test Error: 0.016444478308956102\n",
      "Simulation: 1/10 Sparsity: 25 learning with Slepians... Done! Test Error: 0.014159442655562876\n",
      "Simulation: 1/10 Sparsity: 25 learning with Wavelets... Done! Test Error: 0.006862185399523474\n",
      "Simulation: 1/10 Sparsity: 25 learning with Fourier... Done! Test Error: 0.03494004091975477\n"
     ]
    },
    {
     "name": "stderr",
     "output_type": "stream",
     "text": [
      "6it [05:05, 50.98s/it]\n"
     ]
    },
    {
     "name": "stdout",
     "output_type": "stream",
     "text": [
      "Simulation: 1/10 Sparsity: 25 learning with Edge Laplacian... Done! Test Error: 0.014073372219494075\n"
     ]
    },
    {
     "name": "stderr",
     "output_type": "stream",
     "text": [
      "0it [00:00, ?it/s]"
     ]
    },
    {
     "name": "stdout",
     "output_type": "stream",
     "text": [
      "Simulation: 2/10 Sparsity: 5 learning with Slepians... Done! Test Error: 0.1825991423364524\n",
      "Simulation: 2/10 Sparsity: 5 learning with Wavelets... Done! Test Error: 0.10843181738822483\n",
      "Simulation: 2/10 Sparsity: 5 learning with Fourier... Done! Test Error: 0.29139250904238184\n"
     ]
    },
    {
     "name": "stderr",
     "output_type": "stream",
     "text": [
      "1it [00:13, 13.60s/it]"
     ]
    },
    {
     "name": "stdout",
     "output_type": "stream",
     "text": [
      "Simulation: 2/10 Sparsity: 5 learning with Edge Laplacian... Done! Test Error: 0.16539477913446599\n",
      "Simulation: 2/10 Sparsity: 9 learning with Slepians... Done! Test Error: 0.08610475144363512\n",
      "Simulation: 2/10 Sparsity: 9 learning with Wavelets... Done! Test Error: 0.04194747826475868\n",
      "Simulation: 2/10 Sparsity: 9 learning with Fourier... Done! Test Error: 0.16550506974637286\n"
     ]
    },
    {
     "name": "stderr",
     "output_type": "stream",
     "text": [
      "2it [00:51, 27.76s/it]"
     ]
    },
    {
     "name": "stdout",
     "output_type": "stream",
     "text": [
      "Simulation: 2/10 Sparsity: 9 learning with Edge Laplacian... Done! Test Error: 0.07937193838039613\n",
      "Simulation: 2/10 Sparsity: 13 learning with Slepians... Done! Test Error: 0.04962095088610866\n",
      "Simulation: 2/10 Sparsity: 13 learning with Wavelets... Done! Test Error: 0.02127796999789187\n",
      "Simulation: 2/10 Sparsity: 13 learning with Fourier... Done! Test Error: 0.10468163362060723\n"
     ]
    },
    {
     "name": "stderr",
     "output_type": "stream",
     "text": [
      "3it [01:40, 37.50s/it]"
     ]
    },
    {
     "name": "stdout",
     "output_type": "stream",
     "text": [
      "Simulation: 2/10 Sparsity: 13 learning with Edge Laplacian... Done! Test Error: 0.050114550368773526\n",
      "Simulation: 2/10 Sparsity: 17 learning with Slepians... Done! Test Error: 0.030486666736825232\n",
      "Simulation: 2/10 Sparsity: 17 learning with Wavelets... Done! Test Error: 0.011970062839761545\n",
      "Simulation: 2/10 Sparsity: 17 learning with Fourier... Done! Test Error: 0.07055612864672474\n"
     ]
    },
    {
     "name": "stderr",
     "output_type": "stream",
     "text": [
      "4it [03:04, 55.77s/it]"
     ]
    },
    {
     "name": "stdout",
     "output_type": "stream",
     "text": [
      "Simulation: 2/10 Sparsity: 17 learning with Edge Laplacian... Done! Test Error: 0.03234034220470799\n",
      "Simulation: 2/10 Sparsity: 21 learning with Slepians... Done! Test Error: 0.019199852026459085\n",
      "Simulation: 2/10 Sparsity: 21 learning with Wavelets... Done! Test Error: 0.00714455537051323\n",
      "Simulation: 2/10 Sparsity: 21 learning with Fourier... Done! Test Error: 0.04849458420052512\n"
     ]
    },
    {
     "name": "stderr",
     "output_type": "stream",
     "text": [
      "5it [04:42, 71.18s/it]"
     ]
    },
    {
     "name": "stdout",
     "output_type": "stream",
     "text": [
      "Simulation: 2/10 Sparsity: 21 learning with Edge Laplacian... Done! Test Error: 0.025674288285462657\n",
      "Simulation: 2/10 Sparsity: 25 learning with Slepians... Done! Test Error: 0.013262306500518725\n",
      "Simulation: 2/10 Sparsity: 25 learning with Wavelets... Done! Test Error: 0.004655411332811838\n",
      "Simulation: 2/10 Sparsity: 25 learning with Fourier... Done! Test Error: 0.03398706322359796\n"
     ]
    },
    {
     "name": "stderr",
     "output_type": "stream",
     "text": [
      "6it [05:37, 56.22s/it]\n"
     ]
    },
    {
     "name": "stdout",
     "output_type": "stream",
     "text": [
      "Simulation: 2/10 Sparsity: 25 learning with Edge Laplacian... Done! Test Error: 0.04317208036790731\n"
     ]
    },
    {
     "name": "stderr",
     "output_type": "stream",
     "text": [
      "0it [00:00, ?it/s]"
     ]
    },
    {
     "name": "stdout",
     "output_type": "stream",
     "text": [
      "Simulation: 3/10 Sparsity: 5 learning with Slepians... Done! Test Error: 0.19314994832192645\n",
      "Simulation: 3/10 Sparsity: 5 learning with Wavelets... Done! Test Error: 0.1156935697807239\n",
      "Simulation: 3/10 Sparsity: 5 learning with Fourier... Done! Test Error: 0.2879283900004655\n"
     ]
    },
    {
     "name": "stderr",
     "output_type": "stream",
     "text": [
      "1it [00:13, 13.66s/it]"
     ]
    },
    {
     "name": "stdout",
     "output_type": "stream",
     "text": [
      "Simulation: 3/10 Sparsity: 5 learning with Edge Laplacian... Done! Test Error: 0.1518540190643247\n",
      "Simulation: 3/10 Sparsity: 9 learning with Slepians... Done! Test Error: 0.09302573564709543\n",
      "Simulation: 3/10 Sparsity: 9 learning with Wavelets... Done! Test Error: 0.04961340954368386\n",
      "Simulation: 3/10 Sparsity: 9 learning with Fourier... Done! Test Error: 0.16652367740708873\n"
     ]
    },
    {
     "name": "stderr",
     "output_type": "stream",
     "text": [
      "2it [00:41, 21.73s/it]"
     ]
    },
    {
     "name": "stdout",
     "output_type": "stream",
     "text": [
      "Simulation: 3/10 Sparsity: 9 learning with Edge Laplacian... Done! Test Error: 0.08347085471607397\n",
      "Simulation: 3/10 Sparsity: 13 learning with Slepians... Done! Test Error: 0.053596375494113474\n",
      "Simulation: 3/10 Sparsity: 13 learning with Wavelets... Done! Test Error: 0.024612032505684348\n",
      "Simulation: 3/10 Sparsity: 13 learning with Fourier... Done! Test Error: 0.10430995986527294\n"
     ]
    },
    {
     "name": "stderr",
     "output_type": "stream",
     "text": [
      "3it [01:43, 40.43s/it]"
     ]
    },
    {
     "name": "stdout",
     "output_type": "stream",
     "text": [
      "Simulation: 3/10 Sparsity: 13 learning with Edge Laplacian... Done! Test Error: 0.04748098288072124\n",
      "Simulation: 3/10 Sparsity: 17 learning with Slepians... Done! Test Error: 0.033247281412706636\n",
      "Simulation: 3/10 Sparsity: 17 learning with Wavelets... Done! Test Error: 0.014225893708999342\n",
      "Simulation: 3/10 Sparsity: 17 learning with Fourier... Done! Test Error: 0.07057350026782101\n"
     ]
    },
    {
     "name": "stderr",
     "output_type": "stream",
     "text": [
      "4it [03:05, 56.66s/it]"
     ]
    },
    {
     "name": "stdout",
     "output_type": "stream",
     "text": [
      "Simulation: 3/10 Sparsity: 17 learning with Edge Laplacian... Done! Test Error: 0.030536607362913637\n",
      "Simulation: 3/10 Sparsity: 21 learning with Slepians... Done! Test Error: 0.021496490181898465\n",
      "Simulation: 3/10 Sparsity: 21 learning with Wavelets... Done! Test Error: 0.009015969940559235\n",
      "Simulation: 3/10 Sparsity: 21 learning with Fourier... Done! Test Error: 0.05005828402748658\n"
     ]
    },
    {
     "name": "stderr",
     "output_type": "stream",
     "text": [
      "5it [04:37, 69.57s/it]"
     ]
    },
    {
     "name": "stdout",
     "output_type": "stream",
     "text": [
      "Simulation: 3/10 Sparsity: 21 learning with Edge Laplacian... Done! Test Error: 0.023555275341192672\n",
      "Simulation: 3/10 Sparsity: 25 learning with Slepians... Done! Test Error: 0.014751649592021\n",
      "Simulation: 3/10 Sparsity: 25 learning with Wavelets... Done! Test Error: 0.006079479187915789\n",
      "Simulation: 3/10 Sparsity: 25 learning with Fourier... Done! Test Error: 0.035339452883015314\n"
     ]
    },
    {
     "name": "stderr",
     "output_type": "stream",
     "text": [
      "6it [06:27, 64.52s/it]\n"
     ]
    },
    {
     "name": "stdout",
     "output_type": "stream",
     "text": [
      "Simulation: 3/10 Sparsity: 25 learning with Edge Laplacian... Done! Test Error: 0.01683276572521799\n"
     ]
    },
    {
     "name": "stderr",
     "output_type": "stream",
     "text": [
      "0it [00:00, ?it/s]"
     ]
    },
    {
     "name": "stdout",
     "output_type": "stream",
     "text": [
      "Simulation: 4/10 Sparsity: 5 learning with Slepians... Done! Test Error: 0.18639150251368802\n",
      "Simulation: 4/10 Sparsity: 5 learning with Wavelets... Done! Test Error: 0.11522949133756558\n",
      "Simulation: 4/10 Sparsity: 5 learning with Fourier... Done! Test Error: 0.3068563053004578\n"
     ]
    },
    {
     "name": "stderr",
     "output_type": "stream",
     "text": [
      "1it [00:18, 18.43s/it]"
     ]
    },
    {
     "name": "stdout",
     "output_type": "stream",
     "text": [
      "Simulation: 4/10 Sparsity: 5 learning with Edge Laplacian... Done! Test Error: 0.1794513485757801\n",
      "Simulation: 4/10 Sparsity: 9 learning with Slepians... Done! Test Error: 0.09237178395993616\n",
      "Simulation: 4/10 Sparsity: 9 learning with Wavelets... Done! Test Error: 0.04764832806828684\n",
      "Simulation: 4/10 Sparsity: 9 learning with Fourier... Done! Test Error: 0.18411688170246615\n"
     ]
    },
    {
     "name": "stderr",
     "output_type": "stream",
     "text": [
      "2it [00:50, 26.67s/it]"
     ]
    },
    {
     "name": "stdout",
     "output_type": "stream",
     "text": [
      "Simulation: 4/10 Sparsity: 9 learning with Edge Laplacian... Done! Test Error: 0.09333309027858046\n",
      "Simulation: 4/10 Sparsity: 13 learning with Slepians... Done! Test Error: 0.05280620304740224\n",
      "Simulation: 4/10 Sparsity: 13 learning with Wavelets... Done! Test Error: 0.023352459667708388\n",
      "Simulation: 4/10 Sparsity: 13 learning with Fourier... Done! Test Error: 0.11742241472847342\n"
     ]
    },
    {
     "name": "stderr",
     "output_type": "stream",
     "text": [
      "3it [01:37, 35.57s/it]"
     ]
    },
    {
     "name": "stdout",
     "output_type": "stream",
     "text": [
      "Simulation: 4/10 Sparsity: 13 learning with Edge Laplacian... Done! Test Error: 0.05753993127120547\n",
      "Simulation: 4/10 Sparsity: 17 learning with Slepians... Done! Test Error: 0.03272327930616986\n",
      "Simulation: 4/10 Sparsity: 17 learning with Wavelets... Done! Test Error: 0.013132045548939375\n",
      "Simulation: 4/10 Sparsity: 17 learning with Fourier... Done! Test Error: 0.07892661432705723\n"
     ]
    },
    {
     "name": "stderr",
     "output_type": "stream",
     "text": [
      "4it [02:39, 46.09s/it]"
     ]
    },
    {
     "name": "stdout",
     "output_type": "stream",
     "text": [
      "Simulation: 4/10 Sparsity: 17 learning with Edge Laplacian... Done! Test Error: 0.04014854078441036\n",
      "Simulation: 4/10 Sparsity: 21 learning with Slepians... Done! Test Error: 0.021223482643665637\n",
      "Simulation: 4/10 Sparsity: 21 learning with Wavelets... Done! Test Error: 0.007904065052395668\n",
      "Simulation: 4/10 Sparsity: 21 learning with Fourier... Done! Test Error: 0.054365415911158135\n"
     ]
    },
    {
     "name": "stderr",
     "output_type": "stream",
     "text": [
      "5it [03:55, 56.88s/it]"
     ]
    },
    {
     "name": "stdout",
     "output_type": "stream",
     "text": [
      "Simulation: 4/10 Sparsity: 21 learning with Edge Laplacian... Done! Test Error: 0.02694186904873354\n",
      "Simulation: 4/10 Sparsity: 25 learning with Slepians... Done! Test Error: 0.014798107446594122\n",
      "Simulation: 4/10 Sparsity: 25 learning with Wavelets... Done! Test Error: 0.005022674264261901\n",
      "Simulation: 4/10 Sparsity: 25 learning with Fourier... Done! Test Error: 0.03759703017532326\n"
     ]
    },
    {
     "name": "stderr",
     "output_type": "stream",
     "text": [
      "6it [04:15, 42.57s/it]\n"
     ]
    },
    {
     "name": "stdout",
     "output_type": "stream",
     "text": [
      "Simulation: 4/10 Sparsity: 25 learning with Edge Laplacian... Done! Test Error: 0.05700689959078127\n"
     ]
    },
    {
     "name": "stderr",
     "output_type": "stream",
     "text": [
      "0it [00:00, ?it/s]"
     ]
    },
    {
     "name": "stdout",
     "output_type": "stream",
     "text": [
      "Simulation: 5/10 Sparsity: 5 learning with Slepians... Done! Test Error: 0.18170209995944317\n",
      "Simulation: 5/10 Sparsity: 5 learning with Wavelets... Done! Test Error: 0.1052082400392602\n",
      "Simulation: 5/10 Sparsity: 5 learning with Fourier... Done! Test Error: 0.29899233731568126\n"
     ]
    },
    {
     "name": "stderr",
     "output_type": "stream",
     "text": [
      "1it [00:14, 14.95s/it]"
     ]
    },
    {
     "name": "stdout",
     "output_type": "stream",
     "text": [
      "Simulation: 5/10 Sparsity: 5 learning with Edge Laplacian... Done! Test Error: 0.16967544593406733\n",
      "Simulation: 5/10 Sparsity: 9 learning with Slepians... Done! Test Error: 0.08553686582539777\n",
      "Simulation: 5/10 Sparsity: 9 learning with Wavelets... Done! Test Error: 0.04362415653125184\n",
      "Simulation: 5/10 Sparsity: 9 learning with Fourier... Done! Test Error: 0.16606449480460414\n"
     ]
    },
    {
     "name": "stderr",
     "output_type": "stream",
     "text": [
      "2it [00:43, 23.15s/it]"
     ]
    },
    {
     "name": "stdout",
     "output_type": "stream",
     "text": [
      "Simulation: 5/10 Sparsity: 9 learning with Edge Laplacian... Done! Test Error: 0.08043795343767689\n",
      "Simulation: 5/10 Sparsity: 13 learning with Slepians... Done! Test Error: 0.04812318485257515\n",
      "Simulation: 5/10 Sparsity: 13 learning with Wavelets... Done! Test Error: 0.021869499159494404\n",
      "Simulation: 5/10 Sparsity: 13 learning with Fourier... Done! Test Error: 0.102686222962708\n"
     ]
    },
    {
     "name": "stderr",
     "output_type": "stream",
     "text": [
      "3it [01:44, 40.40s/it]"
     ]
    },
    {
     "name": "stdout",
     "output_type": "stream",
     "text": [
      "Simulation: 5/10 Sparsity: 13 learning with Edge Laplacian... Done! Test Error: 0.04265184046458769\n",
      "Simulation: 5/10 Sparsity: 17 learning with Slepians... Done! Test Error: 0.029277151569514194\n",
      "Simulation: 5/10 Sparsity: 17 learning with Wavelets... Done! Test Error: 0.011888187151730331\n",
      "Simulation: 5/10 Sparsity: 17 learning with Fourier... Done! Test Error: 0.0645567379965674\n"
     ]
    },
    {
     "name": "stderr",
     "output_type": "stream",
     "text": [
      "4it [03:10, 58.17s/it]"
     ]
    },
    {
     "name": "stdout",
     "output_type": "stream",
     "text": [
      "Simulation: 5/10 Sparsity: 17 learning with Edge Laplacian... Done! Test Error: 0.029104736868891923\n",
      "Simulation: 5/10 Sparsity: 21 learning with Slepians... Done! Test Error: 0.01892194187378687\n",
      "Simulation: 5/10 Sparsity: 21 learning with Wavelets... Done! Test Error: 0.006749583028861423\n",
      "Simulation: 5/10 Sparsity: 21 learning with Fourier... Done! Test Error: 0.04448895954724952\n"
     ]
    },
    {
     "name": "stderr",
     "output_type": "stream",
     "text": [
      "5it [04:29, 65.71s/it]"
     ]
    },
    {
     "name": "stdout",
     "output_type": "stream",
     "text": [
      "Simulation: 5/10 Sparsity: 21 learning with Edge Laplacian... Done! Test Error: 0.02194109410779286\n",
      "Simulation: 5/10 Sparsity: 25 learning with Slepians... Done! Test Error: 0.01297338641560354\n",
      "Simulation: 5/10 Sparsity: 25 learning with Wavelets... Done! Test Error: 0.004020567528867697\n",
      "Simulation: 5/10 Sparsity: 25 learning with Fourier... Done! Test Error: 0.0322021820229636\n"
     ]
    },
    {
     "name": "stderr",
     "output_type": "stream",
     "text": [
      "6it [06:15, 62.54s/it]\n"
     ]
    },
    {
     "name": "stdout",
     "output_type": "stream",
     "text": [
      "Simulation: 5/10 Sparsity: 25 learning with Edge Laplacian... Done! Test Error: 0.015717715562565317\n"
     ]
    },
    {
     "name": "stderr",
     "output_type": "stream",
     "text": [
      "0it [00:00, ?it/s]"
     ]
    },
    {
     "name": "stdout",
     "output_type": "stream",
     "text": [
      "Simulation: 6/10 Sparsity: 5 learning with Slepians... Done! Test Error: 0.18740843176644612\n",
      "Simulation: 6/10 Sparsity: 5 learning with Wavelets... Done! Test Error: 0.11455202514632955\n",
      "Simulation: 6/10 Sparsity: 5 learning with Fourier... Done! Test Error: 0.3009730604454781\n"
     ]
    },
    {
     "name": "stderr",
     "output_type": "stream",
     "text": [
      "1it [00:13, 13.69s/it]"
     ]
    },
    {
     "name": "stdout",
     "output_type": "stream",
     "text": [
      "Simulation: 6/10 Sparsity: 5 learning with Edge Laplacian... Done! Test Error: 0.15855846005742769\n",
      "Simulation: 6/10 Sparsity: 9 learning with Slepians... Done! Test Error: 0.08991082520494086\n",
      "Simulation: 6/10 Sparsity: 9 learning with Wavelets... Done! Test Error: 0.04738556894811587\n",
      "Simulation: 6/10 Sparsity: 9 learning with Fourier... Done! Test Error: 0.17335477350173184\n"
     ]
    },
    {
     "name": "stderr",
     "output_type": "stream",
     "text": [
      "2it [00:42, 22.30s/it]"
     ]
    },
    {
     "name": "stdout",
     "output_type": "stream",
     "text": [
      "Simulation: 6/10 Sparsity: 9 learning with Edge Laplacian... Done! Test Error: 0.08669372478625936\n",
      "Simulation: 6/10 Sparsity: 13 learning with Slepians... Done! Test Error: 0.05005247922225606\n",
      "Simulation: 6/10 Sparsity: 13 learning with Wavelets... Done! Test Error: 0.024093738915367376\n",
      "Simulation: 6/10 Sparsity: 13 learning with Fourier... Done! Test Error: 0.10799646436288764\n"
     ]
    },
    {
     "name": "stderr",
     "output_type": "stream",
     "text": [
      "3it [01:39, 38.32s/it]"
     ]
    },
    {
     "name": "stdout",
     "output_type": "stream",
     "text": [
      "Simulation: 6/10 Sparsity: 13 learning with Edge Laplacian... Done! Test Error: 0.05261403643725598\n",
      "Simulation: 6/10 Sparsity: 17 learning with Slepians... Done! Test Error: 0.03205966959419745\n",
      "Simulation: 6/10 Sparsity: 17 learning with Wavelets... Done! Test Error: 0.01343349265843791\n",
      "Simulation: 6/10 Sparsity: 17 learning with Fourier... Done! Test Error: 0.06798049644061942\n"
     ]
    },
    {
     "name": "stderr",
     "output_type": "stream",
     "text": [
      "4it [02:54, 52.83s/it]"
     ]
    },
    {
     "name": "stdout",
     "output_type": "stream",
     "text": [
      "Simulation: 6/10 Sparsity: 17 learning with Edge Laplacian... Done! Test Error: 0.03577295741162253\n",
      "Simulation: 6/10 Sparsity: 21 learning with Slepians... Done! Test Error: 0.021026311618677403\n",
      "Simulation: 6/10 Sparsity: 21 learning with Wavelets... Done! Test Error: 0.007783271030226946\n",
      "Simulation: 6/10 Sparsity: 21 learning with Fourier... Done! Test Error: 0.04418514171546989\n"
     ]
    },
    {
     "name": "stderr",
     "output_type": "stream",
     "text": [
      "5it [04:24, 66.25s/it]"
     ]
    },
    {
     "name": "stdout",
     "output_type": "stream",
     "text": [
      "Simulation: 6/10 Sparsity: 21 learning with Edge Laplacian... Done! Test Error: 0.027091173293499922\n",
      "Simulation: 6/10 Sparsity: 25 learning with Slepians... Done! Test Error: 0.014404471995718676\n",
      "Simulation: 6/10 Sparsity: 25 learning with Wavelets... Done! Test Error: 0.005142140514323376\n",
      "Simulation: 6/10 Sparsity: 25 learning with Fourier... Done! Test Error: 0.030743382892155304\n"
     ]
    },
    {
     "name": "stderr",
     "output_type": "stream",
     "text": [
      "6it [05:52, 58.72s/it]\n"
     ]
    },
    {
     "name": "stdout",
     "output_type": "stream",
     "text": [
      "Simulation: 6/10 Sparsity: 25 learning with Edge Laplacian... Done! Test Error: 0.026041369780947673\n"
     ]
    },
    {
     "name": "stderr",
     "output_type": "stream",
     "text": [
      "0it [00:00, ?it/s]"
     ]
    },
    {
     "name": "stdout",
     "output_type": "stream",
     "text": [
      "Simulation: 7/10 Sparsity: 5 learning with Slepians... Done! Test Error: 0.19643403535949144\n",
      "Simulation: 7/10 Sparsity: 5 learning with Wavelets... Done! Test Error: 0.1283658166678543\n",
      "Simulation: 7/10 Sparsity: 5 learning with Fourier... Done! Test Error: 0.34381218655895296\n"
     ]
    },
    {
     "name": "stderr",
     "output_type": "stream",
     "text": [
      "1it [00:19, 19.17s/it]"
     ]
    },
    {
     "name": "stdout",
     "output_type": "stream",
     "text": [
      "Simulation: 7/10 Sparsity: 5 learning with Edge Laplacian... Done! Test Error: 0.17784956994660844\n",
      "Simulation: 7/10 Sparsity: 9 learning with Slepians... Done! Test Error: 0.09789857551629498\n",
      "Simulation: 7/10 Sparsity: 9 learning with Wavelets... Done! Test Error: 0.055769812710039314\n",
      "Simulation: 7/10 Sparsity: 9 learning with Fourier... Done! Test Error: 0.19865331930164778\n"
     ]
    },
    {
     "name": "stderr",
     "output_type": "stream",
     "text": [
      "2it [00:36, 18.25s/it]"
     ]
    },
    {
     "name": "stdout",
     "output_type": "stream",
     "text": [
      "Simulation: 7/10 Sparsity: 9 learning with Edge Laplacian... Done! Test Error: 0.09397065887681316\n",
      "Simulation: 7/10 Sparsity: 13 learning with Slepians... Done! Test Error: 0.05545109779315406\n",
      "Simulation: 7/10 Sparsity: 13 learning with Wavelets... Done! Test Error: 0.029285416772567532\n",
      "Simulation: 7/10 Sparsity: 13 learning with Fourier... Done! Test Error: 0.1272235281368702\n"
     ]
    },
    {
     "name": "stderr",
     "output_type": "stream",
     "text": [
      "3it [00:54, 18.17s/it]"
     ]
    },
    {
     "name": "stdout",
     "output_type": "stream",
     "text": [
      "Simulation: 7/10 Sparsity: 13 learning with Edge Laplacian... Done! Test Error: 0.054580135473910045\n",
      "Simulation: 7/10 Sparsity: 17 learning with Slepians... Done! Test Error: 0.03442091290389327\n",
      "Simulation: 7/10 Sparsity: 17 learning with Wavelets... Done! Test Error: 0.017302916769058495\n",
      "Simulation: 7/10 Sparsity: 17 learning with Fourier... Done! Test Error: 0.08412156484198152\n"
     ]
    },
    {
     "name": "stderr",
     "output_type": "stream",
     "text": [
      "4it [01:23, 22.22s/it]"
     ]
    },
    {
     "name": "stdout",
     "output_type": "stream",
     "text": [
      "Simulation: 7/10 Sparsity: 17 learning with Edge Laplacian... Done! Test Error: 0.034573347242383694\n",
      "Simulation: 7/10 Sparsity: 21 learning with Slepians... Done! Test Error: 0.021991152595182424\n",
      "Simulation: 7/10 Sparsity: 21 learning with Wavelets... Done! Test Error: 0.010376771062433236\n",
      "Simulation: 7/10 Sparsity: 21 learning with Fourier... Done! Test Error: 0.0590697598355771\n"
     ]
    },
    {
     "name": "stderr",
     "output_type": "stream",
     "text": [
      "5it [02:01, 27.91s/it]"
     ]
    },
    {
     "name": "stdout",
     "output_type": "stream",
     "text": [
      "Simulation: 7/10 Sparsity: 21 learning with Edge Laplacian... Done! Test Error: 0.021424842036475152\n",
      "Simulation: 7/10 Sparsity: 25 learning with Slepians... Done! Test Error: 0.014977031365825195\n",
      "Simulation: 7/10 Sparsity: 25 learning with Wavelets... Done! Test Error: 0.006788221583805657\n",
      "Simulation: 7/10 Sparsity: 25 learning with Fourier... Done! Test Error: 0.04235326782291347\n"
     ]
    },
    {
     "name": "stderr",
     "output_type": "stream",
     "text": [
      "6it [02:50, 28.47s/it]\n"
     ]
    },
    {
     "name": "stdout",
     "output_type": "stream",
     "text": [
      "Simulation: 7/10 Sparsity: 25 learning with Edge Laplacian... Done! Test Error: 0.014447536097242714\n"
     ]
    },
    {
     "name": "stderr",
     "output_type": "stream",
     "text": [
      "0it [00:00, ?it/s]"
     ]
    },
    {
     "name": "stdout",
     "output_type": "stream",
     "text": [
      "Simulation: 8/10 Sparsity: 5 learning with Slepians... Done! Test Error: 0.16301402850378002\n",
      "Simulation: 8/10 Sparsity: 5 learning with Wavelets... Done! Test Error: 0.1156157817545759\n",
      "Simulation: 8/10 Sparsity: 5 learning with Fourier... Done! Test Error: 0.3388503203971168\n"
     ]
    },
    {
     "name": "stderr",
     "output_type": "stream",
     "text": [
      "1it [00:08,  8.43s/it]"
     ]
    },
    {
     "name": "stdout",
     "output_type": "stream",
     "text": [
      "Simulation: 8/10 Sparsity: 5 learning with Edge Laplacian... Done! Test Error: 0.16922803182409282\n",
      "Simulation: 8/10 Sparsity: 9 learning with Slepians... Done! Test Error: 0.07531410333450751\n",
      "Simulation: 8/10 Sparsity: 9 learning with Wavelets... Done! Test Error: 0.04769300936140579\n",
      "Simulation: 8/10 Sparsity: 9 learning with Fourier... Done! Test Error: 0.20449312663047792\n"
     ]
    },
    {
     "name": "stderr",
     "output_type": "stream",
     "text": [
      "2it [00:27, 14.83s/it]"
     ]
    },
    {
     "name": "stdout",
     "output_type": "stream",
     "text": [
      "Simulation: 8/10 Sparsity: 9 learning with Edge Laplacian... Done! Test Error: 0.08096073646155195\n",
      "Simulation: 8/10 Sparsity: 13 learning with Slepians... Done! Test Error: 0.04244530814695283\n",
      "Simulation: 8/10 Sparsity: 13 learning with Wavelets... Done! Test Error: 0.02501505925950446\n",
      "Simulation: 8/10 Sparsity: 13 learning with Fourier... Done! Test Error: 0.13240805828455385\n"
     ]
    },
    {
     "name": "stderr",
     "output_type": "stream",
     "text": [
      "3it [00:47, 17.15s/it]"
     ]
    },
    {
     "name": "stdout",
     "output_type": "stream",
     "text": [
      "Simulation: 8/10 Sparsity: 13 learning with Edge Laplacian... Done! Test Error: 0.04687327986861959\n",
      "Simulation: 8/10 Sparsity: 17 learning with Slepians... Done! Test Error: 0.025639799178975686\n",
      "Simulation: 8/10 Sparsity: 17 learning with Wavelets... Done! Test Error: 0.014390419674370176\n",
      "Simulation: 8/10 Sparsity: 17 learning with Fourier... Done! Test Error: 0.09022782168549302\n"
     ]
    },
    {
     "name": "stderr",
     "output_type": "stream",
     "text": [
      "4it [01:23, 24.51s/it]"
     ]
    },
    {
     "name": "stdout",
     "output_type": "stream",
     "text": [
      "Simulation: 8/10 Sparsity: 17 learning with Edge Laplacian... Done! Test Error: 0.02798019220860422\n",
      "Simulation: 8/10 Sparsity: 21 learning with Slepians... Done! Test Error: 0.01664459815853059\n",
      "Simulation: 8/10 Sparsity: 21 learning with Wavelets... Done! Test Error: 0.008898291144197448\n",
      "Simulation: 8/10 Sparsity: 21 learning with Fourier... Done! Test Error: 0.06312291356373072\n"
     ]
    },
    {
     "name": "stderr",
     "output_type": "stream",
     "text": [
      "5it [02:17, 35.33s/it]"
     ]
    },
    {
     "name": "stdout",
     "output_type": "stream",
     "text": [
      "Simulation: 8/10 Sparsity: 21 learning with Edge Laplacian... Done! Test Error: 0.016256819993609478\n",
      "Simulation: 8/10 Sparsity: 25 learning with Slepians... Done! Test Error: 0.010936443472228793\n",
      "Simulation: 8/10 Sparsity: 25 learning with Wavelets... Done! Test Error: 0.005818947259500167\n",
      "Simulation: 8/10 Sparsity: 25 learning with Fourier... Done! Test Error: 0.04444201908237152\n"
     ]
    },
    {
     "name": "stderr",
     "output_type": "stream",
     "text": [
      "6it [03:42, 37.03s/it]\n"
     ]
    },
    {
     "name": "stdout",
     "output_type": "stream",
     "text": [
      "Simulation: 8/10 Sparsity: 25 learning with Edge Laplacian... Done! Test Error: 0.010163944639322079\n"
     ]
    },
    {
     "name": "stderr",
     "output_type": "stream",
     "text": [
      "0it [00:00, ?it/s]"
     ]
    },
    {
     "name": "stdout",
     "output_type": "stream",
     "text": [
      "Simulation: 9/10 Sparsity: 5 learning with Slepians... Done! Test Error: 0.1876213609267775\n",
      "Simulation: 9/10 Sparsity: 5 learning with Wavelets... Done! Test Error: 0.11814769488741224\n",
      "Simulation: 9/10 Sparsity: 5 learning with Fourier... Done! Test Error: 0.3250845744892082\n"
     ]
    },
    {
     "name": "stderr",
     "output_type": "stream",
     "text": [
      "1it [00:12, 12.99s/it]"
     ]
    },
    {
     "name": "stdout",
     "output_type": "stream",
     "text": [
      "Simulation: 9/10 Sparsity: 5 learning with Edge Laplacian... Done! Test Error: 0.18399142659876755\n",
      "Simulation: 9/10 Sparsity: 9 learning with Slepians... Done! Test Error: 0.08987963058927498\n",
      "Simulation: 9/10 Sparsity: 9 learning with Wavelets... Done! Test Error: 0.04701431662605791\n",
      "Simulation: 9/10 Sparsity: 9 learning with Fourier... Done! Test Error: 0.18628736776387445\n"
     ]
    },
    {
     "name": "stderr",
     "output_type": "stream",
     "text": [
      "2it [00:35, 18.69s/it]"
     ]
    },
    {
     "name": "stdout",
     "output_type": "stream",
     "text": [
      "Simulation: 9/10 Sparsity: 9 learning with Edge Laplacian... Done! Test Error: 0.09002515632953091\n",
      "Simulation: 9/10 Sparsity: 13 learning with Slepians... Done! Test Error: 0.0499015878505681\n",
      "Simulation: 9/10 Sparsity: 13 learning with Wavelets... Done! Test Error: 0.024128618406665744\n",
      "Simulation: 9/10 Sparsity: 13 learning with Fourier... Done! Test Error: 0.11640482188515483\n"
     ]
    },
    {
     "name": "stderr",
     "output_type": "stream",
     "text": [
      "3it [01:05, 23.91s/it]"
     ]
    },
    {
     "name": "stdout",
     "output_type": "stream",
     "text": [
      "Simulation: 9/10 Sparsity: 13 learning with Edge Laplacian... Done! Test Error: 0.053037711464197036\n",
      "Simulation: 9/10 Sparsity: 17 learning with Slepians... Done! Test Error: 0.030752825188289458\n",
      "Simulation: 9/10 Sparsity: 17 learning with Wavelets... Done! Test Error: 0.013762025280024438\n",
      "Simulation: 9/10 Sparsity: 17 learning with Fourier... Done! Test Error: 0.07792474900720359\n"
     ]
    },
    {
     "name": "stderr",
     "output_type": "stream",
     "text": [
      "4it [01:44, 29.83s/it]"
     ]
    },
    {
     "name": "stdout",
     "output_type": "stream",
     "text": [
      "Simulation: 9/10 Sparsity: 17 learning with Edge Laplacian... Done! Test Error: 0.034740527214486956\n",
      "Simulation: 9/10 Sparsity: 21 learning with Slepians... Done! Test Error: 0.02021358975839525\n",
      "Simulation: 9/10 Sparsity: 21 learning with Wavelets... Done! Test Error: 0.008396434662287972\n",
      "Simulation: 9/10 Sparsity: 21 learning with Fourier... Done! Test Error: 0.05250776017917547\n"
     ]
    },
    {
     "name": "stderr",
     "output_type": "stream",
     "text": [
      "5it [02:25, 33.61s/it]"
     ]
    },
    {
     "name": "stdout",
     "output_type": "stream",
     "text": [
      "Simulation: 9/10 Sparsity: 21 learning with Edge Laplacian... Done! Test Error: 0.023291742771661517\n",
      "Simulation: 9/10 Sparsity: 25 learning with Slepians... Done! Test Error: 0.013859199678658382\n",
      "Simulation: 9/10 Sparsity: 25 learning with Wavelets... Done! Test Error: 0.00537687068021783\n",
      "Simulation: 9/10 Sparsity: 25 learning with Fourier... Done! Test Error: 0.03613467333209428\n"
     ]
    },
    {
     "name": "stderr",
     "output_type": "stream",
     "text": [
      "6it [03:28, 34.78s/it]\n"
     ]
    },
    {
     "name": "stdout",
     "output_type": "stream",
     "text": [
      "Simulation: 9/10 Sparsity: 25 learning with Edge Laplacian... Done! Test Error: 0.015716897208154477\n"
     ]
    },
    {
     "name": "stderr",
     "output_type": "stream",
     "text": [
      "0it [00:00, ?it/s]"
     ]
    },
    {
     "name": "stdout",
     "output_type": "stream",
     "text": [
      "Simulation: 10/10 Sparsity: 5 learning with Slepians... Done! Test Error: 0.16936248210112753\n",
      "Simulation: 10/10 Sparsity: 5 learning with Wavelets... Done! Test Error: 0.09736022834625542\n",
      "Simulation: 10/10 Sparsity: 5 learning with Fourier... Done! Test Error: 0.2962726832266788\n"
     ]
    },
    {
     "name": "stderr",
     "output_type": "stream",
     "text": [
      "1it [00:11, 11.78s/it]"
     ]
    },
    {
     "name": "stdout",
     "output_type": "stream",
     "text": [
      "Simulation: 10/10 Sparsity: 5 learning with Edge Laplacian... Done! Test Error: 0.1682949776034831\n",
      "Simulation: 10/10 Sparsity: 9 learning with Slepians... Done! Test Error: 0.07733805669461448\n",
      "Simulation: 10/10 Sparsity: 9 learning with Wavelets... Done! Test Error: 0.040263926617254586\n",
      "Simulation: 10/10 Sparsity: 9 learning with Fourier... Done! Test Error: 0.1630508325297907\n"
     ]
    },
    {
     "name": "stderr",
     "output_type": "stream",
     "text": [
      "2it [00:41, 22.08s/it]"
     ]
    },
    {
     "name": "stdout",
     "output_type": "stream",
     "text": [
      "Simulation: 10/10 Sparsity: 9 learning with Edge Laplacian... Done! Test Error: 0.0867081936789242\n",
      "Simulation: 10/10 Sparsity: 13 learning with Slepians... Done! Test Error: 0.04215648553527836\n",
      "Simulation: 10/10 Sparsity: 13 learning with Wavelets... Done! Test Error: 0.0203922134843897\n",
      "Simulation: 10/10 Sparsity: 13 learning with Fourier... Done! Test Error: 0.10067054432780012\n"
     ]
    },
    {
     "name": "stderr",
     "output_type": "stream",
     "text": [
      "3it [01:18, 29.23s/it]"
     ]
    },
    {
     "name": "stdout",
     "output_type": "stream",
     "text": [
      "Simulation: 10/10 Sparsity: 13 learning with Edge Laplacian... Done! Test Error: 0.05518216482937486\n",
      "Simulation: 10/10 Sparsity: 17 learning with Slepians... Done! Test Error: 0.025977463627087128\n",
      "Simulation: 10/10 Sparsity: 17 learning with Wavelets... Done! Test Error: 0.011297987572817811\n",
      "Simulation: 10/10 Sparsity: 17 learning with Fourier... Done! Test Error: 0.06621262345690661\n"
     ]
    },
    {
     "name": "stderr",
     "output_type": "stream",
     "text": [
      "4it [01:59, 33.90s/it]"
     ]
    },
    {
     "name": "stdout",
     "output_type": "stream",
     "text": [
      "Simulation: 10/10 Sparsity: 17 learning with Edge Laplacian... Done! Test Error: 0.03805177877533444\n",
      "Simulation: 10/10 Sparsity: 21 learning with Slepians... Done! Test Error: 0.01656473006476981\n",
      "Simulation: 10/10 Sparsity: 21 learning with Wavelets... Done! Test Error: 0.0065416533429975415\n",
      "Simulation: 10/10 Sparsity: 21 learning with Fourier... Done! Test Error: 0.04519644599762434\n"
     ]
    },
    {
     "name": "stderr",
     "output_type": "stream",
     "text": [
      "5it [03:06, 45.65s/it]"
     ]
    },
    {
     "name": "stdout",
     "output_type": "stream",
     "text": [
      "Simulation: 10/10 Sparsity: 21 learning with Edge Laplacian... Done! Test Error: 0.024517059945569877\n",
      "Simulation: 10/10 Sparsity: 25 learning with Slepians... Done! Test Error: 0.011053793916709603\n",
      "Simulation: 10/10 Sparsity: 25 learning with Wavelets... Done! Test Error: 0.0038290876243634087\n",
      "Simulation: 10/10 Sparsity: 25 learning with Fourier... Done! Test Error: 0.03256403113496308\n"
     ]
    },
    {
     "name": "stderr",
     "output_type": "stream",
     "text": [
      "6it [04:50, 48.46s/it]"
     ]
    },
    {
     "name": "stdout",
     "output_type": "stream",
     "text": [
      "Simulation: 10/10 Sparsity: 25 learning with Edge Laplacian... Done! Test Error: 0.01599334515498956\n"
     ]
    },
    {
     "name": "stderr",
     "output_type": "stream",
     "text": [
      "\n"
     ]
    }
   ],
   "source": [
    "import warnings\n",
    "warnings.filterwarnings(\"ignore\")\n",
    "\n",
    "min_error_slep_test = np.zeros((n_sim, len(K0_coll)))\n",
    "min_error_wave_test = np.zeros((n_sim, len(K0_coll)))\n",
    "min_error_fou_test = np.zeros((n_sim, len(K0_coll)))\n",
    "min_error_edge_test = np.zeros((n_sim, len(K0_coll)))\n",
    "\n",
    "algo_errors = {\n",
    "    \"slep\": min_error_slep_test,\n",
    "    \"wave\": min_error_wave_test,\n",
    "    \"fou\": min_error_fou_test,\n",
    "    \"edge\": min_error_edge_test\n",
    "    }\n",
    "\n",
    "algo_types = {\n",
    "    \"slep\": (\"slepians\", \"Slepians\", False),\n",
    "    \"wave\": (\"wavelet\", \"Wavelets\", False),\n",
    "    \"fou\": (\"fourier\", \"Fourier\", False),\n",
    "    \"edge\": (\"edge_laplacian\", \"Edge Laplacian\", False)\n",
    "    }\n",
    "\n",
    "for sim in range(n_sim):\n",
    "\n",
    "    for k0_index, k0 in tqdm(enumerate(K0_coll)):\n",
    "\n",
    "        for a in algo_types.items():\n",
    "\n",
    "            model = TspSolver(X_train=X_train[:, :, sim], \n",
    "                                X_test=X_test[:, :, sim], \n",
    "                                Y_train=Y_train[:, :, sim], \n",
    "                                Y_test=Y_test[:, :, sim],\n",
    "                                c=c_true[sim],\n",
    "                                epsilon=epsilon_true[sim],\n",
    "                                K0=k0,\n",
    "                                dictionary_type=a[1][0],\n",
    "                                **topo_params2)\n",
    "            \n",
    "            if a[1][2]:\n",
    "                pass\n",
    "            \n",
    "            else:\n",
    "                algo_errors[a[0]][sim,k0_index], _, _ = model.topological_dictionary_learn_qp(lambda_=lambda_, \n",
    "                                                                                            max_iter=max_iter,\n",
    "                                                                                            patience=patience, \n",
    "                                                                                            tol=tol,\n",
    "                                                                                            step_h=1,\n",
    "                                                                                            step_x=1)\n",
    "\n",
    "            if verbose:\n",
    "                print(f\"Simulation: {sim+1}/{n_sim} Sparsity: {k0} learning with {a[1][1]}... Done! Test Error: {algo_errors[a[0]][sim,k0_index]}\")\n",
    "            \n",
    "            # except:\n",
    "            #     print(f'Simulation: {sim+1}/{n_sim} Sparsity: {k0} Testing {a[1][0]}... Diverged!')\n",
    "            #     # If diverged, simply interpolate\n",
    "            #     try:\n",
    "            #         algo_errors[a[0]][sim,k0_index] = algo_errors[a[0]][sim-1,k0_index]\n",
    "            #     except:\n",
    "            #         algo_errors[a[0]][sim,k0_index] = algo_errors[a[0]][sim-1,k0_index]"
   ]
  },
  {
   "cell_type": "code",
   "execution_count": 15,
   "metadata": {},
   "outputs": [],
   "source": [
    "import pickle\n",
    "\n",
    "with open('C:\\\\Users\\\\engri\\\\Desktop\\\\tesi\\\\TSP-DictionaryLearning\\\\results\\\\qp_vs_sdp\\\\algo_errors_T80.pkl', 'rb') as file:\n",
    "    data = pickle.load(file)"
   ]
  },
  {
   "cell_type": "code",
   "execution_count": 23,
   "metadata": {},
   "outputs": [
    {
     "data": {
      "text/plain": [
       "(10, 6)"
      ]
     },
     "execution_count": 23,
     "metadata": {},
     "output_type": "execute_result"
    }
   ],
   "source": [
    "data['errors']['qp'].shape"
   ]
  },
  {
   "cell_type": "code",
   "execution_count": 13,
   "metadata": {},
   "outputs": [],
   "source": [
    "import matplotlib.pyplot as plt\n",
    "import seaborn as sns"
   ]
  },
  {
   "cell_type": "code",
   "execution_count": 22,
   "metadata": {},
   "outputs": [
    {
     "data": {
      "text/plain": [
       "(10, 6)"
      ]
     },
     "execution_count": 22,
     "metadata": {},
     "output_type": "execute_result"
    }
   ],
   "source": [
    "algo_errors['fou'].shape"
   ]
  },
  {
   "cell_type": "code",
   "execution_count": 25,
   "metadata": {},
   "outputs": [],
   "source": [
    "algo_errors['comp'] = data['errors']['qp_comp']"
   ]
  },
  {
   "cell_type": "code",
   "execution_count": 26,
   "metadata": {},
   "outputs": [
    {
     "data": {
      "text/plain": [
       "dict_keys(['slep', 'wave', 'fou', 'edge', 'sep', 'comp'])"
      ]
     },
     "execution_count": 26,
     "metadata": {},
     "output_type": "execute_result"
    }
   ],
   "source": [
    "algo_errors.keys()"
   ]
  },
  {
   "cell_type": "code",
   "execution_count": 34,
   "metadata": {},
   "outputs": [],
   "source": [
    "with open('C:\\\\Users\\\\engri\\\\Desktop\\\\tesi\\\\TSP-DictionaryLearning\\\\results\\\\algo_errors_T80.pkl', 'wb') as file:\n",
    "    pickle.dump(algo_errors, file)\n"
   ]
  },
  {
   "cell_type": "code",
   "execution_count": 33,
   "metadata": {},
   "outputs": [
    {
     "data": {
      "image/png": "[encoded data removed]",
      "text/plain": [
       "<Figure size 1000x600 with 1 Axes>"
      ]
     },
     "metadata": {},
     "output_type": "display_data"
    }
   ],
   "source": [
    "dict_types = {\"slep\": \"Slepians Kernel\", \"wave\": \"Wavelet Kernel\", \"fou\": \"Fourier Baseline\", \"edge\": \"Edge Laplacian\", \"sep\": \"Separated Hodge Laplacian\", \"comp\": \"Separated Hodge + Topology\"}\n",
    "\n",
    "res_df = pd.DataFrame()\n",
    "n_sim = algo_errors['slep'].shape[0]\n",
    "\n",
    "for d in algo_errors.items():\n",
    "    for sim in range(n_sim):\n",
    "        tmp_df = pd.DataFrame()   \n",
    "        tmp_df[\"Error\"] = eval(f'd[1][sim,:]')\n",
    "        tmp_df[\"Sparsity\"] = K0_coll\n",
    "        tmp_df[\"Algorithm\"] = dict_types[d[0]]\n",
    "        res_df = pd.concat([res_df, tmp_df])\n",
    "\n",
    "plt.figure(figsize=(10, 6))\n",
    "sns.set_style('whitegrid')\n",
    "my_plt = sns.lineplot(data=res_df, x='Sparsity', y='Error', hue='Algorithm',\n",
    "                    palette=sns.color_palette(\"husl\"),\n",
    "                    markers=['*', '>', '^', 'v', 'D', 'h'], dashes=False, style='Algorithm')\n",
    "my_plt.set(yscale='log')\n",
    "my_plt.set_title(f'Topology learning: algorithms comparison')\n",
    "my_plt.set_ylabel('Error (log scale)')\n",
    "plt.show()"
   ]
  },
  {
   "cell_type": "markdown",
   "metadata": {},
   "source": [
    "# T50"
   ]
  },
  {
   "cell_type": "code",
   "execution_count": 6,
   "metadata": {},
   "outputs": [],
   "source": [
    "topo_params2 = {\"J\":J,\n",
    "                \"P\":P,\n",
    "                \"true_prob_T\":prob_T,\n",
    "                \"sub_size\":100,\n",
    "                \"seed\":0,\n",
    "                \"n\":40,\n",
    "                \"p_edges\":0.162\n",
    "                }"
   ]
  },
  {
   "cell_type": "code",
   "execution_count": 7,
   "metadata": {},
   "outputs": [],
   "source": [
    "from tqdm import tqdm"
   ]
  },
  {
   "cell_type": "code",
   "execution_count": 8,
   "metadata": {},
   "outputs": [],
   "source": [
    "def simulate_learnable_vs_analytic(X_train, \n",
    "                                   X_test,\n",
    "                                   Y_train,\n",
    "                                   Y_test, \n",
    "                                   c_true, \n",
    "                                   epsilon_true, \n",
    "                                   n_sim, \n",
    "                                   topo_params, \n",
    "                                   K0_coll,\n",
    "                                   max_iter,\n",
    "                                   patience,\n",
    "                                   tol,\n",
    "                                   lambda_,\n",
    "                                   step_h: int = 1,\n",
    "                                   step_x: int = 1,\n",
    "                                   verbose: bool = True):\n",
    "    \n",
    "    min_error_slep_test = np.zeros((n_sim, len(K0_coll)))\n",
    "    min_error_wave_test = np.zeros((n_sim, len(K0_coll)))\n",
    "    min_error_fou_test = np.zeros((n_sim, len(K0_coll)))\n",
    "    min_error_edge_test = np.zeros((n_sim, len(K0_coll)))\n",
    "    min_error_sep_test = np.zeros((n_sim, len(K0_coll)))\n",
    "    min_error_comp_test = np.zeros((n_sim, len(K0_coll)))\n",
    "\n",
    "    algo_errors = {\n",
    "        \"slep\": min_error_slep_test,\n",
    "        \"wave\": min_error_wave_test,\n",
    "        \"fou\": min_error_fou_test,\n",
    "        \"edge\": min_error_edge_test,\n",
    "        \"sep\": min_error_sep_test,\n",
    "        \"comp\": min_error_comp_test\n",
    "        }\n",
    "\n",
    "    algo_types = {\n",
    "        # \"comp\": (\"separated\", \"Separated Hodge + Topology\", True)\n",
    "        \"fou\": (\"fourier\", \"Fourier\", False),\n",
    "        \"slep\": (\"slepians\", \"Slepians\", False),\n",
    "        \"edge\": (\"edge_laplacian\", \"Edge Laplacian\", False),\n",
    "        \"wave\": (\"wavelet\", \"Wavelets\", False),\n",
    "        \"sep\": (\"separated\", \"Separated Hodge Laplacian\", False)\n",
    "        }\n",
    "\n",
    "    for sim in range(n_sim):\n",
    "\n",
    "        for k0_index, k0 in tqdm(enumerate(K0_coll)):\n",
    "\n",
    "            for a in algo_types.items():\n",
    "\n",
    "                model = TspSolver(X_train=X_train[:, :, sim], \n",
    "                                    X_test=X_test[:, :, sim], \n",
    "                                    Y_train=Y_train[:, :, sim], \n",
    "                                    Y_test=Y_test[:, :, sim],\n",
    "                                    c=c_true[sim],\n",
    "                                    epsilon=epsilon_true[sim],\n",
    "                                    K0=k0,\n",
    "                                    dictionary_type=a[1][0],\n",
    "                                    **topo_params)\n",
    "                \n",
    "                try:\n",
    "                    if a[1][2]:\n",
    "                        algo_errors[a[0]][sim,k0_index],  _, _, _ = model.learn_upper_laplacian(lambda_=lambda_, \n",
    "                                                                                                max_iter=max_iter,\n",
    "                                                                                                patience=patience, \n",
    "                                                                                                tol=tol,\n",
    "                                                                                                verbose=True,\n",
    "                                                                                                step_h=1,\n",
    "                                                                                                step_x=1,\n",
    "                                                                                                QP=True)\n",
    "                    \n",
    "                    else:\n",
    "                        algo_errors[a[0]][sim,k0_index], _, _ = model.topological_dictionary_learn_qp(lambda_=lambda_, \n",
    "                                                                                                    max_iter=max_iter,\n",
    "                                                                                                    patience=patience, \n",
    "                                                                                                    tol=tol,\n",
    "                                                                                                    step_h=1,\n",
    "                                                                                                    step_x=1)\n",
    "\n",
    "                    if verbose:\n",
    "                        print(f\"Simulation: {sim+1}/{n_sim} Sparsity: {k0} learning with {a[1][1]}... Done! Test Error: {algo_errors[a[0]][sim,k0_index]}\")\n",
    "                \n",
    "                except:\n",
    "                    print(f'Simulation: {sim+1}/{n_sim} Sparsity: {k0} Testing {a[1][1]}... Diverged!')\n",
    "                    # If diverged, simply interpolate\n",
    "                    try:\n",
    "                        algo_errors[a[0]][sim,k0_index] = algo_errors[a[0]][sim-1,k0_index]\n",
    "                    except:\n",
    "                        algo_errors[a[0]][sim,k0_index] = algo_errors[a[0]][sim+1,k0_index]\n",
    "\n",
    "    return algo_errors"
   ]
  },
  {
   "cell_type": "code",
   "execution_count": 14,
   "metadata": {},
   "outputs": [
    {
     "data": {
      "text/plain": [
       "array([25, 17,  9])"
      ]
     },
     "execution_count": 14,
     "metadata": {},
     "output_type": "execute_result"
    }
   ],
   "source": [
    "K0_coll[::-2]"
   ]
  },
  {
   "cell_type": "code",
   "execution_count": 9,
   "metadata": {},
   "outputs": [
    {
     "name": "stderr",
     "output_type": "stream",
     "text": [
      "0it [00:00, ?it/s]"
     ]
    },
    {
     "name": "stdout",
     "output_type": "stream",
     "text": [
      "Simulation: 1/7 Sparsity: 5 learning with Fourier... Done! Test Error: 0.31929895098200123\n",
      "Simulation: 1/7 Sparsity: 5 learning with Slepians... Done! Test Error: 0.16239097808901745\n",
      "Set parameter Username\n",
      "Academic license - for non-commercial use only - expires 2025-04-10\n",
      "Simulation: 1/7 Sparsity: 5 learning with Edge Laplacian... Done! Test Error: 0.16381473372882646\n",
      "Simulation: 1/7 Sparsity: 5 learning with Wavelets... Done! Test Error: 0.1200006244140055\n"
     ]
    },
    {
     "name": "stderr",
     "output_type": "stream",
     "text": [
      "1it [00:18, 18.83s/it]"
     ]
    },
    {
     "name": "stdout",
     "output_type": "stream",
     "text": [
      "Simulation: 1/7 Sparsity: 5 learning with Separated Hodge Laplacian... Done! Test Error: 0.09962244671611585\n",
      "Simulation: 1/7 Sparsity: 9 learning with Fourier... Done! Test Error: 0.1918033238399228\n",
      "Simulation: 1/7 Sparsity: 9 learning with Slepians... Done! Test Error: 0.07436056737626835\n",
      "Simulation: 1/7 Sparsity: 9 learning with Edge Laplacian... Done! Test Error: 0.07879501039360645\n",
      "Simulation: 1/7 Sparsity: 9 learning with Wavelets... Done! Test Error: 0.053383901238326315\n"
     ]
    },
    {
     "name": "stderr",
     "output_type": "stream",
     "text": [
      "2it [01:01, 33.03s/it]"
     ]
    },
    {
     "name": "stdout",
     "output_type": "stream",
     "text": [
      "Simulation: 1/7 Sparsity: 9 learning with Separated Hodge Laplacian... Done! Test Error: 0.043880825619825134\n",
      "Simulation: 1/7 Sparsity: 13 learning with Fourier... Done! Test Error: 0.1278687691238158\n",
      "Simulation: 1/7 Sparsity: 13 learning with Slepians... Done! Test Error: 0.038680986644647974\n",
      "Simulation: 1/7 Sparsity: 13 learning with Edge Laplacian... Done! Test Error: 0.04833171147681752\n",
      "Simulation: 1/7 Sparsity: 13 learning with Wavelets... Done! Test Error: 0.02790241415096826\n"
     ]
    },
    {
     "name": "stderr",
     "output_type": "stream",
     "text": [
      "3it [02:13, 50.66s/it]"
     ]
    },
    {
     "name": "stdout",
     "output_type": "stream",
     "text": [
      "Simulation: 1/7 Sparsity: 13 learning with Separated Hodge Laplacian... Done! Test Error: 0.021903212189319923\n",
      "Simulation: 1/7 Sparsity: 17 learning with Fourier... Done! Test Error: 0.08865198538680838\n",
      "Simulation: 1/7 Sparsity: 17 learning with Slepians... Done! Test Error: 0.022761298804762534\n",
      "Simulation: 1/7 Sparsity: 17 learning with Edge Laplacian... Done! Test Error: 0.03507922033728256\n",
      "Simulation: 1/7 Sparsity: 17 learning with Wavelets... Done! Test Error: 0.016583173928708006\n"
     ]
    },
    {
     "name": "stderr",
     "output_type": "stream",
     "text": [
      "4it [03:31, 61.45s/it]"
     ]
    },
    {
     "name": "stdout",
     "output_type": "stream",
     "text": [
      "Simulation: 1/7 Sparsity: 17 learning with Separated Hodge Laplacian... Done! Test Error: 0.014350986717818906\n",
      "Simulation: 1/7 Sparsity: 21 learning with Fourier... Done! Test Error: 0.06478414270881305\n",
      "Simulation: 1/7 Sparsity: 21 learning with Slepians... Done! Test Error: 0.014552672141856222\n",
      "Simulation: 1/7 Sparsity: 21 learning with Edge Laplacian... Done! Test Error: 0.020461086134083557\n",
      "Simulation: 1/7 Sparsity: 21 learning with Wavelets... Done! Test Error: 0.009771906713358945\n"
     ]
    },
    {
     "name": "stderr",
     "output_type": "stream",
     "text": [
      "5it [06:05, 94.82s/it]"
     ]
    },
    {
     "name": "stdout",
     "output_type": "stream",
     "text": [
      "Simulation: 1/7 Sparsity: 21 learning with Separated Hodge Laplacian... Done! Test Error: 0.009028336545223312\n",
      "Simulation: 1/7 Sparsity: 25 learning with Fourier... Done! Test Error: 0.04764963789185847\n",
      "Simulation: 1/7 Sparsity: 25 learning with Slepians... Done! Test Error: 0.009726517437494484\n",
      "Simulation: 1/7 Sparsity: 25 learning with Edge Laplacian... Done! Test Error: 0.017632632139486952\n",
      "Simulation: 1/7 Sparsity: 25 learning with Wavelets... Done! Test Error: 0.0062319251914872975\n"
     ]
    },
    {
     "name": "stderr",
     "output_type": "stream",
     "text": [
      "6it [08:27, 84.57s/it] \n"
     ]
    },
    {
     "name": "stdout",
     "output_type": "stream",
     "text": [
      "Simulation: 1/7 Sparsity: 25 learning with Separated Hodge Laplacian... Done! Test Error: 0.008383432301103111\n"
     ]
    },
    {
     "name": "stderr",
     "output_type": "stream",
     "text": [
      "0it [00:00, ?it/s]"
     ]
    },
    {
     "name": "stdout",
     "output_type": "stream",
     "text": [
      "Simulation: 2/7 Sparsity: 5 learning with Fourier... Done! Test Error: 0.27821185028648227\n",
      "Simulation: 2/7 Sparsity: 5 learning with Slepians... Done! Test Error: 0.15146338621882954\n",
      "Simulation: 2/7 Sparsity: 5 learning with Edge Laplacian... Done! Test Error: 0.10078672240402149\n",
      "Simulation: 2/7 Sparsity: 5 learning with Wavelets... Done! Test Error: 0.09189141346236777\n"
     ]
    },
    {
     "name": "stderr",
     "output_type": "stream",
     "text": [
      "1it [00:18, 18.11s/it]"
     ]
    },
    {
     "name": "stdout",
     "output_type": "stream",
     "text": [
      "Simulation: 2/7 Sparsity: 5 learning with Separated Hodge Laplacian... Done! Test Error: 0.07196312212557487\n",
      "Simulation: 2/7 Sparsity: 9 learning with Fourier... Done! Test Error: 0.16284658252264095\n",
      "Simulation: 2/7 Sparsity: 9 learning with Slepians... Done! Test Error: 0.0667483035664123\n",
      "Simulation: 2/7 Sparsity: 9 learning with Edge Laplacian... Done! Test Error: 0.04928022053141437\n",
      "Simulation: 2/7 Sparsity: 9 learning with Wavelets... Done! Test Error: 0.038270584743593586\n"
     ]
    },
    {
     "name": "stderr",
     "output_type": "stream",
     "text": [
      "2it [00:59, 31.92s/it]"
     ]
    },
    {
     "name": "stdout",
     "output_type": "stream",
     "text": [
      "Simulation: 2/7 Sparsity: 9 learning with Separated Hodge Laplacian... Done! Test Error: 0.030132971419190586\n",
      "Simulation: 2/7 Sparsity: 13 learning with Fourier... Done! Test Error: 0.10594908119155753\n",
      "Simulation: 2/7 Sparsity: 13 learning with Slepians... Done! Test Error: 0.03599817045048901\n",
      "Simulation: 2/7 Sparsity: 13 learning with Edge Laplacian... Done! Test Error: 0.037816426948287386\n",
      "Simulation: 2/7 Sparsity: 13 learning with Wavelets... Done! Test Error: 0.019979738062265724\n"
     ]
    },
    {
     "name": "stderr",
     "output_type": "stream",
     "text": [
      "3it [01:59, 44.45s/it]"
     ]
    },
    {
     "name": "stdout",
     "output_type": "stream",
     "text": [
      "Simulation: 2/7 Sparsity: 13 learning with Separated Hodge Laplacian... Done! Test Error: 0.01761063058103183\n",
      "Simulation: 2/7 Sparsity: 17 learning with Fourier... Done! Test Error: 0.0733629530713265\n",
      "Simulation: 2/7 Sparsity: 17 learning with Slepians... Done! Test Error: 0.02308567224997804\n",
      "Simulation: 2/7 Sparsity: 17 learning with Edge Laplacian... Done! Test Error: 0.02305358479779478\n",
      "Simulation: 2/7 Sparsity: 17 learning with Wavelets... Done! Test Error: 0.011422891707565351\n"
     ]
    },
    {
     "name": "stderr",
     "output_type": "stream",
     "text": [
      "4it [03:28, 62.04s/it]"
     ]
    },
    {
     "name": "stdout",
     "output_type": "stream",
     "text": [
      "Simulation: 2/7 Sparsity: 17 learning with Separated Hodge Laplacian... Done! Test Error: 0.01322046478048787\n",
      "Simulation: 2/7 Sparsity: 21 learning with Fourier... Done! Test Error: 0.05231600788743678\n",
      "Simulation: 2/7 Sparsity: 21 learning with Slepians... Done! Test Error: 0.013858972650994806\n",
      "Simulation: 2/7 Sparsity: 21 learning with Edge Laplacian... Done! Test Error: 0.023015677669892636\n",
      "Simulation: 2/7 Sparsity: 21 learning with Wavelets... Done! Test Error: 0.006808061820055972\n"
     ]
    },
    {
     "name": "stderr",
     "output_type": "stream",
     "text": [
      "5it [04:47, 68.18s/it]"
     ]
    },
    {
     "name": "stdout",
     "output_type": "stream",
     "text": [
      "Simulation: 2/7 Sparsity: 21 learning with Separated Hodge Laplacian... Done! Test Error: 0.009129702847538269\n",
      "Simulation: 2/7 Sparsity: 25 learning with Fourier... Done! Test Error: 0.037599639226531256\n",
      "Simulation: 2/7 Sparsity: 25 learning with Slepians... Done! Test Error: 0.009060178494701246\n",
      "Simulation: 2/7 Sparsity: 25 learning with Edge Laplacian... Done! Test Error: 0.02134358740408971\n",
      "Simulation: 2/7 Sparsity: 25 learning with Wavelets... Done! Test Error: 0.0043651036588827526\n"
     ]
    },
    {
     "name": "stderr",
     "output_type": "stream",
     "text": [
      "6it [06:41, 66.96s/it]\n"
     ]
    },
    {
     "name": "stdout",
     "output_type": "stream",
     "text": [
      "Simulation: 2/7 Sparsity: 25 learning with Separated Hodge Laplacian... Done! Test Error: 0.006520257832490895\n"
     ]
    },
    {
     "name": "stderr",
     "output_type": "stream",
     "text": [
      "0it [00:00, ?it/s]"
     ]
    },
    {
     "name": "stdout",
     "output_type": "stream",
     "text": [
      "Simulation: 3/7 Sparsity: 5 learning with Fourier... Done! Test Error: 0.3473524261873468\n",
      "Simulation: 3/7 Sparsity: 5 learning with Slepians... Done! Test Error: 0.17841343516879166\n",
      "Simulation: 3/7 Sparsity: 5 learning with Edge Laplacian... Done! Test Error: 0.1829410667980116\n",
      "Simulation: 3/7 Sparsity: 5 learning with Wavelets... Done! Test Error: 0.1306511201713539\n"
     ]
    },
    {
     "name": "stderr",
     "output_type": "stream",
     "text": [
      "1it [00:19, 19.74s/it]"
     ]
    },
    {
     "name": "stdout",
     "output_type": "stream",
     "text": [
      "Simulation: 3/7 Sparsity: 5 learning with Separated Hodge Laplacian... Done! Test Error: 0.10986580604421262\n",
      "Simulation: 3/7 Sparsity: 9 learning with Fourier... Done! Test Error: 0.20815664178718418\n",
      "Simulation: 3/7 Sparsity: 9 learning with Slepians... Done! Test Error: 0.08499596941979126\n",
      "Simulation: 3/7 Sparsity: 9 learning with Edge Laplacian... Done! Test Error: 0.09304812723612195\n",
      "Simulation: 3/7 Sparsity: 9 learning with Wavelets... Done! Test Error: 0.05898085323250222\n"
     ]
    },
    {
     "name": "stderr",
     "output_type": "stream",
     "text": [
      "2it [01:01, 32.77s/it]"
     ]
    },
    {
     "name": "stdout",
     "output_type": "stream",
     "text": [
      "Simulation: 3/7 Sparsity: 9 learning with Separated Hodge Laplacian... Done! Test Error: 0.052257856015757866\n",
      "Simulation: 3/7 Sparsity: 13 learning with Fourier... Done! Test Error: 0.1378694845476692\n",
      "Simulation: 3/7 Sparsity: 13 learning with Slepians... Done! Test Error: 0.04793175283858701\n",
      "Simulation: 3/7 Sparsity: 13 learning with Edge Laplacian... Done! Test Error: 0.06823368579210108\n",
      "Simulation: 3/7 Sparsity: 13 learning with Wavelets... Done! Test Error: 0.03139836040375461\n"
     ]
    },
    {
     "name": "stderr",
     "output_type": "stream",
     "text": [
      "3it [02:07, 48.11s/it]"
     ]
    },
    {
     "name": "stdout",
     "output_type": "stream",
     "text": [
      "Simulation: 3/7 Sparsity: 13 learning with Separated Hodge Laplacian... Done! Test Error: 0.031298565372415134\n",
      "Simulation: 3/7 Sparsity: 17 learning with Fourier... Done! Test Error: 0.09751765993647549\n",
      "Simulation: 3/7 Sparsity: 17 learning with Slepians... Done! Test Error: 0.0295089635315121\n",
      "Simulation: 3/7 Sparsity: 17 learning with Edge Laplacian... Done! Test Error: 0.057234643068816704\n",
      "Simulation: 3/7 Sparsity: 17 learning with Wavelets... Done! Test Error: 0.018267002536382842\n"
     ]
    },
    {
     "name": "stderr",
     "output_type": "stream",
     "text": [
      "4it [02:57, 48.68s/it]"
     ]
    },
    {
     "name": "stdout",
     "output_type": "stream",
     "text": [
      "Simulation: 3/7 Sparsity: 17 learning with Separated Hodge Laplacian... Done! Test Error: 0.019532489742713842\n",
      "Simulation: 3/7 Sparsity: 21 learning with Fourier... Done! Test Error: 0.07026140810992043\n",
      "Simulation: 3/7 Sparsity: 21 learning with Slepians... Done! Test Error: 0.0184936181503386\n",
      "Simulation: 3/7 Sparsity: 21 learning with Edge Laplacian... Done! Test Error: 0.03858593906806085\n",
      "Simulation: 3/7 Sparsity: 21 learning with Wavelets... Done! Test Error: 0.011088355494857982\n"
     ]
    },
    {
     "name": "stderr",
     "output_type": "stream",
     "text": [
      "5it [04:07, 56.48s/it]"
     ]
    },
    {
     "name": "stdout",
     "output_type": "stream",
     "text": [
      "Simulation: 3/7 Sparsity: 21 learning with Separated Hodge Laplacian... Done! Test Error: 0.01663545265430241\n",
      "Simulation: 3/7 Sparsity: 25 learning with Fourier... Done! Test Error: 0.0527470144184986\n",
      "Simulation: 3/7 Sparsity: 25 learning with Slepians... Done! Test Error: 0.012561321448650298\n",
      "Simulation: 3/7 Sparsity: 25 learning with Edge Laplacian... Done! Test Error: 0.025135211228600286\n",
      "Simulation: 3/7 Sparsity: 25 learning with Wavelets... Done! Test Error: 0.007250943955299254\n"
     ]
    },
    {
     "name": "stderr",
     "output_type": "stream",
     "text": [
      "6it [08:24, 84.03s/it] \n"
     ]
    },
    {
     "name": "stdout",
     "output_type": "stream",
     "text": [
      "Simulation: 3/7 Sparsity: 25 learning with Separated Hodge Laplacian... Done! Test Error: 0.010330604469757337\n"
     ]
    },
    {
     "name": "stderr",
     "output_type": "stream",
     "text": [
      "0it [00:00, ?it/s]"
     ]
    },
    {
     "name": "stdout",
     "output_type": "stream",
     "text": [
      "Simulation: 4/7 Sparsity: 5 learning with Fourier... Done! Test Error: 0.3160824830147051\n",
      "Simulation: 4/7 Sparsity: 5 learning with Slepians... Done! Test Error: 0.18495670434434927\n",
      "Simulation: 4/7 Sparsity: 5 learning with Edge Laplacian... Done! Test Error: 0.15435654628995585\n",
      "Simulation: 4/7 Sparsity: 5 learning with Wavelets... Done! Test Error: 0.12086375040681252\n"
     ]
    },
    {
     "name": "stderr",
     "output_type": "stream",
     "text": [
      "1it [00:55, 55.99s/it]"
     ]
    },
    {
     "name": "stdout",
     "output_type": "stream",
     "text": [
      "Simulation: 4/7 Sparsity: 5 learning with Separated Hodge Laplacian... Done! Test Error: 0.0932408940498592\n",
      "Simulation: 4/7 Sparsity: 9 learning with Fourier... Done! Test Error: 0.1876147200262421\n",
      "Simulation: 4/7 Sparsity: 9 learning with Slepians... Done! Test Error: 0.08695743597923129\n",
      "Simulation: 4/7 Sparsity: 9 learning with Edge Laplacian... Done! Test Error: 0.0772025021442418\n",
      "Simulation: 4/7 Sparsity: 9 learning with Wavelets... Done! Test Error: 0.05202639477223268\n"
     ]
    },
    {
     "name": "stderr",
     "output_type": "stream",
     "text": [
      "2it [02:36, 82.37s/it]"
     ]
    },
    {
     "name": "stdout",
     "output_type": "stream",
     "text": [
      "Simulation: 4/7 Sparsity: 9 learning with Separated Hodge Laplacian... Done! Test Error: 0.0420054816655178\n",
      "Simulation: 4/7 Sparsity: 13 learning with Fourier... Done! Test Error: 0.12317745882373124\n",
      "Simulation: 4/7 Sparsity: 13 learning with Slepians... Done! Test Error: 0.0486352844105926\n",
      "Simulation: 4/7 Sparsity: 13 learning with Edge Laplacian... Done! Test Error: 0.057534832370955594\n",
      "Simulation: 4/7 Sparsity: 13 learning with Wavelets... Done! Test Error: 0.0268653546465748\n"
     ]
    },
    {
     "name": "stderr",
     "output_type": "stream",
     "text": [
      "3it [04:52, 106.55s/it]"
     ]
    },
    {
     "name": "stdout",
     "output_type": "stream",
     "text": [
      "Simulation: 4/7 Sparsity: 13 learning with Separated Hodge Laplacian... Done! Test Error: 0.02339463081197924\n",
      "Simulation: 4/7 Sparsity: 17 learning with Fourier... Done! Test Error: 0.08622883829535066\n",
      "Simulation: 4/7 Sparsity: 17 learning with Slepians... Done! Test Error: 0.0267746043604988\n",
      "Simulation: 4/7 Sparsity: 17 learning with Edge Laplacian... Done! Test Error: 0.03514531151956606\n",
      "Simulation: 4/7 Sparsity: 17 learning with Wavelets... Done! Test Error: 0.014858648604646578\n"
     ]
    },
    {
     "name": "stderr",
     "output_type": "stream",
     "text": [
      "4it [07:58, 138.22s/it]"
     ]
    },
    {
     "name": "stdout",
     "output_type": "stream",
     "text": [
      "Simulation: 4/7 Sparsity: 17 learning with Separated Hodge Laplacian... Done! Test Error: 0.016887222300817607\n",
      "Simulation: 4/7 Sparsity: 21 learning with Fourier... Done! Test Error: 0.06338751064724098\n",
      "Simulation: 4/7 Sparsity: 21 learning with Slepians... Done! Test Error: 0.017078924075309723\n",
      "Simulation: 4/7 Sparsity: 21 learning with Edge Laplacian... Done! Test Error: 0.023570791235434423\n",
      "Simulation: 4/7 Sparsity: 21 learning with Wavelets... Done! Test Error: 0.008959775556161209\n"
     ]
    },
    {
     "name": "stderr",
     "output_type": "stream",
     "text": [
      "5it [13:01, 197.56s/it]"
     ]
    },
    {
     "name": "stdout",
     "output_type": "stream",
     "text": [
      "Simulation: 4/7 Sparsity: 21 learning with Separated Hodge Laplacian... Done! Test Error: 0.011288747863036942\n",
      "Simulation: 4/7 Sparsity: 25 learning with Fourier... Done! Test Error: 0.04738180887518059\n",
      "Simulation: 4/7 Sparsity: 25 learning with Slepians... Done! Test Error: 0.01103579266636254\n",
      "Simulation: 4/7 Sparsity: 25 learning with Edge Laplacian... Done! Test Error: 0.026173928003487813\n",
      "Simulation: 4/7 Sparsity: 25 learning with Wavelets... Done! Test Error: 0.0056002912546895284\n"
     ]
    },
    {
     "name": "stderr",
     "output_type": "stream",
     "text": [
      "6it [17:28, 174.77s/it]\n"
     ]
    },
    {
     "name": "stdout",
     "output_type": "stream",
     "text": [
      "Simulation: 4/7 Sparsity: 25 learning with Separated Hodge Laplacian... Done! Test Error: 0.009657770600892304\n"
     ]
    },
    {
     "name": "stderr",
     "output_type": "stream",
     "text": [
      "0it [00:00, ?it/s]"
     ]
    },
    {
     "name": "stdout",
     "output_type": "stream",
     "text": [
      "Simulation: 5/7 Sparsity: 5 learning with Fourier... Done! Test Error: 0.3529858118360695\n",
      "Simulation: 5/7 Sparsity: 5 learning with Slepians... Done! Test Error: 0.18223856952869208\n",
      "Simulation: 5/7 Sparsity: 5 learning with Edge Laplacian... Done! Test Error: 0.1696516230442807\n",
      "Simulation: 5/7 Sparsity: 5 learning with Wavelets... Done! Test Error: 0.14111069734545523\n"
     ]
    },
    {
     "name": "stderr",
     "output_type": "stream",
     "text": [
      "1it [01:23, 83.58s/it]"
     ]
    },
    {
     "name": "stdout",
     "output_type": "stream",
     "text": [
      "Simulation: 5/7 Sparsity: 5 learning with Separated Hodge Laplacian... Done! Test Error: 0.12261238751544834\n",
      "Simulation: 5/7 Sparsity: 9 learning with Fourier... Done! Test Error: 0.2199299328099726\n",
      "Simulation: 5/7 Sparsity: 9 learning with Slepians... Done! Test Error: 0.08723180249294685\n",
      "Simulation: 5/7 Sparsity: 9 learning with Edge Laplacian... Done! Test Error: 0.08415877229833296\n",
      "Simulation: 5/7 Sparsity: 9 learning with Wavelets... Done! Test Error: 0.06375725013586189\n"
     ]
    },
    {
     "name": "stderr",
     "output_type": "stream",
     "text": [
      "2it [02:11, 62.89s/it]"
     ]
    },
    {
     "name": "stdout",
     "output_type": "stream",
     "text": [
      "Simulation: 5/7 Sparsity: 9 learning with Separated Hodge Laplacian... Done! Test Error: 0.054648690113954956\n",
      "Simulation: 5/7 Sparsity: 13 learning with Fourier... Done! Test Error: 0.1495408202396374\n",
      "Simulation: 5/7 Sparsity: 13 learning with Slepians... Done! Test Error: 0.04812797862521804\n",
      "Simulation: 5/7 Sparsity: 13 learning with Edge Laplacian... Done! Test Error: 0.04718731765156441\n",
      "Simulation: 5/7 Sparsity: 13 learning with Wavelets... Done! Test Error: 0.03296750393885985\n"
     ]
    },
    {
     "name": "stderr",
     "output_type": "stream",
     "text": [
      "3it [03:22, 66.46s/it]"
     ]
    },
    {
     "name": "stdout",
     "output_type": "stream",
     "text": [
      "Simulation: 5/7 Sparsity: 13 learning with Separated Hodge Laplacian... Done! Test Error: 0.02895113362312698\n",
      "Simulation: 5/7 Sparsity: 17 learning with Fourier... Done! Test Error: 0.10584639686349369\n",
      "Simulation: 5/7 Sparsity: 17 learning with Slepians... Done! Test Error: 0.028597811333999447\n",
      "Simulation: 5/7 Sparsity: 17 learning with Edge Laplacian... Done! Test Error: 0.045843041770837346\n",
      "Simulation: 5/7 Sparsity: 17 learning with Wavelets... Done! Test Error: 0.018533165790781087\n"
     ]
    },
    {
     "name": "stderr",
     "output_type": "stream",
     "text": [
      "4it [04:28, 66.09s/it]"
     ]
    },
    {
     "name": "stdout",
     "output_type": "stream",
     "text": [
      "Simulation: 5/7 Sparsity: 17 learning with Separated Hodge Laplacian... Done! Test Error: 0.016951647259766982\n",
      "Simulation: 5/7 Sparsity: 21 learning with Fourier... Done! Test Error: 0.07722467972683462\n",
      "Simulation: 5/7 Sparsity: 21 learning with Slepians... Done! Test Error: 0.01890255319356863\n",
      "Simulation: 5/7 Sparsity: 21 learning with Edge Laplacian... Done! Test Error: 0.028217920043173764\n",
      "Simulation: 5/7 Sparsity: 21 learning with Wavelets... Done! Test Error: 0.011019857594013499\n"
     ]
    },
    {
     "name": "stderr",
     "output_type": "stream",
     "text": [
      "5it [05:45, 70.06s/it]"
     ]
    },
    {
     "name": "stdout",
     "output_type": "stream",
     "text": [
      "Simulation: 5/7 Sparsity: 21 learning with Separated Hodge Laplacian... Done! Test Error: 0.011068827021723888\n",
      "Simulation: 5/7 Sparsity: 25 learning with Fourier... Done! Test Error: 0.05729386267630723\n",
      "Simulation: 5/7 Sparsity: 25 learning with Slepians... Done! Test Error: 0.01226734202789588\n",
      "Simulation: 5/7 Sparsity: 25 learning with Edge Laplacian... Done! Test Error: 0.01647935665476539\n",
      "Simulation: 5/7 Sparsity: 25 learning with Wavelets... Done! Test Error: 0.007231644230074223\n"
     ]
    },
    {
     "name": "stderr",
     "output_type": "stream",
     "text": [
      "6it [07:39, 76.61s/it]\n"
     ]
    },
    {
     "name": "stdout",
     "output_type": "stream",
     "text": [
      "Simulation: 5/7 Sparsity: 25 learning with Separated Hodge Laplacian... Done! Test Error: 0.008230274201485659\n"
     ]
    },
    {
     "name": "stderr",
     "output_type": "stream",
     "text": [
      "0it [00:00, ?it/s]"
     ]
    },
    {
     "name": "stdout",
     "output_type": "stream",
     "text": [
      "Simulation: 6/7 Sparsity: 5 learning with Fourier... Done! Test Error: 0.35647853649895145\n",
      "Simulation: 6/7 Sparsity: 5 learning with Slepians... Done! Test Error: 0.17617241818322305\n",
      "Simulation: 6/7 Sparsity: 5 learning with Edge Laplacian... Done! Test Error: 0.17365116790440524\n",
      "Simulation: 6/7 Sparsity: 5 learning with Wavelets... Done! Test Error: 0.12247269614475936\n"
     ]
    },
    {
     "name": "stderr",
     "output_type": "stream",
     "text": [
      "1it [00:20, 20.24s/it]"
     ]
    },
    {
     "name": "stdout",
     "output_type": "stream",
     "text": [
      "Simulation: 6/7 Sparsity: 5 learning with Separated Hodge Laplacian... Done! Test Error: 0.10624299958034832\n",
      "Simulation: 6/7 Sparsity: 9 learning with Fourier... Done! Test Error: 0.21327991075216143\n",
      "Simulation: 6/7 Sparsity: 9 learning with Slepians... Done! Test Error: 0.07624795581282989\n",
      "Simulation: 6/7 Sparsity: 9 learning with Edge Laplacian... Done! Test Error: 0.0810053444968041\n",
      "Simulation: 6/7 Sparsity: 9 learning with Wavelets... Done! Test Error: 0.05155385577589675\n"
     ]
    },
    {
     "name": "stderr",
     "output_type": "stream",
     "text": [
      "2it [01:00, 31.93s/it]"
     ]
    },
    {
     "name": "stdout",
     "output_type": "stream",
     "text": [
      "Simulation: 6/7 Sparsity: 9 learning with Separated Hodge Laplacian... Done! Test Error: 0.04605949448968977\n",
      "Simulation: 6/7 Sparsity: 13 learning with Fourier... Done! Test Error: 0.1370818020248716\n",
      "Simulation: 6/7 Sparsity: 13 learning with Slepians... Done! Test Error: 0.03912829811154092\n",
      "Simulation: 6/7 Sparsity: 13 learning with Edge Laplacian... Done! Test Error: 0.04852418606328038\n",
      "Simulation: 6/7 Sparsity: 13 learning with Wavelets... Done! Test Error: 0.0267574655647556\n"
     ]
    },
    {
     "name": "stderr",
     "output_type": "stream",
     "text": [
      "3it [01:44, 37.32s/it]"
     ]
    },
    {
     "name": "stdout",
     "output_type": "stream",
     "text": [
      "Simulation: 6/7 Sparsity: 13 learning with Separated Hodge Laplacian... Done! Test Error: 0.028812688705759343\n",
      "Simulation: 6/7 Sparsity: 17 learning with Fourier... Done! Test Error: 0.09393296232350254\n",
      "Simulation: 6/7 Sparsity: 17 learning with Slepians... Done! Test Error: 0.02307140335269184\n",
      "Simulation: 6/7 Sparsity: 17 learning with Edge Laplacian... Done! Test Error: 0.03624761986805706\n",
      "Simulation: 6/7 Sparsity: 17 learning with Wavelets... Done! Test Error: 0.014912097560582847\n"
     ]
    },
    {
     "name": "stderr",
     "output_type": "stream",
     "text": [
      "4it [02:48, 48.14s/it]"
     ]
    },
    {
     "name": "stdout",
     "output_type": "stream",
     "text": [
      "Simulation: 6/7 Sparsity: 17 learning with Separated Hodge Laplacian... Done! Test Error: 0.017555472041934857\n",
      "Simulation: 6/7 Sparsity: 21 learning with Fourier... Done! Test Error: 0.06752700418729966\n",
      "Simulation: 6/7 Sparsity: 21 learning with Slepians... Done! Test Error: 0.013884310874720083\n",
      "Simulation: 6/7 Sparsity: 21 learning with Edge Laplacian... Done! Test Error: 0.024624302116281832\n",
      "Simulation: 6/7 Sparsity: 21 learning with Wavelets... Done! Test Error: 0.008926846078214977\n"
     ]
    },
    {
     "name": "stderr",
     "output_type": "stream",
     "text": [
      "5it [04:30, 67.43s/it]"
     ]
    },
    {
     "name": "stdout",
     "output_type": "stream",
     "text": [
      "Simulation: 6/7 Sparsity: 21 learning with Separated Hodge Laplacian... Done! Test Error: 0.010126809920667407\n",
      "Simulation: 6/7 Sparsity: 25 learning with Fourier... Done! Test Error: 0.05067068387952714\n",
      "Simulation: 6/7 Sparsity: 25 learning with Slepians... Done! Test Error: 0.008798538884188412\n",
      "Simulation: 6/7 Sparsity: 25 learning with Edge Laplacian... Done! Test Error: 0.015053585990906327\n",
      "Simulation: 6/7 Sparsity: 25 learning with Wavelets... Done! Test Error: 0.005569104084314454\n"
     ]
    },
    {
     "name": "stderr",
     "output_type": "stream",
     "text": [
      "6it [05:52, 58.72s/it]\n"
     ]
    },
    {
     "name": "stdout",
     "output_type": "stream",
     "text": [
      "Simulation: 6/7 Sparsity: 25 learning with Separated Hodge Laplacian... Done! Test Error: 0.012849562460706726\n"
     ]
    },
    {
     "name": "stderr",
     "output_type": "stream",
     "text": [
      "0it [00:00, ?it/s]"
     ]
    },
    {
     "name": "stdout",
     "output_type": "stream",
     "text": [
      "Simulation: 7/7 Sparsity: 5 learning with Fourier... Done! Test Error: 0.3668289772566829\n",
      "Simulation: 7/7 Sparsity: 5 learning with Slepians... Done! Test Error: 0.2094887868693053\n",
      "Simulation: 7/7 Sparsity: 5 learning with Edge Laplacian... Done! Test Error: 0.15916202234292004\n",
      "Simulation: 7/7 Sparsity: 5 learning with Wavelets... Done! Test Error: 0.14788578113314185\n"
     ]
    },
    {
     "name": "stderr",
     "output_type": "stream",
     "text": [
      "1it [00:18, 18.55s/it]"
     ]
    },
    {
     "name": "stdout",
     "output_type": "stream",
     "text": [
      "Simulation: 7/7 Sparsity: 5 learning with Separated Hodge Laplacian... Done! Test Error: 0.11301476909827644\n",
      "Simulation: 7/7 Sparsity: 9 learning with Fourier... Done! Test Error: 0.2225036966670272\n",
      "Simulation: 7/7 Sparsity: 9 learning with Slepians... Done! Test Error: 0.10173507805741583\n",
      "Simulation: 7/7 Sparsity: 9 learning with Edge Laplacian... Done! Test Error: 0.07388263577061112\n",
      "Simulation: 7/7 Sparsity: 9 learning with Wavelets... Done! Test Error: 0.06541507083048101\n"
     ]
    },
    {
     "name": "stderr",
     "output_type": "stream",
     "text": [
      "2it [00:48, 25.38s/it]"
     ]
    },
    {
     "name": "stdout",
     "output_type": "stream",
     "text": [
      "Simulation: 7/7 Sparsity: 9 learning with Separated Hodge Laplacian... Done! Test Error: 0.05163599787212756\n",
      "Simulation: 7/7 Sparsity: 13 learning with Fourier... Done! Test Error: 0.14975578689244026\n",
      "Simulation: 7/7 Sparsity: 13 learning with Slepians... Done! Test Error: 0.05788900420899397\n",
      "Simulation: 7/7 Sparsity: 13 learning with Edge Laplacian... Done! Test Error: 0.04046309611026411\n",
      "Simulation: 7/7 Sparsity: 13 learning with Wavelets... Done! Test Error: 0.034207104435718984\n"
     ]
    },
    {
     "name": "stderr",
     "output_type": "stream",
     "text": [
      "3it [01:33, 34.27s/it]"
     ]
    },
    {
     "name": "stdout",
     "output_type": "stream",
     "text": [
      "Simulation: 7/7 Sparsity: 13 learning with Separated Hodge Laplacian... Done! Test Error: 0.026954176715037893\n",
      "Simulation: 7/7 Sparsity: 17 learning with Fourier... Done! Test Error: 0.10212735805399897\n",
      "Simulation: 7/7 Sparsity: 17 learning with Slepians... Done! Test Error: 0.036134503414740685\n",
      "Simulation: 7/7 Sparsity: 17 learning with Edge Laplacian... Done! Test Error: 0.02461458511795779\n",
      "Simulation: 7/7 Sparsity: 17 learning with Wavelets... Done! Test Error: 0.01938201381416333\n"
     ]
    },
    {
     "name": "stderr",
     "output_type": "stream",
     "text": [
      "4it [02:32, 43.84s/it]"
     ]
    },
    {
     "name": "stdout",
     "output_type": "stream",
     "text": [
      "Simulation: 7/7 Sparsity: 17 learning with Separated Hodge Laplacian... Done! Test Error: 0.018330768827759487\n",
      "Simulation: 7/7 Sparsity: 21 learning with Fourier... Done! Test Error: 0.07523543768992971\n",
      "Simulation: 7/7 Sparsity: 21 learning with Slepians... Done! Test Error: 0.023835143480991902\n",
      "Simulation: 7/7 Sparsity: 21 learning with Edge Laplacian... Done! Test Error: 0.015265323725978587\n",
      "Simulation: 7/7 Sparsity: 21 learning with Wavelets... Done! Test Error: 0.012024636196367865\n"
     ]
    },
    {
     "name": "stderr",
     "output_type": "stream",
     "text": [
      "5it [03:36, 51.28s/it]"
     ]
    },
    {
     "name": "stdout",
     "output_type": "stream",
     "text": [
      "Simulation: 7/7 Sparsity: 21 learning with Separated Hodge Laplacian... Done! Test Error: 0.01225820893203508\n",
      "Simulation: 7/7 Sparsity: 25 learning with Fourier... Done! Test Error: 0.05647157034659938\n",
      "Simulation: 7/7 Sparsity: 25 learning with Slepians... Done! Test Error: 0.016542212427590748\n",
      "Simulation: 7/7 Sparsity: 25 learning with Edge Laplacian... Done! Test Error: 0.011008025054572119\n",
      "Simulation: 7/7 Sparsity: 25 learning with Wavelets... Done! Test Error: 0.007703973880932711\n"
     ]
    },
    {
     "name": "stderr",
     "output_type": "stream",
     "text": [
      "6it [04:55, 49.17s/it]"
     ]
    },
    {
     "name": "stdout",
     "output_type": "stream",
     "text": [
      "Simulation: 7/7 Sparsity: 25 learning with Separated Hodge Laplacian... Done! Test Error: 0.007779704236876384\n"
     ]
    },
    {
     "name": "stderr",
     "output_type": "stream",
     "text": [
      "\n"
     ]
    }
   ],
   "source": [
    "import warnings\n",
    "warnings.filterwarnings(\"ignore\")\n",
    "\n",
    "algo_errors=simulate_learnable_vs_analytic(X_train[:,:,3:], \n",
    "                                            X_test[:,:,3:],\n",
    "                                            Y_train[:,:,3:],\n",
    "                                            Y_test[:,:,3:], \n",
    "                                            c_true[3:], \n",
    "                                            epsilon_true[3:], \n",
    "                                            n_sim-3, \n",
    "                                            topo_params2, \n",
    "                                            K0_coll,\n",
    "                                            max_iter,\n",
    "                                            patience,\n",
    "                                            tol,\n",
    "                                            lambda_)"
   ]
  },
  {
   "cell_type": "code",
   "execution_count": 18,
   "metadata": {},
   "outputs": [],
   "source": [
    "with open('C:\\\\Users\\\\engri\\\\Desktop\\\\tesi\\\\TSP-DictionaryLearning\\\\results\\\\gsp_res\\\\algo_errors_T50.pkl', 'wb') as file:\n",
    "    pickle.dump(algo_errors, file)"
   ]
  },
  {
   "cell_type": "code",
   "execution_count": 1,
   "metadata": {},
   "outputs": [
    {
     "ename": "NameError",
     "evalue": "name 'simulate_learnable_vs_analytic' is not defined",
     "output_type": "error",
     "traceback": [
      "\u001b[1;31m---------------------------------------------------------------------------\u001b[0m",
      "\u001b[1;31mNameError\u001b[0m                                 Traceback (most recent call last)",
      "Cell \u001b[1;32mIn[1], line 4\u001b[0m\n\u001b[0;32m      1\u001b[0m \u001b[38;5;28;01mimport\u001b[39;00m \u001b[38;5;21;01mwarnings\u001b[39;00m\n\u001b[0;32m      2\u001b[0m warnings\u001b[38;5;241m.\u001b[39mfilterwarnings(\u001b[38;5;124m\"\u001b[39m\u001b[38;5;124mignore\u001b[39m\u001b[38;5;124m\"\u001b[39m)\n\u001b[1;32m----> 4\u001b[0m algo_errors\u001b[38;5;241m=\u001b[39m\u001b[43msimulate_learnable_vs_analytic\u001b[49m(X_train[:,:,\u001b[38;5;241m3\u001b[39m:], \n\u001b[0;32m      5\u001b[0m                                             X_test[:,:,\u001b[38;5;241m3\u001b[39m:],\n\u001b[0;32m      6\u001b[0m                                             Y_train[:,:,\u001b[38;5;241m3\u001b[39m:],\n\u001b[0;32m      7\u001b[0m                                             Y_test[:,:,\u001b[38;5;241m3\u001b[39m:], \n\u001b[0;32m      8\u001b[0m                                             c_true[\u001b[38;5;241m3\u001b[39m:], \n\u001b[0;32m      9\u001b[0m                                             epsilon_true[\u001b[38;5;241m3\u001b[39m:], \n\u001b[0;32m     10\u001b[0m                                             n_sim\u001b[38;5;241m-\u001b[39m\u001b[38;5;241m3\u001b[39m, \n\u001b[0;32m     11\u001b[0m                                             topo_params2, \n\u001b[0;32m     12\u001b[0m                                             K0_coll,\n\u001b[0;32m     13\u001b[0m                                             max_iter,\n\u001b[0;32m     14\u001b[0m                                             patience,\n\u001b[0;32m     15\u001b[0m                                             tol,\n\u001b[0;32m     16\u001b[0m                                             lambda_)\n",
      "\u001b[1;31mNameError\u001b[0m: name 'simulate_learnable_vs_analytic' is not defined"
     ]
    }
   ],
   "source": [
    "import warnings\n",
    "warnings.filterwarnings(\"ignore\")\n",
    "\n",
    "algo_errors=simulate_learnable_vs_analytic(X_train[:,:,3:], \n",
    "                                            X_test[:,:,3:],\n",
    "                                            Y_train[:,:,3:],\n",
    "                                            Y_test[:,:,3:], \n",
    "                                            c_true[3:], \n",
    "                                            epsilon_true[3:], \n",
    "                                            n_sim-3, \n",
    "                                            topo_params2, \n",
    "                                            K0_coll,\n",
    "                                            max_iter,\n",
    "                                            patience,\n",
    "                                            tol,\n",
    "                                            lambda_)"
   ]
  },
  {
   "cell_type": "code",
   "execution_count": 11,
   "metadata": {},
   "outputs": [],
   "source": [
    "import pickle\n",
    "\n",
    "with open('C:\\\\Users\\\\engri\\\\Desktop\\\\tesi\\\\TSP-DictionaryLearning\\\\results\\\\gsp_res\\\\tmp_algo_errors_T50.pkl', 'rb') as file:\n",
    "    tmp_data = pickle.load(file)"
   ]
  },
  {
   "cell_type": "code",
   "execution_count": 12,
   "metadata": {},
   "outputs": [],
   "source": [
    "algo_errors['comp'] = tmp_data['comp']"
   ]
  },
  {
   "cell_type": "code",
   "execution_count": 14,
   "metadata": {},
   "outputs": [
    {
     "data": {
      "text/plain": [
       "dict_keys(['slep', 'wave', 'fou', 'edge', 'sep', 'comp'])"
      ]
     },
     "execution_count": 14,
     "metadata": {},
     "output_type": "execute_result"
    }
   ],
   "source": [
    "algo_errors.keys()"
   ]
  },
  {
   "cell_type": "code",
   "execution_count": 16,
   "metadata": {},
   "outputs": [],
   "source": [
    "import seaborn as sns\n",
    "import matplotlib.pyplot as plt"
   ]
  },
  {
   "cell_type": "code",
   "execution_count": 17,
   "metadata": {},
   "outputs": [
    {
     "data": {
      "image/png": "[encoded data removed]",
      "text/plain": [
       "<Figure size 1000x600 with 1 Axes>"
      ]
     },
     "metadata": {},
     "output_type": "display_data"
    }
   ],
   "source": [
    "dict_types = {\"slep\": \"Slepians Kernel\", \"wave\": \"Wavelet Kernel\", \"fou\": \"Fourier Baseline\", \"edge\": \"Edge Laplacian\", \"sep\": \"Separated Hodge Laplacian\", \"comp\": \"Separated Hodge + Topology\"}\n",
    "\n",
    "res_df = pd.DataFrame()\n",
    "n_sim = algo_errors['slep'].shape[0]\n",
    "\n",
    "for d in algo_errors.items():\n",
    "    for sim in range(n_sim):\n",
    "        tmp_df = pd.DataFrame()   \n",
    "        tmp_df[\"Error\"] = eval(f'd[1][sim,:]')\n",
    "        tmp_df[\"Sparsity\"] = K0_coll\n",
    "        tmp_df[\"Algorithm\"] = dict_types[d[0]]\n",
    "        res_df = pd.concat([res_df, tmp_df])\n",
    "\n",
    "plt.figure(figsize=(10, 6))\n",
    "sns.set_style('whitegrid')\n",
    "my_plt = sns.lineplot(data=res_df, x='Sparsity', y='Error', hue='Algorithm',\n",
    "                    palette=sns.color_palette(\"husl\"),\n",
    "                    markers=['*', '>', '^', 'v', 'D', 'h'], dashes=False, style='Algorithm')\n",
    "my_plt.set(yscale='log')\n",
    "my_plt.set_title(f'Topology learning: algorithms comparison')\n",
    "my_plt.set_ylabel('Error (log scale)')\n",
    "plt.show()"
   ]
  },
  {
   "cell_type": "markdown",
   "metadata": {},
   "source": [
    "# Real"
   ]
  },
  {
   "cell_type": "code",
   "execution_count": 35,
   "metadata": {},
   "outputs": [],
   "source": [
    "import scipy.linalg as sla\n",
    "import numpy as np\n",
    "import numpy.linalg as la\n",
    "import cvxpy as cp\n",
    "from tsplearn.tsp_generation import *\n",
    "from tsplearn.tsp_hodgelet import * # SeparateHodgelet, SimplicianSlepians\n",
    "from tsplearn.EnhancedGraph import EnhancedGraph\n",
    "from typing import Tuple, List, Union, Dict\n",
    "import pickle\n",
    "from functools import wraps\n",
    "from einops import rearrange\n",
    "\n",
    "\n",
    "def _indicator_matrix(row):\n",
    "    tmp = row.sigma.copy()\n",
    "    tmp[row.idx] = 0\n",
    "    return np.diag(tmp)\n",
    "\n",
    "def _indicator_matrix_rev(row):\n",
    "    tmp = row.sigma.copy()\n",
    "    tmp[row.idx] = 1\n",
    "    return np.diag(tmp)\n",
    "\n",
    "def _compute_Luj(row, b2, J):\n",
    "    Lu = b2 @ row.sigma @ b2.T\n",
    "    Luj = np.array([la.matrix_power(Lu, i) for i in range(1, J + 1)])\n",
    "    return Luj\n",
    "\n",
    "def _split_coeffs(h ,s ,k, sep=False):\n",
    "    h_tmp = h.value.flatten()\n",
    "    # hH = h_tmp[:s,].reshape((s,1))\n",
    "    # hS = h_tmp[s:s*(k+1),].reshape((s,k))\n",
    "    # hI = h_tmp[s*(k+1):,].reshape((s,k))\n",
    "    if sep:\n",
    "        hH = h_tmp[np.arange(0, (s*(2*k+1)), (2*k+1))].reshape((s,1))\n",
    "        hS = h_tmp[np.hstack([[i,i+1] for i in range(1, (s*(2*k+1)), (2*k+1))])].reshape((s,k))\n",
    "        hI = h_tmp[np.hstack([[i,i+1] for i in range((k+1), (s*(2*k+1)), (2*k+1))])].reshape((s,k))\n",
    "        return [hH, hS, hI]\n",
    "    hi = h_tmp[np.arange(0, (s*(k+1)), (k+1))].reshape((s,1))\n",
    "    h = h_tmp[np.hstack([[i,i+1] for i in range(1, (s*(k+1)), (k+1))])].reshape((s,k))\n",
    "    return np.hstack([h, hi])\n",
    "    \n",
    "def sparse_transform(D, K0, Y_te, Y_tr=None):\n",
    "\n",
    "    ep = np.finfo(float).eps # to avoid some underflow problems\n",
    "    dd = la.norm(D, axis=0) + ep\n",
    "    W = np.diag(1. / dd)\n",
    "    Domp = D @ W\n",
    "    X_te = np.apply_along_axis(lambda x: get_omp_coeff(K0, Domp=Domp, col=x), axis=0, arr=Y_te)\n",
    "    # Normalization\n",
    "    X_te = W @ X_te\n",
    "\n",
    "    if np.all(Y_tr == None):\n",
    "\n",
    "        return X_te\n",
    "    \n",
    "    # Same for the training set\n",
    "    X_tr = np.apply_along_axis(lambda x: get_omp_coeff(K0, Domp=Domp, col=x), axis=0, arr=Y_tr)\n",
    "    X_tr = W @ X_tr\n",
    "    \n",
    "    return X_te, X_tr\n",
    "\n",
    "\n",
    "def compute_vandermonde(L, k):\n",
    "    \n",
    "    def polynomial_exp(x, k):\n",
    "        x = x** np.arange(0, k + 1)\n",
    "        return x\n",
    "\n",
    "    eigenvalues, _ = sla.eig(L)\n",
    "    idx = eigenvalues.argsort()\n",
    "    tmp_df = pd.DataFrame({'Eigs': eigenvalues[idx]})\n",
    "    tmp_df['Poly'] = tmp_df['Eigs'].apply(lambda x:  polynomial_exp(x,k))\n",
    "    B = np.vstack(tmp_df['Poly'].to_numpy())\n",
    "\n",
    "    return B\n",
    "\n",
    "\n",
    "def nmse(D, X, Y, m):\n",
    "    return (1/m)* np.sum(la.norm(Y - (D @ X), axis=0)**2 /la.norm(Y, axis=0)**2)\n",
    "\n",
    "\n",
    "class TspSolver:\n",
    "\n",
    "    def __init__(self, X_train, X_test, Y_train, Y_test, *args, **kwargs):\n",
    "\n",
    "        params = {\n",
    "                'P': None,      # Number of Kernels (Sub-dictionaries)\n",
    "                'J': None,      # Polynomial order\n",
    "                'K0': None,     # Sparsity level\n",
    "                'dictionary_type': None,\n",
    "                'c': None,      # spectral control parameter \n",
    "                'epsilon': None,# spectral control parameter\n",
    "                'n': 10,        # number of nodes\n",
    "                'sub_size': None,   # Number of sub-sampled nodes\n",
    "                'prob_T': 1.,   # Ratio of colored triangles\n",
    "                'true_prob_T': 1.,   # True ratio of colored triangles\n",
    "                'p_edges': 1.,  # Probability of edge existence\n",
    "                'synthetic_data': True,\n",
    "                'seed': None,       ####\n",
    "                'option' : \"One-shot-diffusion\",        ####\n",
    "                'diff_order_sol' : 1,       ####\n",
    "                'diff_order_irr' : 1,       ####\n",
    "                'step_prog' : 1,        ####\n",
    "                'top_k_slepians' : 2        ####\n",
    "                }\n",
    "        \n",
    "        if args:\n",
    "            if len(args) != 1 or not isinstance(args[0], dict):\n",
    "                raise ValueError(\"When using positional arguments, must provide a single dictionary\")\n",
    "            params.update(args[0])\n",
    "\n",
    "        params.update(kwargs)\n",
    "\n",
    "        # Data\n",
    "        self.X_train: np.ndarray = X_train\n",
    "        self.X_test: np.ndarray = X_test\n",
    "        self.Y_train: np.ndarray = Y_train\n",
    "        self.Y_test: np.ndarray = Y_test\n",
    "        self.m_train: int = Y_train.shape[1]\n",
    "        self.m_test: int = Y_test.shape[1]\n",
    "\n",
    "        # Topology and geometry behind data\n",
    "        if params[\"synthetic_data\"]:\n",
    "            self.G = EnhancedGraph(n=params['n'],\n",
    "                                p_edges=params['p_edges'], \n",
    "                                p_triangles=params['prob_T'], \n",
    "                                seed=params['seed']) \n",
    "            # Incidence matrices\n",
    "            self.B1: np.ndarray = self.G.get_b1()\n",
    "            self.B2: np.ndarray = self.G.get_b2()\n",
    "\n",
    "            # Sub-sampling if needed to decrease complexity\n",
    "            if params['sub_size'] != None:\n",
    "                self.B1 = self.B1[:, :params['sub_size']]\n",
    "                self.B2 = self.B2[:params['sub_size'], :]\n",
    "                self.B2 = self.B2[:,np.sum(np.abs(self.B2), 0) == 3]\n",
    "            \n",
    "            # Topology dimensions and hyperparameters\n",
    "            self.nu: int = self.B2.shape[1]\n",
    "            self.nd: int = self.B1.shape[1]\n",
    "            self.true_prob_T = params['true_prob_T']\n",
    "            self.T: int = int(np.ceil(self.nu*(1-params['prob_T'])))\n",
    "\n",
    "            # Laplacians according to the Hodge Theory for cell complexes\n",
    "            Lu, Ld, L = self.G.get_laplacians(sub_size=params['sub_size'])\n",
    "            self.Lu: np.ndarray = Lu                             # Ground-truth upper Laplacian\n",
    "            self.Ld: np.ndarray = Ld                             # Ground-truth lower Laplacian\n",
    "            self.L: np.ndarray = L                               # Ground-truth sum Laplacian\n",
    "            self.Lu_full: np.ndarray = G.get_laplacians(sub_size=params['sub_size'], \n",
    "                                                        full=True)\n",
    "            self.M =  L.shape[0]\n",
    "        else:\n",
    "            self.B1 = params['B1']\n",
    "            self.B2 = params['B2']\n",
    "            self.nu: int = self.B2.shape[1]\n",
    "            self.nd: int = self.B1.shape[1]\n",
    "            self.L, self.Lu, self.Ld = hodge_laplacians(self.B1, self.B2)\n",
    "        \n",
    "\n",
    "        # Dictionary hyperparameters\n",
    "        self.P = params['P']                                 # Number of sub-dicts\n",
    "        self.J = params['J']                                 # Polynomial order for the Hodge Laplacian\n",
    "        self.c = params['c']                                 # Hyperparameter for stability in frequency domain\n",
    "        self.epsilon = params['epsilon']                     # Hyperparameter for stability in frequency domain\n",
    "        self.K0 = params['K0']                               # Assumed sparsity level\n",
    "        self.dictionary_type = params['dictionary_type']\n",
    "        # Init optimal values for sparse representations and overcomplete dictionary\n",
    "        self.D_opt: np.ndarray = np.zeros((self.M, self.M*self.P))\n",
    "        self.X_opt_train: np.ndarray = np.zeros(self.X_train.shape)\n",
    "        self.X_opt_test: np.ndarray = np.zeros(self.X_test.shape)\n",
    "        # Init the learning errors and error curve (history)\n",
    "        self.min_error_train = 1e20\n",
    "        self.min_error_test = 1e20\n",
    "        self.history: List[np.ndarray] = []\n",
    "\n",
    "        ############################################################################################################\n",
    "        ##                                                                                                        ##\n",
    "        ##               This section is only for learnable (data-driven) dictionaries                            ##\n",
    "        ##                                                                                                        ##\n",
    "        ############################################################################################################\n",
    "\n",
    "        # Init the dictionary parameters according to the specific parameterization setup\n",
    "        if self.dictionary_type==\"separated\":\n",
    "            hs = np.zeros((self.P,self.J))\n",
    "            hi = np.zeros((self.P,self.J))\n",
    "            hh = np.zeros((self.P,1))\n",
    "            self.h_opt: List[np.ndarray] = [hh,hs,hi]\n",
    "        else:\n",
    "            h = np.zeros((self.P, self.J))\n",
    "            hi = np.zeros((self.P, 1))\n",
    "            self.h_opt: List[np.ndarray] = [hi, h]\n",
    "\n",
    "        # Compute the polynomial extension for the Laplacians and the auxiliary \n",
    "        # \"pseudo-vandermonde\" matrix for the constraints in the quadratic form\n",
    "        if self.dictionary_type == \"joint\":\n",
    "            self.Lj, self.lambda_max_j, self.lambda_min_j = compute_Lj_and_lambdaj(self.L, self.J)\n",
    "            self.B = compute_vandermonde(self.L, self.J).real\n",
    "        elif self.dictionary_type == \"edge_laplacian\":\n",
    "            self.Lj, self.lambda_max_j, self.lambda_min_j = compute_Lj_and_lambdaj(self.Ld, self.J)\n",
    "            self.B = compute_vandermonde(self.Ld, self.J).real\n",
    "        elif  self.dictionary_type == 'separated':\n",
    "            self.Luj, self.lambda_max_u_j, self.lambda_min_u_j = compute_Lj_and_lambdaj(self.Lu, self.J, separated=True)\n",
    "            self.Ldj, self.lambda_max_d_j, self.lambda_min_d_j = compute_Lj_and_lambdaj(self.Ld, self.J, separated=True)\n",
    "            self.Bu = compute_vandermonde(self.Lu, self.J).real\n",
    "            self.Bd = compute_vandermonde(self.Ld, self.J)[:, 1:].real\n",
    "            self.B = np.hstack([self.Bu, self.Bd])\n",
    "\n",
    "        # Auxiliary matrix to define quadratic form dor the dictionary learning step\n",
    "        self.P_aux: np.ndarray = None\n",
    "        # Flag variable: the dictionary is learnable or analytic\n",
    "        self.dict_is_learnable = self.dictionary_type in [\"separated\", \"joint\", \"edge_laplacian\"]\n",
    "\n",
    "        # Auxiliary tools for the Slepians-based dictionary setup\n",
    "        if self.dictionary_type == 'slepians':\n",
    "            self.option = params['option']\n",
    "            self.diff_order_sol = params['diff_order_sol']\n",
    "            self.step_prog = params['step_prog']\n",
    "            self.diff_order_irr = params['diff_order_irr']\n",
    "            self.source_sol = np.ones((self.nd,))\n",
    "            self.source_irr = np.ones((self.nd,))\n",
    "            self.top_K_slepians = params['top_k_slepians']\n",
    "            self.spars_level = list(range(10,80,10))\n",
    "            # Remember that this part should be updated if B2 or Lu are updated!\n",
    "            self.F_sol,self.F_irr = get_frequency_mask(self.B1,self.B2) # Get frequency bands\n",
    "            self.S_neigh, self.complete_coverage = cluster_on_neigh(self.B1,\n",
    "                                                                    self.B2,\n",
    "                                                                    self.diff_order_sol,\n",
    "                                                                    self.diff_order_irr,\n",
    "                                                                    self.source_sol,\n",
    "                                                                    self.source_irr,\n",
    "                                                                    self.option,\n",
    "                                                                    self.step_prog)\n",
    "            self.R = [self.F_sol, self.F_irr]\n",
    "            self.S = self.S_neigh\n",
    "\n",
    "        # Auxiliary tools for the Wavelet-based dictionary setup\n",
    "        elif self.dictionary_type == 'wavelet':\n",
    "            # Remember that this part should be updated if B2 or Lu are updated!\n",
    "            self.w1 = np.linalg.eigvalsh(self.Lu)\n",
    "            self.w2 = np.linalg.eigvalsh(self.Ld)\n",
    "            \n",
    "\n",
    "    def update_Lu(self, Lu_new):\n",
    "        self.Lu = Lu_new\n",
    "        self.Luj, self.lambda_max_u_j, self.lambda_min_u_j = compute_Lj_and_lambdaj(self.Lu, \n",
    "                                                                                    self.J, \n",
    "                                                                                    separated=True)\n",
    "        self.Bu = compute_vandermonde(self.Lu, self.J).real\n",
    "        self.B = np.hstack([self.Bu, self.Bd])\n",
    "\n",
    "    @staticmethod\n",
    "    def _multiplier_search(*arrays, P, c, epsilon):\n",
    "        is_okay = 0\n",
    "        mult = 100\n",
    "        tries = 0\n",
    "        while is_okay==0:\n",
    "            is_okay = 1\n",
    "            h, c_try, _, tmp_sum_min, tmp_sum_max = generate_coeffs(arrays, P=P, mult=mult)\n",
    "            if c_try <= c:\n",
    "                is_okay *= 1\n",
    "            if tmp_sum_min > c-epsilon:\n",
    "                is_okay *= 1\n",
    "                incr_mult = 0\n",
    "            else:\n",
    "                is_okay = is_okay*0\n",
    "                incr_mult = 1\n",
    "            if tmp_sum_max < c+epsilon:\n",
    "                is_okay *= 1\n",
    "                decr_mult = 0\n",
    "            else:\n",
    "                is_okay *= 0\n",
    "                decr_mult = 1\n",
    "            if is_okay == 0:\n",
    "                tries += 1\n",
    "            if tries >3:\n",
    "                discard = 1\n",
    "                break\n",
    "            if incr_mult == 1:\n",
    "                mult *= 2\n",
    "            if decr_mult == 1:\n",
    "                mult /= 2\n",
    "        return h, discard\n",
    "\n",
    "    def init_dict(self,\n",
    "                  h_prior: np.ndarray = None, \n",
    "                  mode: str = \"only_X\") -> Tuple[np.ndarray, np.ndarray]:\n",
    "        \"\"\"\n",
    "        Initialize the dictionary and the signal sparse representation for the alternating\n",
    "        optimization algorithm.\n",
    "\n",
    "        Args:\n",
    "            Lu (np.ndarray): Upper Laplacian matrix\n",
    "            Ld (np.ndarray): Lower Laplacian matrix\n",
    "            P (int): Number of kernels (sub-dictionaries).\n",
    "            J (int): Max order of the polynomial for the single sub-dictionary.\n",
    "            Y_train (np.ndarray): Training data.\n",
    "            K0 (int): Sparsity of the signal representation.\n",
    "            dictionary_type (str): Type of dictionary.\n",
    "            c (float): Boundary constant from the synthetic data generation process.\n",
    "            epsilon (float): Boundary constant from the synthetic data generation process.\n",
    "            only (str): Type of initialization. Can be one of: \"only_X\", \"all\", \"only_D\".\n",
    "\n",
    "        Returns:\n",
    "            Tuple[np.ndarray, np.ndarray, bool]: Initialized dictionary, initialized sparse representation, and discard flag value.\n",
    "        \"\"\"\n",
    "        \n",
    "        # If no prior info on the dictionary\n",
    "        if np.all(h_prior == None):\n",
    "\n",
    "            # Init Dictionary\n",
    "            if (mode in [\"all\",\"only_D\"]):\n",
    "\n",
    "                discard = 1\n",
    "                while discard==1:\n",
    "\n",
    "                    if self.dictionary_type != \"separated\":\n",
    "                        h_prior, discard = self._multiplier_search(self.lambda_max_j, \n",
    "                                                              self.lambda_min_j, \n",
    "                                                              P=self.P, \n",
    "                                                              c=self.c, \n",
    "                                                              epsilon=self.epsilon)\n",
    "                        self.D_opt = generate_dictionary(h_prior, \n",
    "                                                         self.P, \n",
    "                                                         self.Lj)\n",
    "\n",
    "                    else:\n",
    "                        h_prior, discard = self._multiplier_search(self.lambda_max_d_j, \n",
    "                                                              self.lambda_min_d_j, \n",
    "                                                              self.lambda_max_u_j, \n",
    "                                                              self.lambda_min_u_j,\n",
    "                                                              P=self.P, \n",
    "                                                              c=self.c, \n",
    "                                                              epsilon=self.epsilon)\n",
    "                        self.D_opt = generate_dictionary(h_prior, \n",
    "                                                         self.P, \n",
    "                                                         self.Luj, \n",
    "                                                         self.Ldj)\n",
    "\n",
    "            # Init Sparse Representations\n",
    "            if (mode in [\"all\",\"only_X\"]):\n",
    "                \n",
    "                L = self.Ld if self.dictionary_type == \"edge_laplacian\" else self.L\n",
    "                _, Dx = sla.eig(L)\n",
    "                dd = la.norm(Dx, axis=0)\n",
    "                W = np.diag(1./dd)\n",
    "                Dx = Dx / la.norm(Dx)  \n",
    "                Domp = Dx@W\n",
    "                X = np.apply_along_axis(lambda x: get_omp_coeff(self.K0, Domp.real, x), axis=0, arr=self.Y_train)\n",
    "                X = np.tile(X, (self.P,1))\n",
    "                self.X_opt_train = X\n",
    "\n",
    "        # Otherwise use prior info about the dictionary to initialize both the dictionary and the sparse representation\n",
    "        else:\n",
    "            \n",
    "            self.h_opt = h_prior\n",
    "\n",
    "            if self.dictionary_type == \"separated\":\n",
    "                self.D_opt = generate_dictionary(h_prior, \n",
    "                                                 self.P, \n",
    "                                                 self.Luj, \n",
    "                                                 self.Ldj)\n",
    "                self.X_opt_train = sparse_transform(self.D_opt, \n",
    "                                                    self.K0, \n",
    "                                                    self.Y_train)\n",
    "            else: \n",
    "                self.D_opt = generate_dictionary(h_prior, \n",
    "                                                 self.P, \n",
    "                                                 self.Lj)\n",
    "                self.X_opt_train = sparse_transform(self.D_opt, \n",
    "                                                    self.K0, \n",
    "                                                    self.Y_train)             \n",
    "\n",
    "   \n",
    "    def save_results(func):\n",
    "        @wraps(func)\n",
    "        def wrapper(self, *args, **kwargs):\n",
    "\n",
    "            outputs = func(self, *args, **kwargs)\n",
    "            func_name = func.__name__\n",
    "\n",
    "            if func_name == \"topological_dictionary_learn\":\n",
    "\n",
    "                path = os.getcwd()\n",
    "                dir_path = os.path.join(path, \n",
    "                                        'results', \n",
    "                                        'dictionary_learning',\n",
    "                                        f'{self.dictionary_type}')\n",
    "                name = f'learn_D_{self.dictionary_type}'\n",
    "                filename = os.path.join(dir_path, f'{name}.pkl')\n",
    "                save_var = {\"min_error_test\": self.min_error_test,\n",
    "                            \"min_error_train\": self.min_error_train,\n",
    "                            \"history\": outputs[2],\n",
    "                            \"h_opt\": self.h_opt,\n",
    "                            \"X_opt_test\": self.X_opt_test,\n",
    "                            \"X_opt_train\": self.X_opt_train,\n",
    "                            \"D_opt\": self.D_opt}\n",
    "                \n",
    "            elif func_name == \"learn_upper_laplacian\":\n",
    "\n",
    "                path = os.getcwd()\n",
    "                dir_path = os.path.join(path, 'results', 'topology_learning')\n",
    "                name = f'learn_T{int(self.true_prob_T*100)}'\n",
    "                filename = os.path.join(dir_path, f'{name}.pkl')\n",
    "                save_var = {\"min_error_test\": self.min_error_test,\n",
    "                            \"min_error_train\": self.min_error_train,\n",
    "                            \"history\": self.history,\n",
    "                            \"Lu_opt\": self.Lu,\n",
    "                            \"h_opt\": self.h_opt,\n",
    "                            \"X_opt_test\": self.X_opt_test,\n",
    "                            \"X_opt_train\": self.X_opt_train,\n",
    "                            \"D_opt\": self.D_opt}\n",
    "\n",
    "            if not os.path.exists(dir_path):\n",
    "                os.makedirs(dir_path)\n",
    "\n",
    "            try:\n",
    "                with open(filename, 'wb') as file:\n",
    "                    pickle.dump(save_var, file)\n",
    "            except IOError as e:\n",
    "                print(f\"An error occurred while writing the file: {e}\")\n",
    "            except Exception as e:\n",
    "                print(f\"An unexpected error occurred: {e}\")\n",
    "\n",
    "            return outputs  \n",
    "        return wrapper\n",
    "\n",
    "    def topological_dictionary_learn(self,\n",
    "                                     lambda_: float = 1e-3, \n",
    "                                     max_iter: int = 10, \n",
    "                                     patience: int = 10,\n",
    "                                     tol: float = 1e-7,\n",
    "                                     step_h: float = 1.,\n",
    "                                     step_x: float = 1.,\n",
    "                                     solver: str =\"MOSEK\", \n",
    "                                     verbose: bool = False) -> Tuple[np.ndarray, np.ndarray, List[float]]:\n",
    "        \"\"\"\n",
    "        Dictionary learning algorithm implementation for sparse representations of a signal on complex regular cellular.\n",
    "        The algorithm consists of an iterative alternating optimization procedure defined in two steps: the positive semi-definite programming step\n",
    "        for obtaining the coefficients and dictionary based on Hodge theory, and the Orthogonal Matching Pursuit step for constructing \n",
    "        the K0-sparse solution from the dictionary found in the previous step, which best approximates the original signal.\n",
    "        Args:\n",
    "            Y_train (np.ndarray): Training data.\n",
    "            Y_test (np.ndarray): Testing data.\n",
    "            J (int): Max order of the polynomial for the single sub-dictionary.\n",
    "            M (int): Number of data points (number of nodes in the data graph).\n",
    "            P (int): Number of kernels (sub-dictionaries).\n",
    "            D0 (np.ndarray): Initial dictionary.\n",
    "            X0 (np.ndarray): Initial sparse representation.\n",
    "            Lu (np.ndarray): Upper Laplacian matrix\n",
    "            Ld (np.ndarray): Lower Laplacian matrix\n",
    "            dictionary_type (str): Type of dictionary.\n",
    "            c (float): Boundary constant from the synthetic data generation process.\n",
    "            epsilon (float): Boundary constant from the synthetic data generation process.\n",
    "            K0 (int): Sparsity of the signal representation.\n",
    "            lambda_ (float, optional): Regularization parameter. Defaults to 1e-3.\n",
    "            max_iter (int, optional): Maximum number of iterations. Defaults to 10.\n",
    "            patience (int, optional): Patience for early stopping. Defaults to 10.\n",
    "            tol (float, optional): Tolerance value. Defaults to 1e-s.\n",
    "            verbose (int, optional): Verbosity level. Defaults to 0.\n",
    "\n",
    "        Returns:\n",
    "            Tuple[np.ndarray, np.ndarray, np.ndarray, np.ndarray, np.ndarray]:\n",
    "            minimum training error, minimum testing error, optimal coefficients, optimal testing sparse representation, and optimal training sparse representation.\n",
    "        \"\"\"\n",
    "\n",
    "        # Define hyperparameters\n",
    "        iter_, pat_iter = 1, 0\n",
    "        hist = []\n",
    "\n",
    "        if self.dict_is_learnalbe:\n",
    "\n",
    "            # Init the dictionary and the sparse representation \n",
    "            D_coll = [cp.Constant(self.D_opt[:,(self.M*i):(self.M*(i+1))]) for i in range(self.P)]\n",
    "            Dsum = cp.Constant(np.zeros((self.M, self.M)))\n",
    "            h_opt = self.h_opt\n",
    "            Y = cp.Constant(self.Y_train)\n",
    "            X_tr = self.X_opt_train\n",
    "            X_te = self.X_opt_test\n",
    "            I = cp.Constant(np.eye(self.M))\n",
    "            \n",
    "            while pat_iter < patience and iter_ <= max_iter:\n",
    "                \n",
    "                # SDP Step\n",
    "                X = cp.Constant(X_tr)\n",
    "                if iter_ != 1:\n",
    "                    D_coll = [cp.Constant(D[:,(self.M*i):(self.M*(i+1))]) for i in range(self.P)]\n",
    "                    Dsum = cp.Constant(np.zeros((self.M, self.M)))\n",
    "                \n",
    "                # Define the objective function\n",
    "                if self.dictionary_type in [\"joint\", \"edge_laplacian\"]:\n",
    "                    # Init the variables\n",
    "                    h = cp.Variable((self.P, self.J))\n",
    "                    hI = cp.Variable((self.P, 1))\n",
    "                    h.value, hI.value = h_opt\n",
    "                    for i in range(0,self.P):\n",
    "                        tmp =  cp.Constant(np.zeros((self.M, self.M)))\n",
    "                        for j in range(0,self.J):\n",
    "                            tmp += (cp.Constant(self.Lj[j, :, :]) * h[i,j])\n",
    "                        tmp += (I*hI[i])\n",
    "                        D_coll[i] = tmp\n",
    "                        Dsum += tmp\n",
    "                    D = cp.hstack([D_coll[i]for i in range(self.P)])\n",
    "                    term1 = cp.square(cp.norm((Y - D @ X), 'fro'))\n",
    "                    term2 = cp.square(cp.norm(h, 'fro')*lambda_)\n",
    "                    term3 = cp.square(cp.norm(hI, 'fro')*lambda_)\n",
    "                    obj = cp.Minimize(term1 + term2 + term3)\n",
    "\n",
    "                else:\n",
    "                    # Init the variables\n",
    "                    hI = cp.Variable((self.P, self.J))\n",
    "                    hS = cp.Variable((self.P, self.J))\n",
    "                    hH = cp.Variable((self.P, 1))\n",
    "                    hH.value, hS.value, hI.value = h_opt ##################### OCCHIO\n",
    "                    for i in range(0,self.P):\n",
    "                        tmp =  cp.Constant(np.zeros((self.M, self.M)))\n",
    "                        for j in range(0,self.J):\n",
    "                            tmp += ((cp.Constant(self.Luj[j, :, :])*hS[i,j]) + (cp.Constant(self.Ldj[j, :, :])*hI[i,j]))\n",
    "                        tmp += (I*hH[i])\n",
    "                        D_coll[i] = tmp\n",
    "                        Dsum += tmp\n",
    "                    D = cp.hstack([D_coll[i] for i in range(self.P)])\n",
    "        \n",
    "                    term1 = cp.square(cp.norm((Y - D @ X), 'fro'))\n",
    "                    term2 = cp.square(cp.norm(hI, 'fro')*lambda_)\n",
    "                    term3 = cp.square(cp.norm(hS, 'fro')*lambda_)\n",
    "                    term4 = cp.square(cp.norm(hH, 'fro')*lambda_)\n",
    "                    obj = cp.Minimize(term1 + term2 + term3 + term4)\n",
    "\n",
    "                # Define the constraints\n",
    "                constraints = [D_coll[i] >> 0 for i in range(self.P)] + \\\n",
    "                                [(cp.multiply(self.c, I) - D_coll[i]) >> 0 for i in range(self.P)] + \\\n",
    "                                [(Dsum - cp.multiply((self.c - self.epsilon), I)) >> 0, (cp.multiply((self.c + self.epsilon), I) - Dsum) >> 0]\n",
    "\n",
    "                prob = cp.Problem(obj, constraints)\n",
    "                prob.solve(solver=eval(f'cp.{solver}'), verbose=False)\n",
    "\n",
    "                # Dictionary Update\n",
    "                D = D.value\n",
    "                if self.dictionary_type in [\"joint\", \"edge_laplacian\"]:\n",
    "                    h_opt = [h_opt[0] + step_h*(h.value - h_opt[0]),\n",
    "                             h_opt[1] + step_h*(hI.value - h_opt[1])]\n",
    "                else:\n",
    "                    h_opt = [h_opt[0] + step_h*(hH.value-h_opt[0]),\n",
    "                             h_opt[1] + step_h*(hS.value-h_opt[1]), \n",
    "                             h_opt[2] + step_h*(hI.value-h_opt[2])]\n",
    "\n",
    "                # OMP Step\n",
    "                X_te_tmp, X_tr_tmp = sparse_transform(D, self.K0, self.Y_test, self.Y_train)\n",
    "                # Sparse Representation Update\n",
    "                X_tr = X_tr + step_x*(X_tr_tmp - X_tr)\n",
    "                X_te = X_te + step_x*(X_te_tmp - X_te)\n",
    "\n",
    "                # Error Update\n",
    "                error_train = nmse(D, X_tr, self.Y_train, self.m_train)\n",
    "                error_test = nmse(D, X_te, self.Y_test, self.m_test)\n",
    "\n",
    "                hist.append(error_test)\n",
    "                \n",
    "                # Error Storing\n",
    "                if (error_train < self.min_error_train) and (abs(error_train) > np.finfo(float).eps) and (abs(error_train - self.min_error_train) > tol):\n",
    "                    self.X_opt_train = X_tr\n",
    "                    self.min_error_train = error_train\n",
    "\n",
    "                if (error_test < self.min_error_test) and (abs(error_test) > np.finfo(float).eps) and (abs(error_test - self.min_error_test) > tol):\n",
    "                    self.h_opt = h_opt\n",
    "                    self.D_opt = D\n",
    "                    self.X_opt_test = X_te\n",
    "                    self.min_error_test = error_test\n",
    "                    pat_iter = 0\n",
    "\n",
    "                    if verbose == 1:\n",
    "                        print(\"New Best Test Error:\", self.min_error_test)\n",
    "                else:\n",
    "                    pat_iter += 1\n",
    "\n",
    "                iter_ += 1\n",
    "        \n",
    "        else:\n",
    "\n",
    "            # Fourier Dictionary Benchmark\n",
    "            _, self.D_opt = sla.eigh(self.L)\n",
    "            self.X_opt_test, self.X_opt_train = sparse_transform(self.D_opt, self.K0, self.Y_test, self.Y_train)\n",
    "\n",
    "            # Error Updating\n",
    "            self.min_error_train = nmse(self.D_opt, self.X_opt_train, self.Y_train, self.m_train)\n",
    "            self.min_error_test= nmse(self.D_opt, self.X_opt_test, self.Y_test, self.m_test)\n",
    "            \n",
    "        return self.min_error_test, self.min_error_train, hist\n",
    "    \n",
    "\n",
    "    def _aux_matrix_update(self, X):\n",
    "\n",
    "        I = [np.eye(self.M)]\n",
    "        if self.dictionary_type==\"separated\":\n",
    "            LLu = [lu for lu in self.Luj]\n",
    "            LLd = [ld for ld in self.Ldj]\n",
    "            LL = np.array(I+LLu+LLd)\n",
    "        else:\n",
    "            LL = [l for l in self.Lj]\n",
    "            LL = np.array(I + LL)\n",
    "\n",
    "        P_aux = np.array([LL@X[(i*self.M): ((i+1)*self.M), :] for i in range(self.P)])\n",
    "        self.P_aux = rearrange(P_aux, 'b h w c -> (b h) w c')\n",
    "    \n",
    "    def topological_dictionary_learn_qp(self,\n",
    "                                        lambda_: float = 1e-3, \n",
    "                                        max_iter: int = 10, \n",
    "                                        patience: int = 10,\n",
    "                                        tol: float = 1e-7,\n",
    "                                        solver: str = 'GUROBI',\n",
    "                                        step_h: float = 1.,\n",
    "                                        step_x: float = 1.,\n",
    "                                        verbose: bool = False) -> Tuple[np.ndarray, np.ndarray, List[float]]:\n",
    "        \n",
    "        # Define hyperparameters\n",
    "        iter_, pat_iter = 1, 0\n",
    "        hist = []\n",
    "\n",
    "        # Learnable Dictionary -> ADMM optimization algorithm\n",
    "        if self.dict_is_learnable:\n",
    "            \n",
    "            # Init the the sparse representation\n",
    "            h_opt = np.hstack([h.flatten() for h in self.h_opt]).reshape(-1,1)\n",
    "            X_tr = self.X_opt_train\n",
    "            X_te = self.X_opt_test\n",
    "            f = 2 if self.dictionary_type == \"separated\" else 1\n",
    "            reg = lambda_ * np.eye(self.P*(f*self.J+1))\n",
    "            I_s = cp.Constant(np.eye(self.P))\n",
    "            i_s = cp.Constant(np.ones((self.P,1)))\n",
    "            B = cp.Constant(self.B)\n",
    "\n",
    "            while pat_iter < patience and iter_ <= max_iter:\n",
    "\n",
    "                # Init variables and parameters\n",
    "                h = cp.Variable((self.P*(f*self.J+1), 1)) \n",
    "                self._aux_matrix_update(X_tr)\n",
    "                h.value = h_opt\n",
    "\n",
    "                Q = cp.Constant(np.einsum('imn, lmn -> il', self.P_aux, self.P_aux) + reg)\n",
    "                l = cp.Constant(np.einsum('mn, imn -> i', self.Y_train, self.P_aux))\n",
    "\n",
    "                # Quadratic term\n",
    "                term2 = cp.quad_form(h, Q, assume_PSD = True)\n",
    "                # Linear term\n",
    "                term1 = l@h\n",
    "                term1 = cp.multiply(-2, term1)[0]\n",
    "                \n",
    "                obj = cp.Minimize(term2+term1)\n",
    "\n",
    "                # Define the constraints\n",
    "                cons1 = cp.kron(I_s, B)@h\n",
    "                cons2 = cp.kron(i_s.T, B)@h\n",
    "                constraints = [cons1 >= 0] + \\\n",
    "                                [cons1 <= self.c] + \\\n",
    "                                [cons2 >= (self.c - self.epsilon)] + \\\n",
    "                                [cons2 <= (self.c + self.epsilon)]\n",
    "\n",
    "                prob = cp.Problem(obj, constraints)\n",
    "                prob.solve(solver=eval(f'cp.{solver}'), verbose=False)\n",
    "\n",
    "                # Update the dictionary\n",
    "\n",
    "                if self.dictionary_type in [\"joint\", \"edge_laplacian\"]:\n",
    "                    h_tmp = _split_coeffs(h, self.P, self.J)\n",
    "                    # print(h_tmp.shape)\n",
    "                    # h_tmp = h.value.reshape(self.P, self.J+1)\n",
    "                    D = generate_dictionary(h_tmp, self.P, self.Lj)                      \n",
    "                    h_opt = h_opt + step_h*(h.value - h_opt)\n",
    "                else:\n",
    "\n",
    "                    h_list = _split_coeffs(h, self.P, self.J, sep=True)\n",
    "                    D = generate_dictionary(h_list, self.P, self.Luj, self.Ldj)                                \n",
    "                    h_opt = h_opt + step_h*(h.value - h_opt)\n",
    "\n",
    "\n",
    "                # OMP Step\n",
    "                X_te_tmp, X_tr_tmp = sparse_transform(D, self.K0, self.Y_test, self.Y_train)\n",
    "                # Sparse Representation Update\n",
    "                X_tr = X_tr + step_x*(X_tr_tmp - X_tr)\n",
    "                X_te = X_te + step_x*(X_te_tmp - X_te)\n",
    "\n",
    "                # Error Update\n",
    "                error_train = nmse(D, X_tr, self.Y_train, self.m_train)\n",
    "                error_test = nmse(D, X_te, self.Y_test, self.m_test)\n",
    "\n",
    "                hist.append(error_test)\n",
    "                \n",
    "                # Error Storing\n",
    "                if (error_train < self.min_error_train) and (abs(error_train) > np.finfo(float).eps) and (abs(error_train - self.min_error_train) > tol):\n",
    "                    self.X_opt_train = X_tr\n",
    "                    self.min_error_train = error_train\n",
    "\n",
    "                if (error_test < self.min_error_test) and (abs(error_test) > np.finfo(float).eps) and (abs(error_test - self.min_error_test) > tol):\n",
    "                    self.h_opt = h_list if self.dictionary_type == 'separated' else h_opt\n",
    "                    self.D_opt = D\n",
    "                    self.X_opt_test = X_te\n",
    "                    self.min_error_test = error_test\n",
    "                    pat_iter = 0\n",
    "\n",
    "                    if verbose == 1:\n",
    "                        print(\"New Best Test Error:\", self.min_error_test)\n",
    "                else:\n",
    "                    pat_iter += 1\n",
    "\n",
    "                iter_ += 1\n",
    "        \n",
    "        # Analytic Dictionary -> directly go to OMP step\n",
    "        else:\n",
    "            \n",
    "            if self.dictionary_type == \"fourier\":\n",
    "                # Fourier Dictionary Benchmark\n",
    "                _, self.D_opt = sla.eigh(self.L)\n",
    "\n",
    "            elif self.dictionary_type == \"slepians\":\n",
    "                SS = SimplicianSlepians(self.B1, \n",
    "                                        self.B2, \n",
    "                                        self.S, \n",
    "                                        self.R,\n",
    "                                        verbose=False, \n",
    "                                        top_K = self.top_K_slepians)\n",
    "                self.D_opt = SS.atoms_flat\n",
    "                \n",
    "\n",
    "            elif self.dictionary_type == \"wavelet\":\n",
    "                SH = SeparateHodgelet(self.B1, \n",
    "                                      self.B2,\n",
    "                                      *log_wavelet_kernels_gen(3, 4, np.log(np.max(self.w1))),\n",
    "                                      *log_wavelet_kernels_gen(3, 4, np.log(np.max(self.w2))))\n",
    "                self.D_opt = SH.atoms_flat\n",
    "                # print(self.D_opt.shape)\n",
    "            \n",
    "            # OMP\n",
    "            self.X_opt_test, self.X_opt_train = sparse_transform(self.D_opt, self.K0, self.Y_test, self.Y_train)\n",
    "            # Error Updating\n",
    "            self.min_error_train = nmse(self.D_opt, self.X_opt_train, self.Y_train, self.m_train)\n",
    "            self.min_error_test= nmse(self.D_opt, self.X_opt_test, self.Y_test, self.m_test)\n",
    "\n",
    "        return self.min_error_test, self.min_error_train, hist\n",
    "    \n",
    "    @save_results\n",
    "    def learn_upper_laplacian(self,\n",
    "                              Lu_new: np.ndarray = None,\n",
    "                              filter: np.ndarray = 1,\n",
    "                              h_prior: np.ndarray = None,\n",
    "                              lambda_: float = 1e-3, \n",
    "                              max_iter: int = 10, \n",
    "                              patience: int = 10,\n",
    "                              tol: float = 1e-7,\n",
    "                              step_h: float = 1.,\n",
    "                              step_x: float = 1.,\n",
    "                              mode: str = \"optimistic\",\n",
    "                              verbose: bool = False,\n",
    "                              warmup: int = 0,\n",
    "                              QP=False,\n",
    "                              cont=False):\n",
    "    \n",
    "        assert step_h<1 or step_h>0, \"You must provide a step-size between 0 and 1.\"\n",
    "        assert step_x<1 or step_x>0, \"You must provide a step-size between 0 and 1.\"\n",
    "        assert (mode==\"optimistic\") or (mode==\"pessimistic\"), f'{mode} is not a legal mode: \\\"optimistic\\\" or \\\"pessimistic\\\" are the only ones allowed.'\n",
    "        \n",
    "        # Check if we are executing the first recursive iteration\n",
    "        if np.all(Lu_new == None):\n",
    "            T = self.B2.shape[1]\n",
    "            if mode==\"optimistic\":\n",
    "                filter = np.ones(T)\n",
    "                self.warmup=0  \n",
    "            else:\n",
    "                filter = np.zeros(T)\n",
    "                self.update_Lu(np.zeros(self.Lu.shape)) # start with an \"empty\" upper Laplacian\n",
    "                self.warmup = warmup\n",
    "        else:\n",
    "            self.update_Lu(Lu_new)\n",
    "\n",
    "        self.init_dict(h_prior=h_prior,\n",
    "                       mode=\"only_X\")\n",
    "\n",
    "        if QP:\n",
    "            _, _, hist = self.topological_dictionary_learn_qp(lambda_=lambda_,\n",
    "                                                            max_iter=max_iter,\n",
    "                                                            patience=patience,\n",
    "                                                            tol=tol,\n",
    "                                                            step_h=step_h,\n",
    "                                                            step_x=step_x,\n",
    "                                                            solver='GUROBI')\n",
    "        else:\n",
    "            _, _, hist = self.topological_dictionary_learn(lambda_=lambda_,\n",
    "                                                            max_iter=max_iter,\n",
    "                                                            patience=patience,\n",
    "                                                            tol=tol,\n",
    "                                                            step_h=step_h,\n",
    "                                                            step_x=step_x)\n",
    "                        \n",
    "        self.history.append(hist)\n",
    "        search_space = np.where(filter == 1) if mode==\"optimistic\" else np.where(filter == 0)   \n",
    "        sigmas = pd.DataFrame({\"idx\": search_space[0]})\n",
    "\n",
    "        sigmas[\"sigma\"] = sigmas.idx.apply(lambda _: filter)\n",
    "        if mode==\"optimistic\":\n",
    "            sigmas[\"sigma\"] = sigmas.apply(lambda x: _indicator_matrix(x), axis=1)\n",
    "        else:\n",
    "            sigmas[\"sigma\"] = sigmas.apply(lambda x: _indicator_matrix_rev(x), axis=1)\n",
    "        sigmas[\"Luj\"] = sigmas.apply(lambda x: _compute_Luj(x, self.B2, self.J), axis=1)\n",
    "        sigmas[\"D\"] = sigmas.apply(lambda x: generate_dictionary(self.h_opt, self.P, x.Luj, self.Ldj), axis=1)\n",
    "        sigmas[\"X\"] = sigmas.D.apply(lambda x: sparse_transform(x, self.K0, self.Y_test))\n",
    "        sigmas[\"NMSE\"] = sigmas.apply(lambda x: nmse(x.D, x.X, self.Y_test, self.m_test), axis=1)\n",
    "        \n",
    "        if self.warmup>0:\n",
    "            candidate_error = sigmas.NMSE.min() - np.finfo(float).eps\n",
    "            self.warmup-=1\n",
    "        else:\n",
    "            candidate_error = sigmas.NMSE.min()\n",
    "        idx_min = sigmas.NMSE.idxmin()\n",
    "\n",
    "        \n",
    "        if candidate_error < self.min_error_test:\n",
    "            S = sigmas.sigma[idx_min]\n",
    "            Lu_new = self.B2 @ S @ self.B2.T\n",
    "            filter = np.diagonal(S)\n",
    "\n",
    "            if verbose:\n",
    "                if mode==\"optimistic\":\n",
    "                    print(f'Removing 1 triangle from topology... \\n ... New min test error: {candidate_error} !')\n",
    "                else:\n",
    "                    print(f'Adding 1 triangle to topology... \\n ... New min test error: {candidate_error} !')\n",
    "\n",
    "            return self.learn_upper_laplacian(h_prior=self.h_opt,\n",
    "                                              Lu_new=Lu_new,\n",
    "                                              filter=filter,\n",
    "                                              lambda_=lambda_,\n",
    "                                              max_iter=max_iter,\n",
    "                                              patience=patience,\n",
    "                                              tol=tol,\n",
    "                                              step_h=step_h,\n",
    "                                              step_x=step_x,\n",
    "                                              mode=mode,\n",
    "                                              verbose=verbose,\n",
    "                                              QP=QP,\n",
    "                                              cont=cont)\n",
    "        \n",
    "        # For the last recursions of \"pessimistic\" mode try some recursion of the \"optimistic\"\n",
    "        # to remove the warm-up randomly-added triangles\n",
    "        if mode == \"pessimistic\" and not cont:\n",
    "            return  self.learn_upper_laplacian(h_prior=self.h_opt,\n",
    "                                              Lu_new=Lu_new,\n",
    "                                              filter=filter,\n",
    "                                              lambda_=lambda_,\n",
    "                                              max_iter=max_iter,\n",
    "                                              patience=patience,\n",
    "                                              tol=tol,\n",
    "                                              step_h=step_h,\n",
    "                                              step_x=step_x,\n",
    "                                              mode=\"optimistic\",\n",
    "                                              verbose=verbose,\n",
    "                                              QP=QP,\n",
    "                                              cont=True)\n",
    "        \n",
    "        # Then after we added triangles and removed the randomly added ones, continue adding!\n",
    "        elif mode != \"pessimistic\" and cont:\n",
    "\n",
    "            print(\"Ce provo!\")\n",
    "            return  self.learn_upper_laplacian(h_prior=self.h_opt,\n",
    "                                              Lu_new=Lu_new,\n",
    "                                              filter=filter,\n",
    "                                              lambda_=lambda_,\n",
    "                                              max_iter=max_iter,\n",
    "                                              patience=patience,\n",
    "                                              tol=tol,\n",
    "                                              step_h=step_h,\n",
    "                                              step_x=step_x,\n",
    "                                              mode=\"pessimistic\",\n",
    "                                              verbose=verbose,\n",
    "                                              QP=QP,\n",
    "                                              cont=cont,\n",
    "                                              warmup=warmup)  \n",
    "                  \n",
    "        self.B2 = self.B2@np.diag(filter)\n",
    "        return self.min_error_test, self.history, self.Lu, self.B2\n",
    "    \n",
    "    def fit(self) -> Tuple[float, List[np.ndarray], np.ndarray, np.ndarray, np.ndarray, np.ndarray]:\n",
    "        min_error_test, _, _, h_opt, X_opt_test, D_opt = self.learn_upper_laplacian()\n",
    "        return min_error_test, self.history, h_opt, X_opt_test, D_opt"
   ]
  },
  {
   "cell_type": "code",
   "execution_count": null,
   "metadata": {},
   "outputs": [],
   "source": [
    "mat = scipy.io.loadmat('data_real.mat')\n",
    "flow = mat[\"signal_edge\"][:,~np.all(mat[\"signal_edge\"] == 0, axis = 0)]\n",
    "flow = flow/np.max(flow)\n",
    "flow = flow[:,10:]\n",
    "B1 = mat[\"B1\"]\n",
    "B2 = mat[\"B2\"]"
   ]
  }
 ],
 "metadata": {
  "kernelspec": {
   "display_name": "base",
   "language": "python",
   "name": "python3"
  },
  "language_info": {
   "codemirror_mode": {
    "name": "ipython",
    "version": 3
   },
   "file_extension": ".py",
   "mimetype": "text/x-python",
   "name": "python",
   "nbconvert_exporter": "python",
   "pygments_lexer": "ipython3",
   "version": "3.9.17"
  }
 },
 "nbformat": 4,
 "nbformat_minor": 2
}
