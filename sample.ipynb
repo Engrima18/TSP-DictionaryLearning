{
 "cells": [
  {
   "cell_type": "markdown",
   "metadata": {},
   "source": [
    "# Parametric Dictionary Learning for Topological Signal Representation"
   ]
  },
  {
   "cell_type": "markdown",
   "metadata": {},
   "source": [
    "## Abstract\n",
    "\n",
    "High-dimensional signals, such as images or audio signals, often contain redundant information resulting in a dense representation of a small amount of information (in the original domain). **Overcomplete dictionaries** facilitate dimensionality reduction by allowing signals to be represented as sparse combinations of dictionary atoms. This sparsity not only reduces the data size but also highlights the underlying structure of the data.\n",
    "\n",
    "<div class=\"alert alert-block alert-success\">\n",
    "<b>Ockham’s razor:</b> <i>“Non sunt multiplicanda entia sine necessitate”</i> or better <i>“... amongst competing representations, one should choose the sparsest one, i.e. the one requiring the smallest number of components”</i>\n",
    "</div>\n",
    "\n",
    "Some definitions:\n",
    "\n",
    "<div class=\"alert alert-block alert-info\">\n",
    "<b>Overcomplete dictionary:</b> it is a dictionary that consist of more atoms (basic elements) than dimensions in the signal space, providing a redundant but rich basis for representing signals. A dictionary can be seen as a change of basis matrix to sue to project the original signal in a different domain. \n",
    "</br>\n",
    "</br>\n",
    "<b>Dictionary learning:</b> it involves designing or selecting the best dictionary that can sparsely represent a class of signals, capturing their essential features while minimizing redundancy.\n",
    "\n",
    "</div>\n",
    "\n",
    "Overcomplete dictionaries can be:\n",
    "- analytically designed\n",
    "- learned from data\n",
    "\n",
    "<div class=\"alert alert-block alert-warning\">\n",
    "<b>TRADE-OFF:</b> Analytical dictionaries are efficient but they might not fit all signal types. Learnable dictionaries are more flexible but computationally complex.\n",
    "</div>\n",
    "\n",
    "`MAIN GOAL` $\\rightarrow$ create sparse signal representations through **overcomplete dictionaries**. We will focus topological signals, particularly defined on regular cell complexes, as they best generalize every possible practical application of digital signal processing.\n",
    "\n",
    "`PRACTICAL TOOL`  $\\rightarrow$ learning or defining dictionaries tailored to specific signal classes, signals can be more accurately approximated and classified. This is crucial for tasks like image denoising, compression, and recognition, where capturing the essence of the signal with fewer components directly impacts performance.\n",
    "\n",
    "\n",
    "`MAIN PROJECT POINTS`\n",
    "\n",
    "1. We define the pincipal mathematical objects peculiar to topological signal processing and introduce the reader to Hodge Theory. We will indeed exploit various operators and features typical of topological spaces to introduce bias into the dictionary learning process. This bias will then derive directly from the topological structure over which the signal is defined and allow us to define dictionaries based on k-th order connectivity information between complexes.\n",
    "2. We use Spectral Theory to parameterize sub-dictionaries such as Cell Complex FIR Filters to be applied to the signal. We also introduce a new type of parameterization called \"Separated\" and induced precisely by the Hodge Decomposition of a topological signal, in order to make the sub-dictionary structure as flexible as possible.\n",
    "3. The final overcomplete dictionary will then be parameterized as a concatenation of the sub-dictionaries defined as above.\n",
    "4. Finally we implement an algorithm that efficiently learns the dictionary. We opt for an iterative alternating optimization algorithm.\n"
   ]
  },
  {
   "cell_type": "markdown",
   "metadata": {},
   "source": [
    "## Introduction\n",
    "\n",
    "First of all we can say that classical signal processing techniques and theory are related to processing signals defined of **metric spaces** like time domain or images domain. With graph signal processing was instead introduced the analysis of signals defined over **irregular (non-metric) domains** like graphs. \n",
    "\n",
    "A graph $G(V,E)$ is a mathematical object defined by a set of nodes $V$ and a set of edges between these nodes $E$ and it is aimed to represent the **pairwise interactions** between different entities in a given environment. Thus, the most general definition of __graph signal__ $s$ is that it is a map (function) from the nodes of the graph to $R^N$:\n",
    "\n",
    "$$s:V \\rightarrow R^N$$\n",
    "\n",
    "Examples of graph signals are:\n",
    "\n",
    "- wireless sensor networks networks\n",
    ">- vertices $\\rightarrow$ physical sensors\n",
    ">- edges $\\rightarrow$ communication links between devices\n",
    ">- signal $\\rightarrow$ the observation collected by sensors\n",
    "\n",
    " \n",
    "<img src = \"imgs/iot_net.png\" width = \"300\" height = \"200\" > \n",
    "\n",
    "- gene regulatory networks\n",
    ">- vertices $\\rightarrow$ proteins\n",
    ">- edges $\\rightarrow$ interactions between pairs of proteins\n",
    ">- signal $\\rightarrow$ concentration of a protein\n",
    "\n",
    "<img src = \"imgs/genes_net.png\" width = \"370\" height = \"300\" > \n",
    "\n",
    "- social networks\n",
    ">- vertices $\\rightarrow$ people (users)\n",
    ">- edges $\\rightarrow$ social relationships on the platform\n",
    ">- signal $\\rightarrow$ an opinion/ political orientation\n",
    "\n",
    "<img src = \"imgs/social_net.png\" width = \"270\" height = \"200\" > \n",
    "\n",
    "\n",
    "A graph is a simple example of **topological space**, however graph-based representations are not always able to capture all the information in the complex interactions among entities and we may also consider not strictly pairwise relationships.\n",
    "\n",
    "Therefore, we need to generalize the study of signals defined on more complex topological spaces that are better able to model certain contexts of interest. \n",
    "\n",
    "In our project for example, we will focus on evaluating reconstruction performance of edge signals (which take values on a higher order domain than classical graph signals, defined on the nodes of a graph). Signals of this type are also called flow signals and can be very useful in modeling case studies such as:\n",
    ">- blood flows in different areas of the brain\n",
    ">- regulatory signals in gene regulatory networks\n",
    "\n",
    "Thus Topological signal processing (TSP) is a powerful computational approach that uses the principles of _algebraic topology_ to analyze and process signals defined over _simplicial complexes_ (while TDA, i.e. Topological Data Analysis, focuses on the use of algebraic topology tools to directly extract information form data).\n",
    "\n",
    "We have then introduced the concept of signal and made clear the need to generalize to more complex topological structures. \n",
    "Below we provide a number of useful notations and definitions for defining certain operators on topology and characteristics peculiar to simplicial complexes."
   ]
  },
  {
   "cell_type": "markdown",
   "metadata": {},
   "source": [
    "## Deep dive into definitions!\n",
    "\n",
    "***\n",
    "<span style=\"color:orange\">K-th order simplex</span>\n",
    "\n",
    "Given a finite set $V = \\{v_0,...,v_{N-1}\\}$ of $N$ points (vertices), a $k$-simplex $\\sigma_i^k$ is an unordered set $\\{v_{i_0} ,...,v_{i_k} \\}$ of $k + 1$ points with $0 \\leq i_j \\leq N - 1$, for $j = 0,...,k$, and $v_{i_j} \\neq v_{i_n}$ for all $i_j \\neq i_n$.\n",
    "***\n",
    "\n",
    "<span style=\"color:orange\">Face of a k-simplex</span>\n",
    "\n",
    "A face of the $k$-simplex $\\{v_{i_0} ,...,v_{i_k} \\}$ is a $(k - 1)$-simplex of the form $\\{v_{i_0} ,...,v_{i_{j-1}} , v_{i_{j+1}} ,...,v_{i_k} \\}$, for some $0 \\leq j \\leq k$. Every $k$-simplex has exactly $k + 1$ faces.\n",
    "***\n",
    "\n",
    "<span style=\"color:orange\">Abstract simplicial complex</span>\n",
    "\n",
    "An abstract simplicial complex $X$ is a finite collection of simplices that is closed under inclusion of faces, i.e., if $\\sigma_i \\in X$, then all faces of $\\sigma_i$ also belong to $X$. The order (or dimension) of a simplex is one less than its cardinality.\n",
    "\n",
    "***\n",
    "<span style=\"color:orange\">Geometric simplicial complex</span>\n",
    "\n",
    "If the set of points is embedded in a real space $\\mathbb{R}^D$ of dimension $D$, we can associate a geometric simplicial complex with the abstract complex.\n",
    "\n",
    "\n",
    "***\n",
    "<span style=\"color:orange\">Face of a k-simplex</span>\n",
    "\n",
    "A face of the $k$-simplex $\\{v_{i_0} ,...,v_{i_k} \\}$ is a $(k - 1)$-simplex of the form $\\{v_{i_0} ,...,v_{i_{j-1}} , v_{i_{j+1}} ,...,v_{i_k} \\}$, for some $0 \\leq j \\leq k$. Every $k$-simplex has exactly $k + 1$ faces.\n",
    "\n",
    "***\n",
    "<span style=\"color:orange\">Upper adjacency</span>\n",
    "\n",
    "Two simplices of order $k$, $\\sigma^i_k$, $\\sigma_j^k \\in X$, are upper adjacent in $X$, if both are faces of a simplex of order $k + 1$.\n",
    "\n",
    "***\n",
    "<span style=\"color:orange\">Lower adjacency</span>\n",
    "\n",
    "Two simplices of order $k$, $\\sigma_i^k$, $\\sigma_j^k \\in X$, are lower adjacent in $X$, if both have a common face of order $k - 1$ in $X$. \n",
    "\n",
    "***\n",
    "<span style=\"color:orange\">Boundary</span>\n",
    "\n",
    "A $(k - 1)$-face $\\sigma_{j}^{k-1}$ of a $k$-simplex $\\sigma_i^k$ is called a boundary element of $\\sigma_i^k$. We use the notation $\\sigma_{j}^{k-1} \\subset \\sigma_i^k$ to indicate that $\\sigma_{j}^{k-1}$ is a boundary element of $\\sigma_i^k$.\n",
    "\n",
    "***\n",
    "<span style=\"color:orange\">Orientation coherence</span>\n",
    "\n",
    "Given a simplex $\\sigma^{j}_{k-1} \\subset \\sigma_i^k$, we use the notation $\\sigma_{j}^{k-1} \\sim \\sigma_i^k$ to indicate that the orientation of $\\sigma_{j}^{k-1}$ is coherent with that of $\\sigma^i_k$, whereas we write $\\sigma_{j}^{k-1} \\nrightarrow \\sigma_i^k$ to indicate that the two orientations are opposite.\n",
    "\n",
    "***\n",
    "<span style=\"color:orange\">Regular cell complex</span>\n",
    "\n",
    "A regular cell complex is a topological space $X$ together with a partition $\\{X_\\sigma\\}_{\\sigma \\in P_X}$ of subspaces $X_\\sigma$ of $X$ called cells, where $P_X$ is the indexing set of $X$, such that:\n",
    "\n",
    "1. For each $c \\in X$, every sufficiently small neighborhood of $c$ intersects finitely many $X_\\sigma$;\n",
    "2. For all $\\tau, \\sigma$ we have that $X_\\tau \\cap X_\\sigma \\neq \\emptyset$ if and only if $X_\\tau \\subseteq \\overline{X_\\sigma}$, where $\\overline{X_\\sigma}$ is the closure of the cell;\n",
    "3. Every $X_\\sigma$ is homeomorphic to $\\mathbb{R}^k$ for some $k$;\n",
    "4. For every $\\sigma \\in P_X$ there is a homeomorphism $\\phi$ of a closed ball in $\\mathbb{R}^k$ to $X_\\sigma$ such that the restriction of $\\phi$ to the interior of the ball is a homeomorphism onto $X_\\sigma$.\n",
    "\n",
    "***\n",
    "<span style=\"color:orange\">Topological signal</span>\n",
    "\n",
    "Let us denote the set of $k$-cells in $X_K$ as $D_k := \\{\\sigma_i^k : \\sigma_i^k \\in X_K\\}$, with $|D_k| = N_k$.\n",
    "\n",
    "A $k$-topological signal $s_k$ over a regular cell complex $X_K$ is defined as a collection of mappings from the set of all $k$-cells contained in the complex to real numbers:\n",
    "\n",
    "$$s_k = [s_k(\\sigma^k_1), \\ldots, s_k(\\sigma^k_i), \\ldots, s_k(\\sigma^k_{N_k})] \\in \\mathbb{R}^{N_k}, \\quad (1)$$\n",
    "\n",
    "where $s_k : D_k \\rightarrow \\mathbb{R}$.\n",
    "\n",
    "***\n",
    "<span style=\"color:orange\">Incidence matrix</span>\n",
    "\n",
    "The structure of a simplicial complex $X$ of dimension $K$, shortly named $K$-simplicial complex, is fully described by the set of its incidence matrices $B_k$, $k = 1,...,K$. Given an orientation of the simplicial complex $X$, the entries of the incidence matrix $B_k$ establish which $k$-simplices are incident to which $(k - 1)$-simplices. Then $B_k$ is the matrix representation of the boundary operator. Formally speaking, its entries are defined as follows:\n",
    "\n",
    "$$\n",
    "B_k(i, j) = \n",
    "\\begin{cases} \n",
    "0, & \\text{if } \\sigma^{i}_{k-1} \\not\\subset \\sigma^{j}_k \\\\\n",
    "1, & \\text{if } \\sigma^{i}_{k-1} \\subset \\sigma^{j}_k \\text{ and } \\sigma^{i}_{k-1} \\sim \\sigma^{j}_k \\\\\n",
    "-1, & \\text{if } \\sigma^{i}_{k-1} \\subset \\sigma^{j}_k \\text{ and } \\sigma^{i}_{k-1} \\nrightarrow \\sigma^{j}_k\n",
    "\\end{cases}\n",
    "$$\n",
    "\n",
    "> **PROPERTY:** $ \\rightarrow B_k B_{k+1} = 0$\n",
    "\n",
    "***\n",
    "<span style=\"color:orange\">Hodge Laplacian</span>\n",
    "\n",
    "From the incidence information, we build the **Hodge Laplacian** matrices of order $k = 0, \\ldots, K$ as:\n",
    "\n",
    "$$\n",
    "\\begin{cases} \n",
    "L_0 & = B_1B^T_1 \\\\\n",
    "L_k & = B^T_k B_k + B_{k+1}B^T_{k+1} \\\\\n",
    "L_K & = B^T_K B_K\n",
    "\\end{cases}\n",
    "$$\n",
    "\n",
    "All Laplacian matrices of intermediate orders, i.e., $k = 1, \\ldots, K - 1$, contain two terms:\n",
    ">- Lower Laplacian $L^{(d)}_k=B^T_k B_k$, encodes the lower connectivity among $k$-order cells;\n",
    ">- Upper Laplacian $L^{(u)}_k=B_{k+1}B^T_{k+1}$, encodes the upper connectivity among $k$-order cells.\n",
    "\n",
    "\n"
   ]
  },
  {
   "cell_type": "markdown",
   "metadata": {},
   "source": [
    "# More theory behind dictionary parametrization!\n",
    "\n",
    "We now provide an introduction to two fundamental theoretical aspects in the definition of the learnable dictionary:\n",
    ">- Spectral theory generalized to complex topological spaces\n",
    ">- Hodge decomposition\n",
    "\n",
    "### Spectral theory \n",
    "\n",
    "Spectral graph theory represents a solid framework to extract features of a graph looking at the eigenvectors of the combinatorial Laplacian $L_0$ of order 0 (eigenvectors associated with the smallest eigenvalues of $L_0$ are very useful to identify clusters). Furthermore, in Graph Signal Processing (GSP),given the eigendecomposition of $L_0$:\n",
    "\n",
    "$$L_0 = U_0 \\Lambda_0 U^H_0 $$\n",
    "\n",
    "the Graph Fourier Transform (GFT) of a signal $s_0$ over an undirected graph has been defined as the projection of the signal onto the space spanned by the eigenvectors of $L_0$:\n",
    "\n",
    "$$\\hat{s}_0 = U^T_0 s_0.$$\n",
    "\n",
    "Equivalently, a signal defined over the vertices of a graph can be represented as:\n",
    "\n",
    "$$s_0 = U_0 \\hat{s}_0$$\n",
    "\n",
    "The eigenvectors associated with the smallest eigenvalues of $L_0$ encode information about the clusters of the graph. Hence, the representation given by $\\hat{s}_0$ is particularly suitable for signals that are smooth within each cluster and $\\hat{s}_0$ is sparse (or approximately sparse).\n",
    "\n",
    "As a generalization to k-th order simplicial complexes, we use bases built with the eigenvectors of the corresponding k-th order Laplacian matrices defined as above.\n",
    "\n",
    "$$L_k = U_k \\Lambda_k U^T_k $$\n",
    "\n",
    "we may define the GFT of order $k$ as the projection of a $k$-order signal onto the eigenvectors of $L_k$, i.e.\n",
    "\n",
    "$$\n",
    "\\begin{cases}\n",
    "\\hat{s}_k &= U^H_k s_k, \\\\\n",
    "s_k &= U_k \\hat{s}_k\n",
    "\\end{cases}\n",
    "$$\n",
    "\n",
    "A full understanding of the Spectral theory is needed to appreciate the definition of FIR convolutional filter for Cell Complexes, on which we base the dictionary parametrization.\n",
    "\n",
    "### Hodge decomposition\n",
    "\n",
    "Consider the eigendecomposition of the $k$-th order Laplacian, for $k = 1,...,K - 1\\$,\n",
    "\n",
    "$$L_k = B^T_k B_k + B_{k+1}B^T_{k+1} = U_k \\Lambda_k U^H_k$$\n",
    "\n",
    "The structure of $L_k$, together with the property $B_kB_{k+1} = 0$, induces an interesting decomposition of the space $\\mathbb{R}^{D_k}$ of signals of order $k$ of dimension $D_k$. First of all, the property $B_kB_{k+1} = 0$ implies $\\text{img}(B_{k+1}) \\subseteq \\text{ker}(B_k)$. Hence, each vector $x \\in \\text{ker}(B_k)$ can be decomposed into two parts: one belonging to $\\text{img}(B_{k+1})$ and one orthogonal to it. Furthermore, since the whole space $\\mathbb{R}^{D_k}$ can always be written as:\n",
    "\n",
    "$$\\mathbb{R}^{D_k} \\equiv \\text{ker}(B_k) \\oplus \\text{img}(B^T_k)$$\n",
    "\n",
    "it is possible to decompose $\\mathbb{R}^{D_k}$ into:\n",
    "\n",
    "$$\\mathbb{R}^{D_k} \\equiv \\text{img}(B^T_k) \\oplus \\text{ker}(L_k) \\oplus \\text{img}(B_{k+1}) $$\n",
    "\n",
    "where the vectors in $\\text{ker}(L_k)$ are also in $\\text{ker}(B_k)$ and $\\text{ker}(B^T_{k+1})$. This implies that, given any signal $s_k$ of order $k$, there always exist three signals $s_{k-1}$, $s_k^H$, and $s_{k+1}$, of order $k - 1$, $k$, and $k + 1$, respectively, such that $s_k$ can always be expressed as the sum of three orthogonal components:\n",
    "\n",
    "$$s_k = B^T_k s_{k-1} + s_k^H + B_{k+1} s_{k+1}$$\n",
    "\n",
    "This decomposition is known as Hodge decomposition and it is the extension of the Hodge theory for differential forms on Riemannian manifolds to simplicial complexes. \n",
    "\n",
    "### Nice interpretation for the Hodge Decomposition (why do we care?)\n",
    "\n",
    "The subspace $\\text{ker}(L_k)$ is called harmonic subspace since each $s_k^H \\in \\text{ker}(L_k)$ is a solution of the discrete Laplace equation\n",
    "\n",
    "$$L_k s_k^H = (B^T_k B_k + B_{k+1}B^T_{k+1}) s_k^H = 0.$$\n",
    "\n",
    "When embedded in a real space, a fundamental property of geometric simplicial complexes of order $k$ is that the dimensions of $\\text{ker}(L_k)$, for $k = 0,...,K$ are topological invariants of the $K$-simplicial complex, i.e., topological features that are preserved under homeomorphic transformations of the space. The dimensions of $\\text{ker}(L_k)$ are also known as Betti numbers $\\beta_k$ of order $k$: $\\beta_0$ is the number of connected components of the graph, $\\beta_1$ is the number of holes, $\\beta_2$ is the number of cavities, and so on...\n",
    "\n",
    "Also consider that the above decomposition presents the following operators:\n",
    "$\\text{curl}(s_1) = B^T_2 s_1$\n",
    "$\\text{div}(s_1) = B_1 s_1$.\n",
    "\n",
    "If we consider equation (19) in the case $k = 1$,\n",
    "\n",
    "$$s_1 = B^T_1 s_0 + s^H_1 + B_2 s_2$$\n",
    "\n",
    "recalling that $B_1 B_2 = 0$, it is easy to check that the first component in (24) has zero curl, and then it may be called an irrotational component, whereas the third component has zero divergence, and then it may be called a solenoidal component, in analogy to the calculus terminology used for vector fields. The harmonic component $s^H_1$ is a flow vector that is both curl-free and divergence-free.\n",
    "\n",
    "It is important to understand that Hodge decomposition is a technique able to highlight really interesting aspects of a topological signal and we want to plug this theory into our filter definition.\n",
    "\n",
    "### Finally, let's define the dictionary parametrization\n",
    "\n",
    "With all these concepts in mind we can now appreciate how potentially powerful and flexible could be an overcomplete dictionary that considers the above structures in order to explain the maximum quantity of information in a sparse setup!\n",
    "\n",
    "Given the $k$-th Hodge Laplacian $L_k$, a cell complex FIR filter acting on $k$-topological signals is defined as a polynomial of the Laplacian abd here we propose a Separated Laplacian parametrization approach:\n",
    "\n",
    "$$S_k = \\sum_{i=1}^{J} h^{(u)}_i L^{(u)i}_k + \\sum_{i=1}^{J} h^{(d)}_i L^{(d)i}_k + hI$$\n",
    "\n",
    "where $J$ is a positive integer and $h^{(u)}_i$, $h^{(d)}_i$, $h \\in \\mathbb{R}$. Assigning two different sets of coefficients to the lower and upper Laplacians gives more flexibility. Setting $h^{(u)}_i = h^{(d)}_i$, $i = 1, \\ldots, J$ leads to filters of the form:\n",
    "\n",
    "$$S_k = \\sum_{i=0}^{J} h_i L^{i}_k$$\n",
    "\n",
    "This last filter cannot differentiate between the two types of adjacencies, resulting in a limited expressive power.\n",
    "\n",
    "As we already said, we focus on the case $k = 1$, neglecting the order subscript $k$ for the sake of exposition (e.g., we indicate $L_1$ with $L$, $s_1$ with $s$, $S_1$ with $S$, $F^{(u)}_1$ with $F^{(u)}$, $F^{(d)}_1$ with $F^{(d)}$, and $N_1$ with $N$).\n",
    "\n"
   ]
  },
  {
   "cell_type": "markdown",
   "metadata": {},
   "source": [
    "# Derive the optimization problem\n",
    "\n",
    "### Conditions on the sub-dictionaries\n",
    "\n",
    "Given that the $j$-th atom of the $p$-th sub-dictionary (the $j$-th column of $S_p$) has the following spectrum:\n",
    "\n",
    "$$\\hat{s}_{p,j}(n) = \\Biggl(\\sum_{i=1}^{J} h^{(u)}_{p,i} \\lambda^n_i I(\\lambda_n \\in F^{(u)}) + \\sum_{i=1}^{J} h^{(d)}_{p,i} \\lambda^n_i I(\\lambda_n \\in F^{(d)}) + h_p \\Biggr) u_n(j),$$\n",
    "\n",
    "where $I(\\cdot)$ is the indicator function that evaluates to 1 if its argument is true and 0 otherwise, $h^{(u)}_{p,i}$ and $h^{(d)}_{p,i}$ are the coefficients associated with the upper and lower Laplacians respectively, $\\lambda^n_i$ are the eigenvalues, $F^{(u)}$ and $F^{(d)}$ denote the frequency bands associated with the upper and lower spectral bands, and $h_p$ is a constant specific to the $p$-th sub-dictionary.\n",
    "\n",
    "To control the atoms' frequency behavior, we can impose constraints on the kernels $\\hat{s}_p(.)$. We first impose that the spectra are non-negative and bounded in each sub-dictionary, i.e.:\n",
    "\n",
    "$$0 \\leq \\hat{s}_p(n) \\leq d, \\quad p = 1, \\ldots, P, \\quad n = 1, \\ldots, N$$\n",
    "\n",
    "where $d > 0$. Equivalently, this constraint is requiring that each sub-dictionary has to be positive semi-definite with maximum eigenvalue bounded by $d$, i.e.,\n",
    "\n",
    "$$0 \\preceq S_p \\preceq dI, \\quad p = 1, \\ldots, P$$\n",
    "\n",
    "Moreover, we need to ensure that the whole spectrum is covered by the dictionary $D$. Thus, we impose the constraint:\n",
    "\n",
    "$$d - \\varepsilon \\leq \\sum_{p=1}^{P} \\hat{s}_p(n) \\leq d + \\varepsilon, \\quad n = 1, \\ldots, N$$\n",
    "\n",
    "where $\\varepsilon$ is a small positive constant. This constraint is equivalent to requiring that the sum of all the sub-dictionaries $D_p$ has the minimum eigenvalue lower-bounded by $d - \\varepsilon$ and the maximum eigenvalue upper-bounded by $d + \\varepsilon$, i.e.,\n",
    "\n",
    "$$(d - \\varepsilon)I \\preceq \\sum_{p=1}^{P} S_p \\preceq (d + \\varepsilon)I$$\n",
    "\n",
    "### Non-convex learning\n",
    "\n",
    "Given a training set of $M$ order $k$ topological signals $Y = [y_1, \\ldots, y_M] \\in \\mathbb{R}^{N \\times M}$, we aim to learn a dictionary as in (10), which can represent the training signals as a sparse linear combination of the atoms. Clearly, this is equivalent to learning the filters coefficients $h$. Thus, we formulate the dictionary learning problem as the joint optimization of the dictionary coefficients and the sparse signal representation in the following way:\n",
    "\n",
    "$$\n",
    "(h^*, X^*) =\n",
    "\\begin{cases}\n",
    "&\\arg \\min_{h,X} \\|Y - DX\\|^2_F + \\gamma \\|h\\|^2_2 \\\\\n",
    "&s.t. \\\\\n",
    "\n",
    " &\\|x_i\\|_0 \\leq K_0, \\quad i = 1, \\ldots, M \\\\\n",
    "\n",
    " &0 \\preceq S_p \\preceq dI, \\quad p = 1, \\ldots, P\\\\\n",
    "\n",
    " &(d - \\varepsilon)I \\preceq \\sum_{p=1}^{P} S_p \\preceq (d + \\varepsilon)I\\\\\n",
    "\n",
    " &S_p \\space \\text{defined as above}, p = 1, \\ldots, P\\\\\n",
    "\\end{cases}\n",
    "$$\n",
    "\n",
    "where $x_i$ is the $i$-th column of $X \\in \\mathbb{R}^{P \\times N \\times M}$.\n"
   ]
  },
  {
   "cell_type": "markdown",
   "metadata": {},
   "source": [
    "# The algorithm\n",
    "\n",
    "To approximate the solution of the above problem with a more efficient iterative alternating procedure we propose the following algorithm:\n",
    "\n",
    "***\n",
    "<span style=\"color:orange\">Topological Dictionary Learning Algorithm</span>\n",
    "\n",
    "**Inputs:**\n",
    "- $Y \\in \\mathbb{R}^{N \\times M}$: Training signals.\n",
    "- $X^{[0]} \\in \\mathbb{R}^{P \\times N \\times M}$: Initialization of sparse representation.\n",
    "- $T_{\\text{max}}$: number of iterations (or stopping criterion).\n",
    "\n",
    "**Outputs:**\n",
    "- $h^*$, $X^*$: Learned dictionary and sparse representations.\n",
    "\n",
    "**Algorithm:**\n",
    "\n",
    "function DICTIONARY_LEARNING(Inputs)\n",
    "\n",
    "&emsp;&emsp; for $t \\in [1, T_{\\text{max}}]$ do\n",
    "\n",
    "&emsp;&emsp;&emsp;&emsp; <span style=\"color:green\">Dictionary Update Step</span>\n",
    "            $$\n",
    "            h^{[t]} = \n",
    "            \\begin{cases}\n",
    "            &\\arg \\min_h \\|Y - D X^{[t-1]}\\|^2_F + \\gamma \\|h\\|^2_2 \\space*3 \\quad [SDP]\\\\\n",
    "            &subject to:\\\\\n",
    "            &0 \\preceq S_p \\preceq dI, p = 1, \\ldots, P\\\\\n",
    "            &(d - \\varepsilon)I \\preceq \\sum_{p=1}^{P} S_p \\preceq (d + \\varepsilon)I\\\\\n",
    "            &S_p \\space\\space \\text{as defined}, \\space\\space  p = 1, \\ldots, P\n",
    "            \\end{cases}\n",
    "            $$\n",
    "&emsp;&emsp;&emsp;&emsp; <span style=\"color:green\">Sparse Coding Step</span>\n",
    "            $$\n",
    "            X^{[t]} =\n",
    "            \\begin{cases}\n",
    "            &\\arg \\min_X \\|Y - D^{[t]}X\\|^2_F + \\lambda \\|X\\|_1  \\space*3 \\quad [OMP]\\\\\n",
    "            &subject to:\\\\\n",
    "            &\\|x_i\\|_0 \\leq K_0, \\space\\space  i = 1, \\ldots, M\n",
    "            \\end{cases}\n",
    "            $$\n",
    "&emsp;&emsp; return \n",
    "$$h^* = h^{[T_{\\text{max}}]}, X^* = X^{[T_{\\text{max}}]}$$\n",
    "\n",
    "***\n"
   ]
  },
  {
   "cell_type": "markdown",
   "metadata": {},
   "source": [
    "# Now the floor to simulations\n",
    "\n",
    "To verify the generalization ability of our Separated Laplacian-based parameterization and test the efficiency of our optimization algorithm we will proceed as follows:\n",
    "1. Given two constants $J$ and $K$ that represent our respectively the _polynomial order_ and the _number of kernels_ in a sub-dictionary, we generate topological signals (training and test set) from a ground-truth dictionary, whose k-th sub-dictionary is parameterized in the following ways:\n",
    "\n",
    ">- Edge Laplacian $\\rightarrow$ $S_k = \\sum_{i=0}^{J} h_i L^{(d)i}_k$\n",
    "\n",
    ">- Hodge Laplacian $\\rightarrow$ $S_k = \\sum_{i=0}^{J} h_i (L^{(u)i}_k + L^{(d)i}_k)$\n",
    "\n",
    ">- Hodge Separated Laplacian $\\rightarrow$ $S_k = \\sum_{i=1}^{J} h^{(u)}_i L^{(u)i}_k + \\sum_{i=1}^{J} h^{(d)}_i L^{(d)i}_k + hI$\n",
    "\n",
    "2. For each type of signal we use the proposed algorithm and learn an overcomplete dictionary. The parameter cases of the dictionary to be learned are the same as those used in the generation phase.\n",
    "\n",
    "3. We analyze the representative power of different parametrizations in comparison for each type of input signal. We use moreover an analytically defined dictionary as a Fourier basis as the performance benchmark\n",
    "\n",
    "### Project structure\n",
    "\n",
    "Basically, we wanted to give this project a Python package approach so that it would be well verifiable and reproducible on any other machine, simply by following the instructions given in the README. Where interested please continue to the repository on github.\n",
    "\n",
    "<div class=\"alert alert-block alert-success\">\n",
    "<b>TO DO:</b> \n",
    "The \"test/\" directory has yet to be populated and will be particularly useful to test both the correctness of some results and the computational complexity introduced by the different parameterizations of the dictionary. This latter aspect is quite important given the trade-off between flexibility and implementation efficiency of the sparse representation through learnable overcomplete dictionaries\n",
    "</div>\n",
    "\n",
    "We have in fact introduced a number of features such as the possibility of caching the results of some functions in order to skip excessive computational loads in steps absolutely not central to the proper performance of the simulations.\n",
    "\n",
    "\n",
    "```bash\n",
    "TSP-DictionaryLearning/\n",
    "│\n",
    "├── tsplearn/       # Package directory\n",
    "│   ├── __init__.py        # Initializes the package\n",
    "│   ├── curves_plot.py     # Module file\n",
    "│   ├── data_gen.py        # Topological signal and dictionary generation\n",
    "│   ├── model_train.py     # Alternated optimization algorithm for dictionary learning\n",
    "│   └── tsp_utils.py       # Auxiliary class for graph definition\n",
    "|   \n",
    "│\n",
    "├── samples/        # Examples and sample usage\n",
    "│   ├── main.py            # Example of complete simulation run\n",
    "│   └── res.py              # Example auxiliary script for showing and saving results\n",
    "|   \n",
    "│\n",
    "├── results/        # Saved plot figures, notebook environments and variables\n",
    "│   ├── edge_laplacian/     # Results for 'Edge Laplacian' synthetic signals\n",
    "│       ├── error.pkl            # Errors values for different learning algorithms\n",
    "│       ├── ipynb_env.db         # Jupyter notebook environment for main results reproducibility\n",
    "│       ├── plot.png             # Final results plot for learning strategy comparison\n",
    "│   ├── joint               # Results for 'Hodge Laplacian' synthetic signals\n",
    "│       └── ...\n",
    "│   └── separated           # Results for 'Separated Hodge Laplacian' synthetic signals\n",
    "│       └── ...\n",
    "│\n",
    "|\n",
    "├── cache/         # Caching results of intermediate functions\n",
    "│   └── ...\n",
    "|\n",
    "|\n",
    "├── tests/         # Unit tests\n",
    "│   └── ...\n",
    "│\n",
    "|\n",
    "├── README.md              # Project overview and usage instructions\n",
    "├── requirements.txt       # Dependencies list\n",
    "└── setup.py               # Package installation script\n",
    "```"
   ]
  },
  {
   "cell_type": "markdown",
   "metadata": {},
   "source": [
    "In fact through the following simple command it is possible to use all my functions written in modules of a package and test on notebooks (e.g. Colab) the functioning of the simulation"
   ]
  },
  {
   "cell_type": "code",
   "execution_count": null,
   "metadata": {},
   "outputs": [],
   "source": [
    "!pip install git+https://github.com/Engrima18/TSP-DictionaryLearning"
   ]
  },
  {
   "cell_type": "markdown",
   "metadata": {},
   "source": [
    "### Simulation results\n",
    "\n",
    "For the analysis of the expressive capabilities of the various representations, we calculated how much the reconstruction of the original signal for the different types ti dictionary deviates from the signal itself for different levels of sparsity. The metric used is the **Normalized Mean Squared Error**:\n",
    "\n",
    "$$\\text{NMSE} = \\frac{1}{M_T} \\sum_{m=1}^{M_T} \\frac{\\|y_{m} - Dx_{m}\\|^2_2}{\\|y_{m}\\|^2_2},$$\n",
    "\n",
    "where $D$ is the learned dictionary, and $x_{em}$ is the sparse signal representation of the $m$-th test signal obtained via Orthogonal Matching Pursuit (OMP).\n",
    "\n",
    "It can be seen that the Separated Hodge Laplacian parameterization generalizes well for synthetically generated signals from dictionaries of different types. It has thus been empirically shown that this type of parameterization possesses excellent representational capabilities and is quite independent of considerations about the actual model behind our data."
   ]
  },
  {
   "cell_type": "markdown",
   "metadata": {},
   "source": [
    "<img src = \"results/edge_laplacian/plot.png\"> \n",
    "\n",
    "_Image 1: Approximation performances on learning Edge-Laplacian-based signal._\n",
    "\n",
    "</br>\n",
    "<img src = \"results/joint/plot.png\"> \n",
    "\n",
    "_Image 2: Approximation performances on learning Joint-Hodge-Laplacian-based signal._\n",
    "\n",
    "</br>\n",
    "<img src = \"results/separated/plot.png\"> \n",
    "\n",
    "_Image 3: Approximation performances on learning Separated-Hodge-Laplacian-based signal._"
   ]
  },
  {
   "cell_type": "markdown",
   "metadata": {},
   "source": [
    "### A small sight on code\n",
    "\n",
    "<div class=\"alert alert-block alert-info\">\n",
    "<b>Notice:</b> \n",
    "Below is virtually reported the same code contained in the scripts in the `samples/` folder, but in a less clean and optimized form.\n",
    "</div>"
   ]
  },
  {
   "cell_type": "markdown",
   "metadata": {},
   "source": [
    "#### Define hyperparameters and graph strucutre"
   ]
  },
  {
   "cell_type": "code",
   "execution_count": 1,
   "metadata": {},
   "outputs": [],
   "source": [
    "from tsplearn import *\n",
    "import numpy as np \n",
    "import pandas as pd\n",
    "\n",
    "# Load the graph\n",
    "G = EnhancedGraph(n=40, p=0.162, seed=0)\n",
    "B1 = G.get_b1()\n",
    "B2 = G.get_b2()\n",
    "\n",
    "# Sub-sampling if needed to decrease complexity\n",
    "sub_size = 100\n",
    "B1 = B1[:, :sub_size]\n",
    "B2 = B2[:sub_size, :]\n",
    "B2 = B2[:,np.sum(np.abs(B2), 0) == 3]\n",
    "\n",
    "# Laplacians\n",
    "Ld = np.matmul(np.transpose(B1), B1, dtype=float)\n",
    "Lu = np.matmul(B2, np.transpose(B2), dtype=float)\n",
    "L = Lu+Ld\n",
    "n =  L.shape[0]\n",
    "nu = B2.shape[1]\n",
    "nd = B1.shape[1]\n",
    "\n",
    "# Problem and Dictionary Dimensionalities\n",
    "m_train = 150 # Number of Train Signals\n",
    "m_test = 80 # Number of Test Signal\n",
    "s = 3 # Number of Kernels (Sub-dictionaries)\n",
    "k = 2 # Polynomial order\n",
    "sparsity = .1 # Sparsity percentage\n",
    "K0_max = 20 #floor(n*sparsity) # Sparsity\n",
    "sparsity_mode = \"max\"\n",
    "\n",
    "# Data-Independent Problem Hyperparameters\n",
    "dictionary_type = \"\"\n",
    "K0_coll = np.arange(5, 26, 4) \n",
    "max_iter = 100 \n",
    "patience = 5 \n",
    "tol = 1e-7 # tolerance for Patience\n",
    "n_sim = 10\n",
    "lambda_ = 1e-7 # l2 multiplier\n",
    "verbose = True"
   ]
  },
  {
   "cell_type": "markdown",
   "metadata": {},
   "source": [
    "#### Synthetic data generation"
   ]
  },
  {
   "cell_type": "code",
   "execution_count": 27,
   "metadata": {},
   "outputs": [
    {
     "name": "stderr",
     "output_type": "stream",
     "text": [
      "100%|██████████| 3000/3000 [01:34<00:00, 31.78it/s]\n"
     ]
    },
    {
     "name": "stdout",
     "output_type": "stream",
     "text": [
      "...Done! # Best Sparsity: 4\n"
     ]
    },
    {
     "name": "stderr",
     "output_type": "stream",
     "text": [
      "100%|██████████| 3000/3000 [01:32<00:00, 32.56it/s]\n"
     ]
    },
    {
     "name": "stdout",
     "output_type": "stream",
     "text": [
      "...Done! # Best Sparsity: 4\n"
     ]
    },
    {
     "name": "stderr",
     "output_type": "stream",
     "text": [
      "100%|██████████| 3000/3000 [01:31<00:00, 32.78it/s]\n"
     ]
    },
    {
     "name": "stdout",
     "output_type": "stream",
     "text": [
      "...Done! # Best Sparsity: 4\n"
     ]
    },
    {
     "name": "stderr",
     "output_type": "stream",
     "text": [
      "100%|██████████| 3000/3000 [01:34<00:00, 31.84it/s]\n"
     ]
    },
    {
     "name": "stdout",
     "output_type": "stream",
     "text": [
      "...Done! # Best Sparsity: 4\n"
     ]
    },
    {
     "name": "stderr",
     "output_type": "stream",
     "text": [
      "100%|██████████| 3000/3000 [01:40<00:00, 29.76it/s]\n"
     ]
    },
    {
     "name": "stdout",
     "output_type": "stream",
     "text": [
      "...Done! # Best Sparsity: 5\n"
     ]
    },
    {
     "name": "stderr",
     "output_type": "stream",
     "text": [
      "100%|██████████| 3000/3000 [01:32<00:00, 32.40it/s]\n"
     ]
    },
    {
     "name": "stdout",
     "output_type": "stream",
     "text": [
      "...Done! # Best Sparsity: 4\n"
     ]
    },
    {
     "name": "stderr",
     "output_type": "stream",
     "text": [
      "100%|██████████| 3000/3000 [01:32<00:00, 32.56it/s]\n"
     ]
    },
    {
     "name": "stdout",
     "output_type": "stream",
     "text": [
      "...Done! # Best Sparsity: 4\n"
     ]
    },
    {
     "name": "stderr",
     "output_type": "stream",
     "text": [
      "100%|██████████| 3000/3000 [01:32<00:00, 32.30it/s]\n"
     ]
    },
    {
     "name": "stdout",
     "output_type": "stream",
     "text": [
      "...Done! # Best Sparsity: 5\n"
     ]
    },
    {
     "name": "stderr",
     "output_type": "stream",
     "text": [
      "100%|██████████| 3000/3000 [01:30<00:00, 33.27it/s]\n"
     ]
    },
    {
     "name": "stdout",
     "output_type": "stream",
     "text": [
      "...Done! # Best Sparsity: 5\n"
     ]
    },
    {
     "name": "stderr",
     "output_type": "stream",
     "text": [
      "100%|██████████| 3000/3000 [01:28<00:00, 33.80it/s]"
     ]
    },
    {
     "name": "stdout",
     "output_type": "stream",
     "text": [
      "...Done! # Best Sparsity: 5\n"
     ]
    },
    {
     "name": "stderr",
     "output_type": "stream",
     "text": [
      "\n"
     ]
    }
   ],
   "source": [
    "from tqdm import tqdm\n",
    "\n",
    "dictionary_type = \"joint\"\n",
    "\n",
    "D_true = np.zeros((n, n * s, n_sim))\n",
    "D_true_coll = np.zeros((n, n, s, n_sim))\n",
    "Y_train = np.zeros((n, m_train, n_sim))\n",
    "Y_test = np.zeros((n, m_test, n_sim))\n",
    "epsilon_true = np.zeros(n_sim)\n",
    "c_true = np.zeros(n_sim)\n",
    "X_train = np.zeros((n * s, m_train, n_sim))\n",
    "X_test = np.zeros((n * s, m_test, n_sim))\n",
    "n_search = 3000\n",
    "\n",
    "for sim in range(n_sim):\n",
    "    best_sparsity = 0\n",
    "    best_acc = 0\n",
    "\n",
    "    for i in tqdm(range(n_search)):\n",
    "        try:\n",
    "            D_try, h, Y_train_try, Y_test_try, epsilon_try, c_try, X_train_try, X_test_try = create_ground_truth(Lu,\n",
    "                                                                                    Ld,\n",
    "                                                                                    m_train,\n",
    "                                                                                    m_test, \n",
    "                                                                                    s=s, \n",
    "                                                                                    K=k, \n",
    "                                                                                    K0=K0_max, \n",
    "                                                                                    dictionary_type=dictionary_type, \n",
    "                                                                                    sparsity_mode=sparsity_mode)\n",
    "            \n",
    "            max_possible_sparsity, acc = verify_dic(D_try, Y_train_try, X_train_try, K0_max, .7)\n",
    "            if max_possible_sparsity > best_sparsity:\n",
    "                best_sparsity = max_possible_sparsity\n",
    "                best_acc = acc\n",
    "                D_true[:, :, sim] = D_try\n",
    "                Y_train[:, :, sim] = Y_train_try\n",
    "                Y_test[:, :, sim] = Y_test_try\n",
    "                epsilon_true[sim] = epsilon_try\n",
    "                c_true[sim] = c_try\n",
    "                X_train[:, :, sim] = X_train_try\n",
    "                X_test[:, :, sim] = X_test_try\n",
    "\n",
    "        except Exception as e:\n",
    "            print(f\"Error during dictionary creation: {e}\")\n",
    "    if verbose:\n",
    "        print(f\"...Done! # Best Sparsity: {best_sparsity}\")"
   ]
  },
  {
   "cell_type": "markdown",
   "metadata": {},
   "source": [
    "#### Dictionary learning"
   ]
  },
  {
   "cell_type": "code",
   "execution_count": 28,
   "metadata": {},
   "outputs": [
    {
     "name": "stderr",
     "output_type": "stream",
     "text": [
      "0it [00:00, ?it/s]"
     ]
    },
    {
     "name": "stdout",
     "output_type": "stream",
     "text": [
      "Simulation: 1/10 Sparsity: 5 Testing Fourier... Done! Test Error: 0.33029265188139645\n",
      "Simulation: 1/10 Sparsity: 5 Testing Edge Laplacian... Done! Test Error: 0.0843661115982034\n",
      "Simulation: 1/10 Sparsity: 5 Testing Hodge Laplacian... Done! Test Error: 0.03882762442310686\n"
     ]
    },
    {
     "name": "stderr",
     "output_type": "stream",
     "text": [
      "1it [00:57, 57.32s/it]"
     ]
    },
    {
     "name": "stdout",
     "output_type": "stream",
     "text": [
      "Simulation: 1/10 Sparsity: 5 Testing Separated Hodge Laplacian... Done! Test Error: 0.038822460346586936\n",
      "Simulation: 1/10 Sparsity: 9 Testing Fourier... Done! Test Error: 0.20129502251893716\n",
      "Simulation: 1/10 Sparsity: 9 Testing Edge Laplacian... Done! Test Error: 0.044640267953005054\n",
      "Simulation: 1/10 Sparsity: 9 Testing Hodge Laplacian... Done! Test Error: 0.010274589693192783\n"
     ]
    },
    {
     "name": "stderr",
     "output_type": "stream",
     "text": [
      "2it [02:05, 63.95s/it]"
     ]
    },
    {
     "name": "stdout",
     "output_type": "stream",
     "text": [
      "Simulation: 1/10 Sparsity: 9 Testing Separated Hodge Laplacian... Done! Test Error: 0.009934823409176969\n",
      "Simulation: 1/10 Sparsity: 13 Testing Fourier... Done! Test Error: 0.13006187387870424\n",
      "Simulation: 1/10 Sparsity: 13 Testing Edge Laplacian... Done! Test Error: 0.02398377029706421\n",
      "Simulation: 1/10 Sparsity: 13 Testing Hodge Laplacian... Done! Test Error: 0.004035496794442823\n"
     ]
    },
    {
     "name": "stderr",
     "output_type": "stream",
     "text": [
      "3it [03:29, 73.06s/it]"
     ]
    },
    {
     "name": "stdout",
     "output_type": "stream",
     "text": [
      "Simulation: 1/10 Sparsity: 13 Testing Separated Hodge Laplacian... Done! Test Error: 0.00398014212026995\n",
      "Simulation: 1/10 Sparsity: 17 Testing Fourier... Done! Test Error: 0.09167016115509513\n",
      "Simulation: 1/10 Sparsity: 17 Testing Edge Laplacian... Done! Test Error: 0.013648000745828372\n",
      "Simulation: 1/10 Sparsity: 17 Testing Hodge Laplacian... Done! Test Error: 0.0020931924899090064\n"
     ]
    },
    {
     "name": "stderr",
     "output_type": "stream",
     "text": [
      "4it [06:15, 109.73s/it]"
     ]
    },
    {
     "name": "stdout",
     "output_type": "stream",
     "text": [
      "Simulation: 1/10 Sparsity: 17 Testing Separated Hodge Laplacian... Done! Test Error: 0.0020967260459512135\n",
      "Simulation: 1/10 Sparsity: 21 Testing Fourier... Done! Test Error: 0.06847365229367441\n",
      "Simulation: 1/10 Sparsity: 21 Testing Edge Laplacian... Done! Test Error: 0.00849986856035419\n",
      "Simulation: 1/10 Sparsity: 21 Testing Hodge Laplacian... Done! Test Error: 0.0011708516640115748\n"
     ]
    },
    {
     "name": "stderr",
     "output_type": "stream",
     "text": [
      "5it [10:37, 164.44s/it]"
     ]
    },
    {
     "name": "stdout",
     "output_type": "stream",
     "text": [
      "Simulation: 1/10 Sparsity: 21 Testing Separated Hodge Laplacian... Done! Test Error: 0.0011242962034612562\n",
      "Simulation: 1/10 Sparsity: 25 Testing Fourier... Done! Test Error: 0.05161751904678165\n",
      "Simulation: 1/10 Sparsity: 25 Testing Edge Laplacian... Done! Test Error: 0.005218217093928572\n",
      "Simulation: 1/10 Sparsity: 25 Testing Hodge Laplacian... Done! Test Error: 0.0010279928503709214\n"
     ]
    },
    {
     "name": "stderr",
     "output_type": "stream",
     "text": [
      "6it [15:51, 158.59s/it]\n"
     ]
    },
    {
     "name": "stdout",
     "output_type": "stream",
     "text": [
      "Simulation: 1/10 Sparsity: 25 Testing Separated Hodge Laplacian... Done! Test Error: 0.0011195365335139032\n"
     ]
    },
    {
     "name": "stderr",
     "output_type": "stream",
     "text": [
      "0it [00:00, ?it/s]"
     ]
    },
    {
     "name": "stdout",
     "output_type": "stream",
     "text": [
      "Simulation: 2/10 Sparsity: 5 Testing Fourier... Done! Test Error: 0.23666083790999004\n",
      "Simulation: 2/10 Sparsity: 5 Testing Edge Laplacian... Done! Test Error: 0.08259410885471229\n",
      "Simulation: 2/10 Sparsity: 5 Testing Hodge Laplacian... Done! Test Error: 0.03090080928229306\n"
     ]
    },
    {
     "name": "stderr",
     "output_type": "stream",
     "text": [
      "1it [00:36, 37.00s/it]"
     ]
    },
    {
     "name": "stdout",
     "output_type": "stream",
     "text": [
      "Simulation: 2/10 Sparsity: 5 Testing Separated Hodge Laplacian... Done! Test Error: 0.035093165719215814\n",
      "Simulation: 2/10 Sparsity: 9 Testing Fourier... Done! Test Error: 0.12908327488769009\n",
      "Simulation: 2/10 Sparsity: 9 Testing Edge Laplacian... Done! Test Error: 0.0409617848701033\n",
      "Simulation: 2/10 Sparsity: 9 Testing Hodge Laplacian... Done! Test Error: 0.008119816020704133\n"
     ]
    },
    {
     "name": "stderr",
     "output_type": "stream",
     "text": [
      "2it [01:38, 51.66s/it]"
     ]
    },
    {
     "name": "stdout",
     "output_type": "stream",
     "text": [
      "Simulation: 2/10 Sparsity: 9 Testing Separated Hodge Laplacian... Done! Test Error: 0.009916288082915727\n",
      "Simulation: 2/10 Sparsity: 13 Testing Fourier... Done! Test Error: 0.08272301823015629\n",
      "Simulation: 2/10 Sparsity: 13 Testing Edge Laplacian... Done! Test Error: 0.02199320644881187\n",
      "Simulation: 2/10 Sparsity: 13 Testing Hodge Laplacian... Done! Test Error: 0.003733688708096744\n"
     ]
    },
    {
     "name": "stderr",
     "output_type": "stream",
     "text": [
      "3it [02:51, 61.09s/it]"
     ]
    },
    {
     "name": "stdout",
     "output_type": "stream",
     "text": [
      "Simulation: 2/10 Sparsity: 13 Testing Separated Hodge Laplacian... Diverged!\n",
      "Simulation: 2/10 Sparsity: 17 Testing Fourier... Done! Test Error: 0.050567947962864596\n",
      "Simulation: 2/10 Sparsity: 17 Testing Edge Laplacian... Done! Test Error: 0.012896671067662947\n",
      "Simulation: 2/10 Sparsity: 17 Testing Hodge Laplacian... Done! Test Error: 0.0023946911348497364\n"
     ]
    },
    {
     "name": "stderr",
     "output_type": "stream",
     "text": [
      "4it [05:55, 109.62s/it]"
     ]
    },
    {
     "name": "stdout",
     "output_type": "stream",
     "text": [
      "Simulation: 2/10 Sparsity: 17 Testing Separated Hodge Laplacian... Done! Test Error: 0.002075261634628046\n",
      "Simulation: 2/10 Sparsity: 21 Testing Fourier... Done! Test Error: 0.03299925469595504\n",
      "Simulation: 2/10 Sparsity: 21 Testing Edge Laplacian... Done! Test Error: 0.007994660809538178\n",
      "Simulation: 2/10 Sparsity: 21 Testing Hodge Laplacian... Done! Test Error: 0.001347387826456916\n"
     ]
    },
    {
     "name": "stderr",
     "output_type": "stream",
     "text": [
      "5it [08:43, 130.83s/it]"
     ]
    },
    {
     "name": "stdout",
     "output_type": "stream",
     "text": [
      "Simulation: 2/10 Sparsity: 21 Testing Separated Hodge Laplacian... Diverged!\n",
      "Simulation: 2/10 Sparsity: 25 Testing Fourier... Done! Test Error: 0.021658734136476475\n",
      "Simulation: 2/10 Sparsity: 25 Testing Edge Laplacian... Done! Test Error: 0.009440710143658364\n",
      "Simulation: 2/10 Sparsity: 25 Testing Hodge Laplacian... Diverged!\n"
     ]
    },
    {
     "name": "stderr",
     "output_type": "stream",
     "text": [
      "6it [12:10, 121.69s/it]\n"
     ]
    },
    {
     "name": "stdout",
     "output_type": "stream",
     "text": [
      "Simulation: 2/10 Sparsity: 25 Testing Separated Hodge Laplacian... Done! Test Error: 0.0008941249177226125\n"
     ]
    },
    {
     "name": "stderr",
     "output_type": "stream",
     "text": [
      "0it [00:00, ?it/s]"
     ]
    },
    {
     "name": "stdout",
     "output_type": "stream",
     "text": [
      "Simulation: 3/10 Sparsity: 5 Testing Fourier... Done! Test Error: 0.26297132765702075\n",
      "Simulation: 3/10 Sparsity: 5 Testing Edge Laplacian... Done! Test Error: 0.10780824761051161\n",
      "Simulation: 3/10 Sparsity: 5 Testing Hodge Laplacian... Done! Test Error: 0.04543108641623524\n"
     ]
    },
    {
     "name": "stderr",
     "output_type": "stream",
     "text": [
      "1it [00:44, 44.95s/it]"
     ]
    },
    {
     "name": "stdout",
     "output_type": "stream",
     "text": [
      "Simulation: 3/10 Sparsity: 5 Testing Separated Hodge Laplacian... Done! Test Error: 0.04611535152873384\n",
      "Simulation: 3/10 Sparsity: 9 Testing Fourier... Done! Test Error: 0.14484008422496883\n",
      "Simulation: 3/10 Sparsity: 9 Testing Edge Laplacian... Done! Test Error: 0.05027215665439053\n",
      "Simulation: 3/10 Sparsity: 9 Testing Hodge Laplacian... Done! Test Error: 0.01311517622330696\n"
     ]
    },
    {
     "name": "stderr",
     "output_type": "stream",
     "text": [
      "2it [01:31, 46.10s/it]"
     ]
    },
    {
     "name": "stdout",
     "output_type": "stream",
     "text": [
      "Simulation: 3/10 Sparsity: 9 Testing Separated Hodge Laplacian... Done! Test Error: 0.01394703842300068\n",
      "Simulation: 3/10 Sparsity: 13 Testing Fourier... Done! Test Error: 0.09154757535466479\n",
      "Simulation: 3/10 Sparsity: 13 Testing Edge Laplacian... Done! Test Error: 0.027462241955874375\n",
      "Simulation: 3/10 Sparsity: 13 Testing Hodge Laplacian... Done! Test Error: 0.005713677040109761\n"
     ]
    },
    {
     "name": "stderr",
     "output_type": "stream",
     "text": [
      "3it [03:11, 70.33s/it]"
     ]
    },
    {
     "name": "stdout",
     "output_type": "stream",
     "text": [
      "Simulation: 3/10 Sparsity: 13 Testing Separated Hodge Laplacian... Done! Test Error: 0.007027362989946751\n",
      "Simulation: 3/10 Sparsity: 17 Testing Fourier... Done! Test Error: 0.06125027993620278\n",
      "Simulation: 3/10 Sparsity: 17 Testing Edge Laplacian... Done! Test Error: 0.018046732516729124\n",
      "Simulation: 3/10 Sparsity: 17 Testing Hodge Laplacian... Done! Test Error: 0.00277861450372399\n"
     ]
    },
    {
     "name": "stderr",
     "output_type": "stream",
     "text": [
      "4it [05:17, 92.53s/it]"
     ]
    },
    {
     "name": "stdout",
     "output_type": "stream",
     "text": [
      "Simulation: 3/10 Sparsity: 17 Testing Separated Hodge Laplacian... Done! Test Error: 0.003251423922341521\n",
      "Simulation: 3/10 Sparsity: 21 Testing Fourier... Done! Test Error: 0.04101852376399139\n",
      "Simulation: 3/10 Sparsity: 21 Testing Edge Laplacian... Done! Test Error: 0.010704318251025325\n",
      "Simulation: 3/10 Sparsity: 21 Testing Hodge Laplacian... Done! Test Error: 0.0027017788733530363\n"
     ]
    },
    {
     "name": "stderr",
     "output_type": "stream",
     "text": [
      "5it [08:43, 133.27s/it]"
     ]
    },
    {
     "name": "stdout",
     "output_type": "stream",
     "text": [
      "Simulation: 3/10 Sparsity: 21 Testing Separated Hodge Laplacian... Done! Test Error: 0.00192335984703271\n",
      "Simulation: 3/10 Sparsity: 25 Testing Fourier... Done! Test Error: 0.027624133304307675\n",
      "Simulation: 3/10 Sparsity: 25 Testing Edge Laplacian... Done! Test Error: 0.009685554761354676\n",
      "Simulation: 3/10 Sparsity: 25 Testing Hodge Laplacian... Done! Test Error: 0.0015536589785914714\n"
     ]
    },
    {
     "name": "stderr",
     "output_type": "stream",
     "text": [
      "6it [12:52, 128.72s/it]\n"
     ]
    },
    {
     "name": "stdout",
     "output_type": "stream",
     "text": [
      "Simulation: 3/10 Sparsity: 25 Testing Separated Hodge Laplacian... Done! Test Error: 0.001346780354772658\n"
     ]
    },
    {
     "name": "stderr",
     "output_type": "stream",
     "text": [
      "0it [00:00, ?it/s]"
     ]
    },
    {
     "name": "stdout",
     "output_type": "stream",
     "text": [
      "Simulation: 4/10 Sparsity: 5 Testing Fourier... Done! Test Error: 0.2807028577562793\n",
      "Simulation: 4/10 Sparsity: 5 Testing Edge Laplacian... Done! Test Error: 0.07979705936302683\n",
      "Simulation: 4/10 Sparsity: 5 Testing Hodge Laplacian... Done! Test Error: 0.027464590397921276\n"
     ]
    },
    {
     "name": "stderr",
     "output_type": "stream",
     "text": [
      "1it [00:30, 30.43s/it]"
     ]
    },
    {
     "name": "stdout",
     "output_type": "stream",
     "text": [
      "Simulation: 4/10 Sparsity: 5 Testing Separated Hodge Laplacian... Done! Test Error: 0.03321128966171283\n",
      "Simulation: 4/10 Sparsity: 9 Testing Fourier... Done! Test Error: 0.15724858231616518\n",
      "Simulation: 4/10 Sparsity: 9 Testing Edge Laplacian... Done! Test Error: 0.03457259865209316\n",
      "Simulation: 4/10 Sparsity: 9 Testing Hodge Laplacian... Done! Test Error: 0.007598687315675472\n"
     ]
    },
    {
     "name": "stderr",
     "output_type": "stream",
     "text": [
      "2it [01:33, 49.87s/it]"
     ]
    },
    {
     "name": "stdout",
     "output_type": "stream",
     "text": [
      "Simulation: 4/10 Sparsity: 9 Testing Separated Hodge Laplacian... Done! Test Error: 0.009482157662496316\n",
      "Simulation: 4/10 Sparsity: 13 Testing Fourier... Done! Test Error: 0.09756554127824865\n",
      "Simulation: 4/10 Sparsity: 13 Testing Edge Laplacian... Done! Test Error: 0.01710050124936976\n",
      "Simulation: 4/10 Sparsity: 13 Testing Hodge Laplacian... Done! Test Error: 0.004319579051840223\n"
     ]
    },
    {
     "name": "stderr",
     "output_type": "stream",
     "text": [
      "3it [03:22, 76.88s/it]"
     ]
    },
    {
     "name": "stdout",
     "output_type": "stream",
     "text": [
      "Simulation: 4/10 Sparsity: 13 Testing Separated Hodge Laplacian... Done! Test Error: 0.004387068511343663\n",
      "Simulation: 4/10 Sparsity: 17 Testing Fourier... Done! Test Error: 0.0636944687975273\n",
      "Simulation: 4/10 Sparsity: 17 Testing Edge Laplacian... Done! Test Error: 0.011679431671689104\n",
      "Simulation: 4/10 Sparsity: 17 Testing Hodge Laplacian... Done! Test Error: 0.0017886576702492094\n"
     ]
    },
    {
     "name": "stderr",
     "output_type": "stream",
     "text": [
      "4it [06:09, 112.39s/it]"
     ]
    },
    {
     "name": "stdout",
     "output_type": "stream",
     "text": [
      "Simulation: 4/10 Sparsity: 17 Testing Separated Hodge Laplacian... Done! Test Error: 0.002514359397228633\n",
      "Simulation: 4/10 Sparsity: 21 Testing Fourier... Done! Test Error: 0.04456487892189812\n",
      "Simulation: 4/10 Sparsity: 21 Testing Edge Laplacian... Done! Test Error: 0.006684322689824479\n",
      "Simulation: 4/10 Sparsity: 21 Testing Hodge Laplacian... Done! Test Error: 0.001071168838977279\n"
     ]
    },
    {
     "name": "stderr",
     "output_type": "stream",
     "text": [
      "5it [11:32, 188.31s/it]"
     ]
    },
    {
     "name": "stdout",
     "output_type": "stream",
     "text": [
      "Simulation: 4/10 Sparsity: 21 Testing Separated Hodge Laplacian... Done! Test Error: 0.0013879250378687354\n",
      "Simulation: 4/10 Sparsity: 25 Testing Fourier... Done! Test Error: 0.0329127540441822\n",
      "Simulation: 4/10 Sparsity: 25 Testing Edge Laplacian... Done! Test Error: 0.005147399531572283\n",
      "Simulation: 4/10 Sparsity: 25 Testing Hodge Laplacian... Done! Test Error: 0.001486029195661865\n"
     ]
    },
    {
     "name": "stderr",
     "output_type": "stream",
     "text": [
      "6it [17:17, 172.92s/it]\n"
     ]
    },
    {
     "name": "stdout",
     "output_type": "stream",
     "text": [
      "Simulation: 4/10 Sparsity: 25 Testing Separated Hodge Laplacian... Done! Test Error: 0.001278945418173809\n"
     ]
    },
    {
     "name": "stderr",
     "output_type": "stream",
     "text": [
      "0it [00:00, ?it/s]"
     ]
    },
    {
     "name": "stdout",
     "output_type": "stream",
     "text": [
      "Simulation: 5/10 Sparsity: 5 Testing Fourier... Done! Test Error: 0.24614145950201438\n",
      "Simulation: 5/10 Sparsity: 5 Testing Edge Laplacian... Done! Test Error: 0.0811596412270536\n",
      "Simulation: 5/10 Sparsity: 5 Testing Hodge Laplacian... Done! Test Error: 0.03041881499816487\n"
     ]
    },
    {
     "name": "stderr",
     "output_type": "stream",
     "text": [
      "1it [00:46, 46.63s/it]"
     ]
    },
    {
     "name": "stdout",
     "output_type": "stream",
     "text": [
      "Simulation: 5/10 Sparsity: 5 Testing Separated Hodge Laplacian... Done! Test Error: 0.032331948215326006\n",
      "Simulation: 5/10 Sparsity: 9 Testing Fourier... Done! Test Error: 0.1378036683425524\n",
      "Simulation: 5/10 Sparsity: 9 Testing Edge Laplacian... Done! Test Error: 0.03810024968465109\n",
      "Simulation: 5/10 Sparsity: 9 Testing Hodge Laplacian... Done! Test Error: 0.008664543012088034\n"
     ]
    },
    {
     "name": "stderr",
     "output_type": "stream",
     "text": [
      "2it [01:48, 55.39s/it]"
     ]
    },
    {
     "name": "stdout",
     "output_type": "stream",
     "text": [
      "Simulation: 5/10 Sparsity: 9 Testing Separated Hodge Laplacian... Done! Test Error: 0.008392532833578608\n",
      "Simulation: 5/10 Sparsity: 13 Testing Fourier... Done! Test Error: 0.08672283728311843\n",
      "Simulation: 5/10 Sparsity: 13 Testing Edge Laplacian... Done! Test Error: 0.021557489638510004\n",
      "Simulation: 5/10 Sparsity: 13 Testing Hodge Laplacian... Done! Test Error: 0.0044006421209422\n"
     ]
    },
    {
     "name": "stderr",
     "output_type": "stream",
     "text": [
      "3it [04:00, 90.51s/it]"
     ]
    },
    {
     "name": "stdout",
     "output_type": "stream",
     "text": [
      "Simulation: 5/10 Sparsity: 13 Testing Separated Hodge Laplacian... Done! Test Error: 0.0037764674315914726\n",
      "Simulation: 5/10 Sparsity: 17 Testing Fourier... Done! Test Error: 0.058227964208657015\n",
      "Simulation: 5/10 Sparsity: 17 Testing Edge Laplacian... Done! Test Error: 0.014773024833211863\n",
      "Simulation: 5/10 Sparsity: 17 Testing Hodge Laplacian... Done! Test Error: 0.0028817928084590516\n"
     ]
    },
    {
     "name": "stderr",
     "output_type": "stream",
     "text": [
      "4it [06:33, 115.39s/it]"
     ]
    },
    {
     "name": "stdout",
     "output_type": "stream",
     "text": [
      "Simulation: 5/10 Sparsity: 17 Testing Separated Hodge Laplacian... Done! Test Error: 0.0031836680102440423\n",
      "Simulation: 5/10 Sparsity: 21 Testing Fourier... Done! Test Error: 0.03941862218288428\n",
      "Simulation: 5/10 Sparsity: 21 Testing Edge Laplacian... Done! Test Error: 0.009029572353360212\n",
      "Simulation: 5/10 Sparsity: 21 Testing Hodge Laplacian... Done! Test Error: 0.00146977021743162\n"
     ]
    },
    {
     "name": "stderr",
     "output_type": "stream",
     "text": [
      "5it [10:56, 168.28s/it]"
     ]
    },
    {
     "name": "stdout",
     "output_type": "stream",
     "text": [
      "Simulation: 5/10 Sparsity: 21 Testing Separated Hodge Laplacian... Done! Test Error: 0.0018787066893692862\n",
      "Simulation: 5/10 Sparsity: 25 Testing Fourier... Done! Test Error: 0.028096707330014438\n",
      "Simulation: 5/10 Sparsity: 25 Testing Edge Laplacian... Done! Test Error: 0.006285562936296812\n",
      "Simulation: 5/10 Sparsity: 25 Testing Hodge Laplacian... Done! Test Error: 0.0012727316456846406\n"
     ]
    },
    {
     "name": "stderr",
     "output_type": "stream",
     "text": [
      "6it [16:46, 167.71s/it]\n"
     ]
    },
    {
     "name": "stdout",
     "output_type": "stream",
     "text": [
      "Simulation: 5/10 Sparsity: 25 Testing Separated Hodge Laplacian... Done! Test Error: 0.0015174977107456614\n"
     ]
    },
    {
     "name": "stderr",
     "output_type": "stream",
     "text": [
      "0it [00:00, ?it/s]"
     ]
    },
    {
     "name": "stdout",
     "output_type": "stream",
     "text": [
      "Simulation: 6/10 Sparsity: 5 Testing Fourier... Done! Test Error: 0.3003727078576295\n",
      "Simulation: 6/10 Sparsity: 5 Testing Edge Laplacian... Done! Test Error: 0.0891599619389772\n",
      "Simulation: 6/10 Sparsity: 5 Testing Hodge Laplacian... Done! Test Error: 0.03227022258836838\n"
     ]
    },
    {
     "name": "stderr",
     "output_type": "stream",
     "text": [
      "1it [00:47, 47.97s/it]"
     ]
    },
    {
     "name": "stdout",
     "output_type": "stream",
     "text": [
      "Simulation: 6/10 Sparsity: 5 Testing Separated Hodge Laplacian... Done! Test Error: 0.03420724846783049\n",
      "Simulation: 6/10 Sparsity: 9 Testing Fourier... Done! Test Error: 0.1744066363343224\n",
      "Simulation: 6/10 Sparsity: 9 Testing Edge Laplacian... Done! Test Error: 0.041913940487471685\n",
      "Simulation: 6/10 Sparsity: 9 Testing Hodge Laplacian... Done! Test Error: 0.009562826219438061\n"
     ]
    },
    {
     "name": "stderr",
     "output_type": "stream",
     "text": [
      "2it [01:53, 58.18s/it]"
     ]
    },
    {
     "name": "stdout",
     "output_type": "stream",
     "text": [
      "Simulation: 6/10 Sparsity: 9 Testing Separated Hodge Laplacian... Done! Test Error: 0.011013460582586055\n",
      "Simulation: 6/10 Sparsity: 13 Testing Fourier... Done! Test Error: 0.11524957708987765\n",
      "Simulation: 6/10 Sparsity: 13 Testing Edge Laplacian... Done! Test Error: 0.024856045405151253\n",
      "Simulation: 6/10 Sparsity: 13 Testing Hodge Laplacian... Done! Test Error: 0.004023865393592283\n"
     ]
    },
    {
     "name": "stderr",
     "output_type": "stream",
     "text": [
      "3it [03:18, 70.44s/it]"
     ]
    },
    {
     "name": "stdout",
     "output_type": "stream",
     "text": [
      "Simulation: 6/10 Sparsity: 13 Testing Separated Hodge Laplacian... Done! Test Error: 0.0048746136802962\n",
      "Simulation: 6/10 Sparsity: 17 Testing Fourier... Done! Test Error: 0.07952021124116979\n",
      "Simulation: 6/10 Sparsity: 17 Testing Edge Laplacian... Done! Test Error: 0.014427128880742813\n",
      "Simulation: 6/10 Sparsity: 17 Testing Hodge Laplacian... Done! Test Error: 0.0021108436723941775\n"
     ]
    },
    {
     "name": "stderr",
     "output_type": "stream",
     "text": [
      "4it [05:45, 100.65s/it]"
     ]
    },
    {
     "name": "stdout",
     "output_type": "stream",
     "text": [
      "Simulation: 6/10 Sparsity: 17 Testing Separated Hodge Laplacian... Done! Test Error: 0.0024872101657763077\n",
      "Simulation: 6/10 Sparsity: 21 Testing Fourier... Done! Test Error: 0.05238331953064171\n",
      "Simulation: 6/10 Sparsity: 21 Testing Edge Laplacian... Done! Test Error: 0.009148398427867887\n",
      "Simulation: 6/10 Sparsity: 21 Testing Hodge Laplacian... Done! Test Error: 0.0010979888030187115\n"
     ]
    },
    {
     "name": "stderr",
     "output_type": "stream",
     "text": [
      "5it [09:05, 136.48s/it]"
     ]
    },
    {
     "name": "stdout",
     "output_type": "stream",
     "text": [
      "Simulation: 6/10 Sparsity: 21 Testing Separated Hodge Laplacian... Done! Test Error: 0.0016085455582145456\n",
      "Simulation: 6/10 Sparsity: 25 Testing Fourier... Done! Test Error: 0.03673491829745442\n",
      "Simulation: 6/10 Sparsity: 25 Testing Edge Laplacian... Done! Test Error: 0.0056738268571695635\n",
      "Simulation: 6/10 Sparsity: 25 Testing Hodge Laplacian... Done! Test Error: 0.0015018187166071055\n"
     ]
    },
    {
     "name": "stderr",
     "output_type": "stream",
     "text": [
      "6it [13:39, 136.60s/it]\n"
     ]
    },
    {
     "name": "stdout",
     "output_type": "stream",
     "text": [
      "Simulation: 6/10 Sparsity: 25 Testing Separated Hodge Laplacian... Done! Test Error: 0.0007599608187297359\n"
     ]
    },
    {
     "name": "stderr",
     "output_type": "stream",
     "text": [
      "0it [00:00, ?it/s]"
     ]
    },
    {
     "name": "stdout",
     "output_type": "stream",
     "text": [
      "Simulation: 7/10 Sparsity: 5 Testing Fourier... Done! Test Error: 0.25497266233959975\n",
      "Simulation: 7/10 Sparsity: 5 Testing Edge Laplacian... Done! Test Error: 0.09260752043545459\n",
      "Simulation: 7/10 Sparsity: 5 Testing Hodge Laplacian... Done! Test Error: 0.03587071078920491\n"
     ]
    },
    {
     "name": "stderr",
     "output_type": "stream",
     "text": [
      "1it [00:39, 39.12s/it]"
     ]
    },
    {
     "name": "stdout",
     "output_type": "stream",
     "text": [
      "Simulation: 7/10 Sparsity: 5 Testing Separated Hodge Laplacian... Done! Test Error: 0.03848684906353561\n",
      "Simulation: 7/10 Sparsity: 9 Testing Fourier... Done! Test Error: 0.14024255258481869\n",
      "Simulation: 7/10 Sparsity: 9 Testing Edge Laplacian... Done! Test Error: 0.04527574526630466\n",
      "Simulation: 7/10 Sparsity: 9 Testing Hodge Laplacian... Done! Test Error: 0.01011550355602073\n"
     ]
    },
    {
     "name": "stderr",
     "output_type": "stream",
     "text": [
      "2it [01:56, 61.66s/it]"
     ]
    },
    {
     "name": "stdout",
     "output_type": "stream",
     "text": [
      "Simulation: 7/10 Sparsity: 9 Testing Separated Hodge Laplacian... Done! Test Error: 0.010799980481374247\n",
      "Simulation: 7/10 Sparsity: 13 Testing Fourier... Done! Test Error: 0.08502174804919037\n",
      "Simulation: 7/10 Sparsity: 13 Testing Edge Laplacian... Done! Test Error: 0.024941844101098894\n",
      "Simulation: 7/10 Sparsity: 13 Testing Hodge Laplacian... Done! Test Error: 0.004221341891052141\n"
     ]
    },
    {
     "name": "stderr",
     "output_type": "stream",
     "text": [
      "3it [03:46, 83.50s/it]"
     ]
    },
    {
     "name": "stdout",
     "output_type": "stream",
     "text": [
      "Simulation: 7/10 Sparsity: 13 Testing Separated Hodge Laplacian... Done! Test Error: 0.0047207907179512955\n",
      "Simulation: 7/10 Sparsity: 17 Testing Fourier... Done! Test Error: 0.053774807155476605\n",
      "Simulation: 7/10 Sparsity: 17 Testing Edge Laplacian... Done! Test Error: 0.01517779324636643\n",
      "Simulation: 7/10 Sparsity: 17 Testing Hodge Laplacian... Done! Test Error: 0.00236592794486366\n"
     ]
    },
    {
     "name": "stderr",
     "output_type": "stream",
     "text": [
      "4it [06:49, 123.00s/it]"
     ]
    },
    {
     "name": "stdout",
     "output_type": "stream",
     "text": [
      "Simulation: 7/10 Sparsity: 17 Testing Separated Hodge Laplacian... Done! Test Error: 0.003029061444998221\n",
      "Simulation: 7/10 Sparsity: 21 Testing Fourier... Done! Test Error: 0.03556478897212074\n",
      "Simulation: 7/10 Sparsity: 21 Testing Edge Laplacian... Done! Test Error: 0.010757667499514723\n",
      "Simulation: 7/10 Sparsity: 21 Testing Hodge Laplacian... Done! Test Error: 0.0017116021772449947\n"
     ]
    },
    {
     "name": "stderr",
     "output_type": "stream",
     "text": [
      "5it [10:36, 160.62s/it]"
     ]
    },
    {
     "name": "stdout",
     "output_type": "stream",
     "text": [
      "Simulation: 7/10 Sparsity: 21 Testing Separated Hodge Laplacian... Done! Test Error: 0.0021315766482568254\n",
      "Simulation: 7/10 Sparsity: 25 Testing Fourier... Done! Test Error: 0.024377045440000744\n",
      "Simulation: 7/10 Sparsity: 25 Testing Edge Laplacian... Done! Test Error: 0.007342390797251794\n",
      "Simulation: 7/10 Sparsity: 25 Testing Hodge Laplacian... Done! Test Error: 0.0015295522641934425\n"
     ]
    },
    {
     "name": "stderr",
     "output_type": "stream",
     "text": [
      "6it [15:10, 151.82s/it]\n"
     ]
    },
    {
     "name": "stdout",
     "output_type": "stream",
     "text": [
      "Simulation: 7/10 Sparsity: 25 Testing Separated Hodge Laplacian... Done! Test Error: 0.0017894380958047296\n"
     ]
    },
    {
     "name": "stderr",
     "output_type": "stream",
     "text": [
      "0it [00:00, ?it/s]"
     ]
    },
    {
     "name": "stdout",
     "output_type": "stream",
     "text": [
      "Simulation: 8/10 Sparsity: 5 Testing Fourier... Done! Test Error: 0.25621774673231984\n",
      "Simulation: 8/10 Sparsity: 5 Testing Edge Laplacian... Done! Test Error: 0.07978544607713761\n",
      "Simulation: 8/10 Sparsity: 5 Testing Hodge Laplacian... Done! Test Error: 0.024338289621630094\n"
     ]
    },
    {
     "name": "stderr",
     "output_type": "stream",
     "text": [
      "1it [00:38, 38.82s/it]"
     ]
    },
    {
     "name": "stdout",
     "output_type": "stream",
     "text": [
      "Simulation: 8/10 Sparsity: 5 Testing Separated Hodge Laplacian... Done! Test Error: 0.02803662785883118\n",
      "Simulation: 8/10 Sparsity: 9 Testing Fourier... Done! Test Error: 0.1376103902341493\n",
      "Simulation: 8/10 Sparsity: 9 Testing Edge Laplacian... Done! Test Error: 0.03842180435622136\n",
      "Simulation: 8/10 Sparsity: 9 Testing Hodge Laplacian... Done! Test Error: 0.007433985755715755\n"
     ]
    },
    {
     "name": "stderr",
     "output_type": "stream",
     "text": [
      "2it [01:33, 47.88s/it]"
     ]
    },
    {
     "name": "stdout",
     "output_type": "stream",
     "text": [
      "Simulation: 8/10 Sparsity: 9 Testing Separated Hodge Laplacian... Done! Test Error: 0.007299205423246944\n",
      "Simulation: 8/10 Sparsity: 13 Testing Fourier... Done! Test Error: 0.08304719192757626\n",
      "Simulation: 8/10 Sparsity: 13 Testing Edge Laplacian... Done! Test Error: 0.019684844198100064\n",
      "Simulation: 8/10 Sparsity: 13 Testing Hodge Laplacian... Done! Test Error: 0.0030798127934703653\n"
     ]
    },
    {
     "name": "stderr",
     "output_type": "stream",
     "text": [
      "3it [03:31, 79.89s/it]"
     ]
    },
    {
     "name": "stdout",
     "output_type": "stream",
     "text": [
      "Simulation: 8/10 Sparsity: 13 Testing Separated Hodge Laplacian... Done! Test Error: 0.003401492858623588\n",
      "Simulation: 8/10 Sparsity: 17 Testing Fourier... Done! Test Error: 0.053311851736442734\n",
      "Simulation: 8/10 Sparsity: 17 Testing Edge Laplacian... Done! Test Error: 0.01120587167203017\n",
      "Simulation: 8/10 Sparsity: 17 Testing Hodge Laplacian... Done! Test Error: 0.0023559982455254556\n"
     ]
    },
    {
     "name": "stderr",
     "output_type": "stream",
     "text": [
      "4it [06:18, 114.38s/it]"
     ]
    },
    {
     "name": "stdout",
     "output_type": "stream",
     "text": [
      "Simulation: 8/10 Sparsity: 17 Testing Separated Hodge Laplacian... Done! Test Error: 0.002191267959235819\n",
      "Simulation: 8/10 Sparsity: 21 Testing Fourier... Done! Test Error: 0.03413416040048174\n",
      "Simulation: 8/10 Sparsity: 21 Testing Edge Laplacian... Done! Test Error: 0.010369221464872326\n",
      "Simulation: 8/10 Sparsity: 21 Testing Hodge Laplacian... Done! Test Error: 0.0012456308235206462\n"
     ]
    },
    {
     "name": "stderr",
     "output_type": "stream",
     "text": [
      "5it [09:40, 146.06s/it]"
     ]
    },
    {
     "name": "stdout",
     "output_type": "stream",
     "text": [
      "Simulation: 8/10 Sparsity: 21 Testing Separated Hodge Laplacian... Done! Test Error: 0.002134685469039809\n",
      "Simulation: 8/10 Sparsity: 25 Testing Fourier... Done! Test Error: 0.02309347312173043\n",
      "Simulation: 8/10 Sparsity: 25 Testing Edge Laplacian... Done! Test Error: 0.006243048967290006\n",
      "Simulation: 8/10 Sparsity: 25 Testing Hodge Laplacian... Done! Test Error: 0.0010273581073867505\n"
     ]
    },
    {
     "name": "stderr",
     "output_type": "stream",
     "text": [
      "6it [14:26, 144.37s/it]\n"
     ]
    },
    {
     "name": "stdout",
     "output_type": "stream",
     "text": [
      "Simulation: 8/10 Sparsity: 25 Testing Separated Hodge Laplacian... Done! Test Error: 0.002454568522857931\n"
     ]
    },
    {
     "name": "stderr",
     "output_type": "stream",
     "text": [
      "0it [00:00, ?it/s]"
     ]
    },
    {
     "name": "stdout",
     "output_type": "stream",
     "text": [
      "Simulation: 9/10 Sparsity: 5 Testing Fourier... Done! Test Error: 0.25053705341620247\n",
      "Simulation: 9/10 Sparsity: 5 Testing Edge Laplacian... Done! Test Error: 0.08326385276754798\n",
      "Simulation: 9/10 Sparsity: 5 Testing Hodge Laplacian... Done! Test Error: 0.02796289395641502\n"
     ]
    },
    {
     "name": "stderr",
     "output_type": "stream",
     "text": [
      "1it [00:31, 31.08s/it]"
     ]
    },
    {
     "name": "stdout",
     "output_type": "stream",
     "text": [
      "Simulation: 9/10 Sparsity: 5 Testing Separated Hodge Laplacian... Done! Test Error: 0.02825925067401566\n",
      "Simulation: 9/10 Sparsity: 9 Testing Fourier... Done! Test Error: 0.1341367709226329\n",
      "Simulation: 9/10 Sparsity: 9 Testing Edge Laplacian... Done! Test Error: 0.0396986581211083\n",
      "Simulation: 9/10 Sparsity: 9 Testing Hodge Laplacian... Done! Test Error: 0.00806546709483176\n"
     ]
    },
    {
     "name": "stderr",
     "output_type": "stream",
     "text": [
      "2it [01:19, 41.36s/it]"
     ]
    },
    {
     "name": "stdout",
     "output_type": "stream",
     "text": [
      "Simulation: 9/10 Sparsity: 9 Testing Separated Hodge Laplacian... Done! Test Error: 0.009497085532281305\n",
      "Simulation: 9/10 Sparsity: 13 Testing Fourier... Done! Test Error: 0.08204873375589883\n",
      "Simulation: 9/10 Sparsity: 13 Testing Edge Laplacian... Done! Test Error: 0.022495703339524085\n",
      "Simulation: 9/10 Sparsity: 13 Testing Hodge Laplacian... Done! Test Error: 0.0040616505269912605\n"
     ]
    },
    {
     "name": "stderr",
     "output_type": "stream",
     "text": [
      "3it [02:44, 61.15s/it]"
     ]
    },
    {
     "name": "stdout",
     "output_type": "stream",
     "text": [
      "Simulation: 9/10 Sparsity: 13 Testing Separated Hodge Laplacian... Done! Test Error: 0.003912900076783472\n",
      "Simulation: 9/10 Sparsity: 17 Testing Fourier... Done! Test Error: 0.05150862244393796\n",
      "Simulation: 9/10 Sparsity: 17 Testing Edge Laplacian... Done! Test Error: 0.012029382285368961\n",
      "Simulation: 9/10 Sparsity: 17 Testing Hodge Laplacian... Done! Test Error: 0.0025025638180093436\n"
     ]
    },
    {
     "name": "stderr",
     "output_type": "stream",
     "text": [
      "4it [05:51, 110.83s/it]"
     ]
    },
    {
     "name": "stdout",
     "output_type": "stream",
     "text": [
      "Simulation: 9/10 Sparsity: 17 Testing Separated Hodge Laplacian... Done! Test Error: 0.0028306741319553074\n",
      "Simulation: 9/10 Sparsity: 21 Testing Fourier... Done! Test Error: 0.033346431783224155\n",
      "Simulation: 9/10 Sparsity: 21 Testing Edge Laplacian... Done! Test Error: 0.007230029386155307\n",
      "Simulation: 9/10 Sparsity: 21 Testing Hodge Laplacian... Done! Test Error: 0.002069089971831252\n"
     ]
    },
    {
     "name": "stderr",
     "output_type": "stream",
     "text": [
      "5it [09:38, 152.65s/it]"
     ]
    },
    {
     "name": "stdout",
     "output_type": "stream",
     "text": [
      "Simulation: 9/10 Sparsity: 21 Testing Separated Hodge Laplacian... Done! Test Error: 0.0026638901607334005\n",
      "Simulation: 9/10 Sparsity: 25 Testing Fourier... Done! Test Error: 0.020599485658064028\n",
      "Simulation: 9/10 Sparsity: 25 Testing Edge Laplacian... Done! Test Error: 0.0063486782350126395\n",
      "Simulation: 9/10 Sparsity: 25 Testing Hodge Laplacian... Done! Test Error: 0.0009831325271159336\n"
     ]
    },
    {
     "name": "stderr",
     "output_type": "stream",
     "text": [
      "6it [14:50, 148.42s/it]\n"
     ]
    },
    {
     "name": "stdout",
     "output_type": "stream",
     "text": [
      "Simulation: 9/10 Sparsity: 25 Testing Separated Hodge Laplacian... Done! Test Error: 0.0015919780988492922\n"
     ]
    },
    {
     "name": "stderr",
     "output_type": "stream",
     "text": [
      "0it [00:00, ?it/s]"
     ]
    },
    {
     "name": "stdout",
     "output_type": "stream",
     "text": [
      "Simulation: 10/10 Sparsity: 5 Testing Fourier... Done! Test Error: 0.28417036831952885\n",
      "Simulation: 10/10 Sparsity: 5 Testing Edge Laplacian... Done! Test Error: 0.09513365869107165\n",
      "Simulation: 10/10 Sparsity: 5 Testing Hodge Laplacian... Done! Test Error: 0.04314452983016899\n"
     ]
    },
    {
     "name": "stderr",
     "output_type": "stream",
     "text": [
      "1it [00:30, 30.21s/it]"
     ]
    },
    {
     "name": "stdout",
     "output_type": "stream",
     "text": [
      "Simulation: 10/10 Sparsity: 5 Testing Separated Hodge Laplacian... Done! Test Error: 0.043771240775981025\n",
      "Simulation: 10/10 Sparsity: 9 Testing Fourier... Done! Test Error: 0.157919741014148\n",
      "Simulation: 10/10 Sparsity: 9 Testing Edge Laplacian... Done! Test Error: 0.04589851125742728\n",
      "Simulation: 10/10 Sparsity: 9 Testing Hodge Laplacian... Done! Test Error: 0.011407224017250401\n"
     ]
    },
    {
     "name": "stderr",
     "output_type": "stream",
     "text": [
      "2it [01:38, 52.33s/it]"
     ]
    },
    {
     "name": "stdout",
     "output_type": "stream",
     "text": [
      "Simulation: 10/10 Sparsity: 9 Testing Separated Hodge Laplacian... Done! Test Error: 0.010703926812139733\n",
      "Simulation: 10/10 Sparsity: 13 Testing Fourier... Done! Test Error: 0.09904659831729465\n",
      "Simulation: 10/10 Sparsity: 13 Testing Edge Laplacian... Done! Test Error: 0.02419057687342221\n",
      "Simulation: 10/10 Sparsity: 13 Testing Hodge Laplacian... Done! Test Error: 0.0061142689877638386\n"
     ]
    },
    {
     "name": "stderr",
     "output_type": "stream",
     "text": [
      "3it [03:47, 87.45s/it]"
     ]
    },
    {
     "name": "stdout",
     "output_type": "stream",
     "text": [
      "Simulation: 10/10 Sparsity: 13 Testing Separated Hodge Laplacian... Done! Test Error: 0.00466702602982557\n",
      "Simulation: 10/10 Sparsity: 17 Testing Fourier... Done! Test Error: 0.06554207693539786\n",
      "Simulation: 10/10 Sparsity: 17 Testing Edge Laplacian... Done! Test Error: 0.015766413197327633\n",
      "Simulation: 10/10 Sparsity: 17 Testing Hodge Laplacian... Done! Test Error: 0.004441546704883062\n"
     ]
    },
    {
     "name": "stderr",
     "output_type": "stream",
     "text": [
      "4it [06:35, 119.43s/it]"
     ]
    },
    {
     "name": "stdout",
     "output_type": "stream",
     "text": [
      "Simulation: 10/10 Sparsity: 17 Testing Separated Hodge Laplacian... Done! Test Error: 0.0033302182709456078\n",
      "Simulation: 10/10 Sparsity: 21 Testing Fourier... Done! Test Error: 0.04501709664736822\n",
      "Simulation: 10/10 Sparsity: 21 Testing Edge Laplacian... Done! Test Error: 0.012035491361497544\n",
      "Simulation: 10/10 Sparsity: 21 Testing Hodge Laplacian... Done! Test Error: 0.00353945262451513\n"
     ]
    },
    {
     "name": "stderr",
     "output_type": "stream",
     "text": [
      "5it [09:28, 138.81s/it]"
     ]
    },
    {
     "name": "stdout",
     "output_type": "stream",
     "text": [
      "Simulation: 10/10 Sparsity: 21 Testing Separated Hodge Laplacian... Done! Test Error: 0.0039883881065122225\n",
      "Simulation: 10/10 Sparsity: 25 Testing Fourier... Done! Test Error: 0.030759615059250747\n",
      "Simulation: 10/10 Sparsity: 25 Testing Edge Laplacian... Done! Test Error: 0.007574156667964397\n",
      "Simulation: 10/10 Sparsity: 25 Testing Hodge Laplacian... Done! Test Error: 0.002201697537963263\n"
     ]
    },
    {
     "name": "stderr",
     "output_type": "stream",
     "text": [
      "6it [14:38, 146.42s/it]"
     ]
    },
    {
     "name": "stdout",
     "output_type": "stream",
     "text": [
      "Simulation: 10/10 Sparsity: 25 Testing Separated Hodge Laplacian... Done! Test Error: 0.0029396472763116425\n"
     ]
    },
    {
     "name": "stderr",
     "output_type": "stream",
     "text": [
      "\n"
     ]
    }
   ],
   "source": [
    "import warnings\n",
    "\n",
    "warnings.filterwarnings('ignore')\n",
    "\n",
    "min_error_fou_train = np.zeros((n_sim, len(K0_coll)))\n",
    "min_error_fou_test = np.zeros((n_sim, len(K0_coll)))\n",
    "min_error_sep_train = np.zeros((n_sim, len(K0_coll)))\n",
    "min_error_sep_test = np.zeros((n_sim, len(K0_coll)))\n",
    "min_error_edge_train = np.zeros((n_sim, len(K0_coll)))\n",
    "min_error_edge_test = np.zeros((n_sim, len(K0_coll)))\n",
    "min_error_joint_train = np.zeros((n_sim, len(K0_coll)))\n",
    "min_error_joint_test = np.zeros((n_sim, len(K0_coll)))\n",
    "\n",
    "dict_errors = {\n",
    "    \"fou\": (min_error_fou_train,min_error_fou_test),\n",
    "    \"edge\": (min_error_edge_train,min_error_edge_test),\n",
    "    \"joint\": (min_error_joint_train,min_error_joint_test),\n",
    "    \"sep\": (min_error_sep_train,min_error_sep_test)\n",
    "    }\n",
    "\n",
    "\n",
    "dict_types = {\n",
    "    \"fou\": (\"Fourier\",\"fourier\"),\n",
    "    \"edge\": (\"Edge Laplacian\", \"edge_laplacian\"),\n",
    "    \"joint\": (\"Hodge Laplacian\",\"joint\"),\n",
    "    \"sep\": (\"Separated Hodge Laplacian\",\"separated\")\n",
    "    }\n",
    "\n",
    "for sim in range(n_sim):\n",
    "    c = c_true[sim]  \n",
    "    epsilon = epsilon_true[sim] \n",
    "    for k0_index, k0 in tqdm(enumerate(K0_coll)):\n",
    "        discard = 1\n",
    "        while discard == 1:\n",
    "            \n",
    "            try:\n",
    "                D0, X0, discard = initialize_dic(Lu, Ld, s, k, Y_train[:, :, sim], k0, dictionary_type, c, epsilon, \"only_X\")\n",
    "            except:\n",
    "                print(\"Initialization Failed!\")\n",
    "\n",
    "        for d in dict_types.items():\n",
    "            try:\n",
    "                dict_errors[d[0]][0][sim,k0_index], dict_errors[d[0]][1][sim,k0_index], _, _, _ = topological_dictionary_learn(Y_train[:,:,sim], Y_test[:,:,sim],\n",
    "                                                                                                                            k, n, s, D0, X0, Lu, Ld, d[1][1],\n",
    "                                                                                                                            c, epsilon, k0, lambda_, max_iter,\n",
    "                                                                                                                            patience, tol)\n",
    "                if verbose:\n",
    "                    print(f\"Simulation: {sim+1}/{n_sim} Sparsity: {k0} Testing {d[1][0]}... Done! Test Error: {dict_errors[d[0]][1][sim,k0_index]}\")\n",
    "            except:\n",
    "                print(f'Simulation: {sim+1}/{n_sim} Sparsity: {k0} Testing {d[1][0]}... Diverged!')\n",
    "                try:\n",
    "                    dict_errors[d[0]][0][sim,k0_index], dict_errors[d[0]][1][sim,k0_index] = (dict_errors[d[0]][0][sim-1,k0_index]\n",
    "                                                                                          , dict_errors[d[0]][1][sim-1,k0_index])\n",
    "                except:\n",
    "                    dict_errors[d[0]][0][sim,k0_index], dict_errors[d[0]][1][sim,k0_index] = (dict_errors[d[0]][0][sim+1,k0_index]\n",
    "                                                                                          , dict_errors[d[0]][1][sim+1,k0_index])\n"
   ]
  },
  {
   "cell_type": "markdown",
   "metadata": {},
   "source": [
    "#### Example of plotting and visualizing"
   ]
  },
  {
   "cell_type": "code",
   "execution_count": 3,
   "metadata": {},
   "outputs": [
    {
     "name": "stderr",
     "output_type": "stream",
     "text": [
      "C:\\Users\\engri\\AppData\\Local\\Temp\\ipykernel_1880\\871276220.py:19: UserWarning: The palette list has more values (10) than needed (4), which may not be intended.\n",
      "  my_plt = sns.lineplot(data=res_df, x='Sparsity', y='Error', hue='Method',\n",
      "c:\\Users\\engri\\Anaconda3\\lib\\site-packages\\seaborn\\_oldcore.py:1119: FutureWarning: use_inf_as_na option is deprecated and will be removed in a future version. Convert inf values to NaN before operating instead.\n",
      "  with pd.option_context('mode.use_inf_as_na', True):\n",
      "c:\\Users\\engri\\Anaconda3\\lib\\site-packages\\seaborn\\_oldcore.py:1119: FutureWarning: use_inf_as_na option is deprecated and will be removed in a future version. Convert inf values to NaN before operating instead.\n",
      "  with pd.option_context('mode.use_inf_as_na', True):\n"
     ]
    },
    {
     "data": {
      "image/png": "[encoded data removed]",
      "text/plain": [
       "<Figure size 1000x600 with 1 Axes>"
      ]
     },
     "metadata": {},
     "output_type": "display_data"
    }
   ],
   "source": [
    "import matplotlib.pyplot as plt\n",
    "import seaborn as sns\n",
    "\n",
    "TITLE = [dict_types[typ] for typ in dict_types.keys() if typ in dictionary_type][0]\n",
    "\n",
    "res_df = pd.DataFrame()\n",
    "dict_types = {\"fou\": \"Fourier\", \"edge\": \"Edge Laplacian\", \"joint\": \"Hodge Laplacian\", \"sep\": \"Separated Hodge Laplacian\"}\n",
    "\n",
    "for d in dict_types.items():\n",
    "    for sim in range(n_sim):\n",
    "        tmp_df = pd.DataFrame()   \n",
    "        tmp_df[\"Error\"] = eval(f'min_error_{d[0]}_test[sim,:]')\n",
    "        tmp_df[\"Sparsity\"] = K0_coll\n",
    "        tmp_df[\"Method\"] = d[1]\n",
    "        res_df = pd.concat([res_df, tmp_df])\n",
    "\n",
    "plt.figure(figsize=(10, 6))\n",
    "sns.set_style('whitegrid')\n",
    "my_plt = sns.lineplot(data=res_df, x='Sparsity', y='Error', hue='Method',\n",
    "                       palette=sns.color_palette(),\n",
    "                       markers=['>', '^', 'v', 'd'], dashes=False, style='Method')\n",
    "my_plt.set(yscale='log')\n",
    "my_plt.set_title(f'True dictionary: {TITLE}')\n",
    "my_plt.set_ylabel('Error (log scale)')\n",
    "plt.show()"
   ]
  },
  {
   "cell_type": "markdown",
   "metadata": {},
   "source": [
    "#### Example of saving variables, plot and workspace"
   ]
  },
  {
   "cell_type": "code",
   "execution_count": 4,
   "metadata": {},
   "outputs": [],
   "source": [
    "import pickle\n",
    "import os\n",
    "import dill\n",
    "\n",
    "save_var = {\"min_error_edge_test\":min_error_edge_test,\n",
    "            \"min_error_edge_train\":min_error_edge_train,\n",
    "            \"min_error_fou_test\":min_error_fou_test,\n",
    "            \"min_error_fou_train\":min_error_fou_train,\n",
    "            \"min_error_joint_test\":min_error_joint_test,\n",
    "            \"min_error_joint_train\":min_error_joint_train,\n",
    "            \"min_error_sep_test\":min_error_sep_test,\n",
    "            \"min_error_sep_train\":min_error_sep_train}\n",
    "\n",
    "PATH = os.getcwd()\n",
    "DIR_PATH = f'{PATH}\\\\results\\\\{dictionary_type}'\n",
    "FILENAME_ERR = f'{DIR_PATH}\\\\error.pkl'\n",
    "FILENAME_ENV = f'{DIR_PATH}\\\\ipynb_env.db'\n",
    "FILENAME_PLT = f'{DIR_PATH}\\\\plot.png'\n",
    "\n",
    "if not os.path.exists(DIR_PATH):\n",
    "    os.makedirs(DIR_PATH)\n",
    "    \n",
    "with open(FILENAME_ERR, 'wb') as f: \n",
    "    pickle.dump(save_var, f)\n",
    "f.close()\n",
    "\n",
    "dill.dump_session(FILENAME_ENV)\n",
    "\n",
    "fig = my_plt.get_figure()\n",
    "fig.savefig(FILENAME_PLT)"
   ]
  }
 ],
 "metadata": {
  "kernelspec": {
   "display_name": "base",
   "language": "python",
   "name": "python3"
  },
  "language_info": {
   "codemirror_mode": {
    "name": "ipython",
    "version": 3
   },
   "file_extension": ".py",
   "mimetype": "text/x-python",
   "name": "python",
   "nbconvert_exporter": "python",
   "pygments_lexer": "ipython3",
   "version": "3.9.17"
  }
 },
 "nbformat": 4,
 "nbformat_minor": 2
}
