{
 "cells": [
  {
   "cell_type": "code",
   "execution_count": 16,
   "metadata": {},
   "outputs": [],
   "source": [
    "from tsplearn import *\n",
    "import numpy as np \n",
    "import pandas as pd\n",
    "\n",
    "prob_T=0.8\n",
    "\n",
    "# Load the graph\n",
    "G = EnhancedGraph(n=40, p_edges=0.162, p_triangles=prob_T, seed=0)\n",
    "B1 = G.get_b1()\n",
    "B2 = G.get_b2()\n",
    "\n",
    "# Sub-sampling if needed to decrease complexity\n",
    "sub_size = 100\n",
    "B1 = B1[:, :sub_size]\n",
    "B2 = B2[:sub_size, :]\n",
    "B2 = B2[:,np.sum(np.abs(B2), 0) == 3]\n",
    "nu = B2.shape[1] # N2\n",
    "nd = B1.shape[1] # N1\n",
    "T = int(np.ceil(nu*(1-prob_T)))\n",
    "\n",
    "# Laplacians\n",
    "Lu, Ld, L = G.get_laplacians(sub_size=100)\n",
    "Lu_full = G.get_laplacians(sub_size=100, full=True)\n",
    "B2_true = B2@G.mask\n",
    "M =  L.shape[0]\n",
    "\n",
    "\n",
    "# Problem and Dictionary Dimensionalities\n",
    "dictionary_type=\"separated\"\n",
    "m_train = 150 # Number of Train Signals\n",
    "m_test = 80 # Number of Test Signal\n",
    "P = 3 # Number of Kernels (Sub-dictionaries)\n",
    "J = 2 # Polynomial order\n",
    "sparsity = .1 # Sparsity percentage\n",
    "K0_max = 20 #floor(M*sparsity) # Sparsity\n",
    "sparsity_mode = \"max\"\n",
    "n_search = 3000\n",
    "n_sim = 10\n",
    "\n",
    "# Data-Independent Problem Hyperparameters\n",
    "K0_coll = np.arange(5, 26, 4) \n",
    "max_iter = 100 \n",
    "patience = 5 \n",
    "tol = 1e-7 # tolerance for Patience\n",
    "lambda_ = 1e-7 # l2 multiplier\n",
    "verbose = True"
   ]
  },
  {
   "cell_type": "code",
   "execution_count": 43,
   "metadata": {},
   "outputs": [
    {
     "data": {
      "text/plain": [
       "49.0"
      ]
     },
     "execution_count": 43,
     "metadata": {},
     "output_type": "execute_result"
    }
   ],
   "source": [
    "G.mask.sum()"
   ]
  },
  {
   "cell_type": "code",
   "execution_count": 44,
   "metadata": {},
   "outputs": [
    {
     "data": {
      "text/plain": [
       "49"
      ]
     },
     "execution_count": 44,
     "metadata": {},
     "output_type": "execute_result"
    }
   ],
   "source": [
    "nu-T"
   ]
  },
  {
   "cell_type": "code",
   "execution_count": 15,
   "metadata": {},
   "outputs": [
    {
     "data": {
      "text/plain": [
       "True"
      ]
     },
     "execution_count": 15,
     "metadata": {},
     "output_type": "execute_result"
    }
   ],
   "source": [
    "np.all(B2_full == B2)"
   ]
  },
  {
   "cell_type": "code",
   "execution_count": 2,
   "metadata": {},
   "outputs": [],
   "source": [
    "gen_params={'dictionary_type':dictionary_type,\n",
    "        'm_train':m_train,\n",
    "        'm_test':m_test,\n",
    "        'P':P,\n",
    "        'M':M,\n",
    "        'J':J,\n",
    "        'sparsity':sparsity,\n",
    "        'K0_max':K0_max,\n",
    "        'sparsity_mode':sparsity_mode,\n",
    "        'n_search':n_search,\n",
    "        'n_sim':n_sim,\n",
    "        'prob_T':prob_T}"
   ]
  },
  {
   "cell_type": "code",
   "execution_count": 3,
   "metadata": {},
   "outputs": [],
   "source": [
    "load_data = generate_data(Lu, Ld, **gen_params)\n",
    "\n",
    "D_true = load_data['D_true']\n",
    "Y_train = load_data['Y_train']\n",
    "Y_test = load_data['Y_test']\n",
    "X_train = load_data['X_train']\n",
    "X_test = load_data['X_test']\n",
    "epsilon_true =  load_data['epsilon_true']\n",
    "c_true = load_data['c_true']"
   ]
  },
  {
   "cell_type": "markdown",
   "metadata": {},
   "source": [
    "# Class"
   ]
  },
  {
   "cell_type": "code",
   "execution_count": 37,
   "metadata": {},
   "outputs": [],
   "source": [
    "import scipy.linalg as sla\n",
    "import numpy as np\n",
    "import numpy.linalg as la\n",
    "import cvxpy as cp\n",
    "from tsplearn.tsp_generation import *\n",
    "from tsplearn.tsp_utils import *\n",
    "from tsplearn.tsp_hodgelet import *  # SeparateHodgelet, SimplicianSlepians\n",
    "from tsplearn.EnhancedGraph import EnhancedGraph\n",
    "from typing import Tuple, List, Union, Dict\n",
    "import pickle\n",
    "from functools import wraps\n",
    "from einops import rearrange\n",
    "\n",
    "def _indicator_matrix(row):\n",
    "    tmp = row.sigma.copy()\n",
    "    tmp[row.idx] = 0\n",
    "    return np.diag(tmp)\n",
    "\n",
    "\n",
    "def _indicator_matrix_rev(row):\n",
    "    tmp = row.sigma.copy()\n",
    "    tmp[row.idx] = 1\n",
    "    return np.diag(tmp)\n",
    "\n",
    "\n",
    "def _compute_Luj(row, b2, J):\n",
    "    Lu = b2 @ row.sigma @ b2.T\n",
    "    Luj = np.array([la.matrix_power(Lu, i) for i in range(1, J + 1)])\n",
    "    return Luj\n",
    "\n",
    "\n",
    "def _split_coeffs(h, s, k, sep=False):\n",
    "    h_tmp = h.value.flatten()\n",
    "    # hH = h_tmp[:s,].reshape((s,1))\n",
    "    # hS = h_tmp[s:s*(k+1),].reshape((s,k))\n",
    "    # hI = h_tmp[s*(k+1):,].reshape((s,k))\n",
    "    if sep:\n",
    "        hH = h_tmp[np.arange(0, (s * (2 * k + 1)), (2 * k + 1))].reshape((s, 1))\n",
    "        hS = h_tmp[\n",
    "            np.hstack([[i, i + 1] for i in range(1, (s * (2 * k + 1)), (2 * k + 1))])\n",
    "        ].reshape((s, k))\n",
    "        hI = h_tmp[\n",
    "            np.hstack(\n",
    "                [[i, i + 1] for i in range((k + 1), (s * (2 * k + 1)), (2 * k + 1))]\n",
    "            )\n",
    "        ].reshape((s, k))\n",
    "        return [hH, hS, hI]\n",
    "    hi = h_tmp[np.arange(0, (s * (k + 1)), (k + 1))].reshape((s, 1))\n",
    "    h = h_tmp[\n",
    "        np.hstack([[i, i + 1] for i in range(1, (s * (k + 1)), (k + 1))])\n",
    "    ].reshape((s, k))\n",
    "    return np.hstack([h, hi])\n",
    "\n",
    "\n",
    "def sparse_transform(D, K0, Y_te, Y_tr=None):\n",
    "\n",
    "    ep = np.finfo(float).eps  # to avoid some underflow problems\n",
    "    dd = la.norm(D, axis=0) + ep\n",
    "    W = np.diag(1.0 / dd)\n",
    "    Domp = D @ W\n",
    "    X_te = np.apply_along_axis(\n",
    "        lambda x: get_omp_coeff(K0, Domp=Domp, col=x), axis=0, arr=Y_te\n",
    "    )\n",
    "    # Normalization\n",
    "    X_te = W @ X_te\n",
    "\n",
    "    if np.all(Y_tr == None):\n",
    "\n",
    "        return X_te\n",
    "\n",
    "    # Same for the training set\n",
    "    X_tr = np.apply_along_axis(\n",
    "        lambda x: get_omp_coeff(K0, Domp=Domp, col=x), axis=0, arr=Y_tr\n",
    "    )\n",
    "    X_tr = W @ X_tr\n",
    "\n",
    "    return X_te, X_tr\n",
    "\n",
    "\n",
    "def compute_vandermonde(L, k):\n",
    "\n",
    "    def polynomial_exp(x, k):\n",
    "        x = x ** np.arange(0, k + 1)\n",
    "        return x\n",
    "\n",
    "    eigenvalues, _ = sla.eig(L)\n",
    "    idx = eigenvalues.argsort()\n",
    "    tmp_df = pd.DataFrame({\"Eigs\": eigenvalues[idx]})\n",
    "    tmp_df[\"Poly\"] = tmp_df[\"Eigs\"].apply(lambda x: polynomial_exp(x, k))\n",
    "    B = np.vstack(tmp_df[\"Poly\"].to_numpy())\n",
    "\n",
    "    return B\n",
    "\n",
    "\n",
    "def nmse(D, X, Y, m):\n",
    "    return (1 / m) * np.sum(la.norm(Y - (D @ X), axis=0) ** 2 / la.norm(Y, axis=0) ** 2)\n",
    "\n",
    "\n",
    "class TspSolver:\n",
    "\n",
    "    def __init__(self, X_train, X_test, Y_train, Y_test, *args, **kwargs):\n",
    "\n",
    "        params = {\n",
    "            \"P\": None,  # Number of Kernels (Sub-dictionaries)\n",
    "            \"J\": None,  # Polynomial order\n",
    "            \"K0\": None,  # Sparsity level\n",
    "            \"dictionary_type\": None,\n",
    "            \"c\": None,  # spectral control parameter\n",
    "            \"epsilon\": None,  # spectral control parameter\n",
    "            \"n\": 10,  # number of nodes\n",
    "            \"sub_size\": None,  # Number of sub-sampled nodes\n",
    "            \"true_prob_T\": 1.0,  # True ratio of colored triangles\n",
    "            \"prob_T\": 1.0, # The triangle probability with which we want to bias our topology\n",
    "            \"p_edges\": 1.0,  # Probability of edge existence\n",
    "            \"seed\": None,  ####\n",
    "            \"option\": \"One-shot-diffusion\",  ####\n",
    "            \"diff_order_sol\": 1,  ####\n",
    "            \"diff_order_irr\": 1,  ####\n",
    "            \"step_prog\": 1,  ####\n",
    "            \"top_k_slepians\": 2,  ####\n",
    "        }\n",
    "\n",
    "        self.testing_trace = {} ##################################################################\n",
    "\n",
    "        if args:\n",
    "            if len(args) != 1 or not isinstance(args[0], dict):\n",
    "                raise ValueError(\n",
    "                    \"When using positional arguments, must provide a single dictionary\"\n",
    "                )\n",
    "            params.update(args[0])\n",
    "\n",
    "        params.update(kwargs)\n",
    "\n",
    "        # Data\n",
    "        self.X_train: np.ndarray = X_train\n",
    "        self.X_test: np.ndarray = X_test\n",
    "        self.Y_train: np.ndarray = Y_train\n",
    "        self.Y_test: np.ndarray = Y_test\n",
    "        self.m_train: int = Y_train.shape[1]\n",
    "        self.m_test: int = Y_test.shape[1]\n",
    "\n",
    "        # Topology and geometry behind data (by default we consider a topology with full upper laplacian)\n",
    "        self.G = EnhancedGraph(\n",
    "            n=params[\"n\"],\n",
    "            p_edges=params[\"p_edges\"],\n",
    "            p_triangles=params[\"prob_T\"],\n",
    "            seed=params[\"seed\"],\n",
    "        )\n",
    "        # Incidence matrices\n",
    "        self.B1: np.ndarray = self.G.get_b1()\n",
    "        self.B2: np.ndarray = self.G.get_b2()\n",
    "\n",
    "        # Sub-sampling if needed to decrease complexity\n",
    "        if params[\"sub_size\"] != None:\n",
    "            self.B1 = self.B1[:, : params[\"sub_size\"]]\n",
    "            self.B2 = self.B2[: params[\"sub_size\"], :]\n",
    "            self.B2 = self.B2[:, np.sum(np.abs(self.B2), 0) == 3]\n",
    "\n",
    "        # Topology dimensions and hyperparameters\n",
    "        self.nu: int = self.B2.shape[1]\n",
    "        self.nd: int = self.B1.shape[1]\n",
    "        self.true_prob_T = params[\"true_prob_T\"]\n",
    "        self.T: int = int(np.ceil(self.nu * (1 - self.true_prob_T)))\n",
    "\n",
    "        # Laplacians according to the Hodge Theory for cell complexes\n",
    "        Lu, Ld, L = self.G.get_laplacians(sub_size=params[\"sub_size\"])\n",
    "        self.Lu: np.ndarray = Lu  # Upper Laplacian\n",
    "        self.Ld: np.ndarray = Ld  # Lower Laplacian\n",
    "        self.L: np.ndarray = L  # Sum Laplacian\n",
    "        self.M = L.shape[0]\n",
    "\n",
    "        # Dictionary hyperparameters\n",
    "        self.P = params[\"P\"]  # Number of sub-dicts\n",
    "        self.J = params[\"J\"]  # Polynomial order for the Hodge Laplacian\n",
    "        self.c = params[\"c\"]  # Hyperparameter for stability in frequency domain\n",
    "        self.epsilon = params[\n",
    "            \"epsilon\"\n",
    "        ]  # Hyperparameter for stability in frequency domain\n",
    "        self.K0 = params[\"K0\"]  # Assumed sparsity level\n",
    "        self.dictionary_type = params[\"dictionary_type\"]\n",
    "        # Init optimal values for sparse representations and overcomplete dictionary\n",
    "        self.D_opt: np.ndarray = np.zeros((self.M, self.M * self.P))\n",
    "        self.X_opt_train: np.ndarray = np.zeros(self.X_train.shape)\n",
    "        self.X_opt_test: np.ndarray = np.zeros(self.X_test.shape)\n",
    "        # Init the learning errors and error curve (history)\n",
    "        self.min_error_train = 1e20\n",
    "        self.min_error_test = 1e20\n",
    "        self.train_history: List[np.ndarray] = []\n",
    "        self.test_history: List[np.ndarray] = []\n",
    "        self.opt_upper = self.nu\n",
    "\n",
    "        ############################################################################################################\n",
    "        ##                                                                                                        ##\n",
    "        ##               This section is only for learnable (data-driven) dictionaries                            ##\n",
    "        ##                                                                                                        ##\n",
    "        ############################################################################################################\n",
    "\n",
    "        # Init the dictionary parameters according to the specific parameterization setup\n",
    "        if self.dictionary_type == \"separated\":\n",
    "            hs = np.zeros((self.P, self.J))\n",
    "            hi = np.zeros((self.P, self.J))\n",
    "            hh = np.zeros((self.P, 1))\n",
    "            self.h_opt: List[np.ndarray] = [hh, hs, hi]\n",
    "        else:\n",
    "            h = np.zeros((self.P, self.J))\n",
    "            hi = np.zeros((self.P, 1))\n",
    "            self.h_opt: List[np.ndarray] = [hi, h]\n",
    "\n",
    "        # Compute the polynomial extension for the Laplacians and the auxiliary\n",
    "        # \"pseudo-vandermonde\" matrix for the constraints in the quadratic form\n",
    "        if self.dictionary_type == \"joint\":\n",
    "            self.Lj, self.lambda_max_j, self.lambda_min_j = compute_Lj_and_lambdaj(\n",
    "                self.L, self.J\n",
    "            )\n",
    "            self.B = compute_vandermonde(self.L, self.J).real\n",
    "        elif self.dictionary_type == \"edge_laplacian\":\n",
    "            self.Lj, self.lambda_max_j, self.lambda_min_j = compute_Lj_and_lambdaj(\n",
    "                self.Ld, self.J\n",
    "            )\n",
    "            self.B = compute_vandermonde(self.Ld, self.J).real\n",
    "        elif self.dictionary_type == \"separated\":\n",
    "            self.Luj, self.lambda_max_u_j, self.lambda_min_u_j = compute_Lj_and_lambdaj(\n",
    "                self.Lu, self.J, separated=True\n",
    "            )\n",
    "            self.Ldj, self.lambda_max_d_j, self.lambda_min_d_j = compute_Lj_and_lambdaj(\n",
    "                self.Ld, self.J, separated=True\n",
    "            )\n",
    "            self.Bu = compute_vandermonde(self.Lu, self.J).real\n",
    "            self.Bd = compute_vandermonde(self.Ld, self.J)[:, 1:].real\n",
    "            self.B = np.hstack([self.Bu, self.Bd])\n",
    "\n",
    "        # Auxiliary matrix to define quadratic form dor the dictionary learning step\n",
    "        self.P_aux: np.ndarray = None\n",
    "        # Flag variable: the dictionary is learnable or analytic\n",
    "        self.dict_is_learnable = self.dictionary_type in [\n",
    "            \"separated\",\n",
    "            \"joint\",\n",
    "            \"edge_laplacian\",\n",
    "        ]\n",
    "\n",
    "        # Auxiliary tools for the Slepians-based dictionary setup\n",
    "        if self.dictionary_type == \"slepians\":\n",
    "            self.option = params[\"option\"]\n",
    "            self.diff_order_sol = params[\"diff_order_sol\"]\n",
    "            self.step_prog = params[\"step_prog\"]\n",
    "            self.diff_order_irr = params[\"diff_order_irr\"]\n",
    "            self.source_sol = np.ones((self.nd,))\n",
    "            self.source_irr = np.ones((self.nd,))\n",
    "            self.top_K_slepians = params[\"top_k_slepians\"]\n",
    "            self.spars_level = list(range(10, 80, 10))\n",
    "            # Remember that this part should be updated if B2 or Lu are updated!\n",
    "            self.F_sol, self.F_irr = get_frequency_mask(\n",
    "                self.B1, self.B2\n",
    "            )  # Get frequency bands\n",
    "            self.S_neigh, self.complete_coverage = cluster_on_neigh(\n",
    "                self.B1,\n",
    "                self.B2,\n",
    "                self.diff_order_sol,\n",
    "                self.diff_order_irr,\n",
    "                self.source_sol,\n",
    "                self.source_irr,\n",
    "                self.option,\n",
    "                self.step_prog,\n",
    "            )\n",
    "            self.R = [self.F_sol, self.F_irr]\n",
    "            self.S = self.S_neigh\n",
    "\n",
    "        # Auxiliary tools for the Wavelet-based dictionary setup\n",
    "        elif self.dictionary_type == \"wavelet\":\n",
    "            # Remember that this part should be updated if B2 or Lu are updated!\n",
    "            self.w1 = np.linalg.eigvalsh(self.Lu)\n",
    "            self.w2 = np.linalg.eigvalsh(self.Ld)\n",
    "\n",
    "    def update_Lu(self, Lu_new):\n",
    "        self.Lu = Lu_new\n",
    "        self.Luj, self.lambda_max_u_j, self.lambda_min_u_j = compute_Lj_and_lambdaj(\n",
    "            self.Lu, self.J, separated=True\n",
    "        )\n",
    "        self.Bu = compute_vandermonde(self.Lu, self.J).real\n",
    "        self.B = np.hstack([self.Bu, self.Bd])\n",
    "\n",
    "    @staticmethod\n",
    "    def _multiplier_search(*arrays, P, c, epsilon):\n",
    "        is_okay = 0\n",
    "        mult = 100\n",
    "        tries = 0\n",
    "        while is_okay == 0:\n",
    "            is_okay = 1\n",
    "            h, c_try, _, tmp_sum_min, tmp_sum_max = generate_coeffs(\n",
    "                arrays, P=P, mult=mult\n",
    "            )\n",
    "            if c_try <= c:\n",
    "                is_okay *= 1\n",
    "            if tmp_sum_min > c - epsilon:\n",
    "                is_okay *= 1\n",
    "                incr_mult = 0\n",
    "            else:\n",
    "                is_okay = is_okay * 0\n",
    "                incr_mult = 1\n",
    "            if tmp_sum_max < c + epsilon:\n",
    "                is_okay *= 1\n",
    "                decr_mult = 0\n",
    "            else:\n",
    "                is_okay *= 0\n",
    "                decr_mult = 1\n",
    "            if is_okay == 0:\n",
    "                tries += 1\n",
    "            if tries > 3:\n",
    "                discard = 1\n",
    "                break\n",
    "            if incr_mult == 1:\n",
    "                mult *= 2\n",
    "            if decr_mult == 1:\n",
    "                mult /= 2\n",
    "        return h, discard\n",
    "\n",
    "    def init_dict(\n",
    "        self, h_prior: np.ndarray = None, mode: str = \"only_X\"\n",
    "    ) -> Tuple[np.ndarray, np.ndarray]:\n",
    "        \"\"\"\n",
    "        Initialize the dictionary and the signal sparse representation for the alternating\n",
    "        optimization algorithm.\n",
    "\n",
    "        Args:\n",
    "            Lu (np.ndarray): Upper Laplacian matrix\n",
    "            Ld (np.ndarray): Lower Laplacian matrix\n",
    "            P (int): Number of kernels (sub-dictionaries).\n",
    "            J (int): Max order of the polynomial for the single sub-dictionary.\n",
    "            Y_train (np.ndarray): Training data.\n",
    "            K0 (int): Sparsity of the signal representation.\n",
    "            dictionary_type (str): Type of dictionary.\n",
    "            c (float): Boundary constant from the synthetic data generation process.\n",
    "            epsilon (float): Boundary constant from the synthetic data generation process.\n",
    "            only (str): Type of initialization. Can be one of: \"only_X\", \"all\", \"only_D\".\n",
    "\n",
    "        Returns:\n",
    "            Tuple[np.ndarray, np.ndarray, bool]: Initialized dictionary, initialized sparse representation, and discard flag value.\n",
    "        \"\"\"\n",
    "\n",
    "        # If no prior info on the dictionary\n",
    "        if np.all(h_prior == None):\n",
    "\n",
    "            # Init Dictionary\n",
    "            if mode in [\"all\", \"only_D\"]:\n",
    "\n",
    "                discard = 1\n",
    "                while discard == 1:\n",
    "\n",
    "                    if self.dictionary_type != \"separated\":\n",
    "                        h_prior, discard = self._multiplier_search(\n",
    "                            self.lambda_max_j,\n",
    "                            self.lambda_min_j,\n",
    "                            P=self.P,\n",
    "                            c=self.c,\n",
    "                            epsilon=self.epsilon,\n",
    "                        )\n",
    "                        self.D_opt = generate_dictionary(h_prior, self.P, self.Lj)\n",
    "\n",
    "                    else:\n",
    "                        h_prior, discard = self._multiplier_search(\n",
    "                            self.lambda_max_d_j,\n",
    "                            self.lambda_min_d_j,\n",
    "                            self.lambda_max_u_j,\n",
    "                            self.lambda_min_u_j,\n",
    "                            P=self.P,\n",
    "                            c=self.c,\n",
    "                            epsilon=self.epsilon,\n",
    "                        )\n",
    "                        self.D_opt = generate_dictionary(\n",
    "                            h_prior, self.P, self.Luj, self.Ldj\n",
    "                        )\n",
    "\n",
    "            # Init Sparse Representations\n",
    "            if mode in [\"all\", \"only_X\"]:\n",
    "\n",
    "                L = self.Ld if self.dictionary_type == \"edge_laplacian\" else self.L\n",
    "                _, Dx = sla.eig(L)\n",
    "                dd = la.norm(Dx, axis=0)\n",
    "                W = np.diag(1.0 / dd)\n",
    "                Dx = Dx / la.norm(Dx)\n",
    "                Domp = Dx @ W\n",
    "                X = np.apply_along_axis(\n",
    "                    lambda x: get_omp_coeff(self.K0, Domp.real, x),\n",
    "                    axis=0,\n",
    "                    arr=self.Y_train,\n",
    "                )\n",
    "                X = np.tile(X, (self.P, 1))\n",
    "                self.X_opt_train = X\n",
    "\n",
    "        # Otherwise use prior info about the dictionary to initialize both the dictionary and the sparse representation\n",
    "        else:\n",
    "\n",
    "            self.h_opt = h_prior\n",
    "\n",
    "            if self.dictionary_type == \"separated\":\n",
    "                self.D_opt = generate_dictionary(h_prior, self.P, self.Luj, self.Ldj)\n",
    "                self.X_opt_train = sparse_transform(self.D_opt, self.K0, self.Y_train)\n",
    "            else:\n",
    "                self.D_opt = generate_dictionary(h_prior, self.P, self.Lj)\n",
    "                self.X_opt_train = sparse_transform(self.D_opt, self.K0, self.Y_train)\n",
    "\n",
    "\n",
    "    def topological_dictionary_learn(\n",
    "        self,\n",
    "        lambda_: float = 1e-3,\n",
    "        max_iter: int = 10,\n",
    "        patience: int = 10,\n",
    "        tol: float = 1e-7,\n",
    "        step_h: float = 1.0,\n",
    "        step_x: float = 1.0,\n",
    "        solver: str = \"MOSEK\",\n",
    "        verbose: bool = False,\n",
    "    ) -> Tuple[np.ndarray, np.ndarray, List[float]]:\n",
    "        \"\"\"\n",
    "        Dictionary learning algorithm implementation for sparse representations of a signal on complex regular cellular.\n",
    "        The algorithm consists of an iterative alternating optimization procedure defined in two steps: the positive semi-definite programming step\n",
    "        for obtaining the coefficients and dictionary based on Hodge theory, and the Orthogonal Matching Pursuit step for constructing\n",
    "        the K0-sparse solution from the dictionary found in the previous step, which best approximates the original signal.\n",
    "        Args:\n",
    "            Y_train (np.ndarray): Training data.\n",
    "            Y_test (np.ndarray): Testing data.\n",
    "            J (int): Max order of the polynomial for the single sub-dictionary.\n",
    "            M (int): Number of data points (number of nodes in the data graph).\n",
    "            P (int): Number of kernels (sub-dictionaries).\n",
    "            D0 (np.ndarray): Initial dictionary.\n",
    "            X0 (np.ndarray): Initial sparse representation.\n",
    "            Lu (np.ndarray): Upper Laplacian matrix\n",
    "            Ld (np.ndarray): Lower Laplacian matrix\n",
    "            dictionary_type (str): Type of dictionary.\n",
    "            c (float): Boundary constant from the synthetic data generation process.\n",
    "            epsilon (float): Boundary constant from the synthetic data generation process.\n",
    "            K0 (int): Sparsity of the signal representation.\n",
    "            lambda_ (float, optional): Regularization parameter. Defaults to 1e-3.\n",
    "            max_iter (int, optional): Maximum number of iterations. Defaults to 10.\n",
    "            patience (int, optional): Patience for early stopping. Defaults to 10.\n",
    "            tol (float, optional): Tolerance value. Defaults to 1e-s.\n",
    "            verbose (int, optional): Verbosity level. Defaults to 0.\n",
    "\n",
    "        Returns:\n",
    "            Tuple[np.ndarray, np.ndarray, np.ndarray, np.ndarray, np.ndarray]:\n",
    "            minimum training error, minimum testing error, optimal coefficients, optimal testing sparse representation, and optimal training sparse representation.\n",
    "        \"\"\"\n",
    "\n",
    "        # Define hyperparameters\n",
    "        iter_, pat_iter = 1, 0\n",
    "        train_hist = []\n",
    "        test_hist = []\n",
    "\n",
    "        if self.dict_is_learnalbe:\n",
    "\n",
    "            # Init the dictionary and the sparse representation\n",
    "            D_coll = [\n",
    "                cp.Constant(self.D_opt[:, (self.M * i) : (self.M * (i + 1))])\n",
    "                for i in range(self.P)\n",
    "            ]\n",
    "            Dsum = cp.Constant(np.zeros((self.M, self.M)))\n",
    "            h_opt = self.h_opt\n",
    "            Y = cp.Constant(self.Y_train)\n",
    "            X_tr = self.X_opt_train\n",
    "            X_te = self.X_opt_test\n",
    "            I = cp.Constant(np.eye(self.M))\n",
    "\n",
    "            while pat_iter < patience and iter_ <= max_iter:\n",
    "\n",
    "                # SDP Step\n",
    "                X = cp.Constant(X_tr)\n",
    "                if iter_ != 1:\n",
    "                    D_coll = [\n",
    "                        cp.Constant(D[:, (self.M * i) : (self.M * (i + 1))])\n",
    "                        for i in range(self.P)\n",
    "                    ]\n",
    "                    Dsum = cp.Constant(np.zeros((self.M, self.M)))\n",
    "\n",
    "                # Define the objective function\n",
    "                if self.dictionary_type in [\"joint\", \"edge_laplacian\"]:\n",
    "                    # Init the variables\n",
    "                    h = cp.Variable((self.P, self.J))\n",
    "                    hI = cp.Variable((self.P, 1))\n",
    "                    h.value, hI.value = h_opt\n",
    "                    for i in range(0, self.P):\n",
    "                        tmp = cp.Constant(np.zeros((self.M, self.M)))\n",
    "                        for j in range(0, self.J):\n",
    "                            tmp += cp.Constant(self.Lj[j, :, :]) * h[i, j]\n",
    "                        tmp += I * hI[i]\n",
    "                        D_coll[i] = tmp\n",
    "                        Dsum += tmp\n",
    "                    D = cp.hstack([D_coll[i] for i in range(self.P)])\n",
    "                    term1 = cp.square(cp.norm((Y - D @ X), \"fro\"))\n",
    "                    term2 = cp.square(cp.norm(h, \"fro\") * lambda_)\n",
    "                    term3 = cp.square(cp.norm(hI, \"fro\") * lambda_)\n",
    "                    obj = cp.Minimize(term1 + term2 + term3)\n",
    "\n",
    "                else:\n",
    "                    # Init the variables\n",
    "                    hI = cp.Variable((self.P, self.J))\n",
    "                    hS = cp.Variable((self.P, self.J))\n",
    "                    hH = cp.Variable((self.P, 1))\n",
    "                    hH.value, hS.value, hI.value = h_opt\n",
    "                    for i in range(0, self.P):\n",
    "                        tmp = cp.Constant(np.zeros((self.M, self.M)))\n",
    "                        for j in range(0, self.J):\n",
    "                            tmp += (cp.Constant(self.Luj[j, :, :]) * hS[i, j]) + (\n",
    "                                cp.Constant(self.Ldj[j, :, :]) * hI[i, j]\n",
    "                            )\n",
    "                        tmp += I * hH[i]\n",
    "                        D_coll[i] = tmp\n",
    "                        Dsum += tmp\n",
    "                    D = cp.hstack([D_coll[i] for i in range(self.P)])\n",
    "\n",
    "                    term1 = cp.square(cp.norm((Y - D @ X), \"fro\"))\n",
    "                    term2 = cp.square(cp.norm(hI, \"fro\") * lambda_)\n",
    "                    term3 = cp.square(cp.norm(hS, \"fro\") * lambda_)\n",
    "                    term4 = cp.square(cp.norm(hH, \"fro\") * lambda_)\n",
    "                    obj = cp.Minimize(term1 + term2 + term3 + term4)\n",
    "\n",
    "                # Define the constraints\n",
    "                constraints = (\n",
    "                    [D_coll[i] >> 0 for i in range(self.P)]\n",
    "                    + [(cp.multiply(self.c, I) - D_coll[i]) >> 0 for i in range(self.P)]\n",
    "                    + [\n",
    "                        (Dsum - cp.multiply((self.c - self.epsilon), I)) >> 0,\n",
    "                        (cp.multiply((self.c + self.epsilon), I) - Dsum) >> 0,\n",
    "                    ]\n",
    "                )\n",
    "\n",
    "                prob = cp.Problem(obj, constraints)\n",
    "                prob.solve(solver=eval(f\"cp.{solver}\"), verbose=False)\n",
    "\n",
    "                # Dictionary Update\n",
    "                D = D.value\n",
    "                if self.dictionary_type in [\"joint\", \"edge_laplacian\"]:\n",
    "                    h_opt = [\n",
    "                        h_opt[0] + step_h * (h.value - h_opt[0]),\n",
    "                        h_opt[1] + step_h * (hI.value - h_opt[1]),\n",
    "                    ]\n",
    "                else:\n",
    "                    h_opt = [\n",
    "                        h_opt[0] + step_h * (hH.value - h_opt[0]),\n",
    "                        h_opt[1] + step_h * (hS.value - h_opt[1]),\n",
    "                        h_opt[2] + step_h * (hI.value - h_opt[2]),\n",
    "                    ]\n",
    "\n",
    "                # OMP Step\n",
    "                X_te_tmp, X_tr_tmp = sparse_transform(\n",
    "                    D, self.K0, self.Y_test, self.Y_train\n",
    "                )\n",
    "                # Sparse Representation Update\n",
    "                X_tr = X_tr + step_x * (X_tr_tmp - X_tr)\n",
    "                X_te = X_te + step_x * (X_te_tmp - X_te)\n",
    "\n",
    "                # Error Update\n",
    "                error_train = nmse(D, X_tr, self.Y_train, self.m_train)\n",
    "                error_test = nmse(D, X_te, self.Y_test, self.m_test)\n",
    "                train_hist.append(error_train)\n",
    "                test_hist.append(error_test)\n",
    "\n",
    "\n",
    "                # Error Storing\n",
    "                if (\n",
    "                    (error_train < self.min_error_train)\n",
    "                    and (abs(error_train) > np.finfo(float).eps)\n",
    "                    and (abs(error_train - self.min_error_train) > tol)\n",
    "                ):\n",
    "                    self.X_opt_train = X_tr\n",
    "                    self.min_error_train = error_train\n",
    "\n",
    "                if (\n",
    "                    (error_test < self.min_error_test)\n",
    "                    and (abs(error_test) > np.finfo(float).eps)\n",
    "                    and (abs(error_test - self.min_error_test) > tol)\n",
    "                ):\n",
    "                    self.h_opt = h_opt\n",
    "                    self.D_opt = D\n",
    "                    self.X_opt_test = X_te\n",
    "                    self.min_error_test = error_test\n",
    "                    pat_iter = 0\n",
    "\n",
    "                    if verbose == 1:\n",
    "                        print(\"New Best Test Error:\", self.min_error_test)\n",
    "                else:\n",
    "                    pat_iter += 1\n",
    "\n",
    "                iter_ += 1\n",
    "\n",
    "        else:\n",
    "\n",
    "            # Fourier Dictionary Benchmark\n",
    "            _, self.D_opt = sla.eigh(self.L)\n",
    "            self.X_opt_test, self.X_opt_train = sparse_transform(\n",
    "                self.D_opt, self.K0, self.Y_test, self.Y_train\n",
    "            )\n",
    "\n",
    "            # Error Updating\n",
    "            self.min_error_train = nmse(\n",
    "                self.D_opt, self.X_opt_train, self.Y_train, self.m_train\n",
    "            )\n",
    "            self.min_error_test = nmse(\n",
    "                self.D_opt, self.X_opt_test, self.Y_test, self.m_test\n",
    "            )\n",
    "\n",
    "            train_hist.append(error_train)\n",
    "            test_hist.append(error_test)\n",
    "\n",
    "        return self.min_error_test, self.min_error_train, train_hist, test_hist\n",
    "    \n",
    "\n",
    "    def _aux_matrix_update(self, X):\n",
    "\n",
    "        I = [np.eye(self.M)]\n",
    "        if self.dictionary_type == \"separated\":\n",
    "            LLu = [lu for lu in self.Luj]\n",
    "            LLd = [ld for ld in self.Ldj]\n",
    "            LL = np.array(I + LLu + LLd)\n",
    "        else:\n",
    "            LL = [l for l in self.Lj]\n",
    "            LL = np.array(I + LL)\n",
    "\n",
    "        P_aux = np.array(\n",
    "            [LL @ X[(i * self.M) : ((i + 1) * self.M), :] for i in range(self.P)]\n",
    "        )\n",
    "        self.P_aux = rearrange(P_aux, \"b h w c -> (b h) w c\")\n",
    "\n",
    "    def topological_dictionary_learn_qp(\n",
    "        self,\n",
    "        lambda_: float = 1e-3,\n",
    "        max_iter: int = 10,\n",
    "        patience: int = 10,\n",
    "        tol: float = 1e-7,\n",
    "        solver: str = \"GUROBI\",\n",
    "        step_h: float = 1.0,\n",
    "        step_x: float = 1.0,\n",
    "        verbose: bool = False,\n",
    "    ) -> Tuple[np.ndarray, np.ndarray, List[float]]:\n",
    "\n",
    "        # Define hyperparameters\n",
    "        iter_, pat_iter = 1, 0\n",
    "        train_hist = []\n",
    "        test_hist = []\n",
    "\n",
    "        # Learnable Dictionary -> alternating-direction optimization algorithm\n",
    "        if self.dict_is_learnable:\n",
    "\n",
    "            # Init the the sparse representation\n",
    "            h_opt = np.hstack([h.flatten() for h in self.h_opt]).reshape(-1, 1)\n",
    "            X_tr = self.X_opt_train\n",
    "            X_te = self.X_opt_test\n",
    "            f = 2 if self.dictionary_type == \"separated\" else 1\n",
    "            reg = lambda_ * np.eye(self.P * (f * self.J + 1))\n",
    "            I_s = cp.Constant(np.eye(self.P))\n",
    "            i_s = cp.Constant(np.ones((self.P, 1)))\n",
    "            B = cp.Constant(self.B)\n",
    "\n",
    "            while pat_iter < patience and iter_ <= max_iter:\n",
    "\n",
    "                # Init variables and parameters\n",
    "                h = cp.Variable((self.P * (f * self.J + 1), 1))\n",
    "                self._aux_matrix_update(X_tr)\n",
    "                h.value = h_opt\n",
    "\n",
    "                Q = cp.Constant(\n",
    "                    np.einsum(\"imn, lmn -> il\", self.P_aux, self.P_aux) + reg\n",
    "                )\n",
    "                l = cp.Constant(np.einsum(\"mn, imn -> i\", self.Y_train, self.P_aux))\n",
    "\n",
    "                # Quadratic term\n",
    "                term2 = cp.quad_form(h, Q, assume_PSD=True)\n",
    "                # Linear term\n",
    "                term1 = l @ h\n",
    "                term1 = cp.multiply(-2, term1)[0]\n",
    "\n",
    "                obj = cp.Minimize(term2 + term1)\n",
    "\n",
    "                # Define the constraints\n",
    "                cons1 = cp.kron(I_s, B) @ h\n",
    "                cons2 = cp.kron(i_s.T, B) @ h\n",
    "                constraints = (\n",
    "                    [cons1 >= 0]\n",
    "                    + [cons1 <= self.c]\n",
    "                    + [cons2 >= (self.c - self.epsilon)]\n",
    "                    + [cons2 <= (self.c + self.epsilon)]\n",
    "                )\n",
    "\n",
    "                prob = cp.Problem(obj, constraints)\n",
    "                prob.solve(solver=eval(f\"cp.{solver}\"), verbose=False)\n",
    "\n",
    "                # Update the dictionary\n",
    "\n",
    "                if self.dictionary_type in [\"joint\", \"edge_laplacian\"]:\n",
    "                    h_tmp = _split_coeffs(h, self.P, self.J)\n",
    "                    # print(h_tmp.shape)\n",
    "                    # h_tmp = h.value.reshape(self.P, self.J+1)\n",
    "                    D = generate_dictionary(h_tmp, self.P, self.Lj)\n",
    "                    h_opt = h_opt + step_h * (h.value - h_opt)\n",
    "                else:\n",
    "\n",
    "                    h_list = _split_coeffs(h, self.P, self.J, sep=True)\n",
    "                    D = generate_dictionary(h_list, self.P, self.Luj, self.Ldj)\n",
    "                    h_opt = h_opt + step_h * (h.value - h_opt)\n",
    "\n",
    "                # OMP Step\n",
    "                X_te_tmp, X_tr_tmp = sparse_transform(\n",
    "                    D, self.K0, self.Y_test, self.Y_train\n",
    "                )\n",
    "                # Sparse Representation Update\n",
    "                X_tr = X_tr + step_x * (X_tr_tmp - X_tr)\n",
    "                X_te = X_te + step_x * (X_te_tmp - X_te)\n",
    "\n",
    "                # Error Update\n",
    "                error_train = nmse(D, X_tr, self.Y_train, self.m_train)\n",
    "                error_test = nmse(D, X_te, self.Y_test, self.m_test)\n",
    "\n",
    "                train_hist.append(error_train)\n",
    "                test_hist.append(error_test)\n",
    "\n",
    "                # Error Storing\n",
    "                if (\n",
    "                    (error_train < self.min_error_train)\n",
    "                    and (abs(error_train) > np.finfo(float).eps)\n",
    "                    and (abs(error_train - self.min_error_train) > tol)\n",
    "                ):\n",
    "                    self.X_opt_train = X_tr\n",
    "                    self.min_error_train = error_train\n",
    "\n",
    "                if (\n",
    "                    (error_test < self.min_error_test)\n",
    "                    and (abs(error_test) > np.finfo(float).eps)\n",
    "                    and (abs(error_test - self.min_error_test) > tol)\n",
    "                ):\n",
    "                    self.h_opt = (\n",
    "                        h_list if self.dictionary_type == \"separated\" else h_opt\n",
    "                    )\n",
    "                    self.D_opt = D\n",
    "                    self.X_opt_test = X_te\n",
    "                    self.min_error_test = error_test\n",
    "                    pat_iter = 0\n",
    "\n",
    "                    if verbose == 1:\n",
    "                        print(\"New Best Test Error:\", self.min_error_test)\n",
    "                else:\n",
    "                    pat_iter += 1\n",
    "\n",
    "                iter_ += 1\n",
    "\n",
    "        # Analytic Dictionary -> directly go to OMP step\n",
    "        else:\n",
    "\n",
    "            if self.dictionary_type == \"fourier\":\n",
    "                # Fourier Dictionary Benchmark\n",
    "                _, self.D_opt = sla.eigh(self.L)\n",
    "\n",
    "            elif self.dictionary_type == \"slepians\":\n",
    "                SS = SimplicianSlepians(\n",
    "                    self.B1,\n",
    "                    self.B2,\n",
    "                    self.S,\n",
    "                    self.R,\n",
    "                    verbose=False,\n",
    "                    top_K=self.top_K_slepians,\n",
    "                )\n",
    "                self.D_opt = SS.atoms_flat\n",
    "\n",
    "            elif self.dictionary_type == \"wavelet\":\n",
    "                SH = SeparateHodgelet(\n",
    "                    self.B1,\n",
    "                    self.B2,\n",
    "                    *log_wavelet_kernels_gen(3, 4, np.log(np.max(self.w1))),\n",
    "                    *log_wavelet_kernels_gen(3, 4, np.log(np.max(self.w2))),\n",
    "                )\n",
    "                self.D_opt = SH.atoms_flat\n",
    "                # print(self.D_opt.shape)\n",
    "\n",
    "            # OMP\n",
    "            self.X_opt_test, self.X_opt_train = sparse_transform(\n",
    "                self.D_opt, self.K0, self.Y_test, self.Y_train\n",
    "            )\n",
    "            # Error Updating\n",
    "            self.min_error_train = nmse(\n",
    "                self.D_opt, self.X_opt_train, self.Y_train, self.m_train\n",
    "            )\n",
    "            self.min_error_test = nmse(\n",
    "                self.D_opt, self.X_opt_test, self.Y_test, self.m_test\n",
    "            )\n",
    "            \n",
    "            train_hist.append(self.min_error_train)\n",
    "            test_hist.append(self.min_error_test)\n",
    "\n",
    "        return self.min_error_test, self.min_error_train, train_hist, test_hist\n",
    "\n",
    "    def learn_upper_laplacian(\n",
    "        self,\n",
    "        Lu_new: np.ndarray = None,\n",
    "        filter: np.ndarray = 1,\n",
    "        lambda_: float = 1e-3,\n",
    "        max_iter: int = 10,\n",
    "        patience: int = 10,\n",
    "        tol: float = 1e-7,\n",
    "        step_h: float = 1.0,\n",
    "        step_x: float = 1.0,\n",
    "        mode: str = \"optimistic\",\n",
    "        verbose: bool = False,\n",
    "        warmup: int = 0,\n",
    "        QP=False\n",
    "    ):\n",
    "\n",
    "        assert step_h < 1 or step_h > 0, \"You must provide a step-size between 0 and 1.\"\n",
    "        assert step_x < 1 or step_x > 0, \"You must provide a step-size between 0 and 1.\"\n",
    "        assert (mode == \"optimistic\") or (mode == \"pessimistic\"), f'{mode} is not a legal mode: \"optimistic\" or \"pessimistic\" are the only ones allowed.'\n",
    "\n",
    "        # Check if we are executing the first recursive iteration\n",
    "        if np.all(Lu_new == None):\n",
    "            T = self.B2.shape[1]\n",
    "            if mode == \"optimistic\":\n",
    "                self.opt_upper = self.nu\n",
    "                filter = np.ones(T)\n",
    "                self.warmup = 0\n",
    "            elif mode == \"pessimistic\":\n",
    "                self.opt_upper = 0\n",
    "                filter = np.zeros(T)\n",
    "                self.update_Lu(np.zeros(self.Lu.shape))  # start with an \"empty\" upper Laplacian\n",
    "                self.warmup = warmup\n",
    "        else:\n",
    "            self.update_Lu(Lu_new)\n",
    "\n",
    "        if QP:\n",
    "            _, _, train_hist, test_hist = self.topological_dictionary_learn_qp(\n",
    "                lambda_=lambda_,\n",
    "                max_iter=max_iter,\n",
    "                patience=patience,\n",
    "                tol=tol,\n",
    "                step_h=step_h,\n",
    "                step_x=step_x,\n",
    "                solver=\"GUROBI\",\n",
    "            )\n",
    "        else:\n",
    "            _, _, train_hist, test_hist = self.topological_dictionary_learn(\n",
    "                lambda_=lambda_,\n",
    "                max_iter=max_iter,\n",
    "                patience=patience,\n",
    "                tol=tol,\n",
    "                step_h=step_h,\n",
    "                step_x=step_x,\n",
    "            )\n",
    "\n",
    "        self.train_history.append(train_hist)\n",
    "        self.test_history.append(test_hist)\n",
    "\n",
    "        search_space = (\n",
    "            np.where(filter == 1) if mode == \"optimistic\" else np.where(filter == 0)\n",
    "        )\n",
    "        sigmas = pd.DataFrame({\"idx\": search_space[0]})\n",
    "\n",
    "        sigmas[\"sigma\"] = sigmas.idx.apply(lambda _: filter)\n",
    "        if mode == \"optimistic\":\n",
    "            sigmas[\"sigma\"] = sigmas.apply(lambda x: _indicator_matrix(x), axis=1)\n",
    "        else:\n",
    "            sigmas[\"sigma\"] = sigmas.apply(lambda x: _indicator_matrix_rev(x), axis=1)\n",
    "        sigmas[\"Luj\"] = sigmas.apply(lambda x: _compute_Luj(x, self.B2, self.J), axis=1)\n",
    "        sigmas[\"D\"] = sigmas.apply(\n",
    "            lambda x: generate_dictionary(self.h_opt, self.P, x.Luj, self.Ldj), axis=1\n",
    "        )\n",
    "        sigmas[\"X\"] = sigmas.D.apply(\n",
    "            lambda x: sparse_transform(x, self.K0, self.Y_train)\n",
    "        )\n",
    "        sigmas[\"NMSE\"] = sigmas.apply(\n",
    "            lambda x: nmse(x.D, x.X, self.Y_train, self.m_train), axis=1\n",
    "        )\n",
    "\n",
    "        if self.warmup > 0:\n",
    "            candidate_error = sigmas.NMSE.min() - np.finfo(float).eps\n",
    "            self.warmup -= 1\n",
    "        else:\n",
    "            candidate_error = sigmas.NMSE.min()\n",
    "        idx_min = sigmas.NMSE.idxmin()\n",
    "\n",
    "        if candidate_error < self.min_error_train:\n",
    "            S = sigmas.sigma[idx_min]\n",
    "            Lu_new = self.B2 @ S @ self.B2.T\n",
    "            filter = np.diagonal(S)\n",
    "\n",
    "            if mode==\"optimistic\":\n",
    "                self.opt_upper -= 1\n",
    "            else:\n",
    "                self.opt_upper += 1\n",
    "\n",
    "            if verbose:\n",
    "                if mode == \"optimistic\":\n",
    "                    print(\n",
    "                        f\"Removing {self.nu - self.opt_upper} triangles from topology... \\n ... The min training error: {candidate_error:.3f} !\"\n",
    "                    )\n",
    "                else:\n",
    "                    print(\n",
    "                        f\"Adding {self.T - self.opt_upper} triangles to topology... \\n ... The min training error: {candidate_error:.3f} !\"\n",
    "                    )\n",
    "\n",
    "            self.testing_trace[f'{self.opt_upper}'] = (S, Lu_new) # return the filter flattened matrix and the new best Lu_new\n",
    "\n",
    "            return self.learn_upper_laplacian(\n",
    "                Lu_new=Lu_new,\n",
    "                filter=filter,\n",
    "                lambda_=lambda_,\n",
    "                max_iter=max_iter,\n",
    "                patience=patience,\n",
    "                tol=tol,\n",
    "                step_h=step_h,\n",
    "                step_x=step_x,\n",
    "                mode=mode,\n",
    "                verbose=verbose,\n",
    "                QP=QP\n",
    "            )\n",
    "\n",
    "        self.B2 = self.B2 @ np.diag(filter)\n",
    "        return self.min_error_train, self.min_error_test, self.train_history, self.test_history, self.Lu, self.B2\n",
    "    \n",
    "    def save_results(func):\n",
    "        '''Decorator to save intermediate results when testing learning functions\n",
    "        '''\n",
    "        @wraps(func)\n",
    "        def wrapper(self, *args, **kwargs):\n",
    "\n",
    "            outputs = func(self, *args, **kwargs)\n",
    "            func_name = func.__name__\n",
    "\n",
    "            if func_name == \"test_topological_dictionary_learn\":\n",
    "\n",
    "                path = os.getcwd()\n",
    "                dir_path = os.path.join(\n",
    "                    path, \"results\", \"dictionary_learning\", f\"{self.dictionary_type}\"\n",
    "                )\n",
    "                name = f\"learn_D_{self.dictionary_type}\"\n",
    "                filename = os.path.join(dir_path, f\"{name}.pkl\")\n",
    "                save_var = {\n",
    "                    \"min_error_test\": self.min_error_test,\n",
    "                    \"min_error_train\": self.min_error_train,\n",
    "                    \"train_history\": outputs[2],\n",
    "                    \"test_history\": outputs[3],\n",
    "                    \"h_opt\": self.h_opt,\n",
    "                    \"X_opt_test\": self.X_opt_test,\n",
    "                    \"X_opt_train\": self.X_opt_train,\n",
    "                    \"D_opt\": self.D_opt,\n",
    "                }\n",
    "\n",
    "            elif func_name == \"test_topological_dictionary_learn_qp\":\n",
    "\n",
    "                path = os.getcwd()\n",
    "                dir_path = os.path.join(path, \"results\", \"no_topology_learning\")\n",
    "                name = f\"learn_T{int(self.true_prob_T*100)}\"\n",
    "                filename = os.path.join(dir_path, f\"{name}.pkl\")\n",
    "                save_var = {\n",
    "                    \"min_error_test\": self.min_error_test,\n",
    "                    \"min_error_train\": self.min_error_train,\n",
    "                    \"train_history\": outputs[2],\n",
    "                    \"test_history\": outputs[3],\n",
    "                    \"h_opt\": self.h_opt,\n",
    "                    \"X_opt_test\": self.X_opt_test,\n",
    "                    \"X_opt_train\": self.X_opt_train,\n",
    "                    \"D_opt\": self.D_opt,\n",
    "                }\n",
    "\n",
    "            elif func_name == \"test_learn_upper_laplacian\":\n",
    "\n",
    "                path = os.getcwd()\n",
    "                dir_path = os.path.join(path, \"results\", \"topology_learning\")\n",
    "                name = f\"learn_T{int(self.true_prob_T*100)}\"\n",
    "                filename = os.path.join(dir_path, f\"{name}.pkl\")\n",
    "                save_var = {\n",
    "                    \"min_error_test\": self.min_error_test,\n",
    "                    \"min_error_train\": self.min_error_train,\n",
    "                    \"train_history\": self.train_history,\n",
    "                    \"test_history\": self.test_history,\n",
    "                    \"Lu_opt\": self.Lu,\n",
    "                    \"B2_opt\":self.B2,\n",
    "                    \"h_opt\": self.h_opt,\n",
    "                    \"X_opt_test\": self.X_opt_test,\n",
    "                    \"X_opt_train\": self.X_opt_train,\n",
    "                    \"D_opt\": self.D_opt,\n",
    "                }\n",
    "\n",
    "            if not os.path.exists(dir_path):\n",
    "                os.makedirs(dir_path)\n",
    "\n",
    "            try:\n",
    "                with open(filename, \"wb\") as file:\n",
    "                    pickle.dump(save_var, file)\n",
    "            except IOError as e:\n",
    "                print(f\"An error occurred while writing the file: {e}\")\n",
    "            except Exception as e:\n",
    "                print(f\"An unexpected error occurred: {e}\")\n",
    "\n",
    "            return outputs\n",
    "\n",
    "        return wrapper\n",
    "    \n",
    "    @save_results\n",
    "    def test_topological_dictionary_learn(\n",
    "        self,\n",
    "        mode: str = \"only_X\",\n",
    "        lambda_: float = 1e-7,\n",
    "        max_iter: int = 100,\n",
    "        patience: int = 5,\n",
    "        tol: float = 1e-7,\n",
    "        solver: str = \"MOSEK\",\n",
    "        step_h: float = 1.0,\n",
    "        step_x: float = 1.0,\n",
    "        verbose: bool = False,\n",
    "    ) -> None:\n",
    "        \n",
    "        try:\n",
    "            self.init_dict(mode=mode)\n",
    "        except:\n",
    "            print(\"Initialization Failed!\")\n",
    "        \n",
    "        self.topological_dictionary_learn(\n",
    "            lambda_,\n",
    "            max_iter,\n",
    "            patience,\n",
    "            tol,\n",
    "            solver,\n",
    "            step_h,\n",
    "            step_x,\n",
    "            verbose\n",
    "            )\n",
    "            \n",
    "    @save_results\n",
    "    def test_topological_dictionary_learn_qp(\n",
    "        self,\n",
    "        mode: str = \"only_X\",\n",
    "        lambda_: float = 1e-7,\n",
    "        max_iter: int = 100,\n",
    "        patience: int = 5,\n",
    "        tol: float = 1e-7,\n",
    "        solver: str = \"GUROBI\",\n",
    "        step_h: float = 1.0,\n",
    "        step_x: float = 1.0,\n",
    "        verbose: bool = False,\n",
    "    ) -> None:\n",
    "        \n",
    "        try:\n",
    "            self.init_dict(mode=mode)\n",
    "        except:\n",
    "            print(\"Initialization Failed!\")\n",
    "\n",
    "        self.topological_dictionary_learn_qp(\n",
    "            lambda_,\n",
    "            max_iter,\n",
    "            patience,\n",
    "            tol,\n",
    "            solver,\n",
    "            step_h,\n",
    "            step_x,\n",
    "            verbose\n",
    "            )\n",
    "        \n",
    "    @save_results\n",
    "    def test_learn_upper_laplacian(\n",
    "        self,\n",
    "        init_mode: str = \"only_X\",\n",
    "        lambda_: float = 1e-7,\n",
    "        max_iter: int = 100,\n",
    "        patience: int = 5,\n",
    "        tol: float = 1e-7,\n",
    "        step_h: float = 1.,\n",
    "        step_x: float = 1.,\n",
    "        mode: str = \"optimistic\",\n",
    "        verbose: bool = True,\n",
    "        warmup: int = 0,\n",
    "        QP: bool = True\n",
    "    ) -> None:\n",
    "\n",
    "        try:\n",
    "            self.init_dict(mode=init_mode)\n",
    "        except:\n",
    "            print(\"Initialization Failed!\")\n",
    "\n",
    "        self.learn_upper_laplacian(\n",
    "            lambda_=lambda_,\n",
    "            max_iter=max_iter,\n",
    "            patience=patience,\n",
    "            tol=tol,\n",
    "            step_h=step_h,\n",
    "            step_x=step_x,\n",
    "            mode=mode,\n",
    "            verbose=verbose,\n",
    "            warmup=warmup,\n",
    "            QP=QP\n",
    "            )\n",
    "        \n",
    "    def get_topology_approx_error(self, Lu_true):\n",
    "        return np.linalg.norm(Lu_true-self.Lu, ord=\"fro\")\n",
    "    \n",
    "    def fit(self, init_mode, algo_type, Lu_true, **hyperparams):\n",
    "\n",
    "        hp = {\"lambda_\":1e-3,\n",
    "              \"tol\":1e-7,\n",
    "              \"patience\":10,\n",
    "              \"max_iter\":10,\n",
    "              \"step_x\":1.,\n",
    "              \"step_h\":1.,\n",
    "              \"QP\":True,\n",
    "              \"mode\":\"optimistic\",\n",
    "              \"verbose\":False\n",
    "              }\n",
    "        \n",
    "        hp.update(hyperparams)\n",
    "\n",
    "        try:\n",
    "            self.init_dict(mode=init_mode)\n",
    "        except:\n",
    "            print(\"Initialization Failed!\")\n",
    "        \n",
    "        if algo_type == \"comp\":\n",
    "            self.learn_upper_laplacian(\n",
    "                lambda_=hp[\"lambda_\"],\n",
    "                max_iter=hp[\"max_iter\"],\n",
    "                patience=hp[\"patience\"],\n",
    "                tol=hp[\"tol\"],\n",
    "                step_h=hp[\"step_h\"],\n",
    "                step_x=hp[\"step_x\"],\n",
    "                QP=hp[\"QP\"],\n",
    "            )\n",
    "\n",
    "        else:\n",
    "            self.topological_dictionary_learn_qp(\n",
    "                lambda_=hp[\"lambda_\"],\n",
    "                max_iter=hp[\"max_iter\"],\n",
    "                patience=hp[\"patience\"],\n",
    "                tol=hp[\"tol\"],\n",
    "                step_h=hp[\"step_h\"],\n",
    "                step_x=hp[\"step_x\"],\n",
    "                solver='GUROBI'\n",
    "            )\n",
    "\n",
    "        Lu_approx_error = self.get_topology_approx_error(Lu_true=Lu_true)\n",
    "\n",
    "        return self.min_error_train, self.min_error_test, Lu_approx_error\n"
   ]
  },
  {
   "cell_type": "code",
   "execution_count": 5,
   "metadata": {},
   "outputs": [],
   "source": [
    "algo_params = {\"lambda_\":lambda_,\n",
    "              \"tol\":tol,\n",
    "              \"patience\":patience,\n",
    "              \"max_iter\":max_iter,\n",
    "              \"QP\":True,\n",
    "              \"mode\":\"optimistic\"\n",
    "              }"
   ]
  },
  {
   "cell_type": "code",
   "execution_count": 28,
   "metadata": {},
   "outputs": [],
   "source": [
    "@final_save\n",
    "def param_dict_learning(\n",
    "    X_train,\n",
    "    X_test,\n",
    "    Y_train,\n",
    "    Y_test,\n",
    "    c_true,\n",
    "    epsilon_true,\n",
    "    n_sim,\n",
    "    topo_params,\n",
    "    algo_params,\n",
    "    K0_coll,\n",
    "    Lu_true,\n",
    "    prob_T,\n",
    "    learn_topology=False,\n",
    "    verbose: bool = True,\n",
    "):\n",
    "    \"\"\"\n",
    "    Learn the sparse representation and the dictionary atoms with the alternating-direction algorithm,\n",
    "    for given test and training set, and comparing the performances in terms of training and test\n",
    "    approximation error for several algorithmic setup, principally differencing by dictionary parameterization:\n",
    "        - Fourier dictionary parameterization\n",
    "        - Edge Laplacian dictionary parameterization\n",
    "        - Joint Hodge Laplacian dictionary parameterization\n",
    "        - Separated Hodge Laplacian dictionary parameterization\n",
    "        - (Optionally) Separated Hodge Laplacian dictionary parameterization plus Topology Learning\n",
    "    \"\"\"\n",
    "\n",
    "    min_error_fou_train = np.zeros((n_sim, len(K0_coll)))\n",
    "    min_error_fou_test = np.zeros((n_sim, len(K0_coll)))\n",
    "    min_error_sep_train = np.zeros((n_sim, len(K0_coll)))\n",
    "    min_error_sep_test = np.zeros((n_sim, len(K0_coll)))\n",
    "    min_error_edge_train = np.zeros((n_sim, len(K0_coll)))\n",
    "    min_error_edge_test = np.zeros((n_sim, len(K0_coll)))\n",
    "    min_error_joint_train = np.zeros((n_sim, len(K0_coll)))\n",
    "    min_error_joint_test = np.zeros((n_sim, len(K0_coll)))\n",
    "    approx_fou = np.zeros((n_sim, len(K0_coll)))\n",
    "    approx_sep = np.zeros((n_sim, len(K0_coll)))\n",
    "    approx_joint = np.zeros((n_sim, len(K0_coll)))\n",
    "    approx_edge = np.zeros((n_sim, len(K0_coll)))\n",
    "    approx_comp = np.zeros((n_sim, len(K0_coll)))\n",
    "    laplacian_fou = np.zeros((n_sim, len(K0_coll)))\n",
    "    laplacian_sep = np.zeros((n_sim, len(K0_coll)))\n",
    "    laplacian_joint = np.zeros((n_sim, len(K0_coll)))\n",
    "    laplacian_edge = np.zeros((n_sim, len(K0_coll)))\n",
    "    laplacian_comp = np.zeros((n_sim, len(K0_coll)))\n",
    "\n",
    "    dict_errors = {\n",
    "        \"fou\": (min_error_fou_train, min_error_fou_test,approx_fou,laplacian_fou),\n",
    "        \"edge\": (min_error_edge_train, min_error_edge_test,approx_edge,laplacian_edge),\n",
    "        \"joint\": (min_error_joint_train, min_error_joint_test,approx_joint,laplacian_joint),\n",
    "        \"sep\": (min_error_sep_train, min_error_sep_test,approx_sep,laplacian_sep),\n",
    "    }\n",
    "\n",
    "    dict_types = {\n",
    "        \"fou\": (\"Fourier\", \"fourier\"),\n",
    "        \"edge\": (\"Edge Laplacian\", \"edge_laplacian\"),\n",
    "        \"joint\": (\"Hodge Laplacian\", \"joint\"),\n",
    "        \"sep\": (\"Separated Hodge Laplacian\", \"separated\"),\n",
    "    }\n",
    "\n",
    "    if learn_topology:\n",
    "        min_error_complete_train = np.zeros((n_sim, len(K0_coll)))\n",
    "        min_error_complete_test = np.zeros((n_sim, len(K0_coll)))\n",
    "        dict_errors[\"comp\"] = (min_error_complete_train, min_error_complete_test,approx_comp, laplacian_comp)\n",
    "        dict_types[\"comp\"] = (\n",
    "            \"Separated Hodge Laplacian with Topology learning\",\n",
    "            \"separated\",\n",
    "        )\n",
    "\n",
    "    models = {}\n",
    "\n",
    "    for sim in range(n_sim):\n",
    "\n",
    "        for k0_index, k0 in tqdm(enumerate(K0_coll)):\n",
    "\n",
    "            for d in dict_types.items():\n",
    "\n",
    "                model = TspSolver(\n",
    "                    X_train=X_train[:, :, sim],\n",
    "                    X_test=X_test[:, :, sim],\n",
    "                    Y_train=Y_train[:, :, sim],\n",
    "                    Y_test=Y_test[:, :, sim],\n",
    "                    c=c_true[sim],\n",
    "                    epsilon=epsilon_true[sim],\n",
    "                    K0=k0,\n",
    "                    dictionary_type=d[1][1],\n",
    "                    **topo_params,\n",
    "                )\n",
    "\n",
    "                try:\n",
    "\n",
    "                    dict_errors[d[0]][0][sim, k0_index], dict_errors[d[0]][1][sim, k0_index], dict_errors[d[0]][2][sim, k0_index] = model.fit(d[0], Lu_true, **algo_params)\n",
    "                    \n",
    "                    models[f\"{sim},{k0_index}\"] = model\n",
    "\n",
    "                    if verbose:\n",
    "                        print(\n",
    "                            f\"Simulation: {sim+1}/{n_sim} Sparsity: {k0} Testing {d[1][0]}... Done! Test Error: {dict_errors[d[0]][1][sim,k0_index]:.3f}\"\n",
    "                        )\n",
    "                        print(\n",
    "                            f\"Topology Approx. Error: {dict_errors[d[0]][2][sim,k0_index]:.3f}\"\n",
    "                        )\n",
    "                except:\n",
    "                    print(\n",
    "                        f\"Simulation: {sim+1}/{n_sim} Sparsity: {k0} Testing {d[1][0]}... Diverged!\"\n",
    "                    )\n",
    "                    try:\n",
    "                        (\n",
    "                            dict_errors[d[0]][0][sim, k0_index],\n",
    "                            dict_errors[d[0]][1][sim, k0_index],\n",
    "                        ) = (\n",
    "                            dict_errors[d[0]][0][sim - 1, k0_index],\n",
    "                            dict_errors[d[0]][1][sim - 1, k0_index],\n",
    "                        )\n",
    "                    except:\n",
    "                        (\n",
    "                            dict_errors[d[0]][0][sim, k0_index],\n",
    "                            dict_errors[d[0]][1][sim, k0_index],\n",
    "                        ) = (\n",
    "                            dict_errors[d[0]][0][sim + 1, k0_index],\n",
    "                            dict_errors[d[0]][1][sim + 1, k0_index],\n",
    "                        )\n",
    "                        \n",
    "    return dict_errors, models"
   ]
  },
  {
   "cell_type": "code",
   "execution_count": 33,
   "metadata": {},
   "outputs": [],
   "source": [
    "s=6\n",
    "\n",
    "topo_params = {\"J\":J,\n",
    "                \"P\":P,\n",
    "                \"c\":c_true[s],\n",
    "                \"epsilon\":epsilon_true[s],\n",
    "                \"true_prob_T\":prob_T,\n",
    "                \"sub_size\":100,\n",
    "                \"seed\":0,\n",
    "                \"n\":40,\n",
    "                \"K0\":K0_coll[0],\n",
    "                \"p_edges\":0.162,\n",
    "                \"dictionary_type\": dictionary_type\n",
    "                }"
   ]
  },
  {
   "cell_type": "code",
   "execution_count": 47,
   "metadata": {},
   "outputs": [],
   "source": [
    "topoX = TspSolver(X_train=X_train[:, :, s], \n",
    "                X_test=X_test[:, :, s], \n",
    "                Y_train=Y_train[:, :, s], \n",
    "                Y_test=Y_test[:, :, s],\n",
    "                **topo_params)"
   ]
  },
  {
   "cell_type": "code",
   "execution_count": null,
   "metadata": {},
   "outputs": [],
   "source": [
    "topoX.G.Lu == Lu"
   ]
  },
  {
   "cell_type": "code",
   "execution_count": 38,
   "metadata": {},
   "outputs": [
    {
     "name": "stdout",
     "output_type": "stream",
     "text": [
      "Removing 1 triangles from topology... \n",
      " ... The min training error: 0.076 !\n",
      "Removing 2 triangles from topology... \n",
      " ... The min training error: 0.075 !\n",
      "Removing 3 triangles from topology... \n",
      " ... The min training error: 0.074 !\n",
      "Removing 4 triangles from topology... \n",
      " ... The min training error: 0.074 !\n",
      "Removing 5 triangles from topology... \n",
      " ... The min training error: 0.072 !\n",
      "Removing 6 triangles from topology... \n",
      " ... The min training error: 0.071 !\n",
      "Removing 7 triangles from topology... \n",
      " ... The min training error: 0.069 !\n",
      "Removing 8 triangles from topology... \n",
      " ... The min training error: 0.067 !\n",
      "Removing 9 triangles from topology... \n",
      " ... The min training error: 0.064 !\n",
      "Removing 10 triangles from topology... \n",
      " ... The min training error: 0.062 !\n",
      "Removing 11 triangles from topology... \n",
      " ... The min training error: 0.061 !\n"
     ]
    }
   ],
   "source": [
    "topoX2 = TspSolver(X_train=X_train[:, :, s], \n",
    "                X_test=X_test[:, :, s], \n",
    "                Y_train=Y_train[:, :, s], \n",
    "                Y_test=Y_test[:, :, s],\n",
    "                **topo_params)\n",
    "\n",
    "topoX2.test_learn_upper_laplacian()"
   ]
  },
  {
   "cell_type": "code",
   "execution_count": 40,
   "metadata": {},
   "outputs": [
    {
     "data": {
      "text/plain": [
       "14.422205101855956"
      ]
     },
     "execution_count": 40,
     "metadata": {},
     "output_type": "execute_result"
    }
   ],
   "source": [
    "topoX2.get_topology_approx_error(Lu)"
   ]
  },
  {
   "cell_type": "code",
   "execution_count": 49,
   "metadata": {},
   "outputs": [
    {
     "data": {
      "text/plain": [
       "0.0"
      ]
     },
     "execution_count": 49,
     "metadata": {},
     "output_type": "execute_result"
    }
   ],
   "source": [
    "np.linalg.norm(topoX.Lu-Lu_full, ord=\"fro\")"
   ]
  },
  {
   "cell_type": "code",
   "execution_count": 52,
   "metadata": {},
   "outputs": [],
   "source": [
    "\n",
    "\n",
    "topo_params = {\"J\":J,\n",
    "                \"P\":P,\n",
    "                \"true_prob_T\":prob_T,\n",
    "                \"sub_size\":100,\n",
    "                \"seed\":0,\n",
    "                \"n\":40,\n",
    "                \"p_edges\":0.162,\n",
    "                }"
   ]
  },
  {
   "cell_type": "code",
   "execution_count": 45,
   "metadata": {},
   "outputs": [
    {
     "data": {
      "text/plain": [
       "62.0"
      ]
     },
     "execution_count": 45,
     "metadata": {},
     "output_type": "execute_result"
    }
   ],
   "source": [
    "topoX2.G.mask.sum()"
   ]
  },
  {
   "cell_type": "code",
   "execution_count": 81,
   "metadata": {},
   "outputs": [
    {
     "name": "stderr",
     "output_type": "stream",
     "text": [
      "0it [00:00, ?it/s]"
     ]
    },
    {
     "name": "stdout",
     "output_type": "stream",
     "text": [
      "Simulation: 1/10 Sparsity: 5 Testing Fourier... Done! Test Error: 0.287\n",
      "Topology Approx. Error: 11.790\n",
      "Simulation: 1/10 Sparsity: 5 Testing Edge Laplacian... Done! Test Error: 0.150\n",
      "Topology Approx. Error: 11.790\n",
      "Simulation: 1/10 Sparsity: 5 Testing Hodge Laplacian... Done! Test Error: 0.122\n",
      "Topology Approx. Error: 11.790\n",
      "Simulation: 1/10 Sparsity: 5 Testing Separated Hodge Laplacian... Done! Test Error: 0.076\n",
      "Topology Approx. Error: 11.790\n"
     ]
    },
    {
     "name": "stderr",
     "output_type": "stream",
     "text": [
      "1it [04:16, 256.32s/it]"
     ]
    },
    {
     "name": "stdout",
     "output_type": "stream",
     "text": [
      "Simulation: 1/10 Sparsity: 5 Testing Separated Hodge Laplacian with Topology learning... Done! Test Error: 0.057\n",
      "Topology Approx. Error: 14.422\n",
      "Simulation: 1/10 Sparsity: 9 Testing Fourier... Done! Test Error: 0.166\n",
      "Topology Approx. Error: 11.790\n",
      "Simulation: 1/10 Sparsity: 9 Testing Edge Laplacian... Done! Test Error: 0.074\n",
      "Topology Approx. Error: 11.790\n",
      "Simulation: 1/10 Sparsity: 9 Testing Hodge Laplacian... Done! Test Error: 0.052\n",
      "Topology Approx. Error: 11.790\n",
      "Simulation: 1/10 Sparsity: 9 Testing Separated Hodge Laplacian... Done! Test Error: 0.029\n",
      "Topology Approx. Error: 11.790\n"
     ]
    },
    {
     "name": "stderr",
     "output_type": "stream",
     "text": [
      "2it [12:21, 391.19s/it]"
     ]
    },
    {
     "name": "stdout",
     "output_type": "stream",
     "text": [
      "Simulation: 1/10 Sparsity: 9 Testing Separated Hodge Laplacian with Topology learning... Done! Test Error: 0.018\n",
      "Topology Approx. Error: 14.731\n",
      "Simulation: 1/10 Sparsity: 13 Testing Fourier... Done! Test Error: 0.105\n",
      "Topology Approx. Error: 11.790\n",
      "Simulation: 1/10 Sparsity: 13 Testing Edge Laplacian... Done! Test Error: 0.040\n",
      "Topology Approx. Error: 11.790\n",
      "Simulation: 1/10 Sparsity: 13 Testing Hodge Laplacian... Done! Test Error: 0.028\n",
      "Topology Approx. Error: 11.790\n",
      "Simulation: 1/10 Sparsity: 13 Testing Separated Hodge Laplacian... Done! Test Error: 0.016\n",
      "Topology Approx. Error: 11.790\n"
     ]
    },
    {
     "name": "stderr",
     "output_type": "stream",
     "text": [
      "3it [22:53, 501.13s/it]"
     ]
    },
    {
     "name": "stdout",
     "output_type": "stream",
     "text": [
      "Simulation: 1/10 Sparsity: 13 Testing Separated Hodge Laplacian with Topology learning... Done! Test Error: 0.007\n",
      "Topology Approx. Error: 14.731\n",
      "Simulation: 1/10 Sparsity: 17 Testing Fourier... Done! Test Error: 0.069\n",
      "Topology Approx. Error: 11.790\n",
      "Simulation: 1/10 Sparsity: 17 Testing Edge Laplacian... Done! Test Error: 0.024\n",
      "Topology Approx. Error: 11.790\n",
      "Simulation: 1/10 Sparsity: 17 Testing Hodge Laplacian... Done! Test Error: 0.017\n",
      "Topology Approx. Error: 11.790\n",
      "Simulation: 1/10 Sparsity: 17 Testing Separated Hodge Laplacian... Done! Test Error: 0.010\n",
      "Topology Approx. Error: 11.790\n"
     ]
    },
    {
     "name": "stderr",
     "output_type": "stream",
     "text": [
      "4it [26:51, 397.11s/it]"
     ]
    },
    {
     "name": "stdout",
     "output_type": "stream",
     "text": [
      "Simulation: 1/10 Sparsity: 17 Testing Separated Hodge Laplacian with Topology learning... Done! Test Error: 0.010\n",
      "Topology Approx. Error: 11.790\n",
      "Simulation: 1/10 Sparsity: 21 Testing Fourier... Done! Test Error: 0.048\n",
      "Topology Approx. Error: 11.790\n",
      "Simulation: 1/10 Sparsity: 21 Testing Edge Laplacian... Done! Test Error: 0.015\n",
      "Topology Approx. Error: 11.790\n",
      "Simulation: 1/10 Sparsity: 21 Testing Hodge Laplacian... Done! Test Error: 0.010\n",
      "Topology Approx. Error: 11.790\n",
      "Simulation: 1/10 Sparsity: 21 Testing Separated Hodge Laplacian... Done! Test Error: 0.009\n",
      "Topology Approx. Error: 11.790\n"
     ]
    },
    {
     "name": "stderr",
     "output_type": "stream",
     "text": [
      "5it [31:07, 346.29s/it]"
     ]
    },
    {
     "name": "stdout",
     "output_type": "stream",
     "text": [
      "Simulation: 1/10 Sparsity: 21 Testing Separated Hodge Laplacian with Topology learning... Done! Test Error: 0.009\n",
      "Topology Approx. Error: 11.790\n",
      "Simulation: 1/10 Sparsity: 25 Testing Fourier... Done! Test Error: 0.035\n",
      "Topology Approx. Error: 11.790\n",
      "Simulation: 1/10 Sparsity: 25 Testing Edge Laplacian... Done! Test Error: 0.011\n",
      "Topology Approx. Error: 11.790\n",
      "Simulation: 1/10 Sparsity: 25 Testing Hodge Laplacian... Done! Test Error: 0.007\n",
      "Topology Approx. Error: 11.790\n",
      "Simulation: 1/10 Sparsity: 25 Testing Separated Hodge Laplacian... Done! Test Error: 0.006\n",
      "Topology Approx. Error: 11.790\n"
     ]
    },
    {
     "name": "stderr",
     "output_type": "stream",
     "text": [
      "6it [37:07, 371.31s/it]\n"
     ]
    },
    {
     "name": "stdout",
     "output_type": "stream",
     "text": [
      "Simulation: 1/10 Sparsity: 25 Testing Separated Hodge Laplacian with Topology learning... Done! Test Error: 0.006\n",
      "Topology Approx. Error: 11.790\n"
     ]
    },
    {
     "name": "stderr",
     "output_type": "stream",
     "text": [
      "0it [00:00, ?it/s]"
     ]
    },
    {
     "name": "stdout",
     "output_type": "stream",
     "text": [
      "Simulation: 2/10 Sparsity: 5 Testing Fourier... Done! Test Error: 0.291\n",
      "Topology Approx. Error: 11.790\n",
      "Simulation: 2/10 Sparsity: 5 Testing Edge Laplacian... Diverged!\n",
      "Simulation: 2/10 Sparsity: 5 Testing Hodge Laplacian... Done! Test Error: 0.141\n",
      "Topology Approx. Error: 11.790\n",
      "Simulation: 2/10 Sparsity: 5 Testing Separated Hodge Laplacian... Done! Test Error: 0.089\n",
      "Topology Approx. Error: 11.790\n"
     ]
    },
    {
     "name": "stderr",
     "output_type": "stream",
     "text": [
      "1it [04:44, 284.76s/it]"
     ]
    },
    {
     "name": "stdout",
     "output_type": "stream",
     "text": [
      "Simulation: 2/10 Sparsity: 5 Testing Separated Hodge Laplacian with Topology learning... Done! Test Error: 0.067\n",
      "Topology Approx. Error: 14.731\n",
      "Simulation: 2/10 Sparsity: 9 Testing Fourier... Done! Test Error: 0.166\n",
      "Topology Approx. Error: 11.790\n",
      "Simulation: 2/10 Sparsity: 9 Testing Edge Laplacian... Done! Test Error: 0.080\n",
      "Topology Approx. Error: 11.790\n",
      "Simulation: 2/10 Sparsity: 9 Testing Hodge Laplacian... Done! Test Error: 0.067\n",
      "Topology Approx. Error: 11.790\n",
      "Simulation: 2/10 Sparsity: 9 Testing Separated Hodge Laplacian... Done! Test Error: 0.046\n",
      "Topology Approx. Error: 11.790\n"
     ]
    },
    {
     "name": "stderr",
     "output_type": "stream",
     "text": [
      "2it [12:07, 377.91s/it]"
     ]
    },
    {
     "name": "stdout",
     "output_type": "stream",
     "text": [
      "Simulation: 2/10 Sparsity: 9 Testing Separated Hodge Laplacian with Topology learning... Done! Test Error: 0.025\n",
      "Topology Approx. Error: 13.964\n",
      "Simulation: 2/10 Sparsity: 13 Testing Fourier... Done! Test Error: 0.105\n",
      "Topology Approx. Error: 11.790\n",
      "Simulation: 2/10 Sparsity: 13 Testing Edge Laplacian... Done! Test Error: 0.044\n",
      "Topology Approx. Error: 11.790\n",
      "Simulation: 2/10 Sparsity: 13 Testing Hodge Laplacian... Done! Test Error: 0.036\n",
      "Topology Approx. Error: 11.790\n",
      "Simulation: 2/10 Sparsity: 13 Testing Separated Hodge Laplacian... Done! Test Error: 0.026\n",
      "Topology Approx. Error: 11.790\n"
     ]
    },
    {
     "name": "stderr",
     "output_type": "stream",
     "text": [
      "3it [23:07, 506.43s/it]"
     ]
    },
    {
     "name": "stdout",
     "output_type": "stream",
     "text": [
      "Simulation: 2/10 Sparsity: 13 Testing Separated Hodge Laplacian with Topology learning... Done! Test Error: 0.015\n",
      "Topology Approx. Error: 14.731\n",
      "Simulation: 2/10 Sparsity: 17 Testing Fourier... Done! Test Error: 0.071\n",
      "Topology Approx. Error: 11.790\n",
      "Simulation: 2/10 Sparsity: 17 Testing Edge Laplacian... Diverged!\n",
      "Simulation: 2/10 Sparsity: 17 Testing Hodge Laplacian... Diverged!\n",
      "Simulation: 2/10 Sparsity: 17 Testing Separated Hodge Laplacian... Done! Test Error: 0.019\n",
      "Topology Approx. Error: 11.790\n"
     ]
    },
    {
     "name": "stderr",
     "output_type": "stream",
     "text": [
      "4it [34:53, 585.15s/it]"
     ]
    },
    {
     "name": "stdout",
     "output_type": "stream",
     "text": [
      "Simulation: 2/10 Sparsity: 17 Testing Separated Hodge Laplacian with Topology learning... Done! Test Error: 0.010\n",
      "Topology Approx. Error: 14.422\n",
      "Simulation: 2/10 Sparsity: 21 Testing Fourier... Done! Test Error: 0.048\n",
      "Topology Approx. Error: 11.790\n",
      "Simulation: 2/10 Sparsity: 21 Testing Edge Laplacian... Diverged!\n",
      "Simulation: 2/10 Sparsity: 21 Testing Hodge Laplacian... Done! Test Error: 0.015\n",
      "Topology Approx. Error: 11.790\n",
      "Simulation: 2/10 Sparsity: 21 Testing Separated Hodge Laplacian... Done! Test Error: 0.017\n",
      "Topology Approx. Error: 11.790\n"
     ]
    },
    {
     "name": "stderr",
     "output_type": "stream",
     "text": [
      "5it [48:29, 668.53s/it]"
     ]
    },
    {
     "name": "stdout",
     "output_type": "stream",
     "text": [
      "Simulation: 2/10 Sparsity: 21 Testing Separated Hodge Laplacian with Topology learning... Done! Test Error: 0.008\n",
      "Topology Approx. Error: 13.601\n",
      "Simulation: 2/10 Sparsity: 25 Testing Fourier... Done! Test Error: 0.034\n",
      "Topology Approx. Error: 11.790\n",
      "Simulation: 2/10 Sparsity: 25 Testing Edge Laplacian... Done! Test Error: 0.018\n",
      "Topology Approx. Error: 11.790\n",
      "Simulation: 2/10 Sparsity: 25 Testing Hodge Laplacian... Done! Test Error: 0.010\n",
      "Topology Approx. Error: 11.790\n",
      "Simulation: 2/10 Sparsity: 25 Testing Separated Hodge Laplacian... Done! Test Error: 0.020\n",
      "Topology Approx. Error: 11.790\n"
     ]
    },
    {
     "name": "stderr",
     "output_type": "stream",
     "text": [
      "6it [1:09:02, 690.46s/it]\n"
     ]
    },
    {
     "name": "stdout",
     "output_type": "stream",
     "text": [
      "Simulation: 2/10 Sparsity: 25 Testing Separated Hodge Laplacian with Topology learning... Done! Test Error: 0.005\n",
      "Topology Approx. Error: 14.731\n"
     ]
    },
    {
     "name": "stderr",
     "output_type": "stream",
     "text": [
      "0it [00:00, ?it/s]"
     ]
    },
    {
     "name": "stdout",
     "output_type": "stream",
     "text": [
      "Simulation: 3/10 Sparsity: 5 Testing Fourier... Done! Test Error: 0.288\n",
      "Topology Approx. Error: 11.790\n",
      "Simulation: 3/10 Sparsity: 5 Testing Edge Laplacian... Done! Test Error: 0.151\n",
      "Topology Approx. Error: 11.790\n",
      "Simulation: 3/10 Sparsity: 5 Testing Hodge Laplacian... Done! Test Error: 0.117\n",
      "Topology Approx. Error: 11.790\n",
      "Simulation: 3/10 Sparsity: 5 Testing Separated Hodge Laplacian... Done! Test Error: 0.093\n",
      "Topology Approx. Error: 11.790\n"
     ]
    },
    {
     "name": "stderr",
     "output_type": "stream",
     "text": [
      "1it [04:33, 273.91s/it]"
     ]
    },
    {
     "name": "stdout",
     "output_type": "stream",
     "text": [
      "Simulation: 3/10 Sparsity: 5 Testing Separated Hodge Laplacian with Topology learning... Done! Test Error: 0.079\n",
      "Topology Approx. Error: 14.491\n",
      "Simulation: 3/10 Sparsity: 9 Testing Fourier... Done! Test Error: 0.167\n",
      "Topology Approx. Error: 11.790\n",
      "Simulation: 3/10 Sparsity: 9 Testing Edge Laplacian... Done! Test Error: 0.080\n",
      "Topology Approx. Error: 11.790\n",
      "Simulation: 3/10 Sparsity: 9 Testing Hodge Laplacian... Diverged!\n",
      "Simulation: 3/10 Sparsity: 9 Testing Separated Hodge Laplacian... Done! Test Error: 0.037\n",
      "Topology Approx. Error: 11.790\n"
     ]
    },
    {
     "name": "stderr",
     "output_type": "stream",
     "text": [
      "2it [11:05, 343.04s/it]"
     ]
    },
    {
     "name": "stdout",
     "output_type": "stream",
     "text": [
      "Simulation: 3/10 Sparsity: 9 Testing Separated Hodge Laplacian with Topology learning... Done! Test Error: 0.028\n",
      "Topology Approx. Error: 14.036\n",
      "Simulation: 3/10 Sparsity: 13 Testing Fourier... Done! Test Error: 0.104\n",
      "Topology Approx. Error: 11.790\n",
      "Simulation: 3/10 Sparsity: 13 Testing Edge Laplacian... Done! Test Error: 0.050\n",
      "Topology Approx. Error: 11.790\n",
      "Simulation: 3/10 Sparsity: 13 Testing Hodge Laplacian... Diverged!\n",
      "Simulation: 3/10 Sparsity: 13 Testing Separated Hodge Laplacian... Done! Test Error: 0.034\n",
      "Topology Approx. Error: 11.790\n"
     ]
    },
    {
     "name": "stderr",
     "output_type": "stream",
     "text": [
      "3it [21:10, 462.80s/it]"
     ]
    },
    {
     "name": "stdout",
     "output_type": "stream",
     "text": [
      "Simulation: 3/10 Sparsity: 13 Testing Separated Hodge Laplacian with Topology learning... Done! Test Error: 0.015\n",
      "Topology Approx. Error: 14.731\n",
      "Simulation: 3/10 Sparsity: 17 Testing Fourier... Done! Test Error: 0.071\n",
      "Topology Approx. Error: 11.790\n",
      "Simulation: 3/10 Sparsity: 17 Testing Edge Laplacian... Done! Test Error: 0.031\n",
      "Topology Approx. Error: 11.790\n",
      "Simulation: 3/10 Sparsity: 17 Testing Hodge Laplacian... Diverged!\n",
      "Simulation: 3/10 Sparsity: 17 Testing Separated Hodge Laplacian... Done! Test Error: 0.023\n",
      "Topology Approx. Error: 11.790\n"
     ]
    },
    {
     "name": "stderr",
     "output_type": "stream",
     "text": [
      "4it [32:02, 537.62s/it]"
     ]
    },
    {
     "name": "stdout",
     "output_type": "stream",
     "text": [
      "Simulation: 3/10 Sparsity: 17 Testing Separated Hodge Laplacian with Topology learning... Done! Test Error: 0.011\n",
      "Topology Approx. Error: 14.107\n",
      "Simulation: 3/10 Sparsity: 21 Testing Fourier... Done! Test Error: 0.050\n",
      "Topology Approx. Error: 11.790\n",
      "Simulation: 3/10 Sparsity: 21 Testing Edge Laplacian... Done! Test Error: 0.017\n",
      "Topology Approx. Error: 11.790\n",
      "Simulation: 3/10 Sparsity: 21 Testing Hodge Laplacian... Diverged!\n",
      "Simulation: 3/10 Sparsity: 21 Testing Separated Hodge Laplacian... Done! Test Error: 0.015\n",
      "Topology Approx. Error: 11.790\n"
     ]
    },
    {
     "name": "stderr",
     "output_type": "stream",
     "text": [
      "5it [41:33, 549.32s/it]"
     ]
    },
    {
     "name": "stdout",
     "output_type": "stream",
     "text": [
      "Simulation: 3/10 Sparsity: 21 Testing Separated Hodge Laplacian with Topology learning... Done! Test Error: 0.009\n",
      "Topology Approx. Error: 12.845\n",
      "Simulation: 3/10 Sparsity: 25 Testing Fourier... Done! Test Error: 0.035\n",
      "Topology Approx. Error: 11.790\n",
      "Simulation: 3/10 Sparsity: 25 Testing Edge Laplacian... Done! Test Error: 0.011\n",
      "Topology Approx. Error: 11.790\n",
      "Simulation: 3/10 Sparsity: 25 Testing Hodge Laplacian... Diverged!\n",
      "Simulation: 3/10 Sparsity: 25 Testing Separated Hodge Laplacian... Done! Test Error: 0.012\n",
      "Topology Approx. Error: 11.790\n"
     ]
    },
    {
     "name": "stderr",
     "output_type": "stream",
     "text": [
      "6it [58:21, 583.53s/it]\n"
     ]
    },
    {
     "name": "stdout",
     "output_type": "stream",
     "text": [
      "Simulation: 3/10 Sparsity: 25 Testing Separated Hodge Laplacian with Topology learning... Done! Test Error: 0.006\n",
      "Topology Approx. Error: 14.422\n"
     ]
    },
    {
     "name": "stderr",
     "output_type": "stream",
     "text": [
      "0it [00:00, ?it/s]"
     ]
    },
    {
     "name": "stdout",
     "output_type": "stream",
     "text": [
      "Simulation: 4/10 Sparsity: 5 Testing Fourier... Done! Test Error: 0.307\n",
      "Topology Approx. Error: 11.790\n",
      "Simulation: 4/10 Sparsity: 5 Testing Edge Laplacian... Done! Test Error: 0.181\n",
      "Topology Approx. Error: 11.790\n",
      "Simulation: 4/10 Sparsity: 5 Testing Hodge Laplacian... Done! Test Error: 0.144\n",
      "Topology Approx. Error: 11.790\n",
      "Simulation: 4/10 Sparsity: 5 Testing Separated Hodge Laplacian... Done! Test Error: 0.086\n",
      "Topology Approx. Error: 11.790\n"
     ]
    },
    {
     "name": "stderr",
     "output_type": "stream",
     "text": [
      "1it [04:33, 273.80s/it]"
     ]
    },
    {
     "name": "stdout",
     "output_type": "stream",
     "text": [
      "Simulation: 4/10 Sparsity: 5 Testing Separated Hodge Laplacian with Topology learning... Done! Test Error: 0.060\n",
      "Topology Approx. Error: 14.422\n",
      "Simulation: 4/10 Sparsity: 9 Testing Fourier... Done! Test Error: 0.184\n",
      "Topology Approx. Error: 11.790\n",
      "Simulation: 4/10 Sparsity: 9 Testing Edge Laplacian... Done! Test Error: 0.096\n",
      "Topology Approx. Error: 11.790\n",
      "Simulation: 4/10 Sparsity: 9 Testing Hodge Laplacian... Done! Test Error: 0.068\n",
      "Topology Approx. Error: 11.790\n",
      "Simulation: 4/10 Sparsity: 9 Testing Separated Hodge Laplacian... Done! Test Error: 0.038\n",
      "Topology Approx. Error: 11.790\n"
     ]
    },
    {
     "name": "stderr",
     "output_type": "stream",
     "text": [
      "2it [11:18, 350.67s/it]"
     ]
    },
    {
     "name": "stdout",
     "output_type": "stream",
     "text": [
      "Simulation: 4/10 Sparsity: 9 Testing Separated Hodge Laplacian with Topology learning... Done! Test Error: 0.020\n",
      "Topology Approx. Error: 14.422\n",
      "Simulation: 4/10 Sparsity: 13 Testing Fourier... Done! Test Error: 0.117\n",
      "Topology Approx. Error: 11.790\n",
      "Simulation: 4/10 Sparsity: 13 Testing Edge Laplacian... Done! Test Error: 0.051\n",
      "Topology Approx. Error: 11.790\n",
      "Simulation: 4/10 Sparsity: 13 Testing Hodge Laplacian... Done! Test Error: 0.037\n",
      "Topology Approx. Error: 11.790\n",
      "Simulation: 4/10 Sparsity: 13 Testing Separated Hodge Laplacian... Done! Test Error: 0.019\n",
      "Topology Approx. Error: 11.790\n"
     ]
    },
    {
     "name": "stderr",
     "output_type": "stream",
     "text": [
      "3it [20:10, 433.64s/it]"
     ]
    },
    {
     "name": "stdout",
     "output_type": "stream",
     "text": [
      "Simulation: 4/10 Sparsity: 13 Testing Separated Hodge Laplacian with Topology learning... Done! Test Error: 0.009\n",
      "Topology Approx. Error: 14.036\n",
      "Simulation: 4/10 Sparsity: 17 Testing Fourier... Done! Test Error: 0.079\n",
      "Topology Approx. Error: 11.790\n",
      "Simulation: 4/10 Sparsity: 17 Testing Edge Laplacian... Done! Test Error: 0.032\n",
      "Topology Approx. Error: 11.790\n",
      "Simulation: 4/10 Sparsity: 17 Testing Hodge Laplacian... Done! Test Error: 0.022\n",
      "Topology Approx. Error: 11.790\n",
      "Simulation: 4/10 Sparsity: 17 Testing Separated Hodge Laplacian... Done! Test Error: 0.012\n",
      "Topology Approx. Error: 11.790\n"
     ]
    },
    {
     "name": "stderr",
     "output_type": "stream",
     "text": [
      "4it [32:01, 542.93s/it]"
     ]
    },
    {
     "name": "stdout",
     "output_type": "stream",
     "text": [
      "Simulation: 4/10 Sparsity: 17 Testing Separated Hodge Laplacian with Topology learning... Done! Test Error: 0.005\n",
      "Topology Approx. Error: 14.422\n",
      "Simulation: 4/10 Sparsity: 21 Testing Fourier... Done! Test Error: 0.054\n",
      "Topology Approx. Error: 11.790\n",
      "Simulation: 4/10 Sparsity: 21 Testing Edge Laplacian... Done! Test Error: 0.020\n",
      "Topology Approx. Error: 11.790\n",
      "Simulation: 4/10 Sparsity: 21 Testing Hodge Laplacian... Done! Test Error: 0.013\n",
      "Topology Approx. Error: 11.790\n",
      "Simulation: 4/10 Sparsity: 21 Testing Separated Hodge Laplacian... Done! Test Error: 0.007\n",
      "Topology Approx. Error: 11.790\n"
     ]
    },
    {
     "name": "stderr",
     "output_type": "stream",
     "text": [
      "5it [46:37, 663.15s/it]"
     ]
    },
    {
     "name": "stdout",
     "output_type": "stream",
     "text": [
      "Simulation: 4/10 Sparsity: 21 Testing Separated Hodge Laplacian with Topology learning... Done! Test Error: 0.003\n",
      "Topology Approx. Error: 14.036\n",
      "Simulation: 4/10 Sparsity: 25 Testing Fourier... Done! Test Error: 0.038\n",
      "Topology Approx. Error: 11.790\n",
      "Simulation: 4/10 Sparsity: 25 Testing Edge Laplacian... Done! Test Error: 0.013\n",
      "Topology Approx. Error: 11.790\n",
      "Simulation: 4/10 Sparsity: 25 Testing Hodge Laplacian... Done! Test Error: 0.009\n",
      "Topology Approx. Error: 11.790\n",
      "Simulation: 4/10 Sparsity: 25 Testing Separated Hodge Laplacian... Done! Test Error: 0.005\n",
      "Topology Approx. Error: 11.790\n"
     ]
    },
    {
     "name": "stderr",
     "output_type": "stream",
     "text": [
      "6it [1:05:11, 651.87s/it]\n"
     ]
    },
    {
     "name": "stdout",
     "output_type": "stream",
     "text": [
      "Simulation: 4/10 Sparsity: 25 Testing Separated Hodge Laplacian with Topology learning... Done! Test Error: 0.002\n",
      "Topology Approx. Error: 14.422\n"
     ]
    },
    {
     "name": "stderr",
     "output_type": "stream",
     "text": [
      "0it [00:00, ?it/s]"
     ]
    },
    {
     "name": "stdout",
     "output_type": "stream",
     "text": [
      "Simulation: 5/10 Sparsity: 5 Testing Fourier... Done! Test Error: 0.299\n",
      "Topology Approx. Error: 11.790\n",
      "Simulation: 5/10 Sparsity: 5 Testing Edge Laplacian... Done! Test Error: 0.170\n",
      "Topology Approx. Error: 11.790\n",
      "Simulation: 5/10 Sparsity: 5 Testing Hodge Laplacian... Done! Test Error: 0.144\n",
      "Topology Approx. Error: 11.790\n",
      "Simulation: 5/10 Sparsity: 5 Testing Separated Hodge Laplacian... Done! Test Error: 0.111\n",
      "Topology Approx. Error: 11.790\n"
     ]
    },
    {
     "name": "stderr",
     "output_type": "stream",
     "text": [
      "1it [04:20, 260.85s/it]"
     ]
    },
    {
     "name": "stdout",
     "output_type": "stream",
     "text": [
      "Simulation: 5/10 Sparsity: 5 Testing Separated Hodge Laplacian with Topology learning... Done! Test Error: 0.087\n",
      "Topology Approx. Error: 14.422\n",
      "Simulation: 5/10 Sparsity: 9 Testing Fourier... Done! Test Error: 0.166\n",
      "Topology Approx. Error: 11.790\n",
      "Simulation: 5/10 Sparsity: 9 Testing Edge Laplacian... Done! Test Error: 0.080\n",
      "Topology Approx. Error: 11.790\n",
      "Simulation: 5/10 Sparsity: 9 Testing Hodge Laplacian... Done! Test Error: 0.064\n",
      "Topology Approx. Error: 11.790\n",
      "Simulation: 5/10 Sparsity: 9 Testing Separated Hodge Laplacian... Done! Test Error: 0.050\n",
      "Topology Approx. Error: 11.790\n"
     ]
    },
    {
     "name": "stderr",
     "output_type": "stream",
     "text": [
      "2it [11:59, 377.00s/it]"
     ]
    },
    {
     "name": "stdout",
     "output_type": "stream",
     "text": [
      "Simulation: 5/10 Sparsity: 9 Testing Separated Hodge Laplacian with Topology learning... Done! Test Error: 0.032\n",
      "Topology Approx. Error: 14.731\n",
      "Simulation: 5/10 Sparsity: 13 Testing Fourier... Done! Test Error: 0.103\n",
      "Topology Approx. Error: 11.790\n",
      "Simulation: 5/10 Sparsity: 13 Testing Edge Laplacian... Done! Test Error: 0.043\n",
      "Topology Approx. Error: 11.790\n",
      "Simulation: 5/10 Sparsity: 13 Testing Hodge Laplacian... Done! Test Error: 0.035\n",
      "Topology Approx. Error: 11.790\n",
      "Simulation: 5/10 Sparsity: 13 Testing Separated Hodge Laplacian... Done! Test Error: 0.029\n",
      "Topology Approx. Error: 11.790\n"
     ]
    },
    {
     "name": "stderr",
     "output_type": "stream",
     "text": [
      "3it [22:16, 486.62s/it]"
     ]
    },
    {
     "name": "stdout",
     "output_type": "stream",
     "text": [
      "Simulation: 5/10 Sparsity: 13 Testing Separated Hodge Laplacian with Topology learning... Done! Test Error: 0.015\n",
      "Topology Approx. Error: 14.731\n",
      "Simulation: 5/10 Sparsity: 17 Testing Fourier... Done! Test Error: 0.065\n",
      "Topology Approx. Error: 11.790\n",
      "Simulation: 5/10 Sparsity: 17 Testing Edge Laplacian... Done! Test Error: 0.026\n",
      "Topology Approx. Error: 11.790\n",
      "Simulation: 5/10 Sparsity: 17 Testing Hodge Laplacian... Done! Test Error: 0.021\n",
      "Topology Approx. Error: 11.790\n",
      "Simulation: 5/10 Sparsity: 17 Testing Separated Hodge Laplacian... Done! Test Error: 0.017\n",
      "Topology Approx. Error: 11.790\n"
     ]
    },
    {
     "name": "stderr",
     "output_type": "stream",
     "text": [
      "4it [35:26, 606.42s/it]"
     ]
    },
    {
     "name": "stdout",
     "output_type": "stream",
     "text": [
      "Simulation: 5/10 Sparsity: 17 Testing Separated Hodge Laplacian with Topology learning... Done! Test Error: 0.009\n",
      "Topology Approx. Error: 14.422\n",
      "Simulation: 5/10 Sparsity: 21 Testing Fourier... Done! Test Error: 0.044\n",
      "Topology Approx. Error: 11.790\n",
      "Simulation: 5/10 Sparsity: 21 Testing Edge Laplacian... Done! Test Error: 0.016\n",
      "Topology Approx. Error: 11.790\n",
      "Simulation: 5/10 Sparsity: 21 Testing Hodge Laplacian... Done! Test Error: 0.014\n",
      "Topology Approx. Error: 11.790\n",
      "Simulation: 5/10 Sparsity: 21 Testing Separated Hodge Laplacian... Done! Test Error: 0.015\n",
      "Topology Approx. Error: 11.790\n"
     ]
    },
    {
     "name": "stderr",
     "output_type": "stream",
     "text": [
      "5it [42:09, 533.15s/it]"
     ]
    },
    {
     "name": "stdout",
     "output_type": "stream",
     "text": [
      "Simulation: 5/10 Sparsity: 21 Testing Separated Hodge Laplacian with Topology learning... Done! Test Error: 0.013\n",
      "Topology Approx. Error: 12.042\n",
      "Simulation: 5/10 Sparsity: 25 Testing Fourier... Done! Test Error: 0.032\n",
      "Topology Approx. Error: 11.790\n",
      "Simulation: 5/10 Sparsity: 25 Testing Edge Laplacian... Diverged!\n",
      "Simulation: 5/10 Sparsity: 25 Testing Hodge Laplacian... Done! Test Error: 0.009\n",
      "Topology Approx. Error: 11.790\n",
      "Simulation: 5/10 Sparsity: 25 Testing Separated Hodge Laplacian... Done! Test Error: 0.012\n",
      "Topology Approx. Error: 11.790\n"
     ]
    },
    {
     "name": "stderr",
     "output_type": "stream",
     "text": [
      "6it [45:41, 457.00s/it]\n"
     ]
    },
    {
     "name": "stdout",
     "output_type": "stream",
     "text": [
      "Simulation: 5/10 Sparsity: 25 Testing Separated Hodge Laplacian with Topology learning... Done! Test Error: 0.012\n",
      "Topology Approx. Error: 11.790\n"
     ]
    },
    {
     "name": "stderr",
     "output_type": "stream",
     "text": [
      "0it [00:00, ?it/s]"
     ]
    },
    {
     "name": "stdout",
     "output_type": "stream",
     "text": [
      "Simulation: 6/10 Sparsity: 5 Testing Fourier... Done! Test Error: 0.301\n",
      "Topology Approx. Error: 11.790\n",
      "Simulation: 6/10 Sparsity: 5 Testing Edge Laplacian... Done! Test Error: 0.158\n",
      "Topology Approx. Error: 11.790\n",
      "Simulation: 6/10 Sparsity: 5 Testing Hodge Laplacian... Done! Test Error: 0.100\n",
      "Topology Approx. Error: 11.790\n",
      "Simulation: 6/10 Sparsity: 5 Testing Separated Hodge Laplacian... Done! Test Error: 0.074\n",
      "Topology Approx. Error: 11.790\n"
     ]
    },
    {
     "name": "stderr",
     "output_type": "stream",
     "text": [
      "1it [04:40, 280.72s/it]"
     ]
    },
    {
     "name": "stdout",
     "output_type": "stream",
     "text": [
      "Simulation: 6/10 Sparsity: 5 Testing Separated Hodge Laplacian with Topology learning... Done! Test Error: 0.058\n",
      "Topology Approx. Error: 14.283\n",
      "Simulation: 6/10 Sparsity: 9 Testing Fourier... Done! Test Error: 0.173\n",
      "Topology Approx. Error: 11.790\n",
      "Simulation: 6/10 Sparsity: 9 Testing Edge Laplacian... Done! Test Error: 0.086\n",
      "Topology Approx. Error: 11.790\n",
      "Simulation: 6/10 Sparsity: 9 Testing Hodge Laplacian... Diverged!\n",
      "Simulation: 6/10 Sparsity: 9 Testing Separated Hodge Laplacian... Done! Test Error: 0.029\n",
      "Topology Approx. Error: 11.790\n"
     ]
    },
    {
     "name": "stderr",
     "output_type": "stream",
     "text": [
      "2it [12:21, 386.40s/it]"
     ]
    },
    {
     "name": "stdout",
     "output_type": "stream",
     "text": [
      "Simulation: 6/10 Sparsity: 9 Testing Separated Hodge Laplacian with Topology learning... Done! Test Error: 0.016\n",
      "Topology Approx. Error: 14.731\n",
      "Simulation: 6/10 Sparsity: 13 Testing Fourier... Done! Test Error: 0.108\n",
      "Topology Approx. Error: 11.790\n",
      "Simulation: 6/10 Sparsity: 13 Testing Edge Laplacian... Done! Test Error: 0.054\n",
      "Topology Approx. Error: 11.790\n",
      "Simulation: 6/10 Sparsity: 13 Testing Hodge Laplacian... Done! Test Error: 0.023\n",
      "Topology Approx. Error: 11.790\n",
      "Simulation: 6/10 Sparsity: 13 Testing Separated Hodge Laplacian... Done! Test Error: 0.021\n",
      "Topology Approx. Error: 11.790\n"
     ]
    },
    {
     "name": "stderr",
     "output_type": "stream",
     "text": [
      "3it [23:14, 508.30s/it]"
     ]
    },
    {
     "name": "stdout",
     "output_type": "stream",
     "text": [
      "Simulation: 6/10 Sparsity: 13 Testing Separated Hodge Laplacian with Topology learning... Done! Test Error: 0.009\n",
      "Topology Approx. Error: 14.731\n",
      "Simulation: 6/10 Sparsity: 17 Testing Fourier... Done! Test Error: 0.068\n",
      "Topology Approx. Error: 11.790\n",
      "Simulation: 6/10 Sparsity: 17 Testing Edge Laplacian... Done! Test Error: 0.033\n",
      "Topology Approx. Error: 11.790\n",
      "Simulation: 6/10 Sparsity: 17 Testing Hodge Laplacian... Done! Test Error: 0.015\n",
      "Topology Approx. Error: 11.790\n",
      "Simulation: 6/10 Sparsity: 17 Testing Separated Hodge Laplacian... Done! Test Error: 0.017\n",
      "Topology Approx. Error: 11.790\n"
     ]
    },
    {
     "name": "stderr",
     "output_type": "stream",
     "text": [
      "4it [26:08, 376.17s/it]"
     ]
    },
    {
     "name": "stdout",
     "output_type": "stream",
     "text": [
      "Simulation: 6/10 Sparsity: 17 Testing Separated Hodge Laplacian with Topology learning... Done! Test Error: 0.017\n",
      "Topology Approx. Error: 11.790\n",
      "Simulation: 6/10 Sparsity: 21 Testing Fourier... Done! Test Error: 0.044\n",
      "Topology Approx. Error: 11.790\n",
      "Simulation: 6/10 Sparsity: 21 Testing Edge Laplacian... Done! Test Error: 0.021\n",
      "Topology Approx. Error: 11.790\n",
      "Simulation: 6/10 Sparsity: 21 Testing Hodge Laplacian... Done! Test Error: 0.009\n",
      "Topology Approx. Error: 11.790\n",
      "Simulation: 6/10 Sparsity: 21 Testing Separated Hodge Laplacian... Done! Test Error: 0.013\n",
      "Topology Approx. Error: 11.790\n"
     ]
    },
    {
     "name": "stderr",
     "output_type": "stream",
     "text": [
      "5it [42:56, 604.18s/it]"
     ]
    },
    {
     "name": "stdout",
     "output_type": "stream",
     "text": [
      "Simulation: 6/10 Sparsity: 21 Testing Separated Hodge Laplacian with Topology learning... Done! Test Error: 0.003\n",
      "Topology Approx. Error: 14.731\n",
      "Simulation: 6/10 Sparsity: 25 Testing Fourier... Done! Test Error: 0.031\n",
      "Topology Approx. Error: 11.790\n",
      "Simulation: 6/10 Sparsity: 25 Testing Edge Laplacian... Diverged!\n",
      "Simulation: 6/10 Sparsity: 25 Testing Hodge Laplacian... Done! Test Error: 0.006\n",
      "Topology Approx. Error: 11.790\n",
      "Simulation: 6/10 Sparsity: 25 Testing Separated Hodge Laplacian... Done! Test Error: 0.009\n",
      "Topology Approx. Error: 11.790\n"
     ]
    },
    {
     "name": "stderr",
     "output_type": "stream",
     "text": [
      "6it [1:02:06, 621.02s/it]\n"
     ]
    },
    {
     "name": "stdout",
     "output_type": "stream",
     "text": [
      "Simulation: 6/10 Sparsity: 25 Testing Separated Hodge Laplacian with Topology learning... Done! Test Error: 0.002\n",
      "Topology Approx. Error: 14.731\n"
     ]
    },
    {
     "name": "stderr",
     "output_type": "stream",
     "text": [
      "0it [00:00, ?it/s]"
     ]
    },
    {
     "name": "stdout",
     "output_type": "stream",
     "text": [
      "Simulation: 7/10 Sparsity: 5 Testing Fourier... Done! Test Error: 0.344\n",
      "Topology Approx. Error: 11.790\n",
      "Simulation: 7/10 Sparsity: 5 Testing Edge Laplacian... Done! Test Error: 0.181\n",
      "Topology Approx. Error: 11.790\n",
      "Simulation: 7/10 Sparsity: 5 Testing Hodge Laplacian... Done! Test Error: 0.132\n",
      "Topology Approx. Error: 11.790\n",
      "Simulation: 7/10 Sparsity: 5 Testing Separated Hodge Laplacian... Done! Test Error: 0.083\n",
      "Topology Approx. Error: 11.790\n"
     ]
    },
    {
     "name": "stderr",
     "output_type": "stream",
     "text": [
      "1it [04:56, 296.88s/it]"
     ]
    },
    {
     "name": "stdout",
     "output_type": "stream",
     "text": [
      "Simulation: 7/10 Sparsity: 5 Testing Separated Hodge Laplacian with Topology learning... Done! Test Error: 0.060\n",
      "Topology Approx. Error: 14.422\n",
      "Simulation: 7/10 Sparsity: 9 Testing Fourier... Done! Test Error: 0.199\n",
      "Topology Approx. Error: 11.790\n",
      "Simulation: 7/10 Sparsity: 9 Testing Edge Laplacian... Done! Test Error: 0.096\n",
      "Topology Approx. Error: 11.790\n",
      "Simulation: 7/10 Sparsity: 9 Testing Hodge Laplacian... Done! Test Error: 0.065\n",
      "Topology Approx. Error: 11.790\n",
      "Simulation: 7/10 Sparsity: 9 Testing Separated Hodge Laplacian... Done! Test Error: 0.037\n",
      "Topology Approx. Error: 11.790\n"
     ]
    },
    {
     "name": "stderr",
     "output_type": "stream",
     "text": [
      "2it [12:30, 389.03s/it]"
     ]
    },
    {
     "name": "stdout",
     "output_type": "stream",
     "text": [
      "Simulation: 7/10 Sparsity: 9 Testing Separated Hodge Laplacian with Topology learning... Done! Test Error: 0.024\n",
      "Topology Approx. Error: 14.731\n",
      "Simulation: 7/10 Sparsity: 13 Testing Fourier... Done! Test Error: 0.127\n",
      "Topology Approx. Error: 11.790\n",
      "Simulation: 7/10 Sparsity: 13 Testing Edge Laplacian... Done! Test Error: 0.054\n",
      "Topology Approx. Error: 11.790\n",
      "Simulation: 7/10 Sparsity: 13 Testing Hodge Laplacian... Done! Test Error: 0.037\n",
      "Topology Approx. Error: 11.790\n",
      "Simulation: 7/10 Sparsity: 13 Testing Separated Hodge Laplacian... Done! Test Error: 0.022\n",
      "Topology Approx. Error: 11.790\n"
     ]
    },
    {
     "name": "stderr",
     "output_type": "stream",
     "text": [
      "3it [22:30, 485.53s/it]"
     ]
    },
    {
     "name": "stdout",
     "output_type": "stream",
     "text": [
      "Simulation: 7/10 Sparsity: 13 Testing Separated Hodge Laplacian with Topology learning... Done! Test Error: 0.011\n",
      "Topology Approx. Error: 14.731\n",
      "Simulation: 7/10 Sparsity: 17 Testing Fourier... Done! Test Error: 0.084\n",
      "Topology Approx. Error: 11.790\n",
      "Simulation: 7/10 Sparsity: 17 Testing Edge Laplacian... Done! Test Error: 0.034\n",
      "Topology Approx. Error: 11.790\n",
      "Simulation: 7/10 Sparsity: 17 Testing Hodge Laplacian... Done! Test Error: 0.022\n",
      "Topology Approx. Error: 11.790\n",
      "Simulation: 7/10 Sparsity: 17 Testing Separated Hodge Laplacian... Done! Test Error: 0.012\n",
      "Topology Approx. Error: 11.790\n"
     ]
    },
    {
     "name": "stderr",
     "output_type": "stream",
     "text": [
      "4it [36:14, 618.85s/it]"
     ]
    },
    {
     "name": "stdout",
     "output_type": "stream",
     "text": [
      "Simulation: 7/10 Sparsity: 17 Testing Separated Hodge Laplacian with Topology learning... Done! Test Error: 0.006\n",
      "Topology Approx. Error: 14.731\n",
      "Simulation: 7/10 Sparsity: 21 Testing Fourier... Done! Test Error: 0.059\n",
      "Topology Approx. Error: 11.790\n",
      "Simulation: 7/10 Sparsity: 21 Testing Edge Laplacian... Done! Test Error: 0.021\n",
      "Topology Approx. Error: 11.790\n",
      "Simulation: 7/10 Sparsity: 21 Testing Hodge Laplacian... Done! Test Error: 0.015\n",
      "Topology Approx. Error: 11.790\n",
      "Simulation: 7/10 Sparsity: 21 Testing Separated Hodge Laplacian... Done! Test Error: 0.010\n",
      "Topology Approx. Error: 11.790\n"
     ]
    },
    {
     "name": "stderr",
     "output_type": "stream",
     "text": [
      "5it [41:53, 518.17s/it]"
     ]
    },
    {
     "name": "stdout",
     "output_type": "stream",
     "text": [
      "Simulation: 7/10 Sparsity: 21 Testing Separated Hodge Laplacian with Topology learning... Done! Test Error: 0.008\n",
      "Topology Approx. Error: 12.207\n",
      "Simulation: 7/10 Sparsity: 25 Testing Fourier... Done! Test Error: 0.042\n",
      "Topology Approx. Error: 11.790\n",
      "Simulation: 7/10 Sparsity: 25 Testing Edge Laplacian... Done! Test Error: 0.015\n",
      "Topology Approx. Error: 11.790\n",
      "Simulation: 7/10 Sparsity: 25 Testing Hodge Laplacian... Done! Test Error: 0.010\n",
      "Topology Approx. Error: 11.790\n",
      "Simulation: 7/10 Sparsity: 25 Testing Separated Hodge Laplacian... Done! Test Error: 0.007\n",
      "Topology Approx. Error: 11.790\n"
     ]
    },
    {
     "name": "stderr",
     "output_type": "stream",
     "text": [
      "6it [56:58, 569.77s/it]\n"
     ]
    },
    {
     "name": "stdout",
     "output_type": "stream",
     "text": [
      "Simulation: 7/10 Sparsity: 25 Testing Separated Hodge Laplacian with Topology learning... Done! Test Error: 0.004\n",
      "Topology Approx. Error: 13.528\n"
     ]
    },
    {
     "name": "stderr",
     "output_type": "stream",
     "text": [
      "0it [00:00, ?it/s]"
     ]
    },
    {
     "name": "stdout",
     "output_type": "stream",
     "text": [
      "Simulation: 8/10 Sparsity: 5 Testing Fourier... Done! Test Error: 0.339\n",
      "Topology Approx. Error: 11.790\n",
      "Simulation: 8/10 Sparsity: 5 Testing Edge Laplacian... Done! Test Error: 0.174\n",
      "Topology Approx. Error: 11.790\n",
      "Simulation: 8/10 Sparsity: 5 Testing Hodge Laplacian... Done! Test Error: 0.121\n",
      "Topology Approx. Error: 11.790\n",
      "Simulation: 8/10 Sparsity: 5 Testing Separated Hodge Laplacian... Done! Test Error: 0.076\n",
      "Topology Approx. Error: 11.790\n"
     ]
    },
    {
     "name": "stderr",
     "output_type": "stream",
     "text": [
      "1it [01:40, 100.57s/it]"
     ]
    },
    {
     "name": "stdout",
     "output_type": "stream",
     "text": [
      "Simulation: 8/10 Sparsity: 5 Testing Separated Hodge Laplacian with Topology learning... Done! Test Error: 0.065\n",
      "Topology Approx. Error: 12.369\n",
      "Simulation: 8/10 Sparsity: 9 Testing Fourier... Done! Test Error: 0.204\n",
      "Topology Approx. Error: 11.790\n",
      "Simulation: 8/10 Sparsity: 9 Testing Edge Laplacian... Done! Test Error: 0.081\n",
      "Topology Approx. Error: 11.790\n",
      "Simulation: 8/10 Sparsity: 9 Testing Hodge Laplacian... Done! Test Error: 0.056\n",
      "Topology Approx. Error: 11.790\n",
      "Simulation: 8/10 Sparsity: 9 Testing Separated Hodge Laplacian... Done! Test Error: 0.029\n",
      "Topology Approx. Error: 11.790\n"
     ]
    },
    {
     "name": "stderr",
     "output_type": "stream",
     "text": [
      "2it [09:01, 300.85s/it]"
     ]
    },
    {
     "name": "stdout",
     "output_type": "stream",
     "text": [
      "Simulation: 8/10 Sparsity: 9 Testing Separated Hodge Laplacian with Topology learning... Done! Test Error: 0.015\n",
      "Topology Approx. Error: 14.731\n",
      "Simulation: 8/10 Sparsity: 13 Testing Fourier... Done! Test Error: 0.132\n",
      "Topology Approx. Error: 11.790\n",
      "Simulation: 8/10 Sparsity: 13 Testing Edge Laplacian... Done! Test Error: 0.047\n",
      "Topology Approx. Error: 11.790\n",
      "Simulation: 8/10 Sparsity: 13 Testing Hodge Laplacian... Done! Test Error: 0.033\n",
      "Topology Approx. Error: 11.790\n",
      "Simulation: 8/10 Sparsity: 13 Testing Separated Hodge Laplacian... Done! Test Error: 0.014\n",
      "Topology Approx. Error: 11.790\n"
     ]
    },
    {
     "name": "stderr",
     "output_type": "stream",
     "text": [
      "3it [18:29, 422.74s/it]"
     ]
    },
    {
     "name": "stdout",
     "output_type": "stream",
     "text": [
      "Simulation: 8/10 Sparsity: 13 Testing Separated Hodge Laplacian with Topology learning... Done! Test Error: 0.007\n",
      "Topology Approx. Error: 14.248\n",
      "Simulation: 8/10 Sparsity: 17 Testing Fourier... Done! Test Error: 0.090\n",
      "Topology Approx. Error: 11.790\n",
      "Simulation: 8/10 Sparsity: 17 Testing Edge Laplacian... Done! Test Error: 0.028\n",
      "Topology Approx. Error: 11.790\n",
      "Simulation: 8/10 Sparsity: 17 Testing Hodge Laplacian... Done! Test Error: 0.019\n",
      "Topology Approx. Error: 11.790\n",
      "Simulation: 8/10 Sparsity: 17 Testing Separated Hodge Laplacian... Done! Test Error: 0.011\n",
      "Topology Approx. Error: 11.790\n"
     ]
    },
    {
     "name": "stderr",
     "output_type": "stream",
     "text": [
      "4it [31:41, 568.67s/it]"
     ]
    },
    {
     "name": "stdout",
     "output_type": "stream",
     "text": [
      "Simulation: 8/10 Sparsity: 17 Testing Separated Hodge Laplacian with Topology learning... Done! Test Error: 0.004\n",
      "Topology Approx. Error: 14.731\n",
      "Simulation: 8/10 Sparsity: 21 Testing Fourier... Done! Test Error: 0.063\n",
      "Topology Approx. Error: 11.790\n",
      "Simulation: 8/10 Sparsity: 21 Testing Edge Laplacian... Done! Test Error: 0.018\n",
      "Topology Approx. Error: 11.790\n",
      "Simulation: 8/10 Sparsity: 21 Testing Hodge Laplacian... Done! Test Error: 0.012\n",
      "Topology Approx. Error: 11.790\n",
      "Simulation: 8/10 Sparsity: 21 Testing Separated Hodge Laplacian... Done! Test Error: 0.007\n",
      "Topology Approx. Error: 11.790\n"
     ]
    },
    {
     "name": "stderr",
     "output_type": "stream",
     "text": [
      "5it [48:26, 725.75s/it]"
     ]
    },
    {
     "name": "stdout",
     "output_type": "stream",
     "text": [
      "Simulation: 8/10 Sparsity: 21 Testing Separated Hodge Laplacian with Topology learning... Done! Test Error: 0.001\n",
      "Topology Approx. Error: 14.422\n",
      "Simulation: 8/10 Sparsity: 25 Testing Fourier... Done! Test Error: 0.044\n",
      "Topology Approx. Error: 11.790\n",
      "Simulation: 8/10 Sparsity: 25 Testing Edge Laplacian... Done! Test Error: 0.010\n",
      "Topology Approx. Error: 11.790\n",
      "Simulation: 8/10 Sparsity: 25 Testing Hodge Laplacian... Done! Test Error: 0.007\n",
      "Topology Approx. Error: 11.790\n",
      "Simulation: 8/10 Sparsity: 25 Testing Separated Hodge Laplacian... Done! Test Error: 0.005\n",
      "Topology Approx. Error: 11.790\n"
     ]
    },
    {
     "name": "stderr",
     "output_type": "stream",
     "text": [
      "6it [1:10:28, 704.67s/it]\n"
     ]
    },
    {
     "name": "stdout",
     "output_type": "stream",
     "text": [
      "Simulation: 8/10 Sparsity: 25 Testing Separated Hodge Laplacian with Topology learning... Done! Test Error: 0.001\n",
      "Topology Approx. Error: 14.731\n"
     ]
    },
    {
     "name": "stderr",
     "output_type": "stream",
     "text": [
      "0it [00:00, ?it/s]"
     ]
    },
    {
     "name": "stdout",
     "output_type": "stream",
     "text": [
      "Simulation: 9/10 Sparsity: 5 Testing Fourier... Done! Test Error: 0.325\n",
      "Topology Approx. Error: 11.790\n",
      "Simulation: 9/10 Sparsity: 5 Testing Edge Laplacian... Done! Test Error: 0.182\n",
      "Topology Approx. Error: 11.790\n",
      "Simulation: 9/10 Sparsity: 5 Testing Hodge Laplacian... Done! Test Error: 0.163\n",
      "Topology Approx. Error: 11.790\n",
      "Simulation: 9/10 Sparsity: 5 Testing Separated Hodge Laplacian... Done! Test Error: 0.083\n",
      "Topology Approx. Error: 11.790\n"
     ]
    },
    {
     "name": "stderr",
     "output_type": "stream",
     "text": [
      "1it [04:33, 273.12s/it]"
     ]
    },
    {
     "name": "stdout",
     "output_type": "stream",
     "text": [
      "Simulation: 9/10 Sparsity: 5 Testing Separated Hodge Laplacian with Topology learning... Done! Test Error: 0.070\n",
      "Topology Approx. Error: 14.422\n",
      "Simulation: 9/10 Sparsity: 9 Testing Fourier... Done! Test Error: 0.186\n",
      "Topology Approx. Error: 11.790\n",
      "Simulation: 9/10 Sparsity: 9 Testing Edge Laplacian... Done! Test Error: 0.086\n",
      "Topology Approx. Error: 11.790\n",
      "Simulation: 9/10 Sparsity: 9 Testing Hodge Laplacian... Done! Test Error: 0.076\n",
      "Topology Approx. Error: 11.790\n",
      "Simulation: 9/10 Sparsity: 9 Testing Separated Hodge Laplacian... Done! Test Error: 0.034\n",
      "Topology Approx. Error: 11.790\n"
     ]
    },
    {
     "name": "stderr",
     "output_type": "stream",
     "text": [
      "2it [11:53, 371.47s/it]"
     ]
    },
    {
     "name": "stdout",
     "output_type": "stream",
     "text": [
      "Simulation: 9/10 Sparsity: 9 Testing Separated Hodge Laplacian with Topology learning... Done! Test Error: 0.023\n",
      "Topology Approx. Error: 14.177\n",
      "Simulation: 9/10 Sparsity: 13 Testing Fourier... Done! Test Error: 0.116\n",
      "Topology Approx. Error: 11.790\n",
      "Simulation: 9/10 Sparsity: 13 Testing Edge Laplacian... Done! Test Error: 0.046\n",
      "Topology Approx. Error: 11.790\n",
      "Simulation: 9/10 Sparsity: 13 Testing Hodge Laplacian... Done! Test Error: 0.040\n",
      "Topology Approx. Error: 11.790\n",
      "Simulation: 9/10 Sparsity: 13 Testing Separated Hodge Laplacian... Done! Test Error: 0.016\n",
      "Topology Approx. Error: 11.790\n"
     ]
    },
    {
     "name": "stderr",
     "output_type": "stream",
     "text": [
      "3it [22:50, 502.04s/it]"
     ]
    },
    {
     "name": "stdout",
     "output_type": "stream",
     "text": [
      "Simulation: 9/10 Sparsity: 13 Testing Separated Hodge Laplacian with Topology learning... Done! Test Error: 0.011\n",
      "Topology Approx. Error: 14.731\n",
      "Simulation: 9/10 Sparsity: 17 Testing Fourier... Done! Test Error: 0.078\n",
      "Topology Approx. Error: 11.790\n",
      "Simulation: 9/10 Sparsity: 17 Testing Edge Laplacian... Done! Test Error: 0.027\n",
      "Topology Approx. Error: 11.790\n",
      "Simulation: 9/10 Sparsity: 17 Testing Hodge Laplacian... Done! Test Error: 0.023\n",
      "Topology Approx. Error: 11.790\n",
      "Simulation: 9/10 Sparsity: 17 Testing Separated Hodge Laplacian... Done! Test Error: 0.012\n",
      "Topology Approx. Error: 11.790\n"
     ]
    },
    {
     "name": "stderr",
     "output_type": "stream",
     "text": [
      "4it [33:26, 554.76s/it]"
     ]
    },
    {
     "name": "stdout",
     "output_type": "stream",
     "text": [
      "Simulation: 9/10 Sparsity: 17 Testing Separated Hodge Laplacian with Topology learning... Done! Test Error: 0.007\n",
      "Topology Approx. Error: 13.491\n",
      "Simulation: 9/10 Sparsity: 21 Testing Fourier... Done! Test Error: 0.053\n",
      "Topology Approx. Error: 11.790\n",
      "Simulation: 9/10 Sparsity: 21 Testing Edge Laplacian... Done! Test Error: 0.016\n",
      "Topology Approx. Error: 11.790\n",
      "Simulation: 9/10 Sparsity: 21 Testing Hodge Laplacian... Done! Test Error: 0.014\n",
      "Topology Approx. Error: 11.790\n",
      "Simulation: 9/10 Sparsity: 21 Testing Separated Hodge Laplacian... Done! Test Error: 0.008\n",
      "Topology Approx. Error: 11.790\n"
     ]
    },
    {
     "name": "stderr",
     "output_type": "stream",
     "text": [
      "5it [45:51, 623.38s/it]"
     ]
    },
    {
     "name": "stdout",
     "output_type": "stream",
     "text": [
      "Simulation: 9/10 Sparsity: 21 Testing Separated Hodge Laplacian with Topology learning... Done! Test Error: 0.006\n",
      "Topology Approx. Error: 13.416\n",
      "Simulation: 9/10 Sparsity: 25 Testing Fourier... Done! Test Error: 0.036\n",
      "Topology Approx. Error: 11.790\n",
      "Simulation: 9/10 Sparsity: 25 Testing Edge Laplacian... Done! Test Error: 0.010\n",
      "Topology Approx. Error: 11.790\n",
      "Simulation: 9/10 Sparsity: 25 Testing Hodge Laplacian... Done! Test Error: 0.009\n",
      "Topology Approx. Error: 11.790\n",
      "Simulation: 9/10 Sparsity: 25 Testing Separated Hodge Laplacian... Done! Test Error: 0.008\n",
      "Topology Approx. Error: 11.790\n"
     ]
    },
    {
     "name": "stderr",
     "output_type": "stream",
     "text": [
      "6it [51:12, 512.15s/it]\n"
     ]
    },
    {
     "name": "stdout",
     "output_type": "stream",
     "text": [
      "Simulation: 9/10 Sparsity: 25 Testing Separated Hodge Laplacian with Topology learning... Done! Test Error: 0.008\n",
      "Topology Approx. Error: 11.790\n"
     ]
    },
    {
     "name": "stderr",
     "output_type": "stream",
     "text": [
      "0it [00:00, ?it/s]"
     ]
    },
    {
     "name": "stdout",
     "output_type": "stream",
     "text": [
      "Simulation: 10/10 Sparsity: 5 Testing Fourier... Done! Test Error: 0.296\n",
      "Topology Approx. Error: 11.790\n",
      "Simulation: 10/10 Sparsity: 5 Testing Edge Laplacian... Diverged!\n",
      "Simulation: 10/10 Sparsity: 5 Testing Hodge Laplacian... Done! Test Error: 0.155\n",
      "Topology Approx. Error: 11.790\n",
      "Simulation: 10/10 Sparsity: 5 Testing Separated Hodge Laplacian... Done! Test Error: 0.068\n",
      "Topology Approx. Error: 11.790\n"
     ]
    },
    {
     "name": "stderr",
     "output_type": "stream",
     "text": [
      "1it [04:22, 262.54s/it]"
     ]
    },
    {
     "name": "stdout",
     "output_type": "stream",
     "text": [
      "Simulation: 10/10 Sparsity: 5 Testing Separated Hodge Laplacian with Topology learning... Done! Test Error: 0.046\n",
      "Topology Approx. Error: 14.422\n",
      "Simulation: 10/10 Sparsity: 9 Testing Fourier... Done! Test Error: 0.163\n",
      "Topology Approx. Error: 11.790\n",
      "Simulation: 10/10 Sparsity: 9 Testing Edge Laplacian... Done! Test Error: 0.086\n",
      "Topology Approx. Error: 11.790\n",
      "Simulation: 10/10 Sparsity: 9 Testing Hodge Laplacian... Done! Test Error: 0.076\n",
      "Topology Approx. Error: 11.790\n",
      "Simulation: 10/10 Sparsity: 9 Testing Separated Hodge Laplacian... Done! Test Error: 0.031\n",
      "Topology Approx. Error: 11.790\n"
     ]
    },
    {
     "name": "stderr",
     "output_type": "stream",
     "text": [
      "2it [12:04, 379.57s/it]"
     ]
    },
    {
     "name": "stdout",
     "output_type": "stream",
     "text": [
      "Simulation: 10/10 Sparsity: 9 Testing Separated Hodge Laplacian with Topology learning... Done! Test Error: 0.015\n",
      "Topology Approx. Error: 14.731\n",
      "Simulation: 10/10 Sparsity: 13 Testing Fourier... Done! Test Error: 0.101\n",
      "Topology Approx. Error: 11.790\n",
      "Simulation: 10/10 Sparsity: 13 Testing Edge Laplacian... Done! Test Error: 0.048\n",
      "Topology Approx. Error: 11.790\n",
      "Simulation: 10/10 Sparsity: 13 Testing Hodge Laplacian... Done! Test Error: 0.043\n",
      "Topology Approx. Error: 11.790\n",
      "Simulation: 10/10 Sparsity: 13 Testing Separated Hodge Laplacian... Done! Test Error: 0.028\n",
      "Topology Approx. Error: 11.790\n"
     ]
    },
    {
     "name": "stderr",
     "output_type": "stream",
     "text": [
      "3it [22:05, 480.92s/it]"
     ]
    },
    {
     "name": "stdout",
     "output_type": "stream",
     "text": [
      "Simulation: 10/10 Sparsity: 13 Testing Separated Hodge Laplacian with Topology learning... Done! Test Error: 0.009\n",
      "Topology Approx. Error: 14.422\n",
      "Simulation: 10/10 Sparsity: 17 Testing Fourier... Done! Test Error: 0.066\n",
      "Topology Approx. Error: 11.790\n",
      "Simulation: 10/10 Sparsity: 17 Testing Edge Laplacian... Done! Test Error: 0.028\n",
      "Topology Approx. Error: 11.790\n",
      "Simulation: 10/10 Sparsity: 17 Testing Hodge Laplacian... Done! Test Error: 0.026\n",
      "Topology Approx. Error: 11.790\n",
      "Simulation: 10/10 Sparsity: 17 Testing Separated Hodge Laplacian... Done! Test Error: 0.013\n",
      "Topology Approx. Error: 11.790\n"
     ]
    },
    {
     "name": "stderr",
     "output_type": "stream",
     "text": [
      "4it [34:50, 593.23s/it]"
     ]
    },
    {
     "name": "stdout",
     "output_type": "stream",
     "text": [
      "Simulation: 10/10 Sparsity: 17 Testing Separated Hodge Laplacian with Topology learning... Done! Test Error: 0.006\n",
      "Topology Approx. Error: 14.731\n",
      "Simulation: 10/10 Sparsity: 21 Testing Fourier... Done! Test Error: 0.045\n",
      "Topology Approx. Error: 11.790\n",
      "Simulation: 10/10 Sparsity: 21 Testing Edge Laplacian... Done! Test Error: 0.024\n",
      "Topology Approx. Error: 11.790\n",
      "Simulation: 10/10 Sparsity: 21 Testing Hodge Laplacian... Done! Test Error: 0.018\n",
      "Topology Approx. Error: 11.790\n",
      "Simulation: 10/10 Sparsity: 21 Testing Separated Hodge Laplacian... Done! Test Error: 0.011\n",
      "Topology Approx. Error: 11.790\n"
     ]
    },
    {
     "name": "stderr",
     "output_type": "stream",
     "text": [
      "5it [47:26, 651.78s/it]"
     ]
    },
    {
     "name": "stdout",
     "output_type": "stream",
     "text": [
      "Simulation: 10/10 Sparsity: 21 Testing Separated Hodge Laplacian with Topology learning... Done! Test Error: 0.007\n",
      "Topology Approx. Error: 13.454\n",
      "Simulation: 10/10 Sparsity: 25 Testing Fourier... Done! Test Error: 0.033\n",
      "Topology Approx. Error: 11.790\n",
      "Simulation: 10/10 Sparsity: 25 Testing Edge Laplacian... Done! Test Error: 0.020\n",
      "Topology Approx. Error: 11.790\n",
      "Simulation: 10/10 Sparsity: 25 Testing Hodge Laplacian... Done! Test Error: 0.013\n",
      "Topology Approx. Error: 11.790\n",
      "Simulation: 10/10 Sparsity: 25 Testing Separated Hodge Laplacian... Done! Test Error: 0.008\n",
      "Topology Approx. Error: 11.790\n"
     ]
    },
    {
     "name": "stderr",
     "output_type": "stream",
     "text": [
      "6it [1:00:55, 609.17s/it]"
     ]
    },
    {
     "name": "stdout",
     "output_type": "stream",
     "text": [
      "Simulation: 10/10 Sparsity: 25 Testing Separated Hodge Laplacian with Topology learning... Done! Test Error: 0.005\n",
      "Topology Approx. Error: 13.115\n"
     ]
    },
    {
     "name": "stderr",
     "output_type": "stream",
     "text": [
      "\n"
     ]
    }
   ],
   "source": [
    "import warnings\n",
    "warnings.filterwarnings(\"ignore\")\n",
    "\n",
    "res, models = param_dict_learning(\n",
    "    X_train,\n",
    "    X_test,\n",
    "    Y_train,\n",
    "    Y_test,\n",
    "    c_true,\n",
    "    epsilon_true,\n",
    "    n_sim,\n",
    "    topo_params,\n",
    "    algo_params,\n",
    "    K0_coll,\n",
    "    Lu,\n",
    "    prob_T,\n",
    "    learn_topology=True\n",
    ")"
   ]
  },
  {
   "cell_type": "code",
   "execution_count": 84,
   "metadata": {},
   "outputs": [],
   "source": [
    "# import pickle\n",
    "\n",
    "# with open('results\\\\final\\\\res.pkl', 'wb') as file:\n",
    "#     pickle.dump(models, file)\n",
    "#     pickle.dump(res, file)\n"
   ]
  },
  {
   "cell_type": "code",
   "execution_count": 50,
   "metadata": {},
   "outputs": [],
   "source": [
    "import pickle\n",
    "\n",
    "with open(\"results\\\\final\\\\res.pkl\", \"rb\") as f:\n",
    "    models = pickle.load(f)\n",
    "    res = pickle.load(f)"
   ]
  },
  {
   "cell_type": "code",
   "execution_count": 6,
   "metadata": {},
   "outputs": [
    {
     "data": {
      "image/png": "[encoded data removed]",
      "text/plain": [
       "<Figure size 1000x600 with 1 Axes>"
      ]
     },
     "metadata": {},
     "output_type": "display_data"
    },
    {
     "data": {
      "text/plain": [
       "<Axes: title={'center': 'True dictionary: Separated Hodge Laplacian'}, xlabel='Sparsity', ylabel='Error (log scale)'>"
      ]
     },
     "execution_count": 6,
     "metadata": {},
     "output_type": "execute_result"
    }
   ],
   "source": [
    "plot_error_curves(res,\"sep\")"
   ]
  },
  {
   "cell_type": "code",
   "execution_count": 69,
   "metadata": {},
   "outputs": [
    {
     "data": {
      "image/png": "[encoded data removed]",
      "text/plain": [
       "<Figure size 640x480 with 1 Axes>"
      ]
     },
     "metadata": {},
     "output_type": "display_data"
    }
   ],
   "source": [
    "import seaborn as sns \n",
    "import matplotlib.pyplot as plt\n",
    "\n",
    "tmp_df = pd.DataFrame(res[\"comp\"][2])\n",
    "tmp_df.columns = K0_coll\n",
    "tmp_df = tmp_df.melt(var_name=\"Sparsity\", value_name=\"Error\")\n",
    "\n",
    "plot1= sns.lineplot(data=tmp_df,\n",
    "        x=\"Sparsity\",\n",
    "        y=\"Error\")\n",
    "plt.show()"
   ]
  },
  {
   "cell_type": "code",
   "execution_count": 70,
   "metadata": {},
   "outputs": [
    {
     "data": {
      "image/png": "[encoded data removed]",
      "text/plain": [
       "<Figure size 640x480 with 1 Axes>"
      ]
     },
     "metadata": {},
     "output_type": "display_data"
    }
   ],
   "source": [
    "plot2 = sns.lineplot(data=tmp_df,\n",
    "        x=\"Sparsity\",\n",
    "        y=\"Error\",estimator=np.var,errorbar=None)\n",
    "plot2.set_ylabel(\"Error Variance\")\n",
    "plt.show()"
   ]
  },
  {
   "cell_type": "code",
   "execution_count": 10,
   "metadata": {},
   "outputs": [
    {
     "data": {
      "image/png": "[encoded data removed]",
      "text/plain": [
       "<Figure size 1600x600 with 3 Axes>"
      ]
     },
     "metadata": {},
     "output_type": "display_data"
    }
   ],
   "source": [
    "plot_learnt_topology(G, B2, models[\"0,0\"])"
   ]
  },
  {
   "cell_type": "code",
   "execution_count": 4,
   "metadata": {},
   "outputs": [
    {
     "data": {
      "text/plain": [
       "[(0.12156862745098039, 0.4666666666666667, 0.7058823529411765),\n",
       " (1.0, 0.4980392156862745, 0.054901960784313725),\n",
       " (0.17254901960784313, 0.6274509803921569, 0.17254901960784313),\n",
       " (0.8392156862745098, 0.15294117647058825, 0.1568627450980392),\n",
       " (0.5803921568627451, 0.403921568627451, 0.7411764705882353)]"
      ]
     },
     "execution_count": 4,
     "metadata": {},
     "output_type": "execute_result"
    }
   ],
   "source": [
    "import seaborn as sns\n",
    "sns.color_palette()[:5]"
   ]
  }
 ],
 "metadata": {
  "kernelspec": {
   "display_name": "base",
   "language": "python",
   "name": "python3"
  },
  "language_info": {
   "codemirror_mode": {
    "name": "ipython",
    "version": 3
   },
   "file_extension": ".py",
   "mimetype": "text/x-python",
   "name": "python",
   "nbconvert_exporter": "python",
   "pygments_lexer": "ipython3",
   "version": "3.9.17"
  }
 },
 "nbformat": 4,
 "nbformat_minor": 2
}
