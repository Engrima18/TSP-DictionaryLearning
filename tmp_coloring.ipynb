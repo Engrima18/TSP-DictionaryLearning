{
 "cells": [
  {
   "cell_type": "code",
   "execution_count": 1,
   "metadata": {},
   "outputs": [],
   "source": [
    "from tsplearn import *\n",
    "import numpy as np \n",
    "import pandas as pd\n",
    "\n",
    "prob_T=0.97\n",
    "\n",
    "# Load the graph\n",
    "G = EnhancedGraph(n=40, p_edges=0.162, p_triangles=prob_T, seed=0)\n",
    "B1 = G.get_b1()\n",
    "B2 = G.get_b2()\n",
    "\n",
    "# Sub-sampling if needed to decrease complexity\n",
    "sub_size = 100\n",
    "B1 = B1[:, :sub_size]\n",
    "B2 = B2[:sub_size, :]\n",
    "B2 = B2[:,np.sum(np.abs(B2), 0) == 3]\n",
    "nu = B2.shape[1]\n",
    "nd = B1.shape[1]\n",
    "T = int(np.ceil(nu*(1-prob_T)))\n",
    "\n",
    "# Laplacians\n",
    "Lu, Ld, L = G.get_laplacians(sub_size=100)\n",
    "Lu_full = G.get_laplacians(sub_size=100, full=True)\n",
    "M =  L.shape[0]\n",
    "\n",
    "\n",
    "# Problem and Dictionary Dimensionalities\n",
    "dictionary_type=\"separated\"\n",
    "m_train = 150 # Number of Train Signals\n",
    "m_test = 80 # Number of Test Signal\n",
    "P = 3 # Number of Kernels (Sub-dictionaries)\n",
    "J = 2 # Polynomial order\n",
    "sparsity = .1 # Sparsity percentage\n",
    "K0_max = 20 #floor(M*sparsity) # Sparsity\n",
    "sparsity_mode = \"max\"\n",
    "n_search = 3000\n",
    "n_sim = 10\n",
    "\n",
    "# Data-Independent Problem Hyperparameters\n",
    "K0_coll = np.arange(5, 26, 4) \n",
    "max_iter = 100 \n",
    "patience = 5 \n",
    "tol = 1e-7 # tolerance for Patience\n",
    "lambda_ = 1e-7 # l2 multiplier\n",
    "verbose = True"
   ]
  },
  {
   "cell_type": "code",
   "execution_count": 2,
   "metadata": {},
   "outputs": [
    {
     "data": {
      "text/plain": [
       "2"
      ]
     },
     "execution_count": 2,
     "metadata": {},
     "output_type": "execute_result"
    }
   ],
   "source": [
    "T"
   ]
  },
  {
   "cell_type": "code",
   "execution_count": 391,
   "metadata": {},
   "outputs": [
    {
     "name": "stderr",
     "output_type": "stream",
     "text": [
      "100%|██████████| 3000/3000 [01:24<00:00, 35.36it/s]\n"
     ]
    },
    {
     "name": "stdout",
     "output_type": "stream",
     "text": [
      "...Done! # Best Sparsity: 4\n"
     ]
    },
    {
     "name": "stderr",
     "output_type": "stream",
     "text": [
      "100%|██████████| 3000/3000 [01:24<00:00, 35.30it/s]\n"
     ]
    },
    {
     "name": "stdout",
     "output_type": "stream",
     "text": [
      "...Done! # Best Sparsity: 4\n"
     ]
    },
    {
     "name": "stderr",
     "output_type": "stream",
     "text": [
      "100%|██████████| 3000/3000 [01:24<00:00, 35.49it/s]\n"
     ]
    },
    {
     "name": "stdout",
     "output_type": "stream",
     "text": [
      "...Done! # Best Sparsity: 4\n"
     ]
    },
    {
     "name": "stderr",
     "output_type": "stream",
     "text": [
      "100%|██████████| 3000/3000 [01:24<00:00, 35.56it/s]\n"
     ]
    },
    {
     "name": "stdout",
     "output_type": "stream",
     "text": [
      "...Done! # Best Sparsity: 5\n"
     ]
    },
    {
     "name": "stderr",
     "output_type": "stream",
     "text": [
      "100%|██████████| 3000/3000 [01:24<00:00, 35.54it/s]\n"
     ]
    },
    {
     "name": "stdout",
     "output_type": "stream",
     "text": [
      "...Done! # Best Sparsity: 3\n"
     ]
    },
    {
     "name": "stderr",
     "output_type": "stream",
     "text": [
      "100%|██████████| 3000/3000 [01:25<00:00, 35.27it/s]\n"
     ]
    },
    {
     "name": "stdout",
     "output_type": "stream",
     "text": [
      "...Done! # Best Sparsity: 4\n"
     ]
    },
    {
     "name": "stderr",
     "output_type": "stream",
     "text": [
      "100%|██████████| 3000/3000 [01:24<00:00, 35.33it/s]\n"
     ]
    },
    {
     "name": "stdout",
     "output_type": "stream",
     "text": [
      "...Done! # Best Sparsity: 4\n"
     ]
    },
    {
     "name": "stderr",
     "output_type": "stream",
     "text": [
      "100%|██████████| 3000/3000 [01:24<00:00, 35.39it/s]\n"
     ]
    },
    {
     "name": "stdout",
     "output_type": "stream",
     "text": [
      "...Done! # Best Sparsity: 3\n"
     ]
    },
    {
     "name": "stderr",
     "output_type": "stream",
     "text": [
      "100%|██████████| 3000/3000 [01:24<00:00, 35.68it/s]\n"
     ]
    },
    {
     "name": "stdout",
     "output_type": "stream",
     "text": [
      "...Done! # Best Sparsity: 4\n"
     ]
    },
    {
     "name": "stderr",
     "output_type": "stream",
     "text": [
      "100%|██████████| 3000/3000 [01:24<00:00, 35.34it/s]"
     ]
    },
    {
     "name": "stdout",
     "output_type": "stream",
     "text": [
      "...Done! # Best Sparsity: 5\n"
     ]
    },
    {
     "name": "stderr",
     "output_type": "stream",
     "text": [
      "\n"
     ]
    }
   ],
   "source": [
    "D_true, Y_train, Y_test, X_train, X_test, epsilon_true, c_true = generate_data(dictionary_type=dictionary_type,\n",
    "                                                                                Lu=Lu,\n",
    "                                                                                Ld=Ld,\n",
    "                                                                                M=M,\n",
    "                                                                                P=P,\n",
    "                                                                                J=J,\n",
    "                                                                                n_sim=n_sim,\n",
    "                                                                                m_test=m_test,\n",
    "                                                                                m_train=m_train,\n",
    "                                                                                K0_max=K0_max,\n",
    "                                                                                n_search=n_search,\n",
    "                                                                                sparsity_mode=sparsity_mode,\n",
    "                                                                                )"
   ]
  },
  {
   "cell_type": "markdown",
   "metadata": {},
   "source": [
    "### Save full dataset"
   ]
  },
  {
   "cell_type": "code",
   "execution_count": 392,
   "metadata": {},
   "outputs": [],
   "source": [
    "import os\n",
    "import pickle \n",
    "\n",
    "name = f'full_data_{dictionary_type}'\n",
    "save_var = {\"D_true\" : D_true,\n",
    "            \"Y_train\" : Y_train,\n",
    "            \"Y_test\" : Y_test,\n",
    "            \"X_train\" : X_train,\n",
    "            \"X_test\" : X_test,\n",
    "            \"epsilon_true\" : epsilon_true,\n",
    "            \"c_true\" : c_true}\n",
    "\n",
    "PATH = os.getcwd()\n",
    "DIR_PATH = f'{PATH}\\\\synthetic_data'\n",
    "FILENAME = f'{DIR_PATH}\\\\{name}.pkl'\n",
    "\n",
    "if not os.path.exists(DIR_PATH):\n",
    "    os.makedirs(DIR_PATH)\n",
    "    \n",
    "with open(FILENAME, 'wb') as f: \n",
    "    pickle.dump(save_var, f)\n",
    "f.close()"
   ]
  },
  {
   "cell_type": "markdown",
   "metadata": {},
   "source": [
    "### Save coloring data"
   ]
  },
  {
   "cell_type": "code",
   "execution_count": 33,
   "metadata": {},
   "outputs": [],
   "source": [
    "import os\n",
    "import pickle \n",
    "\n",
    "name = f'top_data_T{int(prob_T*100)}'\n",
    "save_var = {\"D_true\" : D_true,\n",
    "            \"Y_train\" : Y_train,\n",
    "            \"Y_test\" : Y_test,\n",
    "            \"X_train\" : X_train,\n",
    "            \"X_test\" : X_test,\n",
    "            \"epsilon_true\" : epsilon_true,\n",
    "            \"c_true\" : c_true}\n",
    "\n",
    "PATH = os.getcwd()\n",
    "DIR_PATH = f'{PATH}\\\\synthetic_data'\n",
    "FILENAME = f'{DIR_PATH}\\\\{name}.pkl'\n",
    "\n",
    "if not os.path.exists(DIR_PATH):\n",
    "    os.makedirs(DIR_PATH)\n",
    "    \n",
    "with open(FILENAME, 'wb') as f: \n",
    "    pickle.dump(save_var, f)\n",
    "f.close()"
   ]
  },
  {
   "cell_type": "markdown",
   "metadata": {},
   "source": [
    "### Load coloring data"
   ]
  },
  {
   "cell_type": "code",
   "execution_count": 3,
   "metadata": {},
   "outputs": [],
   "source": [
    "import os\n",
    "import pickle\n",
    "\n",
    "name = f'top_data_T{int(prob_T*100)}'\n",
    "PATH = os.getcwd()\n",
    "DIR_PATH = f'{PATH}\\\\synthetic_data'\n",
    "FILENAME = f'{DIR_PATH}\\\\{name}.pkl'\n",
    "\n",
    "with open(FILENAME, 'rb') as f: \n",
    "    load_data = pickle.load(f)\n",
    "f.close()\n",
    "\n",
    "D_true = load_data['D_true']\n",
    "Y_train = load_data['Y_train']\n",
    "Y_test = load_data['Y_test']\n",
    "X_train = load_data['X_train']\n",
    "X_test = load_data['X_test']\n",
    "epsilon_true =  load_data['epsilon_true']\n",
    "c_true = load_data['c_true']"
   ]
  },
  {
   "cell_type": "code",
   "execution_count": 16,
   "metadata": {},
   "outputs": [],
   "source": [
    "import scipy.linalg as sla\n",
    "import numpy as np\n",
    "import numpy.linalg as la\n",
    "import cvxpy as cp\n",
    "from tsplearn.data_gen import *\n",
    "from typing import Tuple, List, Union\n",
    "\n",
    "def sparse_transform(D, K0, Y_test, Y_train=None):\n",
    "\n",
    "    # OMP Step\n",
    "    dd = la.norm(D, axis=0)\n",
    "    W = np.diag(1. / dd)\n",
    "    Domp = D @ W\n",
    "    X_test = np.apply_along_axis(lambda x: get_omp_coeff(K0, Domp=Domp, col=x), axis=0, arr=Y_test)\n",
    "    # Normalization\n",
    "    X_test = W @ X_test\n",
    "\n",
    "    # Same for the training set\n",
    "    if np.all(Y_train != None):\n",
    "        X_train = np.apply_along_axis(lambda x: get_omp_coeff(K0, Domp=Domp, col=x), axis=0, arr=Y_train)\n",
    "        X_train = W @ X_train\n",
    "\n",
    "        return X_test, X_train\n",
    "    \n",
    "    return X_test\n",
    "\n",
    "def nmse(D, X, Y, m):\n",
    "    return (1/m)* np.sum(la.norm(Y - (D @ X), axis=0)**2 /la.norm(Y, axis=0)**2)\n",
    "\n",
    "def topological_dictionary_learn(Y_train: np.ndarray,\n",
    "                                 Y_test: np.ndarray, \n",
    "                                 J: int, \n",
    "                                 M: int, \n",
    "                                 P: int,\n",
    "                                 D0: np.ndarray, \n",
    "                                 X0: np.ndarray, \n",
    "                                 Lu: np.ndarray, \n",
    "                                 Ld: np.ndarray,\n",
    "                                 dictionary_type: str, \n",
    "                                 c: float, \n",
    "                                 epsilon: float, \n",
    "                                 K0: int,\n",
    "                                 lambda_: float = 1e-3, \n",
    "                                 max_iter: int = 10, \n",
    "                                 patience: int = 10,\n",
    "                                 tol: float = 1e-7, \n",
    "                                 verbose: bool = False) -> Tuple[np.ndarray, np.ndarray, np.ndarray, np.ndarray, np.ndarray]:\n",
    "    \"\"\"\n",
    "    Dictionary learning algorithm implementation for sparse representations of a signal on complex regular cellular.\n",
    "    The algorithm consists of an iterative alternating optimization procedure defined in two steps: the positive semi-definite programming step\n",
    "    for obtaining the coefficients and dictionary based on Hodge theory, and the Orthogonal Matching Pursuit step for constructing \n",
    "    the K0-sparse solution from the dictionary found in the previous step, which best approximates the original signal.\n",
    "    Args:\n",
    "        Y_train (np.ndarray): Training data.\n",
    "        Y_test (np.ndarray): Testing data.\n",
    "        J (int): Max order of the polynomial for the single sub-dictionary.\n",
    "        M (int): Number of data points (number of nodes in the data graph).\n",
    "        P (int): Number of kernels (sub-dictionaries).\n",
    "        D0 (np.ndarray): Initial dictionary.\n",
    "        X0 (np.ndarray): Initial sparse representation.\n",
    "        Lu (np.ndarray): Upper Laplacian matrix\n",
    "        Ld (np.ndarray): Lower Laplacian matrix\n",
    "        dictionary_type (str): Type of dictionary.\n",
    "        c (float): Boundary constant from the synthetic data generation process.\n",
    "        epsilon (float): Boundary constant from the synthetic data generation process.\n",
    "        K0 (int): Sparsity of the signal representation.\n",
    "        lambda_ (float, optional): Regularization parameter. Defaults to 1e-3.\n",
    "        max_iter (int, optional): Maximum number of iterations. Defaults to 10.\n",
    "        patience (int, optional): Patience for early stopping. Defaults to 10.\n",
    "        tol (float, optional): Tolerance value. Defaults to 1e-s.\n",
    "        verbose (int, optional): Verbosity level. Defaults to 0.\n",
    "\n",
    "    Returns:\n",
    "        Tuple[np.ndarray, np.ndarray, np.ndarray, np.ndarray, np.ndarray]:\n",
    "         minimum training error, minimum testing error, optimal coefficients, optimal testing sparse representation, and optimal training sparse representation.\n",
    "    \"\"\"\n",
    "\n",
    "    # Define hyperparameters\n",
    "    Ldj = 0\n",
    "    min_error_train_norm, min_error_test_norm = 1e20, 1e20\n",
    "    m_test, m_train = Y_test.shape[1], Y_train.shape[1]\n",
    "    iter_, pat_iter = 1, 0\n",
    "    history = []\n",
    "\n",
    "    if dictionary_type != \"fourier\":\n",
    "        if dictionary_type==\"joint\":\n",
    "            Lj, _, _ = compute_Lj_and_lambdaj(Lu + Ld, J)\n",
    "        elif dictionary_type==\"edge_laplacian\":\n",
    "            Lj, _, _ = compute_Lj_and_lambdaj(Ld, J)\n",
    "        elif dictionary_type==\"separated\":\n",
    "            Luj, _, _ = compute_Lj_and_lambdaj(Lu, J, separated=True)\n",
    "            Ldj, _, _ = compute_Lj_and_lambdaj(Ld, J, separated=True)\n",
    "\n",
    "        # Init the dictionary and the sparse representation \n",
    "        D_coll = [cp.Constant(D0[:,(M*i):(M*(i+1))]) for i in range(P)]\n",
    "        Y = cp.Constant(Y_train)\n",
    "        X_train = X0\n",
    "        \n",
    "        while pat_iter < patience and iter_ <= max_iter:\n",
    "            \n",
    "            # SDP Step\n",
    "            # Init constants and parameters\n",
    "            D_coll = [cp.Constant(np.zeros((M, M))) for i in range(P)] \n",
    "            Dsum = cp.Constant(np.zeros((M, M)))\n",
    "            X = cp.Constant(X_train)\n",
    "            I = cp.Constant(np.eye(M))\n",
    "            \n",
    "            # Define the objective function\n",
    "            if dictionary_type in [\"joint\", \"edge_laplacian\"]:\n",
    "                # Init the variables\n",
    "                h = cp.Variable((P, J))\n",
    "                hI = cp.Variable((P, 1))\n",
    "                for i in range(0,P):\n",
    "                    tmp =  cp.Constant(np.zeros((M, M)))\n",
    "                    for j in range(0,J):\n",
    "                        tmp += (cp.Constant(Lj[j, :, :]) * h[i,j])\n",
    "                    tmp += (I*hI[i])\n",
    "                    D_coll[i] = tmp\n",
    "                    Dsum += tmp\n",
    "                D = cp.hstack([D_coll[i]for i in range(P)])\n",
    "                term1 = cp.square(cp.norm((Y - D @ X), 'fro'))\n",
    "                term2 = cp.square(cp.norm(h, 'fro')*lambda_)\n",
    "                term3 = cp.square(cp.norm(hI, 'fro')*lambda_)\n",
    "                obj = cp.Minimize(term1 + term2 + term3)\n",
    "\n",
    "            else:\n",
    "                # Init the variables\n",
    "                hI = cp.Variable((P, J))\n",
    "                hS = cp.Variable((P, J))\n",
    "                hH = cp.Variable((P, 1))\n",
    "                for i in range(0,P):\n",
    "                    tmp =  cp.Constant(np.zeros((M, M)))\n",
    "                    for j in range(0,J):\n",
    "                        tmp += ((cp.Constant(Luj[j, :, :])*hS[i,j]) + (cp.Constant(Ldj[j, :, :])*hI[i,j]))\n",
    "                    tmp += (I*hH[i])\n",
    "                    D_coll[i] = tmp\n",
    "                    Dsum += tmp\n",
    "                D = cp.hstack([D_coll[i]for i in range(P)])\n",
    "                \n",
    "                term1 = cp.square(cp.norm((Y - D @ X), 'fro'))\n",
    "                term2 = cp.square(cp.norm(hI, 'fro')*lambda_)\n",
    "                term3 = cp.square(cp.norm(hS, 'fro')*lambda_)\n",
    "                term4 = cp.square(cp.norm(hH, 'fro')*lambda_)\n",
    "                obj = cp.Minimize(term1 + term2 + term3 + term4)\n",
    "\n",
    "            # Define the constraints\n",
    "            constraints = [D_coll[i] >> 0 for i in range(P)] + \\\n",
    "                            [(cp.multiply(c, I) - D_coll[i]) >> 0 for i in range(P)] + \\\n",
    "                            [(Dsum - cp.multiply((c - epsilon), I)) >> 0, (cp.multiply((c + epsilon), I) - Dsum) >> 0]\n",
    "\n",
    "            prob = cp.Problem(obj, constraints)\n",
    "            prob.solve(solver=cp.MOSEK, verbose=False)\n",
    "            # Update the dictionary\n",
    "            D = D.value\n",
    "\n",
    "            # OMP Step\n",
    "            X_test,X_train = sparse_transform(D, K0, Y_test, Y_train)\n",
    "            # dd = la.norm(D, axis=0)\n",
    "            # W = np.diag(1. / dd)\n",
    "            # Domp = D @ W\n",
    "            # X_train = np.apply_along_axis(lambda x: get_omp_coeff(K0, Domp=Domp, col=x), axis=0, arr=Y_train)\n",
    "            # X_test = np.apply_along_axis(lambda x: get_omp_coeff(K0, Domp=Domp, col=x), axis=0, arr=Y_test)\n",
    "            # # Normalization\n",
    "            # X_train = W @ X_train\n",
    "            # X_test = W @ X_test\n",
    "\n",
    "            # Error Updating\n",
    "            error_train_norm = (1/m_train)* np.sum(la.norm(Y_train - (D @ X_train), axis=0)**2 /\n",
    "                                    la.norm(Y_train, axis=0)**2)\n",
    "            error_test_norm = (1/m_test)* np.sum(la.norm(Y_test - (D @ X_test), axis=0)**2 /\n",
    "                                    la.norm(Y_test, axis=0)**2)\n",
    "\n",
    "            history.append(error_test_norm)\n",
    "            \n",
    "            # Error Storing\n",
    "            if (error_train_norm < min_error_train_norm) and (abs(error_train_norm) > np.finfo(float).eps) and (abs(error_train_norm - min_error_train_norm) > tol):\n",
    "                X_opt_train = X_train\n",
    "                min_error_train_norm = error_train_norm\n",
    "\n",
    "            if (error_test_norm < min_error_test_norm) and (abs(error_test_norm) > np.finfo(float).eps) and (abs(error_test_norm - min_error_test_norm) > tol):\n",
    "                h_opt = h.value if dictionary_type in [\"joint\", \"edge_laplacian\"] else [hS.value, hI.value, hH.value]\n",
    "                D_opt = D\n",
    "                X_opt_test = X_test\n",
    "                min_error_test_norm = error_test_norm\n",
    "                pat_iter = 0\n",
    "\n",
    "                if verbose == 1:\n",
    "                    print(\"New Best Test Error:\", min_error_test_norm)\n",
    "            else:\n",
    "                pat_iter += 1\n",
    "\n",
    "            # print(\"-\"*100)\n",
    "            # print(f'Iter: {iter_}')\n",
    "            # print()\n",
    "            # print(f'hH.shape: {hH.shape}')\n",
    "            # print(f'hH: {hH.value}')\n",
    "            # print()\n",
    "            # print(f'hS.shape: {hS.shape}')\n",
    "            # print(f'hS: {hS.value}')\n",
    "            # print()\n",
    "            # print(f'hI.shape: {hI.shape}')\n",
    "            # print(f'hI: {hI.value}')\n",
    "            # print()\n",
    "            # print(f'test error: {error_test_norm}')\n",
    "            # print()\n",
    "            # print(\"-\"*100)\n",
    "\n",
    "            iter_ += 1\n",
    "    \n",
    "    else:\n",
    "\n",
    "        # Fourier Dictionary Benchmark\n",
    "        L = Lu + Ld\n",
    "        _, D_opt = sla.eigh(L)\n",
    "        X_test, X_train = sparse_transform(D_opt, K0, Y_test, Y_train)\n",
    "        # dd = la.norm(D_opt, axis=0)\n",
    "        # W = np.diag(1./dd)  \n",
    "        # D_opt = D_opt / la.norm(D_opt)\n",
    "        # Domp = D_opt@W\n",
    "        # X_opt_train = np.apply_along_axis(lambda x: get_omp_coeff(K0, Domp=Domp.real, col=x), axis=0, arr=Y_train)\n",
    "        # X_opt_test = np.apply_along_axis(lambda x: get_omp_coeff(K0, Domp=Domp.real, col=x), axis=0, arr=Y_test)\n",
    "        # X_opt_train = W @ X_opt_train\n",
    "        # X_opt_test = W @ X_opt_test\n",
    "\n",
    "        # Error Updating\n",
    "        min_error_train_norm = (1/m_train)* np.sum(la.norm(Y_train - (D_opt @ X_opt_train), axis=0)**2 /\n",
    "                                la.norm(Y_train, axis=0)**2)\n",
    "        min_error_test_norm = (1/m_test)* np.sum(la.norm(Y_test - (D_opt @ X_opt_test), axis=0)**2 /\n",
    "                                la.norm(Y_test, axis=0)**2)\n",
    "        h_opt = 0\n",
    "        \n",
    "    return min_error_train_norm, min_error_test_norm, h_opt, X_opt_test, X_opt_train, D_opt, Ldj, history"
   ]
  },
  {
   "cell_type": "code",
   "execution_count": 5,
   "metadata": {},
   "outputs": [],
   "source": [
    "s = 8\n",
    "c = c_true[s]  \n",
    "epsilon = epsilon_true[s] \n",
    "k0 = K0_coll[4]"
   ]
  },
  {
   "cell_type": "code",
   "execution_count": 21,
   "metadata": {},
   "outputs": [],
   "source": [
    "D0, X0 = init_dict(Lu, Ld, P, J, Y_train[:, :, s], k0, dictionary_type, c, epsilon, only=\"only_X\")\n",
    "\n",
    "min_error_train_norm, min_error_test_norm, h_opt, X_opt_test, X_opt_train, D_opt, Ldj, history = topological_dictionary_learn(Y_train[:,:,s], Y_test[:,:,s],\n",
    "                                                                                                                        J, M, P, D0, X0, Lu_full, Ld, \"separated\",\n",
    "                                                                                                                        c, epsilon, k0, lambda_, max_iter,\n",
    "                                                                                                                        patience, tol)"
   ]
  },
  {
   "cell_type": "code",
   "execution_count": 23,
   "metadata": {},
   "outputs": [
    {
     "data": {
      "text/plain": [
       "0.005806247342647949"
      ]
     },
     "execution_count": 23,
     "metadata": {},
     "output_type": "execute_result"
    }
   ],
   "source": [
    "min_error_train_norm"
   ]
  },
  {
   "cell_type": "code",
   "execution_count": 13,
   "metadata": {},
   "outputs": [],
   "source": [
    "def sparse_transform(D, K0, Y_test, Y_train=None):\n",
    "\n",
    "    # OMP Step\n",
    "    dd = la.norm(D, axis=0)\n",
    "    W = np.diag(1. / dd)\n",
    "    Domp = D @ W\n",
    "    X_test = np.apply_along_axis(lambda x: get_omp_coeff(K0, Domp=Domp, col=x), axis=0, arr=Y_test)\n",
    "    # Normalization\n",
    "    X_test = W @ X_test\n",
    "\n",
    "    # Same for the training set\n",
    "    if Y_train != None:\n",
    "        X_train = np.apply_along_axis(lambda x: get_omp_coeff(K0, Domp=Domp, col=x), axis=0, arr=Y_train)\n",
    "        X_train = W @ X_train\n",
    "\n",
    "        return X_test, X_train\n",
    "    \n",
    "    return X_test\n",
    "\n",
    "def nmse(D, X, Y, m):\n",
    "    return (1/m)* np.sum(la.norm(Y - (D @ X), axis=0)**2 /la.norm(Y, axis=0)**2)"
   ]
  },
  {
   "cell_type": "code",
   "execution_count": 14,
   "metadata": {},
   "outputs": [],
   "source": [
    "# global B2, h_opt, J\n",
    "\n",
    "# Ldk,_,_= compute_Lj_and_lambdaj(Ld, J)\n",
    "\n",
    "\n",
    "def indicator_matrix(row):\n",
    "    tmp = row.sigma.copy()\n",
    "    tmp[row.idx] = 0\n",
    "    return np.diag(tmp)\n",
    "\n",
    "def compute_Luj(row, b2, J):\n",
    "    Lu = b2 @ row.sigma @ b2.T\n",
    "    Luj = np.array([la.matrix_power(Lu, i) for i in range(1, J + 1)])\n",
    "    return Luj\n",
    "\n",
    "\n",
    "def learn_upper_laplacian(Y_train: np.ndarray,\n",
    "                          Y_test: np.ndarray, \n",
    "                          J: int, \n",
    "                          M: int, \n",
    "                          P: int,\n",
    "                          Lu: np.ndarray, \n",
    "                          Ld: np.ndarray,\n",
    "                          dictionary_type: str, \n",
    "                          c: float, \n",
    "                          epsilon: float, \n",
    "                          K0: int,\n",
    "                          B2: np.ndarray,\n",
    "                          history: List[np.ndarray] = [],\n",
    "                          filter: np.ndarray = 1,\n",
    "                          current_min: float = None,\n",
    "                          h_opt: np.ndarray = None,\n",
    "                          lambda_: float = 1e-3, \n",
    "                          max_iter: int = 10, \n",
    "                          patience: int = 10,\n",
    "                          tol: float = 1e-7, \n",
    "                          verbose: bool = False):\n",
    "    \n",
    "    # assert np.all(current_min!=B2), \"You must provide the edge-triangle incidence matrix B2.\"\n",
    "\n",
    "    # Check if we are executing the first recursive iteration\n",
    "    if current_min == None:\n",
    "        current_min = np.inf\n",
    "        T = B2.shape[1]\n",
    "        filter = np.ones(T)\n",
    "\n",
    "\n",
    "    D0, X0 = init_dict(Lu=Lu,\n",
    "                        Ld=Ld,\n",
    "                        P=P,\n",
    "                        J=J,\n",
    "                        Y_train=Y_train,\n",
    "                        K0=K0,\n",
    "                        dictionary_type=dictionary_type,\n",
    "                        c=c,\n",
    "                        epsilon=epsilon,\n",
    "                        h=h_opt,\n",
    "                        only=\"only_X\")\n",
    "\n",
    "    _, min_error_test, h_opt, X_opt_test, _, D_opt, Ldj, hist = topological_dictionary_learn(Y_train=Y_train,\n",
    "                                                                                    Y_test=Y_test,\n",
    "                                                                                    J=J,\n",
    "                                                                                    M=M,\n",
    "                                                                                    P=P,\n",
    "                                                                                    D0=D0,\n",
    "                                                                                    X0=X0,\n",
    "                                                                                    Lu=Lu,\n",
    "                                                                                    Ld=Ld,\n",
    "                                                                                    dictionary_type=dictionary_type,\n",
    "                                                                                    c=c,\n",
    "                                                                                    epsilon=epsilon,\n",
    "                                                                                    K0=K0,\n",
    "                                                                                    lambda_=lambda_,\n",
    "                                                                                    max_iter=max_iter,\n",
    "                                                                                    patience=patience,\n",
    "                                                                                    tol=tol)\n",
    "    history.append(hist)\n",
    "    search_space = np.where(filter == 1)    \n",
    "    sigmas = pd.DataFrame({\"idx\": search_space[0]})\n",
    "\n",
    "    sigmas[\"sigma\"] = sigmas.idx.apply(lambda x: filter)\n",
    "    sigmas[\"sigma\"] = sigmas.apply(lambda x: indicator_matrix(x), axis=1)\n",
    "    sigmas[\"Luj\"] = sigmas.apply(lambda x: compute_Luj(x, B2, J), axis=1)\n",
    "    sigmas[\"D\"] = sigmas.apply(lambda x: generate_dictionary(h_opt, P, x.Luj, Ldj), axis=1)\n",
    "    sigmas[\"X\"] = sigmas.D.apply(lambda x: sparse_transform(x, k0, Y_test))\n",
    "    sigmas[\"NMSE\"] = sigmas.apply(lambda x: nmse(x.D, x.X, Y_test, m_test), axis=1)\n",
    "    \n",
    "    candidate_error = sigmas.NMSE.min()\n",
    "    idx_min = sigmas.NMSE.idxmin()\n",
    "\n",
    "    if candidate_error < min_error_test:\n",
    "        S = sigmas.sigma[idx_min]\n",
    "        Lu_new = B2 @ S @ B2.T\n",
    "        current_min = candidate_error\n",
    "        filter = np.diagonal(S)\n",
    "\n",
    "        if verbose:\n",
    "            print(f'Removing 1 triangle from topology... \\n ... New min test error: {current_min} !')\n",
    "\n",
    "        return learn_upper_laplacian(Y_train=Y_train,\n",
    "                                    Y_test=Y_test,\n",
    "                                    J =J,\n",
    "                                    M=M,\n",
    "                                    P=P,\n",
    "                                    Lu=Lu_new,\n",
    "                                    Ld=Ld,\n",
    "                                    dictionary_type=dictionary_type,\n",
    "                                    c=c,\n",
    "                                    epsilon=epsilon,\n",
    "                                    K0=K0,\n",
    "                                    h_opt=h_opt,\n",
    "                                    history=history,\n",
    "                                    filter=filter,\n",
    "                                    current_min=current_min,\n",
    "                                    B2=B2,\n",
    "                                    lambda_=lambda_,\n",
    "                                    max_iter=max_iter,\n",
    "                                    patience=patience,\n",
    "                                    tol=tol,\n",
    "                                    verbose=verbose)\n",
    "\n",
    "    return min_error_test, history, Lu, h_opt, X_opt_test, D_opt\n"
   ]
  },
  {
   "cell_type": "markdown",
   "metadata": {},
   "source": [
    "### T50"
   ]
  },
  {
   "cell_type": "code",
   "execution_count": 16,
   "metadata": {},
   "outputs": [
    {
     "name": "stdout",
     "output_type": "stream",
     "text": [
      "Removing 1 triangle from topology... \n",
      " ... New min test error: 0.04186229999386083 !\n",
      "Removing 1 triangle from topology... \n",
      " ... New min test error: 0.03953748791677277 !\n",
      "Removing 1 triangle from topology... \n",
      " ... New min test error: 0.03726287089805516 !\n",
      "Removing 1 triangle from topology... \n",
      " ... New min test error: 0.03606642188678121 !\n",
      "Removing 1 triangle from topology... \n",
      " ... New min test error: 0.0344642614097185 !\n",
      "Removing 1 triangle from topology... \n",
      " ... New min test error: 0.03296781959164594 !\n",
      "Removing 1 triangle from topology... \n",
      " ... New min test error: 0.03144162986914475 !\n",
      "Removing 1 triangle from topology... \n",
      " ... New min test error: 0.030511556010098462 !\n",
      "Removing 1 triangle from topology... \n",
      " ... New min test error: 0.02956670100833696 !\n",
      "Removing 1 triangle from topology... \n",
      " ... New min test error: 0.027718567545433687 !\n",
      "Removing 1 triangle from topology... \n",
      " ... New min test error: 0.026650691909113074 !\n",
      "Removing 1 triangle from topology... \n",
      " ... New min test error: 0.02552166999680692 !\n",
      "Removing 1 triangle from topology... \n",
      " ... New min test error: 0.025159776940921363 !\n",
      "Removing 1 triangle from topology... \n",
      " ... New min test error: 0.024613608036692044 !\n",
      "Removing 1 triangle from topology... \n",
      " ... New min test error: 0.023861368994226126 !\n",
      "Removing 1 triangle from topology... \n",
      " ... New min test error: 0.022834563027584444 !\n",
      "Removing 1 triangle from topology... \n",
      " ... New min test error: 0.021899312944100184 !\n",
      "Removing 1 triangle from topology... \n",
      " ... New min test error: 0.021562436866454926 !\n",
      "Removing 1 triangle from topology... \n",
      " ... New min test error: 0.022053048749986422 !\n",
      "Removing 1 triangle from topology... \n",
      " ... New min test error: 0.022667009289053054 !\n",
      "Removing 1 triangle from topology... \n",
      " ... New min test error: 0.022240479969563062 !\n",
      "Removing 1 triangle from topology... \n",
      " ... New min test error: 0.02213277461145305 !\n",
      "Removing 1 triangle from topology... \n",
      " ... New min test error: 0.021658181030382438 !\n",
      "Removing 1 triangle from topology... \n",
      " ... New min test error: 0.020934719411708547 !\n"
     ]
    }
   ],
   "source": [
    "min_error_test, history, Lu, h_opt, X_opt_test, D_opt = learn_upper_laplacian(B2=B2,\n",
    "                                                                            Y_train=Y_train[:,:,s],\n",
    "                                                                            Y_test=Y_test[:,:,s],\n",
    "                                                                            J=J,\n",
    "                                                                            M=M,\n",
    "                                                                            P=P,\n",
    "                                                                            Lu=Lu_full,\n",
    "                                                                            Ld=Ld,\n",
    "                                                                            dictionary_type=dictionary_type,\n",
    "                                                                            c=c,\n",
    "                                                                            epsilon=epsilon,\n",
    "                                                                            K0=k0,\n",
    "                                                                            lambda_=lambda_,\n",
    "                                                                            max_iter=max_iter,\n",
    "                                                                            patience=patience,\n",
    "                                                                            tol=tol,\n",
    "                                                                            verbose=verbose)"
   ]
  },
  {
   "cell_type": "code",
   "execution_count": 371,
   "metadata": {},
   "outputs": [
    {
     "data": {
      "image/png": "[encoded data removed]",
      "text/plain": [
       "<Figure size 1400x600 with 1 Axes>"
      ]
     },
     "metadata": {},
     "output_type": "display_data"
    }
   ],
   "source": [
    "import seaborn as sns\n",
    "import matplotlib.pyplot as plt\n",
    "import warnings\n",
    "\n",
    "warnings.filterwarnings('ignore')\n",
    "\n",
    "burn_in = 0.65\n",
    "start_iter = 0\n",
    "end_iter = 0\n",
    "change_points = []\n",
    "change_points_y1 = []\n",
    "change_points_y2 = []\n",
    "burn_in_iter = 0\n",
    "his=[]\n",
    "xx = []\n",
    "for i,h in enumerate(history):\n",
    "    if i == 0:\n",
    "        burn_in_iter=int(np.ceil(burn_in*len(h)))\n",
    "    his+=h\n",
    "    end_iter += len(h)-1\n",
    "    tmp = range(start_iter, end_iter+1)\n",
    "    xx += tmp\n",
    "    start_iter = end_iter\n",
    "    change_points.append(end_iter)\n",
    "    change_points_y1.append(h[-1])\n",
    "    change_points_y2.append(h[0])\n",
    "\n",
    "plt_data = pd.DataFrame({'y':his[burn_in_iter:], \n",
    "                   'x':xx[burn_in_iter:]})\n",
    "\n",
    "change_points = np.array(change_points[:-1])\n",
    "change_points_y1 = np.array(change_points_y1[:-1])\n",
    "change_points_y2 = np.array(change_points_y2[1:])\n",
    "# change_points_y = plt_data[plt_data['x'].isin(change_points)].y.to_numpy()[np.arange(0, len(change_points), 1)]\n",
    "\n",
    "plt.figure(figsize=(14, 6))\n",
    "sns.set_style(\"whitegrid\", {\"grid.color\": \".6\", \"grid.linestyle\": \":\"})\n",
    "\n",
    "my_plt = sns.lineplot(x=plt_data['x'],y=plt_data['y'], estimator=None, sort=False)\n",
    "\n",
    "# Change-points\n",
    "sns.scatterplot(x=np.hstack([change_points, change_points]),\n",
    "                 y=np.hstack([change_points_y1, change_points_y2]),\n",
    "                 label='Change Points: optimally removing \\n a triangle from Upper Laplacian.',\n",
    "                 color='purple', marker='d')\n",
    "\n",
    "plt.vlines(x=change_points, color='lightblue', linestyle='dotted', \n",
    "           ymax=change_points_y1, ymin=change_points_y2)\n",
    "\n",
    "# Burn-in area\n",
    "plt.axvspan(0, burn_in_iter, color='grey', alpha=0.2, hatch='//')\n",
    "\n",
    "my_plt.set_title(f'Optimistic topology learning',fontsize=16, pad=25)\n",
    "plt.suptitle(f'Assumed signal sparsity: {k0}', fontsize=12, color='gray', x=0.5, y=0.92)\n",
    "plt.text(y=2.2e-2, x=2, s=f'Burn-in: {burn_in_iter} iters.', fontsize=9, color='gray')\n",
    "plt.text(s=f' Number of inferred triangles: {nu - change_points.shape[0]} \\n Number of true triangles: {nu-T}',\n",
    "         y=4.2e-2, x=len(his)*0.7, fontsize=12, color='purple')\n",
    "my_plt.set_xlabel('Iteration')\n",
    "my_plt.set_ylabel('Error (log scale)')\n",
    "plt.xticks(change_points)\n",
    "plt.yticks([])\n",
    "plt.xlim(left=0)\n",
    "plt.yscale('log')\n",
    "plt.show() "
   ]
  },
  {
   "cell_type": "markdown",
   "metadata": {},
   "source": [
    "### T80"
   ]
  },
  {
   "cell_type": "code",
   "execution_count": 16,
   "metadata": {},
   "outputs": [
    {
     "name": "stdout",
     "output_type": "stream",
     "text": [
      "Removing 1 triangle from topology... \n",
      " ... New min test error: 0.011440077189377137 !\n",
      "Removing 1 triangle from topology... \n",
      " ... New min test error: 0.011135991649488742 !\n",
      "Removing 1 triangle from topology... \n",
      " ... New min test error: 0.007882926438982338 !\n",
      "Removing 1 triangle from topology... \n",
      " ... New min test error: 0.006925872993160673 !\n",
      "Removing 1 triangle from topology... \n",
      " ... New min test error: 0.006405581690542199 !\n",
      "Removing 1 triangle from topology... \n",
      " ... New min test error: 0.0059281937870604914 !\n",
      "Removing 1 triangle from topology... \n",
      " ... New min test error: 0.005383752145761662 !\n",
      "Removing 1 triangle from topology... \n",
      " ... New min test error: 0.004842623418281503 !\n",
      "Removing 1 triangle from topology... \n",
      " ... New min test error: 0.004398003003354839 !\n",
      "Removing 1 triangle from topology... \n",
      " ... New min test error: 0.003898675640867873 !\n",
      "Removing 1 triangle from topology... \n",
      " ... New min test error: 0.003509100062191821 !\n",
      "Removing 1 triangle from topology... \n",
      " ... New min test error: 0.003350651211731644 !\n"
     ]
    }
   ],
   "source": [
    "import warnings\n",
    "\n",
    "warnings.filterwarnings('ignore')\n",
    "\n",
    "min_error_test, history, Lu, h_opt, X_opt_test, D_opt = learn_upper_laplacian(B2=B2,\n",
    "                                                                            Y_train=Y_train[:,:,s],\n",
    "                                                                            Y_test=Y_test[:,:,s],\n",
    "                                                                            J=J,\n",
    "                                                                            M=M,\n",
    "                                                                            P=P,\n",
    "                                                                            Lu=Lu_full,\n",
    "                                                                            Ld=Ld,\n",
    "                                                                            dictionary_type=dictionary_type,\n",
    "                                                                            c=c,\n",
    "                                                                            epsilon=epsilon,\n",
    "                                                                            K0=k0,\n",
    "                                                                            lambda_=lambda_,\n",
    "                                                                            max_iter=max_iter,\n",
    "                                                                            patience=patience,\n",
    "                                                                            tol=tol,\n",
    "                                                                            verbose=verbose)"
   ]
  },
  {
   "cell_type": "code",
   "execution_count": 25,
   "metadata": {},
   "outputs": [
    {
     "data": {
      "image/png": "[encoded data removed]",
      "text/plain": [
       "<Figure size 1400x600 with 1 Axes>"
      ]
     },
     "metadata": {},
     "output_type": "display_data"
    }
   ],
   "source": [
    "import seaborn as sns\n",
    "import matplotlib.pyplot as plt\n",
    "import warnings\n",
    "\n",
    "warnings.filterwarnings('ignore')\n",
    "\n",
    "burn_in = 0.65\n",
    "start_iter = 0\n",
    "end_iter = 0\n",
    "change_points = []\n",
    "change_points_y1 = []\n",
    "change_points_y2 = []\n",
    "burn_in_iter = 0\n",
    "his=[]\n",
    "xx = []\n",
    "for i,h in enumerate(history):\n",
    "    if i == 0:\n",
    "        burn_in_iter=int(np.ceil(burn_in*len(h)))\n",
    "    his+=h\n",
    "    end_iter += len(h)-1\n",
    "    tmp = range(start_iter, end_iter+1)\n",
    "    xx += tmp\n",
    "    start_iter = end_iter\n",
    "    change_points.append(end_iter)\n",
    "    change_points_y1.append(h[-1])\n",
    "    change_points_y2.append(h[0])\n",
    "\n",
    "plt_data = pd.DataFrame({'y':his[burn_in_iter:], \n",
    "                   'x':xx[burn_in_iter:]})\n",
    "\n",
    "change_points = np.array(change_points[:-1])\n",
    "change_points_y1 = np.array(change_points_y1[:-1])\n",
    "change_points_y2 = np.array(change_points_y2[1:])\n",
    "# change_points_y = plt_data[plt_data['x'].isin(change_points)].y.to_numpy()[np.arange(0, len(change_points), 1)]\n",
    "\n",
    "plt.figure(figsize=(14, 6))\n",
    "sns.set_style(\"whitegrid\", {\"grid.color\": \".6\", \"grid.linestyle\": \":\"})\n",
    "\n",
    "my_plt = sns.lineplot(x=plt_data['x'],y=plt_data['y'], estimator=None, sort=False)\n",
    "\n",
    "# Change-points\n",
    "sns.scatterplot(x=np.hstack([change_points, change_points]),\n",
    "                 y=np.hstack([change_points_y1, change_points_y2]),\n",
    "                 label='Change Points: optimally removing \\n a triangle from Upper Laplacian.',\n",
    "                 color='purple', marker='d')\n",
    "\n",
    "plt.vlines(x=change_points, color='lightblue', linestyle='dotted', \n",
    "           ymax=change_points_y1, ymin=change_points_y2)\n",
    "\n",
    "# Burn-in area\n",
    "plt.axvspan(0, burn_in_iter, color='grey', alpha=0.2, hatch='//')\n",
    "\n",
    "my_plt.set_title(f'Optimistic topology learning',fontsize=16, pad=25)\n",
    "plt.suptitle(f'Assumed signal sparsity: {k0}', fontsize=12, color='gray', x=0.5, y=0.92)\n",
    "plt.text(y=plt_data.y.iloc[0]*0.25, x=2, s=f'Burn-in: {burn_in_iter} iters.', fontsize=9, color='gray')\n",
    "plt.text(s=f' Number of inferred triangles: {nu - change_points.shape[0]} \\n Number of true triangles: {nu-T}',\n",
    "         y=plt_data.y.iloc[0]*0.75, x=len(his)*0.7, fontsize=12, color='purple')\n",
    "my_plt.set_xlabel('Iteration')\n",
    "my_plt.set_ylabel('Error (log scale)')\n",
    "plt.xticks(change_points)\n",
    "plt.yticks([])\n",
    "plt.xlim(left=0)\n",
    "plt.yscale('log')\n",
    "plt.show() "
   ]
  },
  {
   "cell_type": "markdown",
   "metadata": {},
   "source": [
    "### T97"
   ]
  },
  {
   "cell_type": "code",
   "execution_count": 17,
   "metadata": {},
   "outputs": [
    {
     "name": "stdout",
     "output_type": "stream",
     "text": [
      "Removing 1 triangle from topology... \n",
      " ... New min test error: 0.0053541709174353596 !\n",
      "Removing 1 triangle from topology... \n",
      " ... New min test error: 0.004416565251797768 !\n"
     ]
    }
   ],
   "source": [
    "import warnings\n",
    "\n",
    "warnings.filterwarnings('ignore')\n",
    "\n",
    "min_error_test, history, Lu, h_opt, X_opt_test, D_opt = learn_upper_laplacian(B2=B2,\n",
    "                                                                            Y_train=Y_train[:,:,s],\n",
    "                                                                            Y_test=Y_test[:,:,s],\n",
    "                                                                            J=J,\n",
    "                                                                            M=M,\n",
    "                                                                            P=P,\n",
    "                                                                            Lu=Lu_full,\n",
    "                                                                            Ld=Ld,\n",
    "                                                                            dictionary_type=dictionary_type,\n",
    "                                                                            c=c,\n",
    "                                                                            epsilon=epsilon,\n",
    "                                                                            K0=k0,\n",
    "                                                                            lambda_=lambda_,\n",
    "                                                                            max_iter=max_iter,\n",
    "                                                                            patience=patience,\n",
    "                                                                            tol=tol,\n",
    "                                                                            verbose=verbose)"
   ]
  },
  {
   "cell_type": "code",
   "execution_count": 43,
   "metadata": {},
   "outputs": [
    {
     "data": {
      "image/png": "[encoded data removed]",
      "text/plain": [
       "<Figure size 1400x600 with 1 Axes>"
      ]
     },
     "metadata": {},
     "output_type": "display_data"
    }
   ],
   "source": [
    "import seaborn as sns\n",
    "import matplotlib.pyplot as plt\n",
    "import warnings\n",
    "\n",
    "warnings.filterwarnings('ignore')\n",
    "\n",
    "burn_in = 0.65\n",
    "start_iter = 0\n",
    "end_iter = 0\n",
    "change_points = []\n",
    "change_points_y1 = []\n",
    "change_points_y2 = []\n",
    "burn_in_iter = 0\n",
    "his=[]\n",
    "xx = []\n",
    "for i,h in enumerate(history):\n",
    "    if i == 0:\n",
    "        burn_in_iter=int(np.ceil(burn_in*len(h)))\n",
    "    his+=h\n",
    "    end_iter += len(h)-1\n",
    "    tmp = range(start_iter, end_iter+1)\n",
    "    xx += tmp\n",
    "    start_iter = end_iter\n",
    "    change_points.append(end_iter)\n",
    "    change_points_y1.append(h[-1])\n",
    "    change_points_y2.append(h[0])\n",
    "\n",
    "plt_data = pd.DataFrame({'y':his[burn_in_iter:], \n",
    "                   'x':xx[burn_in_iter:]})\n",
    "\n",
    "change_points = np.array(change_points[:-1])\n",
    "change_points_y1 = np.array(change_points_y1[:-1])\n",
    "change_points_y2 = np.array(change_points_y2[1:])\n",
    "# change_points_y = plt_data[plt_data['x'].isin(change_points)].y.to_numpy()[np.arange(0, len(change_points), 1)]\n",
    "\n",
    "plt.figure(figsize=(14, 6))\n",
    "sns.set_style(\"whitegrid\", {\"grid.color\": \".6\", \"grid.linestyle\": \":\"})\n",
    "\n",
    "my_plt = sns.lineplot(x=plt_data['x'],y=plt_data['y'], estimator=None, sort=False)\n",
    "\n",
    "# Change-points\n",
    "sns.scatterplot(x=np.hstack([change_points, change_points]),\n",
    "                 y=np.hstack([change_points_y1, change_points_y2]),\n",
    "                 label='Change Points: optimally removing \\n a triangle from Upper Laplacian.',\n",
    "                 color='purple', marker='d')\n",
    "\n",
    "plt.vlines(x=change_points, color='lightblue', linestyle='dotted', \n",
    "           ymax=change_points_y1, ymin=change_points_y2)\n",
    "\n",
    "# Burn-in area\n",
    "plt.axvspan(0, burn_in_iter, color='grey', alpha=0.2, hatch='//')\n",
    "\n",
    "my_plt.set_title(f'Optimistic topology learning',fontsize=16, pad=25)\n",
    "plt.suptitle(f'Assumed signal sparsity: {k0}', fontsize=12, color='gray', x=0.5, y=0.92)\n",
    "plt.text(y=plt_data.y.iloc[0]*0.7, x=2, s=f'Burn-in: {burn_in_iter} iters.', fontsize=9, color='gray')\n",
    "plt.text(s=f' Number of inferred triangles: {nu - change_points.shape[0]} \\n Number of true triangles: {nu-T}',\n",
    "         y=plt_data.y.iloc[0]*0.9, x=len(his)*0.75, fontsize=12, color='purple')\n",
    "my_plt.set_xlabel('Iteration')\n",
    "my_plt.set_ylabel('Error (log scale)')\n",
    "plt.xticks(change_points)\n",
    "plt.yticks([])\n",
    "plt.xlim(left=0)\n",
    "plt.yscale('log')\n",
    "plt.show() "
   ]
  },
  {
   "cell_type": "code",
   "execution_count": 20,
   "metadata": {},
   "outputs": [
    {
     "data": {
      "text/plain": [
       "0.002587337439296214"
      ]
     },
     "execution_count": 20,
     "metadata": {},
     "output_type": "execute_result"
    }
   ],
   "source": [
    "plt_data.y.iloc[0]*0.2"
   ]
  },
  {
   "cell_type": "code",
   "execution_count": 265,
   "metadata": {},
   "outputs": [
    {
     "data": {
      "text/plain": [
       "(48,)"
      ]
     },
     "execution_count": 265,
     "metadata": {},
     "output_type": "execute_result"
    }
   ],
   "source": [
    "plt_data[plt_data['x'].isin(change_points)].y.to_numpy()[np.arange(0, len(change_points), 1)].shape"
   ]
  },
  {
   "cell_type": "code",
   "execution_count": 263,
   "metadata": {},
   "outputs": [
    {
     "data": {
      "text/plain": [
       "array([ 32,  44,  59,  64,  69,  74,  79,  91,  97, 106, 111, 116, 121,\n",
       "       126, 132, 137, 153, 158, 165, 170, 177, 182, 187, 198])"
      ]
     },
     "execution_count": 263,
     "metadata": {},
     "output_type": "execute_result"
    }
   ],
   "source": [
    "change_points"
   ]
  },
  {
   "cell_type": "code",
   "execution_count": 247,
   "metadata": {},
   "outputs": [
    {
     "data": {
      "text/html": [
       "<div>\n",
       "<style scoped>\n",
       "    .dataframe tbody tr th:only-of-type {\n",
       "        vertical-align: middle;\n",
       "    }\n",
       "\n",
       "    .dataframe tbody tr th {\n",
       "        vertical-align: top;\n",
       "    }\n",
       "\n",
       "    .dataframe thead th {\n",
       "        text-align: right;\n",
       "    }\n",
       "</style>\n",
       "<table border=\"1\" class=\"dataframe\">\n",
       "  <thead>\n",
       "    <tr style=\"text-align: right;\">\n",
       "      <th></th>\n",
       "      <th>y</th>\n",
       "      <th>x</th>\n",
       "      <th>id</th>\n",
       "    </tr>\n",
       "  </thead>\n",
       "  <tbody>\n",
       "    <tr>\n",
       "      <th>10</th>\n",
       "      <td>0.044485</td>\n",
       "      <td>32</td>\n",
       "      <td>10</td>\n",
       "    </tr>\n",
       "    <tr>\n",
       "      <th>22</th>\n",
       "      <td>0.041568</td>\n",
       "      <td>43</td>\n",
       "      <td>22</td>\n",
       "    </tr>\n",
       "    <tr>\n",
       "      <th>37</th>\n",
       "      <td>0.039818</td>\n",
       "      <td>57</td>\n",
       "      <td>37</td>\n",
       "    </tr>\n",
       "    <tr>\n",
       "      <th>42</th>\n",
       "      <td>0.038444</td>\n",
       "      <td>61</td>\n",
       "      <td>42</td>\n",
       "    </tr>\n",
       "    <tr>\n",
       "      <th>47</th>\n",
       "      <td>0.036833</td>\n",
       "      <td>65</td>\n",
       "      <td>47</td>\n",
       "    </tr>\n",
       "    <tr>\n",
       "      <th>52</th>\n",
       "      <td>0.034442</td>\n",
       "      <td>69</td>\n",
       "      <td>52</td>\n",
       "    </tr>\n",
       "    <tr>\n",
       "      <th>57</th>\n",
       "      <td>0.034903</td>\n",
       "      <td>74</td>\n",
       "      <td>57</td>\n",
       "    </tr>\n",
       "    <tr>\n",
       "      <th>69</th>\n",
       "      <td>0.031597</td>\n",
       "      <td>84</td>\n",
       "      <td>69</td>\n",
       "    </tr>\n",
       "    <tr>\n",
       "      <th>75</th>\n",
       "      <td>0.031869</td>\n",
       "      <td>90</td>\n",
       "      <td>75</td>\n",
       "    </tr>\n",
       "    <tr>\n",
       "      <th>84</th>\n",
       "      <td>0.029756</td>\n",
       "      <td>97</td>\n",
       "      <td>84</td>\n",
       "    </tr>\n",
       "    <tr>\n",
       "      <th>89</th>\n",
       "      <td>0.028928</td>\n",
       "      <td>102</td>\n",
       "      <td>89</td>\n",
       "    </tr>\n",
       "    <tr>\n",
       "      <th>94</th>\n",
       "      <td>0.028009</td>\n",
       "      <td>106</td>\n",
       "      <td>94</td>\n",
       "    </tr>\n",
       "    <tr>\n",
       "      <th>99</th>\n",
       "      <td>0.028572</td>\n",
       "      <td>111</td>\n",
       "      <td>99</td>\n",
       "    </tr>\n",
       "    <tr>\n",
       "      <th>104</th>\n",
       "      <td>0.028154</td>\n",
       "      <td>115</td>\n",
       "      <td>104</td>\n",
       "    </tr>\n",
       "    <tr>\n",
       "      <th>110</th>\n",
       "      <td>0.027818</td>\n",
       "      <td>120</td>\n",
       "      <td>110</td>\n",
       "    </tr>\n",
       "    <tr>\n",
       "      <th>115</th>\n",
       "      <td>0.026653</td>\n",
       "      <td>124</td>\n",
       "      <td>115</td>\n",
       "    </tr>\n",
       "    <tr>\n",
       "      <th>131</th>\n",
       "      <td>0.023239</td>\n",
       "      <td>137</td>\n",
       "      <td>131</td>\n",
       "    </tr>\n",
       "    <tr>\n",
       "      <th>136</th>\n",
       "      <td>0.022993</td>\n",
       "      <td>142</td>\n",
       "      <td>136</td>\n",
       "    </tr>\n",
       "    <tr>\n",
       "      <th>143</th>\n",
       "      <td>0.022120</td>\n",
       "      <td>149</td>\n",
       "      <td>143</td>\n",
       "    </tr>\n",
       "    <tr>\n",
       "      <th>148</th>\n",
       "      <td>0.021836</td>\n",
       "      <td>153</td>\n",
       "      <td>148</td>\n",
       "    </tr>\n",
       "    <tr>\n",
       "      <th>155</th>\n",
       "      <td>0.022375</td>\n",
       "      <td>159</td>\n",
       "      <td>155</td>\n",
       "    </tr>\n",
       "    <tr>\n",
       "      <th>160</th>\n",
       "      <td>0.023304</td>\n",
       "      <td>164</td>\n",
       "      <td>160</td>\n",
       "    </tr>\n",
       "    <tr>\n",
       "      <th>165</th>\n",
       "      <td>0.023215</td>\n",
       "      <td>168</td>\n",
       "      <td>165</td>\n",
       "    </tr>\n",
       "    <tr>\n",
       "      <th>176</th>\n",
       "      <td>0.022316</td>\n",
       "      <td>177</td>\n",
       "      <td>176</td>\n",
       "    </tr>\n",
       "  </tbody>\n",
       "</table>\n",
       "</div>"
      ],
      "text/plain": [
       "            y    x   id\n",
       "10   0.044485   32   10\n",
       "22   0.041568   43   22\n",
       "37   0.039818   57   37\n",
       "42   0.038444   61   42\n",
       "47   0.036833   65   47\n",
       "52   0.034442   69   52\n",
       "57   0.034903   74   57\n",
       "69   0.031597   84   69\n",
       "75   0.031869   90   75\n",
       "84   0.029756   97   84\n",
       "89   0.028928  102   89\n",
       "94   0.028009  106   94\n",
       "99   0.028572  111   99\n",
       "104  0.028154  115  104\n",
       "110  0.027818  120  110\n",
       "115  0.026653  124  115\n",
       "131  0.023239  137  131\n",
       "136  0.022993  142  136\n",
       "143  0.022120  149  143\n",
       "148  0.021836  153  148\n",
       "155  0.022375  159  155\n",
       "160  0.023304  164  160\n",
       "165  0.023215  168  165\n",
       "176  0.022316  177  176"
      ]
     },
     "execution_count": 247,
     "metadata": {},
     "output_type": "execute_result"
    }
   ],
   "source": [
    "plt_data.iloc[change_points-burn_in_iter]"
   ]
  },
  {
   "cell_type": "code",
   "execution_count": 252,
   "metadata": {},
   "outputs": [
    {
     "name": "stderr",
     "output_type": "stream",
     "text": [
      "C:\\Users\\engri\\AppData\\Local\\Temp\\ipykernel_19960\\1539062186.py:1: DeprecationWarning: elementwise comparison failed; this will raise an error in the future.\n",
      "  plt_data[plt_data.x in change_points]\n"
     ]
    },
    {
     "ename": "ValueError",
     "evalue": "('Lengths must match to compare', (207,), (24,))",
     "output_type": "error",
     "traceback": [
      "\u001b[1;31m---------------------------------------------------------------------------\u001b[0m",
      "\u001b[1;31mValueError\u001b[0m                                Traceback (most recent call last)",
      "Cell \u001b[1;32mIn[252], line 1\u001b[0m\n\u001b[1;32m----> 1\u001b[0m plt_data[\u001b[43mplt_data\u001b[49m\u001b[38;5;241;43m.\u001b[39;49m\u001b[43mx\u001b[49m\u001b[43m \u001b[49m\u001b[38;5;129;43;01min\u001b[39;49;00m\u001b[43m \u001b[49m\u001b[43mchange_points\u001b[49m]\n",
      "File \u001b[1;32mc:\\Users\\engri\\anaconda3\\lib\\site-packages\\pandas\\core\\ops\\common.py:76\u001b[0m, in \u001b[0;36m_unpack_zerodim_and_defer.<locals>.new_method\u001b[1;34m(self, other)\u001b[0m\n\u001b[0;32m     72\u001b[0m             \u001b[38;5;28;01mreturn\u001b[39;00m \u001b[38;5;28mNotImplemented\u001b[39m\n\u001b[0;32m     74\u001b[0m other \u001b[38;5;241m=\u001b[39m item_from_zerodim(other)\n\u001b[1;32m---> 76\u001b[0m \u001b[38;5;28;01mreturn\u001b[39;00m \u001b[43mmethod\u001b[49m\u001b[43m(\u001b[49m\u001b[38;5;28;43mself\u001b[39;49m\u001b[43m,\u001b[49m\u001b[43m \u001b[49m\u001b[43mother\u001b[49m\u001b[43m)\u001b[49m\n",
      "File \u001b[1;32mc:\\Users\\engri\\anaconda3\\lib\\site-packages\\pandas\\core\\arraylike.py:40\u001b[0m, in \u001b[0;36mOpsMixin.__eq__\u001b[1;34m(self, other)\u001b[0m\n\u001b[0;32m     38\u001b[0m \u001b[38;5;129m@unpack_zerodim_and_defer\u001b[39m(\u001b[38;5;124m\"\u001b[39m\u001b[38;5;124m__eq__\u001b[39m\u001b[38;5;124m\"\u001b[39m)\n\u001b[0;32m     39\u001b[0m \u001b[38;5;28;01mdef\u001b[39;00m \u001b[38;5;21m__eq__\u001b[39m(\u001b[38;5;28mself\u001b[39m, other):\n\u001b[1;32m---> 40\u001b[0m     \u001b[38;5;28;01mreturn\u001b[39;00m \u001b[38;5;28;43mself\u001b[39;49m\u001b[38;5;241;43m.\u001b[39;49m\u001b[43m_cmp_method\u001b[49m\u001b[43m(\u001b[49m\u001b[43mother\u001b[49m\u001b[43m,\u001b[49m\u001b[43m \u001b[49m\u001b[43moperator\u001b[49m\u001b[38;5;241;43m.\u001b[39;49m\u001b[43meq\u001b[49m\u001b[43m)\u001b[49m\n",
      "File \u001b[1;32mc:\\Users\\engri\\anaconda3\\lib\\site-packages\\pandas\\core\\series.py:5803\u001b[0m, in \u001b[0;36mSeries._cmp_method\u001b[1;34m(self, other, op)\u001b[0m\n\u001b[0;32m   5800\u001b[0m lvalues \u001b[38;5;241m=\u001b[39m \u001b[38;5;28mself\u001b[39m\u001b[38;5;241m.\u001b[39m_values\n\u001b[0;32m   5801\u001b[0m rvalues \u001b[38;5;241m=\u001b[39m extract_array(other, extract_numpy\u001b[38;5;241m=\u001b[39m\u001b[38;5;28;01mTrue\u001b[39;00m, extract_range\u001b[38;5;241m=\u001b[39m\u001b[38;5;28;01mTrue\u001b[39;00m)\n\u001b[1;32m-> 5803\u001b[0m res_values \u001b[38;5;241m=\u001b[39m \u001b[43mops\u001b[49m\u001b[38;5;241;43m.\u001b[39;49m\u001b[43mcomparison_op\u001b[49m\u001b[43m(\u001b[49m\u001b[43mlvalues\u001b[49m\u001b[43m,\u001b[49m\u001b[43m \u001b[49m\u001b[43mrvalues\u001b[49m\u001b[43m,\u001b[49m\u001b[43m \u001b[49m\u001b[43mop\u001b[49m\u001b[43m)\u001b[49m\n\u001b[0;32m   5805\u001b[0m \u001b[38;5;28;01mreturn\u001b[39;00m \u001b[38;5;28mself\u001b[39m\u001b[38;5;241m.\u001b[39m_construct_result(res_values, name\u001b[38;5;241m=\u001b[39mres_name)\n",
      "File \u001b[1;32mc:\\Users\\engri\\anaconda3\\lib\\site-packages\\pandas\\core\\ops\\array_ops.py:323\u001b[0m, in \u001b[0;36mcomparison_op\u001b[1;34m(left, right, op)\u001b[0m\n\u001b[0;32m    318\u001b[0m \u001b[38;5;28;01mif\u001b[39;00m \u001b[38;5;28misinstance\u001b[39m(rvalues, (np\u001b[38;5;241m.\u001b[39mndarray, ABCExtensionArray)):\n\u001b[0;32m    319\u001b[0m     \u001b[38;5;66;03m# TODO: make this treatment consistent across ops and classes.\u001b[39;00m\n\u001b[0;32m    320\u001b[0m     \u001b[38;5;66;03m#  We are not catching all listlikes here (e.g. frozenset, tuple)\u001b[39;00m\n\u001b[0;32m    321\u001b[0m     \u001b[38;5;66;03m#  The ambiguous case is object-dtype.  See GH#27803\u001b[39;00m\n\u001b[0;32m    322\u001b[0m     \u001b[38;5;28;01mif\u001b[39;00m \u001b[38;5;28mlen\u001b[39m(lvalues) \u001b[38;5;241m!=\u001b[39m \u001b[38;5;28mlen\u001b[39m(rvalues):\n\u001b[1;32m--> 323\u001b[0m         \u001b[38;5;28;01mraise\u001b[39;00m \u001b[38;5;167;01mValueError\u001b[39;00m(\n\u001b[0;32m    324\u001b[0m             \u001b[38;5;124m\"\u001b[39m\u001b[38;5;124mLengths must match to compare\u001b[39m\u001b[38;5;124m\"\u001b[39m, lvalues\u001b[38;5;241m.\u001b[39mshape, rvalues\u001b[38;5;241m.\u001b[39mshape\n\u001b[0;32m    325\u001b[0m         )\n\u001b[0;32m    327\u001b[0m \u001b[38;5;28;01mif\u001b[39;00m should_extension_dispatch(lvalues, rvalues) \u001b[38;5;129;01mor\u001b[39;00m (\n\u001b[0;32m    328\u001b[0m     (\u001b[38;5;28misinstance\u001b[39m(rvalues, (Timedelta, BaseOffset, Timestamp)) \u001b[38;5;129;01mor\u001b[39;00m right \u001b[38;5;129;01mis\u001b[39;00m NaT)\n\u001b[0;32m    329\u001b[0m     \u001b[38;5;129;01mand\u001b[39;00m lvalues\u001b[38;5;241m.\u001b[39mdtype \u001b[38;5;241m!=\u001b[39m \u001b[38;5;28mobject\u001b[39m\n\u001b[0;32m    330\u001b[0m ):\n\u001b[0;32m    331\u001b[0m     \u001b[38;5;66;03m# Call the method on lvalues\u001b[39;00m\n\u001b[0;32m    332\u001b[0m     res_values \u001b[38;5;241m=\u001b[39m op(lvalues, rvalues)\n",
      "\u001b[1;31mValueError\u001b[0m: ('Lengths must match to compare', (207,), (24,))"
     ]
    }
   ],
   "source": [
    "plt_data[plt_data.x in change_points]"
   ]
  },
  {
   "cell_type": "code",
   "execution_count": 254,
   "metadata": {},
   "outputs": [
    {
     "data": {
      "text/plain": [
       "22"
      ]
     },
     "execution_count": 254,
     "metadata": {},
     "output_type": "execute_result"
    }
   ],
   "source": [
    "44- burn_in_iter"
   ]
  },
  {
   "cell_type": "code",
   "execution_count": 248,
   "metadata": {},
   "outputs": [
    {
     "data": {
      "text/html": [
       "<div>\n",
       "<style scoped>\n",
       "    .dataframe tbody tr th:only-of-type {\n",
       "        vertical-align: middle;\n",
       "    }\n",
       "\n",
       "    .dataframe tbody tr th {\n",
       "        vertical-align: top;\n",
       "    }\n",
       "\n",
       "    .dataframe thead th {\n",
       "        text-align: right;\n",
       "    }\n",
       "</style>\n",
       "<table border=\"1\" class=\"dataframe\">\n",
       "  <thead>\n",
       "    <tr style=\"text-align: right;\">\n",
       "      <th></th>\n",
       "      <th>y</th>\n",
       "      <th>x</th>\n",
       "      <th>id</th>\n",
       "    </tr>\n",
       "  </thead>\n",
       "  <tbody>\n",
       "    <tr>\n",
       "      <th>10</th>\n",
       "      <td>0.044485</td>\n",
       "      <td>32</td>\n",
       "      <td>10</td>\n",
       "    </tr>\n",
       "    <tr>\n",
       "      <th>11</th>\n",
       "      <td>0.041866</td>\n",
       "      <td>32</td>\n",
       "      <td>11</td>\n",
       "    </tr>\n",
       "    <tr>\n",
       "      <th>12</th>\n",
       "      <td>0.042263</td>\n",
       "      <td>33</td>\n",
       "      <td>12</td>\n",
       "    </tr>\n",
       "    <tr>\n",
       "      <th>13</th>\n",
       "      <td>0.042455</td>\n",
       "      <td>34</td>\n",
       "      <td>13</td>\n",
       "    </tr>\n",
       "    <tr>\n",
       "      <th>14</th>\n",
       "      <td>0.042306</td>\n",
       "      <td>35</td>\n",
       "      <td>14</td>\n",
       "    </tr>\n",
       "    <tr>\n",
       "      <th>15</th>\n",
       "      <td>0.041851</td>\n",
       "      <td>36</td>\n",
       "      <td>15</td>\n",
       "    </tr>\n",
       "    <tr>\n",
       "      <th>16</th>\n",
       "      <td>0.041826</td>\n",
       "      <td>37</td>\n",
       "      <td>16</td>\n",
       "    </tr>\n",
       "    <tr>\n",
       "      <th>17</th>\n",
       "      <td>0.041637</td>\n",
       "      <td>38</td>\n",
       "      <td>17</td>\n",
       "    </tr>\n",
       "    <tr>\n",
       "      <th>18</th>\n",
       "      <td>0.041450</td>\n",
       "      <td>39</td>\n",
       "      <td>18</td>\n",
       "    </tr>\n",
       "    <tr>\n",
       "      <th>19</th>\n",
       "      <td>0.041506</td>\n",
       "      <td>40</td>\n",
       "      <td>19</td>\n",
       "    </tr>\n",
       "    <tr>\n",
       "      <th>20</th>\n",
       "      <td>0.041514</td>\n",
       "      <td>41</td>\n",
       "      <td>20</td>\n",
       "    </tr>\n",
       "    <tr>\n",
       "      <th>21</th>\n",
       "      <td>0.041674</td>\n",
       "      <td>42</td>\n",
       "      <td>21</td>\n",
       "    </tr>\n",
       "    <tr>\n",
       "      <th>22</th>\n",
       "      <td>0.041568</td>\n",
       "      <td>43</td>\n",
       "      <td>22</td>\n",
       "    </tr>\n",
       "    <tr>\n",
       "      <th>23</th>\n",
       "      <td>0.041714</td>\n",
       "      <td>44</td>\n",
       "      <td>23</td>\n",
       "    </tr>\n",
       "    <tr>\n",
       "      <th>24</th>\n",
       "      <td>0.039672</td>\n",
       "      <td>44</td>\n",
       "      <td>24</td>\n",
       "    </tr>\n",
       "    <tr>\n",
       "      <th>25</th>\n",
       "      <td>0.039680</td>\n",
       "      <td>45</td>\n",
       "      <td>25</td>\n",
       "    </tr>\n",
       "    <tr>\n",
       "      <th>26</th>\n",
       "      <td>0.039506</td>\n",
       "      <td>46</td>\n",
       "      <td>26</td>\n",
       "    </tr>\n",
       "    <tr>\n",
       "      <th>27</th>\n",
       "      <td>0.039603</td>\n",
       "      <td>47</td>\n",
       "      <td>27</td>\n",
       "    </tr>\n",
       "    <tr>\n",
       "      <th>28</th>\n",
       "      <td>0.039563</td>\n",
       "      <td>48</td>\n",
       "      <td>28</td>\n",
       "    </tr>\n",
       "    <tr>\n",
       "      <th>29</th>\n",
       "      <td>0.039366</td>\n",
       "      <td>49</td>\n",
       "      <td>29</td>\n",
       "    </tr>\n",
       "    <tr>\n",
       "      <th>30</th>\n",
       "      <td>0.039302</td>\n",
       "      <td>50</td>\n",
       "      <td>30</td>\n",
       "    </tr>\n",
       "    <tr>\n",
       "      <th>31</th>\n",
       "      <td>0.039113</td>\n",
       "      <td>51</td>\n",
       "      <td>31</td>\n",
       "    </tr>\n",
       "    <tr>\n",
       "      <th>32</th>\n",
       "      <td>0.039153</td>\n",
       "      <td>52</td>\n",
       "      <td>32</td>\n",
       "    </tr>\n",
       "    <tr>\n",
       "      <th>33</th>\n",
       "      <td>0.038940</td>\n",
       "      <td>53</td>\n",
       "      <td>33</td>\n",
       "    </tr>\n",
       "    <tr>\n",
       "      <th>34</th>\n",
       "      <td>0.038822</td>\n",
       "      <td>54</td>\n",
       "      <td>34</td>\n",
       "    </tr>\n",
       "    <tr>\n",
       "      <th>35</th>\n",
       "      <td>0.039224</td>\n",
       "      <td>55</td>\n",
       "      <td>35</td>\n",
       "    </tr>\n",
       "    <tr>\n",
       "      <th>36</th>\n",
       "      <td>0.039519</td>\n",
       "      <td>56</td>\n",
       "      <td>36</td>\n",
       "    </tr>\n",
       "    <tr>\n",
       "      <th>37</th>\n",
       "      <td>0.039818</td>\n",
       "      <td>57</td>\n",
       "      <td>37</td>\n",
       "    </tr>\n",
       "    <tr>\n",
       "      <th>38</th>\n",
       "      <td>0.039903</td>\n",
       "      <td>58</td>\n",
       "      <td>38</td>\n",
       "    </tr>\n",
       "    <tr>\n",
       "      <th>39</th>\n",
       "      <td>0.040077</td>\n",
       "      <td>59</td>\n",
       "      <td>39</td>\n",
       "    </tr>\n",
       "    <tr>\n",
       "      <th>40</th>\n",
       "      <td>0.037591</td>\n",
       "      <td>59</td>\n",
       "      <td>40</td>\n",
       "    </tr>\n",
       "    <tr>\n",
       "      <th>41</th>\n",
       "      <td>0.037730</td>\n",
       "      <td>60</td>\n",
       "      <td>41</td>\n",
       "    </tr>\n",
       "    <tr>\n",
       "      <th>42</th>\n",
       "      <td>0.038444</td>\n",
       "      <td>61</td>\n",
       "      <td>42</td>\n",
       "    </tr>\n",
       "    <tr>\n",
       "      <th>43</th>\n",
       "      <td>0.038593</td>\n",
       "      <td>62</td>\n",
       "      <td>43</td>\n",
       "    </tr>\n",
       "    <tr>\n",
       "      <th>44</th>\n",
       "      <td>0.038065</td>\n",
       "      <td>63</td>\n",
       "      <td>44</td>\n",
       "    </tr>\n",
       "    <tr>\n",
       "      <th>45</th>\n",
       "      <td>0.038194</td>\n",
       "      <td>64</td>\n",
       "      <td>45</td>\n",
       "    </tr>\n",
       "    <tr>\n",
       "      <th>46</th>\n",
       "      <td>0.036480</td>\n",
       "      <td>64</td>\n",
       "      <td>46</td>\n",
       "    </tr>\n",
       "    <tr>\n",
       "      <th>47</th>\n",
       "      <td>0.036833</td>\n",
       "      <td>65</td>\n",
       "      <td>47</td>\n",
       "    </tr>\n",
       "  </tbody>\n",
       "</table>\n",
       "</div>"
      ],
      "text/plain": [
       "           y   x  id\n",
       "10  0.044485  32  10\n",
       "11  0.041866  32  11\n",
       "12  0.042263  33  12\n",
       "13  0.042455  34  13\n",
       "14  0.042306  35  14\n",
       "15  0.041851  36  15\n",
       "16  0.041826  37  16\n",
       "17  0.041637  38  17\n",
       "18  0.041450  39  18\n",
       "19  0.041506  40  19\n",
       "20  0.041514  41  20\n",
       "21  0.041674  42  21\n",
       "22  0.041568  43  22\n",
       "23  0.041714  44  23\n",
       "24  0.039672  44  24\n",
       "25  0.039680  45  25\n",
       "26  0.039506  46  26\n",
       "27  0.039603  47  27\n",
       "28  0.039563  48  28\n",
       "29  0.039366  49  29\n",
       "30  0.039302  50  30\n",
       "31  0.039113  51  31\n",
       "32  0.039153  52  32\n",
       "33  0.038940  53  33\n",
       "34  0.038822  54  34\n",
       "35  0.039224  55  35\n",
       "36  0.039519  56  36\n",
       "37  0.039818  57  37\n",
       "38  0.039903  58  38\n",
       "39  0.040077  59  39\n",
       "40  0.037591  59  40\n",
       "41  0.037730  60  41\n",
       "42  0.038444  61  42\n",
       "43  0.038593  62  43\n",
       "44  0.038065  63  44\n",
       "45  0.038194  64  45\n",
       "46  0.036480  64  46\n",
       "47  0.036833  65  47"
      ]
     },
     "execution_count": 248,
     "metadata": {},
     "output_type": "execute_result"
    }
   ],
   "source": [
    "plt_data.iloc[range(32-burn_in_iter, 70-burn_in_iter)]"
   ]
  },
  {
   "cell_type": "code",
   "execution_count": 94,
   "metadata": {},
   "outputs": [
    {
     "data": {
      "text/plain": [
       "array([ 15,  28,  44,  50,  56,  62,  68,  81,  88,  98, 104, 110, 116,\n",
       "       122, 129, 135, 152, 158, 166, 172, 180, 186, 192, 204])"
      ]
     },
     "execution_count": 94,
     "metadata": {},
     "output_type": "execute_result"
    }
   ],
   "source": [
    "change_points"
   ]
  },
  {
   "cell_type": "code",
   "execution_count": 93,
   "metadata": {},
   "outputs": [
    {
     "data": {
      "text/plain": [
       "array([0.0570992 , 0.04454041, 0.04156801, 0.03956314, 0.03882176,\n",
       "       0.0375909 , 0.0364799 , 0.03342532, 0.03184716, 0.03233935,\n",
       "       0.03071394, 0.02884405, 0.02800928, 0.02638414, 0.02590795,\n",
       "       0.02568881, 0.02470142, 0.02299325, 0.02213628, 0.02319806,\n",
       "       0.02271486, 0.02331804, 0.02273674, 0.02202893])"
      ]
     },
     "execution_count": 93,
     "metadata": {},
     "output_type": "execute_result"
    }
   ],
   "source": [
    "his[change_points]"
   ]
  },
  {
   "cell_type": "code",
   "execution_count": 16,
   "metadata": {},
   "outputs": [
    {
     "data": {
      "text/plain": [
       "37"
      ]
     },
     "execution_count": 16,
     "metadata": {},
     "output_type": "execute_result"
    }
   ],
   "source": [
    "62- 25"
   ]
  },
  {
   "cell_type": "code",
   "execution_count": 26,
   "metadata": {},
   "outputs": [
    {
     "data": {
      "text/plain": [
       "0.044476144920566923"
      ]
     },
     "execution_count": 26,
     "metadata": {},
     "output_type": "execute_result"
    }
   ],
   "source": [
    "history[0][-1]"
   ]
  },
  {
   "cell_type": "code",
   "execution_count": 152,
   "metadata": {},
   "outputs": [
    {
     "data": {
      "text/plain": [
       "37"
      ]
     },
     "execution_count": 152,
     "metadata": {},
     "output_type": "execute_result"
    }
   ],
   "source": [
    "sigmas.NMSE.idxmin()"
   ]
  },
  {
   "cell_type": "code",
   "execution_count": 10,
   "metadata": {},
   "outputs": [
    {
     "data": {
      "text/plain": [
       "0.04299118989648461"
      ]
     },
     "execution_count": 10,
     "metadata": {},
     "output_type": "execute_result"
    }
   ],
   "source": [
    "min_error_test_norm"
   ]
  },
  {
   "cell_type": "code",
   "execution_count": 153,
   "metadata": {},
   "outputs": [
    {
     "data": {
      "text/plain": [
       "0.04186229999386083"
      ]
     },
     "execution_count": 153,
     "metadata": {},
     "output_type": "execute_result"
    }
   ],
   "source": [
    "sigmas.NMSE.min()"
   ]
  },
  {
   "cell_type": "code",
   "execution_count": 83,
   "metadata": {},
   "outputs": [
    {
     "data": {
      "text/plain": [
       "(2, 100, 100)"
      ]
     },
     "execution_count": 83,
     "metadata": {},
     "output_type": "execute_result"
    }
   ],
   "source": [
    "Luk_full.shape"
   ]
  },
  {
   "cell_type": "code",
   "execution_count": 84,
   "metadata": {},
   "outputs": [
    {
     "data": {
      "text/plain": [
       "(2, 100, 100)"
      ]
     },
     "execution_count": 84,
     "metadata": {},
     "output_type": "execute_result"
    }
   ],
   "source": []
  },
  {
   "cell_type": "code",
   "execution_count": 87,
   "metadata": {},
   "outputs": [
    {
     "data": {
      "text/plain": [
       "array([[ True,  True,  True, ...,  True,  True,  True],\n",
       "       [ True,  True,  True, ...,  True,  True,  True],\n",
       "       [ True,  True,  True, ...,  True,  True,  True],\n",
       "       ...,\n",
       "       [ True,  True,  True, ...,  True,  True,  True],\n",
       "       [ True,  True,  True, ...,  True,  True,  True],\n",
       "       [ True,  True,  True, ...,  True,  True,  True]])"
      ]
     },
     "execution_count": 87,
     "metadata": {},
     "output_type": "execute_result"
    }
   ],
   "source": [
    "sigmas.D[T] == D_opt"
   ]
  },
  {
   "cell_type": "code",
   "execution_count": 66,
   "metadata": {},
   "outputs": [
    {
     "data": {
      "text/plain": [
       "(100, 80)"
      ]
     },
     "execution_count": 66,
     "metadata": {},
     "output_type": "execute_result"
    }
   ],
   "source": [
    "sigmas.X[T-3].shape"
   ]
  }
 ],
 "metadata": {
  "kernelspec": {
   "display_name": "base",
   "language": "python",
   "name": "python3"
  },
  "language_info": {
   "codemirror_mode": {
    "name": "ipython",
    "version": 3
   },
   "file_extension": ".py",
   "mimetype": "text/x-python",
   "name": "python",
   "nbconvert_exporter": "python",
   "pygments_lexer": "ipython3",
   "version": "3.9.17"
  }
 },
 "nbformat": 4,
 "nbformat_minor": 2
}
