{
 "cells": [
  {
   "cell_type": "markdown",
   "metadata": {},
   "source": [
    "# create_ground_truth"
   ]
  },
  {
   "cell_type": "code",
   "execution_count": 99,
   "metadata": {},
   "outputs": [],
   "source": [
    "import numpy as np\n",
    "import numpy.linalg as la\n",
    "import pandas as pd\n",
    "from scipy.sparse.linalg import eigs\n",
    "\n",
    "# __all__ = ['create_ground_truth']\n",
    "\n",
    "def compute_Lk_and_lambdak(L, K, separated=False):\n",
    "    lambdas, _ = eigs(L)\n",
    "    lambdas[np.abs(lambdas) < np.finfo(float).eps] = 0\n",
    "    lambda_max = np.max(lambdas).real\n",
    "    lambda_min = np.min(lambdas).real\n",
    "    Lk = np.array([la.matrix_power(L, i) for i in range(1, K + 1)])\n",
    "    # for the \"separated\" implementation we need a different dimensionality\n",
    "    if separated:\n",
    "        lambda_max_k = lambda_max ** np.arange(1, K + 1)\n",
    "        lambda_min_k = lambda_min ** np.arange(1, K + 1)\n",
    "    else:\n",
    "        lambda_max_k = lambda_max ** np.array(list(np.arange(1, K + 1))+[0])\n",
    "        lambda_min_k = lambda_min ** np.array(list(np.arange(1, K + 1))+[0])\n",
    "    return Lk, lambda_max_k, lambda_min_k\n",
    "\n",
    "def generate_coeffs(*arrays, s, mult=10):\n",
    "    \"\"\" \n",
    "    Select ad hoc parameters for synthetic data generation, randomly over\n",
    "    an interval dependent on the max eigenvalues of the Laplacian(s)\n",
    "    \"\"\"\n",
    "\n",
    "    # if passing four arguments (two for upper and two for lower laplacian eigevals)\n",
    "    # it means that you are using dictionary_type=\"separated\"\n",
    "    if len(arrays)==2:\n",
    "        lambda_max_k, lambda_min_k = arrays\n",
    "        K = lambda_max_k.shape[0]\n",
    "        h = mult / np.max(lambda_max_k) * np.random.rand(s, K)\n",
    "        # For later sanity check in optimization phase \n",
    "        tmp_max_vec = h @ lambda_max_k # parallelize the code with simple matrix multiplications\n",
    "        tmp_min_vec = h @ lambda_min_k\n",
    "        c = np.max(tmp_max_vec)\n",
    "        tmp_sum_max = np.sum(tmp_max_vec)\n",
    "        tmp_sum_min = np.sum(tmp_min_vec)\n",
    "\n",
    "        Delta_min = c - tmp_sum_min\n",
    "        Delta_max = tmp_sum_max - c\n",
    "        epsilon = (Delta_max - Delta_min) * np.random.rand() + Delta_min\n",
    "\n",
    "    elif len(arrays)==4:\n",
    "        lambda_max_u_k, lambda_min_u_k, lambda_max_d_k, lambda_min_d_k = arrays\n",
    "        K = lambda_max_u_k.shape[0]\n",
    "        hI = mult / np.max(lambda_max_d_k) * np.random.rand(s, K)\n",
    "        hS = mult / np.max(lambda_max_u_k) * np.random.rand(s, K)\n",
    "        hH = mult / np.min([np.max(lambda_max_u_k), np.max(lambda_max_d_k)]) * np.random.rand(s, 1)\n",
    "        h = [hS, hI, hH]\n",
    "        # For later sanity check in optimization phase\n",
    "        tmp_max_vec_S = (hS @ lambda_max_u_k).reshape(s,1)\n",
    "        tmp_min_vec_S = (hS @ lambda_min_u_k).reshape(s,1)\n",
    "        tmp_max_vec_I = (hI @ lambda_max_d_k).reshape(s,1)\n",
    "        tmp_min_vec_I = (hI @ lambda_min_d_k).reshape(s,1)\n",
    "        c = np.max(tmp_max_vec_I + tmp_max_vec_S + hH)\n",
    "        tmp_sum_min = np.sum(tmp_min_vec_I + tmp_min_vec_S + hH)\n",
    "        tmp_sum_max = np.sum(tmp_max_vec_I + tmp_max_vec_S + hH)\n",
    "        Delta_min = c - tmp_sum_min\n",
    "        Delta_max = tmp_sum_max - c\n",
    "        epsilon = np.max([Delta_min, Delta_max])\n",
    "    else:\n",
    "        raise ValueError(\"Function accepts either 2 or 4 arrays! In case of 4 arrays are provided,\\\n",
    "                        the first 2 refer to upper laplacian and the other two to lower laplacian.\")\n",
    "    return h, c, epsilon, tmp_sum_min, tmp_sum_max\n",
    "\n",
    "def generate_dictionary(h, s, *matrices):\n",
    "    D = []\n",
    "    # Always check if upper and lower Laplacians are separately provided\n",
    "    if len(matrices)==1:\n",
    "        Lk = matrices[0]\n",
    "        n = Lk.shape[-1]\n",
    "        k = Lk.shape[0]\n",
    "        # iterate over each kernel dimension\n",
    "        for i in range(0,s):\n",
    "            # Replicate formula (8) of the paper for the i-th sub-dictionary\n",
    "            h_tmp = h[i,:-1].reshape(k,1,1)\n",
    "            tmp = np.sum(h_tmp*Lk, axis=0) + h[i,-1]*np.eye(n,n)\n",
    "            D.append(tmp)\n",
    "    elif len(matrices)==2:\n",
    "        Luk , Ldk = matrices\n",
    "        n = Luk.shape[-1]\n",
    "        k = Luk.shape[0]\n",
    "        # iterate over each kernel dimension\n",
    "        for i in range(0,s):\n",
    "            # Replicate formula (8) of the paper for the i-th sub-dictionary\n",
    "            hu = h[0][i].reshape(k,1,1)\n",
    "            hd = h[1][i].reshape(k,1,1)\n",
    "            hid = h[2][i]\n",
    "            tmp = np.sum(hu*Luk + hd*Ldk, axis=0) + hid*np.eye(n,n)\n",
    "            D.append(tmp)\n",
    "    else:\n",
    "        raise ValueError(\"Function accepts one vector and either 1 or 2 matrices.\")\n",
    "    D = np.hstack(tuple(D))\n",
    "    return D\n",
    "\n",
    "def create_ground_truth(Lu, Ld, m_train, m_test, s, K, K0, dictionary_type, sparsity_mode):\n",
    "\n",
    "    # Joint Dictionary Model\n",
    "    if dictionary_type == \"joint\":\n",
    "        Lk, lambda_max_k, lambda_min_k = compute_Lk_and_lambdak(Lu + Ld, K)\n",
    "        h, c, epsilon, _, _ = generate_coeffs(lambda_max_k, lambda_min_k, s=s)\n",
    "        D = generate_dictionary(h, s, Lk)\n",
    "\n",
    "    # Edge Laplacian Dictionary Model\n",
    "    elif dictionary_type == \"edge_laplacian\":\n",
    "        Lk, lambda_max_k, lambda_min_k = compute_Lk_and_lambdak(Ld, K)\n",
    "        h, c, epsilon, _, _ = generate_coeffs(lambda_max_k, lambda_min_k, s=s)\n",
    "        D = generate_dictionary(h, s, Lk)\n",
    "\n",
    "    # Separated Dictionary Model\n",
    "    elif dictionary_type == \"separated\":\n",
    "        Luk, lambda_max_u_k, lambda_min_u_k = compute_Lk_and_lambdak(Lu, K, separated=True)\n",
    "        Ldk, lambda_max_d_k, lambda_min_d_k = compute_Lk_and_lambdak(Ld, K, separated=True)\n",
    "        h, c, epsilon, _, _ = generate_coeffs(lambda_max_u_k, lambda_min_u_k, lambda_max_d_k, lambda_min_d_k, s=s)\n",
    "        D = generate_dictionary(h, s, Luk, Ldk)\n",
    "\n",
    "    n = D.shape[0]\n",
    "\n",
    "    # Signal Generation\n",
    "    def create_column_vec(row,n, s):\n",
    "        tmp = np.zeros(n*s)\n",
    "        tmp[row['idxs']]=row['non_zero_coeff']\n",
    "        return tmp\n",
    "\n",
    "    m_total = m_train + m_test\n",
    "    tmp = pd.DataFrame()\n",
    "    # Determine the sparsity for each column based on sparsity_mode\n",
    "    if sparsity_mode == \"max\":\n",
    "        tmp_K0 = np.random.choice(np.arange(1,K0+1), size=(m_total), replace=True)\n",
    "    else:\n",
    "        tmp_K0 = np.full((m_total,), K0)\n",
    "    # sparsity coefficient for each column\n",
    "    tmp['K0'] = tmp_K0\n",
    "    # for each column get K0 indexes\n",
    "    tmp['idxs'] = tmp.K0.apply(lambda x: np.random.choice(n*s, x, replace=False))\n",
    "    # for each of the K0 row indexes in each column, sample K0 values\n",
    "    tmp['non_zero_coeff'] = tmp.K0.apply(lambda x: np.random.randn(x))\n",
    "    # create the column vectors with the desired characteristics\n",
    "    tmp['column_vec'] = tmp.apply(lambda x: create_column_vec(x,n=n, s=s), axis=1)\n",
    "    # finally derive the sparse signal representation matrix\n",
    "    X = np.column_stack(tmp['column_vec'].values)\n",
    "\n",
    "    all_data = D @ X\n",
    "    X_train = X[:, :m_train]\n",
    "    X_test = X[:, m_train:]\n",
    "    train_Y = all_data[:, :m_train]\n",
    "    test_Y = all_data[:, m_train:]\n",
    "\n",
    "    return D, h, train_Y, test_Y, epsilon, c, X_train, X_test"
   ]
  },
  {
   "cell_type": "markdown",
   "metadata": {},
   "source": [
    "# verify_dic\n"
   ]
  },
  {
   "cell_type": "code",
   "execution_count": 2,
   "metadata": {},
   "outputs": [],
   "source": [
    "import numpy as np\n",
    "from sklearn.linear_model import OrthogonalMatchingPursuit\n",
    "\n",
    "def get_omp_coeff(K0, Domp, col):\n",
    "    omp = OrthogonalMatchingPursuit(n_nonzero_coefs=K0)\n",
    "    omp.fit(Domp, col)\n",
    "    return omp.coef_\n",
    "\n",
    "def verify_dic(D, Y_train, X_train_true, K0_max, acc_thresh):\n",
    "    # OMP\n",
    "    dd = la.norm(D, axis=0)\n",
    "    W = np.diag(1. / dd)  # Normalization Step\n",
    "    Domp = D @ W\n",
    "    for K0 in range(1, K0_max+1):\n",
    "        idx = np.sum(np.abs(X_train_true) > 0, axis=0) == K0  # select all column vectors with certain sparsity (K0 non-null elements)\n",
    "        try:\n",
    "            tmp_train = Y_train[:, idx]\n",
    "            X_true_tmp = X_train_true[:, idx]\n",
    "            idx_group = np.abs(X_true_tmp) > 0\n",
    "            X_tr = np.apply_along_axis(lambda x: get_omp_coeff(K0, Domp.real, x), axis=0, arr=tmp_train)\n",
    "            idx_train = np.abs(X_tr) > 0\n",
    "            acc = np.sum(np.sum(idx_group == idx_train, axis=0) == idx_group.shape[0])/idx_group.shape[1]\n",
    "            if acc < acc_thresh:\n",
    "                fin_acc = acc\n",
    "                break\n",
    "            else:\n",
    "                fin_acc = acc\n",
    "        except:\n",
    "            fin_acc=0\n",
    "    max_possible_sparsity = K0 - 1\n",
    "    return max_possible_sparsity, fin_acc"
   ]
  },
  {
   "cell_type": "markdown",
   "metadata": {},
   "source": [
    "# initialize_dic"
   ]
  },
  {
   "cell_type": "code",
   "execution_count": 27,
   "metadata": {},
   "outputs": [],
   "source": [
    "from sklearn.linear_model import OrthogonalMatchingPursuit\n",
    "import scipy.linalg\n",
    "\n",
    "def initialize_dic(Lu, Ld, s, K, Y_train, K0, dictionary_type, c, epsilon, only):\n",
    "\n",
    "    n = Lu.shape[0]\n",
    "    D = np.zeros((n, n*s))\n",
    "    X = np.zeros(Y_train.shape)\n",
    "    X = np.tile(X, (s,1))\n",
    "    discard = 0\n",
    "\n",
    "    # maybe is better to create a wrapper\n",
    "    def multiplier_search(*arrays, s=s):\n",
    "        is_okay = 0\n",
    "        mult = 100\n",
    "        tries = 0\n",
    "        while is_okay==0:\n",
    "            is_okay = 1\n",
    "            h, c_try, _, tmp_sum_min, tmp_sum_max = generate_coeffs(arrays, s=s, mult=mult)\n",
    "            if c_try <= c:\n",
    "                is_okay *= 1\n",
    "            if tmp_sum_min > c-epsilon:\n",
    "                is_okay *= 1\n",
    "                incr_mult = 0\n",
    "            else:\n",
    "                is_okay = is_okay*0\n",
    "                incr_mult = 1\n",
    "            if tmp_sum_max < c+epsilon:\n",
    "                is_okay *= 1\n",
    "                decr_mult = 0\n",
    "            else:\n",
    "                is_okay *= 0\n",
    "                decr_mult = 1\n",
    "            if is_okay == 0:\n",
    "                tries += 1\n",
    "            if tries >3:\n",
    "                discard = 1\n",
    "                break\n",
    "            if incr_mult == 1:\n",
    "                mult *= 2\n",
    "            if decr_mult == 1:\n",
    "                mult /= 2\n",
    "        return h, discard\n",
    "\n",
    "    if (only == \"only_D\") or (only == \"all\"):\n",
    "        # Joint Dictionary Model\n",
    "        if dictionary_type == \"joint\":\n",
    "            Lk, lambda_max_k, lambda_min_k = compute_Lk_and_lambdak(Lu + Ld, K)\n",
    "            h, discard = multiplier_search(lambda_max_k, lambda_min_k)\n",
    "            D = generate_dictionary(h, s, Lk)\n",
    "\n",
    "        # Edge Laplacian Dictionary Model\n",
    "        elif dictionary_type == \"edge_laplacian\":\n",
    "            Lk, lambda_max_k, lambda_min_k = compute_Lk_and_lambdak(Ld, K)\n",
    "            h, discard = multiplier_search(lambda_max_k, lambda_min_k)\n",
    "            D = generate_dictionary(h, s, Lk)\n",
    "\n",
    "        # Separated Dictionary Model\n",
    "        elif dictionary_type == \"separated\":\n",
    "            Luk, lambda_max_u_k, lambda_min_u_k = compute_Lk_and_lambdak(Lu, K, separated=True)\n",
    "            Ldk, lambda_max_d_k, lambda_min_d_k = compute_Lk_and_lambdak(Ld, K, separated=True)\n",
    "            h, discard = multiplier_search(lambda_max_d_k, lambda_min_d_k, lambda_max_u_k, lambda_min_u_k)\n",
    "            D = generate_dictionary(h, s, Luk, Ldk)\n",
    "    \n",
    "    if (only == \"only_X\" or only == \"all\"):\n",
    "        \n",
    "        if dictionary_type == \"edge_laplacian\":\n",
    "            L = Ld\n",
    "            # _, Dx = scipy.linalg.eig(L)\n",
    "        else:\n",
    "            L = Lu+Ld\n",
    "            # _, Dx = scipy.linalg.eigh(L)\n",
    "\n",
    "        _, Dx = scipy.linalg.eig(L)\n",
    "        dd = la.norm(Dx, axis=0)\n",
    "        W = np.diag(1./dd)\n",
    "        Dx = Dx / la.norm(Dx)  \n",
    "        Domp = Dx@W\n",
    "        X = np.apply_along_axis(lambda x: get_omp_coeff(K0, Domp.real, x), axis=0, arr=Y_train)\n",
    "        X = np.tile(X, (s,1))\n",
    "        \n",
    "    return D, X, discard"
   ]
  },
  {
   "cell_type": "markdown",
   "metadata": {},
   "source": [
    "# topological_dictionary_learn"
   ]
  },
  {
   "cell_type": "code",
   "execution_count": 34,
   "metadata": {},
   "outputs": [],
   "source": [
    "import numpy as np\n",
    "import cvxpy as cp\n",
    "\n",
    "def topological_dictionary_learn(Y_train, Y_test, K, n, s, D0, X0, Lu, Ld, dictionary_type, c, epsilon, K0, lambda_=1e-3, max_iter=10, patience=10, tol=1e-7, verbose=0):\n",
    "\n",
    "    # Define hyperparameters\n",
    "    min_error_train_norm, min_error_test_norm = 1e20, 1e20\n",
    "    m_test, m_train = Y_test.shape[1], Y_train.shape[1]\n",
    "    iter_, pat_iter = 1, 0\n",
    "\n",
    "    if dictionary_type != \"fourier\":\n",
    "        if dictionary_type==\"joint\":\n",
    "            Lk, _, _ = compute_Lk_and_lambdak(Lu + Ld, K)\n",
    "        elif dictionary_type==\"edge_laplacian\":\n",
    "            Lk, _, _ = compute_Lk_and_lambdak(Ld, K)\n",
    "        elif dictionary_type==\"separated\":\n",
    "            Luk, _, _ = compute_Lk_and_lambdak(Lu, K, separated=True)\n",
    "            Ldk, _, _ = compute_Lk_and_lambdak(Ld, K, separated=True)\n",
    "\n",
    "        # Init the dictionary and the sparse representation \n",
    "        D_coll = [cp.Constant(D0[:,(n*i):(n*(i+1))]) for i in range(s)]\n",
    "        Y = cp.Constant(Y_train)\n",
    "        X_train = X0\n",
    "        \n",
    "        while pat_iter < patience and iter_ <= max_iter:\n",
    "            \n",
    "            # SDP Step\n",
    "            # Init constants and parameters\n",
    "            D_coll = [cp.Constant(np.zeros((n, n))) for i in range(s)]  # in the end we don't really need to init D in some way but all zeros will be fine?\n",
    "            Dsum = cp.Constant(np.zeros((n, n)))\n",
    "            X = cp.Constant(X_train)\n",
    "            I = cp.Constant(np.eye(n))\n",
    "            \n",
    "            # Define the objective function\n",
    "            if dictionary_type in [\"joint\", \"edge_laplacian\"]:\n",
    "                # Init the variables\n",
    "                h = cp.Variable((s, K))\n",
    "                hI = cp.Variable((s, 1))\n",
    "                for i in range(0,s):\n",
    "                    tmp =  cp.Constant(np.zeros((n, n)))\n",
    "                    for j in range(0,K):\n",
    "                        tmp += (cp.Constant(Lk[j, :, :]) * h[i,j])\n",
    "                    tmp += (I*hI[i])\n",
    "                    D_coll[i] = tmp\n",
    "                    Dsum += tmp\n",
    "                D = cp.hstack([D_coll[i]for i in range(s)])\n",
    "                term1 = cp.square(cp.norm((Y - D @ X), 'fro'))\n",
    "                term2 = cp.square(cp.norm(h, 'fro')*lambda_)\n",
    "                term3 = cp.square(cp.norm(hI, 'fro')*lambda_)\n",
    "                obj = cp.Minimize(term1 + term2 + term3)\n",
    "\n",
    "            else:\n",
    "                # Init the variables\n",
    "                hI = cp.Variable((s, K))\n",
    "                hS = cp.Variable((s, K))\n",
    "                hH = cp.Variable((s, 1))\n",
    "                for i in range(0,s):\n",
    "                    tmp =  cp.Constant(np.zeros((n, n)))\n",
    "                    for j in range(0,K):\n",
    "                        tmp += ((cp.Constant(Luk[j, :, :])*hS[i,j]) + (cp.Constant(Ldk[j, :, :])*hI[i,j]))\n",
    "                    tmp += (I*hH[i])\n",
    "                    D_coll[i] = tmp\n",
    "                    Dsum += tmp\n",
    "                D = cp.hstack([D_coll[i]for i in range(s)])\n",
    "                \n",
    "                term1 = cp.square(cp.norm((Y - D @ X), 'fro'))\n",
    "                term2 = cp.square(cp.norm(hI, 'fro')*lambda_)\n",
    "                term3 = cp.square(cp.norm(hS, 'fro')*lambda_)\n",
    "                term4 = cp.square(cp.norm(hH, 'fro')*lambda_)\n",
    "                obj = cp.Minimize(term1 + term2 + term3 + term4)\n",
    "\n",
    "            # Define the constraints\n",
    "            constraints = [D_coll[i] >> 0 for i in range(s)] + \\\n",
    "                            [(cp.multiply(c, I) - D_coll[i]) >> 0 for i in range(s)] + \\\n",
    "                            [(Dsum - cp.multiply((c - epsilon), I)) >> 0, (cp.multiply((c + epsilon), I) - Dsum) >> 0]\n",
    "\n",
    "            prob = cp.Problem(obj, constraints)\n",
    "            prob.solve(solver=cp.MOSEK, verbose=False)\n",
    "            # Update the dictionary\n",
    "            D = D.value\n",
    "\n",
    "            # OMP Step\n",
    "            dd = la.norm(D, axis=0)\n",
    "            W = np.diag(1. / dd)\n",
    "            Domp = D @ W\n",
    "            X_train = np.apply_along_axis(lambda x: get_omp_coeff(K0, Domp=Domp, col=x), axis=0, arr=Y_train)\n",
    "            X_test = np.apply_along_axis(lambda x: get_omp_coeff(K0, Domp=Domp, col=x), axis=0, arr=Y_test)\n",
    "            # Normalize?\n",
    "            X_train = W @ X_train\n",
    "            X_test = W @ X_test\n",
    "\n",
    "            # Error Updating\n",
    "            error_train_norm = (1/m_train)* np.sum(la.norm(Y_train - (D @ X_train), axis=0)**2 /\n",
    "                                    la.norm(Y_train, axis=0)**2)\n",
    "            error_test_norm = (1/m_test)* np.sum(la.norm(Y_test - (D @ X_test), axis=0)**2 /\n",
    "                                    la.norm(Y_test, axis=0)**2)\n",
    "\n",
    "            # Error Storing\n",
    "            if (error_train_norm < min_error_train_norm) and (abs(error_train_norm) > np.finfo(float).eps) and (abs(error_train_norm - min_error_train_norm) > tol):\n",
    "                X_opt_train = X_train\n",
    "                min_error_train_norm = error_train_norm\n",
    "\n",
    "            if (error_test_norm < min_error_test_norm) and (abs(error_test_norm) > np.finfo(float).eps) and (abs(error_test_norm - min_error_test_norm) > tol):\n",
    "                h_opt = h.value if dictionary_type in [\"joint\", \"edge_laplacian\"] else np.hstack([hI.value, hS.value, hH.value])\n",
    "                D_opt = D\n",
    "                X_opt_test = X_test\n",
    "                min_error_test_norm = error_test_norm\n",
    "                pat_iter = 0\n",
    "                if verbose == 1:\n",
    "                    print(\"New Best Test Error:\", min_error_test_norm)\n",
    "            else:\n",
    "                pat_iter += 1\n",
    "\n",
    "            iter_ += 1\n",
    "    \n",
    "    else:\n",
    "        # Fourier Dictionary Benchmark\n",
    "        L = Lu + Ld\n",
    "        _, D_opt = scipy.linalg.eigh(L)\n",
    "        dd = la.norm(D_opt, axis=0)\n",
    "        W = np.diag(1./dd)  \n",
    "        D_opt = D_opt / la.norm(D_opt)\n",
    "        Domp = D_opt@W\n",
    "        X_opt_train = np.apply_along_axis(lambda x: get_omp_coeff(K0, Domp=Domp.real, col=x), axis=0, arr=Y_train)\n",
    "        X_opt_test = np.apply_along_axis(lambda x: get_omp_coeff(K0, Domp=Domp.real, col=x), axis=0, arr=Y_test)\n",
    "        X_opt_train = W @ X_opt_train\n",
    "        X_opt_test = W @ X_opt_test\n",
    "        # Error Updating\n",
    "        min_error_train_norm = (1/m_train)* np.sum(la.norm(Y_train - (D_opt @ X_opt_train), axis=0)**2 /\n",
    "                                la.norm(Y_train, axis=0)**2)\n",
    "        min_error_test_norm = (1/m_test)* np.sum(la.norm(Y_test - (D_opt @ X_opt_test), axis=0)**2 /\n",
    "                                la.norm(Y_test, axis=0)**2)\n",
    "        h_opt = 0\n",
    "        \n",
    "    return min_error_train_norm, min_error_test_norm, h_opt, X_opt_test, X_opt_train"
   ]
  },
  {
   "cell_type": "markdown",
   "metadata": {},
   "source": [
    "# Define hyperparameters and graph strucutre"
   ]
  },
  {
   "cell_type": "code",
   "execution_count": null,
   "metadata": {},
   "outputs": [],
   "source": [
    "import scipy.io\n",
    "\n",
    "# Load the graph\n",
    "mat = scipy.io.loadmat('datiSC.mat')\n",
    "B1 = mat[\"B1\"]\n",
    "B2 = mat[\"B2\"]\n",
    "\n",
    "# Sub-sampling if needed to decrease complexity\n",
    "sub_size = 100\n",
    "B1 = B1[:, :sub_size]\n",
    "B2 = B2[:sub_size, :]\n",
    "B2 = B2[:,np.sum(np.abs(B2), 0) == 3]\n",
    "\n",
    "# Laplacians\n",
    "Ld = np.matmul(np.transpose(B1), B1, dtype=float)\n",
    "Lu = np.matmul(B2, np.transpose(B2), dtype=float)\n",
    "L = Lu+Ld\n",
    "n =  L.shape[0]\n",
    "nu = B2.shape[1]\n",
    "nd = B1.shape[1]\n",
    "\n",
    "# Problem and Dictionary Dimensionalities\n",
    "dictionary_type_true = \"edge_laplacian\"\n",
    "m_train = 150 # Number of Train Signals\n",
    "m_test = 80 # Number of Test Signal\n",
    "s = 3 # Number of Kernels (Sub-dictionaries)\n",
    "k = 2 # Polynomial order\n",
    "sparsity = .1 # Sparsity percentage\n",
    "K0_max = 20 #floor(n*sparsity) # Sparsity\n",
    "sparsity_mode = \"max\"\n",
    "\n",
    "# Data-Independent Problem Hyperparameters\n",
    "dictionary_type = dictionary_type_true\n",
    "s = s_true\n",
    "k = k_true\n",
    "K0_coll = np.arange(5, 26, 4) # K0_coll = 5:4:25 %4:4:40 %5:3:20\n",
    "lambda_ = 1e-6 # l2 multiplier\n",
    "max_iter = 100 # Maximum number of iterations\n",
    "patience = 5 # Patience\n",
    "tol = 1e-7 # Tolerance for Patience\n",
    "n_sim = 5\n",
    "lambda_ = 1e-7 \n",
    "verbose = True"
   ]
  },
  {
   "cell_type": "markdown",
   "metadata": {},
   "source": [
    "# Dictionary generation"
   ]
  },
  {
   "cell_type": "code",
   "execution_count": 100,
   "metadata": {},
   "outputs": [
    {
     "name": "stderr",
     "output_type": "stream",
     "text": [
      "  0%|          | 2/3000 [00:00<03:12, 15.59it/s]"
     ]
    },
    {
     "name": "stderr",
     "output_type": "stream",
     "text": [
      "100%|██████████| 3000/3000 [02:41<00:00, 18.60it/s]\n"
     ]
    },
    {
     "name": "stdout",
     "output_type": "stream",
     "text": [
      "...Done! # Best Sparsity: 3\n"
     ]
    },
    {
     "name": "stderr",
     "output_type": "stream",
     "text": [
      "100%|██████████| 3000/3000 [02:34<00:00, 19.38it/s]\n"
     ]
    },
    {
     "name": "stdout",
     "output_type": "stream",
     "text": [
      "...Done! # Best Sparsity: 4\n"
     ]
    },
    {
     "name": "stderr",
     "output_type": "stream",
     "text": [
      "100%|██████████| 3000/3000 [02:53<00:00, 17.32it/s]\n"
     ]
    },
    {
     "name": "stdout",
     "output_type": "stream",
     "text": [
      "...Done! # Best Sparsity: 4\n"
     ]
    },
    {
     "name": "stderr",
     "output_type": "stream",
     "text": [
      "100%|██████████| 3000/3000 [02:46<00:00, 17.98it/s]"
     ]
    },
    {
     "name": "stdout",
     "output_type": "stream",
     "text": [
      "...Done! # Best Sparsity: 4\n"
     ]
    },
    {
     "name": "stderr",
     "output_type": "stream",
     "text": [
      "\n"
     ]
    }
   ],
   "source": [
    "from tqdm import tqdm\n",
    "\n",
    "D_true = np.zeros((n, n * s_true, n_sim))\n",
    "D_true_coll = np.zeros((n, n, s_true, n_sim))\n",
    "Y_train = np.zeros((n, m_train, n_sim))\n",
    "Y_test = np.zeros((n, m_test, n_sim))\n",
    "epsilon_true = np.zeros(n_sim)\n",
    "c_true = np.zeros(n_sim)\n",
    "X_train = np.zeros((n * s, m_train, n_sim))\n",
    "X_test = np.zeros((n * s, m_test, n_sim))\n",
    "n_search = 3000\n",
    "\n",
    "for sim in range(n_sim):\n",
    "    best_sparsity = 0\n",
    "    best_acc = 0\n",
    "\n",
    "    for i in tqdm(range(n_search)):\n",
    "        try:\n",
    "            D_try, h, Y_train_try, Y_test_try, epsilon_try, c_try, X_train_try, X_test_try = create_ground_truth(Lu,\n",
    "                                                                                    Ld,\n",
    "                                                                                    m_train,\n",
    "                                                                                    m_test, \n",
    "                                                                                    s=s, \n",
    "                                                                                    K=k, \n",
    "                                                                                    K0=K0_max, \n",
    "                                                                                    dictionary_type=dictionary_type, \n",
    "                                                                                    sparsity_mode=sparsity_mode)\n",
    "            \n",
    "            max_possible_sparsity, acc = verify_dic(D_try, Y_train_try, X_train_try, K0_max, .7)\n",
    "            if max_possible_sparsity > best_sparsity:\n",
    "                best_sparsity = max_possible_sparsity\n",
    "                best_acc = acc\n",
    "                D_true[:, :, sim] = D_try\n",
    "                Y_train[:, :, sim] = Y_train_try\n",
    "                Y_test[:, :, sim] = Y_test_try\n",
    "                epsilon_true[sim] = epsilon_try\n",
    "                c_true[sim] = c_try\n",
    "                X_train[:, :, sim] = X_train_try\n",
    "                X_test[:, :, sim] = X_test_try\n",
    "\n",
    "        except Exception as e:\n",
    "            print(f\"Error during dictionary creation: {e}\")\n",
    "\n",
    "    print(f\"...Done! # Best Sparsity: {best_sparsity}\")"
   ]
  },
  {
   "cell_type": "markdown",
   "metadata": {},
   "source": [
    "# Learning with \"Fourier\""
   ]
  },
  {
   "cell_type": "code",
   "execution_count": 101,
   "metadata": {},
   "outputs": [
    {
     "name": "stderr",
     "output_type": "stream",
     "text": [
      "0it [00:00, ?it/s]"
     ]
    },
    {
     "name": "stderr",
     "output_type": "stream",
     "text": [
      "1it [00:00,  1.06it/s]"
     ]
    },
    {
     "name": "stdout",
     "output_type": "stream",
     "text": [
      "Simulation: 7/10 Sparsity: 5 Testing Fourier... Done! Test Error: 0.18305040208327894\n"
     ]
    },
    {
     "name": "stderr",
     "output_type": "stream",
     "text": [
      "2it [00:02,  1.15s/it]"
     ]
    },
    {
     "name": "stdout",
     "output_type": "stream",
     "text": [
      "Simulation: 7/10 Sparsity: 9 Testing Fourier... Done! Test Error: 0.07811934931640746\n"
     ]
    },
    {
     "name": "stderr",
     "output_type": "stream",
     "text": [
      "3it [00:03,  1.42s/it]"
     ]
    },
    {
     "name": "stdout",
     "output_type": "stream",
     "text": [
      "Simulation: 7/10 Sparsity: 13 Testing Fourier... Done! Test Error: 0.03706212102515756\n"
     ]
    },
    {
     "name": "stderr",
     "output_type": "stream",
     "text": [
      "4it [00:06,  1.71s/it]"
     ]
    },
    {
     "name": "stdout",
     "output_type": "stream",
     "text": [
      "Simulation: 7/10 Sparsity: 17 Testing Fourier... Done! Test Error: 0.017263721630028383\n"
     ]
    },
    {
     "name": "stderr",
     "output_type": "stream",
     "text": [
      "5it [00:08,  2.05s/it]"
     ]
    },
    {
     "name": "stdout",
     "output_type": "stream",
     "text": [
      "Simulation: 7/10 Sparsity: 21 Testing Fourier... Done! Test Error: 0.0088409852885027\n"
     ]
    },
    {
     "name": "stderr",
     "output_type": "stream",
     "text": [
      "6it [00:11,  1.97s/it]\n"
     ]
    },
    {
     "name": "stdout",
     "output_type": "stream",
     "text": [
      "Simulation: 7/10 Sparsity: 25 Testing Fourier... Done! Test Error: 0.005223404536898091\n"
     ]
    },
    {
     "name": "stderr",
     "output_type": "stream",
     "text": [
      "1it [00:01,  1.08s/it]"
     ]
    },
    {
     "name": "stdout",
     "output_type": "stream",
     "text": [
      "Simulation: 8/10 Sparsity: 5 Testing Fourier... Done! Test Error: 0.161626241177771\n"
     ]
    },
    {
     "name": "stderr",
     "output_type": "stream",
     "text": [
      "2it [00:02,  1.38s/it]"
     ]
    },
    {
     "name": "stdout",
     "output_type": "stream",
     "text": [
      "Simulation: 8/10 Sparsity: 9 Testing Fourier... Done! Test Error: 0.06347303384828083\n"
     ]
    },
    {
     "name": "stderr",
     "output_type": "stream",
     "text": [
      "3it [00:04,  1.72s/it]"
     ]
    },
    {
     "name": "stdout",
     "output_type": "stream",
     "text": [
      "Simulation: 8/10 Sparsity: 13 Testing Fourier... Done! Test Error: 0.029457817242872296\n"
     ]
    },
    {
     "name": "stderr",
     "output_type": "stream",
     "text": [
      "4it [00:06,  1.87s/it]"
     ]
    },
    {
     "name": "stdout",
     "output_type": "stream",
     "text": [
      "Simulation: 8/10 Sparsity: 17 Testing Fourier... Done! Test Error: 0.0154800758510303\n"
     ]
    },
    {
     "name": "stderr",
     "output_type": "stream",
     "text": [
      "5it [00:09,  2.04s/it]"
     ]
    },
    {
     "name": "stdout",
     "output_type": "stream",
     "text": [
      "Simulation: 8/10 Sparsity: 21 Testing Fourier... Done! Test Error: 0.009203021485213096\n"
     ]
    },
    {
     "name": "stderr",
     "output_type": "stream",
     "text": [
      "6it [00:11,  1.97s/it]\n"
     ]
    },
    {
     "name": "stdout",
     "output_type": "stream",
     "text": [
      "Simulation: 8/10 Sparsity: 25 Testing Fourier... Done! Test Error: 0.0058807848568786375\n"
     ]
    },
    {
     "name": "stderr",
     "output_type": "stream",
     "text": [
      "1it [00:00,  1.23it/s]"
     ]
    },
    {
     "name": "stdout",
     "output_type": "stream",
     "text": [
      "Simulation: 9/10 Sparsity: 5 Testing Fourier... Done! Test Error: 0.16046523038514057\n"
     ]
    },
    {
     "name": "stderr",
     "output_type": "stream",
     "text": [
      "2it [00:02,  1.04s/it]"
     ]
    },
    {
     "name": "stdout",
     "output_type": "stream",
     "text": [
      "Simulation: 9/10 Sparsity: 9 Testing Fourier... Done! Test Error: 0.06577605182451035\n"
     ]
    },
    {
     "name": "stderr",
     "output_type": "stream",
     "text": [
      "3it [00:03,  1.29s/it]"
     ]
    },
    {
     "name": "stdout",
     "output_type": "stream",
     "text": [
      "Simulation: 9/10 Sparsity: 13 Testing Fourier... Done! Test Error: 0.02986416465679684\n"
     ]
    },
    {
     "name": "stderr",
     "output_type": "stream",
     "text": [
      "4it [00:05,  1.49s/it]"
     ]
    },
    {
     "name": "stdout",
     "output_type": "stream",
     "text": [
      "Simulation: 9/10 Sparsity: 17 Testing Fourier... Done! Test Error: 0.013516664928821368\n"
     ]
    },
    {
     "name": "stderr",
     "output_type": "stream",
     "text": [
      "5it [00:08,  2.03s/it]"
     ]
    },
    {
     "name": "stdout",
     "output_type": "stream",
     "text": [
      "Simulation: 9/10 Sparsity: 21 Testing Fourier... Done! Test Error: 0.006848954704918394\n"
     ]
    },
    {
     "name": "stderr",
     "output_type": "stream",
     "text": [
      "6it [00:11,  1.99s/it]\n"
     ]
    },
    {
     "name": "stdout",
     "output_type": "stream",
     "text": [
      "Simulation: 9/10 Sparsity: 25 Testing Fourier... Done! Test Error: 0.0035514815867694516\n"
     ]
    },
    {
     "name": "stderr",
     "output_type": "stream",
     "text": [
      "1it [00:01,  1.04s/it]"
     ]
    },
    {
     "name": "stdout",
     "output_type": "stream",
     "text": [
      "Simulation: 10/10 Sparsity: 5 Testing Fourier... Done! Test Error: 0.14344348052792824\n"
     ]
    },
    {
     "name": "stderr",
     "output_type": "stream",
     "text": [
      "2it [00:02,  1.39s/it]"
     ]
    },
    {
     "name": "stdout",
     "output_type": "stream",
     "text": [
      "Simulation: 10/10 Sparsity: 9 Testing Fourier... Done! Test Error: 0.05686421744349746\n"
     ]
    },
    {
     "name": "stderr",
     "output_type": "stream",
     "text": [
      "3it [00:04,  1.44s/it]"
     ]
    },
    {
     "name": "stdout",
     "output_type": "stream",
     "text": [
      "Simulation: 10/10 Sparsity: 13 Testing Fourier... Done! Test Error: 0.026903043017691915\n"
     ]
    },
    {
     "name": "stderr",
     "output_type": "stream",
     "text": [
      "4it [00:06,  1.75s/it]"
     ]
    },
    {
     "name": "stdout",
     "output_type": "stream",
     "text": [
      "Simulation: 10/10 Sparsity: 17 Testing Fourier... Done! Test Error: 0.01303734225581657\n"
     ]
    },
    {
     "name": "stderr",
     "output_type": "stream",
     "text": [
      "5it [00:09,  2.10s/it]"
     ]
    },
    {
     "name": "stdout",
     "output_type": "stream",
     "text": [
      "Simulation: 10/10 Sparsity: 21 Testing Fourier... Done! Test Error: 0.0071491352064006145\n"
     ]
    },
    {
     "name": "stderr",
     "output_type": "stream",
     "text": [
      "6it [00:12,  2.10s/it]"
     ]
    },
    {
     "name": "stdout",
     "output_type": "stream",
     "text": [
      "Simulation: 10/10 Sparsity: 25 Testing Fourier... Done! Test Error: 0.004254970930543707\n"
     ]
    },
    {
     "name": "stderr",
     "output_type": "stream",
     "text": [
      "\n"
     ]
    }
   ],
   "source": [
    "import matplotlib.pyplot as plt\n",
    "import warnings\n",
    "\n",
    "warnings.filterwarnings('ignore')\n",
    "\n",
    "min_error_fou_train = np.zeros((n_sim, len(K0_coll)))\n",
    "min_error_fou_test = np.zeros((n_sim, len(K0_coll)))\n",
    "\n",
    "for sim in range(n_sim):\n",
    "    c = c_true[sim]  \n",
    "    epsilon = epsilon_true[sim] \n",
    "    for k0_index, k0 in tqdm(enumerate(K0_coll)):\n",
    "        discard = 1\n",
    "        while discard == 1:\n",
    "            \n",
    "            try:\n",
    "                D0, X0, discard = initialize_dic(Lu, Ld, s, k, Y_train[:, :, sim], k0, dictionary_type, c, epsilon, \"only_X\")\n",
    "            except:\n",
    "                print(\"Initialization Failed!\")\n",
    "        \n",
    "        try:\n",
    "            min_error_fou_train[sim, k0_index], min_error_fou_test[sim, k0_index], _, _, _ = topological_dictionary_learn(Y_train[:,:,sim], Y_test[:,:,sim],\n",
    "                                                                                                                        k, n, s, D0, X0, Lu, Ld, \"fourier\",\n",
    "                                                                                                                        c, epsilon, k0, lambda_, max_iter,\n",
    "                                                                                                                        patience, tol)\n",
    "            if verbose:\n",
    "                print(f\"Simulation: {sim+1}/{n_sim} Sparsity: {k0} Testing Fourier... Done! Test Error: {min_error_fou_test[sim, k0_index]}\")\n",
    "        except:\n",
    "            print(f'Simulation: {sim+1}/{n_sim} Sparsity: {k0} Testing Fourier... Diverged!')\n",
    "            min_error_fou_train[sim, k0_index], min_error_fou_test[sim, k0_index] = (100,100)"
   ]
  },
  {
   "cell_type": "markdown",
   "metadata": {},
   "source": [
    "# Learning \"separated\" learning"
   ]
  },
  {
   "cell_type": "code",
   "execution_count": 102,
   "metadata": {},
   "outputs": [
    {
     "name": "stderr",
     "output_type": "stream",
     "text": [
      "1it [00:17, 17.38s/it]"
     ]
    },
    {
     "name": "stdout",
     "output_type": "stream",
     "text": [
      "Simulation: 6/10 Sparsity: 5 Testing Separated... Done! Test Error: 0.04454670802326098\n"
     ]
    },
    {
     "name": "stderr",
     "output_type": "stream",
     "text": [
      "2it [00:45, 23.64s/it]"
     ]
    },
    {
     "name": "stdout",
     "output_type": "stream",
     "text": [
      "Simulation: 6/10 Sparsity: 9 Testing Separated... Done! Test Error: 0.012717941665579236\n"
     ]
    },
    {
     "name": "stderr",
     "output_type": "stream",
     "text": [
      "3it [02:30, 60.65s/it]"
     ]
    },
    {
     "name": "stdout",
     "output_type": "stream",
     "text": [
      "Simulation: 6/10 Sparsity: 13 Testing Separated... Done! Test Error: 0.006545378132616734\n"
     ]
    },
    {
     "name": "stderr",
     "output_type": "stream",
     "text": [
      "4it [03:57, 71.08s/it]"
     ]
    },
    {
     "name": "stdout",
     "output_type": "stream",
     "text": [
      "Simulation: 6/10 Sparsity: 17 Testing Separated... Done! Test Error: 0.002901229029077817\n"
     ]
    },
    {
     "name": "stderr",
     "output_type": "stream",
     "text": [
      "5it [06:52, 108.68s/it]"
     ]
    },
    {
     "name": "stdout",
     "output_type": "stream",
     "text": [
      "Simulation: 6/10 Sparsity: 21 Testing Separated... Done! Test Error: 0.002033812065477924\n"
     ]
    },
    {
     "name": "stderr",
     "output_type": "stream",
     "text": [
      "6it [10:36, 106.02s/it]\n"
     ]
    },
    {
     "name": "stdout",
     "output_type": "stream",
     "text": [
      "Simulation: 6/10 Sparsity: 25 Testing Separated... Done! Test Error: 0.0015648313596708186\n"
     ]
    },
    {
     "name": "stderr",
     "output_type": "stream",
     "text": [
      "1it [00:28, 28.63s/it]"
     ]
    },
    {
     "name": "stdout",
     "output_type": "stream",
     "text": [
      "Simulation: 7/10 Sparsity: 5 Testing Separated... Done! Test Error: 0.022387957883222422\n"
     ]
    },
    {
     "name": "stderr",
     "output_type": "stream",
     "text": [
      "2it [01:30, 48.23s/it]"
     ]
    },
    {
     "name": "stdout",
     "output_type": "stream",
     "text": [
      "Simulation: 7/10 Sparsity: 9 Testing Separated... Done! Test Error: 0.005816274237386014\n"
     ]
    },
    {
     "name": "stderr",
     "output_type": "stream",
     "text": [
      "3it [04:07, 97.76s/it]"
     ]
    },
    {
     "name": "stdout",
     "output_type": "stream",
     "text": [
      "Simulation: 7/10 Sparsity: 13 Testing Separated... Done! Test Error: 0.0022721735605108506\n"
     ]
    },
    {
     "name": "stderr",
     "output_type": "stream",
     "text": [
      "4it [06:18, 111.10s/it]"
     ]
    },
    {
     "name": "stdout",
     "output_type": "stream",
     "text": [
      "Simulation: 7/10 Sparsity: 17 Testing Separated... Done! Test Error: 0.0018430985977005937\n"
     ]
    },
    {
     "name": "stderr",
     "output_type": "stream",
     "text": [
      "5it [09:53, 148.55s/it]"
     ]
    },
    {
     "name": "stdout",
     "output_type": "stream",
     "text": [
      "Simulation: 7/10 Sparsity: 21 Testing Separated... Done! Test Error: 0.0017842217702373495\n"
     ]
    },
    {
     "name": "stderr",
     "output_type": "stream",
     "text": [
      "6it [12:51, 128.51s/it]\n"
     ]
    },
    {
     "name": "stdout",
     "output_type": "stream",
     "text": [
      "Simulation: 7/10 Sparsity: 25 Testing Separated... Done! Test Error: 0.001488270858775539\n"
     ]
    },
    {
     "name": "stderr",
     "output_type": "stream",
     "text": [
      "1it [00:24, 24.40s/it]"
     ]
    },
    {
     "name": "stdout",
     "output_type": "stream",
     "text": [
      "Simulation: 8/10 Sparsity: 5 Testing Separated... Done! Test Error: 0.02425061358543329\n"
     ]
    },
    {
     "name": "stderr",
     "output_type": "stream",
     "text": [
      "2it [00:59, 30.79s/it]"
     ]
    },
    {
     "name": "stdout",
     "output_type": "stream",
     "text": [
      "Simulation: 8/10 Sparsity: 9 Testing Separated... Done! Test Error: 0.006988969552725331\n"
     ]
    },
    {
     "name": "stderr",
     "output_type": "stream",
     "text": [
      "3it [02:15, 51.59s/it]"
     ]
    },
    {
     "name": "stdout",
     "output_type": "stream",
     "text": [
      "Simulation: 8/10 Sparsity: 13 Testing Separated... Done! Test Error: 0.002835119214205249\n"
     ]
    },
    {
     "name": "stderr",
     "output_type": "stream",
     "text": [
      "4it [04:15, 78.38s/it]"
     ]
    },
    {
     "name": "stdout",
     "output_type": "stream",
     "text": [
      "Simulation: 8/10 Sparsity: 17 Testing Separated... Done! Test Error: 0.0013842711376835675\n"
     ]
    },
    {
     "name": "stderr",
     "output_type": "stream",
     "text": [
      "5it [05:46, 82.78s/it]"
     ]
    },
    {
     "name": "stdout",
     "output_type": "stream",
     "text": [
      "Simulation: 8/10 Sparsity: 21 Testing Separated... Done! Test Error: 0.0027635382675845485\n"
     ]
    },
    {
     "name": "stderr",
     "output_type": "stream",
     "text": [
      "6it [08:32, 85.44s/it] \n"
     ]
    },
    {
     "name": "stdout",
     "output_type": "stream",
     "text": [
      "Simulation: 8/10 Sparsity: 25 Testing Separated... Done! Test Error: 0.0012995351105765268\n"
     ]
    },
    {
     "name": "stderr",
     "output_type": "stream",
     "text": [
      "1it [00:08,  8.30s/it]"
     ]
    },
    {
     "name": "stdout",
     "output_type": "stream",
     "text": [
      "Simulation: 9/10 Sparsity: 5 Testing Separated... Done! Test Error: 0.016928698727553662\n"
     ]
    },
    {
     "name": "stderr",
     "output_type": "stream",
     "text": [
      "2it [00:46, 25.79s/it]"
     ]
    },
    {
     "name": "stdout",
     "output_type": "stream",
     "text": [
      "Simulation: 9/10 Sparsity: 9 Testing Separated... Done! Test Error: 0.004802212059208826\n"
     ]
    },
    {
     "name": "stderr",
     "output_type": "stream",
     "text": [
      "3it [02:21, 57.28s/it]"
     ]
    },
    {
     "name": "stdout",
     "output_type": "stream",
     "text": [
      "Simulation: 9/10 Sparsity: 13 Testing Separated... Done! Test Error: 0.0018860464557301183\n"
     ]
    },
    {
     "name": "stderr",
     "output_type": "stream",
     "text": [
      "4it [04:11, 78.16s/it]"
     ]
    },
    {
     "name": "stdout",
     "output_type": "stream",
     "text": [
      "Simulation: 9/10 Sparsity: 17 Testing Separated... Done! Test Error: 0.0017049328659555797\n"
     ]
    },
    {
     "name": "stderr",
     "output_type": "stream",
     "text": [
      "5it [05:11, 71.79s/it]"
     ]
    },
    {
     "name": "stdout",
     "output_type": "stream",
     "text": [
      "Simulation: 9/10 Sparsity: 21 Testing Separated... Done! Test Error: 0.0027636562273211543\n"
     ]
    },
    {
     "name": "stderr",
     "output_type": "stream",
     "text": [
      "6it [08:15, 82.54s/it] "
     ]
    },
    {
     "name": "stdout",
     "output_type": "stream",
     "text": [
      "Simulation: 9/10 Sparsity: 25 Testing Separated... Done! Test Error: 0.0006335412070334048\n"
     ]
    },
    {
     "name": "stderr",
     "output_type": "stream",
     "text": [
      "\n"
     ]
    }
   ],
   "source": [
    "import warnings\n",
    "warnings.filterwarnings('ignore')\n",
    "\n",
    "min_error_sep_train = np.zeros((n_sim, len(K0_coll)))\n",
    "min_error_sep_test = np.zeros((n_sim, len(K0_coll)))\n",
    "\n",
    "for sim in range(n_sim):\n",
    "    c = c_true[sim]  # d\n",
    "    epsilon = epsilon_true[sim] \n",
    "    for k0_index, k0 in tqdm(enumerate(K0_coll)):\n",
    "        discard = 1\n",
    "        while discard == 1:\n",
    "\n",
    "            try:\n",
    "                D0, X0, discard = initialize_dic(Lu, Ld, s, k, Y_train[:, :, sim], k0, dictionary_type, c, epsilon, \"only_X\")\n",
    "            except:\n",
    "                print(\"Initialization Failed!\")\n",
    "        \n",
    "        try:\n",
    "            min_error_sep_train[sim, k0_index], min_error_sep_test[sim, k0_index], _, _, _ = topological_dictionary_learn(Y_train[:,:,sim], Y_test[:,:,sim],\n",
    "                                                                                                                                k, n, s, D0, X0, Lu, Ld, \"separated\",\n",
    "                                                                                                                                c, epsilon, k0, lambda_, max_iter, \n",
    "                                                                                                                                patience, tol)\n",
    "            if verbose:\n",
    "                print(f\"Simulation: {sim+1}/{n_sim} Sparsity: {k0} Testing Separated... Done! Test Error: {min_error_sep_test[sim, k0_index]}\")\n",
    "        except:\n",
    "            print(f'Simulation: {sim+1}/{n_sim} Sparsity: {k0} Testing Separated... Diverged!')\n",
    "            min_error_fou_train[sim, k0_index], min_error_fou_test[sim, k0_index] = (100,100)"
   ]
  },
  {
   "cell_type": "markdown",
   "metadata": {},
   "source": [
    "# Learning with \"edge laplacian\""
   ]
  },
  {
   "cell_type": "code",
   "execution_count": 103,
   "metadata": {},
   "outputs": [
    {
     "name": "stderr",
     "output_type": "stream",
     "text": [
      "1it [00:09,  9.52s/it]"
     ]
    },
    {
     "name": "stdout",
     "output_type": "stream",
     "text": [
      "Simulation: 6/9 Sparsity: 5 Testing Edge Laplacian... Done! Test Error: 0.04344563872217513\n"
     ]
    },
    {
     "name": "stderr",
     "output_type": "stream",
     "text": [
      "2it [00:27, 14.39s/it]"
     ]
    },
    {
     "name": "stdout",
     "output_type": "stream",
     "text": [
      "Simulation: 6/9 Sparsity: 9 Testing Edge Laplacian... Done! Test Error: 0.01336196071907642\n"
     ]
    },
    {
     "name": "stderr",
     "output_type": "stream",
     "text": [
      "3it [01:02, 23.95s/it]"
     ]
    },
    {
     "name": "stdout",
     "output_type": "stream",
     "text": [
      "Simulation: 6/9 Sparsity: 13 Testing Edge Laplacian... Done! Test Error: 0.006338162031298396\n"
     ]
    },
    {
     "name": "stderr",
     "output_type": "stream",
     "text": [
      "4it [01:31, 25.83s/it]"
     ]
    },
    {
     "name": "stdout",
     "output_type": "stream",
     "text": [
      "Simulation: 6/9 Sparsity: 17 Testing Edge Laplacian... Done! Test Error: 0.004245020482651134\n"
     ]
    },
    {
     "name": "stderr",
     "output_type": "stream",
     "text": [
      "5it [02:07, 29.60s/it]"
     ]
    },
    {
     "name": "stdout",
     "output_type": "stream",
     "text": [
      "Simulation: 6/9 Sparsity: 21 Testing Edge Laplacian... Done! Test Error: 0.0023932917291926473\n"
     ]
    },
    {
     "name": "stderr",
     "output_type": "stream",
     "text": [
      "6it [03:06, 31.11s/it]\n"
     ]
    },
    {
     "name": "stdout",
     "output_type": "stream",
     "text": [
      "Simulation: 6/9 Sparsity: 25 Testing Edge Laplacian... Done! Test Error: 0.001604412780777864\n"
     ]
    },
    {
     "name": "stderr",
     "output_type": "stream",
     "text": [
      "1it [00:12, 12.66s/it]"
     ]
    },
    {
     "name": "stdout",
     "output_type": "stream",
     "text": [
      "Simulation: 7/9 Sparsity: 5 Testing Edge Laplacian... Done! Test Error: 0.021209047820518693\n"
     ]
    },
    {
     "name": "stderr",
     "output_type": "stream",
     "text": [
      "2it [00:33, 17.53s/it]"
     ]
    },
    {
     "name": "stdout",
     "output_type": "stream",
     "text": [
      "Simulation: 7/9 Sparsity: 9 Testing Edge Laplacian... Done! Test Error: 0.00569313761373122\n"
     ]
    },
    {
     "name": "stderr",
     "output_type": "stream",
     "text": [
      "3it [01:40, 40.04s/it]"
     ]
    },
    {
     "name": "stdout",
     "output_type": "stream",
     "text": [
      "Simulation: 7/9 Sparsity: 13 Testing Edge Laplacian... Done! Test Error: 0.00253460172230724\n"
     ]
    },
    {
     "name": "stderr",
     "output_type": "stream",
     "text": [
      "4it [02:41, 48.42s/it]"
     ]
    },
    {
     "name": "stdout",
     "output_type": "stream",
     "text": [
      "Simulation: 7/9 Sparsity: 17 Testing Edge Laplacian... Done! Test Error: 0.00250378427961582\n"
     ]
    },
    {
     "name": "stderr",
     "output_type": "stream",
     "text": [
      "5it [04:10, 63.11s/it]"
     ]
    },
    {
     "name": "stdout",
     "output_type": "stream",
     "text": [
      "Simulation: 7/9 Sparsity: 21 Testing Edge Laplacian... Done! Test Error: 0.0016162413108127644\n"
     ]
    },
    {
     "name": "stderr",
     "output_type": "stream",
     "text": [
      "6it [05:37, 56.24s/it]\n"
     ]
    },
    {
     "name": "stdout",
     "output_type": "stream",
     "text": [
      "Simulation: 7/9 Sparsity: 25 Testing Edge Laplacian... Done! Test Error: 0.0016622154372405433\n"
     ]
    },
    {
     "name": "stderr",
     "output_type": "stream",
     "text": [
      "1it [00:20, 20.69s/it]"
     ]
    },
    {
     "name": "stdout",
     "output_type": "stream",
     "text": [
      "Simulation: 8/9 Sparsity: 5 Testing Edge Laplacian... Done! Test Error: 0.02428861993083968\n"
     ]
    },
    {
     "name": "stderr",
     "output_type": "stream",
     "text": [
      "2it [00:53, 27.76s/it]"
     ]
    },
    {
     "name": "stdout",
     "output_type": "stream",
     "text": [
      "Simulation: 8/9 Sparsity: 9 Testing Edge Laplacian... Done! Test Error: 0.006513434857091923\n"
     ]
    },
    {
     "name": "stderr",
     "output_type": "stream",
     "text": [
      "3it [02:12, 51.32s/it]"
     ]
    },
    {
     "name": "stdout",
     "output_type": "stream",
     "text": [
      "Simulation: 8/9 Sparsity: 13 Testing Edge Laplacian... Done! Test Error: 0.002823765509955384\n"
     ]
    },
    {
     "name": "stderr",
     "output_type": "stream",
     "text": [
      "4it [03:07, 52.63s/it]"
     ]
    },
    {
     "name": "stdout",
     "output_type": "stream",
     "text": [
      "Simulation: 8/9 Sparsity: 17 Testing Edge Laplacian... Done! Test Error: 0.0025994785487908467\n"
     ]
    },
    {
     "name": "stderr",
     "output_type": "stream",
     "text": [
      "5it [03:56, 51.24s/it]"
     ]
    },
    {
     "name": "stdout",
     "output_type": "stream",
     "text": [
      "Simulation: 8/9 Sparsity: 21 Testing Edge Laplacian... Done! Test Error: 0.003553194331913899\n"
     ]
    },
    {
     "name": "stderr",
     "output_type": "stream",
     "text": [
      "6it [04:56, 49.44s/it]\n"
     ]
    },
    {
     "name": "stdout",
     "output_type": "stream",
     "text": [
      "Simulation: 8/9 Sparsity: 25 Testing Edge Laplacian... Done! Test Error: 0.002256251363257007\n"
     ]
    },
    {
     "name": "stderr",
     "output_type": "stream",
     "text": [
      "1it [00:11, 11.55s/it]"
     ]
    },
    {
     "name": "stdout",
     "output_type": "stream",
     "text": [
      "Simulation: 9/9 Sparsity: 5 Testing Edge Laplacian... Done! Test Error: 0.01769084361605109\n"
     ]
    },
    {
     "name": "stderr",
     "output_type": "stream",
     "text": [
      "2it [00:31, 16.39s/it]"
     ]
    },
    {
     "name": "stdout",
     "output_type": "stream",
     "text": [
      "Simulation: 9/9 Sparsity: 9 Testing Edge Laplacian... Done! Test Error: 0.0046966234216455375\n"
     ]
    },
    {
     "name": "stderr",
     "output_type": "stream",
     "text": [
      "3it [01:21, 31.70s/it]"
     ]
    },
    {
     "name": "stdout",
     "output_type": "stream",
     "text": [
      "Simulation: 9/9 Sparsity: 13 Testing Edge Laplacian... Done! Test Error: 0.0020509982130654672\n"
     ]
    },
    {
     "name": "stderr",
     "output_type": "stream",
     "text": [
      "4it [02:47, 53.09s/it]"
     ]
    },
    {
     "name": "stdout",
     "output_type": "stream",
     "text": [
      "Simulation: 9/9 Sparsity: 17 Testing Edge Laplacian... Done! Test Error: 0.002128480391773606\n"
     ]
    },
    {
     "name": "stderr",
     "output_type": "stream",
     "text": [
      "5it [03:56, 58.85s/it]"
     ]
    },
    {
     "name": "stdout",
     "output_type": "stream",
     "text": [
      "Simulation: 9/9 Sparsity: 21 Testing Edge Laplacian... Done! Test Error: 0.0020530813708371817\n"
     ]
    },
    {
     "name": "stderr",
     "output_type": "stream",
     "text": [
      "6it [06:21, 63.61s/it]"
     ]
    },
    {
     "name": "stdout",
     "output_type": "stream",
     "text": [
      "Simulation: 9/9 Sparsity: 25 Testing Edge Laplacian... Done! Test Error: 0.0009969948994415694\n"
     ]
    },
    {
     "name": "stderr",
     "output_type": "stream",
     "text": [
      "\n"
     ]
    }
   ],
   "source": [
    "import warnings\n",
    "warnings.filterwarnings('ignore')\n",
    "\n",
    "min_error_edge_train = np.zeros((n_sim, len(K0_coll)))\n",
    "min_error_edge_test = np.zeros((n_sim, len(K0_coll)))\n",
    "\n",
    "for sim in range(n_sim):\n",
    "    c = c_true[sim]  # d\n",
    "    epsilon = epsilon_true[sim] \n",
    "    for k0_index, k0 in tqdm(enumerate(K0_coll)):\n",
    "        # Initializations\n",
    "        discard = 1\n",
    "        while discard == 1:\n",
    "\n",
    "            try:\n",
    "                D0, X0, discard = initialize_dic(Lu, Ld, s, k, Y_train[:, :, sim], k0, dictionary_type, c, epsilon, \"only_X\")\n",
    "            except:\n",
    "                print(\"Initialization Failed!\")\n",
    "\n",
    "        try:\n",
    "            min_error_edge_train[sim, k0_index], min_error_edge_test[sim, k0_index], _, _, _ = topological_dictionary_learn(Y_train[:,:,sim], Y_test[:,:,sim],\n",
    "                                                                                                                             k, n, s, D0, X0, Lu, Ld, \"edge_laplacian\",\n",
    "                                                                                                                             c, epsilon, k0, lambda_, max_iter, \n",
    "                                                                                                                             patience, tol)\n",
    "            if verbose:\n",
    "                print(f\"Simulation: {sim+1}/{n_sim} Sparsity: {k0} Testing Edge Laplacian... Done! Test Error: {min_error_edge_test[sim, k0_index]}\")\n",
    "        except:\n",
    "            print(f'Simulation: {sim+1}/{n_sim} Sparsity: {k0} Testing Edge Laplacian... Diverged!')\n",
    "            min_error_fou_train[sim, k0_index], min_error_fou_test[sim, k0_index] = (100,100)"
   ]
  },
  {
   "cell_type": "markdown",
   "metadata": {},
   "source": [
    "# Learning with \"joint hodge\""
   ]
  },
  {
   "cell_type": "code",
   "execution_count": 104,
   "metadata": {},
   "outputs": [
    {
     "name": "stderr",
     "output_type": "stream",
     "text": [
      "1it [00:13, 13.81s/it]"
     ]
    },
    {
     "name": "stdout",
     "output_type": "stream",
     "text": [
      "Simulation: 7/10 Sparsity: 5 Testing Joint... Done! Test Error: 0.09674904341598087\n"
     ]
    },
    {
     "name": "stderr",
     "output_type": "stream",
     "text": [
      "2it [00:26, 13.16s/it]"
     ]
    },
    {
     "name": "stdout",
     "output_type": "stream",
     "text": [
      "Simulation: 7/10 Sparsity: 9 Testing Joint... Done! Test Error: 0.044274819103090515\n"
     ]
    },
    {
     "name": "stderr",
     "output_type": "stream",
     "text": [
      "3it [00:45, 15.61s/it]"
     ]
    },
    {
     "name": "stdout",
     "output_type": "stream",
     "text": [
      "Simulation: 7/10 Sparsity: 13 Testing Joint... Done! Test Error: 0.02596185622163279\n"
     ]
    },
    {
     "name": "stderr",
     "output_type": "stream",
     "text": [
      "4it [01:17, 22.08s/it]"
     ]
    },
    {
     "name": "stdout",
     "output_type": "stream",
     "text": [
      "Simulation: 7/10 Sparsity: 17 Testing Joint... Done! Test Error: 0.013971161883608658\n"
     ]
    },
    {
     "name": "stderr",
     "output_type": "stream",
     "text": [
      "5it [02:06, 32.04s/it]"
     ]
    },
    {
     "name": "stdout",
     "output_type": "stream",
     "text": [
      "Simulation: 7/10 Sparsity: 21 Testing Joint... Done! Test Error: 0.008947036654565442\n"
     ]
    },
    {
     "name": "stderr",
     "output_type": "stream",
     "text": [
      "6it [03:17, 32.94s/it]\n"
     ]
    },
    {
     "name": "stdout",
     "output_type": "stream",
     "text": [
      "Simulation: 7/10 Sparsity: 25 Testing Joint... Done! Test Error: 0.006721318708549745\n"
     ]
    },
    {
     "name": "stderr",
     "output_type": "stream",
     "text": [
      "1it [00:08,  8.48s/it]"
     ]
    },
    {
     "name": "stdout",
     "output_type": "stream",
     "text": [
      "Simulation: 8/10 Sparsity: 5 Testing Joint... Done! Test Error: 0.07919771991199256\n"
     ]
    },
    {
     "name": "stderr",
     "output_type": "stream",
     "text": [
      "2it [00:27, 14.68s/it]"
     ]
    },
    {
     "name": "stdout",
     "output_type": "stream",
     "text": [
      "Simulation: 8/10 Sparsity: 9 Testing Joint... Done! Test Error: 0.034593119111785565\n"
     ]
    },
    {
     "name": "stderr",
     "output_type": "stream",
     "text": [
      "3it [01:07, 26.14s/it]"
     ]
    },
    {
     "name": "stdout",
     "output_type": "stream",
     "text": [
      "Simulation: 8/10 Sparsity: 13 Testing Joint... Done! Test Error: 0.015883071625901284\n"
     ]
    },
    {
     "name": "stderr",
     "output_type": "stream",
     "text": [
      "4it [01:51, 33.24s/it]"
     ]
    },
    {
     "name": "stdout",
     "output_type": "stream",
     "text": [
      "Simulation: 8/10 Sparsity: 17 Testing Joint... Done! Test Error: 0.010888302090594246\n"
     ]
    },
    {
     "name": "stderr",
     "output_type": "stream",
     "text": [
      "5it [03:18, 52.50s/it]"
     ]
    },
    {
     "name": "stdout",
     "output_type": "stream",
     "text": [
      "Simulation: 8/10 Sparsity: 21 Testing Joint... Done! Test Error: 0.005132684419939502\n"
     ]
    },
    {
     "name": "stderr",
     "output_type": "stream",
     "text": [
      "6it [04:36, 46.08s/it]\n"
     ]
    },
    {
     "name": "stdout",
     "output_type": "stream",
     "text": [
      "Simulation: 8/10 Sparsity: 25 Testing Joint... Done! Test Error: 0.004595740741002135\n"
     ]
    },
    {
     "name": "stderr",
     "output_type": "stream",
     "text": [
      "1it [00:08,  8.12s/it]"
     ]
    },
    {
     "name": "stdout",
     "output_type": "stream",
     "text": [
      "Simulation: 9/10 Sparsity: 5 Testing Joint... Done! Test Error: 0.07994835473213094\n"
     ]
    },
    {
     "name": "stderr",
     "output_type": "stream",
     "text": [
      "2it [00:25, 13.30s/it]"
     ]
    },
    {
     "name": "stdout",
     "output_type": "stream",
     "text": [
      "Simulation: 9/10 Sparsity: 9 Testing Joint... Done! Test Error: 0.03320552688144563\n"
     ]
    },
    {
     "name": "stderr",
     "output_type": "stream",
     "text": [
      "3it [01:02, 24.41s/it]"
     ]
    },
    {
     "name": "stdout",
     "output_type": "stream",
     "text": [
      "Simulation: 9/10 Sparsity: 13 Testing Joint... Done! Test Error: 0.0164686342521469\n"
     ]
    },
    {
     "name": "stderr",
     "output_type": "stream",
     "text": [
      "4it [01:55, 35.76s/it]"
     ]
    },
    {
     "name": "stdout",
     "output_type": "stream",
     "text": [
      "Simulation: 9/10 Sparsity: 17 Testing Joint... Done! Test Error: 0.008889254819948386\n"
     ]
    },
    {
     "name": "stderr",
     "output_type": "stream",
     "text": [
      "5it [03:34, 58.48s/it]"
     ]
    },
    {
     "name": "stdout",
     "output_type": "stream",
     "text": [
      "Simulation: 9/10 Sparsity: 21 Testing Joint... Done! Test Error: 0.006843586205368824\n"
     ]
    },
    {
     "name": "stderr",
     "output_type": "stream",
     "text": [
      "6it [05:46, 57.70s/it]\n"
     ]
    },
    {
     "name": "stdout",
     "output_type": "stream",
     "text": [
      "Simulation: 9/10 Sparsity: 25 Testing Joint... Done! Test Error: 0.004202610607726314\n"
     ]
    },
    {
     "name": "stderr",
     "output_type": "stream",
     "text": [
      "1it [00:13, 13.69s/it]"
     ]
    },
    {
     "name": "stdout",
     "output_type": "stream",
     "text": [
      "Simulation: 10/10 Sparsity: 5 Testing Joint... Done! Test Error: 0.06350390249386455\n"
     ]
    },
    {
     "name": "stderr",
     "output_type": "stream",
     "text": [
      "2it [00:25, 12.70s/it]"
     ]
    },
    {
     "name": "stdout",
     "output_type": "stream",
     "text": [
      "Simulation: 10/10 Sparsity: 9 Testing Joint... Done! Test Error: 0.026324738175669535\n"
     ]
    },
    {
     "name": "stderr",
     "output_type": "stream",
     "text": [
      "3it [01:07, 26.03s/it]"
     ]
    },
    {
     "name": "stdout",
     "output_type": "stream",
     "text": [
      "Simulation: 10/10 Sparsity: 13 Testing Joint... Done! Test Error: 0.013647602609606083\n"
     ]
    },
    {
     "name": "stderr",
     "output_type": "stream",
     "text": [
      "4it [02:15, 42.63s/it]"
     ]
    },
    {
     "name": "stdout",
     "output_type": "stream",
     "text": [
      "Simulation: 10/10 Sparsity: 17 Testing Joint... Done! Test Error: 0.008783119946593997\n"
     ]
    },
    {
     "name": "stderr",
     "output_type": "stream",
     "text": [
      "5it [03:17, 49.55s/it]"
     ]
    },
    {
     "name": "stdout",
     "output_type": "stream",
     "text": [
      "Simulation: 10/10 Sparsity: 21 Testing Joint... Done! Test Error: 0.006752953740783155\n"
     ]
    },
    {
     "name": "stderr",
     "output_type": "stream",
     "text": [
      "6it [05:43, 57.21s/it]"
     ]
    },
    {
     "name": "stdout",
     "output_type": "stream",
     "text": [
      "Simulation: 10/10 Sparsity: 25 Testing Joint... Done! Test Error: 0.0040726922260153455\n"
     ]
    },
    {
     "name": "stderr",
     "output_type": "stream",
     "text": [
      "\n"
     ]
    }
   ],
   "source": [
    "import warnings\n",
    "warnings.filterwarnings('ignore')\n",
    "\n",
    "min_error_joint_train = np.zeros((n_sim, len(K0_coll)))\n",
    "min_error_joint_test = np.zeros((n_sim, len(K0_coll)))\n",
    "\n",
    "for sim in range(n_sim):\n",
    "    c = c_true[sim] \n",
    "    epsilon = epsilon_true[sim] \n",
    "    for k0_index, k0 in tqdm(enumerate(K0_coll)):\n",
    "        discard = 1\n",
    "        while discard == 1:\n",
    "            try:\n",
    "                D0, X0, discard = initialize_dic(Lu, Ld, s, k, Y_train[:, :, sim], k0, dictionary_type, c, epsilon, \"only_X\")\n",
    "            except:\n",
    "                print(\"Initialization Failed!\")\n",
    "            \n",
    "        try:\n",
    "            min_error_joint_train[sim, k0_index], min_error_joint_test[sim, k0_index], _, _, _ = topological_dictionary_learn(Y_train[:,:,sim], Y_test[:,:,sim],\n",
    "                                                                                                                             k, n, s, D0, X0, Lu, Ld, \"joint\",\n",
    "                                                                                                                             c, epsilon, k0, lambda_, max_iter,\n",
    "                                                                                                                             patience, tol)\n",
    "            if verbose:\n",
    "                print(f\"Simulation: {sim+1}/{n_sim} Sparsity: {k0} Testing Joint... Done! Test Error: {min_error_joint_test[sim, k0_index]}\")\n",
    "        except:\n",
    "            print(f'Simulation: {sim+1}/{n_sim} Sparsity: {k0} Testing Joint... Diverged!')\n",
    "            min_error_fou_train[sim, k0_index], min_error_fou_test[sim, k0_index] = (100,100)"
   ]
  },
  {
   "cell_type": "markdown",
   "metadata": {},
   "source": [
    "# Plot Curves"
   ]
  },
  {
   "cell_type": "code",
   "execution_count": 106,
   "metadata": {},
   "outputs": [
    {
     "data": {
      "image/png": "[encoded data removed]",
      "text/plain": [
       "<Figure size 1000x600 with 1 Axes>"
      ]
     },
     "metadata": {},
     "output_type": "display_data"
    }
   ],
   "source": [
    "import matplotlib.pyplot as plt\n",
    "import seaborn as sns\n",
    "\n",
    "TITLE = \"Edge Laplacian\"\n",
    "\n",
    "res_df = pd.DataFrame()\n",
    "dict_types = {\"fou\": \"Fourier\", \"edge\": \"Edge Laplacian\", \"joint\": \"Hodge Laplacian\", \"sep\": \"Separated Hodge Laplacian\"}\n",
    "\n",
    "for d in dict_types.items():\n",
    "    for sim in range(6, n_sim):\n",
    "        tmp_df = pd.DataFrame()   \n",
    "        tmp_df[\"Error\"] = eval(f'min_error_{d[0]}_test[sim,:]')\n",
    "        tmp_df[\"Sparsity\"] = K0_coll\n",
    "        tmp_df[\"Method\"] = d[1]\n",
    "        res_df = pd.concat([res_df, tmp_df])\n",
    "\n",
    "plt.figure(figsize=(10, 6))\n",
    "sns.set_style('whitegrid')\n",
    "my_plt = sns.lineplot(data=res_df, x='Sparsity', y='Error', hue='Method',\n",
    "                       palette=sns.color_palette(),\n",
    "                       markers=['>', '^', 'v', 'd'], dashes=False, style='Method')\n",
    "my_plt.set(yscale='log')\n",
    "my_plt.set_title(f'True dictionary: {TITLE}')\n",
    "my_plt.set_ylabel('Error (log scale)')\n",
    "plt.show()"
   ]
  },
  {
   "cell_type": "markdown",
   "metadata": {},
   "source": [
    "# Save variables and workspace"
   ]
  },
  {
   "cell_type": "code",
   "execution_count": 108,
   "metadata": {},
   "outputs": [],
   "source": [
    "import pickle\n",
    "import os\n",
    "import dill\n",
    "\n",
    "save_var = {\"min_error_edge_test\":min_error_edge_test,\n",
    "            \"min_error_edge_train\":min_error_edge_train,\n",
    "            \"min_error_fou_test\":min_error_fou_test,\n",
    "            \"min_error_fou_train\":min_error_fou_train,\n",
    "            \"min_error_joint_test\":min_error_joint_test,\n",
    "            \"min_error_joint_train\":min_error_joint_train,\n",
    "            \"min_error_sep_test\":min_error_sep_test,\n",
    "            \"min_error_sep_train\":min_error_sep_train}\n",
    "\n",
    "PATH = os.getcwd()\n",
    "DIR_PATH = f'{PATH}\\\\results\\\\{dictionary_type}'\n",
    "FILENAME_ERR = f'{DIR_PATH}\\\\error.pkl'\n",
    "FILENAME_ENV = f'{DIR_PATH}\\\\ipynb_env.db'\n",
    "FILENAME_PLT = f'{DIR_PATH}\\\\plot.png'\n",
    "\n",
    "if not os.path.exists(DIR_PATH):\n",
    "    os.makedirs(DIR_PATH)\n",
    "    \n",
    "with open(FILENAME_ERR, 'wb') as f: \n",
    "    pickle.dump(save_var, f)\n",
    "f.close()\n",
    "\n",
    "dill.dump_session(FILENAME_ENV)\n",
    "\n",
    "fig = my_plt.get_figure()\n",
    "fig.savefig(FILENAME_PLT)"
   ]
  },
  {
   "cell_type": "markdown",
   "metadata": {},
   "source": [
    "# Vettorizzazione for esterni"
   ]
  },
  {
   "cell_type": "code",
   "execution_count": 935,
   "metadata": {},
   "outputs": [],
   "source": [
    "# import scipy.io\n",
    "# mat = scipy.io.loadmat('datiSC.mat')\n",
    "# B1 = mat[\"B1\"]\n",
    "# B2 = mat[\"B2\"]\n",
    "\n",
    "# # Subsampling if needed to decrease complexity\n",
    "# sub_size = 100\n",
    "# B1 = B1[:, :sub_size]\n",
    "# B2 = B2[:sub_size, :]\n",
    "# B2 = B2[:,np.sum(np.abs(B2), 0) == 3]\n",
    "\n",
    "# # Laplacians\n",
    "# Ld = np.matmul(np.transpose(B1), B1, dtype=float)\n",
    "# Lu = np.matmul(B2, np.transpose(B2), dtype=float)\n",
    "# L = Lu+Ld\n",
    "# n =  L.shape[0]\n",
    "# nu = B2.shape[1]\n",
    "# nd = B1.shape[1]\n",
    "# _ ,U = la.eig(L)\n",
    "\n",
    "# # Problem and Dictionary Dimensionalities\n",
    "# dictionary_type_true = \"separated\"\n",
    "# m_train = 150 # Number of Train Signals\n",
    "# m_test = 80 # Number of Test Signal\n",
    "# s_true = 3 # Number of Kernels (Sub-dictionaries)\n",
    "# k_true = 2 # Polynomial order\n",
    "# sparsity = .1 # Sparsity percentage\n",
    "# K0_max = 20 #floor(n*sparsity) # Sparsity\n",
    "# sparsity_mode = \"max\"\n",
    "\n",
    "# # Data-Independent Problem Hyperparameters\n",
    "# dictionary_type = dictionary_type_true\n",
    "# s = s_true\n",
    "# k = k_true\n",
    "# K0_coll = np.arange(5, 26, 4) # K0_coll = 5:4:25 %4:4:40 %5:3:20\n",
    "# lambda_ = 1e-6 # l2 multiplier\n",
    "# max_iter = 100 # Maximum number of iterations\n",
    "# patience = 5 # Patience\n",
    "# tol = 1e-7 # Tolerance for Patience\n",
    "# n_sim = 10\n",
    "# verbose = 0\n",
    "# # for sim in range(5,n_sim):\n",
    "# tmp_res = pd.DataFrame()\n",
    "# def vectorized_generation(Lu,Ld,m_train,m_test,s, K, K0, dictionary_type, sparsity_mode):\n",
    "#     D_try, h, Y_train_try, Y_test_try, epsilon_try, c_try, X_train_try, X_test_try = create_ground_truth(Lu,\n",
    "#                                                                                 Ld,\n",
    "#                                                                                 m_train,\n",
    "#                                                                                 m_test, \n",
    "#                                                                                 s=s, \n",
    "#                                                                                 K=K, \n",
    "#                                                                                 K0=K0, \n",
    "#                                                                                 dictionary_type=dictionary_type, \n",
    "#                                                                                 sparsity_mode=sparsity_mode)\n",
    "#     res_dict ={\"D_try\":D_try,\n",
    "#             \"h\":h,\n",
    "#             \"Y_train_try\":Y_train_try,\n",
    "#             \"Y_test_try\":Y_test_try,\n",
    "#             \"epsilon_try\":epsilon_try,\n",
    "#             \"c_try\":c_try,\n",
    "#             \"X_train_try\":X_train_try,\n",
    "#             \"X_test_try\":X_test_try}\n",
    "#     return res_dict\n",
    "\n",
    "# def vectorized_verify(row, K0_max, acc_tresh):\n",
    "#     D_try=row[\"D_try\"]\n",
    "#     Y_train_try=row[\"Y_train_try\"]\n",
    "#     X_train_try=row[\"X_train_try\"]\n",
    "#     max_possible_sparsity, acc = verify_dic(D_try, Y_train_try, X_train_try, K0_max, acc_tresh)\n",
    "#     row[\"acc\"] = acc\n",
    "#     row[\"max_s\"] = max_possible_sparsity\n",
    "#     return row\n",
    "\n",
    "# tmp_res[\"search\"] = np.arange(3000)\n",
    "# tmp_res[\"res_dict\"] = tmp_res.search.apply(lambda row: vectorized_generation(Lu,Ld,m_train,m_test,s=s, K=k, K0=K0_max, dictionary_type=dictionary_type, sparsity_mode=sparsity_mode))\n",
    "# tmp_res[\"res_dict\"] = tmp_res.res_dict.apply(lambda row:  vectorized_verify(row, K0_max, 0.7))"
   ]
  }
 ],
 "metadata": {
  "kernelspec": {
   "display_name": "base",
   "language": "python",
   "name": "python3"
  },
  "language_info": {
   "codemirror_mode": {
    "name": "ipython",
    "version": 3
   },
   "file_extension": ".py",
   "mimetype": "text/x-python",
   "name": "python",
   "nbconvert_exporter": "python",
   "pygments_lexer": "ipython3",
   "version": "3.9.17"
  }
 },
 "nbformat": 4,
 "nbformat_minor": 2
}
