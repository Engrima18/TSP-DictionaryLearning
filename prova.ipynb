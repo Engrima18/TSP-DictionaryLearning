{
 "cells": [
  {
   "cell_type": "markdown",
   "metadata": {},
   "source": [
    "# Define hyperparameters and graph strucutre"
   ]
  },
  {
   "cell_type": "code",
   "execution_count": 18,
   "metadata": {},
   "outputs": [],
   "source": [
    "from tsplearn import *\n",
    "import numpy as np \n",
    "import pandas as pd\n",
    "\n",
    "# Load the graph\n",
    "G = EnhancedGraph(n=40, p=0.162, seed=0)\n",
    "B1 = G.get_b1()\n",
    "B2 = G.get_b2()\n",
    "\n",
    "# Sub-sampling if needed to decrease complexity\n",
    "sub_size = 100\n",
    "B1 = B1[:, :sub_size]\n",
    "B2 = B2[:sub_size, :]\n",
    "B2 = B2[:,np.sum(np.abs(B2), 0) == 3]\n",
    "\n",
    "# Laplacians\n",
    "Ld = np.matmul(np.transpose(B1), B1, dtype=float)\n",
    "Lu = np.matmul(B2, np.transpose(B2), dtype=float)\n",
    "L = Lu+Ld\n",
    "n =  L.shape[0]\n",
    "nu = B2.shape[1]\n",
    "nd = B1.shape[1]\n",
    "\n",
    "# Problem and Dictionary Dimensionalities\n",
    "m_train = 150 # Number of Train Signals\n",
    "m_test = 80 # Number of Test Signal\n",
    "s = 3 # Number of Kernels (Sub-dictionaries)\n",
    "k = 2 # Polynomial order\n",
    "sparsity = .1 # Sparsity percentage\n",
    "K0_max = 20 #floor(n*sparsity) # Sparsity\n",
    "sparsity_mode = \"max\"\n",
    "\n",
    "# Data-Independent Problem Hyperparameters\n",
    "dictionary_type = \"\"\n",
    "K0_coll = np.arange(5, 26, 4) \n",
    "max_iter = 100 \n",
    "patience = 5 \n",
    "tol = 1e-7 # tolerance for Patience\n",
    "n_sim = 10\n",
    "lambda_ = 1e-7 # l2 multiplier\n",
    "verbose = True"
   ]
  },
  {
   "cell_type": "markdown",
   "metadata": {},
   "source": [
    "# Synthetic data generation"
   ]
  },
  {
   "cell_type": "code",
   "execution_count": 27,
   "metadata": {},
   "outputs": [
    {
     "name": "stderr",
     "output_type": "stream",
     "text": [
      "100%|██████████| 3000/3000 [01:34<00:00, 31.78it/s]\n"
     ]
    },
    {
     "name": "stdout",
     "output_type": "stream",
     "text": [
      "...Done! # Best Sparsity: 4\n"
     ]
    },
    {
     "name": "stderr",
     "output_type": "stream",
     "text": [
      "100%|██████████| 3000/3000 [01:32<00:00, 32.56it/s]\n"
     ]
    },
    {
     "name": "stdout",
     "output_type": "stream",
     "text": [
      "...Done! # Best Sparsity: 4\n"
     ]
    },
    {
     "name": "stderr",
     "output_type": "stream",
     "text": [
      "100%|██████████| 3000/3000 [01:31<00:00, 32.78it/s]\n"
     ]
    },
    {
     "name": "stdout",
     "output_type": "stream",
     "text": [
      "...Done! # Best Sparsity: 4\n"
     ]
    },
    {
     "name": "stderr",
     "output_type": "stream",
     "text": [
      "100%|██████████| 3000/3000 [01:34<00:00, 31.84it/s]\n"
     ]
    },
    {
     "name": "stdout",
     "output_type": "stream",
     "text": [
      "...Done! # Best Sparsity: 4\n"
     ]
    },
    {
     "name": "stderr",
     "output_type": "stream",
     "text": [
      "100%|██████████| 3000/3000 [01:40<00:00, 29.76it/s]\n"
     ]
    },
    {
     "name": "stdout",
     "output_type": "stream",
     "text": [
      "...Done! # Best Sparsity: 5\n"
     ]
    },
    {
     "name": "stderr",
     "output_type": "stream",
     "text": [
      "100%|██████████| 3000/3000 [01:32<00:00, 32.40it/s]\n"
     ]
    },
    {
     "name": "stdout",
     "output_type": "stream",
     "text": [
      "...Done! # Best Sparsity: 4\n"
     ]
    },
    {
     "name": "stderr",
     "output_type": "stream",
     "text": [
      "100%|██████████| 3000/3000 [01:32<00:00, 32.56it/s]\n"
     ]
    },
    {
     "name": "stdout",
     "output_type": "stream",
     "text": [
      "...Done! # Best Sparsity: 4\n"
     ]
    },
    {
     "name": "stderr",
     "output_type": "stream",
     "text": [
      "100%|██████████| 3000/3000 [01:32<00:00, 32.30it/s]\n"
     ]
    },
    {
     "name": "stdout",
     "output_type": "stream",
     "text": [
      "...Done! # Best Sparsity: 5\n"
     ]
    },
    {
     "name": "stderr",
     "output_type": "stream",
     "text": [
      "100%|██████████| 3000/3000 [01:30<00:00, 33.27it/s]\n"
     ]
    },
    {
     "name": "stdout",
     "output_type": "stream",
     "text": [
      "...Done! # Best Sparsity: 5\n"
     ]
    },
    {
     "name": "stderr",
     "output_type": "stream",
     "text": [
      "100%|██████████| 3000/3000 [01:28<00:00, 33.80it/s]"
     ]
    },
    {
     "name": "stdout",
     "output_type": "stream",
     "text": [
      "...Done! # Best Sparsity: 5\n"
     ]
    },
    {
     "name": "stderr",
     "output_type": "stream",
     "text": [
      "\n"
     ]
    }
   ],
   "source": [
    "from tqdm import tqdm\n",
    "\n",
    "dictionary_type = \"joint\"\n",
    "\n",
    "D_true = np.zeros((n, n * s, n_sim))\n",
    "D_true_coll = np.zeros((n, n, s, n_sim))\n",
    "Y_train = np.zeros((n, m_train, n_sim))\n",
    "Y_test = np.zeros((n, m_test, n_sim))\n",
    "epsilon_true = np.zeros(n_sim)\n",
    "c_true = np.zeros(n_sim)\n",
    "X_train = np.zeros((n * s, m_train, n_sim))\n",
    "X_test = np.zeros((n * s, m_test, n_sim))\n",
    "n_search = 3000\n",
    "\n",
    "for sim in range(n_sim):\n",
    "    best_sparsity = 0\n",
    "    best_acc = 0\n",
    "\n",
    "    for i in tqdm(range(n_search)):\n",
    "        try:\n",
    "            D_try, h, Y_train_try, Y_test_try, epsilon_try, c_try, X_train_try, X_test_try = create_ground_truth(Lu,\n",
    "                                                                                    Ld,\n",
    "                                                                                    m_train,\n",
    "                                                                                    m_test, \n",
    "                                                                                    s=s, \n",
    "                                                                                    K=k, \n",
    "                                                                                    K0=K0_max, \n",
    "                                                                                    dictionary_type=dictionary_type, \n",
    "                                                                                    sparsity_mode=sparsity_mode)\n",
    "            \n",
    "            max_possible_sparsity, acc = verify_dic(D_try, Y_train_try, X_train_try, K0_max, .7)\n",
    "            if max_possible_sparsity > best_sparsity:\n",
    "                best_sparsity = max_possible_sparsity\n",
    "                best_acc = acc\n",
    "                D_true[:, :, sim] = D_try\n",
    "                Y_train[:, :, sim] = Y_train_try\n",
    "                Y_test[:, :, sim] = Y_test_try\n",
    "                epsilon_true[sim] = epsilon_try\n",
    "                c_true[sim] = c_try\n",
    "                X_train[:, :, sim] = X_train_try\n",
    "                X_test[:, :, sim] = X_test_try\n",
    "\n",
    "        except Exception as e:\n",
    "            print(f\"Error during dictionary creation: {e}\")\n",
    "    if verbose:\n",
    "        print(f\"...Done! # Best Sparsity: {best_sparsity}\")"
   ]
  },
  {
   "cell_type": "markdown",
   "metadata": {},
   "source": [
    "# Dictionary learning"
   ]
  },
  {
   "cell_type": "code",
   "execution_count": 28,
   "metadata": {},
   "outputs": [
    {
     "name": "stderr",
     "output_type": "stream",
     "text": [
      "0it [00:00, ?it/s]"
     ]
    },
    {
     "name": "stdout",
     "output_type": "stream",
     "text": [
      "Simulation: 1/10 Sparsity: 5 Testing Fourier... Done! Test Error: 0.33029265188139645\n",
      "Simulation: 1/10 Sparsity: 5 Testing Edge Laplacian... Done! Test Error: 0.0843661115982034\n",
      "Simulation: 1/10 Sparsity: 5 Testing Hodge Laplacian... Done! Test Error: 0.03882762442310686\n"
     ]
    },
    {
     "name": "stderr",
     "output_type": "stream",
     "text": [
      "1it [00:57, 57.32s/it]"
     ]
    },
    {
     "name": "stdout",
     "output_type": "stream",
     "text": [
      "Simulation: 1/10 Sparsity: 5 Testing Separated Hodge Laplacian... Done! Test Error: 0.038822460346586936\n",
      "Simulation: 1/10 Sparsity: 9 Testing Fourier... Done! Test Error: 0.20129502251893716\n",
      "Simulation: 1/10 Sparsity: 9 Testing Edge Laplacian... Done! Test Error: 0.044640267953005054\n",
      "Simulation: 1/10 Sparsity: 9 Testing Hodge Laplacian... Done! Test Error: 0.010274589693192783\n"
     ]
    },
    {
     "name": "stderr",
     "output_type": "stream",
     "text": [
      "2it [02:05, 63.95s/it]"
     ]
    },
    {
     "name": "stdout",
     "output_type": "stream",
     "text": [
      "Simulation: 1/10 Sparsity: 9 Testing Separated Hodge Laplacian... Done! Test Error: 0.009934823409176969\n",
      "Simulation: 1/10 Sparsity: 13 Testing Fourier... Done! Test Error: 0.13006187387870424\n",
      "Simulation: 1/10 Sparsity: 13 Testing Edge Laplacian... Done! Test Error: 0.02398377029706421\n",
      "Simulation: 1/10 Sparsity: 13 Testing Hodge Laplacian... Done! Test Error: 0.004035496794442823\n"
     ]
    },
    {
     "name": "stderr",
     "output_type": "stream",
     "text": [
      "3it [03:29, 73.06s/it]"
     ]
    },
    {
     "name": "stdout",
     "output_type": "stream",
     "text": [
      "Simulation: 1/10 Sparsity: 13 Testing Separated Hodge Laplacian... Done! Test Error: 0.00398014212026995\n",
      "Simulation: 1/10 Sparsity: 17 Testing Fourier... Done! Test Error: 0.09167016115509513\n",
      "Simulation: 1/10 Sparsity: 17 Testing Edge Laplacian... Done! Test Error: 0.013648000745828372\n",
      "Simulation: 1/10 Sparsity: 17 Testing Hodge Laplacian... Done! Test Error: 0.0020931924899090064\n"
     ]
    },
    {
     "name": "stderr",
     "output_type": "stream",
     "text": [
      "4it [06:15, 109.73s/it]"
     ]
    },
    {
     "name": "stdout",
     "output_type": "stream",
     "text": [
      "Simulation: 1/10 Sparsity: 17 Testing Separated Hodge Laplacian... Done! Test Error: 0.0020967260459512135\n",
      "Simulation: 1/10 Sparsity: 21 Testing Fourier... Done! Test Error: 0.06847365229367441\n",
      "Simulation: 1/10 Sparsity: 21 Testing Edge Laplacian... Done! Test Error: 0.00849986856035419\n",
      "Simulation: 1/10 Sparsity: 21 Testing Hodge Laplacian... Done! Test Error: 0.0011708516640115748\n"
     ]
    },
    {
     "name": "stderr",
     "output_type": "stream",
     "text": [
      "5it [10:37, 164.44s/it]"
     ]
    },
    {
     "name": "stdout",
     "output_type": "stream",
     "text": [
      "Simulation: 1/10 Sparsity: 21 Testing Separated Hodge Laplacian... Done! Test Error: 0.0011242962034612562\n",
      "Simulation: 1/10 Sparsity: 25 Testing Fourier... Done! Test Error: 0.05161751904678165\n",
      "Simulation: 1/10 Sparsity: 25 Testing Edge Laplacian... Done! Test Error: 0.005218217093928572\n",
      "Simulation: 1/10 Sparsity: 25 Testing Hodge Laplacian... Done! Test Error: 0.0010279928503709214\n"
     ]
    },
    {
     "name": "stderr",
     "output_type": "stream",
     "text": [
      "6it [15:51, 158.59s/it]\n"
     ]
    },
    {
     "name": "stdout",
     "output_type": "stream",
     "text": [
      "Simulation: 1/10 Sparsity: 25 Testing Separated Hodge Laplacian... Done! Test Error: 0.0011195365335139032\n"
     ]
    },
    {
     "name": "stderr",
     "output_type": "stream",
     "text": [
      "0it [00:00, ?it/s]"
     ]
    },
    {
     "name": "stdout",
     "output_type": "stream",
     "text": [
      "Simulation: 2/10 Sparsity: 5 Testing Fourier... Done! Test Error: 0.23666083790999004\n",
      "Simulation: 2/10 Sparsity: 5 Testing Edge Laplacian... Done! Test Error: 0.08259410885471229\n",
      "Simulation: 2/10 Sparsity: 5 Testing Hodge Laplacian... Done! Test Error: 0.03090080928229306\n"
     ]
    },
    {
     "name": "stderr",
     "output_type": "stream",
     "text": [
      "1it [00:36, 37.00s/it]"
     ]
    },
    {
     "name": "stdout",
     "output_type": "stream",
     "text": [
      "Simulation: 2/10 Sparsity: 5 Testing Separated Hodge Laplacian... Done! Test Error: 0.035093165719215814\n",
      "Simulation: 2/10 Sparsity: 9 Testing Fourier... Done! Test Error: 0.12908327488769009\n",
      "Simulation: 2/10 Sparsity: 9 Testing Edge Laplacian... Done! Test Error: 0.0409617848701033\n",
      "Simulation: 2/10 Sparsity: 9 Testing Hodge Laplacian... Done! Test Error: 0.008119816020704133\n"
     ]
    },
    {
     "name": "stderr",
     "output_type": "stream",
     "text": [
      "2it [01:38, 51.66s/it]"
     ]
    },
    {
     "name": "stdout",
     "output_type": "stream",
     "text": [
      "Simulation: 2/10 Sparsity: 9 Testing Separated Hodge Laplacian... Done! Test Error: 0.009916288082915727\n",
      "Simulation: 2/10 Sparsity: 13 Testing Fourier... Done! Test Error: 0.08272301823015629\n",
      "Simulation: 2/10 Sparsity: 13 Testing Edge Laplacian... Done! Test Error: 0.02199320644881187\n",
      "Simulation: 2/10 Sparsity: 13 Testing Hodge Laplacian... Done! Test Error: 0.003733688708096744\n"
     ]
    },
    {
     "name": "stderr",
     "output_type": "stream",
     "text": [
      "3it [02:51, 61.09s/it]"
     ]
    },
    {
     "name": "stdout",
     "output_type": "stream",
     "text": [
      "Simulation: 2/10 Sparsity: 13 Testing Separated Hodge Laplacian... Diverged!\n",
      "Simulation: 2/10 Sparsity: 17 Testing Fourier... Done! Test Error: 0.050567947962864596\n",
      "Simulation: 2/10 Sparsity: 17 Testing Edge Laplacian... Done! Test Error: 0.012896671067662947\n",
      "Simulation: 2/10 Sparsity: 17 Testing Hodge Laplacian... Done! Test Error: 0.0023946911348497364\n"
     ]
    },
    {
     "name": "stderr",
     "output_type": "stream",
     "text": [
      "4it [05:55, 109.62s/it]"
     ]
    },
    {
     "name": "stdout",
     "output_type": "stream",
     "text": [
      "Simulation: 2/10 Sparsity: 17 Testing Separated Hodge Laplacian... Done! Test Error: 0.002075261634628046\n",
      "Simulation: 2/10 Sparsity: 21 Testing Fourier... Done! Test Error: 0.03299925469595504\n",
      "Simulation: 2/10 Sparsity: 21 Testing Edge Laplacian... Done! Test Error: 0.007994660809538178\n",
      "Simulation: 2/10 Sparsity: 21 Testing Hodge Laplacian... Done! Test Error: 0.001347387826456916\n"
     ]
    },
    {
     "name": "stderr",
     "output_type": "stream",
     "text": [
      "5it [08:43, 130.83s/it]"
     ]
    },
    {
     "name": "stdout",
     "output_type": "stream",
     "text": [
      "Simulation: 2/10 Sparsity: 21 Testing Separated Hodge Laplacian... Diverged!\n",
      "Simulation: 2/10 Sparsity: 25 Testing Fourier... Done! Test Error: 0.021658734136476475\n",
      "Simulation: 2/10 Sparsity: 25 Testing Edge Laplacian... Done! Test Error: 0.009440710143658364\n",
      "Simulation: 2/10 Sparsity: 25 Testing Hodge Laplacian... Diverged!\n"
     ]
    },
    {
     "name": "stderr",
     "output_type": "stream",
     "text": [
      "6it [12:10, 121.69s/it]\n"
     ]
    },
    {
     "name": "stdout",
     "output_type": "stream",
     "text": [
      "Simulation: 2/10 Sparsity: 25 Testing Separated Hodge Laplacian... Done! Test Error: 0.0008941249177226125\n"
     ]
    },
    {
     "name": "stderr",
     "output_type": "stream",
     "text": [
      "0it [00:00, ?it/s]"
     ]
    },
    {
     "name": "stdout",
     "output_type": "stream",
     "text": [
      "Simulation: 3/10 Sparsity: 5 Testing Fourier... Done! Test Error: 0.26297132765702075\n",
      "Simulation: 3/10 Sparsity: 5 Testing Edge Laplacian... Done! Test Error: 0.10780824761051161\n",
      "Simulation: 3/10 Sparsity: 5 Testing Hodge Laplacian... Done! Test Error: 0.04543108641623524\n"
     ]
    },
    {
     "name": "stderr",
     "output_type": "stream",
     "text": [
      "1it [00:44, 44.95s/it]"
     ]
    },
    {
     "name": "stdout",
     "output_type": "stream",
     "text": [
      "Simulation: 3/10 Sparsity: 5 Testing Separated Hodge Laplacian... Done! Test Error: 0.04611535152873384\n",
      "Simulation: 3/10 Sparsity: 9 Testing Fourier... Done! Test Error: 0.14484008422496883\n",
      "Simulation: 3/10 Sparsity: 9 Testing Edge Laplacian... Done! Test Error: 0.05027215665439053\n",
      "Simulation: 3/10 Sparsity: 9 Testing Hodge Laplacian... Done! Test Error: 0.01311517622330696\n"
     ]
    },
    {
     "name": "stderr",
     "output_type": "stream",
     "text": [
      "2it [01:31, 46.10s/it]"
     ]
    },
    {
     "name": "stdout",
     "output_type": "stream",
     "text": [
      "Simulation: 3/10 Sparsity: 9 Testing Separated Hodge Laplacian... Done! Test Error: 0.01394703842300068\n",
      "Simulation: 3/10 Sparsity: 13 Testing Fourier... Done! Test Error: 0.09154757535466479\n",
      "Simulation: 3/10 Sparsity: 13 Testing Edge Laplacian... Done! Test Error: 0.027462241955874375\n",
      "Simulation: 3/10 Sparsity: 13 Testing Hodge Laplacian... Done! Test Error: 0.005713677040109761\n"
     ]
    },
    {
     "name": "stderr",
     "output_type": "stream",
     "text": [
      "3it [03:11, 70.33s/it]"
     ]
    },
    {
     "name": "stdout",
     "output_type": "stream",
     "text": [
      "Simulation: 3/10 Sparsity: 13 Testing Separated Hodge Laplacian... Done! Test Error: 0.007027362989946751\n",
      "Simulation: 3/10 Sparsity: 17 Testing Fourier... Done! Test Error: 0.06125027993620278\n",
      "Simulation: 3/10 Sparsity: 17 Testing Edge Laplacian... Done! Test Error: 0.018046732516729124\n",
      "Simulation: 3/10 Sparsity: 17 Testing Hodge Laplacian... Done! Test Error: 0.00277861450372399\n"
     ]
    },
    {
     "name": "stderr",
     "output_type": "stream",
     "text": [
      "4it [05:17, 92.53s/it]"
     ]
    },
    {
     "name": "stdout",
     "output_type": "stream",
     "text": [
      "Simulation: 3/10 Sparsity: 17 Testing Separated Hodge Laplacian... Done! Test Error: 0.003251423922341521\n",
      "Simulation: 3/10 Sparsity: 21 Testing Fourier... Done! Test Error: 0.04101852376399139\n",
      "Simulation: 3/10 Sparsity: 21 Testing Edge Laplacian... Done! Test Error: 0.010704318251025325\n",
      "Simulation: 3/10 Sparsity: 21 Testing Hodge Laplacian... Done! Test Error: 0.0027017788733530363\n"
     ]
    },
    {
     "name": "stderr",
     "output_type": "stream",
     "text": [
      "5it [08:43, 133.27s/it]"
     ]
    },
    {
     "name": "stdout",
     "output_type": "stream",
     "text": [
      "Simulation: 3/10 Sparsity: 21 Testing Separated Hodge Laplacian... Done! Test Error: 0.00192335984703271\n",
      "Simulation: 3/10 Sparsity: 25 Testing Fourier... Done! Test Error: 0.027624133304307675\n",
      "Simulation: 3/10 Sparsity: 25 Testing Edge Laplacian... Done! Test Error: 0.009685554761354676\n",
      "Simulation: 3/10 Sparsity: 25 Testing Hodge Laplacian... Done! Test Error: 0.0015536589785914714\n"
     ]
    },
    {
     "name": "stderr",
     "output_type": "stream",
     "text": [
      "6it [12:52, 128.72s/it]\n"
     ]
    },
    {
     "name": "stdout",
     "output_type": "stream",
     "text": [
      "Simulation: 3/10 Sparsity: 25 Testing Separated Hodge Laplacian... Done! Test Error: 0.001346780354772658\n"
     ]
    },
    {
     "name": "stderr",
     "output_type": "stream",
     "text": [
      "0it [00:00, ?it/s]"
     ]
    },
    {
     "name": "stdout",
     "output_type": "stream",
     "text": [
      "Simulation: 4/10 Sparsity: 5 Testing Fourier... Done! Test Error: 0.2807028577562793\n",
      "Simulation: 4/10 Sparsity: 5 Testing Edge Laplacian... Done! Test Error: 0.07979705936302683\n",
      "Simulation: 4/10 Sparsity: 5 Testing Hodge Laplacian... Done! Test Error: 0.027464590397921276\n"
     ]
    },
    {
     "name": "stderr",
     "output_type": "stream",
     "text": [
      "1it [00:30, 30.43s/it]"
     ]
    },
    {
     "name": "stdout",
     "output_type": "stream",
     "text": [
      "Simulation: 4/10 Sparsity: 5 Testing Separated Hodge Laplacian... Done! Test Error: 0.03321128966171283\n",
      "Simulation: 4/10 Sparsity: 9 Testing Fourier... Done! Test Error: 0.15724858231616518\n",
      "Simulation: 4/10 Sparsity: 9 Testing Edge Laplacian... Done! Test Error: 0.03457259865209316\n",
      "Simulation: 4/10 Sparsity: 9 Testing Hodge Laplacian... Done! Test Error: 0.007598687315675472\n"
     ]
    },
    {
     "name": "stderr",
     "output_type": "stream",
     "text": [
      "2it [01:33, 49.87s/it]"
     ]
    },
    {
     "name": "stdout",
     "output_type": "stream",
     "text": [
      "Simulation: 4/10 Sparsity: 9 Testing Separated Hodge Laplacian... Done! Test Error: 0.009482157662496316\n",
      "Simulation: 4/10 Sparsity: 13 Testing Fourier... Done! Test Error: 0.09756554127824865\n",
      "Simulation: 4/10 Sparsity: 13 Testing Edge Laplacian... Done! Test Error: 0.01710050124936976\n",
      "Simulation: 4/10 Sparsity: 13 Testing Hodge Laplacian... Done! Test Error: 0.004319579051840223\n"
     ]
    },
    {
     "name": "stderr",
     "output_type": "stream",
     "text": [
      "3it [03:22, 76.88s/it]"
     ]
    },
    {
     "name": "stdout",
     "output_type": "stream",
     "text": [
      "Simulation: 4/10 Sparsity: 13 Testing Separated Hodge Laplacian... Done! Test Error: 0.004387068511343663\n",
      "Simulation: 4/10 Sparsity: 17 Testing Fourier... Done! Test Error: 0.0636944687975273\n",
      "Simulation: 4/10 Sparsity: 17 Testing Edge Laplacian... Done! Test Error: 0.011679431671689104\n",
      "Simulation: 4/10 Sparsity: 17 Testing Hodge Laplacian... Done! Test Error: 0.0017886576702492094\n"
     ]
    },
    {
     "name": "stderr",
     "output_type": "stream",
     "text": [
      "4it [06:09, 112.39s/it]"
     ]
    },
    {
     "name": "stdout",
     "output_type": "stream",
     "text": [
      "Simulation: 4/10 Sparsity: 17 Testing Separated Hodge Laplacian... Done! Test Error: 0.002514359397228633\n",
      "Simulation: 4/10 Sparsity: 21 Testing Fourier... Done! Test Error: 0.04456487892189812\n",
      "Simulation: 4/10 Sparsity: 21 Testing Edge Laplacian... Done! Test Error: 0.006684322689824479\n",
      "Simulation: 4/10 Sparsity: 21 Testing Hodge Laplacian... Done! Test Error: 0.001071168838977279\n"
     ]
    },
    {
     "name": "stderr",
     "output_type": "stream",
     "text": [
      "5it [11:32, 188.31s/it]"
     ]
    },
    {
     "name": "stdout",
     "output_type": "stream",
     "text": [
      "Simulation: 4/10 Sparsity: 21 Testing Separated Hodge Laplacian... Done! Test Error: 0.0013879250378687354\n",
      "Simulation: 4/10 Sparsity: 25 Testing Fourier... Done! Test Error: 0.0329127540441822\n",
      "Simulation: 4/10 Sparsity: 25 Testing Edge Laplacian... Done! Test Error: 0.005147399531572283\n",
      "Simulation: 4/10 Sparsity: 25 Testing Hodge Laplacian... Done! Test Error: 0.001486029195661865\n"
     ]
    },
    {
     "name": "stderr",
     "output_type": "stream",
     "text": [
      "6it [17:17, 172.92s/it]\n"
     ]
    },
    {
     "name": "stdout",
     "output_type": "stream",
     "text": [
      "Simulation: 4/10 Sparsity: 25 Testing Separated Hodge Laplacian... Done! Test Error: 0.001278945418173809\n"
     ]
    },
    {
     "name": "stderr",
     "output_type": "stream",
     "text": [
      "0it [00:00, ?it/s]"
     ]
    },
    {
     "name": "stdout",
     "output_type": "stream",
     "text": [
      "Simulation: 5/10 Sparsity: 5 Testing Fourier... Done! Test Error: 0.24614145950201438\n",
      "Simulation: 5/10 Sparsity: 5 Testing Edge Laplacian... Done! Test Error: 0.0811596412270536\n",
      "Simulation: 5/10 Sparsity: 5 Testing Hodge Laplacian... Done! Test Error: 0.03041881499816487\n"
     ]
    },
    {
     "name": "stderr",
     "output_type": "stream",
     "text": [
      "1it [00:46, 46.63s/it]"
     ]
    },
    {
     "name": "stdout",
     "output_type": "stream",
     "text": [
      "Simulation: 5/10 Sparsity: 5 Testing Separated Hodge Laplacian... Done! Test Error: 0.032331948215326006\n",
      "Simulation: 5/10 Sparsity: 9 Testing Fourier... Done! Test Error: 0.1378036683425524\n",
      "Simulation: 5/10 Sparsity: 9 Testing Edge Laplacian... Done! Test Error: 0.03810024968465109\n",
      "Simulation: 5/10 Sparsity: 9 Testing Hodge Laplacian... Done! Test Error: 0.008664543012088034\n"
     ]
    },
    {
     "name": "stderr",
     "output_type": "stream",
     "text": [
      "2it [01:48, 55.39s/it]"
     ]
    },
    {
     "name": "stdout",
     "output_type": "stream",
     "text": [
      "Simulation: 5/10 Sparsity: 9 Testing Separated Hodge Laplacian... Done! Test Error: 0.008392532833578608\n",
      "Simulation: 5/10 Sparsity: 13 Testing Fourier... Done! Test Error: 0.08672283728311843\n",
      "Simulation: 5/10 Sparsity: 13 Testing Edge Laplacian... Done! Test Error: 0.021557489638510004\n",
      "Simulation: 5/10 Sparsity: 13 Testing Hodge Laplacian... Done! Test Error: 0.0044006421209422\n"
     ]
    },
    {
     "name": "stderr",
     "output_type": "stream",
     "text": [
      "3it [04:00, 90.51s/it]"
     ]
    },
    {
     "name": "stdout",
     "output_type": "stream",
     "text": [
      "Simulation: 5/10 Sparsity: 13 Testing Separated Hodge Laplacian... Done! Test Error: 0.0037764674315914726\n",
      "Simulation: 5/10 Sparsity: 17 Testing Fourier... Done! Test Error: 0.058227964208657015\n",
      "Simulation: 5/10 Sparsity: 17 Testing Edge Laplacian... Done! Test Error: 0.014773024833211863\n",
      "Simulation: 5/10 Sparsity: 17 Testing Hodge Laplacian... Done! Test Error: 0.0028817928084590516\n"
     ]
    },
    {
     "name": "stderr",
     "output_type": "stream",
     "text": [
      "4it [06:33, 115.39s/it]"
     ]
    },
    {
     "name": "stdout",
     "output_type": "stream",
     "text": [
      "Simulation: 5/10 Sparsity: 17 Testing Separated Hodge Laplacian... Done! Test Error: 0.0031836680102440423\n",
      "Simulation: 5/10 Sparsity: 21 Testing Fourier... Done! Test Error: 0.03941862218288428\n",
      "Simulation: 5/10 Sparsity: 21 Testing Edge Laplacian... Done! Test Error: 0.009029572353360212\n",
      "Simulation: 5/10 Sparsity: 21 Testing Hodge Laplacian... Done! Test Error: 0.00146977021743162\n"
     ]
    },
    {
     "name": "stderr",
     "output_type": "stream",
     "text": [
      "5it [10:56, 168.28s/it]"
     ]
    },
    {
     "name": "stdout",
     "output_type": "stream",
     "text": [
      "Simulation: 5/10 Sparsity: 21 Testing Separated Hodge Laplacian... Done! Test Error: 0.0018787066893692862\n",
      "Simulation: 5/10 Sparsity: 25 Testing Fourier... Done! Test Error: 0.028096707330014438\n",
      "Simulation: 5/10 Sparsity: 25 Testing Edge Laplacian... Done! Test Error: 0.006285562936296812\n",
      "Simulation: 5/10 Sparsity: 25 Testing Hodge Laplacian... Done! Test Error: 0.0012727316456846406\n"
     ]
    },
    {
     "name": "stderr",
     "output_type": "stream",
     "text": [
      "6it [16:46, 167.71s/it]\n"
     ]
    },
    {
     "name": "stdout",
     "output_type": "stream",
     "text": [
      "Simulation: 5/10 Sparsity: 25 Testing Separated Hodge Laplacian... Done! Test Error: 0.0015174977107456614\n"
     ]
    },
    {
     "name": "stderr",
     "output_type": "stream",
     "text": [
      "0it [00:00, ?it/s]"
     ]
    },
    {
     "name": "stdout",
     "output_type": "stream",
     "text": [
      "Simulation: 6/10 Sparsity: 5 Testing Fourier... Done! Test Error: 0.3003727078576295\n",
      "Simulation: 6/10 Sparsity: 5 Testing Edge Laplacian... Done! Test Error: 0.0891599619389772\n",
      "Simulation: 6/10 Sparsity: 5 Testing Hodge Laplacian... Done! Test Error: 0.03227022258836838\n"
     ]
    },
    {
     "name": "stderr",
     "output_type": "stream",
     "text": [
      "1it [00:47, 47.97s/it]"
     ]
    },
    {
     "name": "stdout",
     "output_type": "stream",
     "text": [
      "Simulation: 6/10 Sparsity: 5 Testing Separated Hodge Laplacian... Done! Test Error: 0.03420724846783049\n",
      "Simulation: 6/10 Sparsity: 9 Testing Fourier... Done! Test Error: 0.1744066363343224\n",
      "Simulation: 6/10 Sparsity: 9 Testing Edge Laplacian... Done! Test Error: 0.041913940487471685\n",
      "Simulation: 6/10 Sparsity: 9 Testing Hodge Laplacian... Done! Test Error: 0.009562826219438061\n"
     ]
    },
    {
     "name": "stderr",
     "output_type": "stream",
     "text": [
      "2it [01:53, 58.18s/it]"
     ]
    },
    {
     "name": "stdout",
     "output_type": "stream",
     "text": [
      "Simulation: 6/10 Sparsity: 9 Testing Separated Hodge Laplacian... Done! Test Error: 0.011013460582586055\n",
      "Simulation: 6/10 Sparsity: 13 Testing Fourier... Done! Test Error: 0.11524957708987765\n",
      "Simulation: 6/10 Sparsity: 13 Testing Edge Laplacian... Done! Test Error: 0.024856045405151253\n",
      "Simulation: 6/10 Sparsity: 13 Testing Hodge Laplacian... Done! Test Error: 0.004023865393592283\n"
     ]
    },
    {
     "name": "stderr",
     "output_type": "stream",
     "text": [
      "3it [03:18, 70.44s/it]"
     ]
    },
    {
     "name": "stdout",
     "output_type": "stream",
     "text": [
      "Simulation: 6/10 Sparsity: 13 Testing Separated Hodge Laplacian... Done! Test Error: 0.0048746136802962\n",
      "Simulation: 6/10 Sparsity: 17 Testing Fourier... Done! Test Error: 0.07952021124116979\n",
      "Simulation: 6/10 Sparsity: 17 Testing Edge Laplacian... Done! Test Error: 0.014427128880742813\n",
      "Simulation: 6/10 Sparsity: 17 Testing Hodge Laplacian... Done! Test Error: 0.0021108436723941775\n"
     ]
    },
    {
     "name": "stderr",
     "output_type": "stream",
     "text": [
      "4it [05:45, 100.65s/it]"
     ]
    },
    {
     "name": "stdout",
     "output_type": "stream",
     "text": [
      "Simulation: 6/10 Sparsity: 17 Testing Separated Hodge Laplacian... Done! Test Error: 0.0024872101657763077\n",
      "Simulation: 6/10 Sparsity: 21 Testing Fourier... Done! Test Error: 0.05238331953064171\n",
      "Simulation: 6/10 Sparsity: 21 Testing Edge Laplacian... Done! Test Error: 0.009148398427867887\n",
      "Simulation: 6/10 Sparsity: 21 Testing Hodge Laplacian... Done! Test Error: 0.0010979888030187115\n"
     ]
    },
    {
     "name": "stderr",
     "output_type": "stream",
     "text": [
      "5it [09:05, 136.48s/it]"
     ]
    },
    {
     "name": "stdout",
     "output_type": "stream",
     "text": [
      "Simulation: 6/10 Sparsity: 21 Testing Separated Hodge Laplacian... Done! Test Error: 0.0016085455582145456\n",
      "Simulation: 6/10 Sparsity: 25 Testing Fourier... Done! Test Error: 0.03673491829745442\n",
      "Simulation: 6/10 Sparsity: 25 Testing Edge Laplacian... Done! Test Error: 0.0056738268571695635\n",
      "Simulation: 6/10 Sparsity: 25 Testing Hodge Laplacian... Done! Test Error: 0.0015018187166071055\n"
     ]
    },
    {
     "name": "stderr",
     "output_type": "stream",
     "text": [
      "6it [13:39, 136.60s/it]\n"
     ]
    },
    {
     "name": "stdout",
     "output_type": "stream",
     "text": [
      "Simulation: 6/10 Sparsity: 25 Testing Separated Hodge Laplacian... Done! Test Error: 0.0007599608187297359\n"
     ]
    },
    {
     "name": "stderr",
     "output_type": "stream",
     "text": [
      "0it [00:00, ?it/s]"
     ]
    },
    {
     "name": "stdout",
     "output_type": "stream",
     "text": [
      "Simulation: 7/10 Sparsity: 5 Testing Fourier... Done! Test Error: 0.25497266233959975\n",
      "Simulation: 7/10 Sparsity: 5 Testing Edge Laplacian... Done! Test Error: 0.09260752043545459\n",
      "Simulation: 7/10 Sparsity: 5 Testing Hodge Laplacian... Done! Test Error: 0.03587071078920491\n"
     ]
    },
    {
     "name": "stderr",
     "output_type": "stream",
     "text": [
      "1it [00:39, 39.12s/it]"
     ]
    },
    {
     "name": "stdout",
     "output_type": "stream",
     "text": [
      "Simulation: 7/10 Sparsity: 5 Testing Separated Hodge Laplacian... Done! Test Error: 0.03848684906353561\n",
      "Simulation: 7/10 Sparsity: 9 Testing Fourier... Done! Test Error: 0.14024255258481869\n",
      "Simulation: 7/10 Sparsity: 9 Testing Edge Laplacian... Done! Test Error: 0.04527574526630466\n",
      "Simulation: 7/10 Sparsity: 9 Testing Hodge Laplacian... Done! Test Error: 0.01011550355602073\n"
     ]
    },
    {
     "name": "stderr",
     "output_type": "stream",
     "text": [
      "2it [01:56, 61.66s/it]"
     ]
    },
    {
     "name": "stdout",
     "output_type": "stream",
     "text": [
      "Simulation: 7/10 Sparsity: 9 Testing Separated Hodge Laplacian... Done! Test Error: 0.010799980481374247\n",
      "Simulation: 7/10 Sparsity: 13 Testing Fourier... Done! Test Error: 0.08502174804919037\n",
      "Simulation: 7/10 Sparsity: 13 Testing Edge Laplacian... Done! Test Error: 0.024941844101098894\n",
      "Simulation: 7/10 Sparsity: 13 Testing Hodge Laplacian... Done! Test Error: 0.004221341891052141\n"
     ]
    },
    {
     "name": "stderr",
     "output_type": "stream",
     "text": [
      "3it [03:46, 83.50s/it]"
     ]
    },
    {
     "name": "stdout",
     "output_type": "stream",
     "text": [
      "Simulation: 7/10 Sparsity: 13 Testing Separated Hodge Laplacian... Done! Test Error: 0.0047207907179512955\n",
      "Simulation: 7/10 Sparsity: 17 Testing Fourier... Done! Test Error: 0.053774807155476605\n",
      "Simulation: 7/10 Sparsity: 17 Testing Edge Laplacian... Done! Test Error: 0.01517779324636643\n",
      "Simulation: 7/10 Sparsity: 17 Testing Hodge Laplacian... Done! Test Error: 0.00236592794486366\n"
     ]
    },
    {
     "name": "stderr",
     "output_type": "stream",
     "text": [
      "4it [06:49, 123.00s/it]"
     ]
    },
    {
     "name": "stdout",
     "output_type": "stream",
     "text": [
      "Simulation: 7/10 Sparsity: 17 Testing Separated Hodge Laplacian... Done! Test Error: 0.003029061444998221\n",
      "Simulation: 7/10 Sparsity: 21 Testing Fourier... Done! Test Error: 0.03556478897212074\n",
      "Simulation: 7/10 Sparsity: 21 Testing Edge Laplacian... Done! Test Error: 0.010757667499514723\n",
      "Simulation: 7/10 Sparsity: 21 Testing Hodge Laplacian... Done! Test Error: 0.0017116021772449947\n"
     ]
    },
    {
     "name": "stderr",
     "output_type": "stream",
     "text": [
      "5it [10:36, 160.62s/it]"
     ]
    },
    {
     "name": "stdout",
     "output_type": "stream",
     "text": [
      "Simulation: 7/10 Sparsity: 21 Testing Separated Hodge Laplacian... Done! Test Error: 0.0021315766482568254\n",
      "Simulation: 7/10 Sparsity: 25 Testing Fourier... Done! Test Error: 0.024377045440000744\n",
      "Simulation: 7/10 Sparsity: 25 Testing Edge Laplacian... Done! Test Error: 0.007342390797251794\n",
      "Simulation: 7/10 Sparsity: 25 Testing Hodge Laplacian... Done! Test Error: 0.0015295522641934425\n"
     ]
    },
    {
     "name": "stderr",
     "output_type": "stream",
     "text": [
      "6it [15:10, 151.82s/it]\n"
     ]
    },
    {
     "name": "stdout",
     "output_type": "stream",
     "text": [
      "Simulation: 7/10 Sparsity: 25 Testing Separated Hodge Laplacian... Done! Test Error: 0.0017894380958047296\n"
     ]
    },
    {
     "name": "stderr",
     "output_type": "stream",
     "text": [
      "0it [00:00, ?it/s]"
     ]
    },
    {
     "name": "stdout",
     "output_type": "stream",
     "text": [
      "Simulation: 8/10 Sparsity: 5 Testing Fourier... Done! Test Error: 0.25621774673231984\n",
      "Simulation: 8/10 Sparsity: 5 Testing Edge Laplacian... Done! Test Error: 0.07978544607713761\n",
      "Simulation: 8/10 Sparsity: 5 Testing Hodge Laplacian... Done! Test Error: 0.024338289621630094\n"
     ]
    },
    {
     "name": "stderr",
     "output_type": "stream",
     "text": [
      "1it [00:38, 38.82s/it]"
     ]
    },
    {
     "name": "stdout",
     "output_type": "stream",
     "text": [
      "Simulation: 8/10 Sparsity: 5 Testing Separated Hodge Laplacian... Done! Test Error: 0.02803662785883118\n",
      "Simulation: 8/10 Sparsity: 9 Testing Fourier... Done! Test Error: 0.1376103902341493\n",
      "Simulation: 8/10 Sparsity: 9 Testing Edge Laplacian... Done! Test Error: 0.03842180435622136\n",
      "Simulation: 8/10 Sparsity: 9 Testing Hodge Laplacian... Done! Test Error: 0.007433985755715755\n"
     ]
    },
    {
     "name": "stderr",
     "output_type": "stream",
     "text": [
      "2it [01:33, 47.88s/it]"
     ]
    },
    {
     "name": "stdout",
     "output_type": "stream",
     "text": [
      "Simulation: 8/10 Sparsity: 9 Testing Separated Hodge Laplacian... Done! Test Error: 0.007299205423246944\n",
      "Simulation: 8/10 Sparsity: 13 Testing Fourier... Done! Test Error: 0.08304719192757626\n",
      "Simulation: 8/10 Sparsity: 13 Testing Edge Laplacian... Done! Test Error: 0.019684844198100064\n",
      "Simulation: 8/10 Sparsity: 13 Testing Hodge Laplacian... Done! Test Error: 0.0030798127934703653\n"
     ]
    },
    {
     "name": "stderr",
     "output_type": "stream",
     "text": [
      "3it [03:31, 79.89s/it]"
     ]
    },
    {
     "name": "stdout",
     "output_type": "stream",
     "text": [
      "Simulation: 8/10 Sparsity: 13 Testing Separated Hodge Laplacian... Done! Test Error: 0.003401492858623588\n",
      "Simulation: 8/10 Sparsity: 17 Testing Fourier... Done! Test Error: 0.053311851736442734\n",
      "Simulation: 8/10 Sparsity: 17 Testing Edge Laplacian... Done! Test Error: 0.01120587167203017\n",
      "Simulation: 8/10 Sparsity: 17 Testing Hodge Laplacian... Done! Test Error: 0.0023559982455254556\n"
     ]
    },
    {
     "name": "stderr",
     "output_type": "stream",
     "text": [
      "4it [06:18, 114.38s/it]"
     ]
    },
    {
     "name": "stdout",
     "output_type": "stream",
     "text": [
      "Simulation: 8/10 Sparsity: 17 Testing Separated Hodge Laplacian... Done! Test Error: 0.002191267959235819\n",
      "Simulation: 8/10 Sparsity: 21 Testing Fourier... Done! Test Error: 0.03413416040048174\n",
      "Simulation: 8/10 Sparsity: 21 Testing Edge Laplacian... Done! Test Error: 0.010369221464872326\n",
      "Simulation: 8/10 Sparsity: 21 Testing Hodge Laplacian... Done! Test Error: 0.0012456308235206462\n"
     ]
    },
    {
     "name": "stderr",
     "output_type": "stream",
     "text": [
      "5it [09:40, 146.06s/it]"
     ]
    },
    {
     "name": "stdout",
     "output_type": "stream",
     "text": [
      "Simulation: 8/10 Sparsity: 21 Testing Separated Hodge Laplacian... Done! Test Error: 0.002134685469039809\n",
      "Simulation: 8/10 Sparsity: 25 Testing Fourier... Done! Test Error: 0.02309347312173043\n",
      "Simulation: 8/10 Sparsity: 25 Testing Edge Laplacian... Done! Test Error: 0.006243048967290006\n",
      "Simulation: 8/10 Sparsity: 25 Testing Hodge Laplacian... Done! Test Error: 0.0010273581073867505\n"
     ]
    },
    {
     "name": "stderr",
     "output_type": "stream",
     "text": [
      "6it [14:26, 144.37s/it]\n"
     ]
    },
    {
     "name": "stdout",
     "output_type": "stream",
     "text": [
      "Simulation: 8/10 Sparsity: 25 Testing Separated Hodge Laplacian... Done! Test Error: 0.002454568522857931\n"
     ]
    },
    {
     "name": "stderr",
     "output_type": "stream",
     "text": [
      "0it [00:00, ?it/s]"
     ]
    },
    {
     "name": "stdout",
     "output_type": "stream",
     "text": [
      "Simulation: 9/10 Sparsity: 5 Testing Fourier... Done! Test Error: 0.25053705341620247\n",
      "Simulation: 9/10 Sparsity: 5 Testing Edge Laplacian... Done! Test Error: 0.08326385276754798\n",
      "Simulation: 9/10 Sparsity: 5 Testing Hodge Laplacian... Done! Test Error: 0.02796289395641502\n"
     ]
    },
    {
     "name": "stderr",
     "output_type": "stream",
     "text": [
      "1it [00:31, 31.08s/it]"
     ]
    },
    {
     "name": "stdout",
     "output_type": "stream",
     "text": [
      "Simulation: 9/10 Sparsity: 5 Testing Separated Hodge Laplacian... Done! Test Error: 0.02825925067401566\n",
      "Simulation: 9/10 Sparsity: 9 Testing Fourier... Done! Test Error: 0.1341367709226329\n",
      "Simulation: 9/10 Sparsity: 9 Testing Edge Laplacian... Done! Test Error: 0.0396986581211083\n",
      "Simulation: 9/10 Sparsity: 9 Testing Hodge Laplacian... Done! Test Error: 0.00806546709483176\n"
     ]
    },
    {
     "name": "stderr",
     "output_type": "stream",
     "text": [
      "2it [01:19, 41.36s/it]"
     ]
    },
    {
     "name": "stdout",
     "output_type": "stream",
     "text": [
      "Simulation: 9/10 Sparsity: 9 Testing Separated Hodge Laplacian... Done! Test Error: 0.009497085532281305\n",
      "Simulation: 9/10 Sparsity: 13 Testing Fourier... Done! Test Error: 0.08204873375589883\n",
      "Simulation: 9/10 Sparsity: 13 Testing Edge Laplacian... Done! Test Error: 0.022495703339524085\n",
      "Simulation: 9/10 Sparsity: 13 Testing Hodge Laplacian... Done! Test Error: 0.0040616505269912605\n"
     ]
    },
    {
     "name": "stderr",
     "output_type": "stream",
     "text": [
      "3it [02:44, 61.15s/it]"
     ]
    },
    {
     "name": "stdout",
     "output_type": "stream",
     "text": [
      "Simulation: 9/10 Sparsity: 13 Testing Separated Hodge Laplacian... Done! Test Error: 0.003912900076783472\n",
      "Simulation: 9/10 Sparsity: 17 Testing Fourier... Done! Test Error: 0.05150862244393796\n",
      "Simulation: 9/10 Sparsity: 17 Testing Edge Laplacian... Done! Test Error: 0.012029382285368961\n",
      "Simulation: 9/10 Sparsity: 17 Testing Hodge Laplacian... Done! Test Error: 0.0025025638180093436\n"
     ]
    },
    {
     "name": "stderr",
     "output_type": "stream",
     "text": [
      "4it [05:51, 110.83s/it]"
     ]
    },
    {
     "name": "stdout",
     "output_type": "stream",
     "text": [
      "Simulation: 9/10 Sparsity: 17 Testing Separated Hodge Laplacian... Done! Test Error: 0.0028306741319553074\n",
      "Simulation: 9/10 Sparsity: 21 Testing Fourier... Done! Test Error: 0.033346431783224155\n",
      "Simulation: 9/10 Sparsity: 21 Testing Edge Laplacian... Done! Test Error: 0.007230029386155307\n",
      "Simulation: 9/10 Sparsity: 21 Testing Hodge Laplacian... Done! Test Error: 0.002069089971831252\n"
     ]
    },
    {
     "name": "stderr",
     "output_type": "stream",
     "text": [
      "5it [09:38, 152.65s/it]"
     ]
    },
    {
     "name": "stdout",
     "output_type": "stream",
     "text": [
      "Simulation: 9/10 Sparsity: 21 Testing Separated Hodge Laplacian... Done! Test Error: 0.0026638901607334005\n",
      "Simulation: 9/10 Sparsity: 25 Testing Fourier... Done! Test Error: 0.020599485658064028\n",
      "Simulation: 9/10 Sparsity: 25 Testing Edge Laplacian... Done! Test Error: 0.0063486782350126395\n",
      "Simulation: 9/10 Sparsity: 25 Testing Hodge Laplacian... Done! Test Error: 0.0009831325271159336\n"
     ]
    },
    {
     "name": "stderr",
     "output_type": "stream",
     "text": [
      "6it [14:50, 148.42s/it]\n"
     ]
    },
    {
     "name": "stdout",
     "output_type": "stream",
     "text": [
      "Simulation: 9/10 Sparsity: 25 Testing Separated Hodge Laplacian... Done! Test Error: 0.0015919780988492922\n"
     ]
    },
    {
     "name": "stderr",
     "output_type": "stream",
     "text": [
      "0it [00:00, ?it/s]"
     ]
    },
    {
     "name": "stdout",
     "output_type": "stream",
     "text": [
      "Simulation: 10/10 Sparsity: 5 Testing Fourier... Done! Test Error: 0.28417036831952885\n",
      "Simulation: 10/10 Sparsity: 5 Testing Edge Laplacian... Done! Test Error: 0.09513365869107165\n",
      "Simulation: 10/10 Sparsity: 5 Testing Hodge Laplacian... Done! Test Error: 0.04314452983016899\n"
     ]
    },
    {
     "name": "stderr",
     "output_type": "stream",
     "text": [
      "1it [00:30, 30.21s/it]"
     ]
    },
    {
     "name": "stdout",
     "output_type": "stream",
     "text": [
      "Simulation: 10/10 Sparsity: 5 Testing Separated Hodge Laplacian... Done! Test Error: 0.043771240775981025\n",
      "Simulation: 10/10 Sparsity: 9 Testing Fourier... Done! Test Error: 0.157919741014148\n",
      "Simulation: 10/10 Sparsity: 9 Testing Edge Laplacian... Done! Test Error: 0.04589851125742728\n",
      "Simulation: 10/10 Sparsity: 9 Testing Hodge Laplacian... Done! Test Error: 0.011407224017250401\n"
     ]
    },
    {
     "name": "stderr",
     "output_type": "stream",
     "text": [
      "2it [01:38, 52.33s/it]"
     ]
    },
    {
     "name": "stdout",
     "output_type": "stream",
     "text": [
      "Simulation: 10/10 Sparsity: 9 Testing Separated Hodge Laplacian... Done! Test Error: 0.010703926812139733\n",
      "Simulation: 10/10 Sparsity: 13 Testing Fourier... Done! Test Error: 0.09904659831729465\n",
      "Simulation: 10/10 Sparsity: 13 Testing Edge Laplacian... Done! Test Error: 0.02419057687342221\n",
      "Simulation: 10/10 Sparsity: 13 Testing Hodge Laplacian... Done! Test Error: 0.0061142689877638386\n"
     ]
    },
    {
     "name": "stderr",
     "output_type": "stream",
     "text": [
      "3it [03:47, 87.45s/it]"
     ]
    },
    {
     "name": "stdout",
     "output_type": "stream",
     "text": [
      "Simulation: 10/10 Sparsity: 13 Testing Separated Hodge Laplacian... Done! Test Error: 0.00466702602982557\n",
      "Simulation: 10/10 Sparsity: 17 Testing Fourier... Done! Test Error: 0.06554207693539786\n",
      "Simulation: 10/10 Sparsity: 17 Testing Edge Laplacian... Done! Test Error: 0.015766413197327633\n",
      "Simulation: 10/10 Sparsity: 17 Testing Hodge Laplacian... Done! Test Error: 0.004441546704883062\n"
     ]
    },
    {
     "name": "stderr",
     "output_type": "stream",
     "text": [
      "4it [06:35, 119.43s/it]"
     ]
    },
    {
     "name": "stdout",
     "output_type": "stream",
     "text": [
      "Simulation: 10/10 Sparsity: 17 Testing Separated Hodge Laplacian... Done! Test Error: 0.0033302182709456078\n",
      "Simulation: 10/10 Sparsity: 21 Testing Fourier... Done! Test Error: 0.04501709664736822\n",
      "Simulation: 10/10 Sparsity: 21 Testing Edge Laplacian... Done! Test Error: 0.012035491361497544\n",
      "Simulation: 10/10 Sparsity: 21 Testing Hodge Laplacian... Done! Test Error: 0.00353945262451513\n"
     ]
    },
    {
     "name": "stderr",
     "output_type": "stream",
     "text": [
      "5it [09:28, 138.81s/it]"
     ]
    },
    {
     "name": "stdout",
     "output_type": "stream",
     "text": [
      "Simulation: 10/10 Sparsity: 21 Testing Separated Hodge Laplacian... Done! Test Error: 0.0039883881065122225\n",
      "Simulation: 10/10 Sparsity: 25 Testing Fourier... Done! Test Error: 0.030759615059250747\n",
      "Simulation: 10/10 Sparsity: 25 Testing Edge Laplacian... Done! Test Error: 0.007574156667964397\n",
      "Simulation: 10/10 Sparsity: 25 Testing Hodge Laplacian... Done! Test Error: 0.002201697537963263\n"
     ]
    },
    {
     "name": "stderr",
     "output_type": "stream",
     "text": [
      "6it [14:38, 146.42s/it]"
     ]
    },
    {
     "name": "stdout",
     "output_type": "stream",
     "text": [
      "Simulation: 10/10 Sparsity: 25 Testing Separated Hodge Laplacian... Done! Test Error: 0.0029396472763116425\n"
     ]
    },
    {
     "name": "stderr",
     "output_type": "stream",
     "text": [
      "\n"
     ]
    }
   ],
   "source": [
    "import warnings\n",
    "\n",
    "warnings.filterwarnings('ignore')\n",
    "\n",
    "min_error_fou_train = np.zeros((n_sim, len(K0_coll)))\n",
    "min_error_fou_test = np.zeros((n_sim, len(K0_coll)))\n",
    "min_error_sep_train = np.zeros((n_sim, len(K0_coll)))\n",
    "min_error_sep_test = np.zeros((n_sim, len(K0_coll)))\n",
    "min_error_edge_train = np.zeros((n_sim, len(K0_coll)))\n",
    "min_error_edge_test = np.zeros((n_sim, len(K0_coll)))\n",
    "min_error_joint_train = np.zeros((n_sim, len(K0_coll)))\n",
    "min_error_joint_test = np.zeros((n_sim, len(K0_coll)))\n",
    "\n",
    "dict_errors = {\n",
    "    \"fou\": (min_error_fou_train,min_error_fou_test),\n",
    "    \"edge\": (min_error_edge_train,min_error_edge_test),\n",
    "    \"joint\": (min_error_joint_train,min_error_joint_test),\n",
    "    \"sep\": (min_error_sep_train,min_error_sep_test)\n",
    "    }\n",
    "\n",
    "\n",
    "dict_types = {\n",
    "    \"fou\": (\"Fourier\",\"fourier\"),\n",
    "    \"edge\": (\"Edge Laplacian\", \"edge_laplacian\"),\n",
    "    \"joint\": (\"Hodge Laplacian\",\"joint\"),\n",
    "    \"sep\": (\"Separated Hodge Laplacian\",\"separated\")\n",
    "    }\n",
    "\n",
    "for sim in range(n_sim):\n",
    "    c = c_true[sim]  \n",
    "    epsilon = epsilon_true[sim] \n",
    "    for k0_index, k0 in tqdm(enumerate(K0_coll)):\n",
    "        discard = 1\n",
    "        while discard == 1:\n",
    "            \n",
    "            try:\n",
    "                D0, X0, discard = initialize_dic(Lu, Ld, s, k, Y_train[:, :, sim], k0, dictionary_type, c, epsilon, \"only_X\")\n",
    "            except:\n",
    "                print(\"Initialization Failed!\")\n",
    "\n",
    "        for d in dict_types.items():\n",
    "            try:\n",
    "                dict_errors[d[0]][0][sim,k0_index], dict_errors[d[0]][1][sim,k0_index], _, _, _ = topological_dictionary_learn(Y_train[:,:,sim], Y_test[:,:,sim],\n",
    "                                                                                                                            k, n, s, D0, X0, Lu, Ld, d[1][1],\n",
    "                                                                                                                            c, epsilon, k0, lambda_, max_iter,\n",
    "                                                                                                                            patience, tol)\n",
    "                if verbose:\n",
    "                    print(f\"Simulation: {sim+1}/{n_sim} Sparsity: {k0} Testing {d[1][0]}... Done! Test Error: {dict_errors[d[0]][1][sim,k0_index]}\")\n",
    "            except:\n",
    "                print(f'Simulation: {sim+1}/{n_sim} Sparsity: {k0} Testing {d[1][0]}... Diverged!')\n",
    "                try:\n",
    "                    dict_errors[d[0]][0][sim,k0_index], dict_errors[d[0]][1][sim,k0_index] = (dict_errors[d[0]][0][sim-1,k0_index]\n",
    "                                                                                          , dict_errors[d[0]][1][sim-1,k0_index])\n",
    "                except:\n",
    "                    dict_errors[d[0]][0][sim,k0_index], dict_errors[d[0]][1][sim,k0_index] = (dict_errors[d[0]][0][sim+1,k0_index]\n",
    "                                                                                          , dict_errors[d[0]][1][sim+1,k0_index])\n"
   ]
  },
  {
   "cell_type": "markdown",
   "metadata": {},
   "source": [
    "# Plot & visualize"
   ]
  },
  {
   "cell_type": "code",
   "execution_count": 29,
   "metadata": {},
   "outputs": [
    {
     "data": {
      "image/png": "[encoded data removed]",
      "text/plain": [
       "<Figure size 1000x600 with 1 Axes>"
      ]
     },
     "metadata": {},
     "output_type": "display_data"
    }
   ],
   "source": [
    "import matplotlib.pyplot as plt\n",
    "import seaborn as sns\n",
    "\n",
    "TITLE = [dict_types[typ] for typ in dict_types.keys() if typ in dictionary_type][0]\n",
    "\n",
    "res_df = pd.DataFrame()\n",
    "dict_types = {\"fou\": \"Fourier\", \"edge\": \"Edge Laplacian\", \"joint\": \"Hodge Laplacian\", \"sep\": \"Separated Hodge Laplacian\"}\n",
    "\n",
    "for d in dict_types.items():\n",
    "    for sim in range(n_sim):\n",
    "        tmp_df = pd.DataFrame()   \n",
    "        tmp_df[\"Error\"] = eval(f'min_error_{d[0]}_test[sim,:]')\n",
    "        tmp_df[\"Sparsity\"] = K0_coll\n",
    "        tmp_df[\"Method\"] = d[1]\n",
    "        res_df = pd.concat([res_df, tmp_df])\n",
    "\n",
    "plt.figure(figsize=(10, 6))\n",
    "sns.set_style('whitegrid')\n",
    "my_plt = sns.lineplot(data=res_df, x='Sparsity', y='Error', hue='Method',\n",
    "                       palette=sns.color_palette(),\n",
    "                       markers=['>', '^', 'v', 'd'], dashes=False, style='Method')\n",
    "my_plt.set(yscale='log')\n",
    "my_plt.set_title(f'True dictionary: {TITLE}')\n",
    "my_plt.set_ylabel('Error (log scale)')\n",
    "plt.show()"
   ]
  },
  {
   "cell_type": "markdown",
   "metadata": {},
   "source": [
    "# Save variables, plot and workspace"
   ]
  },
  {
   "cell_type": "code",
   "execution_count": 30,
   "metadata": {},
   "outputs": [],
   "source": [
    "import pickle\n",
    "import os\n",
    "import dill\n",
    "\n",
    "save_var = {\"min_error_edge_test\":min_error_edge_test,\n",
    "            \"min_error_edge_train\":min_error_edge_train,\n",
    "            \"min_error_fou_test\":min_error_fou_test,\n",
    "            \"min_error_fou_train\":min_error_fou_train,\n",
    "            \"min_error_joint_test\":min_error_joint_test,\n",
    "            \"min_error_joint_train\":min_error_joint_train,\n",
    "            \"min_error_sep_test\":min_error_sep_test,\n",
    "            \"min_error_sep_train\":min_error_sep_train}\n",
    "\n",
    "PATH = os.getcwd()\n",
    "DIR_PATH = f'{PATH}\\\\results\\\\{dictionary_type}'\n",
    "FILENAME_ERR = f'{DIR_PATH}\\\\error.pkl'\n",
    "FILENAME_ENV = f'{DIR_PATH}\\\\ipynb_env.db'\n",
    "FILENAME_PLT = f'{DIR_PATH}\\\\plot.png'\n",
    "\n",
    "if not os.path.exists(DIR_PATH):\n",
    "    os.makedirs(DIR_PATH)\n",
    "    \n",
    "with open(FILENAME_ERR, 'wb') as f: \n",
    "    pickle.dump(save_var, f)\n",
    "f.close()\n",
    "\n",
    "dill.dump_session(FILENAME_ENV)\n",
    "\n",
    "fig = my_plt.get_figure()\n",
    "fig.savefig(FILENAME_PLT)"
   ]
  },
  {
   "cell_type": "markdown",
   "metadata": {},
   "source": [
    "# Vettorizzazione for esterni"
   ]
  },
  {
   "cell_type": "code",
   "execution_count": null,
   "metadata": {},
   "outputs": [],
   "source": [
    "# import scipy.io\n",
    "# mat = scipy.io.loadmat('datiSC.mat')\n",
    "# B1 = mat[\"B1\"]\n",
    "# B2 = mat[\"B2\"]\n",
    "\n",
    "# # Subsampling if needed to decrease complexity\n",
    "# sub_size = 100\n",
    "# B1 = B1[:, :sub_size]\n",
    "# B2 = B2[:sub_size, :]\n",
    "# B2 = B2[:,np.sum(np.abs(B2), 0) == 3]\n",
    "\n",
    "# # Laplacians\n",
    "# Ld = np.matmul(np.transpose(B1), B1, dtype=float)\n",
    "# Lu = np.matmul(B2, np.transpose(B2), dtype=float)\n",
    "# L = Lu+Ld\n",
    "# n =  L.shape[0]\n",
    "# nu = B2.shape[1]\n",
    "# nd = B1.shape[1]\n",
    "# _ ,U = la.eig(L)\n",
    "\n",
    "# # Problem and Dictionary Dimensionalities\n",
    "# dictionary_type_true = \"separated\"\n",
    "# m_train = 150 # Number of Train Signals\n",
    "# m_test = 80 # Number of Test Signal\n",
    "# s_true = 3 # Number of Kernels (Sub-dictionaries)\n",
    "# k_true = 2 # Polynomial order\n",
    "# sparsity = .1 # Sparsity percentage\n",
    "# K0_max = 20 #floor(n*sparsity) # Sparsity\n",
    "# sparsity_mode = \"max\"\n",
    "\n",
    "# # Data-Independent Problem Hyperparameters\n",
    "# dictionary_type = dictionary_type_true\n",
    "# s = s_true\n",
    "# k = k_true\n",
    "# K0_coll = np.arange(5, 26, 4) # K0_coll = 5:4:25 %4:4:40 %5:3:20\n",
    "# lambda_ = 1e-6 # l2 multiplier\n",
    "# max_iter = 100 # Maximum number of iterations\n",
    "# patience = 5 # Patience\n",
    "# tol = 1e-7 # Tolerance for Patience\n",
    "# n_sim = 10\n",
    "# verbose = 0\n",
    "# # for sim in range(5,n_sim):\n",
    "# tmp_res = pd.DataFrame()\n",
    "# def vectorized_generation(Lu,Ld,m_train,m_test,s, K, K0, dictionary_type, sparsity_mode):\n",
    "#     D_try, h, Y_train_try, Y_test_try, epsilon_try, c_try, X_train_try, X_test_try = create_ground_truth(Lu,\n",
    "#                                                                                 Ld,\n",
    "#                                                                                 m_train,\n",
    "#                                                                                 m_test, \n",
    "#                                                                                 s=s, \n",
    "#                                                                                 K=K, \n",
    "#                                                                                 K0=K0, \n",
    "#                                                                                 dictionary_type=dictionary_type, \n",
    "#                                                                                 sparsity_mode=sparsity_mode)\n",
    "#     res_dict ={\"D_try\":D_try,\n",
    "#             \"h\":h,\n",
    "#             \"Y_train_try\":Y_train_try,\n",
    "#             \"Y_test_try\":Y_test_try,\n",
    "#             \"epsilon_try\":epsilon_try,\n",
    "#             \"c_try\":c_try,\n",
    "#             \"X_train_try\":X_train_try,\n",
    "#             \"X_test_try\":X_test_try}\n",
    "#     return res_dict\n",
    "\n",
    "# def vectorized_verify(row, K0_max, acc_tresh):\n",
    "#     D_try=row[\"D_try\"]\n",
    "#     Y_train_try=row[\"Y_train_try\"]\n",
    "#     X_train_try=row[\"X_train_try\"]\n",
    "#     max_possible_sparsity, acc = verify_dic(D_try, Y_train_try, X_train_try, K0_max, acc_tresh)\n",
    "#     row[\"acc\"] = acc\n",
    "#     row[\"max_s\"] = max_possible_sparsity\n",
    "#     return row\n",
    "\n",
    "# tmp_res[\"search\"] = np.arange(3000)\n",
    "# tmp_res[\"res_dict\"] = tmp_res.search.apply(lambda row: vectorized_generation(Lu,Ld,m_train,m_test,s=s, K=k, K0=K0_max, dictionary_type=dictionary_type, sparsity_mode=sparsity_mode))\n",
    "# tmp_res[\"res_dict\"] = tmp_res.res_dict.apply(lambda row:  vectorized_verify(row, K0_max, 0.7))"
   ]
  }
 ],
 "metadata": {
  "kernelspec": {
   "display_name": "base",
   "language": "python",
   "name": "python3"
  },
  "language_info": {
   "codemirror_mode": {
    "name": "ipython",
    "version": 3
   },
   "file_extension": ".py",
   "mimetype": "text/x-python",
   "name": "python",
   "nbconvert_exporter": "python",
   "pygments_lexer": "ipython3",
   "version": "3.9.17"
  }
 },
 "nbformat": 4,
 "nbformat_minor": 2
}
