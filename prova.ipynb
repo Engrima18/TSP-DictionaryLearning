{
 "cells": [
  {
   "cell_type": "code",
   "execution_count": null,
   "metadata": {},
   "outputs": [],
   "source": [
    "import networkx as nx\n",
    "import numpy as np \n",
    "import random\n",
    "import math \n",
    "from numpy.linalg import matrix_rank\n",
    "from scipy import linalg\n",
    "\n",
    "def get_adj(g):\n",
    "  adj = np.zeros((len(g.nodes()),len(g.nodes())))\n",
    "  #print(g.edges())\n",
    "  for e in np.array(g.edges()):\n",
    "    adj[e[0],e[1]] = 1\n",
    "    adj[e[1],e[0]] = 1\n",
    "  return adj\n",
    "\n",
    "\n",
    "def getCycles(A,max_len=math.inf):\n",
    "  ''''A = adj matrix'''\n",
    "  ''''p_max_len = lenght if max cycles wanted, inf default for all cycles'''\n",
    "  G = nx.DiGraph(A)\n",
    "  cycles = nx.simple_cycles(G)\n",
    "  final = []\n",
    "  for elem in cycles:\n",
    "    if sorted(elem) not in [sorted(x) for x in final]:\n",
    "      final.append(elem)\n",
    "  final = [c for c in final if len(c)>=3 and len(c)<= max_len]\n",
    "  final.sort(key=len)\n",
    "  return final\n",
    "\n",
    "\n",
    "def create_B1(A):\n",
    "  G = nx.Graph(A) #nx.from_numpy_matrix(A) #\n",
    "  E_list = list(G.edges) \n",
    "  B1 = np.zeros([len(G.nodes),len(E_list)])\n",
    "  for n in G.nodes: \n",
    "    for e in E_list:\n",
    "      if n==e[0]:\n",
    "        B1[n,E_list.index(e)] = 1\n",
    "      elif n==e[1]:\n",
    "        B1[n,E_list.index(e)] = -1 \n",
    "      else:\n",
    "        B1[n,E_list.index(e)] = 0\n",
    "  return B1\n",
    "\n",
    "\n",
    "def create_B2(A,p_max_len=math.inf):\n",
    "  ''''A = adj matrix'''\n",
    "  ''''p_max_len = lenght if max cycles wanted, inf default for all cycles'''\n",
    "  G = nx.Graph(A) # nx.from_numpy_matrix(A) #\n",
    "  E_list = list(G.edges)\n",
    "  All_P = getCycles(A,p_max_len)\n",
    "  cycles = [x + [x[0]] for x in All_P]\n",
    "  P_list = []\n",
    "  for c in cycles:\n",
    "    p = []\n",
    "    for i in range(len(c)-1):\n",
    "      p.append([c[i],c[i+1]])\n",
    "    P_list.append(p)\n",
    "  B2 = np.zeros([len(E_list),len(P_list)])\n",
    "  for e in E_list:\n",
    "    for p in P_list:\n",
    "      if list(e) in p:\n",
    "        B2[E_list.index(e),P_list.index(p)] = 1\n",
    "      elif [e[1],e[0]] in p:\n",
    "        B2[E_list.index(e),P_list.index(p)] = -1\n",
    "      else:\n",
    "        B2[E_list.index(e),P_list.index(p)] = 0\n",
    "  qr = linalg.qr(B2,pivoting=True)\n",
    "  B2 = B2[: ,sorted(qr[2])[:matrix_rank(B2)]]\n",
    "  return B2"
   ]
  },
  {
   "cell_type": "markdown",
   "metadata": {},
   "source": [
    "# create_ground_truth"
   ]
  },
  {
   "cell_type": "code",
   "execution_count": 1,
   "metadata": {},
   "outputs": [],
   "source": [
    "import numpy as np\n",
    "import numpy.linalg as la\n",
    "import pandas as pd\n",
    "from scipy.sparse.linalg import eigs\n",
    "\n",
    "\n",
    "def compute_Lk_and_lambdak(L, K, separated=False):\n",
    "    lambdas, _ = eigs(L)\n",
    "    lambdas[np.abs(lambdas) < np.finfo(float).eps] = 0\n",
    "    lambda_max = np.max(lambdas).real\n",
    "    lambda_min = np.min(lambdas).real\n",
    "    Lk = np.array([la.matrix_power(L, i) for i in range(1, K + 1)])\n",
    "    # for the \"separated\" implementation we need a different dimensionality\n",
    "    if separated:\n",
    "        lambda_max_k = lambda_max ** np.arange(1, K + 1)\n",
    "        lambda_min_k = lambda_min ** np.arange(1, K + 1)\n",
    "    else:\n",
    "        lambda_max_k = lambda_max ** np.array(list(np.arange(1, K + 1))+[0])\n",
    "        lambda_min_k = lambda_min ** np.array(list(np.arange(1, K + 1))+[0])\n",
    "    return Lk, lambda_max_k, lambda_min_k\n",
    "\n",
    "def generate_coeffs(*arrays, s, mult=10):\n",
    "    \"\"\" \n",
    "    Select ad hoc parameters for synthetic data generation, randomly over\n",
    "    an interval dependent on the max eigenvalues of the Laplacian(s)\n",
    "    \"\"\"\n",
    "\n",
    "    # if passing four arguments (two for upper and two for lower laplacian eigevals)\n",
    "    # it means that you are using dictionary_type=\"separated\"\n",
    "    if len(arrays)==2:\n",
    "        lambda_max_k, lambda_min_k = arrays\n",
    "        K = lambda_max_k.shape[0]\n",
    "        h = mult / np.max(lambda_max_k) * np.random.rand(s, K)\n",
    "        # For later sanity check in optimization phase \n",
    "        tmp_max_vec = h @ lambda_max_k # parallelize the code with simple matrix multiplications\n",
    "        tmp_min_vec = h @ lambda_min_k\n",
    "        c = np.max(tmp_max_vec)\n",
    "        tmp_sum_max = np.sum(tmp_max_vec)\n",
    "        tmp_sum_min = np.sum(tmp_min_vec)\n",
    "\n",
    "        Delta_min = c - tmp_sum_min\n",
    "        Delta_max = tmp_sum_max - c\n",
    "        epsilon = (Delta_max - Delta_min) * np.random.rand() + Delta_min\n",
    "\n",
    "    elif len(arrays)==4:\n",
    "        lambda_max_u_k, lambda_min_u_k, lambda_max_d_k, lambda_min_d_k = arrays\n",
    "        K = lambda_max_u_k.shape[0]\n",
    "        hI = mult / np.max(lambda_max_d_k) * np.random.rand(s, K)\n",
    "        hS = mult / np.max(lambda_max_u_k) * np.random.rand(s, K)\n",
    "        hH = mult / np.min([np.max(lambda_max_u_k), np.max(lambda_max_d_k)]) * np.random.rand(s, 1)\n",
    "        h = [hS, hI, hH]\n",
    "        # For later sanity check in optimization phase\n",
    "        tmp_max_vec_S = (hS @ lambda_max_u_k).reshape(s,1)\n",
    "        tmp_min_vec_S = (hS @ lambda_min_u_k).reshape(s,1)\n",
    "        tmp_max_vec_I = (hI @ lambda_max_d_k).reshape(s,1)\n",
    "        tmp_min_vec_I = (hI @ lambda_min_d_k).reshape(s,1)\n",
    "        c = np.max(tmp_max_vec_I + tmp_max_vec_S + hH)\n",
    "        tmp_sum_min = np.sum(tmp_min_vec_I + tmp_min_vec_S + hH)\n",
    "        tmp_sum_max = np.sum(tmp_max_vec_I + tmp_max_vec_S + hH)\n",
    "        Delta_min = c - tmp_sum_min\n",
    "        Delta_max = tmp_sum_max - c\n",
    "        epsilon = np.max([Delta_min, Delta_max])\n",
    "    else:\n",
    "        raise ValueError(\"Function accepts either 2 or 4 arrays! In case of 4 arrays are provided,\\\n",
    "                        the first 2 refer to upper laplacian and the other two to lower laplacian.\")\n",
    "    return h, c, epsilon, tmp_sum_min, tmp_sum_max\n",
    "\n",
    "def generate_dictionary(h, s, *matrices):\n",
    "    D = []\n",
    "    # Always check if upper and lower Laplacians are separately provided\n",
    "    if len(matrices)==1:\n",
    "        Lk = matrices[0]\n",
    "        n = Lk.shape[-1]\n",
    "        k = Lk.shape[0]\n",
    "        # iterate over each kernel dimension\n",
    "        for i in range(0,s):\n",
    "            # Replicate formula (8) of the paper for the i-th sub-dictionary\n",
    "            h_tmp = h[i,:-1].reshape(k,1,1)\n",
    "            tmp = np.sum(h_tmp*Lk, axis=0) + h[i,-1]*np.eye(n,n)\n",
    "            D.append(tmp)\n",
    "    elif len(matrices)==2:\n",
    "        Luk , Ldk = matrices\n",
    "        n = Luk.shape[-1]\n",
    "        k = Luk.shape[0]\n",
    "        # iterate over each kernel dimension\n",
    "        for i in range(0,s):\n",
    "            # Replicate formula (8) of the paper for the i-th sub-dictionary\n",
    "            hu = h[0][i].reshape(k,1,1)\n",
    "            hd = h[1][i].reshape(k,1,1)\n",
    "            hid = h[2][i]\n",
    "            tmp = np.sum(hu*Luk + hd*Ldk, axis=0) + hid*np.eye(n,n)\n",
    "            D.append(tmp)\n",
    "    else:\n",
    "        raise ValueError(\"Function accepts one vector and either 1 or 2 matrices.\")\n",
    "    D = np.hstack(tuple(D))\n",
    "    return D\n",
    "\n",
    "def create_ground_truth(Lu, Ld, m_train, m_test, s, K, K0, dictionary_type, sparsity_mode):\n",
    "\n",
    "    # Joint Dictionary Model\n",
    "    if dictionary_type == \"joint\":\n",
    "        Lk, lambda_max_k, lambda_min_k = compute_Lk_and_lambdak(Lu + Ld, K)\n",
    "        h, c, epsilon, _, _ = generate_coeffs(lambda_max_k, lambda_min_k, s=s)\n",
    "        D = generate_dictionary(h, s, Lk)\n",
    "\n",
    "    # Edge Laplacian Dictionary Model\n",
    "    elif dictionary_type == \"edge_laplacian\":\n",
    "        Lk, lambda_max_k, lambda_min_k = compute_Lk_and_lambdak(Ld, K)\n",
    "        h, c, epsilon, _, _ = generate_coeffs(lambda_max_k, lambda_min_k, s=s)\n",
    "        D = generate_dictionary(h, s, Lk)\n",
    "\n",
    "    # Separated Dictionary Model\n",
    "    elif dictionary_type == \"separated\":\n",
    "        Luk, lambda_max_u_k, lambda_min_u_k = compute_Lk_and_lambdak(Lu, K, separated=True)\n",
    "        Ldk, lambda_max_d_k, lambda_min_d_k = compute_Lk_and_lambdak(Ld, K, separated=True)\n",
    "        h, c, epsilon, _, _ = generate_coeffs(lambda_max_u_k, lambda_min_u_k, lambda_max_d_k, lambda_min_d_k, s=s)\n",
    "        D = generate_dictionary(h, s, Luk, Ldk)\n",
    "\n",
    "    n = D.shape[0]\n",
    "\n",
    "    # Signal Generation\n",
    "    def create_column_vec(row,n, s):\n",
    "        tmp = np.zeros(n*s)\n",
    "        tmp[row['idxs']]=row['non_zero_coeff']\n",
    "        return tmp\n",
    "\n",
    "    m_total = m_train + m_test\n",
    "    tmp = pd.DataFrame()\n",
    "    # Determine the sparsity for each column based on sparsity_mode\n",
    "    if sparsity_mode == \"max\":\n",
    "        tmp_K0 = np.random.choice(np.arange(1,K0+1), size=(m_total), replace=True)\n",
    "    else:\n",
    "        tmp_K0 = np.full((m_total,), K0)\n",
    "    # sparsity coefficient for each column\n",
    "    tmp['K0'] = tmp_K0\n",
    "    # for each column get K0 indexes\n",
    "    tmp['idxs'] = tmp.K0.apply(lambda x: np.random.choice(n*s, x, replace=False))\n",
    "    # for each of the K0 row indexes in each column, sample K0 values\n",
    "    tmp['non_zero_coeff'] = tmp.K0.apply(lambda x: np.random.randn(x))\n",
    "    # create the column vectors with the desired characteristics\n",
    "    tmp['column_vec'] = tmp.apply(lambda x: create_column_vec(x,n=n, s=s), axis=1)\n",
    "    # finally derive the sparse signal representation matrix\n",
    "    X = np.column_stack(tmp['column_vec'].values)\n",
    "\n",
    "    all_data = D @ X\n",
    "    X_train = X[:, :m_train]\n",
    "    X_test = X[:, m_train:]\n",
    "    train_Y = all_data[:, :m_train]\n",
    "    test_Y = all_data[:, m_train:]\n",
    "\n",
    "    return D, h, train_Y, test_Y, epsilon, c, X_train, X_test"
   ]
  },
  {
   "cell_type": "markdown",
   "metadata": {},
   "source": [
    "# verify_dic\n"
   ]
  },
  {
   "cell_type": "code",
   "execution_count": 2,
   "metadata": {},
   "outputs": [],
   "source": [
    "import numpy as np\n",
    "from sklearn.linear_model import OrthogonalMatchingPursuit\n",
    "\n",
    "def get_omp_coeff(K0, Domp, col):\n",
    "    omp = OrthogonalMatchingPursuit(n_nonzero_coefs=K0)\n",
    "    omp.fit(Domp, col)\n",
    "    return omp.coef_\n",
    "\n",
    "def verify_dic(D, Y_train, X_train_true, K0_max, acc_thresh):\n",
    "    # OMP\n",
    "    dd = la.norm(D, axis=0)\n",
    "    W = np.diag(1. / dd)  # Normalization Step\n",
    "    Domp = D @ W\n",
    "    for K0 in range(1, K0_max+1):\n",
    "        idx = np.sum(np.abs(X_train_true) > 0, axis=0) == K0  # select all column vectors with certain sparsity (K0 non-null elements)\n",
    "        try:\n",
    "            tmp_train = Y_train[:, idx]\n",
    "            X_true_tmp = X_train_true[:, idx]\n",
    "            idx_group = np.abs(X_true_tmp) > 0\n",
    "            X_tr = np.apply_along_axis(lambda x: get_omp_coeff(K0, Domp.real, x), axis=0, arr=tmp_train)\n",
    "            idx_train = np.abs(X_tr) > 0\n",
    "            acc = np.sum(np.sum(idx_group == idx_train, axis=0) == idx_group.shape[0])/idx_group.shape[1]\n",
    "            if acc < acc_thresh:\n",
    "                fin_acc = acc\n",
    "                break\n",
    "            else:\n",
    "                fin_acc = acc\n",
    "        except:\n",
    "            fin_acc=0\n",
    "    max_possible_sparsity = K0 - 1\n",
    "    return max_possible_sparsity, fin_acc"
   ]
  },
  {
   "cell_type": "markdown",
   "metadata": {},
   "source": [
    "# initialize_dic"
   ]
  },
  {
   "cell_type": "code",
   "execution_count": 3,
   "metadata": {},
   "outputs": [],
   "source": [
    "from sklearn.linear_model import OrthogonalMatchingPursuit\n",
    "import scipy.linalg\n",
    "\n",
    "def initialize_dic(Lu, Ld, s, K, Y_train, K0, dictionary_type, c, epsilon, only):\n",
    "\n",
    "    n = Lu.shape[0]\n",
    "    D = np.zeros((n, n*s))\n",
    "    X = np.zeros(Y_train.shape)\n",
    "    X = np.tile(X, (s,1))\n",
    "    discard = 0\n",
    "\n",
    "    # maybe is better to create a wrapper\n",
    "    def multiplier_search(*arrays, s=s):\n",
    "        is_okay = 0\n",
    "        mult = 100\n",
    "        tries = 0\n",
    "        while is_okay==0:\n",
    "            is_okay = 1\n",
    "            h, c_try, _, tmp_sum_min, tmp_sum_max = generate_coeffs(arrays, s=s, mult=mult)\n",
    "            if c_try <= c:\n",
    "                is_okay *= 1\n",
    "            if tmp_sum_min > c-epsilon:\n",
    "                is_okay *= 1\n",
    "                incr_mult = 0\n",
    "            else:\n",
    "                is_okay = is_okay*0\n",
    "                incr_mult = 1\n",
    "            if tmp_sum_max < c+epsilon:\n",
    "                is_okay *= 1\n",
    "                decr_mult = 0\n",
    "            else:\n",
    "                is_okay *= 0\n",
    "                decr_mult = 1\n",
    "            if is_okay == 0:\n",
    "                tries += 1\n",
    "            if tries >3:\n",
    "                discard = 1\n",
    "                break\n",
    "            if incr_mult == 1:\n",
    "                mult *= 2\n",
    "            if decr_mult == 1:\n",
    "                mult /= 2\n",
    "        return h, discard\n",
    "\n",
    "    if (only == \"only_D\") or (only == \"all\"):\n",
    "        # Joint Dictionary Model\n",
    "        if dictionary_type == \"joint\":\n",
    "            Lk, lambda_max_k, lambda_min_k = compute_Lk_and_lambdak(Lu + Ld, K)\n",
    "            h, discard = multiplier_search(lambda_max_k, lambda_min_k)\n",
    "            D = generate_dictionary(h, s, Lk)\n",
    "\n",
    "        # Edge Laplacian Dictionary Model\n",
    "        elif dictionary_type == \"edge_laplacian\":\n",
    "            Lk, lambda_max_k, lambda_min_k = compute_Lk_and_lambdak(Ld, K)\n",
    "            h, discard = multiplier_search(lambda_max_k, lambda_min_k)\n",
    "            D = generate_dictionary(h, s, Lk)\n",
    "\n",
    "        # Separated Dictionary Model\n",
    "        elif dictionary_type == \"separated\":\n",
    "            Luk, lambda_max_u_k, lambda_min_u_k = compute_Lk_and_lambdak(Lu, K, separated=True)\n",
    "            Ldk, lambda_max_d_k, lambda_min_d_k = compute_Lk_and_lambdak(Ld, K, separated=True)\n",
    "            h, discard = multiplier_search(lambda_max_d_k, lambda_min_d_k, lambda_max_u_k, lambda_min_u_k)\n",
    "            D = generate_dictionary(h, s, Luk, Ldk)\n",
    "    \n",
    "    if (only == \"only_X\" or only == \"all\"):\n",
    "        \n",
    "        if dictionary_type == \"edge_laplacian\":\n",
    "            L = Ld\n",
    "            # _, Dx = scipy.linalg.eig(L)\n",
    "        else:\n",
    "            L = Lu+Ld\n",
    "            # _, Dx = scipy.linalg.eigh(L)\n",
    "\n",
    "        _, Dx = scipy.linalg.eig(L)\n",
    "        dd = la.norm(Dx, axis=0)\n",
    "        W = np.diag(1./dd)\n",
    "        Dx = Dx / la.norm(Dx)  \n",
    "        Domp = Dx@W\n",
    "        X = np.apply_along_axis(lambda x: get_omp_coeff(K0, Domp.real, x), axis=0, arr=Y_train)\n",
    "        X = np.tile(X, (s,1))\n",
    "        \n",
    "    return D, X, discard"
   ]
  },
  {
   "cell_type": "markdown",
   "metadata": {},
   "source": [
    "# topological_dictionary_learn"
   ]
  },
  {
   "cell_type": "code",
   "execution_count": 4,
   "metadata": {},
   "outputs": [],
   "source": [
    "import numpy as np\n",
    "import cvxpy as cp\n",
    "\n",
    "def topological_dictionary_learn(Y_train, Y_test, K, n, s, D0, X0, Lu, Ld, dictionary_type, c, epsilon, K0, lambda_=1e-3, max_iter=10, patience=10, tol=1e-7, verbose=0):\n",
    "\n",
    "    # Define hyperparameters\n",
    "    min_error_train_norm, min_error_test_norm = 1e20, 1e20\n",
    "    m_test, m_train = Y_test.shape[1], Y_train.shape[1]\n",
    "    iter_, pat_iter = 1, 0\n",
    "\n",
    "    if dictionary_type != \"fourier\":\n",
    "        if dictionary_type==\"joint\":\n",
    "            Lk, _, _ = compute_Lk_and_lambdak(Lu + Ld, K)\n",
    "        elif dictionary_type==\"edge_laplacian\":\n",
    "            Lk, _, _ = compute_Lk_and_lambdak(Ld, K)\n",
    "        elif dictionary_type==\"separated\":\n",
    "            Luk, _, _ = compute_Lk_and_lambdak(Lu, K, separated=True)\n",
    "            Ldk, _, _ = compute_Lk_and_lambdak(Ld, K, separated=True)\n",
    "\n",
    "        # Init the dictionary and the sparse representation \n",
    "        D_coll = [cp.Constant(D0[:,(n*i):(n*(i+1))]) for i in range(s)]\n",
    "        Y = cp.Constant(Y_train)\n",
    "        X_train = X0\n",
    "        \n",
    "        while pat_iter < patience and iter_ <= max_iter:\n",
    "            \n",
    "            # SDP Step\n",
    "            # Init constants and parameters\n",
    "            D_coll = [cp.Constant(np.zeros((n, n))) for i in range(s)]  # in the end we don't really need to init D in some way but all zeros will be fine?\n",
    "            Dsum = cp.Constant(np.zeros((n, n)))\n",
    "            X = cp.Constant(X_train)\n",
    "            I = cp.Constant(np.eye(n))\n",
    "            \n",
    "            # Define the objective function\n",
    "            if dictionary_type in [\"joint\", \"edge_laplacian\"]:\n",
    "                # Init the variables\n",
    "                h = cp.Variable((s, K))\n",
    "                hI = cp.Variable((s, 1))\n",
    "                for i in range(0,s):\n",
    "                    tmp =  cp.Constant(np.zeros((n, n)))\n",
    "                    for j in range(0,K):\n",
    "                        tmp += (cp.Constant(Lk[j, :, :]) * h[i,j])\n",
    "                    tmp += (I*hI[i])\n",
    "                    D_coll[i] = tmp\n",
    "                    Dsum += tmp\n",
    "                D = cp.hstack([D_coll[i]for i in range(s)])\n",
    "                term1 = cp.square(cp.norm((Y - D @ X), 'fro'))\n",
    "                term2 = cp.square(cp.norm(h, 'fro')*lambda_)\n",
    "                term3 = cp.square(cp.norm(hI, 'fro')*lambda_)\n",
    "                obj = cp.Minimize(term1 + term2 + term3)\n",
    "\n",
    "            else:\n",
    "                # Init the variables\n",
    "                hI = cp.Variable((s, K))\n",
    "                hS = cp.Variable((s, K))\n",
    "                hH = cp.Variable((s, 1))\n",
    "                for i in range(0,s):\n",
    "                    tmp =  cp.Constant(np.zeros((n, n)))\n",
    "                    for j in range(0,K):\n",
    "                        tmp += ((cp.Constant(Luk[j, :, :])*hS[i,j]) + (cp.Constant(Ldk[j, :, :])*hI[i,j]))\n",
    "                    tmp += (I*hH[i])\n",
    "                    D_coll[i] = tmp\n",
    "                    Dsum += tmp\n",
    "                D = cp.hstack([D_coll[i]for i in range(s)])\n",
    "                \n",
    "                term1 = cp.square(cp.norm((Y - D @ X), 'fro'))\n",
    "                term2 = cp.square(cp.norm(hI, 'fro')*lambda_)\n",
    "                term3 = cp.square(cp.norm(hS, 'fro')*lambda_)\n",
    "                term4 = cp.square(cp.norm(hH, 'fro')*lambda_)\n",
    "                obj = cp.Minimize(term1 + term2 + term3 + term4)\n",
    "\n",
    "            # Define the constraints\n",
    "            constraints = [D_coll[i] >> 0 for i in range(s)] + \\\n",
    "                            [(cp.multiply(c, I) - D_coll[i]) >> 0 for i in range(s)] + \\\n",
    "                            [(Dsum - cp.multiply((c - epsilon), I)) >> 0, (cp.multiply((c + epsilon), I) - Dsum) >> 0]\n",
    "\n",
    "            prob = cp.Problem(obj, constraints)\n",
    "            prob.solve(solver=cp.MOSEK, verbose=False)\n",
    "            # Update the dictionary\n",
    "            D = D.value\n",
    "\n",
    "            # OMP Step\n",
    "            dd = la.norm(D, axis=0)\n",
    "            W = np.diag(1. / dd)\n",
    "            Domp = D @ W\n",
    "            X_train = np.apply_along_axis(lambda x: get_omp_coeff(K0, Domp=Domp, col=x), axis=0, arr=Y_train)\n",
    "            X_test = np.apply_along_axis(lambda x: get_omp_coeff(K0, Domp=Domp, col=x), axis=0, arr=Y_test)\n",
    "            # Normalize?\n",
    "            X_train = W @ X_train\n",
    "            X_test = W @ X_test\n",
    "\n",
    "            # Error Updating\n",
    "            error_train_norm = (1/m_train)* np.sum(la.norm(Y_train - (D @ X_train), axis=0)**2 /\n",
    "                                    la.norm(Y_train, axis=0)**2)\n",
    "            error_test_norm = (1/m_test)* np.sum(la.norm(Y_test - (D @ X_test), axis=0)**2 /\n",
    "                                    la.norm(Y_test, axis=0)**2)\n",
    "\n",
    "            # Error Storing\n",
    "            if (error_train_norm < min_error_train_norm) and (abs(error_train_norm) > np.finfo(float).eps) and (abs(error_train_norm - min_error_train_norm) > tol):\n",
    "                X_opt_train = X_train\n",
    "                min_error_train_norm = error_train_norm\n",
    "\n",
    "            if (error_test_norm < min_error_test_norm) and (abs(error_test_norm) > np.finfo(float).eps) and (abs(error_test_norm - min_error_test_norm) > tol):\n",
    "                h_opt = h.value if dictionary_type in [\"joint\", \"edge_laplacian\"] else np.hstack([hI.value, hS.value, hH.value])\n",
    "                D_opt = D\n",
    "                X_opt_test = X_test\n",
    "                min_error_test_norm = error_test_norm\n",
    "                pat_iter = 0\n",
    "                if verbose == 1:\n",
    "                    print(\"New Best Test Error:\", min_error_test_norm)\n",
    "            else:\n",
    "                pat_iter += 1\n",
    "\n",
    "            iter_ += 1\n",
    "    \n",
    "    else:\n",
    "        # Fourier Dictionary Benchmark\n",
    "        L = Lu + Ld\n",
    "        _, D_opt = scipy.linalg.eigh(L)\n",
    "        dd = la.norm(D_opt, axis=0)\n",
    "        W = np.diag(1./dd)  \n",
    "        D_opt = D_opt / la.norm(D_opt)\n",
    "        Domp = D_opt@W\n",
    "        X_opt_train = np.apply_along_axis(lambda x: get_omp_coeff(K0, Domp=Domp.real, col=x), axis=0, arr=Y_train)\n",
    "        X_opt_test = np.apply_along_axis(lambda x: get_omp_coeff(K0, Domp=Domp.real, col=x), axis=0, arr=Y_test)\n",
    "        X_opt_train = W @ X_opt_train\n",
    "        X_opt_test = W @ X_opt_test\n",
    "        # Error Updating\n",
    "        min_error_train_norm = (1/m_train)* np.sum(la.norm(Y_train - (D_opt @ X_opt_train), axis=0)**2 /\n",
    "                                la.norm(Y_train, axis=0)**2)\n",
    "        min_error_test_norm = (1/m_test)* np.sum(la.norm(Y_test - (D_opt @ X_opt_test), axis=0)**2 /\n",
    "                                la.norm(Y_test, axis=0)**2)\n",
    "        h_opt = 0\n",
    "        \n",
    "    return min_error_train_norm, min_error_test_norm, h_opt, X_opt_test, X_opt_train"
   ]
  },
  {
   "cell_type": "markdown",
   "metadata": {},
   "source": [
    "# Define hyperparameters and graph strucutre"
   ]
  },
  {
   "cell_type": "code",
   "execution_count": 5,
   "metadata": {},
   "outputs": [],
   "source": [
    "from tsplearn.tsp_utils import *\n",
    "\n",
    "# Load the graph\n",
    "G = EnhancedGraph(n=40, p=0.162, seed=0)\n",
    "B1 = G.get_b1()\n",
    "B2 = G.get_b2()\n",
    "\n",
    "# Sub-sampling if needed to decrease complexity\n",
    "sub_size = 100\n",
    "B1 = B1[:, :sub_size]\n",
    "B2 = B2[:sub_size, :]\n",
    "B2 = B2[:,np.sum(np.abs(B2), 0) == 3]\n",
    "\n",
    "# Laplacians\n",
    "Ld = np.matmul(np.transpose(B1), B1, dtype=float)\n",
    "Lu = np.matmul(B2, np.transpose(B2), dtype=float)\n",
    "L = Lu+Ld\n",
    "n =  L.shape[0]\n",
    "nu = B2.shape[1]\n",
    "nd = B1.shape[1]\n",
    "\n",
    "# Problem and Dictionary Dimensionalities\n",
    "dictionary_type_true = \"joint\"\n",
    "m_train = 150 # Number of Train Signals\n",
    "m_test = 80 # Number of Test Signal\n",
    "s = 3 # Number of Kernels (Sub-dictionaries)\n",
    "k = 2 # Polynomial order\n",
    "sparsity = .1 # Sparsity percentage\n",
    "K0_max = 20 #floor(n*sparsity) # Sparsity\n",
    "sparsity_mode = \"max\"\n",
    "\n",
    "# Data-Independent Problem Hyperparameters\n",
    "dictionary_type = dictionary_type_true\n",
    "K0_coll = np.arange(5, 26, 4) \n",
    "max_iter = 100 \n",
    "patience = 5 \n",
    "tol = 1e-7 # tolerance for Patience\n",
    "n_sim = 5\n",
    "lambda_ = 1e-7 # l2 multiplier\n",
    "verbose = True"
   ]
  },
  {
   "cell_type": "markdown",
   "metadata": {},
   "source": [
    "# Dictionary generation"
   ]
  },
  {
   "cell_type": "code",
   "execution_count": 6,
   "metadata": {},
   "outputs": [
    {
     "name": "stderr",
     "output_type": "stream",
     "text": [
      " 97%|█████████▋| 2900/3000 [01:25<00:03, 32.36it/s]C:\\Users\\engri\\AppData\\Roaming\\Python\\Python39\\site-packages\\sklearn\\linear_model\\_omp.py:420: RuntimeWarning: Orthogonal matching pursuit ended prematurely due to linear dependence in the dictionary. The requested precision might not have been met.\n",
      "  out = _cholesky_omp(\n",
      "100%|██████████| 3000/3000 [01:28<00:00, 33.76it/s]\n"
     ]
    },
    {
     "name": "stdout",
     "output_type": "stream",
     "text": [
      "...Done! # Best Sparsity: 4\n"
     ]
    },
    {
     "name": "stderr",
     "output_type": "stream",
     "text": [
      " 67%|██████▋   | 2008/3000 [01:01<00:35, 27.71it/s]C:\\Users\\engri\\AppData\\Roaming\\Python\\Python39\\site-packages\\sklearn\\linear_model\\_omp.py:420: RuntimeWarning: Orthogonal matching pursuit ended prematurely due to linear dependence in the dictionary. The requested precision might not have been met.\n",
      "  out = _cholesky_omp(\n",
      " 69%|██████▉   | 2067/3000 [01:03<00:29, 31.26it/s]C:\\Users\\engri\\AppData\\Roaming\\Python\\Python39\\site-packages\\sklearn\\linear_model\\_omp.py:420: RuntimeWarning: Orthogonal matching pursuit ended prematurely due to linear dependence in the dictionary. The requested precision might not have been met.\n",
      "  out = _cholesky_omp(\n",
      " 82%|████████▏ | 2445/3000 [01:15<00:18, 30.40it/s]C:\\Users\\engri\\AppData\\Roaming\\Python\\Python39\\site-packages\\sklearn\\linear_model\\_omp.py:420: RuntimeWarning: Orthogonal matching pursuit ended prematurely due to linear dependence in the dictionary. The requested precision might not have been met.\n",
      "  out = _cholesky_omp(\n",
      "100%|██████████| 3000/3000 [01:33<00:00, 31.97it/s]\n"
     ]
    },
    {
     "name": "stdout",
     "output_type": "stream",
     "text": [
      "...Done! # Best Sparsity: 3\n"
     ]
    },
    {
     "name": "stderr",
     "output_type": "stream",
     "text": [
      " 80%|████████  | 2412/3000 [01:18<00:21, 27.43it/s]C:\\Users\\engri\\AppData\\Roaming\\Python\\Python39\\site-packages\\sklearn\\linear_model\\_omp.py:420: RuntimeWarning: Orthogonal matching pursuit ended prematurely due to linear dependence in the dictionary. The requested precision might not have been met.\n",
      "  out = _cholesky_omp(\n",
      " 85%|████████▍ | 2539/3000 [01:22<00:14, 31.04it/s]C:\\Users\\engri\\AppData\\Roaming\\Python\\Python39\\site-packages\\sklearn\\linear_model\\_omp.py:420: RuntimeWarning: Orthogonal matching pursuit ended prematurely due to linear dependence in the dictionary. The requested precision might not have been met.\n",
      "  out = _cholesky_omp(\n",
      "100%|██████████| 3000/3000 [01:38<00:00, 30.52it/s]\n"
     ]
    },
    {
     "name": "stdout",
     "output_type": "stream",
     "text": [
      "...Done! # Best Sparsity: 5\n"
     ]
    },
    {
     "name": "stderr",
     "output_type": "stream",
     "text": [
      "  9%|▉         | 284/3000 [00:09<01:35, 28.58it/s]C:\\Users\\engri\\AppData\\Roaming\\Python\\Python39\\site-packages\\sklearn\\linear_model\\_omp.py:420: RuntimeWarning: Orthogonal matching pursuit ended prematurely due to linear dependence in the dictionary. The requested precision might not have been met.\n",
      "  out = _cholesky_omp(\n",
      " 22%|██▏       | 665/3000 [00:22<01:16, 30.33it/s]C:\\Users\\engri\\AppData\\Roaming\\Python\\Python39\\site-packages\\sklearn\\linear_model\\_omp.py:420: RuntimeWarning: Orthogonal matching pursuit ended prematurely due to linear dependence in the dictionary. The requested precision might not have been met.\n",
      "  out = _cholesky_omp(\n",
      " 64%|██████▎   | 1912/3000 [01:04<00:34, 31.51it/s]C:\\Users\\engri\\AppData\\Roaming\\Python\\Python39\\site-packages\\sklearn\\linear_model\\_omp.py:420: RuntimeWarning: Orthogonal matching pursuit ended prematurely due to linear dependence in the dictionary. The requested precision might not have been met.\n",
      "  out = _cholesky_omp(\n",
      " 76%|███████▋  | 2288/3000 [01:16<00:21, 32.93it/s]C:\\Users\\engri\\AppData\\Roaming\\Python\\Python39\\site-packages\\sklearn\\linear_model\\_omp.py:420: RuntimeWarning: Orthogonal matching pursuit ended prematurely due to linear dependence in the dictionary. The requested precision might not have been met.\n",
      "  out = _cholesky_omp(\n",
      "100%|██████████| 3000/3000 [01:39<00:00, 30.01it/s]\n"
     ]
    },
    {
     "name": "stdout",
     "output_type": "stream",
     "text": [
      "...Done! # Best Sparsity: 4\n"
     ]
    },
    {
     "name": "stderr",
     "output_type": "stream",
     "text": [
      " 21%|██        | 619/3000 [00:19<01:13, 32.45it/s]C:\\Users\\engri\\AppData\\Roaming\\Python\\Python39\\site-packages\\sklearn\\linear_model\\_omp.py:420: RuntimeWarning: Orthogonal matching pursuit ended prematurely due to linear dependence in the dictionary. The requested precision might not have been met.\n",
      "  out = _cholesky_omp(\n",
      " 33%|███▎      | 981/3000 [00:30<01:00, 33.49it/s]C:\\Users\\engri\\AppData\\Roaming\\Python\\Python39\\site-packages\\sklearn\\linear_model\\_omp.py:420: RuntimeWarning: Orthogonal matching pursuit ended prematurely due to linear dependence in the dictionary. The requested precision might not have been met.\n",
      "  out = _cholesky_omp(\n",
      "100%|██████████| 3000/3000 [01:34<00:00, 31.69it/s]"
     ]
    },
    {
     "name": "stdout",
     "output_type": "stream",
     "text": [
      "...Done! # Best Sparsity: 4\n"
     ]
    },
    {
     "name": "stderr",
     "output_type": "stream",
     "text": [
      "\n"
     ]
    }
   ],
   "source": [
    "from tqdm import tqdm\n",
    "\n",
    "D_true = np.zeros((n, n * s, n_sim))\n",
    "D_true_coll = np.zeros((n, n, s, n_sim))\n",
    "Y_train = np.zeros((n, m_train, n_sim))\n",
    "Y_test = np.zeros((n, m_test, n_sim))\n",
    "epsilon_true = np.zeros(n_sim)\n",
    "c_true = np.zeros(n_sim)\n",
    "X_train = np.zeros((n * s, m_train, n_sim))\n",
    "X_test = np.zeros((n * s, m_test, n_sim))\n",
    "n_search = 3000\n",
    "\n",
    "for sim in range(n_sim):\n",
    "    best_sparsity = 0\n",
    "    best_acc = 0\n",
    "\n",
    "    for i in tqdm(range(n_search)):\n",
    "        try:\n",
    "            D_try, h, Y_train_try, Y_test_try, epsilon_try, c_try, X_train_try, X_test_try = create_ground_truth(Lu,\n",
    "                                                                                    Ld,\n",
    "                                                                                    m_train,\n",
    "                                                                                    m_test, \n",
    "                                                                                    s=s, \n",
    "                                                                                    K=k, \n",
    "                                                                                    K0=K0_max, \n",
    "                                                                                    dictionary_type=dictionary_type, \n",
    "                                                                                    sparsity_mode=sparsity_mode)\n",
    "            \n",
    "            max_possible_sparsity, acc = verify_dic(D_try, Y_train_try, X_train_try, K0_max, .7)\n",
    "            if max_possible_sparsity > best_sparsity:\n",
    "                best_sparsity = max_possible_sparsity\n",
    "                best_acc = acc\n",
    "                D_true[:, :, sim] = D_try\n",
    "                Y_train[:, :, sim] = Y_train_try\n",
    "                Y_test[:, :, sim] = Y_test_try\n",
    "                epsilon_true[sim] = epsilon_try\n",
    "                c_true[sim] = c_try\n",
    "                X_train[:, :, sim] = X_train_try\n",
    "                X_test[:, :, sim] = X_test_try\n",
    "\n",
    "        except Exception as e:\n",
    "            print(f\"Error during dictionary creation: {e}\")\n",
    "\n",
    "    print(f\"...Done! # Best Sparsity: {best_sparsity}\")"
   ]
  },
  {
   "cell_type": "markdown",
   "metadata": {},
   "source": [
    "# Learning with \"Fourier\""
   ]
  },
  {
   "cell_type": "code",
   "execution_count": 7,
   "metadata": {},
   "outputs": [
    {
     "name": "stderr",
     "output_type": "stream",
     "text": [
      "1it [00:00,  1.92it/s]"
     ]
    },
    {
     "name": "stdout",
     "output_type": "stream",
     "text": [
      "Simulation: 1/5 Sparsity: 5 Testing Fourier... Done! Test Error: 0.2552860724981797\n"
     ]
    },
    {
     "name": "stderr",
     "output_type": "stream",
     "text": [
      "2it [00:01,  1.53it/s]"
     ]
    },
    {
     "name": "stdout",
     "output_type": "stream",
     "text": [
      "Simulation: 1/5 Sparsity: 9 Testing Fourier... Done! Test Error: 0.13573186308696736\n"
     ]
    },
    {
     "name": "stderr",
     "output_type": "stream",
     "text": [
      "3it [00:02,  1.23it/s]"
     ]
    },
    {
     "name": "stdout",
     "output_type": "stream",
     "text": [
      "Simulation: 1/5 Sparsity: 13 Testing Fourier... Done! Test Error: 0.0788621662694871\n"
     ]
    },
    {
     "name": "stderr",
     "output_type": "stream",
     "text": [
      "4it [00:03,  1.02it/s]"
     ]
    },
    {
     "name": "stdout",
     "output_type": "stream",
     "text": [
      "Simulation: 1/5 Sparsity: 17 Testing Fourier... Done! Test Error: 0.04873728200774752\n"
     ]
    },
    {
     "name": "stderr",
     "output_type": "stream",
     "text": [
      "5it [00:05,  1.17s/it]"
     ]
    },
    {
     "name": "stdout",
     "output_type": "stream",
     "text": [
      "Simulation: 1/5 Sparsity: 21 Testing Fourier... Done! Test Error: 0.03229215546271933\n"
     ]
    },
    {
     "name": "stderr",
     "output_type": "stream",
     "text": [
      "6it [00:06,  1.12s/it]\n"
     ]
    },
    {
     "name": "stdout",
     "output_type": "stream",
     "text": [
      "Simulation: 1/5 Sparsity: 25 Testing Fourier... Done! Test Error: 0.02221309620898293\n"
     ]
    },
    {
     "name": "stderr",
     "output_type": "stream",
     "text": [
      "1it [00:00,  1.93it/s]"
     ]
    },
    {
     "name": "stdout",
     "output_type": "stream",
     "text": [
      "Simulation: 2/5 Sparsity: 5 Testing Fourier... Done! Test Error: 0.26477271160948945\n"
     ]
    },
    {
     "name": "stderr",
     "output_type": "stream",
     "text": [
      "2it [00:01,  1.52it/s]"
     ]
    },
    {
     "name": "stdout",
     "output_type": "stream",
     "text": [
      "Simulation: 2/5 Sparsity: 9 Testing Fourier... Done! Test Error: 0.1428430807495934\n"
     ]
    },
    {
     "name": "stderr",
     "output_type": "stream",
     "text": [
      "3it [00:02,  1.24it/s]"
     ]
    },
    {
     "name": "stdout",
     "output_type": "stream",
     "text": [
      "Simulation: 2/5 Sparsity: 13 Testing Fourier... Done! Test Error: 0.08727593457543875\n"
     ]
    },
    {
     "name": "stderr",
     "output_type": "stream",
     "text": [
      "4it [00:03,  1.03it/s]"
     ]
    },
    {
     "name": "stdout",
     "output_type": "stream",
     "text": [
      "Simulation: 2/5 Sparsity: 17 Testing Fourier... Done! Test Error: 0.054325924418904895\n"
     ]
    },
    {
     "name": "stderr",
     "output_type": "stream",
     "text": [
      "5it [00:04,  1.16s/it]"
     ]
    },
    {
     "name": "stdout",
     "output_type": "stream",
     "text": [
      "Simulation: 2/5 Sparsity: 21 Testing Fourier... Done! Test Error: 0.03441534338861602\n"
     ]
    },
    {
     "name": "stderr",
     "output_type": "stream",
     "text": [
      "6it [00:06,  1.12s/it]\n"
     ]
    },
    {
     "name": "stdout",
     "output_type": "stream",
     "text": [
      "Simulation: 2/5 Sparsity: 25 Testing Fourier... Done! Test Error: 0.021590899197986853\n"
     ]
    },
    {
     "name": "stderr",
     "output_type": "stream",
     "text": [
      "1it [00:00,  1.92it/s]"
     ]
    },
    {
     "name": "stdout",
     "output_type": "stream",
     "text": [
      "Simulation: 3/5 Sparsity: 5 Testing Fourier... Done! Test Error: 0.2644922476915168\n"
     ]
    },
    {
     "name": "stderr",
     "output_type": "stream",
     "text": [
      "2it [00:01,  1.53it/s]"
     ]
    },
    {
     "name": "stdout",
     "output_type": "stream",
     "text": [
      "Simulation: 3/5 Sparsity: 9 Testing Fourier... Done! Test Error: 0.14844592313156557\n"
     ]
    },
    {
     "name": "stderr",
     "output_type": "stream",
     "text": [
      "3it [00:02,  1.22it/s]"
     ]
    },
    {
     "name": "stdout",
     "output_type": "stream",
     "text": [
      "Simulation: 3/5 Sparsity: 13 Testing Fourier... Done! Test Error: 0.09277504827570049\n"
     ]
    },
    {
     "name": "stderr",
     "output_type": "stream",
     "text": [
      "4it [00:03,  1.02s/it]"
     ]
    },
    {
     "name": "stdout",
     "output_type": "stream",
     "text": [
      "Simulation: 3/5 Sparsity: 17 Testing Fourier... Done! Test Error: 0.058630733131981964\n"
     ]
    },
    {
     "name": "stderr",
     "output_type": "stream",
     "text": [
      "5it [00:05,  1.21s/it]"
     ]
    },
    {
     "name": "stdout",
     "output_type": "stream",
     "text": [
      "Simulation: 3/5 Sparsity: 21 Testing Fourier... Done! Test Error: 0.03760808603210587\n"
     ]
    },
    {
     "name": "stderr",
     "output_type": "stream",
     "text": [
      "6it [00:06,  1.17s/it]\n"
     ]
    },
    {
     "name": "stdout",
     "output_type": "stream",
     "text": [
      "Simulation: 3/5 Sparsity: 25 Testing Fourier... Done! Test Error: 0.025281619035683007\n"
     ]
    },
    {
     "name": "stderr",
     "output_type": "stream",
     "text": [
      "1it [00:00,  1.82it/s]"
     ]
    },
    {
     "name": "stdout",
     "output_type": "stream",
     "text": [
      "Simulation: 4/5 Sparsity: 5 Testing Fourier... Done! Test Error: 0.27319954427265164\n"
     ]
    },
    {
     "name": "stderr",
     "output_type": "stream",
     "text": [
      "2it [00:01,  1.61it/s]"
     ]
    },
    {
     "name": "stdout",
     "output_type": "stream",
     "text": [
      "Simulation: 4/5 Sparsity: 9 Testing Fourier... Done! Test Error: 0.1558263663013076\n"
     ]
    },
    {
     "name": "stderr",
     "output_type": "stream",
     "text": [
      "3it [00:02,  1.37it/s]"
     ]
    },
    {
     "name": "stdout",
     "output_type": "stream",
     "text": [
      "Simulation: 4/5 Sparsity: 13 Testing Fourier... Done! Test Error: 0.0972173406604077\n"
     ]
    },
    {
     "name": "stderr",
     "output_type": "stream",
     "text": [
      "4it [00:03,  1.15it/s]"
     ]
    },
    {
     "name": "stdout",
     "output_type": "stream",
     "text": [
      "Simulation: 4/5 Sparsity: 17 Testing Fourier... Done! Test Error: 0.06428048538219888\n"
     ]
    },
    {
     "name": "stderr",
     "output_type": "stream",
     "text": [
      "5it [00:04,  1.02s/it]"
     ]
    },
    {
     "name": "stdout",
     "output_type": "stream",
     "text": [
      "Simulation: 4/5 Sparsity: 21 Testing Fourier... Done! Test Error: 0.040956556245420876\n"
     ]
    },
    {
     "name": "stderr",
     "output_type": "stream",
     "text": [
      "6it [00:05,  1.00it/s]\n"
     ]
    },
    {
     "name": "stdout",
     "output_type": "stream",
     "text": [
      "Simulation: 4/5 Sparsity: 25 Testing Fourier... Done! Test Error: 0.02884252628909841\n"
     ]
    },
    {
     "name": "stderr",
     "output_type": "stream",
     "text": [
      "1it [00:00,  2.25it/s]"
     ]
    },
    {
     "name": "stdout",
     "output_type": "stream",
     "text": [
      "Simulation: 5/5 Sparsity: 5 Testing Fourier... Done! Test Error: 0.2580667604948892\n"
     ]
    },
    {
     "name": "stderr",
     "output_type": "stream",
     "text": [
      "2it [00:01,  1.77it/s]"
     ]
    },
    {
     "name": "stdout",
     "output_type": "stream",
     "text": [
      "Simulation: 5/5 Sparsity: 9 Testing Fourier... Done! Test Error: 0.1390184816598112\n"
     ]
    },
    {
     "name": "stderr",
     "output_type": "stream",
     "text": [
      "3it [00:01,  1.43it/s]"
     ]
    },
    {
     "name": "stdout",
     "output_type": "stream",
     "text": [
      "Simulation: 5/5 Sparsity: 13 Testing Fourier... Done! Test Error: 0.0826260407401907\n"
     ]
    },
    {
     "name": "stderr",
     "output_type": "stream",
     "text": [
      "4it [00:03,  1.19it/s]"
     ]
    },
    {
     "name": "stdout",
     "output_type": "stream",
     "text": [
      "Simulation: 5/5 Sparsity: 17 Testing Fourier... Done! Test Error: 0.05342441957814035\n"
     ]
    },
    {
     "name": "stderr",
     "output_type": "stream",
     "text": [
      "5it [00:04,  1.00s/it]"
     ]
    },
    {
     "name": "stdout",
     "output_type": "stream",
     "text": [
      "Simulation: 5/5 Sparsity: 21 Testing Fourier... Done! Test Error: 0.03564965083207638\n"
     ]
    },
    {
     "name": "stderr",
     "output_type": "stream",
     "text": [
      "6it [00:05,  1.04it/s]"
     ]
    },
    {
     "name": "stdout",
     "output_type": "stream",
     "text": [
      "Simulation: 5/5 Sparsity: 25 Testing Fourier... Done! Test Error: 0.02423355088967427\n"
     ]
    },
    {
     "name": "stderr",
     "output_type": "stream",
     "text": [
      "\n"
     ]
    }
   ],
   "source": [
    "import matplotlib.pyplot as plt\n",
    "import warnings\n",
    "\n",
    "warnings.filterwarnings('ignore')\n",
    "\n",
    "min_error_fou_train = np.zeros((n_sim, len(K0_coll)))\n",
    "min_error_fou_test = np.zeros((n_sim, len(K0_coll)))\n",
    "\n",
    "for sim in range(n_sim):\n",
    "    c = c_true[sim]  \n",
    "    epsilon = epsilon_true[sim] \n",
    "    for k0_index, k0 in tqdm(enumerate(K0_coll)):\n",
    "        discard = 1\n",
    "        while discard == 1:\n",
    "            \n",
    "            try:\n",
    "                D0, X0, discard = initialize_dic(Lu, Ld, s, k, Y_train[:, :, sim], k0, dictionary_type, c, epsilon, \"only_X\")\n",
    "            except:\n",
    "                print(\"Initialization Failed!\")\n",
    "        \n",
    "        try:\n",
    "            min_error_fou_train[sim, k0_index], min_error_fou_test[sim, k0_index], _, _, _ = topological_dictionary_learn(Y_train[:,:,sim], Y_test[:,:,sim],\n",
    "                                                                                                                        k, n, s, D0, X0, Lu, Ld, \"fourier\",\n",
    "                                                                                                                        c, epsilon, k0, lambda_, max_iter,\n",
    "                                                                                                                        patience, tol)\n",
    "            if verbose:\n",
    "                print(f\"Simulation: {sim+1}/{n_sim} Sparsity: {k0} Testing Fourier... Done! Test Error: {min_error_fou_test[sim, k0_index]}\")\n",
    "        except:\n",
    "            print(f'Simulation: {sim+1}/{n_sim} Sparsity: {k0} Testing Fourier... Diverged!')\n",
    "            min_error_fou_train[sim, k0_index], min_error_fou_test[sim, k0_index] = (100,100)"
   ]
  },
  {
   "cell_type": "markdown",
   "metadata": {},
   "source": [
    "# Learning \"separated\" learning"
   ]
  },
  {
   "cell_type": "code",
   "execution_count": 8,
   "metadata": {},
   "outputs": [
    {
     "name": "stderr",
     "output_type": "stream",
     "text": [
      "1it [00:10, 10.00s/it]"
     ]
    },
    {
     "name": "stdout",
     "output_type": "stream",
     "text": [
      "Simulation: 1/5 Sparsity: 5 Testing Separated... Done! Test Error: 0.022560075049753662\n"
     ]
    },
    {
     "name": "stderr",
     "output_type": "stream",
     "text": [
      "2it [00:29, 15.72s/it]"
     ]
    },
    {
     "name": "stdout",
     "output_type": "stream",
     "text": [
      "Simulation: 1/5 Sparsity: 9 Testing Separated... Done! Test Error: 0.007170102760258978\n"
     ]
    },
    {
     "name": "stderr",
     "output_type": "stream",
     "text": [
      "3it [01:19, 31.35s/it]"
     ]
    },
    {
     "name": "stdout",
     "output_type": "stream",
     "text": [
      "Simulation: 1/5 Sparsity: 13 Testing Separated... Done! Test Error: 0.0031081113759811904\n"
     ]
    },
    {
     "name": "stderr",
     "output_type": "stream",
     "text": [
      "4it [02:44, 52.58s/it]"
     ]
    },
    {
     "name": "stdout",
     "output_type": "stream",
     "text": [
      "Simulation: 1/5 Sparsity: 17 Testing Separated... Done! Test Error: 0.0015215451267388664\n"
     ]
    },
    {
     "name": "stderr",
     "output_type": "stream",
     "text": [
      "5it [03:57, 59.96s/it]"
     ]
    },
    {
     "name": "stdout",
     "output_type": "stream",
     "text": [
      "Simulation: 1/5 Sparsity: 21 Testing Separated... Done! Test Error: 0.0015089268084774604\n"
     ]
    },
    {
     "name": "stderr",
     "output_type": "stream",
     "text": [
      "6it [06:15, 62.64s/it]\n"
     ]
    },
    {
     "name": "stdout",
     "output_type": "stream",
     "text": [
      "Simulation: 1/5 Sparsity: 25 Testing Separated... Done! Test Error: 0.000824165834197082\n"
     ]
    },
    {
     "name": "stderr",
     "output_type": "stream",
     "text": [
      "1it [00:13, 13.73s/it]"
     ]
    },
    {
     "name": "stdout",
     "output_type": "stream",
     "text": [
      "Simulation: 2/5 Sparsity: 5 Testing Separated... Done! Test Error: 0.03932544119840589\n"
     ]
    },
    {
     "name": "stderr",
     "output_type": "stream",
     "text": [
      "2it [00:29, 15.01s/it]"
     ]
    },
    {
     "name": "stdout",
     "output_type": "stream",
     "text": [
      "Simulation: 2/5 Sparsity: 9 Testing Separated... Done! Test Error: 0.011410451531615459\n"
     ]
    },
    {
     "name": "stderr",
     "output_type": "stream",
     "text": [
      "3it [00:52, 18.52s/it]"
     ]
    },
    {
     "name": "stdout",
     "output_type": "stream",
     "text": [
      "Simulation: 2/5 Sparsity: 13 Testing Separated... Done! Test Error: 0.005491207003121995\n"
     ]
    },
    {
     "name": "stderr",
     "output_type": "stream",
     "text": [
      "4it [01:31, 26.65s/it]"
     ]
    },
    {
     "name": "stdout",
     "output_type": "stream",
     "text": [
      "Simulation: 2/5 Sparsity: 17 Testing Separated... Done! Test Error: 0.0029169166222112104\n"
     ]
    },
    {
     "name": "stderr",
     "output_type": "stream",
     "text": [
      "5it [02:27, 37.17s/it]"
     ]
    },
    {
     "name": "stdout",
     "output_type": "stream",
     "text": [
      "Simulation: 2/5 Sparsity: 21 Testing Separated... Done! Test Error: 0.0018947061083345387\n"
     ]
    },
    {
     "name": "stderr",
     "output_type": "stream",
     "text": [
      "6it [04:00, 40.12s/it]\n"
     ]
    },
    {
     "name": "stdout",
     "output_type": "stream",
     "text": [
      "Simulation: 2/5 Sparsity: 25 Testing Separated... Done! Test Error: 0.0017247648583982981\n"
     ]
    },
    {
     "name": "stderr",
     "output_type": "stream",
     "text": [
      "1it [00:15, 15.16s/it]"
     ]
    },
    {
     "name": "stdout",
     "output_type": "stream",
     "text": [
      "Simulation: 3/5 Sparsity: 5 Testing Separated... Done! Test Error: 0.036829497387191094\n"
     ]
    },
    {
     "name": "stderr",
     "output_type": "stream",
     "text": [
      "2it [00:32, 16.63s/it]"
     ]
    },
    {
     "name": "stdout",
     "output_type": "stream",
     "text": [
      "Simulation: 3/5 Sparsity: 9 Testing Separated... Done! Test Error: 0.01138858484319702\n"
     ]
    },
    {
     "name": "stderr",
     "output_type": "stream",
     "text": [
      "3it [01:12, 27.35s/it]"
     ]
    },
    {
     "name": "stdout",
     "output_type": "stream",
     "text": [
      "Simulation: 3/5 Sparsity: 13 Testing Separated... Done! Test Error: 0.00551961697474748\n"
     ]
    },
    {
     "name": "stderr",
     "output_type": "stream",
     "text": [
      "4it [02:08, 38.41s/it]"
     ]
    },
    {
     "name": "stdout",
     "output_type": "stream",
     "text": [
      "Simulation: 3/5 Sparsity: 17 Testing Separated... Done! Test Error: 0.00304255776969518\n"
     ]
    },
    {
     "name": "stderr",
     "output_type": "stream",
     "text": [
      "5it [03:13, 47.99s/it]"
     ]
    },
    {
     "name": "stdout",
     "output_type": "stream",
     "text": [
      "Simulation: 3/5 Sparsity: 21 Testing Separated... Done! Test Error: 0.002459620299543506\n"
     ]
    },
    {
     "name": "stderr",
     "output_type": "stream",
     "text": [
      "6it [05:06, 51.05s/it]\n"
     ]
    },
    {
     "name": "stdout",
     "output_type": "stream",
     "text": [
      "Simulation: 3/5 Sparsity: 25 Testing Separated... Done! Test Error: 0.0013193019808724195\n"
     ]
    },
    {
     "name": "stderr",
     "output_type": "stream",
     "text": [
      "1it [00:13, 13.32s/it]"
     ]
    },
    {
     "name": "stdout",
     "output_type": "stream",
     "text": [
      "Simulation: 4/5 Sparsity: 5 Testing Separated... Done! Test Error: 0.045165353927132786\n"
     ]
    },
    {
     "name": "stderr",
     "output_type": "stream",
     "text": [
      "2it [00:24, 12.25s/it]"
     ]
    },
    {
     "name": "stdout",
     "output_type": "stream",
     "text": [
      "Simulation: 4/5 Sparsity: 9 Testing Separated... Done! Test Error: 0.014765859999529552\n"
     ]
    },
    {
     "name": "stderr",
     "output_type": "stream",
     "text": [
      "3it [00:56, 21.15s/it]"
     ]
    },
    {
     "name": "stdout",
     "output_type": "stream",
     "text": [
      "Simulation: 4/5 Sparsity: 13 Testing Separated... Done! Test Error: 0.006315889621365549\n"
     ]
    },
    {
     "name": "stderr",
     "output_type": "stream",
     "text": [
      "4it [01:36, 28.55s/it]"
     ]
    },
    {
     "name": "stdout",
     "output_type": "stream",
     "text": [
      "Simulation: 4/5 Sparsity: 17 Testing Separated... Done! Test Error: 0.003733384624593643\n"
     ]
    },
    {
     "name": "stderr",
     "output_type": "stream",
     "text": [
      "5it [02:31, 37.92s/it]"
     ]
    },
    {
     "name": "stdout",
     "output_type": "stream",
     "text": [
      "Simulation: 4/5 Sparsity: 21 Testing Separated... Done! Test Error: 0.00228196651935011\n"
     ]
    },
    {
     "name": "stderr",
     "output_type": "stream",
     "text": [
      "6it [03:55, 39.30s/it]\n"
     ]
    },
    {
     "name": "stdout",
     "output_type": "stream",
     "text": [
      "Simulation: 4/5 Sparsity: 25 Testing Separated... Done! Test Error: 0.0014306032040503262\n"
     ]
    },
    {
     "name": "stderr",
     "output_type": "stream",
     "text": [
      "1it [00:11, 11.28s/it]"
     ]
    },
    {
     "name": "stdout",
     "output_type": "stream",
     "text": [
      "Simulation: 5/5 Sparsity: 5 Testing Separated... Done! Test Error: 0.01714640077341421\n"
     ]
    },
    {
     "name": "stderr",
     "output_type": "stream",
     "text": [
      "2it [00:29, 15.43s/it]"
     ]
    },
    {
     "name": "stdout",
     "output_type": "stream",
     "text": [
      "Simulation: 5/5 Sparsity: 9 Testing Separated... Done! Test Error: 0.005233925576851001\n"
     ]
    },
    {
     "name": "stderr",
     "output_type": "stream",
     "text": [
      "3it [01:15, 29.27s/it]"
     ]
    },
    {
     "name": "stdout",
     "output_type": "stream",
     "text": [
      "Simulation: 5/5 Sparsity: 13 Testing Separated... Done! Test Error: 0.002078584112819278\n"
     ]
    },
    {
     "name": "stderr",
     "output_type": "stream",
     "text": [
      "4it [02:05, 37.39s/it]"
     ]
    },
    {
     "name": "stdout",
     "output_type": "stream",
     "text": [
      "Simulation: 5/5 Sparsity: 17 Testing Separated... Done! Test Error: 0.0019123937818219822\n"
     ]
    },
    {
     "name": "stderr",
     "output_type": "stream",
     "text": [
      "5it [03:23, 52.21s/it]"
     ]
    },
    {
     "name": "stdout",
     "output_type": "stream",
     "text": [
      "Simulation: 5/5 Sparsity: 21 Testing Separated... Done! Test Error: 0.0009198015223722066\n"
     ]
    },
    {
     "name": "stderr",
     "output_type": "stream",
     "text": [
      "6it [05:22, 53.74s/it]"
     ]
    },
    {
     "name": "stdout",
     "output_type": "stream",
     "text": [
      "Simulation: 5/5 Sparsity: 25 Testing Separated... Done! Test Error: 0.0006453042980668838\n"
     ]
    },
    {
     "name": "stderr",
     "output_type": "stream",
     "text": [
      "\n"
     ]
    }
   ],
   "source": [
    "import warnings\n",
    "warnings.filterwarnings('ignore')\n",
    "\n",
    "min_error_sep_train = np.zeros((n_sim, len(K0_coll)))\n",
    "min_error_sep_test = np.zeros((n_sim, len(K0_coll)))\n",
    "\n",
    "for sim in range(n_sim):\n",
    "    c = c_true[sim]  # d\n",
    "    epsilon = epsilon_true[sim] \n",
    "    for k0_index, k0 in tqdm(enumerate(K0_coll)):\n",
    "        discard = 1\n",
    "        while discard == 1:\n",
    "\n",
    "            try:\n",
    "                D0, X0, discard = initialize_dic(Lu, Ld, s, k, Y_train[:, :, sim], k0, dictionary_type, c, epsilon, \"only_X\")\n",
    "            except:\n",
    "                print(\"Initialization Failed!\")\n",
    "        \n",
    "        try:\n",
    "            min_error_sep_train[sim, k0_index], min_error_sep_test[sim, k0_index], _, _, _ = topological_dictionary_learn(Y_train[:,:,sim], Y_test[:,:,sim],\n",
    "                                                                                                                                k, n, s, D0, X0, Lu, Ld, \"separated\",\n",
    "                                                                                                                                c, epsilon, k0, lambda_, max_iter, \n",
    "                                                                                                                                patience, tol)\n",
    "            if verbose:\n",
    "                print(f\"Simulation: {sim+1}/{n_sim} Sparsity: {k0} Testing Separated... Done! Test Error: {min_error_sep_test[sim, k0_index]}\")\n",
    "        except:\n",
    "            print(f'Simulation: {sim+1}/{n_sim} Sparsity: {k0} Testing Separated... Diverged!')\n",
    "            min_error_fou_train[sim, k0_index], min_error_fou_test[sim, k0_index] = (100,100)"
   ]
  },
  {
   "cell_type": "markdown",
   "metadata": {},
   "source": [
    "# Learning with \"edge laplacian\""
   ]
  },
  {
   "cell_type": "code",
   "execution_count": 9,
   "metadata": {},
   "outputs": [
    {
     "name": "stderr",
     "output_type": "stream",
     "text": [
      "1it [00:15, 15.18s/it]"
     ]
    },
    {
     "name": "stdout",
     "output_type": "stream",
     "text": [
      "Simulation: 1/5 Sparsity: 5 Testing Edge Laplacian... Done! Test Error: 0.07027360560903322\n"
     ]
    },
    {
     "name": "stderr",
     "output_type": "stream",
     "text": [
      "2it [00:45, 24.15s/it]"
     ]
    },
    {
     "name": "stdout",
     "output_type": "stream",
     "text": [
      "Simulation: 1/5 Sparsity: 9 Testing Edge Laplacian... Done! Test Error: 0.03182469410188316\n"
     ]
    },
    {
     "name": "stderr",
     "output_type": "stream",
     "text": [
      "3it [01:45, 40.53s/it]"
     ]
    },
    {
     "name": "stdout",
     "output_type": "stream",
     "text": [
      "Simulation: 1/5 Sparsity: 13 Testing Edge Laplacian... Done! Test Error: 0.016981883337331524\n"
     ]
    },
    {
     "name": "stderr",
     "output_type": "stream",
     "text": [
      "4it [03:18, 61.30s/it]"
     ]
    },
    {
     "name": "stdout",
     "output_type": "stream",
     "text": [
      "Simulation: 1/5 Sparsity: 17 Testing Edge Laplacian... Done! Test Error: 0.009818328880976095\n"
     ]
    },
    {
     "name": "stderr",
     "output_type": "stream",
     "text": [
      "5it [04:32, 65.85s/it]"
     ]
    },
    {
     "name": "stdout",
     "output_type": "stream",
     "text": [
      "Simulation: 1/5 Sparsity: 21 Testing Edge Laplacian... Done! Test Error: 0.00866011579674475\n"
     ]
    },
    {
     "name": "stderr",
     "output_type": "stream",
     "text": [
      "6it [06:46, 67.74s/it]\n"
     ]
    },
    {
     "name": "stdout",
     "output_type": "stream",
     "text": [
      "Simulation: 1/5 Sparsity: 25 Testing Edge Laplacian... Done! Test Error: 0.004799121394965369\n"
     ]
    },
    {
     "name": "stderr",
     "output_type": "stream",
     "text": [
      "1it [00:17, 17.72s/it]"
     ]
    },
    {
     "name": "stdout",
     "output_type": "stream",
     "text": [
      "Simulation: 2/5 Sparsity: 5 Testing Edge Laplacian... Done! Test Error: 0.0901855075138956\n"
     ]
    },
    {
     "name": "stderr",
     "output_type": "stream",
     "text": [
      "2it [00:37, 19.01s/it]"
     ]
    },
    {
     "name": "stdout",
     "output_type": "stream",
     "text": [
      "Simulation: 2/5 Sparsity: 9 Testing Edge Laplacian... Done! Test Error: 0.044300812135374915\n"
     ]
    },
    {
     "name": "stderr",
     "output_type": "stream",
     "text": [
      "3it [01:07, 23.91s/it]"
     ]
    },
    {
     "name": "stdout",
     "output_type": "stream",
     "text": [
      "Simulation: 2/5 Sparsity: 13 Testing Edge Laplacian... Done! Test Error: 0.025933603895126445\n"
     ]
    },
    {
     "name": "stderr",
     "output_type": "stream",
     "text": [
      "4it [01:52, 32.16s/it]"
     ]
    },
    {
     "name": "stdout",
     "output_type": "stream",
     "text": [
      "Simulation: 2/5 Sparsity: 17 Testing Edge Laplacian... Done! Test Error: 0.016214464214054074\n"
     ]
    },
    {
     "name": "stderr",
     "output_type": "stream",
     "text": [
      "5it [03:07, 47.90s/it]"
     ]
    },
    {
     "name": "stdout",
     "output_type": "stream",
     "text": [
      "Simulation: 2/5 Sparsity: 21 Testing Edge Laplacian... Done! Test Error: 0.010583536828318536\n"
     ]
    },
    {
     "name": "stderr",
     "output_type": "stream",
     "text": [
      "6it [04:21, 43.55s/it]\n"
     ]
    },
    {
     "name": "stdout",
     "output_type": "stream",
     "text": [
      "Simulation: 2/5 Sparsity: 25 Testing Edge Laplacian... Done! Test Error: 0.0081487114740831\n"
     ]
    },
    {
     "name": "stderr",
     "output_type": "stream",
     "text": [
      "1it [00:24, 24.02s/it]"
     ]
    },
    {
     "name": "stdout",
     "output_type": "stream",
     "text": [
      "Simulation: 3/5 Sparsity: 5 Testing Edge Laplacian... Done! Test Error: 0.09040577634624451\n"
     ]
    },
    {
     "name": "stderr",
     "output_type": "stream",
     "text": [
      "2it [00:44, 21.79s/it]"
     ]
    },
    {
     "name": "stdout",
     "output_type": "stream",
     "text": [
      "Simulation: 3/5 Sparsity: 9 Testing Edge Laplacian... Done! Test Error: 0.04312305779435789\n"
     ]
    },
    {
     "name": "stderr",
     "output_type": "stream",
     "text": [
      "3it [01:18, 27.51s/it]"
     ]
    },
    {
     "name": "stdout",
     "output_type": "stream",
     "text": [
      "Simulation: 3/5 Sparsity: 13 Testing Edge Laplacian... Done! Test Error: 0.02332579934425476\n"
     ]
    },
    {
     "name": "stderr",
     "output_type": "stream",
     "text": [
      "4it [02:00, 33.29s/it]"
     ]
    },
    {
     "name": "stdout",
     "output_type": "stream",
     "text": [
      "Simulation: 3/5 Sparsity: 17 Testing Edge Laplacian... Done! Test Error: 0.015027917122583717\n"
     ]
    },
    {
     "name": "stderr",
     "output_type": "stream",
     "text": [
      "5it [03:25, 51.70s/it]"
     ]
    },
    {
     "name": "stdout",
     "output_type": "stream",
     "text": [
      "Simulation: 3/5 Sparsity: 21 Testing Edge Laplacian... Done! Test Error: 0.009088413397764129\n"
     ]
    },
    {
     "name": "stderr",
     "output_type": "stream",
     "text": [
      "6it [05:03, 50.55s/it]\n"
     ]
    },
    {
     "name": "stdout",
     "output_type": "stream",
     "text": [
      "Simulation: 3/5 Sparsity: 25 Testing Edge Laplacian... Done! Test Error: 0.006662425609023567\n"
     ]
    },
    {
     "name": "stderr",
     "output_type": "stream",
     "text": [
      "1it [00:09,  9.77s/it]"
     ]
    },
    {
     "name": "stdout",
     "output_type": "stream",
     "text": [
      "Simulation: 4/5 Sparsity: 5 Testing Edge Laplacian... Done! Test Error: 0.10171189653516632\n"
     ]
    },
    {
     "name": "stderr",
     "output_type": "stream",
     "text": [
      "2it [00:51, 28.85s/it]"
     ]
    },
    {
     "name": "stdout",
     "output_type": "stream",
     "text": [
      "Simulation: 4/5 Sparsity: 9 Testing Edge Laplacian... Done! Test Error: 0.046694674652996385\n"
     ]
    },
    {
     "name": "stderr",
     "output_type": "stream",
     "text": [
      "3it [01:17, 27.35s/it]"
     ]
    },
    {
     "name": "stdout",
     "output_type": "stream",
     "text": [
      "Simulation: 4/5 Sparsity: 13 Testing Edge Laplacian... Done! Test Error: 0.029154006632628494\n"
     ]
    },
    {
     "name": "stderr",
     "output_type": "stream",
     "text": [
      "4it [01:59, 33.05s/it]"
     ]
    },
    {
     "name": "stdout",
     "output_type": "stream",
     "text": [
      "Simulation: 4/5 Sparsity: 17 Testing Edge Laplacian... Done! Test Error: 0.01784455113502901\n"
     ]
    },
    {
     "name": "stderr",
     "output_type": "stream",
     "text": [
      "5it [02:59, 42.85s/it]"
     ]
    },
    {
     "name": "stdout",
     "output_type": "stream",
     "text": [
      "Simulation: 4/5 Sparsity: 21 Testing Edge Laplacian... Done! Test Error: 0.010995409257615198\n"
     ]
    },
    {
     "name": "stderr",
     "output_type": "stream",
     "text": [
      "6it [04:34, 45.70s/it]\n"
     ]
    },
    {
     "name": "stdout",
     "output_type": "stream",
     "text": [
      "Simulation: 4/5 Sparsity: 25 Testing Edge Laplacian... Done! Test Error: 0.006944005250621774\n"
     ]
    },
    {
     "name": "stderr",
     "output_type": "stream",
     "text": [
      "1it [00:35, 35.57s/it]"
     ]
    },
    {
     "name": "stdout",
     "output_type": "stream",
     "text": [
      "Simulation: 5/5 Sparsity: 5 Testing Edge Laplacian... Done! Test Error: 0.05805631720952196\n"
     ]
    },
    {
     "name": "stderr",
     "output_type": "stream",
     "text": [
      "2it [00:59, 28.79s/it]"
     ]
    },
    {
     "name": "stdout",
     "output_type": "stream",
     "text": [
      "Simulation: 5/5 Sparsity: 9 Testing Edge Laplacian... Done! Test Error: 0.029341495775329043\n"
     ]
    },
    {
     "name": "stderr",
     "output_type": "stream",
     "text": [
      "3it [01:47, 37.48s/it]"
     ]
    },
    {
     "name": "stdout",
     "output_type": "stream",
     "text": [
      "Simulation: 5/5 Sparsity: 13 Testing Edge Laplacian... Done! Test Error: 0.015356194667097107\n"
     ]
    },
    {
     "name": "stderr",
     "output_type": "stream",
     "text": [
      "4it [02:39, 43.35s/it]"
     ]
    },
    {
     "name": "stdout",
     "output_type": "stream",
     "text": [
      "Simulation: 5/5 Sparsity: 17 Testing Edge Laplacian... Done! Test Error: 0.010440230034497273\n"
     ]
    },
    {
     "name": "stderr",
     "output_type": "stream",
     "text": [
      "5it [04:12, 61.08s/it]"
     ]
    },
    {
     "name": "stdout",
     "output_type": "stream",
     "text": [
      "Simulation: 5/5 Sparsity: 21 Testing Edge Laplacian... Done! Test Error: 0.006000887422160306\n"
     ]
    },
    {
     "name": "stderr",
     "output_type": "stream",
     "text": [
      "6it [06:03, 60.61s/it]"
     ]
    },
    {
     "name": "stdout",
     "output_type": "stream",
     "text": [
      "Simulation: 5/5 Sparsity: 25 Testing Edge Laplacian... Done! Test Error: 0.004364064610978004\n"
     ]
    },
    {
     "name": "stderr",
     "output_type": "stream",
     "text": [
      "\n"
     ]
    }
   ],
   "source": [
    "import warnings\n",
    "warnings.filterwarnings('ignore')\n",
    "\n",
    "min_error_edge_train = np.zeros((n_sim, len(K0_coll)))\n",
    "min_error_edge_test = np.zeros((n_sim, len(K0_coll)))\n",
    "\n",
    "for sim in range(n_sim):\n",
    "    c = c_true[sim]  # d\n",
    "    epsilon = epsilon_true[sim] \n",
    "    for k0_index, k0 in tqdm(enumerate(K0_coll)):\n",
    "        # Initializations\n",
    "        discard = 1\n",
    "        while discard == 1:\n",
    "\n",
    "            try:\n",
    "                D0, X0, discard = initialize_dic(Lu, Ld, s, k, Y_train[:, :, sim], k0, dictionary_type, c, epsilon, \"only_X\")\n",
    "            except:\n",
    "                print(\"Initialization Failed!\")\n",
    "\n",
    "        try:\n",
    "            min_error_edge_train[sim, k0_index], min_error_edge_test[sim, k0_index], _, _, _ = topological_dictionary_learn(Y_train[:,:,sim], Y_test[:,:,sim],\n",
    "                                                                                                                             k, n, s, D0, X0, Lu, Ld, \"edge_laplacian\",\n",
    "                                                                                                                             c, epsilon, k0, lambda_, max_iter, \n",
    "                                                                                                                             patience, tol)\n",
    "            if verbose:\n",
    "                print(f\"Simulation: {sim+1}/{n_sim} Sparsity: {k0} Testing Edge Laplacian... Done! Test Error: {min_error_edge_test[sim, k0_index]}\")\n",
    "        except:\n",
    "            print(f'Simulation: {sim+1}/{n_sim} Sparsity: {k0} Testing Edge Laplacian... Diverged!')\n",
    "            min_error_fou_train[sim, k0_index], min_error_fou_test[sim, k0_index] = (100,100)"
   ]
  },
  {
   "cell_type": "markdown",
   "metadata": {},
   "source": [
    "# Learning with \"joint hodge\""
   ]
  },
  {
   "cell_type": "code",
   "execution_count": 10,
   "metadata": {},
   "outputs": [
    {
     "name": "stderr",
     "output_type": "stream",
     "text": [
      "1it [00:08,  8.40s/it]"
     ]
    },
    {
     "name": "stdout",
     "output_type": "stream",
     "text": [
      "Simulation: 1/5 Sparsity: 5 Testing Joint... Done! Test Error: 0.021478404851397445\n"
     ]
    },
    {
     "name": "stderr",
     "output_type": "stream",
     "text": [
      "2it [00:36, 20.19s/it]"
     ]
    },
    {
     "name": "stdout",
     "output_type": "stream",
     "text": [
      "Simulation: 1/5 Sparsity: 9 Testing Joint... Done! Test Error: 0.006045672309928821\n"
     ]
    },
    {
     "name": "stderr",
     "output_type": "stream",
     "text": [
      "3it [01:06, 24.54s/it]"
     ]
    },
    {
     "name": "stdout",
     "output_type": "stream",
     "text": [
      "Simulation: 1/5 Sparsity: 13 Testing Joint... Done! Test Error: 0.0027724387208997664\n"
     ]
    },
    {
     "name": "stderr",
     "output_type": "stream",
     "text": [
      "4it [01:40, 28.38s/it]"
     ]
    },
    {
     "name": "stdout",
     "output_type": "stream",
     "text": [
      "Simulation: 1/5 Sparsity: 17 Testing Joint... Done! Test Error: 0.0025300971946980648\n"
     ]
    },
    {
     "name": "stderr",
     "output_type": "stream",
     "text": [
      "5it [02:54, 44.74s/it]"
     ]
    },
    {
     "name": "stdout",
     "output_type": "stream",
     "text": [
      "Simulation: 1/5 Sparsity: 21 Testing Joint... Done! Test Error: 0.0014117579781630172\n"
     ]
    },
    {
     "name": "stderr",
     "output_type": "stream",
     "text": [
      "6it [04:03, 40.53s/it]\n"
     ]
    },
    {
     "name": "stdout",
     "output_type": "stream",
     "text": [
      "Simulation: 1/5 Sparsity: 25 Testing Joint... Done! Test Error: 0.0013562978225274487\n"
     ]
    },
    {
     "name": "stderr",
     "output_type": "stream",
     "text": [
      "1it [00:09,  9.27s/it]"
     ]
    },
    {
     "name": "stdout",
     "output_type": "stream",
     "text": [
      "Simulation: 2/5 Sparsity: 5 Testing Joint... Done! Test Error: 0.03885349944674721\n"
     ]
    },
    {
     "name": "stderr",
     "output_type": "stream",
     "text": [
      "2it [00:27, 14.30s/it]"
     ]
    },
    {
     "name": "stdout",
     "output_type": "stream",
     "text": [
      "Simulation: 2/5 Sparsity: 9 Testing Joint... Done! Test Error: 0.010209511403772126\n"
     ]
    },
    {
     "name": "stderr",
     "output_type": "stream",
     "text": [
      "3it [00:52, 19.36s/it]"
     ]
    },
    {
     "name": "stdout",
     "output_type": "stream",
     "text": [
      "Simulation: 2/5 Sparsity: 13 Testing Joint... Done! Test Error: 0.004543998772151681\n"
     ]
    },
    {
     "name": "stderr",
     "output_type": "stream",
     "text": [
      "4it [01:31, 27.24s/it]"
     ]
    },
    {
     "name": "stdout",
     "output_type": "stream",
     "text": [
      "Simulation: 2/5 Sparsity: 17 Testing Joint... Done! Test Error: 0.002341777015926902\n"
     ]
    },
    {
     "name": "stderr",
     "output_type": "stream",
     "text": [
      "5it [02:51, 46.02s/it]"
     ]
    },
    {
     "name": "stdout",
     "output_type": "stream",
     "text": [
      "Simulation: 2/5 Sparsity: 21 Testing Joint... Done! Test Error: 0.0013677745450269916\n"
     ]
    },
    {
     "name": "stderr",
     "output_type": "stream",
     "text": [
      "6it [04:01, 40.32s/it]\n"
     ]
    },
    {
     "name": "stdout",
     "output_type": "stream",
     "text": [
      "Simulation: 2/5 Sparsity: 25 Testing Joint... Done! Test Error: 0.0011559840718098847\n"
     ]
    },
    {
     "name": "stderr",
     "output_type": "stream",
     "text": [
      "1it [00:10, 10.39s/it]"
     ]
    },
    {
     "name": "stdout",
     "output_type": "stream",
     "text": [
      "Simulation: 3/5 Sparsity: 5 Testing Joint... Done! Test Error: 0.03463467451514912\n"
     ]
    },
    {
     "name": "stderr",
     "output_type": "stream",
     "text": [
      "2it [00:26, 13.77s/it]"
     ]
    },
    {
     "name": "stdout",
     "output_type": "stream",
     "text": [
      "Simulation: 3/5 Sparsity: 9 Testing Joint... Done! Test Error: 0.011091970676374373\n"
     ]
    },
    {
     "name": "stderr",
     "output_type": "stream",
     "text": [
      "3it [00:49, 17.78s/it]"
     ]
    },
    {
     "name": "stdout",
     "output_type": "stream",
     "text": [
      "Simulation: 3/5 Sparsity: 13 Testing Joint... Done! Test Error: 0.005591253491603283\n"
     ]
    },
    {
     "name": "stderr",
     "output_type": "stream",
     "text": [
      "4it [01:30, 26.99s/it]"
     ]
    },
    {
     "name": "stdout",
     "output_type": "stream",
     "text": [
      "Simulation: 3/5 Sparsity: 17 Testing Joint... Done! Test Error: 0.0027468602744546303\n"
     ]
    },
    {
     "name": "stderr",
     "output_type": "stream",
     "text": [
      "5it [02:20, 35.57s/it]"
     ]
    },
    {
     "name": "stdout",
     "output_type": "stream",
     "text": [
      "Simulation: 3/5 Sparsity: 21 Testing Joint... Done! Test Error: 0.0019220274071945573\n"
     ]
    },
    {
     "name": "stderr",
     "output_type": "stream",
     "text": [
      "6it [03:45, 37.61s/it]\n"
     ]
    },
    {
     "name": "stdout",
     "output_type": "stream",
     "text": [
      "Simulation: 3/5 Sparsity: 25 Testing Joint... Done! Test Error: 0.0011651140515537106\n"
     ]
    },
    {
     "name": "stderr",
     "output_type": "stream",
     "text": [
      "1it [00:08,  8.17s/it]"
     ]
    },
    {
     "name": "stdout",
     "output_type": "stream",
     "text": [
      "Simulation: 4/5 Sparsity: 5 Testing Joint... Done! Test Error: 0.04407576335465803\n"
     ]
    },
    {
     "name": "stderr",
     "output_type": "stream",
     "text": [
      "2it [00:23, 12.63s/it]"
     ]
    },
    {
     "name": "stdout",
     "output_type": "stream",
     "text": [
      "Simulation: 4/5 Sparsity: 9 Testing Joint... Done! Test Error: 0.01350573834028111\n"
     ]
    },
    {
     "name": "stderr",
     "output_type": "stream",
     "text": [
      "3it [00:54, 20.67s/it]"
     ]
    },
    {
     "name": "stdout",
     "output_type": "stream",
     "text": [
      "Simulation: 4/5 Sparsity: 13 Testing Joint... Done! Test Error: 0.005603121610868816\n"
     ]
    },
    {
     "name": "stderr",
     "output_type": "stream",
     "text": [
      "4it [01:25, 25.07s/it]"
     ]
    },
    {
     "name": "stdout",
     "output_type": "stream",
     "text": [
      "Simulation: 4/5 Sparsity: 17 Testing Joint... Done! Test Error: 0.0033343527749030823\n"
     ]
    },
    {
     "name": "stderr",
     "output_type": "stream",
     "text": [
      "5it [02:04, 29.80s/it]"
     ]
    },
    {
     "name": "stdout",
     "output_type": "stream",
     "text": [
      "Simulation: 4/5 Sparsity: 21 Testing Joint... Done! Test Error: 0.002265274945660683\n"
     ]
    },
    {
     "name": "stderr",
     "output_type": "stream",
     "text": [
      "6it [03:12, 32.08s/it]\n"
     ]
    },
    {
     "name": "stdout",
     "output_type": "stream",
     "text": [
      "Simulation: 4/5 Sparsity: 25 Testing Joint... Done! Test Error: 0.0013258488392726944\n"
     ]
    },
    {
     "name": "stderr",
     "output_type": "stream",
     "text": [
      "1it [00:07,  7.41s/it]"
     ]
    },
    {
     "name": "stdout",
     "output_type": "stream",
     "text": [
      "Simulation: 5/5 Sparsity: 5 Testing Joint... Done! Test Error: 0.016494795812846085\n"
     ]
    },
    {
     "name": "stderr",
     "output_type": "stream",
     "text": [
      "2it [00:24, 13.11s/it]"
     ]
    },
    {
     "name": "stdout",
     "output_type": "stream",
     "text": [
      "Simulation: 5/5 Sparsity: 9 Testing Joint... Done! Test Error: 0.004933112260761433\n"
     ]
    },
    {
     "name": "stderr",
     "output_type": "stream",
     "text": [
      "3it [00:49, 18.62s/it]"
     ]
    },
    {
     "name": "stdout",
     "output_type": "stream",
     "text": [
      "Simulation: 5/5 Sparsity: 13 Testing Joint... Done! Test Error: 0.002876395187358936\n"
     ]
    },
    {
     "name": "stderr",
     "output_type": "stream",
     "text": [
      "4it [01:25, 25.31s/it]"
     ]
    },
    {
     "name": "stdout",
     "output_type": "stream",
     "text": [
      "Simulation: 5/5 Sparsity: 17 Testing Joint... Done! Test Error: 0.001459994364228638\n"
     ]
    },
    {
     "name": "stderr",
     "output_type": "stream",
     "text": [
      "5it [02:36, 41.78s/it]"
     ]
    },
    {
     "name": "stdout",
     "output_type": "stream",
     "text": [
      "Simulation: 5/5 Sparsity: 21 Testing Joint... Done! Test Error: 0.0010263587083214818\n"
     ]
    },
    {
     "name": "stderr",
     "output_type": "stream",
     "text": [
      "6it [04:08, 41.34s/it]"
     ]
    },
    {
     "name": "stdout",
     "output_type": "stream",
     "text": [
      "Simulation: 5/5 Sparsity: 25 Testing Joint... Done! Test Error: 0.0009273327702237809\n"
     ]
    },
    {
     "name": "stderr",
     "output_type": "stream",
     "text": [
      "\n"
     ]
    }
   ],
   "source": [
    "import warnings\n",
    "warnings.filterwarnings('ignore')\n",
    "\n",
    "min_error_joint_train = np.zeros((n_sim, len(K0_coll)))\n",
    "min_error_joint_test = np.zeros((n_sim, len(K0_coll)))\n",
    "\n",
    "for sim in range(n_sim):\n",
    "    c = c_true[sim] \n",
    "    epsilon = epsilon_true[sim] \n",
    "    for k0_index, k0 in tqdm(enumerate(K0_coll)):\n",
    "        discard = 1\n",
    "        while discard == 1:\n",
    "            try:\n",
    "                D0, X0, discard = initialize_dic(Lu, Ld, s, k, Y_train[:, :, sim], k0, dictionary_type, c, epsilon, \"only_X\")\n",
    "            except:\n",
    "                print(\"Initialization Failed!\")\n",
    "            \n",
    "        try:\n",
    "            min_error_joint_train[sim, k0_index], min_error_joint_test[sim, k0_index], _, _, _ = topological_dictionary_learn(Y_train[:,:,sim], Y_test[:,:,sim],\n",
    "                                                                                                                             k, n, s, D0, X0, Lu, Ld, \"joint\",\n",
    "                                                                                                                             c, epsilon, k0, lambda_, max_iter,\n",
    "                                                                                                                             patience, tol)\n",
    "            if verbose:\n",
    "                print(f\"Simulation: {sim+1}/{n_sim} Sparsity: {k0} Testing Joint... Done! Test Error: {min_error_joint_test[sim, k0_index]}\")\n",
    "        except:\n",
    "            print(f'Simulation: {sim+1}/{n_sim} Sparsity: {k0} Testing Joint... Diverged!')\n",
    "            min_error_fou_train[sim, k0_index], min_error_fou_test[sim, k0_index] = (100,100)"
   ]
  },
  {
   "cell_type": "markdown",
   "metadata": {},
   "source": [
    "# Plot Curves"
   ]
  },
  {
   "cell_type": "code",
   "execution_count": 18,
   "metadata": {},
   "outputs": [
    {
     "data": {
      "image/png": "[encoded data removed]",
      "text/plain": [
       "<Figure size 1000x600 with 1 Axes>"
      ]
     },
     "metadata": {},
     "output_type": "display_data"
    }
   ],
   "source": [
    "import matplotlib.pyplot as plt\n",
    "import seaborn as sns\n",
    "\n",
    "TITLE = \"Edge Laplacian\"\n",
    "\n",
    "res_df = pd.DataFrame()\n",
    "dict_types = {\"fou\": \"Fourier\", \"edge\": \"Edge Laplacian\", \"joint\": \"Hodge Laplacian\", \"sep\": \"Separated Hodge Laplacian\"}\n",
    "\n",
    "for d in dict_types.items():\n",
    "    for sim in range(n_sim):\n",
    "        tmp_df = pd.DataFrame()   \n",
    "        tmp_df[\"Error\"] = eval(f'min_error_{d[0]}_test[sim,:]')\n",
    "        tmp_df[\"Sparsity\"] = K0_coll\n",
    "        tmp_df[\"Method\"] = d[1]\n",
    "        res_df = pd.concat([res_df, tmp_df])\n",
    "\n",
    "plt.figure(figsize=(10, 6))\n",
    "sns.set_style('whitegrid')\n",
    "my_plt = sns.lineplot(data=res_df, x='Sparsity', y='Error', hue='Method',\n",
    "                       palette=sns.color_palette(),\n",
    "                       markers=['>', '^', 'v', 'd'], dashes=False, style='Method')\n",
    "my_plt.set(yscale='log')\n",
    "my_plt.set_title(f'True dictionary: {TITLE}')\n",
    "my_plt.set_ylabel('Error (log scale)')\n",
    "plt.show()"
   ]
  },
  {
   "cell_type": "markdown",
   "metadata": {},
   "source": [
    "# Save variables and workspace"
   ]
  },
  {
   "cell_type": "code",
   "execution_count": 19,
   "metadata": {},
   "outputs": [],
   "source": [
    "import pickle\n",
    "import os\n",
    "import dill\n",
    "\n",
    "save_var = {\"min_error_edge_test\":min_error_edge_test,\n",
    "            \"min_error_edge_train\":min_error_edge_train,\n",
    "            \"min_error_fou_test\":min_error_fou_test,\n",
    "            \"min_error_fou_train\":min_error_fou_train,\n",
    "            \"min_error_joint_test\":min_error_joint_test,\n",
    "            \"min_error_joint_train\":min_error_joint_train,\n",
    "            \"min_error_sep_test\":min_error_sep_test,\n",
    "            \"min_error_sep_train\":min_error_sep_train}\n",
    "\n",
    "PATH = os.getcwd()\n",
    "DIR_PATH = f'{PATH}\\\\results\\\\{dictionary_type}'\n",
    "FILENAME_ERR = f'{DIR_PATH}\\\\error.pkl'\n",
    "FILENAME_ENV = f'{DIR_PATH}\\\\ipynb_env.db'\n",
    "FILENAME_PLT = f'{DIR_PATH}\\\\plot.png'\n",
    "\n",
    "if not os.path.exists(DIR_PATH):\n",
    "    os.makedirs(DIR_PATH)\n",
    "    \n",
    "with open(FILENAME_ERR, 'wb') as f: \n",
    "    pickle.dump(save_var, f)\n",
    "f.close()\n",
    "\n",
    "dill.dump_session(FILENAME_ENV)\n",
    "\n",
    "fig = my_plt.get_figure()\n",
    "fig.savefig(FILENAME_PLT)"
   ]
  },
  {
   "cell_type": "markdown",
   "metadata": {},
   "source": [
    "# Vettorizzazione for esterni"
   ]
  },
  {
   "cell_type": "code",
   "execution_count": null,
   "metadata": {},
   "outputs": [],
   "source": [
    "# import scipy.io\n",
    "# mat = scipy.io.loadmat('datiSC.mat')\n",
    "# B1 = mat[\"B1\"]\n",
    "# B2 = mat[\"B2\"]\n",
    "\n",
    "# # Subsampling if needed to decrease complexity\n",
    "# sub_size = 100\n",
    "# B1 = B1[:, :sub_size]\n",
    "# B2 = B2[:sub_size, :]\n",
    "# B2 = B2[:,np.sum(np.abs(B2), 0) == 3]\n",
    "\n",
    "# # Laplacians\n",
    "# Ld = np.matmul(np.transpose(B1), B1, dtype=float)\n",
    "# Lu = np.matmul(B2, np.transpose(B2), dtype=float)\n",
    "# L = Lu+Ld\n",
    "# n =  L.shape[0]\n",
    "# nu = B2.shape[1]\n",
    "# nd = B1.shape[1]\n",
    "# _ ,U = la.eig(L)\n",
    "\n",
    "# # Problem and Dictionary Dimensionalities\n",
    "# dictionary_type_true = \"separated\"\n",
    "# m_train = 150 # Number of Train Signals\n",
    "# m_test = 80 # Number of Test Signal\n",
    "# s_true = 3 # Number of Kernels (Sub-dictionaries)\n",
    "# k_true = 2 # Polynomial order\n",
    "# sparsity = .1 # Sparsity percentage\n",
    "# K0_max = 20 #floor(n*sparsity) # Sparsity\n",
    "# sparsity_mode = \"max\"\n",
    "\n",
    "# # Data-Independent Problem Hyperparameters\n",
    "# dictionary_type = dictionary_type_true\n",
    "# s = s_true\n",
    "# k = k_true\n",
    "# K0_coll = np.arange(5, 26, 4) # K0_coll = 5:4:25 %4:4:40 %5:3:20\n",
    "# lambda_ = 1e-6 # l2 multiplier\n",
    "# max_iter = 100 # Maximum number of iterations\n",
    "# patience = 5 # Patience\n",
    "# tol = 1e-7 # Tolerance for Patience\n",
    "# n_sim = 10\n",
    "# verbose = 0\n",
    "# # for sim in range(5,n_sim):\n",
    "# tmp_res = pd.DataFrame()\n",
    "# def vectorized_generation(Lu,Ld,m_train,m_test,s, K, K0, dictionary_type, sparsity_mode):\n",
    "#     D_try, h, Y_train_try, Y_test_try, epsilon_try, c_try, X_train_try, X_test_try = create_ground_truth(Lu,\n",
    "#                                                                                 Ld,\n",
    "#                                                                                 m_train,\n",
    "#                                                                                 m_test, \n",
    "#                                                                                 s=s, \n",
    "#                                                                                 K=K, \n",
    "#                                                                                 K0=K0, \n",
    "#                                                                                 dictionary_type=dictionary_type, \n",
    "#                                                                                 sparsity_mode=sparsity_mode)\n",
    "#     res_dict ={\"D_try\":D_try,\n",
    "#             \"h\":h,\n",
    "#             \"Y_train_try\":Y_train_try,\n",
    "#             \"Y_test_try\":Y_test_try,\n",
    "#             \"epsilon_try\":epsilon_try,\n",
    "#             \"c_try\":c_try,\n",
    "#             \"X_train_try\":X_train_try,\n",
    "#             \"X_test_try\":X_test_try}\n",
    "#     return res_dict\n",
    "\n",
    "# def vectorized_verify(row, K0_max, acc_tresh):\n",
    "#     D_try=row[\"D_try\"]\n",
    "#     Y_train_try=row[\"Y_train_try\"]\n",
    "#     X_train_try=row[\"X_train_try\"]\n",
    "#     max_possible_sparsity, acc = verify_dic(D_try, Y_train_try, X_train_try, K0_max, acc_tresh)\n",
    "#     row[\"acc\"] = acc\n",
    "#     row[\"max_s\"] = max_possible_sparsity\n",
    "#     return row\n",
    "\n",
    "# tmp_res[\"search\"] = np.arange(3000)\n",
    "# tmp_res[\"res_dict\"] = tmp_res.search.apply(lambda row: vectorized_generation(Lu,Ld,m_train,m_test,s=s, K=k, K0=K0_max, dictionary_type=dictionary_type, sparsity_mode=sparsity_mode))\n",
    "# tmp_res[\"res_dict\"] = tmp_res.res_dict.apply(lambda row:  vectorized_verify(row, K0_max, 0.7))"
   ]
  },
  {
   "cell_type": "code",
   "execution_count": 3,
   "metadata": {},
   "outputs": [],
   "source": [
    "import scipy.io\n",
    "\n",
    "# Load the graph\n",
    "mat = scipy.io.loadmat('datiSC.mat')\n",
    "B1 = mat[\"B1\"]\n",
    "B2 = mat[\"B2\"]"
   ]
  },
  {
   "cell_type": "code",
   "execution_count": 22,
   "metadata": {},
   "outputs": [],
   "source": [
    "G = mat[\"G1\"]"
   ]
  },
  {
   "cell_type": "code",
   "execution_count": 51,
   "metadata": {},
   "outputs": [],
   "source": [
    "import networkx as nx\n",
    "gg = nx.erdos_renyi_graph(40, 0.162, seed=0)"
   ]
  },
  {
   "cell_type": "code",
   "execution_count": 1,
   "metadata": {},
   "outputs": [],
   "source": []
  }
 ],
 "metadata": {
  "kernelspec": {
   "display_name": "base",
   "language": "python",
   "name": "python3"
  },
  "language_info": {
   "codemirror_mode": {
    "name": "ipython",
    "version": 3
   },
   "file_extension": ".py",
   "mimetype": "text/x-python",
   "name": "python",
   "nbconvert_exporter": "python",
   "pygments_lexer": "ipython3",
   "version": "3.9.17"
  }
 },
 "nbformat": 4,
 "nbformat_minor": 2
}
